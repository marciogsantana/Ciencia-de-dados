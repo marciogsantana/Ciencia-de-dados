{
  "nbformat": 4,
  "nbformat_minor": 0,
  "metadata": {
    "application/vnd.databricks.v1+notebook": {
      "notebookName": "aula_2_TPD",
      "dashboards": [],
      "language": "python",
      "widgets": {},
      "notebookOrigID": 1403147117809227
    },
    "colab": {
      "name": "aula_2_TPD.ipynb",
      "provenance": [],
      "include_colab_link": true
    }
  },
  "cells": [
    {
      "cell_type": "markdown",
      "metadata": {
        "id": "view-in-github",
        "colab_type": "text"
      },
      "source": [
        "<a href=\"https://colab.research.google.com/github/marciogsantana/Ciencia-de-dados/blob/main/aula_2_TPD.ipynb\" target=\"_parent\"><img src=\"https://colab.research.google.com/assets/colab-badge.svg\" alt=\"Open In Colab\"/></a>"
      ]
    },
    {
      "cell_type": "code",
      "metadata": {
        "application/vnd.databricks.v1+cell": {
          "title": "",
          "showTitle": false,
          "inputWidgets": {},
          "nuid": "aed27f2a-0cfb-46ad-8d0a-7edf71faa832"
        },
        "id": "G_CdmrrqbA6f",
        "outputId": "f06807cd-2745-4072-8324-ea473758b59d"
      },
      "source": [
        "#notebook para a segunda aula interativa de TPD"
      ],
      "execution_count": null,
      "outputs": [
        {
          "output_type": "display_data",
          "data": {
            "text/html": [
              "<style scoped>\n",
              "  .ansiout {\n",
              "    display: block;\n",
              "    unicode-bidi: embed;\n",
              "    white-space: pre-wrap;\n",
              "    word-wrap: break-word;\n",
              "    word-break: break-all;\n",
              "    font-family: \"Source Code Pro\", \"Menlo\", monospace;;\n",
              "    font-size: 13px;\n",
              "    color: #555;\n",
              "    margin-left: 4px;\n",
              "    line-height: 19px;\n",
              "  }\n",
              "</style>\n",
              "<div class=\"ansiout\"></div>"
            ]
          },
          "metadata": {
            "tags": [],
            "application/vnd.databricks.v1+output": {
              "datasetInfos": [],
              "data": "<div class=\"ansiout\"></div>",
              "removedWidgets": [],
              "addedWidgets": {},
              "type": "html",
              "arguments": {}
            }
          }
        }
      ]
    },
    {
      "cell_type": "markdown",
      "metadata": {
        "application/vnd.databricks.v1+cell": {
          "title": "",
          "showTitle": false,
          "inputWidgets": {},
          "nuid": "882925a2-91da-4565-b16c-038af272645b"
        },
        "id": "-72dE1NNbA6k"
      },
      "source": [
        "1) Iniciar a seção SPARK"
      ]
    },
    {
      "cell_type": "code",
      "metadata": {
        "application/vnd.databricks.v1+cell": {
          "title": "",
          "showTitle": false,
          "inputWidgets": {},
          "nuid": "9246119d-5fa9-4439-a2b6-60d3f8929aec"
        },
        "id": "vh50Xqy3bA6m",
        "outputId": "ca5ff2f9-9fc1-420b-e2ee-dd5d35305e7d"
      },
      "source": [
        "from pyspark.sql import SparkSession #importa a biblioteca que cria a seção do spark"
      ],
      "execution_count": null,
      "outputs": [
        {
          "output_type": "display_data",
          "data": {
            "text/html": [
              "<style scoped>\n",
              "  .ansiout {\n",
              "    display: block;\n",
              "    unicode-bidi: embed;\n",
              "    white-space: pre-wrap;\n",
              "    word-wrap: break-word;\n",
              "    word-break: break-all;\n",
              "    font-family: \"Source Code Pro\", \"Menlo\", monospace;;\n",
              "    font-size: 13px;\n",
              "    color: #555;\n",
              "    margin-left: 4px;\n",
              "    line-height: 19px;\n",
              "  }\n",
              "</style>\n",
              "<div class=\"ansiout\"></div>"
            ]
          },
          "metadata": {
            "tags": [],
            "application/vnd.databricks.v1+output": {
              "datasetInfos": [],
              "data": "<div class=\"ansiout\"></div>",
              "removedWidgets": [],
              "addedWidgets": {},
              "type": "html",
              "arguments": {}
            }
          }
        }
      ]
    },
    {
      "cell_type": "code",
      "metadata": {
        "application/vnd.databricks.v1+cell": {
          "title": "",
          "showTitle": false,
          "inputWidgets": {},
          "nuid": "c851ba4a-142a-4896-8a9a-2ec9bfb810fb"
        },
        "id": "sLsmVH6NbA6n",
        "outputId": "6058d941-53d6-4fec-ec58-2d6ba0761a80"
      },
      "source": [
        "#inicia a seção para a utilização do spark\n",
        "spark = SparkSession.builder.appName(\"aula_2\").getOrCreate() #cria a seção caso não exista ou obtém a já criada"
      ],
      "execution_count": null,
      "outputs": [
        {
          "output_type": "display_data",
          "data": {
            "text/html": [
              "<style scoped>\n",
              "  .ansiout {\n",
              "    display: block;\n",
              "    unicode-bidi: embed;\n",
              "    white-space: pre-wrap;\n",
              "    word-wrap: break-word;\n",
              "    word-break: break-all;\n",
              "    font-family: \"Source Code Pro\", \"Menlo\", monospace;;\n",
              "    font-size: 13px;\n",
              "    color: #555;\n",
              "    margin-left: 4px;\n",
              "    line-height: 19px;\n",
              "  }\n",
              "</style>\n",
              "<div class=\"ansiout\"></div>"
            ]
          },
          "metadata": {
            "tags": [],
            "application/vnd.databricks.v1+output": {
              "datasetInfos": [],
              "data": "<div class=\"ansiout\"></div>",
              "removedWidgets": [],
              "addedWidgets": {},
              "type": "html",
              "arguments": {}
            }
          }
        }
      ]
    },
    {
      "cell_type": "code",
      "metadata": {
        "application/vnd.databricks.v1+cell": {
          "title": "",
          "showTitle": false,
          "inputWidgets": {},
          "nuid": "f727e43c-b625-4507-9473-030612403235"
        },
        "id": "h0b1M0orbA6o",
        "outputId": "cd2c8c74-b254-42f4-a165-7db1cd7b514c"
      },
      "source": [
        "%fs ls /FileStore/tables    "
      ],
      "execution_count": null,
      "outputs": [
        {
          "output_type": "display_data",
          "data": {
            "text/html": [
              "<style scoped>\n",
              "  .table-result-container {\n",
              "    max-height: 300px;\n",
              "    overflow: auto;\n",
              "  }\n",
              "  table, th, td {\n",
              "    border: 1px solid black;\n",
              "    border-collapse: collapse;\n",
              "  }\n",
              "  th, td {\n",
              "    padding: 5px;\n",
              "  }\n",
              "  th {\n",
              "    text-align: left;\n",
              "  }\n",
              "</style><div class='table-result-container'><table class='table-result'><thead style='background-color: white'><tr><th>path</th><th>name</th><th>size</th></tr></thead><tbody><tr><td>dbfs:/FileStore/tables/Mall_Customers.csv</td><td>Mall_Customers.csv</td><td>4286</td></tr><tr><td>dbfs:/FileStore/tables/Police_Department_Incident_Reports__Historical_2003_to_May_2018.csv</td><td>Police_Department_Incident_Reports__Historical_2003_to_May_2018.csv</td><td>463094961</td></tr><tr><td>dbfs:/FileStore/tables/Webinar_MLE_04_06.pptx</td><td>Webinar_MLE_04_06.pptx</td><td>5268055</td></tr><tr><td>dbfs:/FileStore/tables/adult_data.csv</td><td>adult_data.csv</td><td>5608318</td></tr><tr><td>dbfs:/FileStore/tables/d1995_07_01-24d0c.json</td><td>d1995_07_01-24d0c.json</td><td>7451741</td></tr><tr><td>dbfs:/FileStore/tables/d1995_07_02-c3f44.json</td><td>d1995_07_02-c3f44.json</td><td>9572086</td></tr><tr><td>dbfs:/FileStore/tables/d1995_07_03-f99af.json</td><td>d1995_07_03-f99af.json</td><td>14125303</td></tr><tr><td>dbfs:/FileStore/tables/d1995_07_04-c5a7f.json</td><td>d1995_07_04-c5a7f.json</td><td>12030333</td></tr><tr><td>dbfs:/FileStore/tables/d1995_07_05-0f261.json</td><td>d1995_07_05-0f261.json</td><td>14662194</td></tr><tr><td>dbfs:/FileStore/tables/d1995_07_06-20619.json</td><td>d1995_07_06-20619.json</td><td>15557682</td></tr><tr><td>dbfs:/FileStore/tables/d1995_07_07-2dd8d.json</td><td>d1995_07_07-2dd8d.json</td><td>15279295</td></tr><tr><td>dbfs:/FileStore/tables/d1995_07_08-83302.json</td><td>d1995_07_08-83302.json</td><td>7033852</td></tr><tr><td>dbfs:/FileStore/tables/d1995_07_09-f75d3.json</td><td>d1995_07_09-f75d3.json</td><td>5589076</td></tr><tr><td>dbfs:/FileStore/tables/d1995_07_10-160a3.json</td><td>d1995_07_10-160a3.json</td><td>10616482</td></tr><tr><td>dbfs:/FileStore/tables/d1995_07_11-8800f.json</td><td>d1995_07_11-8800f.json</td><td>12486245</td></tr><tr><td>dbfs:/FileStore/tables/d1995_07_12-3091c.json</td><td>d1995_07_12-3091c.json</td><td>14080494</td></tr><tr><td>dbfs:/FileStore/tables/d1995_07_13-242b2.json</td><td>d1995_07_13-242b2.json</td><td>21989188</td></tr><tr><td>dbfs:/FileStore/tables/d1995_07_14-bab67.json</td><td>d1995_07_14-bab67.json</td><td>13780636</td></tr><tr><td>dbfs:/FileStore/tables/d1995_07_15-57e08.json</td><td>d1995_07_15-57e08.json</td><td>8057272</td></tr><tr><td>dbfs:/FileStore/tables/d1995_07_16-2ca03.json</td><td>d1995_07_16-2ca03.json</td><td>7171848</td></tr><tr><td>dbfs:/FileStore/tables/d1995_07_17-905a5.json</td><td>d1995_07_17-905a5.json</td><td>11897536</td></tr><tr><td>dbfs:/FileStore/tables/d1995_07_18-13b8b.json</td><td>d1995_07_18-13b8b.json</td><td>10569098</td></tr><tr><td>dbfs:/FileStore/tables/d1995_07_19-e2537.json</td><td>d1995_07_19-e2537.json</td><td>11515206</td></tr><tr><td>dbfs:/FileStore/tables/d1995_07_20-0f6d2.json</td><td>d1995_07_20-0f6d2.json</td><td>11049142</td></tr><tr><td>dbfs:/FileStore/tables/d1995_07_21-37a88.json</td><td>d1995_07_21-37a88.json</td><td>10475868</td></tr><tr><td>dbfs:/FileStore/tables/d1995_07_22-3b894.json</td><td>d1995_07_22-3b894.json</td><td>6028420</td></tr><tr><td>dbfs:/FileStore/tables/d1995_07_23-8d606.json</td><td>d1995_07_23-8d606.json</td><td>5620028</td></tr><tr><td>dbfs:/FileStore/tables/d1995_07_24-bcae5.json</td><td>d1995_07_24-bcae5.json</td><td>10433367</td></tr><tr><td>dbfs:/FileStore/tables/d1995_07_25-22c14.json</td><td>d1995_07_25-22c14.json</td><td>9883055</td></tr><tr><td>dbfs:/FileStore/tables/d1995_07_26-8a504.json</td><td>d1995_07_26-8a504.json</td><td>9087395</td></tr><tr><td>dbfs:/FileStore/tables/d1995_07_27-32f69.json</td><td>d1995_07_27-32f69.json</td><td>10172162</td></tr><tr><td>dbfs:/FileStore/tables/d1995_07_28-8d6d2.json</td><td>d1995_07_28-8d6d2.json</td><td>6206927</td></tr><tr><td>dbfs:/FileStore/tables/datasets_228_482_diabetes.csv</td><td>datasets_228_482_diabetes.csv</td><td>23873</td></tr><tr><td>dbfs:/FileStore/tables/designation.json</td><td>designation.json</td><td>400</td></tr><tr><td>dbfs:/FileStore/tables/digits.csv</td><td>digits.csv</td><td>338477</td></tr><tr><td>dbfs:/FileStore/tables/digitsNew.csv</td><td>digitsNew.csv</td><td>76775041</td></tr><tr><td>dbfs:/FileStore/tables/healthcare_dataset_stroke_data.csv</td><td>healthcare_dataset_stroke_data.csv</td><td>316971</td></tr><tr><td>dbfs:/FileStore/tables/iris_bezdekIris.csv</td><td>iris_bezdekIris.csv</td><td>4551</td></tr><tr><td>dbfs:/FileStore/tables/kddcup_data_10_percent_corrected-2f6f3</td><td>kddcup_data_10_percent_corrected-2f6f3</td><td>74889749</td></tr><tr><td>dbfs:/FileStore/tables/regressaoLinear.csv</td><td>regressaoLinear.csv</td><td>564</td></tr><tr><td>dbfs:/FileStore/tables/salario_df.csv</td><td>salario_df.csv</td><td>2505</td></tr><tr><td>dbfs:/FileStore/tables/salary.json</td><td>salary.json</td><td>361</td></tr><tr><td>dbfs:/FileStore/tables/temperature.csv</td><td>temperature.csv</td><td>13971171</td></tr><tr><td>dbfs:/FileStore/tables/transport_nodes-7c826.csv</td><td>transport_nodes-7c826.csv</td><td>465</td></tr><tr><td>dbfs:/FileStore/tables/transport_relationships-c2bfc.csv</td><td>transport_relationships-c2bfc.csv</td><td>550</td></tr><tr><td>dbfs:/FileStore/tables/u.data</td><td>u.data</td><td>1979173</td></tr><tr><td>dbfs:/FileStore/tables/winequality_red-42ff5.csv</td><td>winequality_red-42ff5.csv</td><td>84199</td></tr><tr><td>dbfs:/FileStore/tables/worldcities.csv</td><td>worldcities.csv</td><td>1667065</td></tr></tbody></table></div>"
            ]
          },
          "metadata": {
            "tags": [],
            "application/vnd.databricks.v1+output": {
              "overflow": false,
              "datasetInfos": [],
              "data": [
                [
                  "dbfs:/FileStore/tables/Mall_Customers.csv",
                  "Mall_Customers.csv",
                  4286
                ],
                [
                  "dbfs:/FileStore/tables/Police_Department_Incident_Reports__Historical_2003_to_May_2018.csv",
                  "Police_Department_Incident_Reports__Historical_2003_to_May_2018.csv",
                  463094961
                ],
                [
                  "dbfs:/FileStore/tables/Webinar_MLE_04_06.pptx",
                  "Webinar_MLE_04_06.pptx",
                  5268055
                ],
                [
                  "dbfs:/FileStore/tables/adult_data.csv",
                  "adult_data.csv",
                  5608318
                ],
                [
                  "dbfs:/FileStore/tables/d1995_07_01-24d0c.json",
                  "d1995_07_01-24d0c.json",
                  7451741
                ],
                [
                  "dbfs:/FileStore/tables/d1995_07_02-c3f44.json",
                  "d1995_07_02-c3f44.json",
                  9572086
                ],
                [
                  "dbfs:/FileStore/tables/d1995_07_03-f99af.json",
                  "d1995_07_03-f99af.json",
                  14125303
                ],
                [
                  "dbfs:/FileStore/tables/d1995_07_04-c5a7f.json",
                  "d1995_07_04-c5a7f.json",
                  12030333
                ],
                [
                  "dbfs:/FileStore/tables/d1995_07_05-0f261.json",
                  "d1995_07_05-0f261.json",
                  14662194
                ],
                [
                  "dbfs:/FileStore/tables/d1995_07_06-20619.json",
                  "d1995_07_06-20619.json",
                  15557682
                ],
                [
                  "dbfs:/FileStore/tables/d1995_07_07-2dd8d.json",
                  "d1995_07_07-2dd8d.json",
                  15279295
                ],
                [
                  "dbfs:/FileStore/tables/d1995_07_08-83302.json",
                  "d1995_07_08-83302.json",
                  7033852
                ],
                [
                  "dbfs:/FileStore/tables/d1995_07_09-f75d3.json",
                  "d1995_07_09-f75d3.json",
                  5589076
                ],
                [
                  "dbfs:/FileStore/tables/d1995_07_10-160a3.json",
                  "d1995_07_10-160a3.json",
                  10616482
                ],
                [
                  "dbfs:/FileStore/tables/d1995_07_11-8800f.json",
                  "d1995_07_11-8800f.json",
                  12486245
                ],
                [
                  "dbfs:/FileStore/tables/d1995_07_12-3091c.json",
                  "d1995_07_12-3091c.json",
                  14080494
                ],
                [
                  "dbfs:/FileStore/tables/d1995_07_13-242b2.json",
                  "d1995_07_13-242b2.json",
                  21989188
                ],
                [
                  "dbfs:/FileStore/tables/d1995_07_14-bab67.json",
                  "d1995_07_14-bab67.json",
                  13780636
                ],
                [
                  "dbfs:/FileStore/tables/d1995_07_15-57e08.json",
                  "d1995_07_15-57e08.json",
                  8057272
                ],
                [
                  "dbfs:/FileStore/tables/d1995_07_16-2ca03.json",
                  "d1995_07_16-2ca03.json",
                  7171848
                ],
                [
                  "dbfs:/FileStore/tables/d1995_07_17-905a5.json",
                  "d1995_07_17-905a5.json",
                  11897536
                ],
                [
                  "dbfs:/FileStore/tables/d1995_07_18-13b8b.json",
                  "d1995_07_18-13b8b.json",
                  10569098
                ],
                [
                  "dbfs:/FileStore/tables/d1995_07_19-e2537.json",
                  "d1995_07_19-e2537.json",
                  11515206
                ],
                [
                  "dbfs:/FileStore/tables/d1995_07_20-0f6d2.json",
                  "d1995_07_20-0f6d2.json",
                  11049142
                ],
                [
                  "dbfs:/FileStore/tables/d1995_07_21-37a88.json",
                  "d1995_07_21-37a88.json",
                  10475868
                ],
                [
                  "dbfs:/FileStore/tables/d1995_07_22-3b894.json",
                  "d1995_07_22-3b894.json",
                  6028420
                ],
                [
                  "dbfs:/FileStore/tables/d1995_07_23-8d606.json",
                  "d1995_07_23-8d606.json",
                  5620028
                ],
                [
                  "dbfs:/FileStore/tables/d1995_07_24-bcae5.json",
                  "d1995_07_24-bcae5.json",
                  10433367
                ],
                [
                  "dbfs:/FileStore/tables/d1995_07_25-22c14.json",
                  "d1995_07_25-22c14.json",
                  9883055
                ],
                [
                  "dbfs:/FileStore/tables/d1995_07_26-8a504.json",
                  "d1995_07_26-8a504.json",
                  9087395
                ],
                [
                  "dbfs:/FileStore/tables/d1995_07_27-32f69.json",
                  "d1995_07_27-32f69.json",
                  10172162
                ],
                [
                  "dbfs:/FileStore/tables/d1995_07_28-8d6d2.json",
                  "d1995_07_28-8d6d2.json",
                  6206927
                ],
                [
                  "dbfs:/FileStore/tables/datasets_228_482_diabetes.csv",
                  "datasets_228_482_diabetes.csv",
                  23873
                ],
                [
                  "dbfs:/FileStore/tables/designation.json",
                  "designation.json",
                  400
                ],
                [
                  "dbfs:/FileStore/tables/digits.csv",
                  "digits.csv",
                  338477
                ],
                [
                  "dbfs:/FileStore/tables/digitsNew.csv",
                  "digitsNew.csv",
                  76775041
                ],
                [
                  "dbfs:/FileStore/tables/healthcare_dataset_stroke_data.csv",
                  "healthcare_dataset_stroke_data.csv",
                  316971
                ],
                [
                  "dbfs:/FileStore/tables/iris_bezdekIris.csv",
                  "iris_bezdekIris.csv",
                  4551
                ],
                [
                  "dbfs:/FileStore/tables/kddcup_data_10_percent_corrected-2f6f3",
                  "kddcup_data_10_percent_corrected-2f6f3",
                  74889749
                ],
                [
                  "dbfs:/FileStore/tables/regressaoLinear.csv",
                  "regressaoLinear.csv",
                  564
                ],
                [
                  "dbfs:/FileStore/tables/salario_df.csv",
                  "salario_df.csv",
                  2505
                ],
                [
                  "dbfs:/FileStore/tables/salary.json",
                  "salary.json",
                  361
                ],
                [
                  "dbfs:/FileStore/tables/temperature.csv",
                  "temperature.csv",
                  13971171
                ],
                [
                  "dbfs:/FileStore/tables/transport_nodes-7c826.csv",
                  "transport_nodes-7c826.csv",
                  465
                ],
                [
                  "dbfs:/FileStore/tables/transport_relationships-c2bfc.csv",
                  "transport_relationships-c2bfc.csv",
                  550
                ],
                [
                  "dbfs:/FileStore/tables/u.data",
                  "u.data",
                  1979173
                ],
                [
                  "dbfs:/FileStore/tables/winequality_red-42ff5.csv",
                  "winequality_red-42ff5.csv",
                  84199
                ],
                [
                  "dbfs:/FileStore/tables/worldcities.csv",
                  "worldcities.csv",
                  1667065
                ]
              ],
              "plotOptions": {
                "displayType": "table",
                "customPlotOptions": {},
                "pivotColumns": null,
                "pivotAggregation": null,
                "xColumns": null,
                "yColumns": null
              },
              "columnCustomDisplayInfos": {},
              "aggType": "",
              "isJsonSchema": true,
              "removedWidgets": [],
              "aggSchema": [],
              "schema": [
                {
                  "name": "path",
                  "type": "\"string\"",
                  "metadata": "{}"
                },
                {
                  "name": "name",
                  "type": "\"string\"",
                  "metadata": "{}"
                },
                {
                  "name": "size",
                  "type": "\"long\"",
                  "metadata": "{}"
                }
              ],
              "aggError": "",
              "aggData": [],
              "addedWidgets": {},
              "dbfsResultPath": null,
              "type": "table",
              "aggOverflow": false,
              "aggSeriesLimitReached": false,
              "arguments": {}
            }
          }
        }
      ]
    },
    {
      "cell_type": "code",
      "metadata": {
        "application/vnd.databricks.v1+cell": {
          "title": "",
          "showTitle": false,
          "inputWidgets": {},
          "nuid": "f158e2c6-d32f-4082-9f6d-2352ef5903fc"
        },
        "id": "uEPoWqe3bA6p",
        "outputId": "df1318e7-6d83-4949-9e6c-6f67728f4909"
      },
      "source": [
        "diretorio_dataset=\"/FileStore/tables/adult_data.csv\"  #diretório que contém o arquivo a ser utilizado"
      ],
      "execution_count": null,
      "outputs": [
        {
          "output_type": "display_data",
          "data": {
            "text/html": [
              "<style scoped>\n",
              "  .ansiout {\n",
              "    display: block;\n",
              "    unicode-bidi: embed;\n",
              "    white-space: pre-wrap;\n",
              "    word-wrap: break-word;\n",
              "    word-break: break-all;\n",
              "    font-family: \"Source Code Pro\", \"Menlo\", monospace;;\n",
              "    font-size: 13px;\n",
              "    color: #555;\n",
              "    margin-left: 4px;\n",
              "    line-height: 19px;\n",
              "  }\n",
              "</style>\n",
              "<div class=\"ansiout\"></div>"
            ]
          },
          "metadata": {
            "tags": [],
            "application/vnd.databricks.v1+output": {
              "datasetInfos": [],
              "data": "<div class=\"ansiout\"></div>",
              "removedWidgets": [],
              "addedWidgets": {},
              "type": "html",
              "arguments": {}
            }
          }
        }
      ]
    },
    {
      "cell_type": "code",
      "metadata": {
        "application/vnd.databricks.v1+cell": {
          "title": "",
          "showTitle": false,
          "inputWidgets": {},
          "nuid": "04666d24-fc22-4184-987b-ae423dbcb77b"
        },
        "id": "01F1LOyFbA6q",
        "outputId": "b71fddb1-71f8-47f4-c8e5-2e1f30292ebf"
      },
      "source": [
        "data = spark.read.format(\"csv\").options(header=\"true\", inferschema=\"true\").load(diretorio_dataset)  #realiza a leitura do dataset"
      ],
      "execution_count": null,
      "outputs": [
        {
          "output_type": "display_data",
          "data": {
            "text/html": [
              "<style scoped>\n",
              "  .ansiout {\n",
              "    display: block;\n",
              "    unicode-bidi: embed;\n",
              "    white-space: pre-wrap;\n",
              "    word-wrap: break-word;\n",
              "    word-break: break-all;\n",
              "    font-family: \"Source Code Pro\", \"Menlo\", monospace;;\n",
              "    font-size: 13px;\n",
              "    color: #555;\n",
              "    margin-left: 4px;\n",
              "    line-height: 19px;\n",
              "  }\n",
              "</style>\n",
              "<div class=\"ansiout\"></div>"
            ]
          },
          "metadata": {
            "tags": [],
            "application/vnd.databricks.v1+output": {
              "datasetInfos": [],
              "data": "<div class=\"ansiout\"></div>",
              "removedWidgets": [],
              "addedWidgets": {},
              "type": "html",
              "arguments": {}
            }
          }
        }
      ]
    },
    {
      "cell_type": "code",
      "metadata": {
        "application/vnd.databricks.v1+cell": {
          "title": "",
          "showTitle": false,
          "inputWidgets": {},
          "nuid": "33e2ccf2-9754-4f95-93c9-62d3b00e2977"
        },
        "id": "1z0UzWNObA6r",
        "outputId": "7d66b171-1abe-49c8-b976-b3942d23ec7e"
      },
      "source": [
        "data.printSchema() #mostra o esquema inferido pelas variáveis"
      ],
      "execution_count": null,
      "outputs": [
        {
          "output_type": "display_data",
          "data": {
            "text/html": [
              "<style scoped>\n",
              "  .ansiout {\n",
              "    display: block;\n",
              "    unicode-bidi: embed;\n",
              "    white-space: pre-wrap;\n",
              "    word-wrap: break-word;\n",
              "    word-break: break-all;\n",
              "    font-family: \"Source Code Pro\", \"Menlo\", monospace;;\n",
              "    font-size: 13px;\n",
              "    color: #555;\n",
              "    margin-left: 4px;\n",
              "    line-height: 19px;\n",
              "  }\n",
              "</style>\n",
              "<div class=\"ansiout\">root\n",
              "-- x: integer (nullable = true)\n",
              "-- age: integer (nullable = true)\n",
              "-- workclass: string (nullable = true)\n",
              "-- fnlwgt: integer (nullable = true)\n",
              "-- education: string (nullable = true)\n",
              "-- educational-num: integer (nullable = true)\n",
              "-- marital-status: string (nullable = true)\n",
              "-- occupation: string (nullable = true)\n",
              "-- relationship: string (nullable = true)\n",
              "-- race: string (nullable = true)\n",
              "-- gender: string (nullable = true)\n",
              "-- capital-gain: integer (nullable = true)\n",
              "-- capital-loss: integer (nullable = true)\n",
              "-- hours-per-week: integer (nullable = true)\n",
              "-- native-country: string (nullable = true)\n",
              "-- income: string (nullable = true)\n",
              "\n",
              "</div>"
            ]
          },
          "metadata": {
            "tags": [],
            "application/vnd.databricks.v1+output": {
              "datasetInfos": [],
              "data": "<div class=\"ansiout\">root\n |-- x: integer (nullable = true)\n |-- age: integer (nullable = true)\n |-- workclass: string (nullable = true)\n |-- fnlwgt: integer (nullable = true)\n |-- education: string (nullable = true)\n |-- educational-num: integer (nullable = true)\n |-- marital-status: string (nullable = true)\n |-- occupation: string (nullable = true)\n |-- relationship: string (nullable = true)\n |-- race: string (nullable = true)\n |-- gender: string (nullable = true)\n |-- capital-gain: integer (nullable = true)\n |-- capital-loss: integer (nullable = true)\n |-- hours-per-week: integer (nullable = true)\n |-- native-country: string (nullable = true)\n |-- income: string (nullable = true)\n\n</div>",
              "removedWidgets": [],
              "addedWidgets": {},
              "type": "html",
              "arguments": {}
            }
          }
        }
      ]
    },
    {
      "cell_type": "markdown",
      "metadata": {
        "application/vnd.databricks.v1+cell": {
          "title": "",
          "showTitle": false,
          "inputWidgets": {},
          "nuid": "37ac0e16-67f9-4f33-bd25-5215c5e6dd1d"
        },
        "id": "1Ub_QMADbA6s"
      },
      "source": [
        "2) Conhecendo o dataset"
      ]
    },
    {
      "cell_type": "code",
      "metadata": {
        "application/vnd.databricks.v1+cell": {
          "title": "",
          "showTitle": false,
          "inputWidgets": {},
          "nuid": "c20590ed-0289-48eb-8210-861f06cfc35b"
        },
        "id": "DIu9cOUAbA6s",
        "outputId": "6f01178a-e091-4d03-d350-757d97e6348c"
      },
      "source": [
        "data.show() #mostra as linhas iniciais do dataset"
      ],
      "execution_count": null,
      "outputs": [
        {
          "output_type": "display_data",
          "data": {
            "text/html": [
              "<style scoped>\n",
              "  .ansiout {\n",
              "    display: block;\n",
              "    unicode-bidi: embed;\n",
              "    white-space: pre-wrap;\n",
              "    word-wrap: break-word;\n",
              "    word-break: break-all;\n",
              "    font-family: \"Source Code Pro\", \"Menlo\", monospace;;\n",
              "    font-size: 13px;\n",
              "    color: #555;\n",
              "    margin-left: 4px;\n",
              "    line-height: 19px;\n",
              "  }\n",
              "</style>\n",
              "<div class=\"ansiout\">+---+---+----------------+------+------------+---------------+------------------+-----------------+-------------+------------------+------+------------+------------+--------------+--------------+------+\n",
              "  x|age|       workclass|fnlwgt|   education|educational-num|    marital-status|       occupation| relationship|              race|gender|capital-gain|capital-loss|hours-per-week|native-country|income|\n",
              "+---+---+----------------+------+------------+---------------+------------------+-----------------+-------------+------------------+------+------------+------------+--------------+--------------+------+\n",
              "  1| 25|         Private|226802|        11th|              7|     Never-married|Machine-op-inspct|    Own-child|             Black|  Male|           0|           0|            40| United-States| &lt;=50K|\n",
              "  2| 38|         Private| 89814|     HS-grad|              9|Married-civ-spouse|  Farming-fishing|      Husband|             White|  Male|           0|           0|            50| United-States| &lt;=50K|\n",
              "  3| 28|       Local-gov|336951|  Assoc-acdm|             12|Married-civ-spouse|  Protective-serv|      Husband|             White|  Male|           0|           0|            40| United-States|  &gt;50K|\n",
              "  4| 44|         Private|160323|Some-college|             10|Married-civ-spouse|Machine-op-inspct|      Husband|             Black|  Male|        7688|           0|            40| United-States|  &gt;50K|\n",
              "  5| 18|               ?|103497|Some-college|             10|     Never-married|                ?|    Own-child|             White|Female|           0|           0|            30| United-States| &lt;=50K|\n",
              "  6| 34|         Private|198693|        10th|              6|     Never-married|    Other-service|Not-in-family|             White|  Male|           0|           0|            30| United-States| &lt;=50K|\n",
              "  7| 29|               ?|227026|     HS-grad|              9|     Never-married|                ?|    Unmarried|             Black|  Male|           0|           0|            40| United-States| &lt;=50K|\n",
              "  8| 63|Self-emp-not-inc|104626| Prof-school|             15|Married-civ-spouse|   Prof-specialty|      Husband|             White|  Male|        3103|           0|            32| United-States|  &gt;50K|\n",
              "  9| 24|         Private|369667|Some-college|             10|     Never-married|    Other-service|    Unmarried|             White|Female|           0|           0|            40| United-States| &lt;=50K|\n",
              " 10| 55|         Private|104996|     7th-8th|              4|Married-civ-spouse|     Craft-repair|      Husband|             White|  Male|           0|           0|            10| United-States| &lt;=50K|\n",
              " 11| 65|         Private|184454|     HS-grad|              9|Married-civ-spouse|Machine-op-inspct|      Husband|             White|  Male|        6418|           0|            40| United-States|  &gt;50K|\n",
              " 12| 36|     Federal-gov|212465|   Bachelors|             13|Married-civ-spouse|     Adm-clerical|      Husband|             White|  Male|           0|           0|            40| United-States| &lt;=50K|\n",
              " 13| 26|         Private| 82091|     HS-grad|              9|     Never-married|     Adm-clerical|Not-in-family|             White|Female|           0|           0|            39| United-States| &lt;=50K|\n",
              " 14| 58|               ?|299831|     HS-grad|              9|Married-civ-spouse|                ?|      Husband|             White|  Male|           0|           0|            35| United-States| &lt;=50K|\n",
              " 15| 48|         Private|279724|     HS-grad|              9|Married-civ-spouse|Machine-op-inspct|      Husband|             White|  Male|        3103|           0|            48| United-States|  &gt;50K|\n",
              " 16| 43|         Private|346189|     Masters|             14|Married-civ-spouse|  Exec-managerial|      Husband|             White|  Male|           0|           0|            50| United-States|  &gt;50K|\n",
              " 17| 20|       State-gov|444554|Some-college|             10|     Never-married|    Other-service|    Own-child|             White|  Male|           0|           0|            25| United-States| &lt;=50K|\n",
              " 18| 43|         Private|128354|     HS-grad|              9|Married-civ-spouse|     Adm-clerical|         Wife|             White|Female|           0|           0|            30| United-States| &lt;=50K|\n",
              " 19| 37|         Private| 60548|     HS-grad|              9|           Widowed|Machine-op-inspct|    Unmarried|             White|Female|           0|           0|            20| United-States| &lt;=50K|\n",
              " 20| 40|         Private| 85019|   Doctorate|             16|Married-civ-spouse|   Prof-specialty|      Husband|Asian-Pac-Islander|  Male|           0|           0|            45|             ?|  &gt;50K|\n",
              "+---+---+----------------+------+------------+---------------+------------------+-----------------+-------------+------------------+------+------------+------------+--------------+--------------+------+\n",
              "only showing top 20 rows\n",
              "\n",
              "</div>"
            ]
          },
          "metadata": {
            "tags": [],
            "application/vnd.databricks.v1+output": {
              "datasetInfos": [],
              "data": "<div class=\"ansiout\">+---+---+----------------+------+------------+---------------+------------------+-----------------+-------------+------------------+------+------------+------------+--------------+--------------+------+\n|  x|age|       workclass|fnlwgt|   education|educational-num|    marital-status|       occupation| relationship|              race|gender|capital-gain|capital-loss|hours-per-week|native-country|income|\n+---+---+----------------+------+------------+---------------+------------------+-----------------+-------------+------------------+------+------------+------------+--------------+--------------+------+\n|  1| 25|         Private|226802|        11th|              7|     Never-married|Machine-op-inspct|    Own-child|             Black|  Male|           0|           0|            40| United-States| &lt;=50K|\n|  2| 38|         Private| 89814|     HS-grad|              9|Married-civ-spouse|  Farming-fishing|      Husband|             White|  Male|           0|           0|            50| United-States| &lt;=50K|\n|  3| 28|       Local-gov|336951|  Assoc-acdm|             12|Married-civ-spouse|  Protective-serv|      Husband|             White|  Male|           0|           0|            40| United-States|  &gt;50K|\n|  4| 44|         Private|160323|Some-college|             10|Married-civ-spouse|Machine-op-inspct|      Husband|             Black|  Male|        7688|           0|            40| United-States|  &gt;50K|\n|  5| 18|               ?|103497|Some-college|             10|     Never-married|                ?|    Own-child|             White|Female|           0|           0|            30| United-States| &lt;=50K|\n|  6| 34|         Private|198693|        10th|              6|     Never-married|    Other-service|Not-in-family|             White|  Male|           0|           0|            30| United-States| &lt;=50K|\n|  7| 29|               ?|227026|     HS-grad|              9|     Never-married|                ?|    Unmarried|             Black|  Male|           0|           0|            40| United-States| &lt;=50K|\n|  8| 63|Self-emp-not-inc|104626| Prof-school|             15|Married-civ-spouse|   Prof-specialty|      Husband|             White|  Male|        3103|           0|            32| United-States|  &gt;50K|\n|  9| 24|         Private|369667|Some-college|             10|     Never-married|    Other-service|    Unmarried|             White|Female|           0|           0|            40| United-States| &lt;=50K|\n| 10| 55|         Private|104996|     7th-8th|              4|Married-civ-spouse|     Craft-repair|      Husband|             White|  Male|           0|           0|            10| United-States| &lt;=50K|\n| 11| 65|         Private|184454|     HS-grad|              9|Married-civ-spouse|Machine-op-inspct|      Husband|             White|  Male|        6418|           0|            40| United-States|  &gt;50K|\n| 12| 36|     Federal-gov|212465|   Bachelors|             13|Married-civ-spouse|     Adm-clerical|      Husband|             White|  Male|           0|           0|            40| United-States| &lt;=50K|\n| 13| 26|         Private| 82091|     HS-grad|              9|     Never-married|     Adm-clerical|Not-in-family|             White|Female|           0|           0|            39| United-States| &lt;=50K|\n| 14| 58|               ?|299831|     HS-grad|              9|Married-civ-spouse|                ?|      Husband|             White|  Male|           0|           0|            35| United-States| &lt;=50K|\n| 15| 48|         Private|279724|     HS-grad|              9|Married-civ-spouse|Machine-op-inspct|      Husband|             White|  Male|        3103|           0|            48| United-States|  &gt;50K|\n| 16| 43|         Private|346189|     Masters|             14|Married-civ-spouse|  Exec-managerial|      Husband|             White|  Male|           0|           0|            50| United-States|  &gt;50K|\n| 17| 20|       State-gov|444554|Some-college|             10|     Never-married|    Other-service|    Own-child|             White|  Male|           0|           0|            25| United-States| &lt;=50K|\n| 18| 43|         Private|128354|     HS-grad|              9|Married-civ-spouse|     Adm-clerical|         Wife|             White|Female|           0|           0|            30| United-States| &lt;=50K|\n| 19| 37|         Private| 60548|     HS-grad|              9|           Widowed|Machine-op-inspct|    Unmarried|             White|Female|           0|           0|            20| United-States| &lt;=50K|\n| 20| 40|         Private| 85019|   Doctorate|             16|Married-civ-spouse|   Prof-specialty|      Husband|Asian-Pac-Islander|  Male|           0|           0|            45|             ?|  &gt;50K|\n+---+---+----------------+------+------------+---------------+------------------+-----------------+-------------+------------------+------+------------+------------+--------------+--------------+------+\nonly showing top 20 rows\n\n</div>",
              "removedWidgets": [],
              "addedWidgets": {},
              "type": "html",
              "arguments": {}
            }
          }
        }
      ]
    },
    {
      "cell_type": "code",
      "metadata": {
        "application/vnd.databricks.v1+cell": {
          "title": "",
          "showTitle": false,
          "inputWidgets": {},
          "nuid": "68af99a1-b14d-4a30-85fa-d9974ebecb16"
        },
        "id": "E7C_BbtzbA6t",
        "outputId": "c744a06e-751d-4863-a466-c75978b43c1b"
      },
      "source": [
        "#número de instancias no dataset\n",
        "data.count()"
      ],
      "execution_count": null,
      "outputs": [
        {
          "output_type": "display_data",
          "data": {
            "text/html": [
              "<style scoped>\n",
              "  .ansiout {\n",
              "    display: block;\n",
              "    unicode-bidi: embed;\n",
              "    white-space: pre-wrap;\n",
              "    word-wrap: break-word;\n",
              "    word-break: break-all;\n",
              "    font-family: \"Source Code Pro\", \"Menlo\", monospace;;\n",
              "    font-size: 13px;\n",
              "    color: #555;\n",
              "    margin-left: 4px;\n",
              "    line-height: 19px;\n",
              "  }\n",
              "</style>\n",
              "<div class=\"ansiout\">Out[7]: 48842</div>"
            ]
          },
          "metadata": {
            "tags": [],
            "application/vnd.databricks.v1+output": {
              "datasetInfos": [],
              "data": "<div class=\"ansiout\">Out[7]: 48842</div>",
              "removedWidgets": [],
              "addedWidgets": {},
              "type": "html",
              "arguments": {}
            }
          }
        }
      ]
    },
    {
      "cell_type": "code",
      "metadata": {
        "application/vnd.databricks.v1+cell": {
          "title": "",
          "showTitle": false,
          "inputWidgets": {},
          "nuid": "769a7f92-8c0a-43ef-8cfd-a31e7736931b"
        },
        "id": "IuMPpftLbA6t",
        "outputId": "38cf3159-120a-4df2-d0e2-933b8d6da949"
      },
      "source": [
        "#seleção de colunas\n",
        "data.select('age','fnlwgt').show(5)"
      ],
      "execution_count": null,
      "outputs": [
        {
          "output_type": "display_data",
          "data": {
            "text/html": [
              "<style scoped>\n",
              "  .ansiout {\n",
              "    display: block;\n",
              "    unicode-bidi: embed;\n",
              "    white-space: pre-wrap;\n",
              "    word-wrap: break-word;\n",
              "    word-break: break-all;\n",
              "    font-family: \"Source Code Pro\", \"Menlo\", monospace;;\n",
              "    font-size: 13px;\n",
              "    color: #555;\n",
              "    margin-left: 4px;\n",
              "    line-height: 19px;\n",
              "  }\n",
              "</style>\n",
              "<div class=\"ansiout\">+---+------+\n",
              "age|fnlwgt|\n",
              "+---+------+\n",
              " 25|226802|\n",
              " 38| 89814|\n",
              " 28|336951|\n",
              " 44|160323|\n",
              " 18|103497|\n",
              "+---+------+\n",
              "only showing top 5 rows\n",
              "\n",
              "</div>"
            ]
          },
          "metadata": {
            "tags": [],
            "application/vnd.databricks.v1+output": {
              "datasetInfos": [],
              "data": "<div class=\"ansiout\">+---+------+\n|age|fnlwgt|\n+---+------+\n| 25|226802|\n| 38| 89814|\n| 28|336951|\n| 44|160323|\n| 18|103497|\n+---+------+\nonly showing top 5 rows\n\n</div>",
              "removedWidgets": [],
              "addedWidgets": {},
              "type": "html",
              "arguments": {}
            }
          }
        }
      ]
    },
    {
      "cell_type": "code",
      "metadata": {
        "application/vnd.databricks.v1+cell": {
          "title": "",
          "showTitle": false,
          "inputWidgets": {},
          "nuid": "aeb06a69-77bd-42a9-8b60-eb95519b9b3c"
        },
        "id": "i5l6gm9SbA6u",
        "outputId": "74dd1104-78b1-459b-98ac-b4b5bd1876d9"
      },
      "source": [
        "#contando a quantidade de pessoas por tipo de educação\n",
        "data.groupBy(\"education\").count().sort(\"count\",ascending=True).show()\t"
      ],
      "execution_count": null,
      "outputs": [
        {
          "output_type": "display_data",
          "data": {
            "text/html": [
              "<style scoped>\n",
              "  .ansiout {\n",
              "    display: block;\n",
              "    unicode-bidi: embed;\n",
              "    white-space: pre-wrap;\n",
              "    word-wrap: break-word;\n",
              "    word-break: break-all;\n",
              "    font-family: \"Source Code Pro\", \"Menlo\", monospace;;\n",
              "    font-size: 13px;\n",
              "    color: #555;\n",
              "    margin-left: 4px;\n",
              "    line-height: 19px;\n",
              "  }\n",
              "</style>\n",
              "<div class=\"ansiout\">+------------+-----+\n",
              "   education|count|\n",
              "+------------+-----+\n",
              "   Preschool|   83|\n",
              "     1st-4th|  247|\n",
              "     5th-6th|  509|\n",
              "   Doctorate|  594|\n",
              "        12th|  657|\n",
              "         9th|  756|\n",
              " Prof-school|  834|\n",
              "     7th-8th|  955|\n",
              "        10th| 1389|\n",
              "  Assoc-acdm| 1601|\n",
              "        11th| 1812|\n",
              "   Assoc-voc| 2061|\n",
              "     Masters| 2657|\n",
              "   Bachelors| 8025|\n",
              "Some-college|10878|\n",
              "     HS-grad|15784|\n",
              "+------------+-----+\n",
              "\n",
              "</div>"
            ]
          },
          "metadata": {
            "tags": [],
            "application/vnd.databricks.v1+output": {
              "datasetInfos": [],
              "data": "<div class=\"ansiout\">+------------+-----+\n|   education|count|\n+------------+-----+\n|   Preschool|   83|\n|     1st-4th|  247|\n|     5th-6th|  509|\n|   Doctorate|  594|\n|        12th|  657|\n|         9th|  756|\n| Prof-school|  834|\n|     7th-8th|  955|\n|        10th| 1389|\n|  Assoc-acdm| 1601|\n|        11th| 1812|\n|   Assoc-voc| 2061|\n|     Masters| 2657|\n|   Bachelors| 8025|\n|Some-college|10878|\n|     HS-grad|15784|\n+------------+-----+\n\n</div>",
              "removedWidgets": [],
              "addedWidgets": {},
              "type": "html",
              "arguments": {}
            }
          }
        }
      ]
    },
    {
      "cell_type": "code",
      "metadata": {
        "application/vnd.databricks.v1+cell": {
          "title": "",
          "showTitle": false,
          "inputWidgets": {},
          "nuid": "10d09008-6cb4-4c36-80e6-09aef86a5fdf"
        },
        "id": "oMqLMPObbA6u",
        "outputId": "4262327f-0408-404b-c0c6-eee380b13b4a"
      },
      "source": [
        "#craindo um grafico de barras\n",
        "educacao=data.groupBy(\"education\").count().sort(\"count\",ascending=True)\n",
        "display(educacao)"
      ],
      "execution_count": null,
      "outputs": [
        {
          "output_type": "display_data",
          "data": {
            "text/html": [
              "<style scoped>\n",
              "  .table-result-container {\n",
              "    max-height: 300px;\n",
              "    overflow: auto;\n",
              "  }\n",
              "  table, th, td {\n",
              "    border: 1px solid black;\n",
              "    border-collapse: collapse;\n",
              "  }\n",
              "  th, td {\n",
              "    padding: 5px;\n",
              "  }\n",
              "  th {\n",
              "    text-align: left;\n",
              "  }\n",
              "</style><div class='table-result-container'><table class='table-result'><thead style='background-color: white'><tr><th>education</th><th>count</th></tr></thead><tbody><tr><td>Preschool</td><td>83</td></tr><tr><td>1st-4th</td><td>247</td></tr><tr><td>5th-6th</td><td>509</td></tr><tr><td>Doctorate</td><td>594</td></tr><tr><td>12th</td><td>657</td></tr><tr><td>9th</td><td>756</td></tr><tr><td>Prof-school</td><td>834</td></tr><tr><td>7th-8th</td><td>955</td></tr><tr><td>10th</td><td>1389</td></tr><tr><td>Assoc-acdm</td><td>1601</td></tr><tr><td>11th</td><td>1812</td></tr><tr><td>Assoc-voc</td><td>2061</td></tr><tr><td>Masters</td><td>2657</td></tr><tr><td>Bachelors</td><td>8025</td></tr><tr><td>Some-college</td><td>10878</td></tr><tr><td>HS-grad</td><td>15784</td></tr></tbody></table></div>"
            ]
          },
          "metadata": {
            "tags": [],
            "application/vnd.databricks.v1+output": {
              "overflow": false,
              "datasetInfos": [],
              "data": [
                [
                  "Preschool",
                  83
                ],
                [
                  "1st-4th",
                  247
                ],
                [
                  "5th-6th",
                  509
                ],
                [
                  "Doctorate",
                  594
                ],
                [
                  "12th",
                  657
                ],
                [
                  "9th",
                  756
                ],
                [
                  "Prof-school",
                  834
                ],
                [
                  "7th-8th",
                  955
                ],
                [
                  "10th",
                  1389
                ],
                [
                  "Assoc-acdm",
                  1601
                ],
                [
                  "11th",
                  1812
                ],
                [
                  "Assoc-voc",
                  2061
                ],
                [
                  "Masters",
                  2657
                ],
                [
                  "Bachelors",
                  8025
                ],
                [
                  "Some-college",
                  10878
                ],
                [
                  "HS-grad",
                  15784
                ]
              ],
              "plotOptions": {
                "displayType": "pieChart",
                "customPlotOptions": {},
                "pivotColumns": null,
                "pivotAggregation": null,
                "xColumns": null,
                "yColumns": null
              },
              "columnCustomDisplayInfos": {},
              "aggType": "",
              "isJsonSchema": true,
              "removedWidgets": [],
              "aggSchema": [],
              "schema": [
                {
                  "name": "education",
                  "type": "\"string\"",
                  "metadata": "{}"
                },
                {
                  "name": "count",
                  "type": "\"long\"",
                  "metadata": "{}"
                }
              ],
              "aggError": "",
              "aggData": [],
              "addedWidgets": {},
              "dbfsResultPath": null,
              "type": "table",
              "aggOverflow": false,
              "aggSeriesLimitReached": false,
              "arguments": {}
            }
          }
        }
      ]
    },
    {
      "cell_type": "code",
      "metadata": {
        "application/vnd.databricks.v1+cell": {
          "title": "",
          "showTitle": false,
          "inputWidgets": {},
          "nuid": "f4de7649-8d7f-40e2-9d6d-5dd28effd8aa"
        },
        "id": "OP-omapkbA6v",
        "outputId": "2f4e06c6-52d7-4650-c3bb-96c3c780a197"
      },
      "source": [
        "salario=data.groupBy(\"gender\",\"income\").count().sort(\"count\",ascending=True)\n",
        "display(salario)"
      ],
      "execution_count": null,
      "outputs": [
        {
          "output_type": "display_data",
          "data": {
            "text/html": [
              "<style scoped>\n",
              "  .table-result-container {\n",
              "    max-height: 300px;\n",
              "    overflow: auto;\n",
              "  }\n",
              "  table, th, td {\n",
              "    border: 1px solid black;\n",
              "    border-collapse: collapse;\n",
              "  }\n",
              "  th, td {\n",
              "    padding: 5px;\n",
              "  }\n",
              "  th {\n",
              "    text-align: left;\n",
              "  }\n",
              "</style><div class='table-result-container'><table class='table-result'><thead style='background-color: white'><tr><th>gender</th><th>income</th><th>count</th></tr></thead><tbody><tr><td>Female</td><td>>50K</td><td>1769</td></tr><tr><td>Male</td><td>>50K</td><td>9918</td></tr><tr><td>Female</td><td><=50K</td><td>14423</td></tr><tr><td>Male</td><td><=50K</td><td>22732</td></tr></tbody></table></div>"
            ]
          },
          "metadata": {
            "tags": [],
            "application/vnd.databricks.v1+output": {
              "overflow": false,
              "datasetInfos": [],
              "data": [
                [
                  "Female",
                  ">50K",
                  1769
                ],
                [
                  "Male",
                  ">50K",
                  9918
                ],
                [
                  "Female",
                  "<=50K",
                  14423
                ],
                [
                  "Male",
                  "<=50K",
                  22732
                ]
              ],
              "plotOptions": {
                "displayType": "pieChart",
                "customPlotOptions": {
                  "plotlyBar": [
                    {
                      "key": "grouped",
                      "value": true
                    },
                    {
                      "key": "stacked",
                      "value": false
                    },
                    {
                      "key": "100_stacked",
                      "value": false
                    }
                  ]
                },
                "pivotColumns": [
                  "gender"
                ],
                "pivotAggregation": "sum",
                "xColumns": [
                  "income"
                ],
                "yColumns": [
                  "count"
                ]
              },
              "columnCustomDisplayInfos": {},
              "aggType": "",
              "isJsonSchema": true,
              "removedWidgets": [],
              "aggSchema": [],
              "schema": [
                {
                  "name": "gender",
                  "type": "\"string\"",
                  "metadata": "{}"
                },
                {
                  "name": "income",
                  "type": "\"string\"",
                  "metadata": "{}"
                },
                {
                  "name": "count",
                  "type": "\"long\"",
                  "metadata": "{}"
                }
              ],
              "aggError": "",
              "aggData": [],
              "addedWidgets": {},
              "dbfsResultPath": null,
              "type": "table",
              "aggOverflow": false,
              "aggSeriesLimitReached": false,
              "arguments": {}
            }
          }
        }
      ]
    },
    {
      "cell_type": "code",
      "metadata": {
        "application/vnd.databricks.v1+cell": {
          "title": "",
          "showTitle": false,
          "inputWidgets": {},
          "nuid": "4ab5a484-602d-4412-88b0-68e5ac82e403"
        },
        "id": "EUhjC66gbA6v",
        "outputId": "5a258d43-7978-433e-cfa9-b63b9e675eca"
      },
      "source": [
        "#encontrando as estatísticas\n",
        "entradas_numericas  = ['age', 'fnlwgt',\"capital-gain\", \"educational-num\", \"capital-loss\", \"hours-per-week\"]\n",
        "data.describe(entradas_numericas).show(truncate=False)"
      ],
      "execution_count": null,
      "outputs": [
        {
          "output_type": "display_data",
          "data": {
            "text/html": [
              "<style scoped>\n",
              "  .ansiout {\n",
              "    display: block;\n",
              "    unicode-bidi: embed;\n",
              "    white-space: pre-wrap;\n",
              "    word-wrap: break-word;\n",
              "    word-break: break-all;\n",
              "    font-family: \"Source Code Pro\", \"Menlo\", monospace;;\n",
              "    font-size: 13px;\n",
              "    color: #555;\n",
              "    margin-left: 4px;\n",
              "    line-height: 19px;\n",
              "  }\n",
              "</style>\n",
              "<div class=\"ansiout\">+-------+------------------+------------------+------------------+------------------+-----------------+------------------+\n",
              "summary|age               |fnlwgt            |capital-gain      |educational-num   |capital-loss     |hours-per-week    |\n",
              "+-------+------------------+------------------+------------------+------------------+-----------------+------------------+\n",
              "count  |48842             |48842             |48842             |48842             |48842            |48842             |\n",
              "mean   |38.64358543876172 |189664.13459727284|1079.0676262233324|10.078088530363212|87.50231358257237|40.422382375824085|\n",
              "stddev |13.710509934443525|105604.02542315757|7452.019057655418 |2.570972755592259 |403.004552124359 |12.391444024252312|\n",
              "min    |17                |12285             |0                 |1                 |0                |1                 |\n",
              "max    |90                |1490400           |99999             |16                |4356             |99                |\n",
              "+-------+------------------+------------------+------------------+------------------+-----------------+------------------+\n",
              "\n",
              "</div>"
            ]
          },
          "metadata": {
            "tags": [],
            "application/vnd.databricks.v1+output": {
              "datasetInfos": [],
              "data": "<div class=\"ansiout\">+-------+------------------+------------------+------------------+------------------+-----------------+------------------+\n|summary|age               |fnlwgt            |capital-gain      |educational-num   |capital-loss     |hours-per-week    |\n+-------+------------------+------------------+------------------+------------------+-----------------+------------------+\n|count  |48842             |48842             |48842             |48842             |48842            |48842             |\n|mean   |38.64358543876172 |189664.13459727284|1079.0676262233324|10.078088530363212|87.50231358257237|40.422382375824085|\n|stddev |13.710509934443525|105604.02542315757|7452.019057655418 |2.570972755592259 |403.004552124359 |12.391444024252312|\n|min    |17                |12285             |0                 |1                 |0                |1                 |\n|max    |90                |1490400           |99999             |16                |4356             |99                |\n+-------+------------------+------------------+------------------+------------------+-----------------+------------------+\n\n</div>",
              "removedWidgets": [],
              "addedWidgets": {},
              "type": "html",
              "arguments": {}
            }
          }
        }
      ]
    },
    {
      "cell_type": "code",
      "metadata": {
        "application/vnd.databricks.v1+cell": {
          "title": "",
          "showTitle": false,
          "inputWidgets": {},
          "nuid": "4bbbe383-57cf-4332-a32f-8e7f261f42b1"
        },
        "id": "r5KXBsHYbA6w",
        "outputId": "b89de682-4b4b-4078-989a-ad91af89cb02"
      },
      "source": [
        "#boxplot\n",
        "display(data.select('hours-per-week'))"
      ],
      "execution_count": null,
      "outputs": [
        {
          "output_type": "display_data",
          "data": {
            "text/html": [
              "<style scoped>\n",
              "  .table-result-container {\n",
              "    max-height: 300px;\n",
              "    overflow: auto;\n",
              "  }\n",
              "  table, th, td {\n",
              "    border: 1px solid black;\n",
              "    border-collapse: collapse;\n",
              "  }\n",
              "  th, td {\n",
              "    padding: 5px;\n",
              "  }\n",
              "  th {\n",
              "    text-align: left;\n",
              "  }\n",
              "</style><div class='table-result-container'><table class='table-result'><thead style='background-color: white'><tr><th>hours-per-week</th></tr></thead><tbody><tr><td>40</td></tr><tr><td>50</td></tr><tr><td>40</td></tr><tr><td>40</td></tr><tr><td>30</td></tr><tr><td>30</td></tr><tr><td>40</td></tr><tr><td>32</td></tr><tr><td>40</td></tr><tr><td>10</td></tr><tr><td>40</td></tr><tr><td>40</td></tr><tr><td>39</td></tr><tr><td>35</td></tr><tr><td>48</td></tr><tr><td>50</td></tr><tr><td>25</td></tr><tr><td>30</td></tr><tr><td>20</td></tr><tr><td>45</td></tr><tr><td>47</td></tr><tr><td>35</td></tr><tr><td>6</td></tr><tr><td>43</td></tr><tr><td>40</td></tr><tr><td>90</td></tr><tr><td>20</td></tr><tr><td>54</td></tr><tr><td>35</td></tr><tr><td>60</td></tr><tr><td>38</td></tr><tr><td>50</td></tr><tr><td>50</td></tr><tr><td>40</td></tr><tr><td>40</td></tr><tr><td>40</td></tr><tr><td>40</td></tr><tr><td>50</td></tr><tr><td>40</td></tr><tr><td>40</td></tr><tr><td>50</td></tr><tr><td>45</td></tr><tr><td>40</td></tr><tr><td>40</td></tr><tr><td>32</td></tr><tr><td>36</td></tr><tr><td>40</td></tr><tr><td>50</td></tr><tr><td>18</td></tr><tr><td>50</td></tr><tr><td>20</td></tr><tr><td>40</td></tr><tr><td>24</td></tr><tr><td>60</td></tr><tr><td>54</td></tr><tr><td>40</td></tr><tr><td>40</td></tr><tr><td>50</td></tr><tr><td>50</td></tr><tr><td>40</td></tr><tr><td>50</td></tr><tr><td>40</td></tr><tr><td>40</td></tr><tr><td>40</td></tr><tr><td>40</td></tr><tr><td>40</td></tr><tr><td>60</td></tr><tr><td>20</td></tr><tr><td>40</td></tr><tr><td>48</td></tr><tr><td>45</td></tr><tr><td>40</td></tr><tr><td>40</td></tr><tr><td>40</td></tr><tr><td>40</td></tr><tr><td>40</td></tr><tr><td>50</td></tr><tr><td>30</td></tr><tr><td>40</td></tr><tr><td>40</td></tr><tr><td>50</td></tr><tr><td>40</td></tr><tr><td>40</td></tr><tr><td>50</td></tr><tr><td>50</td></tr><tr><td>44</td></tr><tr><td>10</td></tr><tr><td>56</td></tr><tr><td>40</td></tr><tr><td>10</td></tr><tr><td>25</td></tr><tr><td>20</td></tr><tr><td>10</td></tr><tr><td>40</td></tr><tr><td>40</td></tr><tr><td>40</td></tr><tr><td>40</td></tr><tr><td>40</td></tr><tr><td>40</td></tr><tr><td>40</td></tr><tr><td>18</td></tr><tr><td>35</td></tr><tr><td>39</td></tr><tr><td>40</td></tr><tr><td>28</td></tr><tr><td>40</td></tr><tr><td>40</td></tr><tr><td>40</td></tr><tr><td>16</td></tr><tr><td>28</td></tr><tr><td>48</td></tr><tr><td>40</td></tr><tr><td>40</td></tr><tr><td>20</td></tr><tr><td>40</td></tr><tr><td>40</td></tr><tr><td>40</td></tr><tr><td>24</td></tr><tr><td>40</td></tr><tr><td>40</td></tr><tr><td>60</td></tr><tr><td>25</td></tr><tr><td>30</td></tr><tr><td>40</td></tr><tr><td>40</td></tr><tr><td>25</td></tr><tr><td>40</td></tr><tr><td>40</td></tr><tr><td>60</td></tr><tr><td>50</td></tr><tr><td>40</td></tr><tr><td>40</td></tr><tr><td>40</td></tr><tr><td>41</td></tr><tr><td>48</td></tr><tr><td>40</td></tr><tr><td>60</td></tr><tr><td>40</td></tr><tr><td>35</td></tr><tr><td>40</td></tr><tr><td>40</td></tr><tr><td>22</td></tr><tr><td>55</td></tr><tr><td>45</td></tr><tr><td>30</td></tr><tr><td>30</td></tr><tr><td>30</td></tr><tr><td>40</td></tr><tr><td>50</td></tr><tr><td>30</td></tr><tr><td>14</td></tr><tr><td>32</td></tr><tr><td>20</td></tr><tr><td>40</td></tr><tr><td>45</td></tr><tr><td>40</td></tr><tr><td>40</td></tr><tr><td>25</td></tr><tr><td>40</td></tr><tr><td>40</td></tr><tr><td>30</td></tr><tr><td>40</td></tr><tr><td>45</td></tr><tr><td>40</td></tr><tr><td>45</td></tr><tr><td>40</td></tr><tr><td>16</td></tr><tr><td>45</td></tr><tr><td>25</td></tr><tr><td>33</td></tr><tr><td>40</td></tr><tr><td>40</td></tr><tr><td>40</td></tr><tr><td>60</td></tr><tr><td>40</td></tr><tr><td>45</td></tr><tr><td>45</td></tr><tr><td>37</td></tr><tr><td>50</td></tr><tr><td>40</td></tr><tr><td>40</td></tr><tr><td>40</td></tr><tr><td>38</td></tr><tr><td>55</td></tr><tr><td>40</td></tr><tr><td>8</td></tr><tr><td>45</td></tr><tr><td>50</td></tr><tr><td>40</td></tr><tr><td>45</td></tr><tr><td>40</td></tr><tr><td>50</td></tr><tr><td>37</td></tr><tr><td>40</td></tr><tr><td>55</td></tr><tr><td>40</td></tr><tr><td>45</td></tr><tr><td>50</td></tr><tr><td>40</td></tr><tr><td>40</td></tr><tr><td>40</td></tr><tr><td>50</td></tr><tr><td>45</td></tr><tr><td>40</td></tr><tr><td>40</td></tr><tr><td>54</td></tr><tr><td>40</td></tr><tr><td>20</td></tr><tr><td>50</td></tr><tr><td>55</td></tr><tr><td>12</td></tr><tr><td>50</td></tr><tr><td>40</td></tr><tr><td>40</td></tr><tr><td>32</td></tr><tr><td>40</td></tr><tr><td>32</td></tr><tr><td>38</td></tr><tr><td>40</td></tr><tr><td>45</td></tr><tr><td>40</td></tr><tr><td>40</td></tr><tr><td>40</td></tr><tr><td>40</td></tr><tr><td>40</td></tr><tr><td>40</td></tr><tr><td>38</td></tr><tr><td>40</td></tr><tr><td>40</td></tr><tr><td>35</td></tr><tr><td>40</td></tr><tr><td>50</td></tr><tr><td>50</td></tr><tr><td>40</td></tr><tr><td>30</td></tr><tr><td>60</td></tr><tr><td>40</td></tr><tr><td>28</td></tr><tr><td>40</td></tr><tr><td>40</td></tr><tr><td>35</td></tr><tr><td>60</td></tr><tr><td>12</td></tr><tr><td>32</td></tr><tr><td>20</td></tr><tr><td>50</td></tr><tr><td>40</td></tr><tr><td>40</td></tr><tr><td>70</td></tr><tr><td>40</td></tr><tr><td>15</td></tr><tr><td>50</td></tr><tr><td>40</td></tr><tr><td>40</td></tr><tr><td>50</td></tr><tr><td>35</td></tr><tr><td>40</td></tr><tr><td>40</td></tr><tr><td>40</td></tr><tr><td>20</td></tr><tr><td>50</td></tr><tr><td>40</td></tr><tr><td>40</td></tr><tr><td>40</td></tr><tr><td>40</td></tr><tr><td>40</td></tr><tr><td>40</td></tr><tr><td>25</td></tr><tr><td>30</td></tr><tr><td>20</td></tr><tr><td>75</td></tr><tr><td>40</td></tr><tr><td>40</td></tr><tr><td>38</td></tr><tr><td>35</td></tr><tr><td>35</td></tr><tr><td>52</td></tr><tr><td>24</td></tr><tr><td>50</td></tr><tr><td>60</td></tr><tr><td>40</td></tr><tr><td>38</td></tr><tr><td>25</td></tr><tr><td>40</td></tr><tr><td>55</td></tr><tr><td>48</td></tr><tr><td>40</td></tr><tr><td>40</td></tr><tr><td>40</td></tr><tr><td>40</td></tr><tr><td>55</td></tr><tr><td>40</td></tr><tr><td>40</td></tr><tr><td>40</td></tr><tr><td>40</td></tr><tr><td>40</td></tr><tr><td>32</td></tr><tr><td>40</td></tr><tr><td>60</td></tr><tr><td>48</td></tr><tr><td>40</td></tr><tr><td>38</td></tr><tr><td>38</td></tr><tr><td>40</td></tr><tr><td>16</td></tr><tr><td>40</td></tr><tr><td>40</td></tr><tr><td>40</td></tr><tr><td>60</td></tr><tr><td>84</td></tr><tr><td>45</td></tr><tr><td>40</td></tr><tr><td>60</td></tr><tr><td>45</td></tr><tr><td>35</td></tr><tr><td>42</td></tr><tr><td>40</td></tr><tr><td>25</td></tr><tr><td>40</td></tr><tr><td>40</td></tr><tr><td>40</td></tr><tr><td>40</td></tr><tr><td>40</td></tr><tr><td>40</td></tr><tr><td>40</td></tr><tr><td>50</td></tr><tr><td>42</td></tr><tr><td>15</td></tr><tr><td>60</td></tr><tr><td>50</td></tr><tr><td>20</td></tr><tr><td>45</td></tr><tr><td>40</td></tr><tr><td>42</td></tr><tr><td>50</td></tr><tr><td>40</td></tr><tr><td>55</td></tr><tr><td>40</td></tr><tr><td>80</td></tr><tr><td>48</td></tr><tr><td>40</td></tr><tr><td>40</td></tr><tr><td>40</td></tr><tr><td>45</td></tr><tr><td>40</td></tr><tr><td>50</td></tr><tr><td>40</td></tr><tr><td>50</td></tr><tr><td>40</td></tr><tr><td>40</td></tr><tr><td>40</td></tr><tr><td>30</td></tr><tr><td>40</td></tr><tr><td>12</td></tr><tr><td>84</td></tr><tr><td>50</td></tr><tr><td>45</td></tr><tr><td>80</td></tr><tr><td>40</td></tr><tr><td>40</td></tr><tr><td>40</td></tr><tr><td>60</td></tr><tr><td>25</td></tr><tr><td>40</td></tr><tr><td>50</td></tr><tr><td>25</td></tr><tr><td>70</td></tr><tr><td>60</td></tr><tr><td>8</td></tr><tr><td>40</td></tr><tr><td>68</td></tr><tr><td>40</td></tr><tr><td>40</td></tr><tr><td>44</td></tr><tr><td>45</td></tr><tr><td>40</td></tr><tr><td>40</td></tr><tr><td>40</td></tr><tr><td>10</td></tr><tr><td>15</td></tr><tr><td>40</td></tr><tr><td>40</td></tr><tr><td>35</td></tr><tr><td>35</td></tr><tr><td>99</td></tr><tr><td>35</td></tr><tr><td>37</td></tr><tr><td>40</td></tr><tr><td>40</td></tr><tr><td>55</td></tr><tr><td>50</td></tr><tr><td>40</td></tr><tr><td>50</td></tr><tr><td>40</td></tr><tr><td>40</td></tr><tr><td>60</td></tr><tr><td>45</td></tr><tr><td>16</td></tr><tr><td>45</td></tr><tr><td>40</td></tr><tr><td>40</td></tr><tr><td>20</td></tr><tr><td>25</td></tr><tr><td>36</td></tr><tr><td>65</td></tr><tr><td>55</td></tr><tr><td>40</td></tr><tr><td>40</td></tr><tr><td>40</td></tr><tr><td>24</td></tr><tr><td>40</td></tr><tr><td>40</td></tr><tr><td>70</td></tr><tr><td>25</td></tr><tr><td>40</td></tr><tr><td>40</td></tr><tr><td>30</td></tr><tr><td>40</td></tr><tr><td>40</td></tr><tr><td>40</td></tr><tr><td>40</td></tr><tr><td>40</td></tr><tr><td>40</td></tr><tr><td>45</td></tr><tr><td>40</td></tr><tr><td>40</td></tr><tr><td>40</td></tr><tr><td>40</td></tr><tr><td>45</td></tr><tr><td>35</td></tr><tr><td>50</td></tr><tr><td>20</td></tr><tr><td>40</td></tr><tr><td>37</td></tr><tr><td>20</td></tr><tr><td>40</td></tr><tr><td>55</td></tr><tr><td>5</td></tr><tr><td>60</td></tr><tr><td>50</td></tr><tr><td>40</td></tr><tr><td>40</td></tr><tr><td>40</td></tr><tr><td>60</td></tr><tr><td>20</td></tr><tr><td>55</td></tr><tr><td>50</td></tr><tr><td>40</td></tr><tr><td>40</td></tr><tr><td>40</td></tr><tr><td>40</td></tr><tr><td>48</td></tr><tr><td>40</td></tr><tr><td>44</td></tr><tr><td>40</td></tr><tr><td>42</td></tr><tr><td>35</td></tr><tr><td>65</td></tr><tr><td>35</td></tr><tr><td>40</td></tr><tr><td>39</td></tr><tr><td>40</td></tr><tr><td>60</td></tr><tr><td>38</td></tr><tr><td>40</td></tr><tr><td>40</td></tr><tr><td>40</td></tr><tr><td>40</td></tr><tr><td>40</td></tr><tr><td>40</td></tr><tr><td>20</td></tr><tr><td>10</td></tr><tr><td>50</td></tr><tr><td>40</td></tr><tr><td>40</td></tr><tr><td>75</td></tr><tr><td>40</td></tr><tr><td>40</td></tr><tr><td>20</td></tr><tr><td>32</td></tr><tr><td>28</td></tr><tr><td>40</td></tr><tr><td>17</td></tr><tr><td>50</td></tr><tr><td>35</td></tr><tr><td>40</td></tr><tr><td>40</td></tr><tr><td>30</td></tr><tr><td>35</td></tr><tr><td>40</td></tr><tr><td>40</td></tr><tr><td>28</td></tr><tr><td>60</td></tr><tr><td>40</td></tr><tr><td>40</td></tr><tr><td>36</td></tr><tr><td>40</td></tr><tr><td>60</td></tr><tr><td>40</td></tr><tr><td>35</td></tr><tr><td>40</td></tr><tr><td>55</td></tr><tr><td>40</td></tr><tr><td>33</td></tr><tr><td>60</td></tr><tr><td>10</td></tr><tr><td>10</td></tr><tr><td>45</td></tr><tr><td>36</td></tr><tr><td>65</td></tr><tr><td>40</td></tr><tr><td>38</td></tr><tr><td>40</td></tr><tr><td>18</td></tr><tr><td>40</td></tr><tr><td>50</td></tr><tr><td>40</td></tr><tr><td>40</td></tr><tr><td>60</td></tr><tr><td>45</td></tr><tr><td>40</td></tr><tr><td>50</td></tr><tr><td>72</td></tr><tr><td>12</td></tr><tr><td>50</td></tr><tr><td>40</td></tr><tr><td>40</td></tr><tr><td>40</td></tr><tr><td>35</td></tr><tr><td>50</td></tr><tr><td>50</td></tr><tr><td>37</td></tr><tr><td>40</td></tr><tr><td>40</td></tr><tr><td>60</td></tr><tr><td>30</td></tr><tr><td>45</td></tr><tr><td>40</td></tr><tr><td>60</td></tr><tr><td>20</td></tr><tr><td>50</td></tr><tr><td>50</td></tr><tr><td>40</td></tr><tr><td>40</td></tr><tr><td>45</td></tr><tr><td>60</td></tr><tr><td>40</td></tr><tr><td>40</td></tr><tr><td>50</td></tr><tr><td>60</td></tr><tr><td>25</td></tr><tr><td>35</td></tr><tr><td>50</td></tr><tr><td>40</td></tr><tr><td>40</td></tr><tr><td>40</td></tr><tr><td>60</td></tr><tr><td>40</td></tr><tr><td>50</td></tr><tr><td>25</td></tr><tr><td>40</td></tr><tr><td>40</td></tr><tr><td>35</td></tr><tr><td>8</td></tr><tr><td>60</td></tr><tr><td>40</td></tr><tr><td>54</td></tr><tr><td>40</td></tr><tr><td>65</td></tr><tr><td>37</td></tr><tr><td>40</td></tr><tr><td>30</td></tr><tr><td>48</td></tr><tr><td>35</td></tr><tr><td>40</td></tr><tr><td>50</td></tr><tr><td>80</td></tr><tr><td>45</td></tr><tr><td>45</td></tr><tr><td>45</td></tr><tr><td>40</td></tr><tr><td>40</td></tr><tr><td>50</td></tr><tr><td>40</td></tr><tr><td>40</td></tr><tr><td>30</td></tr><tr><td>40</td></tr><tr><td>40</td></tr><tr><td>40</td></tr><tr><td>40</td></tr><tr><td>40</td></tr><tr><td>40</td></tr><tr><td>35</td></tr><tr><td>20</td></tr><tr><td>50</td></tr><tr><td>40</td></tr><tr><td>28</td></tr><tr><td>55</td></tr><tr><td>55</td></tr><tr><td>35</td></tr><tr><td>40</td></tr><tr><td>40</td></tr><tr><td>60</td></tr><tr><td>40</td></tr><tr><td>40</td></tr><tr><td>40</td></tr><tr><td>40</td></tr><tr><td>50</td></tr><tr><td>40</td></tr><tr><td>40</td></tr><tr><td>56</td></tr><tr><td>48</td></tr><tr><td>30</td></tr><tr><td>40</td></tr><tr><td>40</td></tr><tr><td>40</td></tr><tr><td>30</td></tr><tr><td>40</td></tr><tr><td>40</td></tr><tr><td>53</td></tr><tr><td>38</td></tr><tr><td>35</td></tr><tr><td>40</td></tr><tr><td>40</td></tr><tr><td>40</td></tr><tr><td>50</td></tr><tr><td>10</td></tr><tr><td>45</td></tr><tr><td>60</td></tr><tr><td>40</td></tr><tr><td>40</td></tr><tr><td>37</td></tr><tr><td>40</td></tr><tr><td>30</td></tr><tr><td>52</td></tr><tr><td>40</td></tr><tr><td>40</td></tr><tr><td>10</td></tr><tr><td>42</td></tr><tr><td>40</td></tr><tr><td>40</td></tr><tr><td>40</td></tr><tr><td>40</td></tr><tr><td>40</td></tr><tr><td>40</td></tr><tr><td>25</td></tr><tr><td>25</td></tr><tr><td>40</td></tr><tr><td>40</td></tr><tr><td>20</td></tr><tr><td>40</td></tr><tr><td>40</td></tr><tr><td>20</td></tr><tr><td>40</td></tr><tr><td>40</td></tr><tr><td>20</td></tr><tr><td>50</td></tr><tr><td>25</td></tr><tr><td>55</td></tr><tr><td>45</td></tr><tr><td>20</td></tr><tr><td>32</td></tr><tr><td>10</td></tr><tr><td>40</td></tr><tr><td>29</td></tr><tr><td>32</td></tr><tr><td>40</td></tr><tr><td>40</td></tr><tr><td>40</td></tr><tr><td>75</td></tr><tr><td>24</td></tr><tr><td>35</td></tr><tr><td>40</td></tr><tr><td>40</td></tr><tr><td>40</td></tr><tr><td>20</td></tr><tr><td>50</td></tr><tr><td>40</td></tr><tr><td>40</td></tr><tr><td>50</td></tr><tr><td>20</td></tr><tr><td>40</td></tr><tr><td>40</td></tr><tr><td>52</td></tr><tr><td>40</td></tr><tr><td>52</td></tr><tr><td>70</td></tr><tr><td>40</td></tr><tr><td>55</td></tr><tr><td>40</td></tr><tr><td>35</td></tr><tr><td>40</td></tr><tr><td>55</td></tr><tr><td>30</td></tr><tr><td>40</td></tr><tr><td>40</td></tr><tr><td>25</td></tr><tr><td>10</td></tr><tr><td>80</td></tr><tr><td>45</td></tr><tr><td>40</td></tr><tr><td>50</td></tr><tr><td>60</td></tr><tr><td>16</td></tr><tr><td>40</td></tr><tr><td>40</td></tr><tr><td>25</td></tr><tr><td>40</td></tr><tr><td>40</td></tr><tr><td>40</td></tr><tr><td>45</td></tr><tr><td>65</td></tr><tr><td>40</td></tr><tr><td>40</td></tr><tr><td>50</td></tr><tr><td>40</td></tr><tr><td>40</td></tr><tr><td>37</td></tr><tr><td>60</td></tr><tr><td>48</td></tr><tr><td>40</td></tr><tr><td>48</td></tr><tr><td>60</td></tr><tr><td>96</td></tr><tr><td>40</td></tr><tr><td>40</td></tr><tr><td>50</td></tr><tr><td>25</td></tr><tr><td>40</td></tr><tr><td>50</td></tr><tr><td>40</td></tr><tr><td>45</td></tr><tr><td>50</td></tr><tr><td>40</td></tr><tr><td>20</td></tr><tr><td>50</td></tr><tr><td>40</td></tr><tr><td>55</td></tr><tr><td>30</td></tr><tr><td>50</td></tr><tr><td>40</td></tr><tr><td>40</td></tr><tr><td>40</td></tr><tr><td>50</td></tr><tr><td>40</td></tr><tr><td>28</td></tr><tr><td>60</td></tr><tr><td>52</td></tr><tr><td>45</td></tr><tr><td>40</td></tr><tr><td>50</td></tr><tr><td>35</td></tr><tr><td>50</td></tr><tr><td>40</td></tr><tr><td>40</td></tr><tr><td>45</td></tr><tr><td>33</td></tr><tr><td>40</td></tr><tr><td>50</td></tr><tr><td>55</td></tr><tr><td>40</td></tr><tr><td>40</td></tr><tr><td>40</td></tr><tr><td>33</td></tr><tr><td>28</td></tr><tr><td>40</td></tr><tr><td>40</td></tr><tr><td>40</td></tr><tr><td>40</td></tr><tr><td>35</td></tr><tr><td>21</td></tr><tr><td>40</td></tr><tr><td>40</td></tr><tr><td>8</td></tr><tr><td>35</td></tr><tr><td>60</td></tr><tr><td>50</td></tr><tr><td>60</td></tr><tr><td>40</td></tr><tr><td>40</td></tr><tr><td>40</td></tr><tr><td>40</td></tr><tr><td>40</td></tr><tr><td>40</td></tr><tr><td>40</td></tr><tr><td>40</td></tr><tr><td>15</td></tr><tr><td>40</td></tr><tr><td>40</td></tr><tr><td>40</td></tr><tr><td>40</td></tr><tr><td>20</td></tr><tr><td>40</td></tr><tr><td>40</td></tr><tr><td>40</td></tr><tr><td>10</td></tr><tr><td>43</td></tr><tr><td>45</td></tr><tr><td>30</td></tr><tr><td>45</td></tr><tr><td>25</td></tr><tr><td>45</td></tr><tr><td>50</td></tr><tr><td>40</td></tr><tr><td>40</td></tr><tr><td>48</td></tr><tr><td>40</td></tr><tr><td>40</td></tr><tr><td>38</td></tr><tr><td>40</td></tr><tr><td>90</td></tr><tr><td>40</td></tr><tr><td>40</td></tr><tr><td>40</td></tr><tr><td>15</td></tr><tr><td>40</td></tr><tr><td>5</td></tr><tr><td>16</td></tr><tr><td>25</td></tr><tr><td>60</td></tr><tr><td>37</td></tr><tr><td>25</td></tr><tr><td>40</td></tr><tr><td>35</td></tr><tr><td>40</td></tr><tr><td>40</td></tr><tr><td>40</td></tr><tr><td>25</td></tr><tr><td>45</td></tr><tr><td>55</td></tr><tr><td>10</td></tr><tr><td>46</td></tr><tr><td>30</td></tr><tr><td>40</td></tr><tr><td>35</td></tr><tr><td>40</td></tr><tr><td>40</td></tr><tr><td>40</td></tr><tr><td>8</td></tr><tr><td>40</td></tr><tr><td>18</td></tr><tr><td>40</td></tr><tr><td>3</td></tr><tr><td>16</td></tr><tr><td>40</td></tr><tr><td>40</td></tr><tr><td>50</td></tr><tr><td>20</td></tr><tr><td>40</td></tr><tr><td>30</td></tr><tr><td>40</td></tr><tr><td>60</td></tr><tr><td>40</td></tr><tr><td>50</td></tr><tr><td>40</td></tr><tr><td>35</td></tr><tr><td>30</td></tr><tr><td>40</td></tr><tr><td>40</td></tr><tr><td>25</td></tr><tr><td>40</td></tr><tr><td>48</td></tr><tr><td>40</td></tr><tr><td>40</td></tr><tr><td>35</td></tr><tr><td>40</td></tr><tr><td>39</td></tr><tr><td>40</td></tr><tr><td>55</td></tr><tr><td>40</td></tr><tr><td>1</td></tr><tr><td>50</td></tr><tr><td>50</td></tr><tr><td>45</td></tr><tr><td>40</td></tr><tr><td>40</td></tr><tr><td>55</td></tr><tr><td>40</td></tr><tr><td>40</td></tr><tr><td>40</td></tr><tr><td>40</td></tr><tr><td>40</td></tr><tr><td>60</td></tr><tr><td>30</td></tr><tr><td>50</td></tr><tr><td>40</td></tr><tr><td>35</td></tr><tr><td>40</td></tr><tr><td>40</td></tr><tr><td>45</td></tr><tr><td>55</td></tr><tr><td>40</td></tr><tr><td>40</td></tr><tr><td>44</td></tr><tr><td>60</td></tr><tr><td>40</td></tr><tr><td>50</td></tr><tr><td>45</td></tr><tr><td>30</td></tr><tr><td>50</td></tr><tr><td>44</td></tr><tr><td>99</td></tr><tr><td>40</td></tr><tr><td>40</td></tr><tr><td>38</td></tr><tr><td>60</td></tr><tr><td>60</td></tr><tr><td>80</td></tr><tr><td>55</td></tr><tr><td>40</td></tr><tr><td>40</td></tr><tr><td>38</td></tr><tr><td>40</td></tr><tr><td>30</td></tr><tr><td>40</td></tr><tr><td>40</td></tr><tr><td>40</td></tr><tr><td>40</td></tr><tr><td>35</td></tr><tr><td>36</td></tr><tr><td>40</td></tr><tr><td>40</td></tr><tr><td>30</td></tr><tr><td>50</td></tr><tr><td>40</td></tr><tr><td>40</td></tr><tr><td>23</td></tr><tr><td>55</td></tr><tr><td>70</td></tr><tr><td>12</td></tr><tr><td>40</td></tr><tr><td>50</td></tr><tr><td>32</td></tr><tr><td>40</td></tr><tr><td>40</td></tr><tr><td>40</td></tr><tr><td>40</td></tr><tr><td>48</td></tr><tr><td>48</td></tr><tr><td>40</td></tr><tr><td>40</td></tr><tr><td>60</td></tr><tr><td>45</td></tr><tr><td>40</td></tr><tr><td>35</td></tr><tr><td>40</td></tr><tr><td>40</td></tr><tr><td>40</td></tr><tr><td>55</td></tr><tr><td>44</td></tr><tr><td>49</td></tr><tr><td>16</td></tr><tr><td>40</td></tr><tr><td>35</td></tr><tr><td>56</td></tr><tr><td>40</td></tr><tr><td>40</td></tr><tr><td>40</td></tr><tr><td>40</td></tr><tr><td>55</td></tr><tr><td>35</td></tr><tr><td>40</td></tr><tr><td>40</td></tr><tr><td>40</td></tr><tr><td>40</td></tr><tr><td>50</td></tr><tr><td>40</td></tr><tr><td>60</td></tr><tr><td>40</td></tr><tr><td>40</td></tr><tr><td>40</td></tr><tr><td>80</td></tr><tr><td>45</td></tr><tr><td>40</td></tr><tr><td>40</td></tr><tr><td>37</td></tr><tr><td>40</td></tr><tr><td>67</td></tr><tr><td>60</td></tr><tr><td>60</td></tr><tr><td>20</td></tr><tr><td>45</td></tr><tr><td>40</td></tr><tr><td>40</td></tr><tr><td>40</td></tr><tr><td>42</td></tr><tr><td>40</td></tr><tr><td>45</td></tr><tr><td>35</td></tr><tr><td>25</td></tr><tr><td>40</td></tr><tr><td>40</td></tr><tr><td>40</td></tr><tr><td>40</td></tr><tr><td>52</td></tr><tr><td>20</td></tr><tr><td>15</td></tr><tr><td>40</td></tr><tr><td>45</td></tr><tr><td>40</td></tr></tbody></table>Showing the first 1000 rows.</div>"
            ]
          },
          "metadata": {
            "tags": [],
            "application/vnd.databricks.v1+output": {
              "overflow": true,
              "datasetInfos": [],
              "data": [
                [
                  40
                ],
                [
                  50
                ],
                [
                  40
                ],
                [
                  40
                ],
                [
                  30
                ],
                [
                  30
                ],
                [
                  40
                ],
                [
                  32
                ],
                [
                  40
                ],
                [
                  10
                ],
                [
                  40
                ],
                [
                  40
                ],
                [
                  39
                ],
                [
                  35
                ],
                [
                  48
                ],
                [
                  50
                ],
                [
                  25
                ],
                [
                  30
                ],
                [
                  20
                ],
                [
                  45
                ],
                [
                  47
                ],
                [
                  35
                ],
                [
                  6
                ],
                [
                  43
                ],
                [
                  40
                ],
                [
                  90
                ],
                [
                  20
                ],
                [
                  54
                ],
                [
                  35
                ],
                [
                  60
                ],
                [
                  38
                ],
                [
                  50
                ],
                [
                  50
                ],
                [
                  40
                ],
                [
                  40
                ],
                [
                  40
                ],
                [
                  40
                ],
                [
                  50
                ],
                [
                  40
                ],
                [
                  40
                ],
                [
                  50
                ],
                [
                  45
                ],
                [
                  40
                ],
                [
                  40
                ],
                [
                  32
                ],
                [
                  36
                ],
                [
                  40
                ],
                [
                  50
                ],
                [
                  18
                ],
                [
                  50
                ],
                [
                  20
                ],
                [
                  40
                ],
                [
                  24
                ],
                [
                  60
                ],
                [
                  54
                ],
                [
                  40
                ],
                [
                  40
                ],
                [
                  50
                ],
                [
                  50
                ],
                [
                  40
                ],
                [
                  50
                ],
                [
                  40
                ],
                [
                  40
                ],
                [
                  40
                ],
                [
                  40
                ],
                [
                  40
                ],
                [
                  60
                ],
                [
                  20
                ],
                [
                  40
                ],
                [
                  48
                ],
                [
                  45
                ],
                [
                  40
                ],
                [
                  40
                ],
                [
                  40
                ],
                [
                  40
                ],
                [
                  40
                ],
                [
                  50
                ],
                [
                  30
                ],
                [
                  40
                ],
                [
                  40
                ],
                [
                  50
                ],
                [
                  40
                ],
                [
                  40
                ],
                [
                  50
                ],
                [
                  50
                ],
                [
                  44
                ],
                [
                  10
                ],
                [
                  56
                ],
                [
                  40
                ],
                [
                  10
                ],
                [
                  25
                ],
                [
                  20
                ],
                [
                  10
                ],
                [
                  40
                ],
                [
                  40
                ],
                [
                  40
                ],
                [
                  40
                ],
                [
                  40
                ],
                [
                  40
                ],
                [
                  40
                ],
                [
                  18
                ],
                [
                  35
                ],
                [
                  39
                ],
                [
                  40
                ],
                [
                  28
                ],
                [
                  40
                ],
                [
                  40
                ],
                [
                  40
                ],
                [
                  16
                ],
                [
                  28
                ],
                [
                  48
                ],
                [
                  40
                ],
                [
                  40
                ],
                [
                  20
                ],
                [
                  40
                ],
                [
                  40
                ],
                [
                  40
                ],
                [
                  24
                ],
                [
                  40
                ],
                [
                  40
                ],
                [
                  60
                ],
                [
                  25
                ],
                [
                  30
                ],
                [
                  40
                ],
                [
                  40
                ],
                [
                  25
                ],
                [
                  40
                ],
                [
                  40
                ],
                [
                  60
                ],
                [
                  50
                ],
                [
                  40
                ],
                [
                  40
                ],
                [
                  40
                ],
                [
                  41
                ],
                [
                  48
                ],
                [
                  40
                ],
                [
                  60
                ],
                [
                  40
                ],
                [
                  35
                ],
                [
                  40
                ],
                [
                  40
                ],
                [
                  22
                ],
                [
                  55
                ],
                [
                  45
                ],
                [
                  30
                ],
                [
                  30
                ],
                [
                  30
                ],
                [
                  40
                ],
                [
                  50
                ],
                [
                  30
                ],
                [
                  14
                ],
                [
                  32
                ],
                [
                  20
                ],
                [
                  40
                ],
                [
                  45
                ],
                [
                  40
                ],
                [
                  40
                ],
                [
                  25
                ],
                [
                  40
                ],
                [
                  40
                ],
                [
                  30
                ],
                [
                  40
                ],
                [
                  45
                ],
                [
                  40
                ],
                [
                  45
                ],
                [
                  40
                ],
                [
                  16
                ],
                [
                  45
                ],
                [
                  25
                ],
                [
                  33
                ],
                [
                  40
                ],
                [
                  40
                ],
                [
                  40
                ],
                [
                  60
                ],
                [
                  40
                ],
                [
                  45
                ],
                [
                  45
                ],
                [
                  37
                ],
                [
                  50
                ],
                [
                  40
                ],
                [
                  40
                ],
                [
                  40
                ],
                [
                  38
                ],
                [
                  55
                ],
                [
                  40
                ],
                [
                  8
                ],
                [
                  45
                ],
                [
                  50
                ],
                [
                  40
                ],
                [
                  45
                ],
                [
                  40
                ],
                [
                  50
                ],
                [
                  37
                ],
                [
                  40
                ],
                [
                  55
                ],
                [
                  40
                ],
                [
                  45
                ],
                [
                  50
                ],
                [
                  40
                ],
                [
                  40
                ],
                [
                  40
                ],
                [
                  50
                ],
                [
                  45
                ],
                [
                  40
                ],
                [
                  40
                ],
                [
                  54
                ],
                [
                  40
                ],
                [
                  20
                ],
                [
                  50
                ],
                [
                  55
                ],
                [
                  12
                ],
                [
                  50
                ],
                [
                  40
                ],
                [
                  40
                ],
                [
                  32
                ],
                [
                  40
                ],
                [
                  32
                ],
                [
                  38
                ],
                [
                  40
                ],
                [
                  45
                ],
                [
                  40
                ],
                [
                  40
                ],
                [
                  40
                ],
                [
                  40
                ],
                [
                  40
                ],
                [
                  40
                ],
                [
                  38
                ],
                [
                  40
                ],
                [
                  40
                ],
                [
                  35
                ],
                [
                  40
                ],
                [
                  50
                ],
                [
                  50
                ],
                [
                  40
                ],
                [
                  30
                ],
                [
                  60
                ],
                [
                  40
                ],
                [
                  28
                ],
                [
                  40
                ],
                [
                  40
                ],
                [
                  35
                ],
                [
                  60
                ],
                [
                  12
                ],
                [
                  32
                ],
                [
                  20
                ],
                [
                  50
                ],
                [
                  40
                ],
                [
                  40
                ],
                [
                  70
                ],
                [
                  40
                ],
                [
                  15
                ],
                [
                  50
                ],
                [
                  40
                ],
                [
                  40
                ],
                [
                  50
                ],
                [
                  35
                ],
                [
                  40
                ],
                [
                  40
                ],
                [
                  40
                ],
                [
                  20
                ],
                [
                  50
                ],
                [
                  40
                ],
                [
                  40
                ],
                [
                  40
                ],
                [
                  40
                ],
                [
                  40
                ],
                [
                  40
                ],
                [
                  25
                ],
                [
                  30
                ],
                [
                  20
                ],
                [
                  75
                ],
                [
                  40
                ],
                [
                  40
                ],
                [
                  38
                ],
                [
                  35
                ],
                [
                  35
                ],
                [
                  52
                ],
                [
                  24
                ],
                [
                  50
                ],
                [
                  60
                ],
                [
                  40
                ],
                [
                  38
                ],
                [
                  25
                ],
                [
                  40
                ],
                [
                  55
                ],
                [
                  48
                ],
                [
                  40
                ],
                [
                  40
                ],
                [
                  40
                ],
                [
                  40
                ],
                [
                  55
                ],
                [
                  40
                ],
                [
                  40
                ],
                [
                  40
                ],
                [
                  40
                ],
                [
                  40
                ],
                [
                  32
                ],
                [
                  40
                ],
                [
                  60
                ],
                [
                  48
                ],
                [
                  40
                ],
                [
                  38
                ],
                [
                  38
                ],
                [
                  40
                ],
                [
                  16
                ],
                [
                  40
                ],
                [
                  40
                ],
                [
                  40
                ],
                [
                  60
                ],
                [
                  84
                ],
                [
                  45
                ],
                [
                  40
                ],
                [
                  60
                ],
                [
                  45
                ],
                [
                  35
                ],
                [
                  42
                ],
                [
                  40
                ],
                [
                  25
                ],
                [
                  40
                ],
                [
                  40
                ],
                [
                  40
                ],
                [
                  40
                ],
                [
                  40
                ],
                [
                  40
                ],
                [
                  40
                ],
                [
                  50
                ],
                [
                  42
                ],
                [
                  15
                ],
                [
                  60
                ],
                [
                  50
                ],
                [
                  20
                ],
                [
                  45
                ],
                [
                  40
                ],
                [
                  42
                ],
                [
                  50
                ],
                [
                  40
                ],
                [
                  55
                ],
                [
                  40
                ],
                [
                  80
                ],
                [
                  48
                ],
                [
                  40
                ],
                [
                  40
                ],
                [
                  40
                ],
                [
                  45
                ],
                [
                  40
                ],
                [
                  50
                ],
                [
                  40
                ],
                [
                  50
                ],
                [
                  40
                ],
                [
                  40
                ],
                [
                  40
                ],
                [
                  30
                ],
                [
                  40
                ],
                [
                  12
                ],
                [
                  84
                ],
                [
                  50
                ],
                [
                  45
                ],
                [
                  80
                ],
                [
                  40
                ],
                [
                  40
                ],
                [
                  40
                ],
                [
                  60
                ],
                [
                  25
                ],
                [
                  40
                ],
                [
                  50
                ],
                [
                  25
                ],
                [
                  70
                ],
                [
                  60
                ],
                [
                  8
                ],
                [
                  40
                ],
                [
                  68
                ],
                [
                  40
                ],
                [
                  40
                ],
                [
                  44
                ],
                [
                  45
                ],
                [
                  40
                ],
                [
                  40
                ],
                [
                  40
                ],
                [
                  10
                ],
                [
                  15
                ],
                [
                  40
                ],
                [
                  40
                ],
                [
                  35
                ],
                [
                  35
                ],
                [
                  99
                ],
                [
                  35
                ],
                [
                  37
                ],
                [
                  40
                ],
                [
                  40
                ],
                [
                  55
                ],
                [
                  50
                ],
                [
                  40
                ],
                [
                  50
                ],
                [
                  40
                ],
                [
                  40
                ],
                [
                  60
                ],
                [
                  45
                ],
                [
                  16
                ],
                [
                  45
                ],
                [
                  40
                ],
                [
                  40
                ],
                [
                  20
                ],
                [
                  25
                ],
                [
                  36
                ],
                [
                  65
                ],
                [
                  55
                ],
                [
                  40
                ],
                [
                  40
                ],
                [
                  40
                ],
                [
                  24
                ],
                [
                  40
                ],
                [
                  40
                ],
                [
                  70
                ],
                [
                  25
                ],
                [
                  40
                ],
                [
                  40
                ],
                [
                  30
                ],
                [
                  40
                ],
                [
                  40
                ],
                [
                  40
                ],
                [
                  40
                ],
                [
                  40
                ],
                [
                  40
                ],
                [
                  45
                ],
                [
                  40
                ],
                [
                  40
                ],
                [
                  40
                ],
                [
                  40
                ],
                [
                  45
                ],
                [
                  35
                ],
                [
                  50
                ],
                [
                  20
                ],
                [
                  40
                ],
                [
                  37
                ],
                [
                  20
                ],
                [
                  40
                ],
                [
                  55
                ],
                [
                  5
                ],
                [
                  60
                ],
                [
                  50
                ],
                [
                  40
                ],
                [
                  40
                ],
                [
                  40
                ],
                [
                  60
                ],
                [
                  20
                ],
                [
                  55
                ],
                [
                  50
                ],
                [
                  40
                ],
                [
                  40
                ],
                [
                  40
                ],
                [
                  40
                ],
                [
                  48
                ],
                [
                  40
                ],
                [
                  44
                ],
                [
                  40
                ],
                [
                  42
                ],
                [
                  35
                ],
                [
                  65
                ],
                [
                  35
                ],
                [
                  40
                ],
                [
                  39
                ],
                [
                  40
                ],
                [
                  60
                ],
                [
                  38
                ],
                [
                  40
                ],
                [
                  40
                ],
                [
                  40
                ],
                [
                  40
                ],
                [
                  40
                ],
                [
                  40
                ],
                [
                  20
                ],
                [
                  10
                ],
                [
                  50
                ],
                [
                  40
                ],
                [
                  40
                ],
                [
                  75
                ],
                [
                  40
                ],
                [
                  40
                ],
                [
                  20
                ],
                [
                  32
                ],
                [
                  28
                ],
                [
                  40
                ],
                [
                  17
                ],
                [
                  50
                ],
                [
                  35
                ],
                [
                  40
                ],
                [
                  40
                ],
                [
                  30
                ],
                [
                  35
                ],
                [
                  40
                ],
                [
                  40
                ],
                [
                  28
                ],
                [
                  60
                ],
                [
                  40
                ],
                [
                  40
                ],
                [
                  36
                ],
                [
                  40
                ],
                [
                  60
                ],
                [
                  40
                ],
                [
                  35
                ],
                [
                  40
                ],
                [
                  55
                ],
                [
                  40
                ],
                [
                  33
                ],
                [
                  60
                ],
                [
                  10
                ],
                [
                  10
                ],
                [
                  45
                ],
                [
                  36
                ],
                [
                  65
                ],
                [
                  40
                ],
                [
                  38
                ],
                [
                  40
                ],
                [
                  18
                ],
                [
                  40
                ],
                [
                  50
                ],
                [
                  40
                ],
                [
                  40
                ],
                [
                  60
                ],
                [
                  45
                ],
                [
                  40
                ],
                [
                  50
                ],
                [
                  72
                ],
                [
                  12
                ],
                [
                  50
                ],
                [
                  40
                ],
                [
                  40
                ],
                [
                  40
                ],
                [
                  35
                ],
                [
                  50
                ],
                [
                  50
                ],
                [
                  37
                ],
                [
                  40
                ],
                [
                  40
                ],
                [
                  60
                ],
                [
                  30
                ],
                [
                  45
                ],
                [
                  40
                ],
                [
                  60
                ],
                [
                  20
                ],
                [
                  50
                ],
                [
                  50
                ],
                [
                  40
                ],
                [
                  40
                ],
                [
                  45
                ],
                [
                  60
                ],
                [
                  40
                ],
                [
                  40
                ],
                [
                  50
                ],
                [
                  60
                ],
                [
                  25
                ],
                [
                  35
                ],
                [
                  50
                ],
                [
                  40
                ],
                [
                  40
                ],
                [
                  40
                ],
                [
                  60
                ],
                [
                  40
                ],
                [
                  50
                ],
                [
                  25
                ],
                [
                  40
                ],
                [
                  40
                ],
                [
                  35
                ],
                [
                  8
                ],
                [
                  60
                ],
                [
                  40
                ],
                [
                  54
                ],
                [
                  40
                ],
                [
                  65
                ],
                [
                  37
                ],
                [
                  40
                ],
                [
                  30
                ],
                [
                  48
                ],
                [
                  35
                ],
                [
                  40
                ],
                [
                  50
                ],
                [
                  80
                ],
                [
                  45
                ],
                [
                  45
                ],
                [
                  45
                ],
                [
                  40
                ],
                [
                  40
                ],
                [
                  50
                ],
                [
                  40
                ],
                [
                  40
                ],
                [
                  30
                ],
                [
                  40
                ],
                [
                  40
                ],
                [
                  40
                ],
                [
                  40
                ],
                [
                  40
                ],
                [
                  40
                ],
                [
                  35
                ],
                [
                  20
                ],
                [
                  50
                ],
                [
                  40
                ],
                [
                  28
                ],
                [
                  55
                ],
                [
                  55
                ],
                [
                  35
                ],
                [
                  40
                ],
                [
                  40
                ],
                [
                  60
                ],
                [
                  40
                ],
                [
                  40
                ],
                [
                  40
                ],
                [
                  40
                ],
                [
                  50
                ],
                [
                  40
                ],
                [
                  40
                ],
                [
                  56
                ],
                [
                  48
                ],
                [
                  30
                ],
                [
                  40
                ],
                [
                  40
                ],
                [
                  40
                ],
                [
                  30
                ],
                [
                  40
                ],
                [
                  40
                ],
                [
                  53
                ],
                [
                  38
                ],
                [
                  35
                ],
                [
                  40
                ],
                [
                  40
                ],
                [
                  40
                ],
                [
                  50
                ],
                [
                  10
                ],
                [
                  45
                ],
                [
                  60
                ],
                [
                  40
                ],
                [
                  40
                ],
                [
                  37
                ],
                [
                  40
                ],
                [
                  30
                ],
                [
                  52
                ],
                [
                  40
                ],
                [
                  40
                ],
                [
                  10
                ],
                [
                  42
                ],
                [
                  40
                ],
                [
                  40
                ],
                [
                  40
                ],
                [
                  40
                ],
                [
                  40
                ],
                [
                  40
                ],
                [
                  25
                ],
                [
                  25
                ],
                [
                  40
                ],
                [
                  40
                ],
                [
                  20
                ],
                [
                  40
                ],
                [
                  40
                ],
                [
                  20
                ],
                [
                  40
                ],
                [
                  40
                ],
                [
                  20
                ],
                [
                  50
                ],
                [
                  25
                ],
                [
                  55
                ],
                [
                  45
                ],
                [
                  20
                ],
                [
                  32
                ],
                [
                  10
                ],
                [
                  40
                ],
                [
                  29
                ],
                [
                  32
                ],
                [
                  40
                ],
                [
                  40
                ],
                [
                  40
                ],
                [
                  75
                ],
                [
                  24
                ],
                [
                  35
                ],
                [
                  40
                ],
                [
                  40
                ],
                [
                  40
                ],
                [
                  20
                ],
                [
                  50
                ],
                [
                  40
                ],
                [
                  40
                ],
                [
                  50
                ],
                [
                  20
                ],
                [
                  40
                ],
                [
                  40
                ],
                [
                  52
                ],
                [
                  40
                ],
                [
                  52
                ],
                [
                  70
                ],
                [
                  40
                ],
                [
                  55
                ],
                [
                  40
                ],
                [
                  35
                ],
                [
                  40
                ],
                [
                  55
                ],
                [
                  30
                ],
                [
                  40
                ],
                [
                  40
                ],
                [
                  25
                ],
                [
                  10
                ],
                [
                  80
                ],
                [
                  45
                ],
                [
                  40
                ],
                [
                  50
                ],
                [
                  60
                ],
                [
                  16
                ],
                [
                  40
                ],
                [
                  40
                ],
                [
                  25
                ],
                [
                  40
                ],
                [
                  40
                ],
                [
                  40
                ],
                [
                  45
                ],
                [
                  65
                ],
                [
                  40
                ],
                [
                  40
                ],
                [
                  50
                ],
                [
                  40
                ],
                [
                  40
                ],
                [
                  37
                ],
                [
                  60
                ],
                [
                  48
                ],
                [
                  40
                ],
                [
                  48
                ],
                [
                  60
                ],
                [
                  96
                ],
                [
                  40
                ],
                [
                  40
                ],
                [
                  50
                ],
                [
                  25
                ],
                [
                  40
                ],
                [
                  50
                ],
                [
                  40
                ],
                [
                  45
                ],
                [
                  50
                ],
                [
                  40
                ],
                [
                  20
                ],
                [
                  50
                ],
                [
                  40
                ],
                [
                  55
                ],
                [
                  30
                ],
                [
                  50
                ],
                [
                  40
                ],
                [
                  40
                ],
                [
                  40
                ],
                [
                  50
                ],
                [
                  40
                ],
                [
                  28
                ],
                [
                  60
                ],
                [
                  52
                ],
                [
                  45
                ],
                [
                  40
                ],
                [
                  50
                ],
                [
                  35
                ],
                [
                  50
                ],
                [
                  40
                ],
                [
                  40
                ],
                [
                  45
                ],
                [
                  33
                ],
                [
                  40
                ],
                [
                  50
                ],
                [
                  55
                ],
                [
                  40
                ],
                [
                  40
                ],
                [
                  40
                ],
                [
                  33
                ],
                [
                  28
                ],
                [
                  40
                ],
                [
                  40
                ],
                [
                  40
                ],
                [
                  40
                ],
                [
                  35
                ],
                [
                  21
                ],
                [
                  40
                ],
                [
                  40
                ],
                [
                  8
                ],
                [
                  35
                ],
                [
                  60
                ],
                [
                  50
                ],
                [
                  60
                ],
                [
                  40
                ],
                [
                  40
                ],
                [
                  40
                ],
                [
                  40
                ],
                [
                  40
                ],
                [
                  40
                ],
                [
                  40
                ],
                [
                  40
                ],
                [
                  15
                ],
                [
                  40
                ],
                [
                  40
                ],
                [
                  40
                ],
                [
                  40
                ],
                [
                  20
                ],
                [
                  40
                ],
                [
                  40
                ],
                [
                  40
                ],
                [
                  10
                ],
                [
                  43
                ],
                [
                  45
                ],
                [
                  30
                ],
                [
                  45
                ],
                [
                  25
                ],
                [
                  45
                ],
                [
                  50
                ],
                [
                  40
                ],
                [
                  40
                ],
                [
                  48
                ],
                [
                  40
                ],
                [
                  40
                ],
                [
                  38
                ],
                [
                  40
                ],
                [
                  90
                ],
                [
                  40
                ],
                [
                  40
                ],
                [
                  40
                ],
                [
                  15
                ],
                [
                  40
                ],
                [
                  5
                ],
                [
                  16
                ],
                [
                  25
                ],
                [
                  60
                ],
                [
                  37
                ],
                [
                  25
                ],
                [
                  40
                ],
                [
                  35
                ],
                [
                  40
                ],
                [
                  40
                ],
                [
                  40
                ],
                [
                  25
                ],
                [
                  45
                ],
                [
                  55
                ],
                [
                  10
                ],
                [
                  46
                ],
                [
                  30
                ],
                [
                  40
                ],
                [
                  35
                ],
                [
                  40
                ],
                [
                  40
                ],
                [
                  40
                ],
                [
                  8
                ],
                [
                  40
                ],
                [
                  18
                ],
                [
                  40
                ],
                [
                  3
                ],
                [
                  16
                ],
                [
                  40
                ],
                [
                  40
                ],
                [
                  50
                ],
                [
                  20
                ],
                [
                  40
                ],
                [
                  30
                ],
                [
                  40
                ],
                [
                  60
                ],
                [
                  40
                ],
                [
                  50
                ],
                [
                  40
                ],
                [
                  35
                ],
                [
                  30
                ],
                [
                  40
                ],
                [
                  40
                ],
                [
                  25
                ],
                [
                  40
                ],
                [
                  48
                ],
                [
                  40
                ],
                [
                  40
                ],
                [
                  35
                ],
                [
                  40
                ],
                [
                  39
                ],
                [
                  40
                ],
                [
                  55
                ],
                [
                  40
                ],
                [
                  1
                ],
                [
                  50
                ],
                [
                  50
                ],
                [
                  45
                ],
                [
                  40
                ],
                [
                  40
                ],
                [
                  55
                ],
                [
                  40
                ],
                [
                  40
                ],
                [
                  40
                ],
                [
                  40
                ],
                [
                  40
                ],
                [
                  60
                ],
                [
                  30
                ],
                [
                  50
                ],
                [
                  40
                ],
                [
                  35
                ],
                [
                  40
                ],
                [
                  40
                ],
                [
                  45
                ],
                [
                  55
                ],
                [
                  40
                ],
                [
                  40
                ],
                [
                  44
                ],
                [
                  60
                ],
                [
                  40
                ],
                [
                  50
                ],
                [
                  45
                ],
                [
                  30
                ],
                [
                  50
                ],
                [
                  44
                ],
                [
                  99
                ],
                [
                  40
                ],
                [
                  40
                ],
                [
                  38
                ],
                [
                  60
                ],
                [
                  60
                ],
                [
                  80
                ],
                [
                  55
                ],
                [
                  40
                ],
                [
                  40
                ],
                [
                  38
                ],
                [
                  40
                ],
                [
                  30
                ],
                [
                  40
                ],
                [
                  40
                ],
                [
                  40
                ],
                [
                  40
                ],
                [
                  35
                ],
                [
                  36
                ],
                [
                  40
                ],
                [
                  40
                ],
                [
                  30
                ],
                [
                  50
                ],
                [
                  40
                ],
                [
                  40
                ],
                [
                  23
                ],
                [
                  55
                ],
                [
                  70
                ],
                [
                  12
                ],
                [
                  40
                ],
                [
                  50
                ],
                [
                  32
                ],
                [
                  40
                ],
                [
                  40
                ],
                [
                  40
                ],
                [
                  40
                ],
                [
                  48
                ],
                [
                  48
                ],
                [
                  40
                ],
                [
                  40
                ],
                [
                  60
                ],
                [
                  45
                ],
                [
                  40
                ],
                [
                  35
                ],
                [
                  40
                ],
                [
                  40
                ],
                [
                  40
                ],
                [
                  55
                ],
                [
                  44
                ],
                [
                  49
                ],
                [
                  16
                ],
                [
                  40
                ],
                [
                  35
                ],
                [
                  56
                ],
                [
                  40
                ],
                [
                  40
                ],
                [
                  40
                ],
                [
                  40
                ],
                [
                  55
                ],
                [
                  35
                ],
                [
                  40
                ],
                [
                  40
                ],
                [
                  40
                ],
                [
                  40
                ],
                [
                  50
                ],
                [
                  40
                ],
                [
                  60
                ],
                [
                  40
                ],
                [
                  40
                ],
                [
                  40
                ],
                [
                  80
                ],
                [
                  45
                ],
                [
                  40
                ],
                [
                  40
                ],
                [
                  37
                ],
                [
                  40
                ],
                [
                  67
                ],
                [
                  60
                ],
                [
                  60
                ],
                [
                  20
                ],
                [
                  45
                ],
                [
                  40
                ],
                [
                  40
                ],
                [
                  40
                ],
                [
                  42
                ],
                [
                  40
                ],
                [
                  45
                ],
                [
                  35
                ],
                [
                  25
                ],
                [
                  40
                ],
                [
                  40
                ],
                [
                  40
                ],
                [
                  40
                ],
                [
                  52
                ],
                [
                  20
                ],
                [
                  15
                ],
                [
                  40
                ],
                [
                  45
                ],
                [
                  40
                ]
              ],
              "plotOptions": {
                "displayType": "boxPlot",
                "customPlotOptions": {},
                "pivotColumns": null,
                "pivotAggregation": null,
                "xColumns": null,
                "yColumns": null
              },
              "columnCustomDisplayInfos": {},
              "aggType": "",
              "isJsonSchema": true,
              "removedWidgets": [],
              "aggSchema": [],
              "schema": [
                {
                  "name": "hours-per-week",
                  "type": "\"integer\"",
                  "metadata": "{}"
                }
              ],
              "aggError": "",
              "aggData": [],
              "addedWidgets": {},
              "dbfsResultPath": null,
              "type": "table",
              "aggOverflow": false,
              "aggSeriesLimitReached": false,
              "arguments": {}
            }
          }
        }
      ]
    },
    {
      "cell_type": "code",
      "metadata": {
        "application/vnd.databricks.v1+cell": {
          "title": "",
          "showTitle": false,
          "inputWidgets": {},
          "nuid": "6b7212f1-d3b1-4b48-a13c-d1411a24dbda"
        },
        "id": "XBvtqtNNbA6x",
        "outputId": "c8a8a119-72d7-4c3e-f676-2def211df8b9"
      },
      "source": [
        "#boxplot\n",
        "display(data.select('age'))"
      ],
      "execution_count": null,
      "outputs": [
        {
          "output_type": "display_data",
          "data": {
            "text/html": [
              "<style scoped>\n",
              "  .table-result-container {\n",
              "    max-height: 300px;\n",
              "    overflow: auto;\n",
              "  }\n",
              "  table, th, td {\n",
              "    border: 1px solid black;\n",
              "    border-collapse: collapse;\n",
              "  }\n",
              "  th, td {\n",
              "    padding: 5px;\n",
              "  }\n",
              "  th {\n",
              "    text-align: left;\n",
              "  }\n",
              "</style><div class='table-result-container'><table class='table-result'><thead style='background-color: white'><tr><th>age</th></tr></thead><tbody><tr><td>25</td></tr><tr><td>38</td></tr><tr><td>28</td></tr><tr><td>44</td></tr><tr><td>18</td></tr><tr><td>34</td></tr><tr><td>29</td></tr><tr><td>63</td></tr><tr><td>24</td></tr><tr><td>55</td></tr><tr><td>65</td></tr><tr><td>36</td></tr><tr><td>26</td></tr><tr><td>58</td></tr><tr><td>48</td></tr><tr><td>43</td></tr><tr><td>20</td></tr><tr><td>43</td></tr><tr><td>37</td></tr><tr><td>40</td></tr><tr><td>34</td></tr><tr><td>34</td></tr><tr><td>72</td></tr><tr><td>25</td></tr><tr><td>25</td></tr><tr><td>45</td></tr><tr><td>22</td></tr><tr><td>23</td></tr><tr><td>54</td></tr><tr><td>32</td></tr><tr><td>46</td></tr><tr><td>56</td></tr><tr><td>24</td></tr><tr><td>23</td></tr><tr><td>26</td></tr><tr><td>65</td></tr><tr><td>36</td></tr><tr><td>22</td></tr><tr><td>17</td></tr><tr><td>20</td></tr><tr><td>65</td></tr><tr><td>44</td></tr><tr><td>36</td></tr><tr><td>29</td></tr><tr><td>20</td></tr><tr><td>28</td></tr><tr><td>39</td></tr><tr><td>54</td></tr><tr><td>52</td></tr><tr><td>56</td></tr><tr><td>18</td></tr><tr><td>39</td></tr><tr><td>21</td></tr><tr><td>22</td></tr><tr><td>38</td></tr><tr><td>21</td></tr><tr><td>63</td></tr><tr><td>34</td></tr><tr><td>42</td></tr><tr><td>33</td></tr><tr><td>30</td></tr><tr><td>39</td></tr><tr><td>26</td></tr><tr><td>33</td></tr><tr><td>47</td></tr><tr><td>41</td></tr><tr><td>41</td></tr><tr><td>19</td></tr><tr><td>46</td></tr><tr><td>43</td></tr><tr><td>55</td></tr><tr><td>46</td></tr><tr><td>30</td></tr><tr><td>21</td></tr><tr><td>46</td></tr><tr><td>17</td></tr><tr><td>41</td></tr><tr><td>69</td></tr><tr><td>50</td></tr><tr><td>20</td></tr><tr><td>45</td></tr><tr><td>23</td></tr><tr><td>24</td></tr><tr><td>44</td></tr><tr><td>31</td></tr><tr><td>43</td></tr><tr><td>20</td></tr><tr><td>55</td></tr><tr><td>24</td></tr><tr><td>41</td></tr><tr><td>59</td></tr><tr><td>49</td></tr><tr><td>33</td></tr><tr><td>59</td></tr><tr><td>34</td></tr><tr><td>20</td></tr><tr><td>25</td></tr><tr><td>49</td></tr><tr><td>59</td></tr><tr><td>20</td></tr><tr><td>51</td></tr><tr><td>33</td></tr><tr><td>22</td></tr><tr><td>58</td></tr><tr><td>52</td></tr><tr><td>36</td></tr><tr><td>41</td></tr><tr><td>28</td></tr><tr><td>19</td></tr><tr><td>18</td></tr><tr><td>18</td></tr><tr><td>28</td></tr><tr><td>29</td></tr><tr><td>20</td></tr><tr><td>40</td></tr><tr><td>26</td></tr><tr><td>46</td></tr><tr><td>23</td></tr><tr><td>44</td></tr><tr><td>43</td></tr><tr><td>31</td></tr><tr><td>18</td></tr><tr><td>19</td></tr><tr><td>41</td></tr><tr><td>41</td></tr><tr><td>69</td></tr><tr><td>48</td></tr><tr><td>28</td></tr><tr><td>27</td></tr><tr><td>41</td></tr><tr><td>41</td></tr><tr><td>24</td></tr><tr><td>20</td></tr><tr><td>42</td></tr><tr><td>57</td></tr><tr><td>30</td></tr><tr><td>36</td></tr><tr><td>49</td></tr><tr><td>33</td></tr><tr><td>23</td></tr><tr><td>46</td></tr><tr><td>18</td></tr><tr><td>40</td></tr><tr><td>43</td></tr><tr><td>34</td></tr><tr><td>47</td></tr><tr><td>44</td></tr><tr><td>33</td></tr><tr><td>55</td></tr><tr><td>19</td></tr><tr><td>28</td></tr><tr><td>27</td></tr><tr><td>50</td></tr><tr><td>22</td></tr><tr><td>40</td></tr><tr><td>25</td></tr><tr><td>26</td></tr><tr><td>22</td></tr><tr><td>42</td></tr><tr><td>38</td></tr><tr><td>55</td></tr><tr><td>32</td></tr><tr><td>22</td></tr><tr><td>29</td></tr><tr><td>46</td></tr><tr><td>31</td></tr><tr><td>58</td></tr><tr><td>42</td></tr><tr><td>18</td></tr><tr><td>58</td></tr><tr><td>54</td></tr><tr><td>34</td></tr><tr><td>26</td></tr><tr><td>61</td></tr><tr><td>48</td></tr><tr><td>36</td></tr><tr><td>24</td></tr><tr><td>40</td></tr><tr><td>33</td></tr><tr><td>37</td></tr><tr><td>34</td></tr><tr><td>56</td></tr><tr><td>28</td></tr><tr><td>37</td></tr><tr><td>44</td></tr><tr><td>64</td></tr><tr><td>54</td></tr><tr><td>23</td></tr><tr><td>34</td></tr><tr><td>22</td></tr><tr><td>33</td></tr><tr><td>39</td></tr><tr><td>47</td></tr><tr><td>79</td></tr><tr><td>26</td></tr><tr><td>31</td></tr><tr><td>44</td></tr><tr><td>42</td></tr><tr><td>19</td></tr><tr><td>27</td></tr><tr><td>51</td></tr><tr><td>28</td></tr><tr><td>57</td></tr><tr><td>45</td></tr><tr><td>50</td></tr><tr><td>34</td></tr><tr><td>45</td></tr><tr><td>73</td></tr><tr><td>34</td></tr><tr><td>31</td></tr><tr><td>19</td></tr><tr><td>25</td></tr><tr><td>38</td></tr><tr><td>39</td></tr><tr><td>23</td></tr><tr><td>49</td></tr><tr><td>33</td></tr><tr><td>21</td></tr><tr><td>31</td></tr><tr><td>23</td></tr><tr><td>34</td></tr><tr><td>25</td></tr><tr><td>39</td></tr><tr><td>52</td></tr><tr><td>63</td></tr><tr><td>41</td></tr><tr><td>46</td></tr><tr><td>53</td></tr><tr><td>25</td></tr><tr><td>77</td></tr><tr><td>18</td></tr><tr><td>38</td></tr><tr><td>55</td></tr><tr><td>34</td></tr><tr><td>80</td></tr><tr><td>34</td></tr><tr><td>52</td></tr><tr><td>42</td></tr><tr><td>26</td></tr><tr><td>31</td></tr><tr><td>25</td></tr><tr><td>55</td></tr><tr><td>19</td></tr><tr><td>62</td></tr><tr><td>22</td></tr><tr><td>39</td></tr><tr><td>35</td></tr><tr><td>28</td></tr><tr><td>47</td></tr><tr><td>44</td></tr><tr><td>21</td></tr><tr><td>35</td></tr><tr><td>24</td></tr><tr><td>42</td></tr><tr><td>28</td></tr><tr><td>21</td></tr><tr><td>62</td></tr><tr><td>39</td></tr><tr><td>30</td></tr><tr><td>72</td></tr><tr><td>50</td></tr><tr><td>28</td></tr><tr><td>29</td></tr><tr><td>26</td></tr><tr><td>27</td></tr><tr><td>29</td></tr><tr><td>61</td></tr><tr><td>29</td></tr><tr><td>21</td></tr><tr><td>31</td></tr><tr><td>25</td></tr><tr><td>58</td></tr><tr><td>64</td></tr><tr><td>46</td></tr><tr><td>53</td></tr><tr><td>19</td></tr><tr><td>42</td></tr><tr><td>18</td></tr><tr><td>58</td></tr><tr><td>20</td></tr><tr><td>35</td></tr><tr><td>32</td></tr><tr><td>23</td></tr><tr><td>31</td></tr><tr><td>33</td></tr><tr><td>41</td></tr><tr><td>22</td></tr><tr><td>46</td></tr><tr><td>61</td></tr><tr><td>30</td></tr><tr><td>42</td></tr><tr><td>63</td></tr><tr><td>26</td></tr><tr><td>42</td></tr><tr><td>23</td></tr><tr><td>25</td></tr><tr><td>30</td></tr><tr><td>23</td></tr><tr><td>34</td></tr><tr><td>30</td></tr><tr><td>39</td></tr><tr><td>30</td></tr><tr><td>38</td></tr><tr><td>26</td></tr><tr><td>20</td></tr><tr><td>37</td></tr><tr><td>33</td></tr><tr><td>24</td></tr><tr><td>42</td></tr><tr><td>51</td></tr><tr><td>56</td></tr><tr><td>22</td></tr><tr><td>52</td></tr><tr><td>44</td></tr><tr><td>34</td></tr><tr><td>51</td></tr><tr><td>20</td></tr><tr><td>19</td></tr><tr><td>37</td></tr><tr><td>68</td></tr><tr><td>22</td></tr><tr><td>56</td></tr><tr><td>37</td></tr><tr><td>52</td></tr><tr><td>26</td></tr><tr><td>33</td></tr><tr><td>45</td></tr><tr><td>18</td></tr><tr><td>43</td></tr><tr><td>64</td></tr><tr><td>18</td></tr><tr><td>20</td></tr><tr><td>57</td></tr><tr><td>41</td></tr><tr><td>34</td></tr><tr><td>19</td></tr><tr><td>44</td></tr><tr><td>56</td></tr><tr><td>36</td></tr><tr><td>48</td></tr><tr><td>29</td></tr><tr><td>33</td></tr><tr><td>31</td></tr><tr><td>39</td></tr><tr><td>66</td></tr><tr><td>27</td></tr><tr><td>39</td></tr><tr><td>59</td></tr><tr><td>26</td></tr><tr><td>31</td></tr><tr><td>45</td></tr><tr><td>23</td></tr><tr><td>36</td></tr><tr><td>34</td></tr><tr><td>32</td></tr><tr><td>37</td></tr><tr><td>33</td></tr><tr><td>50</td></tr><tr><td>32</td></tr><tr><td>35</td></tr><tr><td>37</td></tr><tr><td>44</td></tr><tr><td>57</td></tr><tr><td>29</td></tr><tr><td>55</td></tr><tr><td>43</td></tr><tr><td>43</td></tr><tr><td>45</td></tr><tr><td>33</td></tr><tr><td>26</td></tr><tr><td>23</td></tr><tr><td>41</td></tr><tr><td>24</td></tr><tr><td>47</td></tr><tr><td>34</td></tr><tr><td>40</td></tr><tr><td>28</td></tr><tr><td>24</td></tr><tr><td>73</td></tr><tr><td>23</td></tr><tr><td>43</td></tr><tr><td>26</td></tr><tr><td>58</td></tr><tr><td>52</td></tr><tr><td>29</td></tr><tr><td>47</td></tr><tr><td>49</td></tr><tr><td>40</td></tr><tr><td>62</td></tr><tr><td>49</td></tr><tr><td>50</td></tr><tr><td>31</td></tr><tr><td>48</td></tr><tr><td>24</td></tr><tr><td>41</td></tr><tr><td>37</td></tr><tr><td>45</td></tr><tr><td>63</td></tr><tr><td>36</td></tr><tr><td>45</td></tr><tr><td>41</td></tr><tr><td>26</td></tr><tr><td>17</td></tr><tr><td>27</td></tr><tr><td>43</td></tr><tr><td>35</td></tr><tr><td>38</td></tr><tr><td>26</td></tr><tr><td>28</td></tr><tr><td>38</td></tr><tr><td>36</td></tr><tr><td>33</td></tr><tr><td>19</td></tr><tr><td>22</td></tr><tr><td>42</td></tr><tr><td>50</td></tr><tr><td>30</td></tr><tr><td>37</td></tr><tr><td>54</td></tr><tr><td>52</td></tr><tr><td>65</td></tr><tr><td>33</td></tr><tr><td>25</td></tr><tr><td>24</td></tr><tr><td>26</td></tr><tr><td>39</td></tr><tr><td>59</td></tr><tr><td>29</td></tr><tr><td>47</td></tr><tr><td>23</td></tr><tr><td>64</td></tr><tr><td>21</td></tr><tr><td>32</td></tr><tr><td>26</td></tr><tr><td>19</td></tr><tr><td>62</td></tr><tr><td>32</td></tr><tr><td>75</td></tr><tr><td>45</td></tr><tr><td>31</td></tr><tr><td>32</td></tr><tr><td>24</td></tr><tr><td>25</td></tr><tr><td>41</td></tr><tr><td>18</td></tr><tr><td>44</td></tr><tr><td>40</td></tr><tr><td>27</td></tr><tr><td>23</td></tr><tr><td>21</td></tr><tr><td>37</td></tr><tr><td>65</td></tr><tr><td>43</td></tr><tr><td>45</td></tr><tr><td>24</td></tr><tr><td>24</td></tr><tr><td>19</td></tr><tr><td>37</td></tr><tr><td>24</td></tr><tr><td>34</td></tr><tr><td>50</td></tr><tr><td>36</td></tr><tr><td>39</td></tr><tr><td>44</td></tr><tr><td>45</td></tr><tr><td>32</td></tr><tr><td>47</td></tr><tr><td>50</td></tr><tr><td>32</td></tr><tr><td>19</td></tr><tr><td>19</td></tr><tr><td>28</td></tr><tr><td>28</td></tr><tr><td>39</td></tr><tr><td>21</td></tr><tr><td>73</td></tr><tr><td>39</td></tr><tr><td>25</td></tr><tr><td>31</td></tr><tr><td>51</td></tr><tr><td>39</td></tr><tr><td>31</td></tr><tr><td>21</td></tr><tr><td>46</td></tr><tr><td>73</td></tr><tr><td>41</td></tr><tr><td>20</td></tr><tr><td>27</td></tr><tr><td>24</td></tr><tr><td>20</td></tr><tr><td>39</td></tr><tr><td>27</td></tr><tr><td>33</td></tr><tr><td>33</td></tr><tr><td>36</td></tr><tr><td>55</td></tr><tr><td>19</td></tr><tr><td>35</td></tr><tr><td>34</td></tr><tr><td>62</td></tr><tr><td>33</td></tr><tr><td>39</td></tr><tr><td>36</td></tr><tr><td>41</td></tr><tr><td>39</td></tr><tr><td>38</td></tr><tr><td>18</td></tr><tr><td>61</td></tr><tr><td>20</td></tr><tr><td>35</td></tr><tr><td>27</td></tr><tr><td>66</td></tr><tr><td>21</td></tr><tr><td>20</td></tr><tr><td>34</td></tr><tr><td>63</td></tr><tr><td>20</td></tr><tr><td>31</td></tr><tr><td>41</td></tr><tr><td>64</td></tr><tr><td>32</td></tr><tr><td>30</td></tr><tr><td>36</td></tr><tr><td>22</td></tr><tr><td>53</td></tr><tr><td>50</td></tr><tr><td>36</td></tr><tr><td>41</td></tr><tr><td>55</td></tr><tr><td>38</td></tr><tr><td>28</td></tr><tr><td>24</td></tr><tr><td>60</td></tr><tr><td>54</td></tr><tr><td>27</td></tr><tr><td>30</td></tr><tr><td>54</td></tr><tr><td>44</td></tr><tr><td>52</td></tr><tr><td>18</td></tr><tr><td>55</td></tr><tr><td>35</td></tr><tr><td>37</td></tr><tr><td>22</td></tr><tr><td>45</td></tr><tr><td>38</td></tr><tr><td>48</td></tr><tr><td>35</td></tr><tr><td>21</td></tr><tr><td>37</td></tr><tr><td>18</td></tr><tr><td>26</td></tr><tr><td>48</td></tr><tr><td>51</td></tr><tr><td>52</td></tr><tr><td>32</td></tr><tr><td>39</td></tr><tr><td>51</td></tr><tr><td>54</td></tr><tr><td>21</td></tr><tr><td>43</td></tr><tr><td>32</td></tr><tr><td>31</td></tr><tr><td>73</td></tr><tr><td>26</td></tr><tr><td>35</td></tr><tr><td>73</td></tr><tr><td>25</td></tr><tr><td>58</td></tr><tr><td>32</td></tr><tr><td>28</td></tr><tr><td>41</td></tr><tr><td>53</td></tr><tr><td>49</td></tr><tr><td>55</td></tr><tr><td>29</td></tr><tr><td>28</td></tr><tr><td>44</td></tr><tr><td>41</td></tr><tr><td>26</td></tr><tr><td>23</td></tr><tr><td>37</td></tr><tr><td>23</td></tr><tr><td>33</td></tr><tr><td>44</td></tr><tr><td>21</td></tr><tr><td>36</td></tr><tr><td>44</td></tr><tr><td>23</td></tr><tr><td>26</td></tr><tr><td>32</td></tr><tr><td>31</td></tr><tr><td>50</td></tr><tr><td>18</td></tr><tr><td>49</td></tr><tr><td>59</td></tr><tr><td>38</td></tr><tr><td>50</td></tr><tr><td>51</td></tr><tr><td>22</td></tr><tr><td>54</td></tr><tr><td>37</td></tr><tr><td>31</td></tr><tr><td>67</td></tr><tr><td>43</td></tr><tr><td>21</td></tr><tr><td>30</td></tr><tr><td>32</td></tr><tr><td>36</td></tr><tr><td>33</td></tr><tr><td>37</td></tr><tr><td>29</td></tr><tr><td>18</td></tr><tr><td>26</td></tr><tr><td>51</td></tr><tr><td>39</td></tr><tr><td>18</td></tr><tr><td>52</td></tr><tr><td>31</td></tr><tr><td>45</td></tr><tr><td>38</td></tr><tr><td>21</td></tr><tr><td>33</td></tr><tr><td>39</td></tr><tr><td>31</td></tr><tr><td>43</td></tr><tr><td>64</td></tr><tr><td>33</td></tr><tr><td>49</td></tr><tr><td>41</td></tr><tr><td>55</td></tr><tr><td>52</td></tr><tr><td>42</td></tr><tr><td>24</td></tr><tr><td>42</td></tr><tr><td>41</td></tr><tr><td>35</td></tr><tr><td>71</td></tr><tr><td>54</td></tr><tr><td>24</td></tr><tr><td>59</td></tr><tr><td>30</td></tr><tr><td>57</td></tr><tr><td>58</td></tr><tr><td>32</td></tr><tr><td>22</td></tr><tr><td>20</td></tr><tr><td>60</td></tr><tr><td>51</td></tr><tr><td>26</td></tr><tr><td>33</td></tr><tr><td>19</td></tr><tr><td>50</td></tr><tr><td>32</td></tr><tr><td>51</td></tr><tr><td>18</td></tr><tr><td>35</td></tr><tr><td>22</td></tr><tr><td>46</td></tr><tr><td>37</td></tr><tr><td>45</td></tr><tr><td>63</td></tr><tr><td>53</td></tr><tr><td>24</td></tr><tr><td>65</td></tr><tr><td>43</td></tr><tr><td>47</td></tr><tr><td>41</td></tr><tr><td>27</td></tr><tr><td>35</td></tr><tr><td>19</td></tr><tr><td>47</td></tr><tr><td>25</td></tr><tr><td>59</td></tr><tr><td>28</td></tr><tr><td>17</td></tr><tr><td>21</td></tr><tr><td>31</td></tr><tr><td>49</td></tr><tr><td>48</td></tr><tr><td>60</td></tr><tr><td>33</td></tr><tr><td>40</td></tr><tr><td>42</td></tr><tr><td>34</td></tr><tr><td>38</td></tr><tr><td>58</td></tr><tr><td>20</td></tr><tr><td>52</td></tr><tr><td>22</td></tr><tr><td>24</td></tr><tr><td>39</td></tr><tr><td>41</td></tr><tr><td>37</td></tr><tr><td>56</td></tr><tr><td>21</td></tr><tr><td>29</td></tr><tr><td>45</td></tr><tr><td>44</td></tr><tr><td>54</td></tr><tr><td>24</td></tr><tr><td>40</td></tr><tr><td>43</td></tr><tr><td>20</td></tr><tr><td>41</td></tr><tr><td>32</td></tr><tr><td>31</td></tr><tr><td>26</td></tr><tr><td>50</td></tr><tr><td>62</td></tr><tr><td>24</td></tr><tr><td>58</td></tr><tr><td>44</td></tr><tr><td>44</td></tr><tr><td>37</td></tr><tr><td>65</td></tr><tr><td>33</td></tr><tr><td>34</td></tr><tr><td>56</td></tr><tr><td>35</td></tr><tr><td>33</td></tr><tr><td>35</td></tr><tr><td>47</td></tr><tr><td>35</td></tr><tr><td>56</td></tr><tr><td>29</td></tr><tr><td>53</td></tr><tr><td>42</td></tr><tr><td>20</td></tr><tr><td>24</td></tr><tr><td>33</td></tr><tr><td>42</td></tr><tr><td>38</td></tr><tr><td>32</td></tr><tr><td>20</td></tr><tr><td>32</td></tr><tr><td>28</td></tr><tr><td>51</td></tr><tr><td>41</td></tr><tr><td>37</td></tr><tr><td>23</td></tr><tr><td>40</td></tr><tr><td>47</td></tr><tr><td>46</td></tr><tr><td>24</td></tr><tr><td>40</td></tr><tr><td>30</td></tr><tr><td>41</td></tr><tr><td>37</td></tr><tr><td>49</td></tr><tr><td>41</td></tr><tr><td>52</td></tr><tr><td>23</td></tr><tr><td>34</td></tr><tr><td>25</td></tr><tr><td>44</td></tr><tr><td>31</td></tr><tr><td>53</td></tr><tr><td>62</td></tr><tr><td>35</td></tr><tr><td>30</td></tr><tr><td>48</td></tr><tr><td>36</td></tr><tr><td>32</td></tr><tr><td>22</td></tr><tr><td>17</td></tr><tr><td>19</td></tr><tr><td>26</td></tr><tr><td>20</td></tr><tr><td>56</td></tr><tr><td>45</td></tr><tr><td>23</td></tr><tr><td>31</td></tr><tr><td>30</td></tr><tr><td>42</td></tr><tr><td>27</td></tr><tr><td>37</td></tr><tr><td>31</td></tr><tr><td>33</td></tr><tr><td>64</td></tr><tr><td>32</td></tr><tr><td>62</td></tr><tr><td>37</td></tr><tr><td>25</td></tr><tr><td>49</td></tr><tr><td>36</td></tr><tr><td>67</td></tr><tr><td>54</td></tr><tr><td>45</td></tr><tr><td>30</td></tr><tr><td>39</td></tr><tr><td>57</td></tr><tr><td>57</td></tr><tr><td>23</td></tr><tr><td>49</td></tr><tr><td>46</td></tr><tr><td>41</td></tr><tr><td>44</td></tr><tr><td>25</td></tr><tr><td>34</td></tr><tr><td>24</td></tr><tr><td>32</td></tr><tr><td>27</td></tr><tr><td>67</td></tr><tr><td>36</td></tr><tr><td>40</td></tr><tr><td>24</td></tr><tr><td>46</td></tr><tr><td>44</td></tr><tr><td>23</td></tr><tr><td>46</td></tr><tr><td>31</td></tr><tr><td>21</td></tr><tr><td>61</td></tr><tr><td>71</td></tr><tr><td>42</td></tr><tr><td>27</td></tr><tr><td>21</td></tr><tr><td>21</td></tr><tr><td>28</td></tr><tr><td>27</td></tr><tr><td>32</td></tr><tr><td>47</td></tr><tr><td>22</td></tr><tr><td>56</td></tr><tr><td>20</td></tr><tr><td>30</td></tr><tr><td>22</td></tr><tr><td>28</td></tr><tr><td>50</td></tr><tr><td>66</td></tr><tr><td>38</td></tr><tr><td>62</td></tr><tr><td>36</td></tr><tr><td>47</td></tr><tr><td>25</td></tr><tr><td>26</td></tr><tr><td>37</td></tr><tr><td>70</td></tr><tr><td>52</td></tr><tr><td>70</td></tr><tr><td>19</td></tr><tr><td>23</td></tr><tr><td>37</td></tr><tr><td>37</td></tr><tr><td>45</td></tr><tr><td>29</td></tr><tr><td>56</td></tr><tr><td>50</td></tr><tr><td>20</td></tr><tr><td>26</td></tr><tr><td>41</td></tr><tr><td>21</td></tr><tr><td>48</td></tr><tr><td>22</td></tr><tr><td>37</td></tr><tr><td>47</td></tr><tr><td>61</td></tr><tr><td>47</td></tr><tr><td>37</td></tr><tr><td>46</td></tr><tr><td>42</td></tr><tr><td>41</td></tr><tr><td>33</td></tr><tr><td>24</td></tr><tr><td>27</td></tr><tr><td>40</td></tr><tr><td>56</td></tr><tr><td>35</td></tr><tr><td>24</td></tr><tr><td>73</td></tr><tr><td>36</td></tr><tr><td>31</td></tr><tr><td>50</td></tr><tr><td>36</td></tr><tr><td>37</td></tr><tr><td>26</td></tr><tr><td>20</td></tr><tr><td>58</td></tr><tr><td>45</td></tr><tr><td>33</td></tr><tr><td>31</td></tr><tr><td>44</td></tr><tr><td>19</td></tr><tr><td>54</td></tr><tr><td>31</td></tr><tr><td>27</td></tr><tr><td>36</td></tr><tr><td>47</td></tr><tr><td>35</td></tr><tr><td>42</td></tr><tr><td>45</td></tr><tr><td>70</td></tr><tr><td>27</td></tr><tr><td>36</td></tr><tr><td>23</td></tr><tr><td>25</td></tr><tr><td>45</td></tr><tr><td>24</td></tr><tr><td>90</td></tr><tr><td>50</td></tr><tr><td>37</td></tr><tr><td>31</td></tr><tr><td>17</td></tr><tr><td>26</td></tr><tr><td>41</td></tr><tr><td>50</td></tr><tr><td>45</td></tr><tr><td>54</td></tr><tr><td>54</td></tr><tr><td>38</td></tr><tr><td>22</td></tr><tr><td>43</td></tr><tr><td>19</td></tr><tr><td>30</td></tr><tr><td>31</td></tr><tr><td>42</td></tr><tr><td>48</td></tr><tr><td>56</td></tr><tr><td>21</td></tr><tr><td>45</td></tr><tr><td>37</td></tr><tr><td>38</td></tr><tr><td>34</td></tr><tr><td>29</td></tr><tr><td>24</td></tr><tr><td>79</td></tr><tr><td>35</td></tr><tr><td>39</td></tr><tr><td>73</td></tr><tr><td>57</td></tr><tr><td>35</td></tr><tr><td>60</td></tr><tr><td>19</td></tr><tr><td>54</td></tr><tr><td>53</td></tr><tr><td>23</td></tr><tr><td>57</td></tr><tr><td>27</td></tr><tr><td>25</td></tr><tr><td>38</td></tr><tr><td>48</td></tr><tr><td>24</td></tr><tr><td>67</td></tr><tr><td>20</td></tr><tr><td>38</td></tr><tr><td>54</td></tr><tr><td>20</td></tr><tr><td>57</td></tr><tr><td>34</td></tr><tr><td>34</td></tr><tr><td>80</td></tr><tr><td>40</td></tr><tr><td>19</td></tr><tr><td>35</td></tr><tr><td>21</td></tr><tr><td>59</td></tr><tr><td>53</td></tr><tr><td>41</td></tr><tr><td>59</td></tr><tr><td>21</td></tr><tr><td>52</td></tr><tr><td>48</td></tr><tr><td>24</td></tr><tr><td>49</td></tr><tr><td>19</td></tr><tr><td>50</td></tr><tr><td>39</td></tr><tr><td>25</td></tr><tr><td>66</td></tr><tr><td>30</td></tr><tr><td>49</td></tr><tr><td>40</td></tr><tr><td>38</td></tr><tr><td>25</td></tr><tr><td>51</td></tr><tr><td>23</td></tr><tr><td>60</td></tr><tr><td>44</td></tr><tr><td>53</td></tr><tr><td>66</td></tr><tr><td>18</td></tr><tr><td>44</td></tr><tr><td>38</td></tr><tr><td>30</td></tr><tr><td>36</td></tr><tr><td>38</td></tr><tr><td>31</td></tr><tr><td>26</td></tr><tr><td>23</td></tr><tr><td>58</td></tr><tr><td>44</td></tr><tr><td>59</td></tr><tr><td>36</td></tr><tr><td>42</td></tr><tr><td>17</td></tr><tr><td>59</td></tr><tr><td>22</td></tr><tr><td>40</td></tr><tr><td>36</td></tr></tbody></table>Showing the first 1000 rows.</div>"
            ]
          },
          "metadata": {
            "tags": [],
            "application/vnd.databricks.v1+output": {
              "overflow": true,
              "datasetInfos": [],
              "data": [
                [
                  25
                ],
                [
                  38
                ],
                [
                  28
                ],
                [
                  44
                ],
                [
                  18
                ],
                [
                  34
                ],
                [
                  29
                ],
                [
                  63
                ],
                [
                  24
                ],
                [
                  55
                ],
                [
                  65
                ],
                [
                  36
                ],
                [
                  26
                ],
                [
                  58
                ],
                [
                  48
                ],
                [
                  43
                ],
                [
                  20
                ],
                [
                  43
                ],
                [
                  37
                ],
                [
                  40
                ],
                [
                  34
                ],
                [
                  34
                ],
                [
                  72
                ],
                [
                  25
                ],
                [
                  25
                ],
                [
                  45
                ],
                [
                  22
                ],
                [
                  23
                ],
                [
                  54
                ],
                [
                  32
                ],
                [
                  46
                ],
                [
                  56
                ],
                [
                  24
                ],
                [
                  23
                ],
                [
                  26
                ],
                [
                  65
                ],
                [
                  36
                ],
                [
                  22
                ],
                [
                  17
                ],
                [
                  20
                ],
                [
                  65
                ],
                [
                  44
                ],
                [
                  36
                ],
                [
                  29
                ],
                [
                  20
                ],
                [
                  28
                ],
                [
                  39
                ],
                [
                  54
                ],
                [
                  52
                ],
                [
                  56
                ],
                [
                  18
                ],
                [
                  39
                ],
                [
                  21
                ],
                [
                  22
                ],
                [
                  38
                ],
                [
                  21
                ],
                [
                  63
                ],
                [
                  34
                ],
                [
                  42
                ],
                [
                  33
                ],
                [
                  30
                ],
                [
                  39
                ],
                [
                  26
                ],
                [
                  33
                ],
                [
                  47
                ],
                [
                  41
                ],
                [
                  41
                ],
                [
                  19
                ],
                [
                  46
                ],
                [
                  43
                ],
                [
                  55
                ],
                [
                  46
                ],
                [
                  30
                ],
                [
                  21
                ],
                [
                  46
                ],
                [
                  17
                ],
                [
                  41
                ],
                [
                  69
                ],
                [
                  50
                ],
                [
                  20
                ],
                [
                  45
                ],
                [
                  23
                ],
                [
                  24
                ],
                [
                  44
                ],
                [
                  31
                ],
                [
                  43
                ],
                [
                  20
                ],
                [
                  55
                ],
                [
                  24
                ],
                [
                  41
                ],
                [
                  59
                ],
                [
                  49
                ],
                [
                  33
                ],
                [
                  59
                ],
                [
                  34
                ],
                [
                  20
                ],
                [
                  25
                ],
                [
                  49
                ],
                [
                  59
                ],
                [
                  20
                ],
                [
                  51
                ],
                [
                  33
                ],
                [
                  22
                ],
                [
                  58
                ],
                [
                  52
                ],
                [
                  36
                ],
                [
                  41
                ],
                [
                  28
                ],
                [
                  19
                ],
                [
                  18
                ],
                [
                  18
                ],
                [
                  28
                ],
                [
                  29
                ],
                [
                  20
                ],
                [
                  40
                ],
                [
                  26
                ],
                [
                  46
                ],
                [
                  23
                ],
                [
                  44
                ],
                [
                  43
                ],
                [
                  31
                ],
                [
                  18
                ],
                [
                  19
                ],
                [
                  41
                ],
                [
                  41
                ],
                [
                  69
                ],
                [
                  48
                ],
                [
                  28
                ],
                [
                  27
                ],
                [
                  41
                ],
                [
                  41
                ],
                [
                  24
                ],
                [
                  20
                ],
                [
                  42
                ],
                [
                  57
                ],
                [
                  30
                ],
                [
                  36
                ],
                [
                  49
                ],
                [
                  33
                ],
                [
                  23
                ],
                [
                  46
                ],
                [
                  18
                ],
                [
                  40
                ],
                [
                  43
                ],
                [
                  34
                ],
                [
                  47
                ],
                [
                  44
                ],
                [
                  33
                ],
                [
                  55
                ],
                [
                  19
                ],
                [
                  28
                ],
                [
                  27
                ],
                [
                  50
                ],
                [
                  22
                ],
                [
                  40
                ],
                [
                  25
                ],
                [
                  26
                ],
                [
                  22
                ],
                [
                  42
                ],
                [
                  38
                ],
                [
                  55
                ],
                [
                  32
                ],
                [
                  22
                ],
                [
                  29
                ],
                [
                  46
                ],
                [
                  31
                ],
                [
                  58
                ],
                [
                  42
                ],
                [
                  18
                ],
                [
                  58
                ],
                [
                  54
                ],
                [
                  34
                ],
                [
                  26
                ],
                [
                  61
                ],
                [
                  48
                ],
                [
                  36
                ],
                [
                  24
                ],
                [
                  40
                ],
                [
                  33
                ],
                [
                  37
                ],
                [
                  34
                ],
                [
                  56
                ],
                [
                  28
                ],
                [
                  37
                ],
                [
                  44
                ],
                [
                  64
                ],
                [
                  54
                ],
                [
                  23
                ],
                [
                  34
                ],
                [
                  22
                ],
                [
                  33
                ],
                [
                  39
                ],
                [
                  47
                ],
                [
                  79
                ],
                [
                  26
                ],
                [
                  31
                ],
                [
                  44
                ],
                [
                  42
                ],
                [
                  19
                ],
                [
                  27
                ],
                [
                  51
                ],
                [
                  28
                ],
                [
                  57
                ],
                [
                  45
                ],
                [
                  50
                ],
                [
                  34
                ],
                [
                  45
                ],
                [
                  73
                ],
                [
                  34
                ],
                [
                  31
                ],
                [
                  19
                ],
                [
                  25
                ],
                [
                  38
                ],
                [
                  39
                ],
                [
                  23
                ],
                [
                  49
                ],
                [
                  33
                ],
                [
                  21
                ],
                [
                  31
                ],
                [
                  23
                ],
                [
                  34
                ],
                [
                  25
                ],
                [
                  39
                ],
                [
                  52
                ],
                [
                  63
                ],
                [
                  41
                ],
                [
                  46
                ],
                [
                  53
                ],
                [
                  25
                ],
                [
                  77
                ],
                [
                  18
                ],
                [
                  38
                ],
                [
                  55
                ],
                [
                  34
                ],
                [
                  80
                ],
                [
                  34
                ],
                [
                  52
                ],
                [
                  42
                ],
                [
                  26
                ],
                [
                  31
                ],
                [
                  25
                ],
                [
                  55
                ],
                [
                  19
                ],
                [
                  62
                ],
                [
                  22
                ],
                [
                  39
                ],
                [
                  35
                ],
                [
                  28
                ],
                [
                  47
                ],
                [
                  44
                ],
                [
                  21
                ],
                [
                  35
                ],
                [
                  24
                ],
                [
                  42
                ],
                [
                  28
                ],
                [
                  21
                ],
                [
                  62
                ],
                [
                  39
                ],
                [
                  30
                ],
                [
                  72
                ],
                [
                  50
                ],
                [
                  28
                ],
                [
                  29
                ],
                [
                  26
                ],
                [
                  27
                ],
                [
                  29
                ],
                [
                  61
                ],
                [
                  29
                ],
                [
                  21
                ],
                [
                  31
                ],
                [
                  25
                ],
                [
                  58
                ],
                [
                  64
                ],
                [
                  46
                ],
                [
                  53
                ],
                [
                  19
                ],
                [
                  42
                ],
                [
                  18
                ],
                [
                  58
                ],
                [
                  20
                ],
                [
                  35
                ],
                [
                  32
                ],
                [
                  23
                ],
                [
                  31
                ],
                [
                  33
                ],
                [
                  41
                ],
                [
                  22
                ],
                [
                  46
                ],
                [
                  61
                ],
                [
                  30
                ],
                [
                  42
                ],
                [
                  63
                ],
                [
                  26
                ],
                [
                  42
                ],
                [
                  23
                ],
                [
                  25
                ],
                [
                  30
                ],
                [
                  23
                ],
                [
                  34
                ],
                [
                  30
                ],
                [
                  39
                ],
                [
                  30
                ],
                [
                  38
                ],
                [
                  26
                ],
                [
                  20
                ],
                [
                  37
                ],
                [
                  33
                ],
                [
                  24
                ],
                [
                  42
                ],
                [
                  51
                ],
                [
                  56
                ],
                [
                  22
                ],
                [
                  52
                ],
                [
                  44
                ],
                [
                  34
                ],
                [
                  51
                ],
                [
                  20
                ],
                [
                  19
                ],
                [
                  37
                ],
                [
                  68
                ],
                [
                  22
                ],
                [
                  56
                ],
                [
                  37
                ],
                [
                  52
                ],
                [
                  26
                ],
                [
                  33
                ],
                [
                  45
                ],
                [
                  18
                ],
                [
                  43
                ],
                [
                  64
                ],
                [
                  18
                ],
                [
                  20
                ],
                [
                  57
                ],
                [
                  41
                ],
                [
                  34
                ],
                [
                  19
                ],
                [
                  44
                ],
                [
                  56
                ],
                [
                  36
                ],
                [
                  48
                ],
                [
                  29
                ],
                [
                  33
                ],
                [
                  31
                ],
                [
                  39
                ],
                [
                  66
                ],
                [
                  27
                ],
                [
                  39
                ],
                [
                  59
                ],
                [
                  26
                ],
                [
                  31
                ],
                [
                  45
                ],
                [
                  23
                ],
                [
                  36
                ],
                [
                  34
                ],
                [
                  32
                ],
                [
                  37
                ],
                [
                  33
                ],
                [
                  50
                ],
                [
                  32
                ],
                [
                  35
                ],
                [
                  37
                ],
                [
                  44
                ],
                [
                  57
                ],
                [
                  29
                ],
                [
                  55
                ],
                [
                  43
                ],
                [
                  43
                ],
                [
                  45
                ],
                [
                  33
                ],
                [
                  26
                ],
                [
                  23
                ],
                [
                  41
                ],
                [
                  24
                ],
                [
                  47
                ],
                [
                  34
                ],
                [
                  40
                ],
                [
                  28
                ],
                [
                  24
                ],
                [
                  73
                ],
                [
                  23
                ],
                [
                  43
                ],
                [
                  26
                ],
                [
                  58
                ],
                [
                  52
                ],
                [
                  29
                ],
                [
                  47
                ],
                [
                  49
                ],
                [
                  40
                ],
                [
                  62
                ],
                [
                  49
                ],
                [
                  50
                ],
                [
                  31
                ],
                [
                  48
                ],
                [
                  24
                ],
                [
                  41
                ],
                [
                  37
                ],
                [
                  45
                ],
                [
                  63
                ],
                [
                  36
                ],
                [
                  45
                ],
                [
                  41
                ],
                [
                  26
                ],
                [
                  17
                ],
                [
                  27
                ],
                [
                  43
                ],
                [
                  35
                ],
                [
                  38
                ],
                [
                  26
                ],
                [
                  28
                ],
                [
                  38
                ],
                [
                  36
                ],
                [
                  33
                ],
                [
                  19
                ],
                [
                  22
                ],
                [
                  42
                ],
                [
                  50
                ],
                [
                  30
                ],
                [
                  37
                ],
                [
                  54
                ],
                [
                  52
                ],
                [
                  65
                ],
                [
                  33
                ],
                [
                  25
                ],
                [
                  24
                ],
                [
                  26
                ],
                [
                  39
                ],
                [
                  59
                ],
                [
                  29
                ],
                [
                  47
                ],
                [
                  23
                ],
                [
                  64
                ],
                [
                  21
                ],
                [
                  32
                ],
                [
                  26
                ],
                [
                  19
                ],
                [
                  62
                ],
                [
                  32
                ],
                [
                  75
                ],
                [
                  45
                ],
                [
                  31
                ],
                [
                  32
                ],
                [
                  24
                ],
                [
                  25
                ],
                [
                  41
                ],
                [
                  18
                ],
                [
                  44
                ],
                [
                  40
                ],
                [
                  27
                ],
                [
                  23
                ],
                [
                  21
                ],
                [
                  37
                ],
                [
                  65
                ],
                [
                  43
                ],
                [
                  45
                ],
                [
                  24
                ],
                [
                  24
                ],
                [
                  19
                ],
                [
                  37
                ],
                [
                  24
                ],
                [
                  34
                ],
                [
                  50
                ],
                [
                  36
                ],
                [
                  39
                ],
                [
                  44
                ],
                [
                  45
                ],
                [
                  32
                ],
                [
                  47
                ],
                [
                  50
                ],
                [
                  32
                ],
                [
                  19
                ],
                [
                  19
                ],
                [
                  28
                ],
                [
                  28
                ],
                [
                  39
                ],
                [
                  21
                ],
                [
                  73
                ],
                [
                  39
                ],
                [
                  25
                ],
                [
                  31
                ],
                [
                  51
                ],
                [
                  39
                ],
                [
                  31
                ],
                [
                  21
                ],
                [
                  46
                ],
                [
                  73
                ],
                [
                  41
                ],
                [
                  20
                ],
                [
                  27
                ],
                [
                  24
                ],
                [
                  20
                ],
                [
                  39
                ],
                [
                  27
                ],
                [
                  33
                ],
                [
                  33
                ],
                [
                  36
                ],
                [
                  55
                ],
                [
                  19
                ],
                [
                  35
                ],
                [
                  34
                ],
                [
                  62
                ],
                [
                  33
                ],
                [
                  39
                ],
                [
                  36
                ],
                [
                  41
                ],
                [
                  39
                ],
                [
                  38
                ],
                [
                  18
                ],
                [
                  61
                ],
                [
                  20
                ],
                [
                  35
                ],
                [
                  27
                ],
                [
                  66
                ],
                [
                  21
                ],
                [
                  20
                ],
                [
                  34
                ],
                [
                  63
                ],
                [
                  20
                ],
                [
                  31
                ],
                [
                  41
                ],
                [
                  64
                ],
                [
                  32
                ],
                [
                  30
                ],
                [
                  36
                ],
                [
                  22
                ],
                [
                  53
                ],
                [
                  50
                ],
                [
                  36
                ],
                [
                  41
                ],
                [
                  55
                ],
                [
                  38
                ],
                [
                  28
                ],
                [
                  24
                ],
                [
                  60
                ],
                [
                  54
                ],
                [
                  27
                ],
                [
                  30
                ],
                [
                  54
                ],
                [
                  44
                ],
                [
                  52
                ],
                [
                  18
                ],
                [
                  55
                ],
                [
                  35
                ],
                [
                  37
                ],
                [
                  22
                ],
                [
                  45
                ],
                [
                  38
                ],
                [
                  48
                ],
                [
                  35
                ],
                [
                  21
                ],
                [
                  37
                ],
                [
                  18
                ],
                [
                  26
                ],
                [
                  48
                ],
                [
                  51
                ],
                [
                  52
                ],
                [
                  32
                ],
                [
                  39
                ],
                [
                  51
                ],
                [
                  54
                ],
                [
                  21
                ],
                [
                  43
                ],
                [
                  32
                ],
                [
                  31
                ],
                [
                  73
                ],
                [
                  26
                ],
                [
                  35
                ],
                [
                  73
                ],
                [
                  25
                ],
                [
                  58
                ],
                [
                  32
                ],
                [
                  28
                ],
                [
                  41
                ],
                [
                  53
                ],
                [
                  49
                ],
                [
                  55
                ],
                [
                  29
                ],
                [
                  28
                ],
                [
                  44
                ],
                [
                  41
                ],
                [
                  26
                ],
                [
                  23
                ],
                [
                  37
                ],
                [
                  23
                ],
                [
                  33
                ],
                [
                  44
                ],
                [
                  21
                ],
                [
                  36
                ],
                [
                  44
                ],
                [
                  23
                ],
                [
                  26
                ],
                [
                  32
                ],
                [
                  31
                ],
                [
                  50
                ],
                [
                  18
                ],
                [
                  49
                ],
                [
                  59
                ],
                [
                  38
                ],
                [
                  50
                ],
                [
                  51
                ],
                [
                  22
                ],
                [
                  54
                ],
                [
                  37
                ],
                [
                  31
                ],
                [
                  67
                ],
                [
                  43
                ],
                [
                  21
                ],
                [
                  30
                ],
                [
                  32
                ],
                [
                  36
                ],
                [
                  33
                ],
                [
                  37
                ],
                [
                  29
                ],
                [
                  18
                ],
                [
                  26
                ],
                [
                  51
                ],
                [
                  39
                ],
                [
                  18
                ],
                [
                  52
                ],
                [
                  31
                ],
                [
                  45
                ],
                [
                  38
                ],
                [
                  21
                ],
                [
                  33
                ],
                [
                  39
                ],
                [
                  31
                ],
                [
                  43
                ],
                [
                  64
                ],
                [
                  33
                ],
                [
                  49
                ],
                [
                  41
                ],
                [
                  55
                ],
                [
                  52
                ],
                [
                  42
                ],
                [
                  24
                ],
                [
                  42
                ],
                [
                  41
                ],
                [
                  35
                ],
                [
                  71
                ],
                [
                  54
                ],
                [
                  24
                ],
                [
                  59
                ],
                [
                  30
                ],
                [
                  57
                ],
                [
                  58
                ],
                [
                  32
                ],
                [
                  22
                ],
                [
                  20
                ],
                [
                  60
                ],
                [
                  51
                ],
                [
                  26
                ],
                [
                  33
                ],
                [
                  19
                ],
                [
                  50
                ],
                [
                  32
                ],
                [
                  51
                ],
                [
                  18
                ],
                [
                  35
                ],
                [
                  22
                ],
                [
                  46
                ],
                [
                  37
                ],
                [
                  45
                ],
                [
                  63
                ],
                [
                  53
                ],
                [
                  24
                ],
                [
                  65
                ],
                [
                  43
                ],
                [
                  47
                ],
                [
                  41
                ],
                [
                  27
                ],
                [
                  35
                ],
                [
                  19
                ],
                [
                  47
                ],
                [
                  25
                ],
                [
                  59
                ],
                [
                  28
                ],
                [
                  17
                ],
                [
                  21
                ],
                [
                  31
                ],
                [
                  49
                ],
                [
                  48
                ],
                [
                  60
                ],
                [
                  33
                ],
                [
                  40
                ],
                [
                  42
                ],
                [
                  34
                ],
                [
                  38
                ],
                [
                  58
                ],
                [
                  20
                ],
                [
                  52
                ],
                [
                  22
                ],
                [
                  24
                ],
                [
                  39
                ],
                [
                  41
                ],
                [
                  37
                ],
                [
                  56
                ],
                [
                  21
                ],
                [
                  29
                ],
                [
                  45
                ],
                [
                  44
                ],
                [
                  54
                ],
                [
                  24
                ],
                [
                  40
                ],
                [
                  43
                ],
                [
                  20
                ],
                [
                  41
                ],
                [
                  32
                ],
                [
                  31
                ],
                [
                  26
                ],
                [
                  50
                ],
                [
                  62
                ],
                [
                  24
                ],
                [
                  58
                ],
                [
                  44
                ],
                [
                  44
                ],
                [
                  37
                ],
                [
                  65
                ],
                [
                  33
                ],
                [
                  34
                ],
                [
                  56
                ],
                [
                  35
                ],
                [
                  33
                ],
                [
                  35
                ],
                [
                  47
                ],
                [
                  35
                ],
                [
                  56
                ],
                [
                  29
                ],
                [
                  53
                ],
                [
                  42
                ],
                [
                  20
                ],
                [
                  24
                ],
                [
                  33
                ],
                [
                  42
                ],
                [
                  38
                ],
                [
                  32
                ],
                [
                  20
                ],
                [
                  32
                ],
                [
                  28
                ],
                [
                  51
                ],
                [
                  41
                ],
                [
                  37
                ],
                [
                  23
                ],
                [
                  40
                ],
                [
                  47
                ],
                [
                  46
                ],
                [
                  24
                ],
                [
                  40
                ],
                [
                  30
                ],
                [
                  41
                ],
                [
                  37
                ],
                [
                  49
                ],
                [
                  41
                ],
                [
                  52
                ],
                [
                  23
                ],
                [
                  34
                ],
                [
                  25
                ],
                [
                  44
                ],
                [
                  31
                ],
                [
                  53
                ],
                [
                  62
                ],
                [
                  35
                ],
                [
                  30
                ],
                [
                  48
                ],
                [
                  36
                ],
                [
                  32
                ],
                [
                  22
                ],
                [
                  17
                ],
                [
                  19
                ],
                [
                  26
                ],
                [
                  20
                ],
                [
                  56
                ],
                [
                  45
                ],
                [
                  23
                ],
                [
                  31
                ],
                [
                  30
                ],
                [
                  42
                ],
                [
                  27
                ],
                [
                  37
                ],
                [
                  31
                ],
                [
                  33
                ],
                [
                  64
                ],
                [
                  32
                ],
                [
                  62
                ],
                [
                  37
                ],
                [
                  25
                ],
                [
                  49
                ],
                [
                  36
                ],
                [
                  67
                ],
                [
                  54
                ],
                [
                  45
                ],
                [
                  30
                ],
                [
                  39
                ],
                [
                  57
                ],
                [
                  57
                ],
                [
                  23
                ],
                [
                  49
                ],
                [
                  46
                ],
                [
                  41
                ],
                [
                  44
                ],
                [
                  25
                ],
                [
                  34
                ],
                [
                  24
                ],
                [
                  32
                ],
                [
                  27
                ],
                [
                  67
                ],
                [
                  36
                ],
                [
                  40
                ],
                [
                  24
                ],
                [
                  46
                ],
                [
                  44
                ],
                [
                  23
                ],
                [
                  46
                ],
                [
                  31
                ],
                [
                  21
                ],
                [
                  61
                ],
                [
                  71
                ],
                [
                  42
                ],
                [
                  27
                ],
                [
                  21
                ],
                [
                  21
                ],
                [
                  28
                ],
                [
                  27
                ],
                [
                  32
                ],
                [
                  47
                ],
                [
                  22
                ],
                [
                  56
                ],
                [
                  20
                ],
                [
                  30
                ],
                [
                  22
                ],
                [
                  28
                ],
                [
                  50
                ],
                [
                  66
                ],
                [
                  38
                ],
                [
                  62
                ],
                [
                  36
                ],
                [
                  47
                ],
                [
                  25
                ],
                [
                  26
                ],
                [
                  37
                ],
                [
                  70
                ],
                [
                  52
                ],
                [
                  70
                ],
                [
                  19
                ],
                [
                  23
                ],
                [
                  37
                ],
                [
                  37
                ],
                [
                  45
                ],
                [
                  29
                ],
                [
                  56
                ],
                [
                  50
                ],
                [
                  20
                ],
                [
                  26
                ],
                [
                  41
                ],
                [
                  21
                ],
                [
                  48
                ],
                [
                  22
                ],
                [
                  37
                ],
                [
                  47
                ],
                [
                  61
                ],
                [
                  47
                ],
                [
                  37
                ],
                [
                  46
                ],
                [
                  42
                ],
                [
                  41
                ],
                [
                  33
                ],
                [
                  24
                ],
                [
                  27
                ],
                [
                  40
                ],
                [
                  56
                ],
                [
                  35
                ],
                [
                  24
                ],
                [
                  73
                ],
                [
                  36
                ],
                [
                  31
                ],
                [
                  50
                ],
                [
                  36
                ],
                [
                  37
                ],
                [
                  26
                ],
                [
                  20
                ],
                [
                  58
                ],
                [
                  45
                ],
                [
                  33
                ],
                [
                  31
                ],
                [
                  44
                ],
                [
                  19
                ],
                [
                  54
                ],
                [
                  31
                ],
                [
                  27
                ],
                [
                  36
                ],
                [
                  47
                ],
                [
                  35
                ],
                [
                  42
                ],
                [
                  45
                ],
                [
                  70
                ],
                [
                  27
                ],
                [
                  36
                ],
                [
                  23
                ],
                [
                  25
                ],
                [
                  45
                ],
                [
                  24
                ],
                [
                  90
                ],
                [
                  50
                ],
                [
                  37
                ],
                [
                  31
                ],
                [
                  17
                ],
                [
                  26
                ],
                [
                  41
                ],
                [
                  50
                ],
                [
                  45
                ],
                [
                  54
                ],
                [
                  54
                ],
                [
                  38
                ],
                [
                  22
                ],
                [
                  43
                ],
                [
                  19
                ],
                [
                  30
                ],
                [
                  31
                ],
                [
                  42
                ],
                [
                  48
                ],
                [
                  56
                ],
                [
                  21
                ],
                [
                  45
                ],
                [
                  37
                ],
                [
                  38
                ],
                [
                  34
                ],
                [
                  29
                ],
                [
                  24
                ],
                [
                  79
                ],
                [
                  35
                ],
                [
                  39
                ],
                [
                  73
                ],
                [
                  57
                ],
                [
                  35
                ],
                [
                  60
                ],
                [
                  19
                ],
                [
                  54
                ],
                [
                  53
                ],
                [
                  23
                ],
                [
                  57
                ],
                [
                  27
                ],
                [
                  25
                ],
                [
                  38
                ],
                [
                  48
                ],
                [
                  24
                ],
                [
                  67
                ],
                [
                  20
                ],
                [
                  38
                ],
                [
                  54
                ],
                [
                  20
                ],
                [
                  57
                ],
                [
                  34
                ],
                [
                  34
                ],
                [
                  80
                ],
                [
                  40
                ],
                [
                  19
                ],
                [
                  35
                ],
                [
                  21
                ],
                [
                  59
                ],
                [
                  53
                ],
                [
                  41
                ],
                [
                  59
                ],
                [
                  21
                ],
                [
                  52
                ],
                [
                  48
                ],
                [
                  24
                ],
                [
                  49
                ],
                [
                  19
                ],
                [
                  50
                ],
                [
                  39
                ],
                [
                  25
                ],
                [
                  66
                ],
                [
                  30
                ],
                [
                  49
                ],
                [
                  40
                ],
                [
                  38
                ],
                [
                  25
                ],
                [
                  51
                ],
                [
                  23
                ],
                [
                  60
                ],
                [
                  44
                ],
                [
                  53
                ],
                [
                  66
                ],
                [
                  18
                ],
                [
                  44
                ],
                [
                  38
                ],
                [
                  30
                ],
                [
                  36
                ],
                [
                  38
                ],
                [
                  31
                ],
                [
                  26
                ],
                [
                  23
                ],
                [
                  58
                ],
                [
                  44
                ],
                [
                  59
                ],
                [
                  36
                ],
                [
                  42
                ],
                [
                  17
                ],
                [
                  59
                ],
                [
                  22
                ],
                [
                  40
                ],
                [
                  36
                ]
              ],
              "plotOptions": {
                "displayType": "boxPlot",
                "customPlotOptions": {},
                "pivotColumns": null,
                "pivotAggregation": null,
                "xColumns": null,
                "yColumns": null
              },
              "columnCustomDisplayInfos": {},
              "aggType": "",
              "isJsonSchema": true,
              "removedWidgets": [],
              "aggSchema": [],
              "schema": [
                {
                  "name": "age",
                  "type": "\"integer\"",
                  "metadata": "{}"
                }
              ],
              "aggError": "",
              "aggData": [],
              "addedWidgets": {},
              "dbfsResultPath": null,
              "type": "table",
              "aggOverflow": false,
              "aggSeriesLimitReached": false,
              "arguments": {}
            }
          }
        }
      ]
    },
    {
      "cell_type": "code",
      "metadata": {
        "application/vnd.databricks.v1+cell": {
          "title": "",
          "showTitle": false,
          "inputWidgets": {},
          "nuid": "4e37fb52-7fd4-4ddc-ab97-140d1f4d8bf2"
        },
        "id": "f8W57ClxbA6x",
        "outputId": "308fd018-1eed-4d1c-dad5-5d20bcb1b927"
      },
      "source": [
        "#boxplot\n",
        "display(data.select('educational-num'))"
      ],
      "execution_count": null,
      "outputs": [
        {
          "output_type": "display_data",
          "data": {
            "text/html": [
              "<style scoped>\n",
              "  .table-result-container {\n",
              "    max-height: 300px;\n",
              "    overflow: auto;\n",
              "  }\n",
              "  table, th, td {\n",
              "    border: 1px solid black;\n",
              "    border-collapse: collapse;\n",
              "  }\n",
              "  th, td {\n",
              "    padding: 5px;\n",
              "  }\n",
              "  th {\n",
              "    text-align: left;\n",
              "  }\n",
              "</style><div class='table-result-container'><table class='table-result'><thead style='background-color: white'><tr><th>educational-num</th></tr></thead><tbody><tr><td>7</td></tr><tr><td>9</td></tr><tr><td>12</td></tr><tr><td>10</td></tr><tr><td>10</td></tr><tr><td>6</td></tr><tr><td>9</td></tr><tr><td>15</td></tr><tr><td>10</td></tr><tr><td>4</td></tr><tr><td>9</td></tr><tr><td>13</td></tr><tr><td>9</td></tr><tr><td>9</td></tr><tr><td>9</td></tr><tr><td>14</td></tr><tr><td>10</td></tr><tr><td>9</td></tr><tr><td>9</td></tr><tr><td>16</td></tr><tr><td>13</td></tr><tr><td>10</td></tr><tr><td>4</td></tr><tr><td>13</td></tr><tr><td>13</td></tr><tr><td>9</td></tr><tr><td>9</td></tr><tr><td>9</td></tr><tr><td>9</td></tr><tr><td>10</td></tr><tr><td>10</td></tr><tr><td>7</td></tr><tr><td>13</td></tr><tr><td>10</td></tr><tr><td>9</td></tr><tr><td>9</td></tr><tr><td>13</td></tr><tr><td>3</td></tr><tr><td>6</td></tr><tr><td>9</td></tr><tr><td>14</td></tr><tr><td>11</td></tr><tr><td>9</td></tr><tr><td>7</td></tr><tr><td>10</td></tr><tr><td>11</td></tr><tr><td>4</td></tr><tr><td>10</td></tr><tr><td>7</td></tr><tr><td>9</td></tr><tr><td>10</td></tr><tr><td>9</td></tr><tr><td>10</td></tr><tr><td>9</td></tr><tr><td>5</td></tr><tr><td>10</td></tr><tr><td>9</td></tr><tr><td>13</td></tr><tr><td>9</td></tr><tr><td>9</td></tr><tr><td>13</td></tr><tr><td>10</td></tr><tr><td>14</td></tr><tr><td>9</td></tr><tr><td>9</td></tr><tr><td>13</td></tr><tr><td>12</td></tr><tr><td>10</td></tr><tr><td>9</td></tr><tr><td>9</td></tr><tr><td>10</td></tr><tr><td>11</td></tr><tr><td>9</td></tr><tr><td>10</td></tr><tr><td>10</td></tr><tr><td>6</td></tr><tr><td>9</td></tr><tr><td>9</td></tr><tr><td>9</td></tr><tr><td>10</td></tr><tr><td>10</td></tr><tr><td>13</td></tr><tr><td>10</td></tr><tr><td>9</td></tr><tr><td>10</td></tr><tr><td>9</td></tr><tr><td>7</td></tr><tr><td>9</td></tr><tr><td>10</td></tr><tr><td>14</td></tr><tr><td>13</td></tr><tr><td>4</td></tr><tr><td>14</td></tr><tr><td>13</td></tr><tr><td>14</td></tr><tr><td>9</td></tr><tr><td>13</td></tr><tr><td>6</td></tr><tr><td>9</td></tr><tr><td>9</td></tr><tr><td>10</td></tr><tr><td>10</td></tr><tr><td>10</td></tr><tr><td>5</td></tr><tr><td>9</td></tr><tr><td>6</td></tr><tr><td>9</td></tr><tr><td>9</td></tr><tr><td>10</td></tr><tr><td>9</td></tr><tr><td>9</td></tr><tr><td>10</td></tr><tr><td>11</td></tr><tr><td>9</td></tr><tr><td>10</td></tr><tr><td>9</td></tr><tr><td>9</td></tr><tr><td>7</td></tr><tr><td>9</td></tr><tr><td>13</td></tr><tr><td>13</td></tr><tr><td>10</td></tr><tr><td>10</td></tr><tr><td>10</td></tr><tr><td>9</td></tr><tr><td>9</td></tr><tr><td>16</td></tr><tr><td>9</td></tr><tr><td>9</td></tr><tr><td>14</td></tr><tr><td>10</td></tr><tr><td>9</td></tr><tr><td>9</td></tr><tr><td>16</td></tr><tr><td>9</td></tr><tr><td>12</td></tr><tr><td>9</td></tr><tr><td>4</td></tr><tr><td>9</td></tr><tr><td>6</td></tr><tr><td>14</td></tr><tr><td>10</td></tr><tr><td>9</td></tr><tr><td>9</td></tr><tr><td>14</td></tr><tr><td>9</td></tr><tr><td>11</td></tr><tr><td>9</td></tr><tr><td>13</td></tr><tr><td>9</td></tr><tr><td>10</td></tr><tr><td>7</td></tr><tr><td>4</td></tr><tr><td>7</td></tr><tr><td>13</td></tr><tr><td>10</td></tr><tr><td>9</td></tr><tr><td>13</td></tr><tr><td>10</td></tr><tr><td>13</td></tr><tr><td>7</td></tr><tr><td>9</td></tr><tr><td>9</td></tr><tr><td>13</td></tr><tr><td>14</td></tr><tr><td>10</td></tr><tr><td>16</td></tr><tr><td>9</td></tr><tr><td>9</td></tr><tr><td>9</td></tr><tr><td>9</td></tr><tr><td>14</td></tr><tr><td>13</td></tr><tr><td>8</td></tr><tr><td>14</td></tr><tr><td>10</td></tr><tr><td>11</td></tr><tr><td>10</td></tr><tr><td>9</td></tr><tr><td>10</td></tr><tr><td>14</td></tr><tr><td>10</td></tr><tr><td>9</td></tr><tr><td>13</td></tr><tr><td>9</td></tr><tr><td>10</td></tr><tr><td>9</td></tr><tr><td>9</td></tr><tr><td>13</td></tr><tr><td>9</td></tr><tr><td>13</td></tr><tr><td>13</td></tr><tr><td>10</td></tr><tr><td>4</td></tr><tr><td>9</td></tr><tr><td>10</td></tr><tr><td>10</td></tr><tr><td>15</td></tr><tr><td>9</td></tr><tr><td>9</td></tr><tr><td>10</td></tr><tr><td>13</td></tr><tr><td>13</td></tr><tr><td>13</td></tr><tr><td>11</td></tr><tr><td>13</td></tr><tr><td>4</td></tr><tr><td>9</td></tr><tr><td>13</td></tr><tr><td>10</td></tr><tr><td>7</td></tr><tr><td>10</td></tr><tr><td>11</td></tr><tr><td>13</td></tr><tr><td>13</td></tr><tr><td>9</td></tr><tr><td>9</td></tr><tr><td>3</td></tr><tr><td>11</td></tr><tr><td>13</td></tr><tr><td>13</td></tr><tr><td>9</td></tr><tr><td>9</td></tr><tr><td>9</td></tr><tr><td>5</td></tr><tr><td>10</td></tr><tr><td>13</td></tr><tr><td>9</td></tr><tr><td>5</td></tr><tr><td>10</td></tr><tr><td>8</td></tr><tr><td>15</td></tr><tr><td>14</td></tr><tr><td>9</td></tr><tr><td>9</td></tr><tr><td>11</td></tr><tr><td>10</td></tr><tr><td>9</td></tr><tr><td>10</td></tr><tr><td>9</td></tr><tr><td>9</td></tr><tr><td>9</td></tr><tr><td>10</td></tr><tr><td>10</td></tr><tr><td>10</td></tr><tr><td>9</td></tr><tr><td>9</td></tr><tr><td>9</td></tr><tr><td>9</td></tr><tr><td>9</td></tr><tr><td>10</td></tr><tr><td>11</td></tr><tr><td>13</td></tr><tr><td>13</td></tr><tr><td>13</td></tr><tr><td>10</td></tr><tr><td>10</td></tr><tr><td>9</td></tr><tr><td>9</td></tr><tr><td>15</td></tr><tr><td>10</td></tr><tr><td>14</td></tr><tr><td>10</td></tr><tr><td>13</td></tr><tr><td>14</td></tr><tr><td>10</td></tr><tr><td>9</td></tr><tr><td>6</td></tr><tr><td>10</td></tr><tr><td>7</td></tr><tr><td>9</td></tr><tr><td>6</td></tr><tr><td>10</td></tr><tr><td>14</td></tr><tr><td>9</td></tr><tr><td>9</td></tr><tr><td>9</td></tr><tr><td>7</td></tr><tr><td>13</td></tr><tr><td>10</td></tr><tr><td>9</td></tr><tr><td>9</td></tr><tr><td>9</td></tr><tr><td>10</td></tr><tr><td>13</td></tr><tr><td>10</td></tr><tr><td>9</td></tr><tr><td>10</td></tr><tr><td>10</td></tr><tr><td>9</td></tr><tr><td>9</td></tr><tr><td>6</td></tr><tr><td>10</td></tr><tr><td>6</td></tr><tr><td>10</td></tr><tr><td>9</td></tr><tr><td>5</td></tr><tr><td>9</td></tr><tr><td>11</td></tr><tr><td>9</td></tr><tr><td>10</td></tr><tr><td>7</td></tr><tr><td>10</td></tr><tr><td>9</td></tr><tr><td>10</td></tr><tr><td>13</td></tr><tr><td>9</td></tr><tr><td>13</td></tr><tr><td>13</td></tr><tr><td>9</td></tr><tr><td>12</td></tr><tr><td>10</td></tr><tr><td>10</td></tr><tr><td>13</td></tr><tr><td>9</td></tr><tr><td>10</td></tr><tr><td>10</td></tr><tr><td>10</td></tr><tr><td>13</td></tr><tr><td>9</td></tr><tr><td>10</td></tr><tr><td>13</td></tr><tr><td>9</td></tr><tr><td>2</td></tr><tr><td>9</td></tr><tr><td>14</td></tr><tr><td>14</td></tr><tr><td>7</td></tr><tr><td>10</td></tr><tr><td>16</td></tr><tr><td>9</td></tr><tr><td>10</td></tr><tr><td>9</td></tr><tr><td>9</td></tr><tr><td>14</td></tr><tr><td>9</td></tr><tr><td>5</td></tr><tr><td>6</td></tr><tr><td>9</td></tr><tr><td>13</td></tr><tr><td>9</td></tr><tr><td>13</td></tr><tr><td>3</td></tr><tr><td>14</td></tr><tr><td>9</td></tr><tr><td>13</td></tr><tr><td>9</td></tr><tr><td>4</td></tr><tr><td>9</td></tr><tr><td>11</td></tr><tr><td>9</td></tr><tr><td>9</td></tr><tr><td>9</td></tr><tr><td>10</td></tr><tr><td>9</td></tr><tr><td>13</td></tr><tr><td>13</td></tr><tr><td>15</td></tr><tr><td>12</td></tr><tr><td>13</td></tr><tr><td>7</td></tr><tr><td>10</td></tr><tr><td>10</td></tr><tr><td>10</td></tr><tr><td>9</td></tr><tr><td>15</td></tr><tr><td>10</td></tr><tr><td>10</td></tr><tr><td>14</td></tr><tr><td>6</td></tr><tr><td>10</td></tr><tr><td>4</td></tr><tr><td>9</td></tr><tr><td>13</td></tr><tr><td>9</td></tr><tr><td>9</td></tr><tr><td>13</td></tr><tr><td>9</td></tr><tr><td>10</td></tr><tr><td>9</td></tr><tr><td>9</td></tr><tr><td>13</td></tr><tr><td>16</td></tr><tr><td>9</td></tr><tr><td>7</td></tr><tr><td>7</td></tr><tr><td>9</td></tr><tr><td>7</td></tr><tr><td>9</td></tr><tr><td>9</td></tr><tr><td>13</td></tr><tr><td>9</td></tr><tr><td>14</td></tr><tr><td>9</td></tr><tr><td>9</td></tr><tr><td>9</td></tr><tr><td>13</td></tr><tr><td>9</td></tr><tr><td>14</td></tr><tr><td>13</td></tr><tr><td>13</td></tr><tr><td>12</td></tr><tr><td>7</td></tr><tr><td>9</td></tr><tr><td>9</td></tr><tr><td>9</td></tr><tr><td>13</td></tr><tr><td>9</td></tr><tr><td>10</td></tr><tr><td>13</td></tr><tr><td>7</td></tr><tr><td>9</td></tr><tr><td>9</td></tr><tr><td>12</td></tr><tr><td>6</td></tr><tr><td>6</td></tr><tr><td>9</td></tr><tr><td>10</td></tr><tr><td>15</td></tr><tr><td>13</td></tr><tr><td>2</td></tr><tr><td>9</td></tr><tr><td>10</td></tr><tr><td>13</td></tr><tr><td>11</td></tr><tr><td>9</td></tr><tr><td>9</td></tr><tr><td>10</td></tr><tr><td>7</td></tr><tr><td>10</td></tr><tr><td>9</td></tr><tr><td>9</td></tr><tr><td>10</td></tr><tr><td>9</td></tr><tr><td>10</td></tr><tr><td>14</td></tr><tr><td>13</td></tr><tr><td>6</td></tr><tr><td>9</td></tr><tr><td>13</td></tr><tr><td>9</td></tr><tr><td>13</td></tr><tr><td>13</td></tr><tr><td>9</td></tr><tr><td>10</td></tr><tr><td>16</td></tr><tr><td>10</td></tr><tr><td>13</td></tr><tr><td>13</td></tr><tr><td>10</td></tr><tr><td>9</td></tr><tr><td>9</td></tr><tr><td>14</td></tr><tr><td>9</td></tr><tr><td>13</td></tr><tr><td>10</td></tr><tr><td>10</td></tr><tr><td>13</td></tr><tr><td>9</td></tr><tr><td>10</td></tr><tr><td>9</td></tr><tr><td>9</td></tr><tr><td>13</td></tr><tr><td>4</td></tr><tr><td>9</td></tr><tr><td>7</td></tr><tr><td>14</td></tr><tr><td>9</td></tr><tr><td>11</td></tr><tr><td>9</td></tr><tr><td>10</td></tr><tr><td>14</td></tr><tr><td>9</td></tr><tr><td>14</td></tr><tr><td>10</td></tr><tr><td>10</td></tr><tr><td>4</td></tr><tr><td>10</td></tr><tr><td>10</td></tr><tr><td>10</td></tr><tr><td>13</td></tr><tr><td>13</td></tr><tr><td>10</td></tr><tr><td>13</td></tr><tr><td>9</td></tr><tr><td>9</td></tr><tr><td>9</td></tr><tr><td>12</td></tr><tr><td>13</td></tr><tr><td>10</td></tr><tr><td>11</td></tr><tr><td>13</td></tr><tr><td>7</td></tr><tr><td>9</td></tr><tr><td>5</td></tr><tr><td>10</td></tr><tr><td>10</td></tr><tr><td>9</td></tr><tr><td>3</td></tr><tr><td>15</td></tr><tr><td>10</td></tr><tr><td>5</td></tr><tr><td>10</td></tr><tr><td>13</td></tr><tr><td>9</td></tr><tr><td>9</td></tr><tr><td>9</td></tr><tr><td>10</td></tr><tr><td>11</td></tr><tr><td>9</td></tr><tr><td>9</td></tr><tr><td>6</td></tr><tr><td>9</td></tr><tr><td>10</td></tr><tr><td>10</td></tr><tr><td>3</td></tr><tr><td>9</td></tr><tr><td>9</td></tr><tr><td>16</td></tr><tr><td>2</td></tr><tr><td>13</td></tr><tr><td>9</td></tr><tr><td>13</td></tr><tr><td>10</td></tr><tr><td>10</td></tr><tr><td>9</td></tr><tr><td>13</td></tr><tr><td>7</td></tr><tr><td>13</td></tr><tr><td>13</td></tr><tr><td>13</td></tr><tr><td>13</td></tr><tr><td>10</td></tr><tr><td>6</td></tr><tr><td>9</td></tr><tr><td>14</td></tr><tr><td>9</td></tr><tr><td>10</td></tr><tr><td>9</td></tr><tr><td>7</td></tr><tr><td>4</td></tr><tr><td>13</td></tr><tr><td>13</td></tr><tr><td>10</td></tr><tr><td>13</td></tr><tr><td>13</td></tr><tr><td>13</td></tr><tr><td>11</td></tr><tr><td>11</td></tr><tr><td>9</td></tr><tr><td>7</td></tr><tr><td>6</td></tr><tr><td>13</td></tr><tr><td>10</td></tr><tr><td>10</td></tr><tr><td>13</td></tr><tr><td>13</td></tr><tr><td>13</td></tr><tr><td>13</td></tr><tr><td>10</td></tr><tr><td>9</td></tr><tr><td>10</td></tr><tr><td>14</td></tr><tr><td>9</td></tr><tr><td>10</td></tr><tr><td>9</td></tr><tr><td>3</td></tr><tr><td>13</td></tr><tr><td>11</td></tr><tr><td>9</td></tr><tr><td>13</td></tr><tr><td>14</td></tr><tr><td>9</td></tr><tr><td>9</td></tr><tr><td>13</td></tr><tr><td>10</td></tr><tr><td>11</td></tr><tr><td>9</td></tr><tr><td>14</td></tr><tr><td>11</td></tr><tr><td>9</td></tr><tr><td>13</td></tr><tr><td>13</td></tr><tr><td>10</td></tr><tr><td>9</td></tr><tr><td>10</td></tr><tr><td>7</td></tr><tr><td>13</td></tr><tr><td>9</td></tr><tr><td>9</td></tr><tr><td>3</td></tr><tr><td>10</td></tr><tr><td>9</td></tr><tr><td>10</td></tr><tr><td>13</td></tr><tr><td>9</td></tr><tr><td>9</td></tr><tr><td>10</td></tr><tr><td>10</td></tr><tr><td>10</td></tr><tr><td>9</td></tr><tr><td>9</td></tr><tr><td>13</td></tr><tr><td>13</td></tr><tr><td>7</td></tr><tr><td>10</td></tr><tr><td>9</td></tr><tr><td>10</td></tr><tr><td>11</td></tr><tr><td>13</td></tr><tr><td>9</td></tr><tr><td>15</td></tr><tr><td>10</td></tr><tr><td>10</td></tr><tr><td>4</td></tr><tr><td>9</td></tr><tr><td>9</td></tr><tr><td>8</td></tr><tr><td>10</td></tr><tr><td>13</td></tr><tr><td>10</td></tr><tr><td>12</td></tr><tr><td>9</td></tr><tr><td>10</td></tr><tr><td>9</td></tr><tr><td>13</td></tr><tr><td>13</td></tr><tr><td>13</td></tr><tr><td>9</td></tr><tr><td>9</td></tr><tr><td>10</td></tr><tr><td>10</td></tr><tr><td>13</td></tr><tr><td>10</td></tr><tr><td>9</td></tr><tr><td>13</td></tr><tr><td>9</td></tr><tr><td>3</td></tr><tr><td>14</td></tr><tr><td>3</td></tr><tr><td>9</td></tr><tr><td>7</td></tr><tr><td>13</td></tr><tr><td>14</td></tr><tr><td>9</td></tr><tr><td>9</td></tr><tr><td>9</td></tr><tr><td>13</td></tr><tr><td>9</td></tr><tr><td>9</td></tr><tr><td>7</td></tr><tr><td>6</td></tr><tr><td>9</td></tr><tr><td>9</td></tr><tr><td>13</td></tr><tr><td>10</td></tr><tr><td>14</td></tr><tr><td>10</td></tr><tr><td>9</td></tr><tr><td>9</td></tr><tr><td>10</td></tr><tr><td>5</td></tr><tr><td>9</td></tr><tr><td>9</td></tr><tr><td>7</td></tr><tr><td>12</td></tr><tr><td>9</td></tr><tr><td>9</td></tr><tr><td>9</td></tr><tr><td>9</td></tr><tr><td>10</td></tr><tr><td>10</td></tr><tr><td>13</td></tr><tr><td>15</td></tr><tr><td>6</td></tr><tr><td>6</td></tr><tr><td>10</td></tr><tr><td>9</td></tr><tr><td>9</td></tr><tr><td>14</td></tr><tr><td>16</td></tr><tr><td>8</td></tr><tr><td>9</td></tr><tr><td>10</td></tr><tr><td>9</td></tr><tr><td>11</td></tr><tr><td>10</td></tr><tr><td>10</td></tr><tr><td>10</td></tr><tr><td>10</td></tr><tr><td>13</td></tr><tr><td>9</td></tr><tr><td>14</td></tr><tr><td>10</td></tr><tr><td>5</td></tr><tr><td>9</td></tr><tr><td>9</td></tr><tr><td>11</td></tr><tr><td>10</td></tr><tr><td>14</td></tr><tr><td>10</td></tr><tr><td>13</td></tr><tr><td>13</td></tr><tr><td>10</td></tr><tr><td>7</td></tr><tr><td>11</td></tr><tr><td>13</td></tr><tr><td>9</td></tr><tr><td>13</td></tr><tr><td>11</td></tr><tr><td>9</td></tr><tr><td>13</td></tr><tr><td>10</td></tr><tr><td>8</td></tr><tr><td>10</td></tr><tr><td>4</td></tr><tr><td>9</td></tr><tr><td>9</td></tr><tr><td>14</td></tr><tr><td>14</td></tr><tr><td>13</td></tr><tr><td>13</td></tr><tr><td>10</td></tr><tr><td>5</td></tr><tr><td>10</td></tr><tr><td>14</td></tr><tr><td>15</td></tr><tr><td>11</td></tr><tr><td>10</td></tr><tr><td>13</td></tr><tr><td>9</td></tr><tr><td>6</td></tr><tr><td>10</td></tr><tr><td>9</td></tr><tr><td>4</td></tr><tr><td>9</td></tr><tr><td>10</td></tr><tr><td>9</td></tr><tr><td>9</td></tr><tr><td>12</td></tr><tr><td>9</td></tr><tr><td>9</td></tr><tr><td>6</td></tr><tr><td>9</td></tr><tr><td>13</td></tr><tr><td>9</td></tr><tr><td>9</td></tr><tr><td>15</td></tr><tr><td>13</td></tr><tr><td>9</td></tr><tr><td>13</td></tr><tr><td>11</td></tr><tr><td>10</td></tr><tr><td>9</td></tr><tr><td>13</td></tr><tr><td>9</td></tr><tr><td>9</td></tr><tr><td>13</td></tr><tr><td>9</td></tr><tr><td>13</td></tr><tr><td>13</td></tr><tr><td>9</td></tr><tr><td>13</td></tr><tr><td>7</td></tr><tr><td>10</td></tr><tr><td>7</td></tr><tr><td>9</td></tr><tr><td>9</td></tr><tr><td>10</td></tr><tr><td>10</td></tr><tr><td>4</td></tr><tr><td>10</td></tr><tr><td>9</td></tr><tr><td>7</td></tr><tr><td>9</td></tr><tr><td>15</td></tr><tr><td>13</td></tr><tr><td>9</td></tr><tr><td>13</td></tr><tr><td>1</td></tr><tr><td>9</td></tr><tr><td>9</td></tr><tr><td>10</td></tr><tr><td>7</td></tr><tr><td>9</td></tr><tr><td>13</td></tr><tr><td>10</td></tr><tr><td>9</td></tr><tr><td>16</td></tr><tr><td>10</td></tr><tr><td>9</td></tr><tr><td>6</td></tr><tr><td>6</td></tr><tr><td>9</td></tr><tr><td>9</td></tr><tr><td>13</td></tr><tr><td>13</td></tr><tr><td>11</td></tr><tr><td>13</td></tr><tr><td>13</td></tr><tr><td>13</td></tr><tr><td>13</td></tr><tr><td>9</td></tr><tr><td>8</td></tr><tr><td>9</td></tr><tr><td>10</td></tr><tr><td>9</td></tr><tr><td>13</td></tr><tr><td>9</td></tr><tr><td>10</td></tr><tr><td>15</td></tr><tr><td>11</td></tr><tr><td>10</td></tr><tr><td>9</td></tr><tr><td>9</td></tr><tr><td>13</td></tr><tr><td>10</td></tr><tr><td>10</td></tr><tr><td>1</td></tr><tr><td>13</td></tr><tr><td>12</td></tr><tr><td>10</td></tr><tr><td>9</td></tr><tr><td>12</td></tr><tr><td>9</td></tr><tr><td>9</td></tr><tr><td>10</td></tr><tr><td>10</td></tr><tr><td>11</td></tr><tr><td>14</td></tr><tr><td>9</td></tr><tr><td>10</td></tr><tr><td>8</td></tr><tr><td>14</td></tr><tr><td>6</td></tr><tr><td>9</td></tr><tr><td>10</td></tr><tr><td>7</td></tr><tr><td>4</td></tr><tr><td>7</td></tr><tr><td>5</td></tr><tr><td>9</td></tr><tr><td>7</td></tr><tr><td>13</td></tr><tr><td>7</td></tr><tr><td>10</td></tr><tr><td>13</td></tr><tr><td>13</td></tr><tr><td>14</td></tr><tr><td>9</td></tr><tr><td>13</td></tr><tr><td>15</td></tr><tr><td>9</td></tr><tr><td>3</td></tr><tr><td>10</td></tr><tr><td>12</td></tr><tr><td>10</td></tr><tr><td>13</td></tr><tr><td>14</td></tr><tr><td>9</td></tr><tr><td>11</td></tr><tr><td>9</td></tr><tr><td>9</td></tr><tr><td>5</td></tr><tr><td>13</td></tr><tr><td>12</td></tr><tr><td>13</td></tr><tr><td>6</td></tr><tr><td>16</td></tr><tr><td>11</td></tr><tr><td>10</td></tr><tr><td>10</td></tr><tr><td>13</td></tr><tr><td>9</td></tr><tr><td>9</td></tr><tr><td>9</td></tr><tr><td>13</td></tr><tr><td>9</td></tr><tr><td>13</td></tr><tr><td>13</td></tr><tr><td>13</td></tr><tr><td>13</td></tr><tr><td>15</td></tr><tr><td>10</td></tr><tr><td>9</td></tr><tr><td>14</td></tr><tr><td>9</td></tr><tr><td>10</td></tr><tr><td>10</td></tr><tr><td>13</td></tr><tr><td>2</td></tr><tr><td>13</td></tr><tr><td>9</td></tr><tr><td>8</td></tr><tr><td>9</td></tr><tr><td>9</td></tr><tr><td>13</td></tr><tr><td>10</td></tr><tr><td>9</td></tr><tr><td>12</td></tr><tr><td>9</td></tr><tr><td>9</td></tr><tr><td>10</td></tr><tr><td>7</td></tr><tr><td>10</td></tr><tr><td>16</td></tr><tr><td>9</td></tr><tr><td>9</td></tr><tr><td>10</td></tr><tr><td>9</td></tr><tr><td>9</td></tr><tr><td>9</td></tr><tr><td>9</td></tr><tr><td>9</td></tr><tr><td>13</td></tr><tr><td>5</td></tr><tr><td>9</td></tr><tr><td>10</td></tr><tr><td>10</td></tr><tr><td>10</td></tr><tr><td>13</td></tr><tr><td>15</td></tr><tr><td>13</td></tr><tr><td>10</td></tr><tr><td>9</td></tr><tr><td>9</td></tr><tr><td>14</td></tr><tr><td>12</td></tr><tr><td>6</td></tr><tr><td>4</td></tr><tr><td>11</td></tr><tr><td>13</td></tr><tr><td>9</td></tr><tr><td>10</td></tr><tr><td>9</td></tr><tr><td>13</td></tr><tr><td>10</td></tr><tr><td>10</td></tr><tr><td>6</td></tr><tr><td>9</td></tr><tr><td>9</td></tr><tr><td>10</td></tr><tr><td>9</td></tr><tr><td>10</td></tr><tr><td>9</td></tr><tr><td>16</td></tr><tr><td>4</td></tr><tr><td>10</td></tr><tr><td>6</td></tr><tr><td>13</td></tr><tr><td>9</td></tr><tr><td>9</td></tr><tr><td>9</td></tr><tr><td>7</td></tr><tr><td>10</td></tr><tr><td>9</td></tr><tr><td>7</td></tr><tr><td>10</td></tr><tr><td>11</td></tr><tr><td>9</td></tr><tr><td>10</td></tr><tr><td>2</td></tr><tr><td>3</td></tr><tr><td>8</td></tr><tr><td>15</td></tr><tr><td>9</td></tr><tr><td>9</td></tr><tr><td>12</td></tr><tr><td>9</td></tr><tr><td>4</td></tr><tr><td>10</td></tr><tr><td>14</td></tr><tr><td>10</td></tr><tr><td>6</td></tr><tr><td>7</td></tr><tr><td>9</td></tr><tr><td>13</td></tr><tr><td>5</td></tr><tr><td>9</td></tr><tr><td>15</td></tr><tr><td>13</td></tr><tr><td>9</td></tr><tr><td>11</td></tr><tr><td>9</td></tr><tr><td>13</td></tr><tr><td>9</td></tr><tr><td>10</td></tr><tr><td>13</td></tr><tr><td>7</td></tr><tr><td>10</td></tr><tr><td>13</td></tr><tr><td>13</td></tr><tr><td>15</td></tr><tr><td>10</td></tr><tr><td>10</td></tr><tr><td>7</td></tr><tr><td>6</td></tr><tr><td>10</td></tr><tr><td>13</td></tr><tr><td>13</td></tr></tbody></table>Showing the first 1000 rows.</div>"
            ]
          },
          "metadata": {
            "tags": [],
            "application/vnd.databricks.v1+output": {
              "overflow": true,
              "datasetInfos": [],
              "data": [
                [
                  7
                ],
                [
                  9
                ],
                [
                  12
                ],
                [
                  10
                ],
                [
                  10
                ],
                [
                  6
                ],
                [
                  9
                ],
                [
                  15
                ],
                [
                  10
                ],
                [
                  4
                ],
                [
                  9
                ],
                [
                  13
                ],
                [
                  9
                ],
                [
                  9
                ],
                [
                  9
                ],
                [
                  14
                ],
                [
                  10
                ],
                [
                  9
                ],
                [
                  9
                ],
                [
                  16
                ],
                [
                  13
                ],
                [
                  10
                ],
                [
                  4
                ],
                [
                  13
                ],
                [
                  13
                ],
                [
                  9
                ],
                [
                  9
                ],
                [
                  9
                ],
                [
                  9
                ],
                [
                  10
                ],
                [
                  10
                ],
                [
                  7
                ],
                [
                  13
                ],
                [
                  10
                ],
                [
                  9
                ],
                [
                  9
                ],
                [
                  13
                ],
                [
                  3
                ],
                [
                  6
                ],
                [
                  9
                ],
                [
                  14
                ],
                [
                  11
                ],
                [
                  9
                ],
                [
                  7
                ],
                [
                  10
                ],
                [
                  11
                ],
                [
                  4
                ],
                [
                  10
                ],
                [
                  7
                ],
                [
                  9
                ],
                [
                  10
                ],
                [
                  9
                ],
                [
                  10
                ],
                [
                  9
                ],
                [
                  5
                ],
                [
                  10
                ],
                [
                  9
                ],
                [
                  13
                ],
                [
                  9
                ],
                [
                  9
                ],
                [
                  13
                ],
                [
                  10
                ],
                [
                  14
                ],
                [
                  9
                ],
                [
                  9
                ],
                [
                  13
                ],
                [
                  12
                ],
                [
                  10
                ],
                [
                  9
                ],
                [
                  9
                ],
                [
                  10
                ],
                [
                  11
                ],
                [
                  9
                ],
                [
                  10
                ],
                [
                  10
                ],
                [
                  6
                ],
                [
                  9
                ],
                [
                  9
                ],
                [
                  9
                ],
                [
                  10
                ],
                [
                  10
                ],
                [
                  13
                ],
                [
                  10
                ],
                [
                  9
                ],
                [
                  10
                ],
                [
                  9
                ],
                [
                  7
                ],
                [
                  9
                ],
                [
                  10
                ],
                [
                  14
                ],
                [
                  13
                ],
                [
                  4
                ],
                [
                  14
                ],
                [
                  13
                ],
                [
                  14
                ],
                [
                  9
                ],
                [
                  13
                ],
                [
                  6
                ],
                [
                  9
                ],
                [
                  9
                ],
                [
                  10
                ],
                [
                  10
                ],
                [
                  10
                ],
                [
                  5
                ],
                [
                  9
                ],
                [
                  6
                ],
                [
                  9
                ],
                [
                  9
                ],
                [
                  10
                ],
                [
                  9
                ],
                [
                  9
                ],
                [
                  10
                ],
                [
                  11
                ],
                [
                  9
                ],
                [
                  10
                ],
                [
                  9
                ],
                [
                  9
                ],
                [
                  7
                ],
                [
                  9
                ],
                [
                  13
                ],
                [
                  13
                ],
                [
                  10
                ],
                [
                  10
                ],
                [
                  10
                ],
                [
                  9
                ],
                [
                  9
                ],
                [
                  16
                ],
                [
                  9
                ],
                [
                  9
                ],
                [
                  14
                ],
                [
                  10
                ],
                [
                  9
                ],
                [
                  9
                ],
                [
                  16
                ],
                [
                  9
                ],
                [
                  12
                ],
                [
                  9
                ],
                [
                  4
                ],
                [
                  9
                ],
                [
                  6
                ],
                [
                  14
                ],
                [
                  10
                ],
                [
                  9
                ],
                [
                  9
                ],
                [
                  14
                ],
                [
                  9
                ],
                [
                  11
                ],
                [
                  9
                ],
                [
                  13
                ],
                [
                  9
                ],
                [
                  10
                ],
                [
                  7
                ],
                [
                  4
                ],
                [
                  7
                ],
                [
                  13
                ],
                [
                  10
                ],
                [
                  9
                ],
                [
                  13
                ],
                [
                  10
                ],
                [
                  13
                ],
                [
                  7
                ],
                [
                  9
                ],
                [
                  9
                ],
                [
                  13
                ],
                [
                  14
                ],
                [
                  10
                ],
                [
                  16
                ],
                [
                  9
                ],
                [
                  9
                ],
                [
                  9
                ],
                [
                  9
                ],
                [
                  14
                ],
                [
                  13
                ],
                [
                  8
                ],
                [
                  14
                ],
                [
                  10
                ],
                [
                  11
                ],
                [
                  10
                ],
                [
                  9
                ],
                [
                  10
                ],
                [
                  14
                ],
                [
                  10
                ],
                [
                  9
                ],
                [
                  13
                ],
                [
                  9
                ],
                [
                  10
                ],
                [
                  9
                ],
                [
                  9
                ],
                [
                  13
                ],
                [
                  9
                ],
                [
                  13
                ],
                [
                  13
                ],
                [
                  10
                ],
                [
                  4
                ],
                [
                  9
                ],
                [
                  10
                ],
                [
                  10
                ],
                [
                  15
                ],
                [
                  9
                ],
                [
                  9
                ],
                [
                  10
                ],
                [
                  13
                ],
                [
                  13
                ],
                [
                  13
                ],
                [
                  11
                ],
                [
                  13
                ],
                [
                  4
                ],
                [
                  9
                ],
                [
                  13
                ],
                [
                  10
                ],
                [
                  7
                ],
                [
                  10
                ],
                [
                  11
                ],
                [
                  13
                ],
                [
                  13
                ],
                [
                  9
                ],
                [
                  9
                ],
                [
                  3
                ],
                [
                  11
                ],
                [
                  13
                ],
                [
                  13
                ],
                [
                  9
                ],
                [
                  9
                ],
                [
                  9
                ],
                [
                  5
                ],
                [
                  10
                ],
                [
                  13
                ],
                [
                  9
                ],
                [
                  5
                ],
                [
                  10
                ],
                [
                  8
                ],
                [
                  15
                ],
                [
                  14
                ],
                [
                  9
                ],
                [
                  9
                ],
                [
                  11
                ],
                [
                  10
                ],
                [
                  9
                ],
                [
                  10
                ],
                [
                  9
                ],
                [
                  9
                ],
                [
                  9
                ],
                [
                  10
                ],
                [
                  10
                ],
                [
                  10
                ],
                [
                  9
                ],
                [
                  9
                ],
                [
                  9
                ],
                [
                  9
                ],
                [
                  9
                ],
                [
                  10
                ],
                [
                  11
                ],
                [
                  13
                ],
                [
                  13
                ],
                [
                  13
                ],
                [
                  10
                ],
                [
                  10
                ],
                [
                  9
                ],
                [
                  9
                ],
                [
                  15
                ],
                [
                  10
                ],
                [
                  14
                ],
                [
                  10
                ],
                [
                  13
                ],
                [
                  14
                ],
                [
                  10
                ],
                [
                  9
                ],
                [
                  6
                ],
                [
                  10
                ],
                [
                  7
                ],
                [
                  9
                ],
                [
                  6
                ],
                [
                  10
                ],
                [
                  14
                ],
                [
                  9
                ],
                [
                  9
                ],
                [
                  9
                ],
                [
                  7
                ],
                [
                  13
                ],
                [
                  10
                ],
                [
                  9
                ],
                [
                  9
                ],
                [
                  9
                ],
                [
                  10
                ],
                [
                  13
                ],
                [
                  10
                ],
                [
                  9
                ],
                [
                  10
                ],
                [
                  10
                ],
                [
                  9
                ],
                [
                  9
                ],
                [
                  6
                ],
                [
                  10
                ],
                [
                  6
                ],
                [
                  10
                ],
                [
                  9
                ],
                [
                  5
                ],
                [
                  9
                ],
                [
                  11
                ],
                [
                  9
                ],
                [
                  10
                ],
                [
                  7
                ],
                [
                  10
                ],
                [
                  9
                ],
                [
                  10
                ],
                [
                  13
                ],
                [
                  9
                ],
                [
                  13
                ],
                [
                  13
                ],
                [
                  9
                ],
                [
                  12
                ],
                [
                  10
                ],
                [
                  10
                ],
                [
                  13
                ],
                [
                  9
                ],
                [
                  10
                ],
                [
                  10
                ],
                [
                  10
                ],
                [
                  13
                ],
                [
                  9
                ],
                [
                  10
                ],
                [
                  13
                ],
                [
                  9
                ],
                [
                  2
                ],
                [
                  9
                ],
                [
                  14
                ],
                [
                  14
                ],
                [
                  7
                ],
                [
                  10
                ],
                [
                  16
                ],
                [
                  9
                ],
                [
                  10
                ],
                [
                  9
                ],
                [
                  9
                ],
                [
                  14
                ],
                [
                  9
                ],
                [
                  5
                ],
                [
                  6
                ],
                [
                  9
                ],
                [
                  13
                ],
                [
                  9
                ],
                [
                  13
                ],
                [
                  3
                ],
                [
                  14
                ],
                [
                  9
                ],
                [
                  13
                ],
                [
                  9
                ],
                [
                  4
                ],
                [
                  9
                ],
                [
                  11
                ],
                [
                  9
                ],
                [
                  9
                ],
                [
                  9
                ],
                [
                  10
                ],
                [
                  9
                ],
                [
                  13
                ],
                [
                  13
                ],
                [
                  15
                ],
                [
                  12
                ],
                [
                  13
                ],
                [
                  7
                ],
                [
                  10
                ],
                [
                  10
                ],
                [
                  10
                ],
                [
                  9
                ],
                [
                  15
                ],
                [
                  10
                ],
                [
                  10
                ],
                [
                  14
                ],
                [
                  6
                ],
                [
                  10
                ],
                [
                  4
                ],
                [
                  9
                ],
                [
                  13
                ],
                [
                  9
                ],
                [
                  9
                ],
                [
                  13
                ],
                [
                  9
                ],
                [
                  10
                ],
                [
                  9
                ],
                [
                  9
                ],
                [
                  13
                ],
                [
                  16
                ],
                [
                  9
                ],
                [
                  7
                ],
                [
                  7
                ],
                [
                  9
                ],
                [
                  7
                ],
                [
                  9
                ],
                [
                  9
                ],
                [
                  13
                ],
                [
                  9
                ],
                [
                  14
                ],
                [
                  9
                ],
                [
                  9
                ],
                [
                  9
                ],
                [
                  13
                ],
                [
                  9
                ],
                [
                  14
                ],
                [
                  13
                ],
                [
                  13
                ],
                [
                  12
                ],
                [
                  7
                ],
                [
                  9
                ],
                [
                  9
                ],
                [
                  9
                ],
                [
                  13
                ],
                [
                  9
                ],
                [
                  10
                ],
                [
                  13
                ],
                [
                  7
                ],
                [
                  9
                ],
                [
                  9
                ],
                [
                  12
                ],
                [
                  6
                ],
                [
                  6
                ],
                [
                  9
                ],
                [
                  10
                ],
                [
                  15
                ],
                [
                  13
                ],
                [
                  2
                ],
                [
                  9
                ],
                [
                  10
                ],
                [
                  13
                ],
                [
                  11
                ],
                [
                  9
                ],
                [
                  9
                ],
                [
                  10
                ],
                [
                  7
                ],
                [
                  10
                ],
                [
                  9
                ],
                [
                  9
                ],
                [
                  10
                ],
                [
                  9
                ],
                [
                  10
                ],
                [
                  14
                ],
                [
                  13
                ],
                [
                  6
                ],
                [
                  9
                ],
                [
                  13
                ],
                [
                  9
                ],
                [
                  13
                ],
                [
                  13
                ],
                [
                  9
                ],
                [
                  10
                ],
                [
                  16
                ],
                [
                  10
                ],
                [
                  13
                ],
                [
                  13
                ],
                [
                  10
                ],
                [
                  9
                ],
                [
                  9
                ],
                [
                  14
                ],
                [
                  9
                ],
                [
                  13
                ],
                [
                  10
                ],
                [
                  10
                ],
                [
                  13
                ],
                [
                  9
                ],
                [
                  10
                ],
                [
                  9
                ],
                [
                  9
                ],
                [
                  13
                ],
                [
                  4
                ],
                [
                  9
                ],
                [
                  7
                ],
                [
                  14
                ],
                [
                  9
                ],
                [
                  11
                ],
                [
                  9
                ],
                [
                  10
                ],
                [
                  14
                ],
                [
                  9
                ],
                [
                  14
                ],
                [
                  10
                ],
                [
                  10
                ],
                [
                  4
                ],
                [
                  10
                ],
                [
                  10
                ],
                [
                  10
                ],
                [
                  13
                ],
                [
                  13
                ],
                [
                  10
                ],
                [
                  13
                ],
                [
                  9
                ],
                [
                  9
                ],
                [
                  9
                ],
                [
                  12
                ],
                [
                  13
                ],
                [
                  10
                ],
                [
                  11
                ],
                [
                  13
                ],
                [
                  7
                ],
                [
                  9
                ],
                [
                  5
                ],
                [
                  10
                ],
                [
                  10
                ],
                [
                  9
                ],
                [
                  3
                ],
                [
                  15
                ],
                [
                  10
                ],
                [
                  5
                ],
                [
                  10
                ],
                [
                  13
                ],
                [
                  9
                ],
                [
                  9
                ],
                [
                  9
                ],
                [
                  10
                ],
                [
                  11
                ],
                [
                  9
                ],
                [
                  9
                ],
                [
                  6
                ],
                [
                  9
                ],
                [
                  10
                ],
                [
                  10
                ],
                [
                  3
                ],
                [
                  9
                ],
                [
                  9
                ],
                [
                  16
                ],
                [
                  2
                ],
                [
                  13
                ],
                [
                  9
                ],
                [
                  13
                ],
                [
                  10
                ],
                [
                  10
                ],
                [
                  9
                ],
                [
                  13
                ],
                [
                  7
                ],
                [
                  13
                ],
                [
                  13
                ],
                [
                  13
                ],
                [
                  13
                ],
                [
                  10
                ],
                [
                  6
                ],
                [
                  9
                ],
                [
                  14
                ],
                [
                  9
                ],
                [
                  10
                ],
                [
                  9
                ],
                [
                  7
                ],
                [
                  4
                ],
                [
                  13
                ],
                [
                  13
                ],
                [
                  10
                ],
                [
                  13
                ],
                [
                  13
                ],
                [
                  13
                ],
                [
                  11
                ],
                [
                  11
                ],
                [
                  9
                ],
                [
                  7
                ],
                [
                  6
                ],
                [
                  13
                ],
                [
                  10
                ],
                [
                  10
                ],
                [
                  13
                ],
                [
                  13
                ],
                [
                  13
                ],
                [
                  13
                ],
                [
                  10
                ],
                [
                  9
                ],
                [
                  10
                ],
                [
                  14
                ],
                [
                  9
                ],
                [
                  10
                ],
                [
                  9
                ],
                [
                  3
                ],
                [
                  13
                ],
                [
                  11
                ],
                [
                  9
                ],
                [
                  13
                ],
                [
                  14
                ],
                [
                  9
                ],
                [
                  9
                ],
                [
                  13
                ],
                [
                  10
                ],
                [
                  11
                ],
                [
                  9
                ],
                [
                  14
                ],
                [
                  11
                ],
                [
                  9
                ],
                [
                  13
                ],
                [
                  13
                ],
                [
                  10
                ],
                [
                  9
                ],
                [
                  10
                ],
                [
                  7
                ],
                [
                  13
                ],
                [
                  9
                ],
                [
                  9
                ],
                [
                  3
                ],
                [
                  10
                ],
                [
                  9
                ],
                [
                  10
                ],
                [
                  13
                ],
                [
                  9
                ],
                [
                  9
                ],
                [
                  10
                ],
                [
                  10
                ],
                [
                  10
                ],
                [
                  9
                ],
                [
                  9
                ],
                [
                  13
                ],
                [
                  13
                ],
                [
                  7
                ],
                [
                  10
                ],
                [
                  9
                ],
                [
                  10
                ],
                [
                  11
                ],
                [
                  13
                ],
                [
                  9
                ],
                [
                  15
                ],
                [
                  10
                ],
                [
                  10
                ],
                [
                  4
                ],
                [
                  9
                ],
                [
                  9
                ],
                [
                  8
                ],
                [
                  10
                ],
                [
                  13
                ],
                [
                  10
                ],
                [
                  12
                ],
                [
                  9
                ],
                [
                  10
                ],
                [
                  9
                ],
                [
                  13
                ],
                [
                  13
                ],
                [
                  13
                ],
                [
                  9
                ],
                [
                  9
                ],
                [
                  10
                ],
                [
                  10
                ],
                [
                  13
                ],
                [
                  10
                ],
                [
                  9
                ],
                [
                  13
                ],
                [
                  9
                ],
                [
                  3
                ],
                [
                  14
                ],
                [
                  3
                ],
                [
                  9
                ],
                [
                  7
                ],
                [
                  13
                ],
                [
                  14
                ],
                [
                  9
                ],
                [
                  9
                ],
                [
                  9
                ],
                [
                  13
                ],
                [
                  9
                ],
                [
                  9
                ],
                [
                  7
                ],
                [
                  6
                ],
                [
                  9
                ],
                [
                  9
                ],
                [
                  13
                ],
                [
                  10
                ],
                [
                  14
                ],
                [
                  10
                ],
                [
                  9
                ],
                [
                  9
                ],
                [
                  10
                ],
                [
                  5
                ],
                [
                  9
                ],
                [
                  9
                ],
                [
                  7
                ],
                [
                  12
                ],
                [
                  9
                ],
                [
                  9
                ],
                [
                  9
                ],
                [
                  9
                ],
                [
                  10
                ],
                [
                  10
                ],
                [
                  13
                ],
                [
                  15
                ],
                [
                  6
                ],
                [
                  6
                ],
                [
                  10
                ],
                [
                  9
                ],
                [
                  9
                ],
                [
                  14
                ],
                [
                  16
                ],
                [
                  8
                ],
                [
                  9
                ],
                [
                  10
                ],
                [
                  9
                ],
                [
                  11
                ],
                [
                  10
                ],
                [
                  10
                ],
                [
                  10
                ],
                [
                  10
                ],
                [
                  13
                ],
                [
                  9
                ],
                [
                  14
                ],
                [
                  10
                ],
                [
                  5
                ],
                [
                  9
                ],
                [
                  9
                ],
                [
                  11
                ],
                [
                  10
                ],
                [
                  14
                ],
                [
                  10
                ],
                [
                  13
                ],
                [
                  13
                ],
                [
                  10
                ],
                [
                  7
                ],
                [
                  11
                ],
                [
                  13
                ],
                [
                  9
                ],
                [
                  13
                ],
                [
                  11
                ],
                [
                  9
                ],
                [
                  13
                ],
                [
                  10
                ],
                [
                  8
                ],
                [
                  10
                ],
                [
                  4
                ],
                [
                  9
                ],
                [
                  9
                ],
                [
                  14
                ],
                [
                  14
                ],
                [
                  13
                ],
                [
                  13
                ],
                [
                  10
                ],
                [
                  5
                ],
                [
                  10
                ],
                [
                  14
                ],
                [
                  15
                ],
                [
                  11
                ],
                [
                  10
                ],
                [
                  13
                ],
                [
                  9
                ],
                [
                  6
                ],
                [
                  10
                ],
                [
                  9
                ],
                [
                  4
                ],
                [
                  9
                ],
                [
                  10
                ],
                [
                  9
                ],
                [
                  9
                ],
                [
                  12
                ],
                [
                  9
                ],
                [
                  9
                ],
                [
                  6
                ],
                [
                  9
                ],
                [
                  13
                ],
                [
                  9
                ],
                [
                  9
                ],
                [
                  15
                ],
                [
                  13
                ],
                [
                  9
                ],
                [
                  13
                ],
                [
                  11
                ],
                [
                  10
                ],
                [
                  9
                ],
                [
                  13
                ],
                [
                  9
                ],
                [
                  9
                ],
                [
                  13
                ],
                [
                  9
                ],
                [
                  13
                ],
                [
                  13
                ],
                [
                  9
                ],
                [
                  13
                ],
                [
                  7
                ],
                [
                  10
                ],
                [
                  7
                ],
                [
                  9
                ],
                [
                  9
                ],
                [
                  10
                ],
                [
                  10
                ],
                [
                  4
                ],
                [
                  10
                ],
                [
                  9
                ],
                [
                  7
                ],
                [
                  9
                ],
                [
                  15
                ],
                [
                  13
                ],
                [
                  9
                ],
                [
                  13
                ],
                [
                  1
                ],
                [
                  9
                ],
                [
                  9
                ],
                [
                  10
                ],
                [
                  7
                ],
                [
                  9
                ],
                [
                  13
                ],
                [
                  10
                ],
                [
                  9
                ],
                [
                  16
                ],
                [
                  10
                ],
                [
                  9
                ],
                [
                  6
                ],
                [
                  6
                ],
                [
                  9
                ],
                [
                  9
                ],
                [
                  13
                ],
                [
                  13
                ],
                [
                  11
                ],
                [
                  13
                ],
                [
                  13
                ],
                [
                  13
                ],
                [
                  13
                ],
                [
                  9
                ],
                [
                  8
                ],
                [
                  9
                ],
                [
                  10
                ],
                [
                  9
                ],
                [
                  13
                ],
                [
                  9
                ],
                [
                  10
                ],
                [
                  15
                ],
                [
                  11
                ],
                [
                  10
                ],
                [
                  9
                ],
                [
                  9
                ],
                [
                  13
                ],
                [
                  10
                ],
                [
                  10
                ],
                [
                  1
                ],
                [
                  13
                ],
                [
                  12
                ],
                [
                  10
                ],
                [
                  9
                ],
                [
                  12
                ],
                [
                  9
                ],
                [
                  9
                ],
                [
                  10
                ],
                [
                  10
                ],
                [
                  11
                ],
                [
                  14
                ],
                [
                  9
                ],
                [
                  10
                ],
                [
                  8
                ],
                [
                  14
                ],
                [
                  6
                ],
                [
                  9
                ],
                [
                  10
                ],
                [
                  7
                ],
                [
                  4
                ],
                [
                  7
                ],
                [
                  5
                ],
                [
                  9
                ],
                [
                  7
                ],
                [
                  13
                ],
                [
                  7
                ],
                [
                  10
                ],
                [
                  13
                ],
                [
                  13
                ],
                [
                  14
                ],
                [
                  9
                ],
                [
                  13
                ],
                [
                  15
                ],
                [
                  9
                ],
                [
                  3
                ],
                [
                  10
                ],
                [
                  12
                ],
                [
                  10
                ],
                [
                  13
                ],
                [
                  14
                ],
                [
                  9
                ],
                [
                  11
                ],
                [
                  9
                ],
                [
                  9
                ],
                [
                  5
                ],
                [
                  13
                ],
                [
                  12
                ],
                [
                  13
                ],
                [
                  6
                ],
                [
                  16
                ],
                [
                  11
                ],
                [
                  10
                ],
                [
                  10
                ],
                [
                  13
                ],
                [
                  9
                ],
                [
                  9
                ],
                [
                  9
                ],
                [
                  13
                ],
                [
                  9
                ],
                [
                  13
                ],
                [
                  13
                ],
                [
                  13
                ],
                [
                  13
                ],
                [
                  15
                ],
                [
                  10
                ],
                [
                  9
                ],
                [
                  14
                ],
                [
                  9
                ],
                [
                  10
                ],
                [
                  10
                ],
                [
                  13
                ],
                [
                  2
                ],
                [
                  13
                ],
                [
                  9
                ],
                [
                  8
                ],
                [
                  9
                ],
                [
                  9
                ],
                [
                  13
                ],
                [
                  10
                ],
                [
                  9
                ],
                [
                  12
                ],
                [
                  9
                ],
                [
                  9
                ],
                [
                  10
                ],
                [
                  7
                ],
                [
                  10
                ],
                [
                  16
                ],
                [
                  9
                ],
                [
                  9
                ],
                [
                  10
                ],
                [
                  9
                ],
                [
                  9
                ],
                [
                  9
                ],
                [
                  9
                ],
                [
                  9
                ],
                [
                  13
                ],
                [
                  5
                ],
                [
                  9
                ],
                [
                  10
                ],
                [
                  10
                ],
                [
                  10
                ],
                [
                  13
                ],
                [
                  15
                ],
                [
                  13
                ],
                [
                  10
                ],
                [
                  9
                ],
                [
                  9
                ],
                [
                  14
                ],
                [
                  12
                ],
                [
                  6
                ],
                [
                  4
                ],
                [
                  11
                ],
                [
                  13
                ],
                [
                  9
                ],
                [
                  10
                ],
                [
                  9
                ],
                [
                  13
                ],
                [
                  10
                ],
                [
                  10
                ],
                [
                  6
                ],
                [
                  9
                ],
                [
                  9
                ],
                [
                  10
                ],
                [
                  9
                ],
                [
                  10
                ],
                [
                  9
                ],
                [
                  16
                ],
                [
                  4
                ],
                [
                  10
                ],
                [
                  6
                ],
                [
                  13
                ],
                [
                  9
                ],
                [
                  9
                ],
                [
                  9
                ],
                [
                  7
                ],
                [
                  10
                ],
                [
                  9
                ],
                [
                  7
                ],
                [
                  10
                ],
                [
                  11
                ],
                [
                  9
                ],
                [
                  10
                ],
                [
                  2
                ],
                [
                  3
                ],
                [
                  8
                ],
                [
                  15
                ],
                [
                  9
                ],
                [
                  9
                ],
                [
                  12
                ],
                [
                  9
                ],
                [
                  4
                ],
                [
                  10
                ],
                [
                  14
                ],
                [
                  10
                ],
                [
                  6
                ],
                [
                  7
                ],
                [
                  9
                ],
                [
                  13
                ],
                [
                  5
                ],
                [
                  9
                ],
                [
                  15
                ],
                [
                  13
                ],
                [
                  9
                ],
                [
                  11
                ],
                [
                  9
                ],
                [
                  13
                ],
                [
                  9
                ],
                [
                  10
                ],
                [
                  13
                ],
                [
                  7
                ],
                [
                  10
                ],
                [
                  13
                ],
                [
                  13
                ],
                [
                  15
                ],
                [
                  10
                ],
                [
                  10
                ],
                [
                  7
                ],
                [
                  6
                ],
                [
                  10
                ],
                [
                  13
                ],
                [
                  13
                ]
              ],
              "plotOptions": {
                "displayType": "boxPlot",
                "customPlotOptions": {},
                "pivotColumns": null,
                "pivotAggregation": null,
                "xColumns": null,
                "yColumns": null
              },
              "columnCustomDisplayInfos": {},
              "aggType": "",
              "isJsonSchema": true,
              "removedWidgets": [],
              "aggSchema": [],
              "schema": [
                {
                  "name": "educational-num",
                  "type": "\"integer\"",
                  "metadata": "{}"
                }
              ],
              "aggError": "",
              "aggData": [],
              "addedWidgets": {},
              "dbfsResultPath": null,
              "type": "table",
              "aggOverflow": false,
              "aggSeriesLimitReached": false,
              "arguments": {}
            }
          }
        }
      ]
    },
    {
      "cell_type": "code",
      "metadata": {
        "application/vnd.databricks.v1+cell": {
          "title": "",
          "showTitle": false,
          "inputWidgets": {},
          "nuid": "ce95de16-9ed2-44d1-b423-ae2cf90dbb10"
        },
        "id": "DczebMs6bA6y",
        "outputId": "f2d7528a-274a-44d9-9890-803fc8cf5833"
      },
      "source": [
        "#utilizando crosstab para contar a quantidade de indivíduos com que ganho mais de 50K pela idade\n",
        "data.crosstab('age', 'income').sort(\"age_income\").show()"
      ],
      "execution_count": null,
      "outputs": [
        {
          "output_type": "display_data",
          "data": {
            "text/html": [
              "<style scoped>\n",
              "  .ansiout {\n",
              "    display: block;\n",
              "    unicode-bidi: embed;\n",
              "    white-space: pre-wrap;\n",
              "    word-wrap: break-word;\n",
              "    word-break: break-all;\n",
              "    font-family: \"Source Code Pro\", \"Menlo\", monospace;;\n",
              "    font-size: 13px;\n",
              "    color: #555;\n",
              "    margin-left: 4px;\n",
              "    line-height: 19px;\n",
              "  }\n",
              "</style>\n",
              "<div class=\"ansiout\">+----------+-----+----+\n",
              "age_income|&lt;=50K|&gt;50K|\n",
              "+----------+-----+----+\n",
              "        17|  595|   0|\n",
              "        18|  862|   0|\n",
              "        19| 1050|   3|\n",
              "        20| 1112|   1|\n",
              "        21| 1090|   6|\n",
              "        22| 1161|  17|\n",
              "        23| 1307|  22|\n",
              "        24| 1162|  44|\n",
              "        25| 1119|  76|\n",
              "        26| 1068|  85|\n",
              "        27| 1117| 115|\n",
              "        28| 1101| 179|\n",
              "        29| 1025| 198|\n",
              "        30| 1031| 247|\n",
              "        31| 1050| 275|\n",
              "        32|  957| 296|\n",
              "        33| 1045| 290|\n",
              "        34|  949| 354|\n",
              "        35|  997| 340|\n",
              "        36|  948| 400|\n",
              "+----------+-----+----+\n",
              "only showing top 20 rows\n",
              "\n",
              "</div>"
            ]
          },
          "metadata": {
            "tags": [],
            "application/vnd.databricks.v1+output": {
              "datasetInfos": [],
              "data": "<div class=\"ansiout\">+----------+-----+----+\n|age_income|&lt;=50K|&gt;50K|\n+----------+-----+----+\n|        17|  595|   0|\n|        18|  862|   0|\n|        19| 1050|   3|\n|        20| 1112|   1|\n|        21| 1090|   6|\n|        22| 1161|  17|\n|        23| 1307|  22|\n|        24| 1162|  44|\n|        25| 1119|  76|\n|        26| 1068|  85|\n|        27| 1117| 115|\n|        28| 1101| 179|\n|        29| 1025| 198|\n|        30| 1031| 247|\n|        31| 1050| 275|\n|        32|  957| 296|\n|        33| 1045| 290|\n|        34|  949| 354|\n|        35|  997| 340|\n|        36|  948| 400|\n+----------+-----+----+\nonly showing top 20 rows\n\n</div>",
              "removedWidgets": [],
              "addedWidgets": {},
              "type": "html",
              "arguments": {}
            }
          }
        }
      ]
    },
    {
      "cell_type": "code",
      "metadata": {
        "application/vnd.databricks.v1+cell": {
          "title": "",
          "showTitle": false,
          "inputWidgets": {},
          "nuid": "60fedb6f-8f5d-4fbb-a537-d327d28f0c6b"
        },
        "id": "2WMfm48bbA6z",
        "outputId": "42f4e83f-e620-4bb0-b65f-ea752224bed9"
      },
      "source": [
        "#filtrando os dados\n",
        "data.filter(data.age > 50).count()\t\t"
      ],
      "execution_count": null,
      "outputs": [
        {
          "output_type": "display_data",
          "data": {
            "text/html": [
              "<style scoped>\n",
              "  .ansiout {\n",
              "    display: block;\n",
              "    unicode-bidi: embed;\n",
              "    white-space: pre-wrap;\n",
              "    word-wrap: break-word;\n",
              "    word-break: break-all;\n",
              "    font-family: \"Source Code Pro\", \"Menlo\", monospace;;\n",
              "    font-size: 13px;\n",
              "    color: #555;\n",
              "    margin-left: 4px;\n",
              "    line-height: 19px;\n",
              "  }\n",
              "</style>\n",
              "<div class=\"ansiout\">Out[17]: 9808</div>"
            ]
          },
          "metadata": {
            "tags": [],
            "application/vnd.databricks.v1+output": {
              "datasetInfos": [],
              "data": "<div class=\"ansiout\">Out[17]: 9808</div>",
              "removedWidgets": [],
              "addedWidgets": {},
              "type": "html",
              "arguments": {}
            }
          }
        }
      ]
    },
    {
      "cell_type": "code",
      "metadata": {
        "application/vnd.databricks.v1+cell": {
          "title": "",
          "showTitle": false,
          "inputWidgets": {},
          "nuid": "e43d950f-63c8-4bd6-8048-4af65426affb"
        },
        "id": "LrpYl4hjbA6z",
        "outputId": "b976fb0e-08d8-45eb-c491-40007a2a7d74"
      },
      "source": [
        "data.filter(data.income== '>50K').count()\t"
      ],
      "execution_count": null,
      "outputs": [
        {
          "output_type": "display_data",
          "data": {
            "text/html": [
              "<style scoped>\n",
              "  .ansiout {\n",
              "    display: block;\n",
              "    unicode-bidi: embed;\n",
              "    white-space: pre-wrap;\n",
              "    word-wrap: break-word;\n",
              "    word-break: break-all;\n",
              "    font-family: \"Source Code Pro\", \"Menlo\", monospace;;\n",
              "    font-size: 13px;\n",
              "    color: #555;\n",
              "    margin-left: 4px;\n",
              "    line-height: 19px;\n",
              "  }\n",
              "</style>\n",
              "<div class=\"ansiout\">Out[18]: 11687</div>"
            ]
          },
          "metadata": {
            "tags": [],
            "application/vnd.databricks.v1+output": {
              "datasetInfos": [],
              "data": "<div class=\"ansiout\">Out[18]: 11687</div>",
              "removedWidgets": [],
              "addedWidgets": {},
              "type": "html",
              "arguments": {}
            }
          }
        }
      ]
    },
    {
      "cell_type": "markdown",
      "metadata": {
        "application/vnd.databricks.v1+cell": {
          "title": "",
          "showTitle": false,
          "inputWidgets": {},
          "nuid": "dec7ba40-cca1-4109-ac03-eb4aa904f08c"
        },
        "id": "Q4BLxXkWbA60"
      },
      "source": [
        "3) Pré-processamento dos dados"
      ]
    },
    {
      "cell_type": "code",
      "metadata": {
        "application/vnd.databricks.v1+cell": {
          "title": "",
          "showTitle": false,
          "inputWidgets": {},
          "nuid": "fa069b5c-d6db-4123-95f9-556a84e8b158"
        },
        "id": "fwwlp3HSbA60",
        "outputId": "6255bcb4-2746-4397-c9d1-4dffd2596d83"
      },
      "source": [
        "#filtrando alguns dados\n",
        "data.filter(data['native-country'] == 'Holand-Netherlands').count()"
      ],
      "execution_count": null,
      "outputs": [
        {
          "output_type": "display_data",
          "data": {
            "text/html": [
              "<style scoped>\n",
              "  .ansiout {\n",
              "    display: block;\n",
              "    unicode-bidi: embed;\n",
              "    white-space: pre-wrap;\n",
              "    word-wrap: break-word;\n",
              "    word-break: break-all;\n",
              "    font-family: \"Source Code Pro\", \"Menlo\", monospace;;\n",
              "    font-size: 13px;\n",
              "    color: #555;\n",
              "    margin-left: 4px;\n",
              "    line-height: 19px;\n",
              "  }\n",
              "</style>\n",
              "<div class=\"ansiout\">Out[17]: 1</div>"
            ]
          },
          "metadata": {
            "tags": [],
            "application/vnd.databricks.v1+output": {
              "datasetInfos": [],
              "data": "<div class=\"ansiout\">Out[17]: 1</div>",
              "removedWidgets": [],
              "addedWidgets": {},
              "type": "html",
              "arguments": {}
            }
          }
        }
      ]
    },
    {
      "cell_type": "code",
      "metadata": {
        "application/vnd.databricks.v1+cell": {
          "title": "",
          "showTitle": false,
          "inputWidgets": {},
          "nuid": "95d07b76-043b-4d18-a045-2a78c688b1ed"
        },
        "id": "JecAruxFbA60",
        "outputId": "2ad7b01f-7c17-4739-ad4e-d969c41f5668"
      },
      "source": [
        "#contando a quantidade de pessoas por cada país natal\n",
        "from pyspark.sql.functions import *\n",
        "data.groupby('native-country').agg({'native-country': 'count'}).sort(asc(\"count(native-country)\")).show()"
      ],
      "execution_count": null,
      "outputs": [
        {
          "output_type": "display_data",
          "data": {
            "text/html": [
              "<style scoped>\n",
              "  .ansiout {\n",
              "    display: block;\n",
              "    unicode-bidi: embed;\n",
              "    white-space: pre-wrap;\n",
              "    word-wrap: break-word;\n",
              "    word-break: break-all;\n",
              "    font-family: \"Source Code Pro\", \"Menlo\", monospace;;\n",
              "    font-size: 13px;\n",
              "    color: #555;\n",
              "    margin-left: 4px;\n",
              "    line-height: 19px;\n",
              "  }\n",
              "</style>\n",
              "<div class=\"ansiout\">+--------------------+---------------------+\n",
              "      native-country|count(native-country)|\n",
              "+--------------------+---------------------+\n",
              "  Holand-Netherlands|                    1|\n",
              "             Hungary|                   19|\n",
              "            Honduras|                   20|\n",
              "            Scotland|                   21|\n",
              "          Yugoslavia|                   23|\n",
              "Outlying-US(Guam-...|                   23|\n",
              "                Laos|                   23|\n",
              "     Trinadad&amp;Tobago|                   27|\n",
              "            Cambodia|                   28|\n",
              "                Hong|                   30|\n",
              "            Thailand|                   30|\n",
              "             Ireland|                   37|\n",
              "              France|                   38|\n",
              "             Ecuador|                   45|\n",
              "                Peru|                   46|\n",
              "              Greece|                   49|\n",
              "           Nicaragua|                   49|\n",
              "                Iran|                   59|\n",
              "              Taiwan|                   65|\n",
              "            Portugal|                   67|\n",
              "+--------------------+---------------------+\n",
              "only showing top 20 rows\n",
              "\n",
              "</div>"
            ]
          },
          "metadata": {
            "tags": [],
            "application/vnd.databricks.v1+output": {
              "datasetInfos": [],
              "data": "<div class=\"ansiout\">+--------------------+---------------------+\n|      native-country|count(native-country)|\n+--------------------+---------------------+\n|  Holand-Netherlands|                    1|\n|             Hungary|                   19|\n|            Honduras|                   20|\n|            Scotland|                   21|\n|          Yugoslavia|                   23|\n|Outlying-US(Guam-...|                   23|\n|                Laos|                   23|\n|     Trinadad&amp;Tobago|                   27|\n|            Cambodia|                   28|\n|                Hong|                   30|\n|            Thailand|                   30|\n|             Ireland|                   37|\n|              France|                   38|\n|             Ecuador|                   45|\n|                Peru|                   46|\n|              Greece|                   49|\n|           Nicaragua|                   49|\n|                Iran|                   59|\n|              Taiwan|                   65|\n|            Portugal|                   67|\n+--------------------+---------------------+\nonly showing top 20 rows\n\n</div>",
              "removedWidgets": [],
              "addedWidgets": {},
              "type": "html",
              "arguments": {}
            }
          }
        }
      ]
    },
    {
      "cell_type": "code",
      "metadata": {
        "application/vnd.databricks.v1+cell": {
          "title": "",
          "showTitle": false,
          "inputWidgets": {},
          "nuid": "15786342-8ac9-42ab-abd1-8858905e296a"
        },
        "id": "urL3TR_VbA61",
        "outputId": "cdb3a472-b6f0-4220-b549-2fa23b731d8b"
      },
      "source": [
        "#retirando quem é da Holanda\n",
        "data_sem_holanda = data.filter(data['native-country'] !='Holand-Netherlands' )"
      ],
      "execution_count": null,
      "outputs": [
        {
          "output_type": "display_data",
          "data": {
            "text/html": [
              "<style scoped>\n",
              "  .ansiout {\n",
              "    display: block;\n",
              "    unicode-bidi: embed;\n",
              "    white-space: pre-wrap;\n",
              "    word-wrap: break-word;\n",
              "    word-break: break-all;\n",
              "    font-family: \"Source Code Pro\", \"Menlo\", monospace;;\n",
              "    font-size: 13px;\n",
              "    color: #555;\n",
              "    margin-left: 4px;\n",
              "    line-height: 19px;\n",
              "  }\n",
              "</style>\n",
              "<div class=\"ansiout\"></div>"
            ]
          },
          "metadata": {
            "tags": [],
            "application/vnd.databricks.v1+output": {
              "datasetInfos": [],
              "data": "<div class=\"ansiout\"></div>",
              "removedWidgets": [],
              "addedWidgets": {},
              "type": "html",
              "arguments": {}
            }
          }
        }
      ]
    },
    {
      "cell_type": "code",
      "metadata": {
        "application/vnd.databricks.v1+cell": {
          "title": "",
          "showTitle": false,
          "inputWidgets": {},
          "nuid": "4f0117c0-435a-41e2-a7bf-c2ca7ba4cad3"
        },
        "id": "Pm2VTVQGbA62",
        "outputId": "0a29e03d-dc79-462e-b5bc-9cfdfab74ea7"
      },
      "source": [
        "data_sem_holanda.groupby('native-country').agg({'native-country': 'count'}).sort(asc(\"count(native-country)\")).show()"
      ],
      "execution_count": null,
      "outputs": [
        {
          "output_type": "display_data",
          "data": {
            "text/html": [
              "<style scoped>\n",
              "  .ansiout {\n",
              "    display: block;\n",
              "    unicode-bidi: embed;\n",
              "    white-space: pre-wrap;\n",
              "    word-wrap: break-word;\n",
              "    word-break: break-all;\n",
              "    font-family: \"Source Code Pro\", \"Menlo\", monospace;;\n",
              "    font-size: 13px;\n",
              "    color: #555;\n",
              "    margin-left: 4px;\n",
              "    line-height: 19px;\n",
              "  }\n",
              "</style>\n",
              "<div class=\"ansiout\">+--------------------+---------------------+\n",
              "      native-country|count(native-country)|\n",
              "+--------------------+---------------------+\n",
              "             Hungary|                   19|\n",
              "            Honduras|                   20|\n",
              "            Scotland|                   21|\n",
              "                Laos|                   23|\n",
              "Outlying-US(Guam-...|                   23|\n",
              "          Yugoslavia|                   23|\n",
              "     Trinadad&amp;Tobago|                   27|\n",
              "            Cambodia|                   28|\n",
              "                Hong|                   30|\n",
              "            Thailand|                   30|\n",
              "             Ireland|                   37|\n",
              "              France|                   38|\n",
              "             Ecuador|                   45|\n",
              "                Peru|                   46|\n",
              "              Greece|                   49|\n",
              "           Nicaragua|                   49|\n",
              "                Iran|                   59|\n",
              "              Taiwan|                   65|\n",
              "            Portugal|                   67|\n",
              "               Haiti|                   75|\n",
              "+--------------------+---------------------+\n",
              "only showing top 20 rows\n",
              "\n",
              "</div>"
            ]
          },
          "metadata": {
            "tags": [],
            "application/vnd.databricks.v1+output": {
              "datasetInfos": [],
              "data": "<div class=\"ansiout\">+--------------------+---------------------+\n|      native-country|count(native-country)|\n+--------------------+---------------------+\n|             Hungary|                   19|\n|            Honduras|                   20|\n|            Scotland|                   21|\n|                Laos|                   23|\n|Outlying-US(Guam-...|                   23|\n|          Yugoslavia|                   23|\n|     Trinadad&amp;Tobago|                   27|\n|            Cambodia|                   28|\n|                Hong|                   30|\n|            Thailand|                   30|\n|             Ireland|                   37|\n|              France|                   38|\n|             Ecuador|                   45|\n|                Peru|                   46|\n|              Greece|                   49|\n|           Nicaragua|                   49|\n|                Iran|                   59|\n|              Taiwan|                   65|\n|            Portugal|                   67|\n|               Haiti|                   75|\n+--------------------+---------------------+\nonly showing top 20 rows\n\n</div>",
              "removedWidgets": [],
              "addedWidgets": {},
              "type": "html",
              "arguments": {}
            }
          }
        }
      ]
    },
    {
      "cell_type": "markdown",
      "metadata": {
        "application/vnd.databricks.v1+cell": {
          "title": "",
          "showTitle": false,
          "inputWidgets": {},
          "nuid": "7c9bc3bb-b3d3-4c82-b44e-0ec131febfc1"
        },
        "id": "bP9SzkF6bA62"
      },
      "source": [
        "Aplicando o Pipeline"
      ]
    },
    {
      "cell_type": "code",
      "metadata": {
        "application/vnd.databricks.v1+cell": {
          "title": "",
          "showTitle": false,
          "inputWidgets": {},
          "nuid": "84018cab-9b58-4a38-b86f-e9a95447b7de"
        },
        "id": "ItQh0XUVbA63",
        "outputId": "dae9bb58-ea39-4fb1-e9ff-2356ec264635"
      },
      "source": [
        "#transoformando os dados - string em inteiros\n",
        "from pyspark.ml.feature import StringIndexer, OneHotEncoder, VectorAssembler\n",
        "stringIndexer=StringIndexer(inputCol=\"workclass\", outputCol=\"workclass_encoded\")  #define o objeto"
      ],
      "execution_count": null,
      "outputs": [
        {
          "output_type": "display_data",
          "data": {
            "text/html": [
              "<style scoped>\n",
              "  .ansiout {\n",
              "    display: block;\n",
              "    unicode-bidi: embed;\n",
              "    white-space: pre-wrap;\n",
              "    word-wrap: break-word;\n",
              "    word-break: break-all;\n",
              "    font-family: \"Source Code Pro\", \"Menlo\", monospace;;\n",
              "    font-size: 13px;\n",
              "    color: #555;\n",
              "    margin-left: 4px;\n",
              "    line-height: 19px;\n",
              "  }\n",
              "</style>\n",
              "<div class=\"ansiout\"></div>"
            ]
          },
          "metadata": {
            "tags": [],
            "application/vnd.databricks.v1+output": {
              "datasetInfos": [],
              "data": "<div class=\"ansiout\"></div>",
              "removedWidgets": [],
              "addedWidgets": {},
              "type": "html",
              "arguments": {}
            }
          }
        }
      ]
    },
    {
      "cell_type": "code",
      "metadata": {
        "application/vnd.databricks.v1+cell": {
          "title": "",
          "showTitle": false,
          "inputWidgets": {},
          "nuid": "ad3def04-35ee-416f-a001-77ac86f85b38"
        },
        "id": "qn3NGdYJbA64",
        "outputId": "6f4950bc-018f-49e5-fe87-5c3ac332a149"
      },
      "source": [
        "#aplica o modelo de transformação\n",
        "model = stringIndexer.fit(data_sem_holanda)\n",
        "indexed = model.transform(data_sem_holanda)"
      ],
      "execution_count": null,
      "outputs": [
        {
          "output_type": "display_data",
          "data": {
            "text/html": [
              "<style scoped>\n",
              "  .ansiout {\n",
              "    display: block;\n",
              "    unicode-bidi: embed;\n",
              "    white-space: pre-wrap;\n",
              "    word-wrap: break-word;\n",
              "    word-break: break-all;\n",
              "    font-family: \"Source Code Pro\", \"Menlo\", monospace;;\n",
              "    font-size: 13px;\n",
              "    color: #555;\n",
              "    margin-left: 4px;\n",
              "    line-height: 19px;\n",
              "  }\n",
              "</style>\n",
              "<div class=\"ansiout\"></div>"
            ]
          },
          "metadata": {
            "tags": [],
            "application/vnd.databricks.v1+output": {
              "datasetInfos": [],
              "data": "<div class=\"ansiout\"></div>",
              "removedWidgets": [],
              "addedWidgets": {},
              "type": "html",
              "arguments": {}
            }
          }
        }
      ]
    },
    {
      "cell_type": "code",
      "metadata": {
        "application/vnd.databricks.v1+cell": {
          "title": "",
          "showTitle": false,
          "inputWidgets": {},
          "nuid": "2b746b25-fc94-4b22-8db6-fde1da816615"
        },
        "id": "ByGyYlXsbA64",
        "outputId": "f3c820c0-ecef-4f5b-bfcf-8d4e92d115f0"
      },
      "source": [
        "indexed.select('workclass','workclass_encoded').show()"
      ],
      "execution_count": null,
      "outputs": [
        {
          "output_type": "display_data",
          "data": {
            "text/html": [
              "<style scoped>\n",
              "  .ansiout {\n",
              "    display: block;\n",
              "    unicode-bidi: embed;\n",
              "    white-space: pre-wrap;\n",
              "    word-wrap: break-word;\n",
              "    word-break: break-all;\n",
              "    font-family: \"Source Code Pro\", \"Menlo\", monospace;;\n",
              "    font-size: 13px;\n",
              "    color: #555;\n",
              "    margin-left: 4px;\n",
              "    line-height: 19px;\n",
              "  }\n",
              "</style>\n",
              "<div class=\"ansiout\">+----------------+-----------------+\n",
              "       workclass|workclass_encoded|\n",
              "+----------------+-----------------+\n",
              "         Private|              0.0|\n",
              "         Private|              0.0|\n",
              "       Local-gov|              2.0|\n",
              "         Private|              0.0|\n",
              "               ?|              3.0|\n",
              "         Private|              0.0|\n",
              "               ?|              3.0|\n",
              "Self-emp-not-inc|              1.0|\n",
              "         Private|              0.0|\n",
              "         Private|              0.0|\n",
              "         Private|              0.0|\n",
              "     Federal-gov|              6.0|\n",
              "         Private|              0.0|\n",
              "               ?|              3.0|\n",
              "         Private|              0.0|\n",
              "         Private|              0.0|\n",
              "       State-gov|              4.0|\n",
              "         Private|              0.0|\n",
              "         Private|              0.0|\n",
              "         Private|              0.0|\n",
              "+----------------+-----------------+\n",
              "only showing top 20 rows\n",
              "\n",
              "</div>"
            ]
          },
          "metadata": {
            "tags": [],
            "application/vnd.databricks.v1+output": {
              "datasetInfos": [],
              "data": "<div class=\"ansiout\">+----------------+-----------------+\n|       workclass|workclass_encoded|\n+----------------+-----------------+\n|         Private|              0.0|\n|         Private|              0.0|\n|       Local-gov|              2.0|\n|         Private|              0.0|\n|               ?|              3.0|\n|         Private|              0.0|\n|               ?|              3.0|\n|Self-emp-not-inc|              1.0|\n|         Private|              0.0|\n|         Private|              0.0|\n|         Private|              0.0|\n|     Federal-gov|              6.0|\n|         Private|              0.0|\n|               ?|              3.0|\n|         Private|              0.0|\n|         Private|              0.0|\n|       State-gov|              4.0|\n|         Private|              0.0|\n|         Private|              0.0|\n|         Private|              0.0|\n+----------------+-----------------+\nonly showing top 20 rows\n\n</div>",
              "removedWidgets": [],
              "addedWidgets": {},
              "type": "html",
              "arguments": {}
            }
          }
        }
      ]
    },
    {
      "cell_type": "code",
      "metadata": {
        "application/vnd.databricks.v1+cell": {
          "title": "",
          "showTitle": false,
          "inputWidgets": {},
          "nuid": "c1d622cb-4940-4a0c-8011-74dc994ed8b4"
        },
        "id": "cIgqlHEqbA65",
        "outputId": "af7afcdc-1b25-4766-fe61-cc10d8d1c29c"
      },
      "source": [
        "#contando a quantidade de calsses de trabalho existente\n",
        "data_sem_holanda.groupby('workclass').agg({'workclass':'count'}).count()"
      ],
      "execution_count": null,
      "outputs": [
        {
          "output_type": "display_data",
          "data": {
            "text/html": [
              "<style scoped>\n",
              "  .ansiout {\n",
              "    display: block;\n",
              "    unicode-bidi: embed;\n",
              "    white-space: pre-wrap;\n",
              "    word-wrap: break-word;\n",
              "    word-break: break-all;\n",
              "    font-family: \"Source Code Pro\", \"Menlo\", monospace;;\n",
              "    font-size: 13px;\n",
              "    color: #555;\n",
              "    margin-left: 4px;\n",
              "    line-height: 19px;\n",
              "  }\n",
              "</style>\n",
              "<div class=\"ansiout\">Out[25]: 9</div>"
            ]
          },
          "metadata": {
            "tags": [],
            "application/vnd.databricks.v1+output": {
              "datasetInfos": [],
              "data": "<div class=\"ansiout\">Out[25]: 9</div>",
              "removedWidgets": [],
              "addedWidgets": {},
              "type": "html",
              "arguments": {}
            }
          }
        }
      ]
    },
    {
      "cell_type": "code",
      "metadata": {
        "application/vnd.databricks.v1+cell": {
          "title": "",
          "showTitle": false,
          "inputWidgets": {},
          "nuid": "e80d0a55-1a44-409c-9dc3-c8d6f401419f"
        },
        "id": "QLUIXffwbA66",
        "outputId": "b5f89aa7-3027-46f7-8753-087a76d2fd66"
      },
      "source": [
        "#mostrando a quantidade por cada uma das classes\n",
        "data_sem_holanda.groupby('workclass').agg({'workclass':'count'}).show()"
      ],
      "execution_count": null,
      "outputs": [
        {
          "output_type": "display_data",
          "data": {
            "text/html": [
              "<style scoped>\n",
              "  .ansiout {\n",
              "    display: block;\n",
              "    unicode-bidi: embed;\n",
              "    white-space: pre-wrap;\n",
              "    word-wrap: break-word;\n",
              "    word-break: break-all;\n",
              "    font-family: \"Source Code Pro\", \"Menlo\", monospace;;\n",
              "    font-size: 13px;\n",
              "    color: #555;\n",
              "    margin-left: 4px;\n",
              "    line-height: 19px;\n",
              "  }\n",
              "</style>\n",
              "<div class=\"ansiout\">+----------------+----------------+\n",
              "       workclass|count(workclass)|\n",
              "+----------------+----------------+\n",
              "Self-emp-not-inc|            3862|\n",
              "       Local-gov|            3136|\n",
              "       State-gov|            1981|\n",
              "         Private|           33905|\n",
              "     Without-pay|              21|\n",
              "     Federal-gov|            1432|\n",
              "    Never-worked|              10|\n",
              "               ?|            2799|\n",
              "    Self-emp-inc|            1695|\n",
              "+----------------+----------------+\n",
              "\n",
              "</div>"
            ]
          },
          "metadata": {
            "tags": [],
            "application/vnd.databricks.v1+output": {
              "datasetInfos": [],
              "data": "<div class=\"ansiout\">+----------------+----------------+\n|       workclass|count(workclass)|\n+----------------+----------------+\n|Self-emp-not-inc|            3862|\n|       Local-gov|            3136|\n|       State-gov|            1981|\n|         Private|           33905|\n|     Without-pay|              21|\n|     Federal-gov|            1432|\n|    Never-worked|              10|\n|               ?|            2799|\n|    Self-emp-inc|            1695|\n+----------------+----------------+\n\n</div>",
              "removedWidgets": [],
              "addedWidgets": {},
              "type": "html",
              "arguments": {}
            }
          }
        }
      ]
    },
    {
      "cell_type": "code",
      "metadata": {
        "application/vnd.databricks.v1+cell": {
          "title": "",
          "showTitle": false,
          "inputWidgets": {},
          "nuid": "e74fa81b-859f-4365-a7f7-2e804fe2b992"
        },
        "id": "r7cbJ5ZxbA67",
        "outputId": "d6803324-5a69-41be-fa45-f93930d9b312"
      },
      "source": [
        "#aplicando o One-Hot encoding\n",
        "encoder = OneHotEncoder(inputCol=\"workclass_encoded\", outputCol=\"workclass_vec\")\n",
        "encoder.setDropLast(False)\n",
        "ohe = encoder.fit(indexed)\n",
        "encoded = ohe.transform(indexed)\n",
        "\n",
        "#encoded = encoder.transform(indexed)\n",
        "encoded.show(5)"
      ],
      "execution_count": null,
      "outputs": [
        {
          "output_type": "display_data",
          "data": {
            "text/html": [
              "<style scoped>\n",
              "  .ansiout {\n",
              "    display: block;\n",
              "    unicode-bidi: embed;\n",
              "    white-space: pre-wrap;\n",
              "    word-wrap: break-word;\n",
              "    word-break: break-all;\n",
              "    font-family: \"Source Code Pro\", \"Menlo\", monospace;;\n",
              "    font-size: 13px;\n",
              "    color: #555;\n",
              "    margin-left: 4px;\n",
              "    line-height: 19px;\n",
              "  }\n",
              "</style>\n",
              "<div class=\"ansiout\">+---+---+---------+------+------------+---------------+------------------+-----------------+------------+-----+------+------------+------------+--------------+--------------+------+-----------------+-------------+\n",
              "  x|age|workclass|fnlwgt|   education|educational-num|    marital-status|       occupation|relationship| race|gender|capital-gain|capital-loss|hours-per-week|native-country|income|workclass_encoded|workclass_vec|\n",
              "+---+---+---------+------+------------+---------------+------------------+-----------------+------------+-----+------+------------+------------+--------------+--------------+------+-----------------+-------------+\n",
              "  1| 25|  Private|226802|        11th|              7|     Never-married|Machine-op-inspct|   Own-child|Black|  Male|           0|           0|            40| United-States| &lt;=50K|              0.0|(9,[0],[1.0])|\n",
              "  2| 38|  Private| 89814|     HS-grad|              9|Married-civ-spouse|  Farming-fishing|     Husband|White|  Male|           0|           0|            50| United-States| &lt;=50K|              0.0|(9,[0],[1.0])|\n",
              "  3| 28|Local-gov|336951|  Assoc-acdm|             12|Married-civ-spouse|  Protective-serv|     Husband|White|  Male|           0|           0|            40| United-States|  &gt;50K|              2.0|(9,[2],[1.0])|\n",
              "  4| 44|  Private|160323|Some-college|             10|Married-civ-spouse|Machine-op-inspct|     Husband|Black|  Male|        7688|           0|            40| United-States|  &gt;50K|              0.0|(9,[0],[1.0])|\n",
              "  5| 18|        ?|103497|Some-college|             10|     Never-married|                ?|   Own-child|White|Female|           0|           0|            30| United-States| &lt;=50K|              3.0|(9,[3],[1.0])|\n",
              "+---+---+---------+------+------------+---------------+------------------+-----------------+------------+-----+------+------------+------------+--------------+--------------+------+-----------------+-------------+\n",
              "only showing top 5 rows\n",
              "\n",
              "</div>"
            ]
          },
          "metadata": {
            "tags": [],
            "application/vnd.databricks.v1+output": {
              "datasetInfos": [],
              "data": "<div class=\"ansiout\">+---+---+---------+------+------------+---------------+------------------+-----------------+------------+-----+------+------------+------------+--------------+--------------+------+-----------------+-------------+\n|  x|age|workclass|fnlwgt|   education|educational-num|    marital-status|       occupation|relationship| race|gender|capital-gain|capital-loss|hours-per-week|native-country|income|workclass_encoded|workclass_vec|\n+---+---+---------+------+------------+---------------+------------------+-----------------+------------+-----+------+------------+------------+--------------+--------------+------+-----------------+-------------+\n|  1| 25|  Private|226802|        11th|              7|     Never-married|Machine-op-inspct|   Own-child|Black|  Male|           0|           0|            40| United-States| &lt;=50K|              0.0|(9,[0],[1.0])|\n|  2| 38|  Private| 89814|     HS-grad|              9|Married-civ-spouse|  Farming-fishing|     Husband|White|  Male|           0|           0|            50| United-States| &lt;=50K|              0.0|(9,[0],[1.0])|\n|  3| 28|Local-gov|336951|  Assoc-acdm|             12|Married-civ-spouse|  Protective-serv|     Husband|White|  Male|           0|           0|            40| United-States|  &gt;50K|              2.0|(9,[2],[1.0])|\n|  4| 44|  Private|160323|Some-college|             10|Married-civ-spouse|Machine-op-inspct|     Husband|Black|  Male|        7688|           0|            40| United-States|  &gt;50K|              0.0|(9,[0],[1.0])|\n|  5| 18|        ?|103497|Some-college|             10|     Never-married|                ?|   Own-child|White|Female|           0|           0|            30| United-States| &lt;=50K|              3.0|(9,[3],[1.0])|\n+---+---+---------+------+------------+---------------+------------------+-----------------+------------+-----+------+------------+------------+--------------+--------------+------+-----------------+-------------+\nonly showing top 5 rows\n\n</div>",
              "removedWidgets": [],
              "addedWidgets": {},
              "type": "html",
              "arguments": {}
            }
          }
        }
      ]
    },
    {
      "cell_type": "code",
      "metadata": {
        "application/vnd.databricks.v1+cell": {
          "title": "",
          "showTitle": false,
          "inputWidgets": {},
          "nuid": "19929ec1-3192-41a8-aa26-d51175c3b34a"
        },
        "id": "re6o8bscbA6-",
        "outputId": "267d1963-2570-48de-9471-cf7d350b6b80"
      },
      "source": [
        "encoded.select('workclass_encoded','workclass_vec').show(5)"
      ],
      "execution_count": null,
      "outputs": [
        {
          "output_type": "display_data",
          "data": {
            "text/html": [
              "<style scoped>\n",
              "  .ansiout {\n",
              "    display: block;\n",
              "    unicode-bidi: embed;\n",
              "    white-space: pre-wrap;\n",
              "    word-wrap: break-word;\n",
              "    word-break: break-all;\n",
              "    font-family: \"Source Code Pro\", \"Menlo\", monospace;;\n",
              "    font-size: 13px;\n",
              "    color: #555;\n",
              "    margin-left: 4px;\n",
              "    line-height: 19px;\n",
              "  }\n",
              "</style>\n",
              "<div class=\"ansiout\">+-----------------+-------------+\n",
              "workclass_encoded|workclass_vec|\n",
              "+-----------------+-------------+\n",
              "              0.0|(9,[0],[1.0])|\n",
              "              0.0|(9,[0],[1.0])|\n",
              "              2.0|(9,[2],[1.0])|\n",
              "              0.0|(9,[0],[1.0])|\n",
              "              3.0|(9,[3],[1.0])|\n",
              "+-----------------+-------------+\n",
              "only showing top 5 rows\n",
              "\n",
              "</div>"
            ]
          },
          "metadata": {
            "tags": [],
            "application/vnd.databricks.v1+output": {
              "datasetInfos": [],
              "data": "<div class=\"ansiout\">+-----------------+-------------+\n|workclass_encoded|workclass_vec|\n+-----------------+-------------+\n|              0.0|(9,[0],[1.0])|\n|              0.0|(9,[0],[1.0])|\n|              2.0|(9,[2],[1.0])|\n|              0.0|(9,[0],[1.0])|\n|              3.0|(9,[3],[1.0])|\n+-----------------+-------------+\nonly showing top 5 rows\n\n</div>",
              "removedWidgets": [],
              "addedWidgets": {},
              "type": "html",
              "arguments": {}
            }
          }
        }
      ]
    },
    {
      "cell_type": "code",
      "metadata": {
        "application/vnd.databricks.v1+cell": {
          "title": "",
          "showTitle": false,
          "inputWidgets": {},
          "nuid": "83acfb0d-76ee-43b9-aa83-b77ef496412d"
        },
        "id": "kyQkULQybA7A",
        "outputId": "d278a78b-03da-4927-fb72-e33ab5f8578b"
      },
      "source": [
        "#criando o pipeline para as entradas\n",
        "from pyspark.ml import Pipeline\n",
        "from pyspark.ml.feature import OneHotEncoder\n",
        "\n",
        "entradas_categoricas = ['workclass', 'education', 'marital-status', 'occupation', 'relationship', 'race', 'gender', 'native-country']\n",
        "stages = [] # stages in our Pipeline\n",
        "for categoricalCol in entradas_categoricas:\n",
        "    stringIndexer = StringIndexer(inputCol=categoricalCol, outputCol=categoricalCol + \"Index\")\n",
        "    encoder = OneHotEncoder(inputCols=[stringIndexer.getOutputCol()],outputCols=[categoricalCol + \"classVec\"])\n",
        "    stages += [stringIndexer, encoder]"
      ],
      "execution_count": null,
      "outputs": [
        {
          "output_type": "display_data",
          "data": {
            "text/html": [
              "<style scoped>\n",
              "  .ansiout {\n",
              "    display: block;\n",
              "    unicode-bidi: embed;\n",
              "    white-space: pre-wrap;\n",
              "    word-wrap: break-word;\n",
              "    word-break: break-all;\n",
              "    font-family: \"Source Code Pro\", \"Menlo\", monospace;;\n",
              "    font-size: 13px;\n",
              "    color: #555;\n",
              "    margin-left: 4px;\n",
              "    line-height: 19px;\n",
              "  }\n",
              "</style>\n",
              "<div class=\"ansiout\"></div>"
            ]
          },
          "metadata": {
            "tags": [],
            "application/vnd.databricks.v1+output": {
              "datasetInfos": [],
              "data": "<div class=\"ansiout\"></div>",
              "removedWidgets": [],
              "addedWidgets": {},
              "type": "html",
              "arguments": {}
            }
          }
        }
      ]
    },
    {
      "cell_type": "code",
      "metadata": {
        "application/vnd.databricks.v1+cell": {
          "title": "",
          "showTitle": false,
          "inputWidgets": {},
          "nuid": "088d10c8-3fc7-4e1f-a0e3-31208da71450"
        },
        "id": "RUsQnghUbA7C",
        "outputId": "bcb20b7e-ffe3-4431-c42b-9f9f85624703"
      },
      "source": [
        "#criando o pipeline para a saídas\n",
        "saida_stringIdx =  StringIndexer(inputCol=\"income\", outputCol=\"new_income\")\n",
        "stages += [saida_stringIdx]"
      ],
      "execution_count": null,
      "outputs": [
        {
          "output_type": "display_data",
          "data": {
            "text/html": [
              "<style scoped>\n",
              "  .ansiout {\n",
              "    display: block;\n",
              "    unicode-bidi: embed;\n",
              "    white-space: pre-wrap;\n",
              "    word-wrap: break-word;\n",
              "    word-break: break-all;\n",
              "    font-family: \"Source Code Pro\", \"Menlo\", monospace;;\n",
              "    font-size: 13px;\n",
              "    color: #555;\n",
              "    margin-left: 4px;\n",
              "    line-height: 19px;\n",
              "  }\n",
              "</style>\n",
              "<div class=\"ansiout\"></div>"
            ]
          },
          "metadata": {
            "tags": [],
            "application/vnd.databricks.v1+output": {
              "datasetInfos": [],
              "data": "<div class=\"ansiout\"></div>",
              "removedWidgets": [],
              "addedWidgets": {},
              "type": "html",
              "arguments": {}
            }
          }
        }
      ]
    },
    {
      "cell_type": "code",
      "metadata": {
        "application/vnd.databricks.v1+cell": {
          "title": "",
          "showTitle": false,
          "inputWidgets": {},
          "nuid": "af5d61d2-6fc4-43d3-a4b8-6b1b35c08f74"
        },
        "id": "6LsAh-BobA7D",
        "outputId": "8ffe2f6e-a798-4f4f-a066-510909c31834"
      },
      "source": [
        "#criando as entradas para o modelo\n",
        "assemblerInputs = [c + \"classVec\" for c in entradas_categoricas] + entradas_numericas"
      ],
      "execution_count": null,
      "outputs": [
        {
          "output_type": "display_data",
          "data": {
            "text/html": [
              "<style scoped>\n",
              "  .ansiout {\n",
              "    display: block;\n",
              "    unicode-bidi: embed;\n",
              "    white-space: pre-wrap;\n",
              "    word-wrap: break-word;\n",
              "    word-break: break-all;\n",
              "    font-family: \"Source Code Pro\", \"Menlo\", monospace;;\n",
              "    font-size: 13px;\n",
              "    color: #555;\n",
              "    margin-left: 4px;\n",
              "    line-height: 19px;\n",
              "  }\n",
              "</style>\n",
              "<div class=\"ansiout\"></div>"
            ]
          },
          "metadata": {
            "tags": [],
            "application/vnd.databricks.v1+output": {
              "datasetInfos": [],
              "data": "<div class=\"ansiout\"></div>",
              "removedWidgets": [],
              "addedWidgets": {},
              "type": "html",
              "arguments": {}
            }
          }
        }
      ]
    },
    {
      "cell_type": "code",
      "metadata": {
        "application/vnd.databricks.v1+cell": {
          "title": "",
          "showTitle": false,
          "inputWidgets": {},
          "nuid": "1aaf8922-85cc-48b4-8b0a-acb8695d48bd"
        },
        "id": "kjwWwAQMbA7G",
        "outputId": "f9ccfc24-7e0e-42ef-c6d2-ef282a36a83d"
      },
      "source": [
        "assemblerInputs"
      ],
      "execution_count": null,
      "outputs": [
        {
          "output_type": "display_data",
          "data": {
            "text/html": [
              "<style scoped>\n",
              "  .ansiout {\n",
              "    display: block;\n",
              "    unicode-bidi: embed;\n",
              "    white-space: pre-wrap;\n",
              "    word-wrap: break-word;\n",
              "    word-break: break-all;\n",
              "    font-family: \"Source Code Pro\", \"Menlo\", monospace;;\n",
              "    font-size: 13px;\n",
              "    color: #555;\n",
              "    margin-left: 4px;\n",
              "    line-height: 19px;\n",
              "  }\n",
              "</style>\n",
              "<div class=\"ansiout\">Out[41]: [&#39;workclassclassVec&#39;,\n",
              " &#39;educationclassVec&#39;,\n",
              " &#39;marital-statusclassVec&#39;,\n",
              " &#39;occupationclassVec&#39;,\n",
              " &#39;relationshipclassVec&#39;,\n",
              " &#39;raceclassVec&#39;,\n",
              " &#39;genderclassVec&#39;,\n",
              " &#39;native-countryclassVec&#39;,\n",
              " &#39;age&#39;,\n",
              " &#39;fnlwgt&#39;,\n",
              " &#39;capital-gain&#39;,\n",
              " &#39;educational-num&#39;,\n",
              " &#39;capital-loss&#39;,\n",
              " &#39;hours-per-week&#39;]</div>"
            ]
          },
          "metadata": {
            "tags": [],
            "application/vnd.databricks.v1+output": {
              "datasetInfos": [],
              "data": "<div class=\"ansiout\">Out[41]: [&#39;workclassclassVec&#39;,\n &#39;educationclassVec&#39;,\n &#39;marital-statusclassVec&#39;,\n &#39;occupationclassVec&#39;,\n &#39;relationshipclassVec&#39;,\n &#39;raceclassVec&#39;,\n &#39;genderclassVec&#39;,\n &#39;native-countryclassVec&#39;,\n &#39;age&#39;,\n &#39;fnlwgt&#39;,\n &#39;capital-gain&#39;,\n &#39;educational-num&#39;,\n &#39;capital-loss&#39;,\n &#39;hours-per-week&#39;]</div>",
              "removedWidgets": [],
              "addedWidgets": {},
              "type": "html",
              "arguments": {}
            }
          }
        }
      ]
    },
    {
      "cell_type": "code",
      "metadata": {
        "application/vnd.databricks.v1+cell": {
          "title": "",
          "showTitle": false,
          "inputWidgets": {},
          "nuid": "7e53a20b-fc08-408e-846a-e1a5227b03ce"
        },
        "id": "hIgaezExbA7H",
        "outputId": "2286e26c-456a-40b3-dbd6-1416a8eb5685"
      },
      "source": [
        "#define a construção do vetor\n",
        "assembler = VectorAssembler(inputCols=assemblerInputs, outputCol=\"features\")\n",
        "stages += [assembler]"
      ],
      "execution_count": null,
      "outputs": [
        {
          "output_type": "display_data",
          "data": {
            "text/html": [
              "<style scoped>\n",
              "  .ansiout {\n",
              "    display: block;\n",
              "    unicode-bidi: embed;\n",
              "    white-space: pre-wrap;\n",
              "    word-wrap: break-word;\n",
              "    word-break: break-all;\n",
              "    font-family: \"Source Code Pro\", \"Menlo\", monospace;;\n",
              "    font-size: 13px;\n",
              "    color: #555;\n",
              "    margin-left: 4px;\n",
              "    line-height: 19px;\n",
              "  }\n",
              "</style>\n",
              "<div class=\"ansiout\"></div>"
            ]
          },
          "metadata": {
            "tags": [],
            "application/vnd.databricks.v1+output": {
              "datasetInfos": [],
              "data": "<div class=\"ansiout\"></div>",
              "removedWidgets": [],
              "addedWidgets": {},
              "type": "html",
              "arguments": {}
            }
          }
        }
      ]
    },
    {
      "cell_type": "code",
      "metadata": {
        "application/vnd.databricks.v1+cell": {
          "title": "",
          "showTitle": false,
          "inputWidgets": {},
          "nuid": "b1592939-34cd-4c44-b25b-a6d4adac7c9d"
        },
        "id": "ayN4XN9UbA7I",
        "outputId": "2b55b487-0b43-4e73-fee7-308fd9173510"
      },
      "source": [
        "stages"
      ],
      "execution_count": null,
      "outputs": [
        {
          "output_type": "display_data",
          "data": {
            "text/html": [
              "<style scoped>\n",
              "  .ansiout {\n",
              "    display: block;\n",
              "    unicode-bidi: embed;\n",
              "    white-space: pre-wrap;\n",
              "    word-wrap: break-word;\n",
              "    word-break: break-all;\n",
              "    font-family: \"Source Code Pro\", \"Menlo\", monospace;;\n",
              "    font-size: 13px;\n",
              "    color: #555;\n",
              "    margin-left: 4px;\n",
              "    line-height: 19px;\n",
              "  }\n",
              "</style>\n",
              "<div class=\"ansiout\">Out[43]: [StringIndexer_24c6b6d56aed,\n",
              " OneHotEncoder_b6cd7c931f2a,\n",
              " StringIndexer_cce9478e0c34,\n",
              " OneHotEncoder_83e6b885a6ee,\n",
              " StringIndexer_e875c4c3a471,\n",
              " OneHotEncoder_a3192841716d,\n",
              " StringIndexer_f6c41d18e2d9,\n",
              " OneHotEncoder_881869a249ae,\n",
              " StringIndexer_2ca1b1b20b81,\n",
              " OneHotEncoder_5a46c75e9e38,\n",
              " StringIndexer_7932a45dd956,\n",
              " OneHotEncoder_6109fa156939,\n",
              " StringIndexer_bbb660e11c5d,\n",
              " OneHotEncoder_b232ca27d260,\n",
              " StringIndexer_4e6cbbe0f174,\n",
              " OneHotEncoder_1a6fd000b1c5,\n",
              " StringIndexer_72a4d1161f77,\n",
              " VectorAssembler_3ebe091d988f]</div>"
            ]
          },
          "metadata": {
            "tags": [],
            "application/vnd.databricks.v1+output": {
              "datasetInfos": [],
              "data": "<div class=\"ansiout\">Out[43]: [StringIndexer_24c6b6d56aed,\n OneHotEncoder_b6cd7c931f2a,\n StringIndexer_cce9478e0c34,\n OneHotEncoder_83e6b885a6ee,\n StringIndexer_e875c4c3a471,\n OneHotEncoder_a3192841716d,\n StringIndexer_f6c41d18e2d9,\n OneHotEncoder_881869a249ae,\n StringIndexer_2ca1b1b20b81,\n OneHotEncoder_5a46c75e9e38,\n StringIndexer_7932a45dd956,\n OneHotEncoder_6109fa156939,\n StringIndexer_bbb660e11c5d,\n OneHotEncoder_b232ca27d260,\n StringIndexer_4e6cbbe0f174,\n OneHotEncoder_1a6fd000b1c5,\n StringIndexer_72a4d1161f77,\n VectorAssembler_3ebe091d988f]</div>",
              "removedWidgets": [],
              "addedWidgets": {},
              "type": "html",
              "arguments": {}
            }
          }
        }
      ]
    },
    {
      "cell_type": "code",
      "metadata": {
        "application/vnd.databricks.v1+cell": {
          "title": "",
          "showTitle": false,
          "inputWidgets": {},
          "nuid": "961d2185-88d1-49e1-85d6-b3623b67fb1c"
        },
        "id": "zgFU5JJubA7J",
        "outputId": "5976b1ff-07c3-4052-bfe2-52e330b10656"
      },
      "source": [
        "# Aplicando o pipeline\n",
        "pipeline = Pipeline(stages=stages)\n",
        "pipelineModel = pipeline.fit(data_sem_holanda)\n",
        "model = pipelineModel.transform(data_sem_holanda)"
      ],
      "execution_count": null,
      "outputs": [
        {
          "output_type": "display_data",
          "data": {
            "text/html": [
              "<style scoped>\n",
              "  .ansiout {\n",
              "    display: block;\n",
              "    unicode-bidi: embed;\n",
              "    white-space: pre-wrap;\n",
              "    word-wrap: break-word;\n",
              "    word-break: break-all;\n",
              "    font-family: \"Source Code Pro\", \"Menlo\", monospace;;\n",
              "    font-size: 13px;\n",
              "    color: #555;\n",
              "    margin-left: 4px;\n",
              "    line-height: 19px;\n",
              "  }\n",
              "</style>\n",
              "<div class=\"ansiout\"></div>"
            ]
          },
          "metadata": {
            "tags": [],
            "application/vnd.databricks.v1+output": {
              "datasetInfos": [],
              "data": "<div class=\"ansiout\"></div>",
              "removedWidgets": [],
              "addedWidgets": {},
              "type": "html",
              "arguments": {}
            }
          }
        }
      ]
    },
    {
      "cell_type": "code",
      "metadata": {
        "application/vnd.databricks.v1+cell": {
          "title": "",
          "showTitle": false,
          "inputWidgets": {},
          "nuid": "27eb0303-16cb-45fd-80f8-43bab70155c1"
        },
        "id": "fBcbjN48bA7J",
        "outputId": "d0a2a883-f476-47db-ba86-a9069e750361"
      },
      "source": [
        "#mostrando parte dos dados para entrada\n",
        "model.select('age','workclass','marital-status','workclassclassVec','marital-statusclassVec').show()"
      ],
      "execution_count": null,
      "outputs": [
        {
          "output_type": "display_data",
          "data": {
            "text/html": [
              "<style scoped>\n",
              "  .ansiout {\n",
              "    display: block;\n",
              "    unicode-bidi: embed;\n",
              "    white-space: pre-wrap;\n",
              "    word-wrap: break-word;\n",
              "    word-break: break-all;\n",
              "    font-family: \"Source Code Pro\", \"Menlo\", monospace;;\n",
              "    font-size: 13px;\n",
              "    color: #555;\n",
              "    margin-left: 4px;\n",
              "    line-height: 19px;\n",
              "  }\n",
              "</style>\n",
              "<div class=\"ansiout\">+---+----------------+------------------+-----------------+----------------------+\n",
              "age|       workclass|    marital-status|workclassclassVec|marital-statusclassVec|\n",
              "+---+----------------+------------------+-----------------+----------------------+\n",
              " 25|         Private|     Never-married|    (8,[0],[1.0])|         (6,[1],[1.0])|\n",
              " 38|         Private|Married-civ-spouse|    (8,[0],[1.0])|         (6,[0],[1.0])|\n",
              " 28|       Local-gov|Married-civ-spouse|    (8,[2],[1.0])|         (6,[0],[1.0])|\n",
              " 44|         Private|Married-civ-spouse|    (8,[0],[1.0])|         (6,[0],[1.0])|\n",
              " 18|               ?|     Never-married|    (8,[3],[1.0])|         (6,[1],[1.0])|\n",
              " 34|         Private|     Never-married|    (8,[0],[1.0])|         (6,[1],[1.0])|\n",
              " 29|               ?|     Never-married|    (8,[3],[1.0])|         (6,[1],[1.0])|\n",
              " 63|Self-emp-not-inc|Married-civ-spouse|    (8,[1],[1.0])|         (6,[0],[1.0])|\n",
              " 24|         Private|     Never-married|    (8,[0],[1.0])|         (6,[1],[1.0])|\n",
              " 55|         Private|Married-civ-spouse|    (8,[0],[1.0])|         (6,[0],[1.0])|\n",
              " 65|         Private|Married-civ-spouse|    (8,[0],[1.0])|         (6,[0],[1.0])|\n",
              " 36|     Federal-gov|Married-civ-spouse|    (8,[6],[1.0])|         (6,[0],[1.0])|\n",
              " 26|         Private|     Never-married|    (8,[0],[1.0])|         (6,[1],[1.0])|\n",
              " 58|               ?|Married-civ-spouse|    (8,[3],[1.0])|         (6,[0],[1.0])|\n",
              " 48|         Private|Married-civ-spouse|    (8,[0],[1.0])|         (6,[0],[1.0])|\n",
              " 43|         Private|Married-civ-spouse|    (8,[0],[1.0])|         (6,[0],[1.0])|\n",
              " 20|       State-gov|     Never-married|    (8,[4],[1.0])|         (6,[1],[1.0])|\n",
              " 43|         Private|Married-civ-spouse|    (8,[0],[1.0])|         (6,[0],[1.0])|\n",
              " 37|         Private|           Widowed|    (8,[0],[1.0])|         (6,[4],[1.0])|\n",
              " 40|         Private|Married-civ-spouse|    (8,[0],[1.0])|         (6,[0],[1.0])|\n",
              "+---+----------------+------------------+-----------------+----------------------+\n",
              "only showing top 20 rows\n",
              "\n",
              "</div>"
            ]
          },
          "metadata": {
            "tags": [],
            "application/vnd.databricks.v1+output": {
              "datasetInfos": [],
              "data": "<div class=\"ansiout\">+---+----------------+------------------+-----------------+----------------------+\n|age|       workclass|    marital-status|workclassclassVec|marital-statusclassVec|\n+---+----------------+------------------+-----------------+----------------------+\n| 25|         Private|     Never-married|    (8,[0],[1.0])|         (6,[1],[1.0])|\n| 38|         Private|Married-civ-spouse|    (8,[0],[1.0])|         (6,[0],[1.0])|\n| 28|       Local-gov|Married-civ-spouse|    (8,[2],[1.0])|         (6,[0],[1.0])|\n| 44|         Private|Married-civ-spouse|    (8,[0],[1.0])|         (6,[0],[1.0])|\n| 18|               ?|     Never-married|    (8,[3],[1.0])|         (6,[1],[1.0])|\n| 34|         Private|     Never-married|    (8,[0],[1.0])|         (6,[1],[1.0])|\n| 29|               ?|     Never-married|    (8,[3],[1.0])|         (6,[1],[1.0])|\n| 63|Self-emp-not-inc|Married-civ-spouse|    (8,[1],[1.0])|         (6,[0],[1.0])|\n| 24|         Private|     Never-married|    (8,[0],[1.0])|         (6,[1],[1.0])|\n| 55|         Private|Married-civ-spouse|    (8,[0],[1.0])|         (6,[0],[1.0])|\n| 65|         Private|Married-civ-spouse|    (8,[0],[1.0])|         (6,[0],[1.0])|\n| 36|     Federal-gov|Married-civ-spouse|    (8,[6],[1.0])|         (6,[0],[1.0])|\n| 26|         Private|     Never-married|    (8,[0],[1.0])|         (6,[1],[1.0])|\n| 58|               ?|Married-civ-spouse|    (8,[3],[1.0])|         (6,[0],[1.0])|\n| 48|         Private|Married-civ-spouse|    (8,[0],[1.0])|         (6,[0],[1.0])|\n| 43|         Private|Married-civ-spouse|    (8,[0],[1.0])|         (6,[0],[1.0])|\n| 20|       State-gov|     Never-married|    (8,[4],[1.0])|         (6,[1],[1.0])|\n| 43|         Private|Married-civ-spouse|    (8,[0],[1.0])|         (6,[0],[1.0])|\n| 37|         Private|           Widowed|    (8,[0],[1.0])|         (6,[4],[1.0])|\n| 40|         Private|Married-civ-spouse|    (8,[0],[1.0])|         (6,[0],[1.0])|\n+---+----------------+------------------+-----------------+----------------------+\nonly showing top 20 rows\n\n</div>",
              "removedWidgets": [],
              "addedWidgets": {},
              "type": "html",
              "arguments": {}
            }
          }
        }
      ]
    },
    {
      "cell_type": "markdown",
      "metadata": {
        "application/vnd.databricks.v1+cell": {
          "title": "",
          "showTitle": false,
          "inputWidgets": {},
          "nuid": "6a1f85a5-f772-4384-a0d6-404e2e6319ab"
        },
        "id": "lXjmi2CGbA7K"
      },
      "source": [
        "Definindo o dataset de entrada"
      ]
    },
    {
      "cell_type": "code",
      "metadata": {
        "application/vnd.databricks.v1+cell": {
          "title": "",
          "showTitle": false,
          "inputWidgets": {},
          "nuid": "8536831d-8efb-483b-8726-39a958a406a8"
        },
        "id": "2ekfpmPvbA7K",
        "outputId": "96d47ff9-2918-4aff-87bb-7d5813bb2939"
      },
      "source": [
        "from pyspark.ml.linalg import DenseVector\n",
        "input_data = model.rdd.map(lambda x: (x[\"new_income\"], DenseVector(x[\"features\"])))  #cria o vetor denso para a construção dos dados para treinamento"
      ],
      "execution_count": null,
      "outputs": [
        {
          "output_type": "display_data",
          "data": {
            "text/html": [
              "<style scoped>\n",
              "  .ansiout {\n",
              "    display: block;\n",
              "    unicode-bidi: embed;\n",
              "    white-space: pre-wrap;\n",
              "    word-wrap: break-word;\n",
              "    word-break: break-all;\n",
              "    font-family: \"Source Code Pro\", \"Menlo\", monospace;;\n",
              "    font-size: 13px;\n",
              "    color: #555;\n",
              "    margin-left: 4px;\n",
              "    line-height: 19px;\n",
              "  }\n",
              "</style>\n",
              "<div class=\"ansiout\"></div>"
            ]
          },
          "metadata": {
            "tags": [],
            "application/vnd.databricks.v1+output": {
              "datasetInfos": [],
              "data": "<div class=\"ansiout\"></div>",
              "removedWidgets": [],
              "addedWidgets": {},
              "type": "html",
              "arguments": {}
            }
          }
        }
      ]
    },
    {
      "cell_type": "code",
      "metadata": {
        "application/vnd.databricks.v1+cell": {
          "title": "",
          "showTitle": false,
          "inputWidgets": {},
          "nuid": "16fb5abf-b7b9-4a5e-b2c6-69ba959c0489"
        },
        "id": "-0YsS_TebA7L",
        "outputId": "cf199a82-32d5-4a4f-dc44-6b25817b1aeb"
      },
      "source": [
        "df_final = spark.createDataFrame(input_data, [\"label\", \"features\"])"
      ],
      "execution_count": null,
      "outputs": [
        {
          "output_type": "display_data",
          "data": {
            "text/html": [
              "<style scoped>\n",
              "  .ansiout {\n",
              "    display: block;\n",
              "    unicode-bidi: embed;\n",
              "    white-space: pre-wrap;\n",
              "    word-wrap: break-word;\n",
              "    word-break: break-all;\n",
              "    font-family: \"Source Code Pro\", \"Menlo\", monospace;;\n",
              "    font-size: 13px;\n",
              "    color: #555;\n",
              "    margin-left: 4px;\n",
              "    line-height: 19px;\n",
              "  }\n",
              "</style>\n",
              "<div class=\"ansiout\"></div>"
            ]
          },
          "metadata": {
            "tags": [],
            "application/vnd.databricks.v1+output": {
              "datasetInfos": [],
              "data": "<div class=\"ansiout\"></div>",
              "removedWidgets": [],
              "addedWidgets": {},
              "type": "html",
              "arguments": {}
            }
          }
        }
      ]
    },
    {
      "cell_type": "code",
      "metadata": {
        "application/vnd.databricks.v1+cell": {
          "title": "",
          "showTitle": false,
          "inputWidgets": {},
          "nuid": "57109204-9fcb-4023-92c8-09c55bbfee71"
        },
        "id": "Pcp9h4pEbA7M",
        "outputId": "ecfdad4f-1167-4255-876a-be5e8c681587"
      },
      "source": [
        "df_final.show(truncate=True)"
      ],
      "execution_count": null,
      "outputs": [
        {
          "output_type": "display_data",
          "data": {
            "text/html": [
              "<style scoped>\n",
              "  .ansiout {\n",
              "    display: block;\n",
              "    unicode-bidi: embed;\n",
              "    white-space: pre-wrap;\n",
              "    word-wrap: break-word;\n",
              "    word-break: break-all;\n",
              "    font-family: \"Source Code Pro\", \"Menlo\", monospace;;\n",
              "    font-size: 13px;\n",
              "    color: #555;\n",
              "    margin-left: 4px;\n",
              "    line-height: 19px;\n",
              "  }\n",
              "</style>\n",
              "<div class=\"ansiout\">+-----+--------------------+\n",
              "label|            features|\n",
              "+-----+--------------------+\n",
              "  0.0|[1.0,0.0,0.0,0.0,...|\n",
              "  0.0|[1.0,0.0,0.0,0.0,...|\n",
              "  1.0|[0.0,0.0,1.0,0.0,...|\n",
              "  1.0|[1.0,0.0,0.0,0.0,...|\n",
              "  0.0|[0.0,0.0,0.0,1.0,...|\n",
              "  0.0|[1.0,0.0,0.0,0.0,...|\n",
              "  0.0|[0.0,0.0,0.0,1.0,...|\n",
              "  1.0|[0.0,1.0,0.0,0.0,...|\n",
              "  0.0|[1.0,0.0,0.0,0.0,...|\n",
              "  0.0|[1.0,0.0,0.0,0.0,...|\n",
              "  1.0|[1.0,0.0,0.0,0.0,...|\n",
              "  0.0|[0.0,0.0,0.0,0.0,...|\n",
              "  0.0|[1.0,0.0,0.0,0.0,...|\n",
              "  0.0|[0.0,0.0,0.0,1.0,...|\n",
              "  1.0|[1.0,0.0,0.0,0.0,...|\n",
              "  1.0|[1.0,0.0,0.0,0.0,...|\n",
              "  0.0|[0.0,0.0,0.0,0.0,...|\n",
              "  0.0|[1.0,0.0,0.0,0.0,...|\n",
              "  0.0|[1.0,0.0,0.0,0.0,...|\n",
              "  1.0|[1.0,0.0,0.0,0.0,...|\n",
              "+-----+--------------------+\n",
              "only showing top 20 rows\n",
              "\n",
              "</div>"
            ]
          },
          "metadata": {
            "tags": [],
            "application/vnd.databricks.v1+output": {
              "datasetInfos": [],
              "data": "<div class=\"ansiout\">+-----+--------------------+\n|label|            features|\n+-----+--------------------+\n|  0.0|[1.0,0.0,0.0,0.0,...|\n|  0.0|[1.0,0.0,0.0,0.0,...|\n|  1.0|[0.0,0.0,1.0,0.0,...|\n|  1.0|[1.0,0.0,0.0,0.0,...|\n|  0.0|[0.0,0.0,0.0,1.0,...|\n|  0.0|[1.0,0.0,0.0,0.0,...|\n|  0.0|[0.0,0.0,0.0,1.0,...|\n|  1.0|[0.0,1.0,0.0,0.0,...|\n|  0.0|[1.0,0.0,0.0,0.0,...|\n|  0.0|[1.0,0.0,0.0,0.0,...|\n|  1.0|[1.0,0.0,0.0,0.0,...|\n|  0.0|[0.0,0.0,0.0,0.0,...|\n|  0.0|[1.0,0.0,0.0,0.0,...|\n|  0.0|[0.0,0.0,0.0,1.0,...|\n|  1.0|[1.0,0.0,0.0,0.0,...|\n|  1.0|[1.0,0.0,0.0,0.0,...|\n|  0.0|[0.0,0.0,0.0,0.0,...|\n|  0.0|[1.0,0.0,0.0,0.0,...|\n|  0.0|[1.0,0.0,0.0,0.0,...|\n|  1.0|[1.0,0.0,0.0,0.0,...|\n+-----+--------------------+\nonly showing top 20 rows\n\n</div>",
              "removedWidgets": [],
              "addedWidgets": {},
              "type": "html",
              "arguments": {}
            }
          }
        }
      ]
    },
    {
      "cell_type": "markdown",
      "metadata": {
        "application/vnd.databricks.v1+cell": {
          "title": "",
          "showTitle": false,
          "inputWidgets": {},
          "nuid": "f2fe268f-a5db-4185-ac96-fc2541760d6e"
        },
        "id": "jo-epkGAbA7M"
      },
      "source": [
        "Dividindo os dados entre treinamento o teste"
      ]
    },
    {
      "cell_type": "code",
      "metadata": {
        "application/vnd.databricks.v1+cell": {
          "title": "",
          "showTitle": false,
          "inputWidgets": {},
          "nuid": "c2538074-bdfa-461e-a711-981ec1a109ce"
        },
        "id": "zyEUtA-1bA7N",
        "outputId": "45066603-f04e-48b6-f50a-a0a13efeae72"
      },
      "source": [
        "#divide os dados entre treinamento e teste\n",
        "train_data, test_data = df_final.randomSplit([.8,.2],seed=1)"
      ],
      "execution_count": null,
      "outputs": [
        {
          "output_type": "display_data",
          "data": {
            "text/html": [
              "<style scoped>\n",
              "  .ansiout {\n",
              "    display: block;\n",
              "    unicode-bidi: embed;\n",
              "    white-space: pre-wrap;\n",
              "    word-wrap: break-word;\n",
              "    word-break: break-all;\n",
              "    font-family: \"Source Code Pro\", \"Menlo\", monospace;;\n",
              "    font-size: 13px;\n",
              "    color: #555;\n",
              "    margin-left: 4px;\n",
              "    line-height: 19px;\n",
              "  }\n",
              "</style>\n",
              "<div class=\"ansiout\"></div>"
            ]
          },
          "metadata": {
            "tags": [],
            "application/vnd.databricks.v1+output": {
              "datasetInfos": [],
              "data": "<div class=\"ansiout\"></div>",
              "removedWidgets": [],
              "addedWidgets": {},
              "type": "html",
              "arguments": {}
            }
          }
        }
      ]
    },
    {
      "cell_type": "markdown",
      "metadata": {
        "application/vnd.databricks.v1+cell": {
          "title": "",
          "showTitle": false,
          "inputWidgets": {},
          "nuid": "f97ec2b2-90b1-4031-9557-735fc3e8aef5"
        },
        "id": "biApImgNbA7N"
      },
      "source": [
        "Criando o modelo de regressão logística"
      ]
    },
    {
      "cell_type": "code",
      "metadata": {
        "application/vnd.databricks.v1+cell": {
          "title": "",
          "showTitle": false,
          "inputWidgets": {},
          "nuid": "1635c3c3-7f56-4f1a-8f1c-eafb81b28a9d"
        },
        "id": "Xe1zhkBwbA7O",
        "outputId": "3533207f-2689-45a7-b6a3-a6c3eef56dd9"
      },
      "source": [
        "#define o modelo de regrssão logística\n",
        "from pyspark.ml.classification import LogisticRegression\n",
        "\n",
        "#instancia o objeto para a regressão logística\n",
        "lr = LogisticRegression(labelCol=\"label\",featuresCol=\"features\", maxIter=10, regParam=0.3)\n",
        "\n",
        "# treina o modelo\n",
        "linearModel = lr.fit(train_data)"
      ],
      "execution_count": null,
      "outputs": [
        {
          "output_type": "display_data",
          "data": {
            "text/html": [
              "<style scoped>\n",
              "  .ansiout {\n",
              "    display: block;\n",
              "    unicode-bidi: embed;\n",
              "    white-space: pre-wrap;\n",
              "    word-wrap: break-word;\n",
              "    word-break: break-all;\n",
              "    font-family: \"Source Code Pro\", \"Menlo\", monospace;;\n",
              "    font-size: 13px;\n",
              "    color: #555;\n",
              "    margin-left: 4px;\n",
              "    line-height: 19px;\n",
              "  }\n",
              "</style>\n",
              "<div class=\"ansiout\"></div>"
            ]
          },
          "metadata": {
            "tags": [],
            "application/vnd.databricks.v1+output": {
              "datasetInfos": [],
              "data": "<div class=\"ansiout\"></div>",
              "removedWidgets": [],
              "addedWidgets": {},
              "type": "html",
              "arguments": {}
            }
          }
        }
      ]
    },
    {
      "cell_type": "code",
      "metadata": {
        "application/vnd.databricks.v1+cell": {
          "title": "",
          "showTitle": false,
          "inputWidgets": {},
          "nuid": "02a01767-b831-4bef-979a-43dd8bbf4ad6"
        },
        "id": "Sotm7ZUbbA7P",
        "outputId": "4f8fa54d-d98b-4188-e2b9-20076cf73690"
      },
      "source": [
        "#realizando as previsões do modelo\n",
        "predictions = linearModel.transform(test_data)"
      ],
      "execution_count": null,
      "outputs": [
        {
          "output_type": "display_data",
          "data": {
            "text/html": [
              "<style scoped>\n",
              "  .ansiout {\n",
              "    display: block;\n",
              "    unicode-bidi: embed;\n",
              "    white-space: pre-wrap;\n",
              "    word-wrap: break-word;\n",
              "    word-break: break-all;\n",
              "    font-family: \"Source Code Pro\", \"Menlo\", monospace;;\n",
              "    font-size: 13px;\n",
              "    color: #555;\n",
              "    margin-left: 4px;\n",
              "    line-height: 19px;\n",
              "  }\n",
              "</style>\n",
              "<div class=\"ansiout\"></div>"
            ]
          },
          "metadata": {
            "tags": [],
            "application/vnd.databricks.v1+output": {
              "datasetInfos": [
                {
                  "name": "predictions",
                  "typeStr": "pyspark.sql.dataframe.DataFrame",
                  "schema": {
                    "fields": [
                      {
                        "metadata": {},
                        "name": "label",
                        "nullable": true,
                        "type": "double"
                      },
                      {
                        "metadata": {},
                        "name": "features",
                        "nullable": true,
                        "type": {
                          "class": "org.apache.spark.ml.linalg.VectorUDT",
                          "pyClass": "pyspark.ml.linalg.VectorUDT",
                          "sqlType": {
                            "fields": [
                              {
                                "metadata": {},
                                "name": "type",
                                "nullable": false,
                                "type": "byte"
                              },
                              {
                                "metadata": {},
                                "name": "size",
                                "nullable": true,
                                "type": "integer"
                              },
                              {
                                "metadata": {},
                                "name": "indices",
                                "nullable": true,
                                "type": {
                                  "containsNull": false,
                                  "elementType": "integer",
                                  "type": "array"
                                }
                              },
                              {
                                "metadata": {},
                                "name": "values",
                                "nullable": true,
                                "type": {
                                  "containsNull": false,
                                  "elementType": "double",
                                  "type": "array"
                                }
                              }
                            ],
                            "type": "struct"
                          },
                          "type": "udt"
                        }
                      },
                      {
                        "metadata": {},
                        "name": "rawPrediction",
                        "nullable": true,
                        "type": {
                          "class": "org.apache.spark.ml.linalg.VectorUDT",
                          "pyClass": "pyspark.ml.linalg.VectorUDT",
                          "sqlType": {
                            "fields": [
                              {
                                "metadata": {},
                                "name": "type",
                                "nullable": false,
                                "type": "byte"
                              },
                              {
                                "metadata": {},
                                "name": "size",
                                "nullable": true,
                                "type": "integer"
                              },
                              {
                                "metadata": {},
                                "name": "indices",
                                "nullable": true,
                                "type": {
                                  "containsNull": false,
                                  "elementType": "integer",
                                  "type": "array"
                                }
                              },
                              {
                                "metadata": {},
                                "name": "values",
                                "nullable": true,
                                "type": {
                                  "containsNull": false,
                                  "elementType": "double",
                                  "type": "array"
                                }
                              }
                            ],
                            "type": "struct"
                          },
                          "type": "udt"
                        }
                      },
                      {
                        "metadata": {},
                        "name": "probability",
                        "nullable": true,
                        "type": {
                          "class": "org.apache.spark.ml.linalg.VectorUDT",
                          "pyClass": "pyspark.ml.linalg.VectorUDT",
                          "sqlType": {
                            "fields": [
                              {
                                "metadata": {},
                                "name": "type",
                                "nullable": false,
                                "type": "byte"
                              },
                              {
                                "metadata": {},
                                "name": "size",
                                "nullable": true,
                                "type": "integer"
                              },
                              {
                                "metadata": {},
                                "name": "indices",
                                "nullable": true,
                                "type": {
                                  "containsNull": false,
                                  "elementType": "integer",
                                  "type": "array"
                                }
                              },
                              {
                                "metadata": {},
                                "name": "values",
                                "nullable": true,
                                "type": {
                                  "containsNull": false,
                                  "elementType": "double",
                                  "type": "array"
                                }
                              }
                            ],
                            "type": "struct"
                          },
                          "type": "udt"
                        }
                      },
                      {
                        "metadata": {},
                        "name": "prediction",
                        "nullable": false,
                        "type": "double"
                      }
                    ],
                    "type": "struct"
                  },
                  "tableIdentifier": null
                }
              ],
              "data": "<div class=\"ansiout\"></div>",
              "removedWidgets": [],
              "addedWidgets": {},
              "type": "html",
              "arguments": {}
            }
          }
        }
      ]
    },
    {
      "cell_type": "code",
      "metadata": {
        "application/vnd.databricks.v1+cell": {
          "title": "",
          "showTitle": false,
          "inputWidgets": {},
          "nuid": "1cf30d2e-4659-411a-ab5a-8ed5217eb87a"
        },
        "id": "Q_Bd0z4MbA7P",
        "outputId": "c984bd26-c41b-4722-de84-c363ae2fb545"
      },
      "source": [
        "#selecionando algumas colunas para a previsão \n",
        "selected = predictions.select(\"label\", \"prediction\", \"probability\")\n",
        "selected.show(20)"
      ],
      "execution_count": null,
      "outputs": [
        {
          "output_type": "display_data",
          "data": {
            "text/html": [
              "<style scoped>\n",
              "  .ansiout {\n",
              "    display: block;\n",
              "    unicode-bidi: embed;\n",
              "    white-space: pre-wrap;\n",
              "    word-wrap: break-word;\n",
              "    word-break: break-all;\n",
              "    font-family: \"Source Code Pro\", \"Menlo\", monospace;;\n",
              "    font-size: 13px;\n",
              "    color: #555;\n",
              "    margin-left: 4px;\n",
              "    line-height: 19px;\n",
              "  }\n",
              "</style>\n",
              "<div class=\"ansiout\">+-----+----------+--------------------+\n",
              "label|prediction|         probability|\n",
              "+-----+----------+--------------------+\n",
              "  0.0|       0.0|[0.92520217264469...|\n",
              "  0.0|       0.0|[0.95366442060255...|\n",
              "  0.0|       0.0|[0.91926743351227...|\n",
              "  0.0|       1.0|[0.28291564193407...|\n",
              "  0.0|       0.0|[0.91100175677054...|\n",
              "  0.0|       0.0|[0.79718464294769...|\n",
              "  0.0|       1.0|[0.44760649374509...|\n",
              "  0.0|       1.0|[0.34791219662457...|\n",
              "  0.0|       0.0|[0.92772282224110...|\n",
              "  0.0|       0.0|[0.89413716107178...|\n",
              "  0.0|       0.0|[0.84459843234791...|\n",
              "  0.0|       0.0|[0.83989176314687...|\n",
              "  0.0|       1.0|[0.42211576831367...|\n",
              "  0.0|       0.0|[0.60400511213682...|\n",
              "  0.0|       0.0|[0.87256716864549...|\n",
              "  0.0|       0.0|[0.91601494734762...|\n",
              "  0.0|       0.0|[0.84459128246088...|\n",
              "  0.0|       0.0|[0.79420768806306...|\n",
              "  0.0|       0.0|[0.77933178462522...|\n",
              "  0.0|       0.0|[0.82631106770925...|\n",
              "+-----+----------+--------------------+\n",
              "only showing top 20 rows\n",
              "\n",
              "</div>"
            ]
          },
          "metadata": {
            "tags": [],
            "application/vnd.databricks.v1+output": {
              "datasetInfos": [
                {
                  "name": "selected",
                  "typeStr": "pyspark.sql.dataframe.DataFrame",
                  "schema": {
                    "fields": [
                      {
                        "metadata": {},
                        "name": "label",
                        "nullable": true,
                        "type": "double"
                      },
                      {
                        "metadata": {},
                        "name": "prediction",
                        "nullable": false,
                        "type": "double"
                      },
                      {
                        "metadata": {},
                        "name": "probability",
                        "nullable": true,
                        "type": {
                          "class": "org.apache.spark.ml.linalg.VectorUDT",
                          "pyClass": "pyspark.ml.linalg.VectorUDT",
                          "sqlType": {
                            "fields": [
                              {
                                "metadata": {},
                                "name": "type",
                                "nullable": false,
                                "type": "byte"
                              },
                              {
                                "metadata": {},
                                "name": "size",
                                "nullable": true,
                                "type": "integer"
                              },
                              {
                                "metadata": {},
                                "name": "indices",
                                "nullable": true,
                                "type": {
                                  "containsNull": false,
                                  "elementType": "integer",
                                  "type": "array"
                                }
                              },
                              {
                                "metadata": {},
                                "name": "values",
                                "nullable": true,
                                "type": {
                                  "containsNull": false,
                                  "elementType": "double",
                                  "type": "array"
                                }
                              }
                            ],
                            "type": "struct"
                          },
                          "type": "udt"
                        }
                      }
                    ],
                    "type": "struct"
                  },
                  "tableIdentifier": null
                }
              ],
              "data": "<div class=\"ansiout\">+-----+----------+--------------------+\n|label|prediction|         probability|\n+-----+----------+--------------------+\n|  0.0|       0.0|[0.92520217264469...|\n|  0.0|       0.0|[0.95366442060255...|\n|  0.0|       0.0|[0.91926743351227...|\n|  0.0|       1.0|[0.28291564193407...|\n|  0.0|       0.0|[0.91100175677054...|\n|  0.0|       0.0|[0.79718464294769...|\n|  0.0|       1.0|[0.44760649374509...|\n|  0.0|       1.0|[0.34791219662457...|\n|  0.0|       0.0|[0.92772282224110...|\n|  0.0|       0.0|[0.89413716107178...|\n|  0.0|       0.0|[0.84459843234791...|\n|  0.0|       0.0|[0.83989176314687...|\n|  0.0|       1.0|[0.42211576831367...|\n|  0.0|       0.0|[0.60400511213682...|\n|  0.0|       0.0|[0.87256716864549...|\n|  0.0|       0.0|[0.91601494734762...|\n|  0.0|       0.0|[0.84459128246088...|\n|  0.0|       0.0|[0.79420768806306...|\n|  0.0|       0.0|[0.77933178462522...|\n|  0.0|       0.0|[0.82631106770925...|\n+-----+----------+--------------------+\nonly showing top 20 rows\n\n</div>",
              "removedWidgets": [],
              "addedWidgets": {},
              "type": "html",
              "arguments": {}
            }
          }
        }
      ]
    },
    {
      "cell_type": "markdown",
      "metadata": {
        "application/vnd.databricks.v1+cell": {
          "title": "",
          "showTitle": false,
          "inputWidgets": {},
          "nuid": "4228faaa-6189-4cd0-8056-a23119350da9"
        },
        "id": "Sfox0F5EbA7Q"
      },
      "source": [
        "Avaliando o modelo"
      ]
    },
    {
      "cell_type": "code",
      "metadata": {
        "application/vnd.databricks.v1+cell": {
          "title": "",
          "showTitle": false,
          "inputWidgets": {},
          "nuid": "8a6bee56-ff76-457c-a3af-9c67691f9575"
        },
        "id": "1WpNLiKJbA7Q",
        "outputId": "8e3d81aa-99a8-4eba-dd7d-4449138b1e91"
      },
      "source": [
        "from pyspark.ml.evaluation import BinaryClassificationEvaluator\n",
        "\n",
        "# Evaluate model\n",
        "evaluator = BinaryClassificationEvaluator(rawPredictionCol=\"rawPrediction\")\n",
        "print(evaluator.evaluate(predictions))"
      ],
      "execution_count": null,
      "outputs": [
        {
          "output_type": "display_data",
          "data": {
            "text/html": [
              "<style scoped>\n",
              "  .ansiout {\n",
              "    display: block;\n",
              "    unicode-bidi: embed;\n",
              "    white-space: pre-wrap;\n",
              "    word-wrap: break-word;\n",
              "    word-break: break-all;\n",
              "    font-family: \"Source Code Pro\", \"Menlo\", monospace;;\n",
              "    font-size: 13px;\n",
              "    color: #555;\n",
              "    margin-left: 4px;\n",
              "    line-height: 19px;\n",
              "  }\n",
              "</style>\n",
              "<div class=\"ansiout\">0.8917099585256526\n",
              "</div>"
            ]
          },
          "metadata": {
            "tags": [],
            "application/vnd.databricks.v1+output": {
              "datasetInfos": [],
              "data": "<div class=\"ansiout\">0.8917099585256526\n</div>",
              "removedWidgets": [],
              "addedWidgets": {},
              "type": "html",
              "arguments": {}
            }
          }
        }
      ]
    },
    {
      "cell_type": "code",
      "metadata": {
        "application/vnd.databricks.v1+cell": {
          "title": "",
          "showTitle": false,
          "inputWidgets": {},
          "nuid": "5531d3dd-e463-45d2-9a9f-604da3769f63"
        },
        "id": "gyVnONjVbA7R"
      },
      "source": [
        "predictions.printSchema()"
      ],
      "execution_count": null,
      "outputs": []
    }
  ]
}