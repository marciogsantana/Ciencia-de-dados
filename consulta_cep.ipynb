{
  "nbformat": 4,
  "nbformat_minor": 0,
  "metadata": {
    "colab": {
      "name": "consulta_cep",
      "provenance": [],
      "collapsed_sections": [],
      "authorship_tag": "ABX9TyNjBWXhmKB74+fCPYueJ9y2",
      "include_colab_link": true
    },
    "kernelspec": {
      "name": "python3",
      "display_name": "Python 3"
    },
    "language_info": {
      "name": "python"
    }
  },
  "cells": [
    {
      "cell_type": "markdown",
      "metadata": {
        "id": "view-in-github",
        "colab_type": "text"
      },
      "source": [
        "<a href=\"https://colab.research.google.com/github/marciogsantana/Ciencia-de-dados/blob/main/consulta_cep.ipynb\" target=\"_parent\"><img src=\"https://colab.research.google.com/assets/colab-badge.svg\" alt=\"Open In Colab\"/></a>"
      ]
    },
    {
      "cell_type": "code",
      "metadata": {
        "id": "VEaP68o_uWn_",
        "colab": {
          "base_uri": "https://localhost:8080/"
        },
        "outputId": "319dea6c-f928-4e08-d237-9f1cf8c30852"
      },
      "source": [
        "!pip install pycep-correios"
      ],
      "execution_count": null,
      "outputs": [
        {
          "output_type": "stream",
          "name": "stdout",
          "text": [
            "Collecting pycep-correios\n",
            "  Downloading pycep_correios-5.0.0-py2.py3-none-any.whl (7.1 kB)\n",
            "Collecting zeep>=2.0.0\n",
            "  Downloading zeep-4.1.0-py2.py3-none-any.whl (100 kB)\n",
            "\u001b[K     |████████████████████████████████| 100 kB 3.5 MB/s \n",
            "\u001b[?25hRequirement already satisfied: requests>=2.7.0 in /usr/local/lib/python3.7/dist-packages (from pycep-correios) (2.23.0)\n",
            "Requirement already satisfied: urllib3!=1.25.0,!=1.25.1,<1.26,>=1.21.1 in /usr/local/lib/python3.7/dist-packages (from requests>=2.7.0->pycep-correios) (1.24.3)\n",
            "Requirement already satisfied: certifi>=2017.4.17 in /usr/local/lib/python3.7/dist-packages (from requests>=2.7.0->pycep-correios) (2021.10.8)\n",
            "Requirement already satisfied: chardet<4,>=3.0.2 in /usr/local/lib/python3.7/dist-packages (from requests>=2.7.0->pycep-correios) (3.0.4)\n",
            "Requirement already satisfied: idna<3,>=2.5 in /usr/local/lib/python3.7/dist-packages (from requests>=2.7.0->pycep-correios) (2.10)\n",
            "Collecting lxml>=4.6.0\n",
            "  Downloading lxml-4.6.4-cp37-cp37m-manylinux_2_17_x86_64.manylinux2014_x86_64.manylinux_2_24_x86_64.whl (6.3 MB)\n",
            "\u001b[K     |████████████████████████████████| 6.3 MB 33.9 MB/s \n",
            "\u001b[?25hRequirement already satisfied: cached-property>=1.3.0 in /usr/local/lib/python3.7/dist-packages (from zeep>=2.0.0->pycep-correios) (1.5.2)\n",
            "Collecting platformdirs>=1.4.0\n",
            "  Downloading platformdirs-2.4.0-py3-none-any.whl (14 kB)\n",
            "Collecting isodate>=0.5.4\n",
            "  Downloading isodate-0.6.0-py2.py3-none-any.whl (45 kB)\n",
            "\u001b[K     |████████████████████████████████| 45 kB 3.4 MB/s \n",
            "\u001b[?25hRequirement already satisfied: pytz in /usr/local/lib/python3.7/dist-packages (from zeep>=2.0.0->pycep-correios) (2018.9)\n",
            "Collecting requests-toolbelt>=0.7.1\n",
            "  Downloading requests_toolbelt-0.9.1-py2.py3-none-any.whl (54 kB)\n",
            "\u001b[K     |████████████████████████████████| 54 kB 2.8 MB/s \n",
            "\u001b[?25hCollecting requests-file>=1.5.1\n",
            "  Downloading requests_file-1.5.1-py2.py3-none-any.whl (3.7 kB)\n",
            "Requirement already satisfied: attrs>=17.2.0 in /usr/local/lib/python3.7/dist-packages (from zeep>=2.0.0->pycep-correios) (21.2.0)\n",
            "Requirement already satisfied: six in /usr/local/lib/python3.7/dist-packages (from isodate>=0.5.4->zeep>=2.0.0->pycep-correios) (1.15.0)\n",
            "Installing collected packages: requests-toolbelt, requests-file, platformdirs, lxml, isodate, zeep, pycep-correios\n",
            "  Attempting uninstall: lxml\n",
            "    Found existing installation: lxml 4.2.6\n",
            "    Uninstalling lxml-4.2.6:\n",
            "      Successfully uninstalled lxml-4.2.6\n",
            "Successfully installed isodate-0.6.0 lxml-4.6.4 platformdirs-2.4.0 pycep-correios-5.0.0 requests-file-1.5.1 requests-toolbelt-0.9.1 zeep-4.1.0\n"
          ]
        }
      ]
    },
    {
      "cell_type": "code",
      "metadata": {
        "id": "1LdVBSTqyKKW"
      },
      "source": [
        "import pandas as pd\n",
        "from time import sleep"
      ],
      "execution_count": null,
      "outputs": []
    },
    {
      "cell_type": "code",
      "metadata": {
        "id": "i0ystJiOwJT_"
      },
      "source": [
        "lista_latitude = []\n",
        "lista_longetude = []"
      ],
      "execution_count": null,
      "outputs": []
    },
    {
      "cell_type": "code",
      "metadata": {
        "id": "hghOKh7TyFqq"
      },
      "source": [
        "df_cep = pd.read_excel('cep.xlsx')"
      ],
      "execution_count": null,
      "outputs": []
    },
    {
      "cell_type": "code",
      "metadata": {
        "colab": {
          "base_uri": "https://localhost:8080/",
          "height": 613
        },
        "id": "w5RwnBwwpV1w",
        "outputId": "90c04d76-e829-43ee-8ab7-01579adabc8b"
      },
      "source": [
        "df_cep"
      ],
      "execution_count": null,
      "outputs": [
        {
          "output_type": "execute_result",
          "data": {
            "text/html": [
              "<div>\n",
              "<style scoped>\n",
              "    .dataframe tbody tr th:only-of-type {\n",
              "        vertical-align: middle;\n",
              "    }\n",
              "\n",
              "    .dataframe tbody tr th {\n",
              "        vertical-align: top;\n",
              "    }\n",
              "\n",
              "    .dataframe thead th {\n",
              "        text-align: right;\n",
              "    }\n",
              "</style>\n",
              "<table border=\"1\" class=\"dataframe\">\n",
              "  <thead>\n",
              "    <tr style=\"text-align: right;\">\n",
              "      <th></th>\n",
              "      <th>CEP</th>\n",
              "      <th>CEP.1</th>\n",
              "    </tr>\n",
              "  </thead>\n",
              "  <tbody>\n",
              "    <tr>\n",
              "      <th>0</th>\n",
              "      <td>35450-000</td>\n",
              "      <td>35450000</td>\n",
              "    </tr>\n",
              "    <tr>\n",
              "      <th>1</th>\n",
              "      <td>35410-000</td>\n",
              "      <td>35410000</td>\n",
              "    </tr>\n",
              "    <tr>\n",
              "      <th>2</th>\n",
              "      <td>35412-000</td>\n",
              "      <td>35412000</td>\n",
              "    </tr>\n",
              "    <tr>\n",
              "      <th>3</th>\n",
              "      <td>35420-000</td>\n",
              "      <td>35420000</td>\n",
              "    </tr>\n",
              "    <tr>\n",
              "      <th>4</th>\n",
              "      <td>35411-000</td>\n",
              "      <td>35411000</td>\n",
              "    </tr>\n",
              "    <tr>\n",
              "      <th>5</th>\n",
              "      <td>75460-000</td>\n",
              "      <td>75460000</td>\n",
              "    </tr>\n",
              "    <tr>\n",
              "      <th>6</th>\n",
              "      <td>35400-000</td>\n",
              "      <td>35400000</td>\n",
              "    </tr>\n",
              "    <tr>\n",
              "      <th>7</th>\n",
              "      <td>35350-000</td>\n",
              "      <td>35350000</td>\n",
              "    </tr>\n",
              "    <tr>\n",
              "      <th>8</th>\n",
              "      <td>35450-390</td>\n",
              "      <td>35450390</td>\n",
              "    </tr>\n",
              "    <tr>\n",
              "      <th>9</th>\n",
              "      <td>35450-000</td>\n",
              "      <td>35450000</td>\n",
              "    </tr>\n",
              "    <tr>\n",
              "      <th>10</th>\n",
              "      <td>35410-000</td>\n",
              "      <td>35410000</td>\n",
              "    </tr>\n",
              "    <tr>\n",
              "      <th>11</th>\n",
              "      <td>35412-000</td>\n",
              "      <td>35412000</td>\n",
              "    </tr>\n",
              "    <tr>\n",
              "      <th>12</th>\n",
              "      <td>35420-000</td>\n",
              "      <td>35420000</td>\n",
              "    </tr>\n",
              "    <tr>\n",
              "      <th>13</th>\n",
              "      <td>35411-000</td>\n",
              "      <td>35411000</td>\n",
              "    </tr>\n",
              "    <tr>\n",
              "      <th>14</th>\n",
              "      <td>75460-000</td>\n",
              "      <td>75460000</td>\n",
              "    </tr>\n",
              "    <tr>\n",
              "      <th>15</th>\n",
              "      <td>35400-000</td>\n",
              "      <td>35400000</td>\n",
              "    </tr>\n",
              "    <tr>\n",
              "      <th>16</th>\n",
              "      <td>35350-000</td>\n",
              "      <td>35350000</td>\n",
              "    </tr>\n",
              "    <tr>\n",
              "      <th>17</th>\n",
              "      <td>35450-390</td>\n",
              "      <td>35450390</td>\n",
              "    </tr>\n",
              "  </tbody>\n",
              "</table>\n",
              "</div>"
            ],
            "text/plain": [
              "          CEP     CEP.1\n",
              "0   35450-000  35450000\n",
              "1   35410-000  35410000\n",
              "2   35412-000  35412000\n",
              "3   35420-000  35420000\n",
              "4   35411-000  35411000\n",
              "5   75460-000  75460000\n",
              "6   35400-000  35400000\n",
              "7   35350-000  35350000\n",
              "8   35450-390  35450390\n",
              "9   35450-000  35450000\n",
              "10  35410-000  35410000\n",
              "11  35412-000  35412000\n",
              "12  35420-000  35420000\n",
              "13  35411-000  35411000\n",
              "14  75460-000  75460000\n",
              "15  35400-000  35400000\n",
              "16  35350-000  35350000\n",
              "17  35450-390  35450390"
            ]
          },
          "metadata": {},
          "execution_count": 16
        }
      ]
    },
    {
      "cell_type": "code",
      "metadata": {
        "colab": {
          "base_uri": "https://localhost:8080/"
        },
        "id": "TXg8zKttyY3Z",
        "outputId": "6868597a-edf2-4a49-a40e-53b66cfcbfa7"
      },
      "source": [
        "df_cep.dtypes"
      ],
      "execution_count": null,
      "outputs": [
        {
          "output_type": "execute_result",
          "data": {
            "text/plain": [
              "CEP          object\n",
              "CEP_certo     int64\n",
              "dtype: object"
            ]
          },
          "metadata": {},
          "execution_count": 17
        }
      ]
    },
    {
      "cell_type": "code",
      "metadata": {
        "colab": {
          "base_uri": "https://localhost:8080/",
          "height": 583
        },
        "id": "Kg9S0D0gtrIl",
        "outputId": "7d541911-f515-41da-bf22-c34c85471a59"
      },
      "source": [
        "\n",
        "import pycep_correios\n",
        "from geopy.geocoders import Nominatim\n",
        "\n",
        "for index, row in df_cep.iterrows():\n",
        "    cep = (row['CEP.1'])\n",
        "    cep = str(cep)\n",
        "    print(cep)\n",
        "    endereco = pycep_correios.get_address_from_cep(cep)\n",
        "    geolocator = Nominatim(user_agent=\"test_app\")\n",
        "    location = geolocator.geocode(endereco['logradouro'] + \", \" + endereco['cidade'] + \" - \" + endereco['bairro'])\n",
        "    latitude = location.latitude\n",
        "    longetude = location.longitude\n",
        "    #print(location.latitude, location.longitude)\n",
        "    #limite_credito.append(tata)\n",
        "    lista_latitude.append(latitude)\n",
        "    lista_longetude.append(longetude)\n",
        "    #sleep(5)"
      ],
      "execution_count": null,
      "outputs": [
        {
          "output_type": "stream",
          "name": "stdout",
          "text": [
            "35450000\n",
            "35410000\n",
            "35412000\n",
            "35420000\n",
            "35411000\n",
            "75460000\n",
            "35400000\n",
            "35350000\n",
            "35450390\n",
            "35450000\n"
          ]
        },
        {
          "output_type": "error",
          "ename": "InvalidCEP",
          "evalue": "ignored",
          "traceback": [
            "\u001b[0;31m---------------------------------------------------------------------------\u001b[0m",
            "\u001b[0;31mInvalidCEP\u001b[0m                                Traceback (most recent call last)",
            "\u001b[0;32m<ipython-input-17-42818f7d3d1d>\u001b[0m in \u001b[0;36m<module>\u001b[0;34m()\u001b[0m\n\u001b[1;32m      7\u001b[0m     \u001b[0mcep\u001b[0m \u001b[0;34m=\u001b[0m \u001b[0mstr\u001b[0m\u001b[0;34m(\u001b[0m\u001b[0mcep\u001b[0m\u001b[0;34m)\u001b[0m\u001b[0;34m\u001b[0m\u001b[0;34m\u001b[0m\u001b[0m\n\u001b[1;32m      8\u001b[0m     \u001b[0mprint\u001b[0m\u001b[0;34m(\u001b[0m\u001b[0mcep\u001b[0m\u001b[0;34m)\u001b[0m\u001b[0;34m\u001b[0m\u001b[0;34m\u001b[0m\u001b[0m\n\u001b[0;32m----> 9\u001b[0;31m     \u001b[0mendereco\u001b[0m \u001b[0;34m=\u001b[0m \u001b[0mpycep_correios\u001b[0m\u001b[0;34m.\u001b[0m\u001b[0mget_address_from_cep\u001b[0m\u001b[0;34m(\u001b[0m\u001b[0mcep\u001b[0m\u001b[0;34m)\u001b[0m\u001b[0;34m\u001b[0m\u001b[0;34m\u001b[0m\u001b[0m\n\u001b[0m\u001b[1;32m     10\u001b[0m     \u001b[0mgeolocator\u001b[0m \u001b[0;34m=\u001b[0m \u001b[0mNominatim\u001b[0m\u001b[0;34m(\u001b[0m\u001b[0muser_agent\u001b[0m\u001b[0;34m=\u001b[0m\u001b[0;34m\"test_app\"\u001b[0m\u001b[0;34m)\u001b[0m\u001b[0;34m\u001b[0m\u001b[0;34m\u001b[0m\u001b[0m\n\u001b[1;32m     11\u001b[0m     \u001b[0mlocation\u001b[0m \u001b[0;34m=\u001b[0m \u001b[0mgeolocator\u001b[0m\u001b[0;34m.\u001b[0m\u001b[0mgeocode\u001b[0m\u001b[0;34m(\u001b[0m\u001b[0mendereco\u001b[0m\u001b[0;34m[\u001b[0m\u001b[0;34m'logradouro'\u001b[0m\u001b[0;34m]\u001b[0m \u001b[0;34m+\u001b[0m \u001b[0;34m\", \"\u001b[0m \u001b[0;34m+\u001b[0m \u001b[0mendereco\u001b[0m\u001b[0;34m[\u001b[0m\u001b[0;34m'cidade'\u001b[0m\u001b[0;34m]\u001b[0m \u001b[0;34m+\u001b[0m \u001b[0;34m\" - \"\u001b[0m \u001b[0;34m+\u001b[0m \u001b[0mendereco\u001b[0m\u001b[0;34m[\u001b[0m\u001b[0;34m'bairro'\u001b[0m\u001b[0;34m]\u001b[0m\u001b[0;34m)\u001b[0m\u001b[0;34m\u001b[0m\u001b[0;34m\u001b[0m\u001b[0m\n",
            "\u001b[0;32m/usr/local/lib/python3.7/dist-packages/pycep_correios/client.py\u001b[0m in \u001b[0;36mget_address_from_cep\u001b[0;34m(cep, webservice)\u001b[0m\n\u001b[1;32m     38\u001b[0m \u001b[0;34m\u001b[0m\u001b[0m\n\u001b[1;32m     39\u001b[0m     \u001b[0;32mif\u001b[0m \u001b[0mwebservice\u001b[0m \u001b[0;34m==\u001b[0m \u001b[0mWebService\u001b[0m\u001b[0;34m.\u001b[0m\u001b[0mAPICEP\u001b[0m\u001b[0;34m:\u001b[0m\u001b[0;34m\u001b[0m\u001b[0;34m\u001b[0m\u001b[0m\n\u001b[0;32m---> 40\u001b[0;31m         \u001b[0;32mreturn\u001b[0m \u001b[0mapicep\u001b[0m\u001b[0;34m.\u001b[0m\u001b[0mfetch_address\u001b[0m\u001b[0;34m(\u001b[0m\u001b[0mcep\u001b[0m\u001b[0;34m)\u001b[0m\u001b[0;34m\u001b[0m\u001b[0;34m\u001b[0m\u001b[0m\n\u001b[0m\u001b[1;32m     41\u001b[0m \u001b[0;34m\u001b[0m\u001b[0m\n\u001b[1;32m     42\u001b[0m \u001b[0;34m\u001b[0m\u001b[0m\n",
            "\u001b[0;32m/usr/local/lib/python3.7/dist-packages/pycep_correios/apicep.py\u001b[0m in \u001b[0;36mfetch_address\u001b[0;34m(cep)\u001b[0m\n\u001b[1;32m     19\u001b[0m \u001b[0;34m\u001b[0m\u001b[0m\n\u001b[1;32m     20\u001b[0m             \u001b[0;32mif\u001b[0m \u001b[0maddress\u001b[0m\u001b[0;34m[\u001b[0m\u001b[0;34m'status'\u001b[0m\u001b[0;34m]\u001b[0m \u001b[0;34m==\u001b[0m \u001b[0;36m400\u001b[0m\u001b[0;34m:\u001b[0m\u001b[0;34m\u001b[0m\u001b[0;34m\u001b[0m\u001b[0m\n\u001b[0;32m---> 21\u001b[0;31m                 \u001b[0;32mraise\u001b[0m \u001b[0mexceptions\u001b[0m\u001b[0;34m.\u001b[0m\u001b[0mInvalidCEP\u001b[0m\u001b[0;34m(\u001b[0m\u001b[0;34m)\u001b[0m\u001b[0;34m\u001b[0m\u001b[0;34m\u001b[0m\u001b[0m\n\u001b[0m\u001b[1;32m     22\u001b[0m \u001b[0;34m\u001b[0m\u001b[0m\n\u001b[1;32m     23\u001b[0m             \u001b[0;32mif\u001b[0m \u001b[0maddress\u001b[0m\u001b[0;34m[\u001b[0m\u001b[0;34m'status'\u001b[0m\u001b[0;34m]\u001b[0m \u001b[0;34m==\u001b[0m \u001b[0;36m404\u001b[0m\u001b[0;34m:\u001b[0m\u001b[0;34m\u001b[0m\u001b[0;34m\u001b[0m\u001b[0m\n",
            "\u001b[0;31mInvalidCEP\u001b[0m: "
          ]
        }
      ]
    },
    {
      "cell_type": "code",
      "metadata": {
        "id": "v1TEB84L7prY"
      },
      "source": [
        "lista_latitude"
      ],
      "execution_count": null,
      "outputs": []
    },
    {
      "cell_type": "code",
      "metadata": {
        "id": "3muMQjaO7yk5"
      },
      "source": [
        "lista_longetude"
      ],
      "execution_count": null,
      "outputs": []
    },
    {
      "cell_type": "code",
      "metadata": {
        "colab": {
          "base_uri": "https://localhost:8080/"
        },
        "id": "Te8JaTyH1Ppw",
        "outputId": "d01254a8-ccbb-46ab-a3e8-96b5108e5f8f"
      },
      "source": [
        "teste = '35450000'\n",
        "endereco = pycep_correios.get_address_from_cep(teste)\n",
        "geolocator = Nominatim(user_agent=\"test_app\")\n",
        "location = geolocator.geocode(endereco['logradouro'] + \", \" + endereco['cidade'] + \" - \" + endereco['bairro'])\n",
        "#latitude = location.latitude\n",
        "#longetitude = location.longitude\n",
        "print(location.latitude, location.longitude)\n",
        "#limite_credito.append(tata)\n",
        "#lista_latitude.append(latitude)\n",
        "#lista_longetude.append(longetude)"
      ],
      "execution_count": null,
      "outputs": [
        {
          "output_type": "stream",
          "name": "stdout",
          "text": [
            "-20.2519724 -43.8029171\n"
          ]
        }
      ]
    },
    {
      "cell_type": "code",
      "metadata": {
        "colab": {
          "base_uri": "https://localhost:8080/"
        },
        "id": "97-3uU9m3Z4d",
        "outputId": "9f6ce48f-bc1c-4fab-93ff-6bcd9f6561d4"
      },
      "source": [
        "print( type(teste))\n",
        "\n"
      ],
      "execution_count": null,
      "outputs": [
        {
          "output_type": "stream",
          "name": "stdout",
          "text": [
            "<class 'int'>\n"
          ]
        }
      ]
    },
    {
      "cell_type": "code",
      "metadata": {
        "colab": {
          "base_uri": "https://localhost:8080/"
        },
        "id": "90rP0Bdj4u8E",
        "outputId": "4073e397-2a48-4ae6-d9f8-48a6a0ad361b"
      },
      "source": [
        "cep"
      ],
      "execution_count": null,
      "outputs": [
        {
          "output_type": "execute_result",
          "data": {
            "text/plain": [
              "35450000"
            ]
          },
          "metadata": {},
          "execution_count": 41
        }
      ]
    },
    {
      "cell_type": "code",
      "metadata": {
        "id": "k8JExsEZvpz2"
      },
      "source": [
        ""
      ],
      "execution_count": null,
      "outputs": []
    }
  ]
}