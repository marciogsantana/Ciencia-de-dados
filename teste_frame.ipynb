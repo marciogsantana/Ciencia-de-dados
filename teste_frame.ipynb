{
  "nbformat": 4,
  "nbformat_minor": 0,
  "metadata": {
    "colab": {
      "name": "teste_frame.ipynb",
      "provenance": [],
      "collapsed_sections": [],
      "authorship_tag": "ABX9TyP698b5tVmaeRtlfhooQZGq",
      "include_colab_link": true
    },
    "kernelspec": {
      "display_name": "Python 3",
      "name": "python3"
    },
    "language_info": {
      "name": "python"
    }
  },
  "cells": [
    {
      "cell_type": "markdown",
      "metadata": {
        "id": "view-in-github",
        "colab_type": "text"
      },
      "source": [
        "<a href=\"https://colab.research.google.com/github/marciogsantana/Ciencia-de-dados/blob/main/teste_frame.ipynb\" target=\"_parent\"><img src=\"https://colab.research.google.com/assets/colab-badge.svg\" alt=\"Open In Colab\"/></a>"
      ]
    },
    {
      "cell_type": "code",
      "metadata": {
        "id": "rxtI69vZzHvl"
      },
      "source": [
        "import pandas as pd\n"
      ],
      "execution_count": null,
      "outputs": []
    },
    {
      "cell_type": "code",
      "metadata": {
        "id": "1BJIL86pNg9l"
      },
      "source": [
        "from google.colab import drive\n",
        "drive.mount('/content/drive')"
      ],
      "execution_count": null,
      "outputs": []
    },
    {
      "cell_type": "code",
      "metadata": {
        "id": "UAgFZ8xRzP0a"
      },
      "source": [
        "fornecedor = pd.read_csv('fornecedor_cnpj.csv', sep= ';')"
      ],
      "execution_count": null,
      "outputs": []
    },
    {
      "cell_type": "code",
      "metadata": {
        "id": "UEGD9xYGz2kQ"
      },
      "source": [
        "fornecedor"
      ],
      "execution_count": null,
      "outputs": []
    },
    {
      "cell_type": "code",
      "metadata": {
        "id": "j6bLU9pB99re"
      },
      "source": [
        "teste = fornecedor['cnpj']\n",
        "print(teste)"
      ],
      "execution_count": null,
      "outputs": []
    },
    {
      "cell_type": "code",
      "metadata": {
        "id": "NzaCf_hpGdLQ"
      },
      "source": [
        "novo = fornecedor\n",
        "limite_credito = []"
      ],
      "execution_count": null,
      "outputs": []
    },
    {
      "cell_type": "code",
      "metadata": {
        "id": "HHGhE381B4Kc"
      },
      "source": [
        "for index, row in fornecedor.iterrows():\n",
        "    tata = (row['cnpj'])\n",
        "    limite_credito.append(tata)"
      ],
      "execution_count": null,
      "outputs": []
    },
    {
      "cell_type": "code",
      "metadata": {
        "colab": {
          "base_uri": "https://localhost:8080/"
        },
        "id": "X7L-Z2cTHdRf",
        "outputId": "2ab4f99b-5683-4353-a6ba-d7c4a4eeb2e9"
      },
      "source": [
        "limite_credito"
      ],
      "execution_count": null,
      "outputs": [
        {
          "data": {
            "text/plain": [
              "['04.641.376/0073-00',\n",
              " '49.930.514/0007-20',\n",
              " '19.714.252/0001-00',\n",
              " '19.714.252/0003-72',\n",
              " '18.107.045/0002-06',\n",
              " '28.481.219/0008-45',\n",
              " '04.737.552/0017-03',\n",
              " '05.455.270/0001-00',\n",
              " '17.190.802/0001-04',\n",
              " '04.737.552/0039-00']"
            ]
          },
          "execution_count": 7,
          "metadata": {},
          "output_type": "execute_result"
        }
      ]
    },
    {
      "cell_type": "code",
      "metadata": {
        "colab": {
          "base_uri": "https://localhost:8080/",
          "height": 355
        },
        "id": "QUGG0t9BfhF6",
        "outputId": "a90b5482-d201-4c52-a83c-29ac6dd2a7a6"
      },
      "source": [
        "novo = fornecedor\n",
        "novo['limte_credito'] = limite_credito\n",
        "novo\n"
      ],
      "execution_count": null,
      "outputs": [
        {
          "data": {
            "text/html": [
              "<div>\n",
              "<style scoped>\n",
              "    .dataframe tbody tr th:only-of-type {\n",
              "        vertical-align: middle;\n",
              "    }\n",
              "\n",
              "    .dataframe tbody tr th {\n",
              "        vertical-align: top;\n",
              "    }\n",
              "\n",
              "    .dataframe thead th {\n",
              "        text-align: right;\n",
              "    }\n",
              "</style>\n",
              "<table border=\"1\" class=\"dataframe\">\n",
              "  <thead>\n",
              "    <tr style=\"text-align: right;\">\n",
              "      <th></th>\n",
              "      <th>codigo</th>\n",
              "      <th>nome</th>\n",
              "      <th>cnpj</th>\n",
              "      <th>limte_credito</th>\n",
              "    </tr>\n",
              "  </thead>\n",
              "  <tbody>\n",
              "    <tr>\n",
              "      <th>0</th>\n",
              "      <td>15410</td>\n",
              "      <td>SUPERMERCADOS BH COMERCIO DE ALIMENTOS S/A</td>\n",
              "      <td>04.641.376/0073-00</td>\n",
              "      <td>04.641.376/0073-00</td>\n",
              "    </tr>\n",
              "    <tr>\n",
              "      <th>1</th>\n",
              "      <td>7910</td>\n",
              "      <td>SODEXO DO BRASIL COMERCIAL S.A.</td>\n",
              "      <td>49.930.514/0007-20</td>\n",
              "      <td>49.930.514/0007-20</td>\n",
              "    </tr>\n",
              "    <tr>\n",
              "      <th>2</th>\n",
              "      <td>675</td>\n",
              "      <td>ARMAZEM BRASIL LIMITADA</td>\n",
              "      <td>19.714.252/0001-00</td>\n",
              "      <td>19.714.252/0001-00</td>\n",
              "    </tr>\n",
              "    <tr>\n",
              "      <th>3</th>\n",
              "      <td>4445</td>\n",
              "      <td>ARMAZEM BRASIL LIMITADA</td>\n",
              "      <td>19.714.252/0003-72</td>\n",
              "      <td>19.714.252/0003-72</td>\n",
              "    </tr>\n",
              "    <tr>\n",
              "      <th>4</th>\n",
              "      <td>1324</td>\n",
              "      <td>ORGANIZACAO CEREAIS MONLEVADE LTDA</td>\n",
              "      <td>18.107.045/0002-06</td>\n",
              "      <td>18.107.045/0002-06</td>\n",
              "    </tr>\n",
              "    <tr>\n",
              "      <th>5</th>\n",
              "      <td>85768</td>\n",
              "      <td>FARID VAREJO</td>\n",
              "      <td>28.481.219/0008-45</td>\n",
              "      <td>28.481.219/0008-45</td>\n",
              "    </tr>\n",
              "    <tr>\n",
              "      <th>6</th>\n",
              "      <td>28341</td>\n",
              "      <td>MART MINAS DISTRIBUICAO LTDA</td>\n",
              "      <td>04.737.552/0017-03</td>\n",
              "      <td>04.737.552/0017-03</td>\n",
              "    </tr>\n",
              "    <tr>\n",
              "      <th>7</th>\n",
              "      <td>36888</td>\n",
              "      <td>SUPERMERCADO QUEBA LTDA</td>\n",
              "      <td>05.455.270/0001-00</td>\n",
              "      <td>05.455.270/0001-00</td>\n",
              "    </tr>\n",
              "    <tr>\n",
              "      <th>8</th>\n",
              "      <td>9900</td>\n",
              "      <td>COMERCIAL MEDEIROS LTDA - ME</td>\n",
              "      <td>17.190.802/0001-04</td>\n",
              "      <td>17.190.802/0001-04</td>\n",
              "    </tr>\n",
              "    <tr>\n",
              "      <th>9</th>\n",
              "      <td>84182</td>\n",
              "      <td>MART MINAS DISTRIBUICAO LTDA</td>\n",
              "      <td>04.737.552/0039-00</td>\n",
              "      <td>04.737.552/0039-00</td>\n",
              "    </tr>\n",
              "  </tbody>\n",
              "</table>\n",
              "</div>"
            ],
            "text/plain": [
              "   codigo  ...       limte_credito\n",
              "0   15410  ...  04.641.376/0073-00\n",
              "1    7910  ...  49.930.514/0007-20\n",
              "2     675  ...  19.714.252/0001-00\n",
              "3    4445  ...  19.714.252/0003-72\n",
              "4    1324  ...  18.107.045/0002-06\n",
              "5   85768  ...  28.481.219/0008-45\n",
              "6   28341  ...  04.737.552/0017-03\n",
              "7   36888  ...  05.455.270/0001-00\n",
              "8    9900  ...  17.190.802/0001-04\n",
              "9   84182  ...  04.737.552/0039-00\n",
              "\n",
              "[10 rows x 4 columns]"
            ]
          },
          "execution_count": 13,
          "metadata": {},
          "output_type": "execute_result"
        }
      ]
    },
    {
      "cell_type": "code",
      "metadata": {
        "colab": {
          "base_uri": "https://localhost:8080/"
        },
        "id": "h3mzwObkIN7Q",
        "outputId": "402e60fc-a62e-4e7f-86c3-28e5c0a39b2a"
      },
      "source": [
        "valor = 'R$ 17.460,00'\n",
        "valor.split()"
      ],
      "execution_count": null,
      "outputs": [
        {
          "data": {
            "text/plain": [
              "['R$', '17.460,00']"
            ]
          },
          "execution_count": 30,
          "metadata": {},
          "output_type": "execute_result"
        }
      ]
    },
    {
      "cell_type": "code",
      "metadata": {
        "colab": {
          "base_uri": "https://localhost:8080/"
        },
        "id": "YhvxDbIkJbSZ",
        "outputId": "42e2246e-9b5a-4305-fc10-66202dd7b126"
      },
      "source": [
        "real = valor.split('R$')\n",
        "real"
      ],
      "execution_count": null,
      "outputs": [
        {
          "data": {
            "text/plain": [
              "['', ' 17.460,00']"
            ]
          },
          "execution_count": 31,
          "metadata": {},
          "output_type": "execute_result"
        }
      ]
    },
    {
      "cell_type": "code",
      "metadata": {
        "colab": {
          "base_uri": "https://localhost:8080/",
          "height": 35
        },
        "id": "U0PrYhhZKhl5",
        "outputId": "96579ab2-4a1f-4a8c-e88c-6bdf2d4e751b"
      },
      "source": [
        "tata = real[1]\n",
        "tata"
      ],
      "execution_count": null,
      "outputs": [
        {
          "data": {
            "application/vnd.google.colaboratory.intrinsic+json": {
              "type": "string"
            },
            "text/plain": [
              "' 17.460,00'"
            ]
          },
          "execution_count": 32,
          "metadata": {},
          "output_type": "execute_result"
        }
      ]
    },
    {
      "cell_type": "code",
      "metadata": {
        "id": "TVnRPV6RIa_g"
      },
      "source": [
        "novo.to_csv('lista_atual.csv', sep=';')"
      ],
      "execution_count": null,
      "outputs": []
    },
    {
      "cell_type": "code",
      "metadata": {
        "id": "tduh0q4GAK-b"
      },
      "source": [
        "canal =  pd.read_csv('venda_canal.csv', sep= ';',  encoding = 'unicode_escape')"
      ],
      "execution_count": null,
      "outputs": []
    },
    {
      "cell_type": "code",
      "metadata": {
        "id": "F03YKJg8pQKr"
      },
      "source": [
        "canal = pd.read_excel('/content/Relatório de venda_testes.xlsx')"
      ],
      "execution_count": null,
      "outputs": []
    },
    {
      "cell_type": "code",
      "metadata": {
        "id": "Tp37R-33BVUN"
      },
      "source": [
        "canal"
      ],
      "execution_count": null,
      "outputs": []
    },
    {
      "cell_type": "code",
      "metadata": {
        "id": "y6stYjhuhNYw"
      },
      "source": [
        "canal_cliente = canal.loc[(canal.COD_CLIENTE == 37361)]"
      ],
      "execution_count": null,
      "outputs": []
    },
    {
      "cell_type": "code",
      "metadata": {
        "id": "PrRA41_Hh06y"
      },
      "source": [
        "canal_cliente"
      ],
      "execution_count": null,
      "outputs": []
    },
    {
      "cell_type": "code",
      "metadata": {
        "colab": {
          "base_uri": "https://localhost:8080/",
          "height": 35
        },
        "id": "vURIgjeO2xTA",
        "outputId": "5c6422b3-f75c-4e33-9c02-41a52b6c76bf"
      },
      "source": [
        "teste = canal.iloc[0]['CLIENTE']\n",
        "teste\n"
      ],
      "execution_count": null,
      "outputs": [
        {
          "data": {
            "application/vnd.google.colaboratory.intrinsic+json": {
              "type": "string"
            },
            "text/plain": [
              "' ANTARES COMERCIO DE ALIMENTOS EIRELI '"
            ]
          },
          "execution_count": 67,
          "metadata": {},
          "output_type": "execute_result"
        }
      ]
    },
    {
      "cell_type": "code",
      "metadata": {
        "colab": {
          "base_uri": "https://localhost:8080/",
          "height": 35
        },
        "id": "JoFgkwvyx2lb",
        "outputId": "caae5d4b-d04b-46b1-9157-5f0b304a51af"
      },
      "source": [
        "nome_cliente"
      ],
      "execution_count": null,
      "outputs": [
        {
          "data": {
            "application/vnd.google.colaboratory.intrinsic+json": {
              "type": "string"
            },
            "text/plain": [
              "'A & A RESTAURANTE E LANCHONETE LTDA'"
            ]
          },
          "execution_count": 23,
          "metadata": {},
          "output_type": "execute_result"
        }
      ]
    },
    {
      "cell_type": "code",
      "metadata": {
        "colab": {
          "base_uri": "https://localhost:8080/",
          "height": 35
        },
        "id": "agxRVJicxDDj",
        "outputId": "84007b8f-d9e9-4639-962f-0384fc717d90"
      },
      "source": [
        "nome_cliente"
      ],
      "execution_count": null,
      "outputs": [
        {
          "data": {
            "application/vnd.google.colaboratory.intrinsic+json": {
              "type": "string"
            },
            "text/plain": [
              "'A & A RESTAURANTE E LANCHONETE LTDA'"
            ]
          },
          "execution_count": 24,
          "metadata": {},
          "output_type": "execute_result"
        }
      ]
    },
    {
      "cell_type": "code",
      "metadata": {
        "colab": {
          "base_uri": "https://localhost:8080/"
        },
        "id": "ZaUCGt_6_oDt",
        "outputId": "55fcb83a-57e7-410e-dd32-e406a1ead04d"
      },
      "source": [
        "codigo_cliente"
      ],
      "execution_count": null,
      "outputs": [
        {
          "data": {
            "text/plain": [
              "37361"
            ]
          },
          "execution_count": 25,
          "metadata": {},
          "output_type": "execute_result"
        }
      ]
    },
    {
      "cell_type": "code",
      "metadata": {
        "colab": {
          "base_uri": "https://localhost:8080/",
          "height": 35
        },
        "id": "fVDm14Vk_rTd",
        "outputId": "0e28106a-bcfd-4348-a9f1-881ce638023b"
      },
      "source": [
        "nome_cliente"
      ],
      "execution_count": null,
      "outputs": [
        {
          "data": {
            "application/vnd.google.colaboratory.intrinsic+json": {
              "type": "string"
            },
            "text/plain": [
              "'A & A RESTAURANTE E LANCHONETE LTDA'"
            ]
          },
          "execution_count": 8,
          "metadata": {},
          "output_type": "execute_result"
        }
      ]
    },
    {
      "cell_type": "code",
      "metadata": {
        "colab": {
          "base_uri": "https://localhost:8080/",
          "height": 35
        },
        "id": "DsCBmQBZZ1Je",
        "outputId": "4196911d-4977-49aa-b232-67b397b968df"
      },
      "source": [
        "canal_cliente"
      ],
      "execution_count": null,
      "outputs": [
        {
          "data": {
            "application/vnd.google.colaboratory.intrinsic+json": {
              "type": "string"
            },
            "text/plain": [
              "''"
            ]
          },
          "execution_count": 31,
          "metadata": {},
          "output_type": "execute_result"
        }
      ]
    },
    {
      "cell_type": "code",
      "metadata": {
        "id": "Bx-xs8fG_vV4"
      },
      "source": [
        "lista_cliente"
      ],
      "execution_count": null,
      "outputs": []
    },
    {
      "cell_type": "code",
      "metadata": {
        "id": "4x0cWR62A1h7"
      },
      "source": [
        "lista_unica = list(set(lista_cliente))\n",
        "print (lista_unica)"
      ],
      "execution_count": null,
      "outputs": []
    },
    {
      "cell_type": "code",
      "metadata": {
        "id": "bMjw5Kn0ZQ3f"
      },
      "source": [
        "lista_canal"
      ],
      "execution_count": null,
      "outputs": []
    },
    {
      "cell_type": "code",
      "metadata": {
        "colab": {
          "base_uri": "https://localhost:8080/"
        },
        "id": "CfGY15AgZmVG",
        "outputId": "47a32234-a2f0-476b-fe21-4370290e8c1e"
      },
      "source": [
        "lista_unica_canal = list(set(lista_canal))\n",
        "print (lista_unica_canal)"
      ],
      "execution_count": null,
      "outputs": [
        {
          "name": "stdout",
          "output_type": "stream",
          "text": [
            "['PX CURIMBATA EVISC LCA  20KG', 'ASA CG AVENOVA ENV 18KG', 'EMP REZENDE STEAK FGO 72X100G', 'COPA LOMBO S/OSS CG COOPCARNE', 'LING SADELLE CALAB FININ 3X5KG', 'COX ASA CG BIG TEMP PT18KG', 'PX SURUBIM POST DIBON 15X700G', 'FRANGO CG FERREIRA 20KG', 'LEITE LV ITA INTEGRAL 12X1L', 'GALINHA CG SABORO PESADA 18KG', 'MACA PEITO CG CRUZ SUL 25KG', 'MUSSARELA ITAOCA', 'MANTEIGA ITAOCA C/SAL 500G', 'COXA/SC CG FRANCAP PT 20KG']\n"
          ]
        }
      ]
    },
    {
      "cell_type": "code",
      "metadata": {
        "colab": {
          "base_uri": "https://localhost:8080/"
        },
        "id": "HGvQ_m_waY1e",
        "outputId": "5f46f7de-3dba-46e7-c639-7906fab8a205"
      },
      "source": [
        "# comparar listas\n",
        "lista_final = list(set(lista_unica_canal) - set(lista_unica))\n",
        "print(lista_final)"
      ],
      "execution_count": null,
      "outputs": [
        {
          "name": "stdout",
          "output_type": "stream",
          "text": [
            "['ASA CG AVENOVA ENV 18KG', 'EMP REZENDE STEAK FGO 72X100G', 'LING SADELLE CALAB FININ 3X5KG', 'COX ASA CG BIG TEMP PT18KG', 'PX SURUBIM POST DIBON 15X700G', 'FRANGO CG FERREIRA 20KG', 'LEITE LV ITA INTEGRAL 12X1L', 'MACA PEITO CG CRUZ SUL 25KG', 'MUSSARELA ITAOCA', 'MANTEIGA ITAOCA C/SAL 500G']\n"
          ]
        }
      ]
    },
    {
      "cell_type": "code",
      "metadata": {
        "colab": {
          "base_uri": "https://localhost:8080/",
          "height": 35
        },
        "id": "00QT0pWq6RL0",
        "outputId": "48456f94-6b86-48bf-a85c-faffc5bf96fa"
      },
      "source": [
        "teste = lista_final[1]\n",
        "teste"
      ],
      "execution_count": null,
      "outputs": [
        {
          "data": {
            "application/vnd.google.colaboratory.intrinsic+json": {
              "type": "string"
            },
            "text/plain": [
              "'PX SURUBIM POST DIBON 15X700G'"
            ]
          },
          "execution_count": 13,
          "metadata": {},
          "output_type": "execute_result"
        }
      ]
    },
    {
      "cell_type": "code",
      "metadata": {
        "id": "gkiILwAzda-h"
      },
      "source": [
        "verde = \"\\033[0;32m\""
      ],
      "execution_count": null,
      "outputs": []
    },
    {
      "cell_type": "code",
      "metadata": {
        "colab": {
          "base_uri": "https://localhost:8080/"
        },
        "id": "LSai0ypJdekY",
        "outputId": "5ae0235b-e71a-45e7-e8b1-e98d3e9dcb4b"
      },
      "source": [
        "print('teste ' + verde)"
      ],
      "execution_count": null,
      "outputs": [
        {
          "name": "stdout",
          "output_type": "stream",
          "text": [
            "teste \u001b[0;32m\n"
          ]
        }
      ]
    },
    {
      "cell_type": "code",
      "metadata": {
        "colab": {
          "base_uri": "https://localhost:8080/"
        },
        "id": "OTswnNog5Goy",
        "outputId": "707ea4cb-c19f-4f0b-898f-e7d357a6a194"
      },
      "source": [
        "print( type(lista_cliente) )"
      ],
      "execution_count": null,
      "outputs": [
        {
          "name": "stdout",
          "output_type": "stream",
          "text": [
            "<class 'list'>\n"
          ]
        }
      ]
    },
    {
      "cell_type": "code",
      "metadata": {
        "id": "2RkbxYKTbcr7"
      },
      "source": [
        "# comparar listas\n",
        "lista_final = list(set(lista_unica_canal) - set(lista_unica))\n",
        "lista_final"
      ],
      "execution_count": null,
      "outputs": []
    },
    {
      "cell_type": "code",
      "metadata": {
        "colab": {
          "base_uri": "https://localhost:8080/"
        },
        "id": "XMHJzXCEnaXQ",
        "outputId": "6aedf42d-f61d-40f4-b6b6-a641f0054414"
      },
      "source": [
        "lista_unica"
      ],
      "execution_count": null,
      "outputs": [
        {
          "data": {
            "text/plain": [
              "['MUSSARELA ITAOCA']"
            ]
          },
          "execution_count": 144,
          "metadata": {},
          "output_type": "execute_result"
        }
      ]
    },
    {
      "cell_type": "code",
      "metadata": {
        "id": "0FuiZuLiBLMI"
      },
      "source": [
        "lista_unica_canal"
      ],
      "execution_count": null,
      "outputs": []
    },
    {
      "cell_type": "code",
      "metadata": {
        "id": "QpQ8toLGrB3k"
      },
      "source": [
        "canal =  pd.read_csv('vendas_canal_grupo.csv', sep= ';',  encoding = 'unicode_escape')"
      ],
      "execution_count": null,
      "outputs": []
    },
    {
      "cell_type": "code",
      "metadata": {
        "colab": {
          "base_uri": "https://localhost:8080/",
          "height": 881
        },
        "id": "Zx9r_3PsrWo6",
        "outputId": "ca6b0ef8-a82c-418c-8111-bda258b26333"
      },
      "source": [
        "canal"
      ],
      "execution_count": null,
      "outputs": [
        {
          "data": {
            "text/html": [
              "<div>\n",
              "<style scoped>\n",
              "    .dataframe tbody tr th:only-of-type {\n",
              "        vertical-align: middle;\n",
              "    }\n",
              "\n",
              "    .dataframe tbody tr th {\n",
              "        vertical-align: top;\n",
              "    }\n",
              "\n",
              "    .dataframe thead th {\n",
              "        text-align: right;\n",
              "    }\n",
              "</style>\n",
              "<table border=\"1\" class=\"dataframe\">\n",
              "  <thead>\n",
              "    <tr style=\"text-align: right;\">\n",
              "      <th></th>\n",
              "      <th>DATA</th>\n",
              "      <th>COD_CLIENTE</th>\n",
              "      <th>CLIENTE</th>\n",
              "      <th>COD_VENDEDOR</th>\n",
              "      <th>CANAL</th>\n",
              "      <th>COD_PRODUTO</th>\n",
              "      <th>PRODUTO</th>\n",
              "      <th>GRUPO_DE_PRODUTO</th>\n",
              "      <th>Unnamed: 8</th>\n",
              "    </tr>\n",
              "  </thead>\n",
              "  <tbody>\n",
              "    <tr>\n",
              "      <th>0</th>\n",
              "      <td>04/08/2021</td>\n",
              "      <td>3631</td>\n",
              "      <td>SUPERMERCADO FERREIRA E MATEUS LTDA</td>\n",
              "      <td>24</td>\n",
              "      <td>AUTO-SERVICO 5 A 9 CHECK-OUT</td>\n",
              "      <td>99003</td>\n",
              "      <td>EMP SEARA TEKITOS PT 5X1KG VLA</td>\n",
              "      <td>EMPANADOS GRANEL SEARA (VLA)</td>\n",
              "      <td>NaN</td>\n",
              "    </tr>\n",
              "    <tr>\n",
              "      <th>1</th>\n",
              "      <td>04/08/2021</td>\n",
              "      <td>784</td>\n",
              "      <td>CONSUMIDOR FINAL</td>\n",
              "      <td>1</td>\n",
              "      <td>BARES / LANCHONETES / CANTINAS</td>\n",
              "      <td>77011</td>\n",
              "      <td>KINDER BUENO WHITE T2X30 39G</td>\n",
              "      <td>KINDER BUENO</td>\n",
              "      <td>NaN</td>\n",
              "    </tr>\n",
              "    <tr>\n",
              "      <th>2</th>\n",
              "      <td>04/08/2021</td>\n",
              "      <td>784</td>\n",
              "      <td>CONSUMIDOR FINAL</td>\n",
              "      <td>1</td>\n",
              "      <td>BARES / LANCHONETES / CANTINAS</td>\n",
              "      <td>77017</td>\n",
              "      <td>KINDER BUENO T2X30</td>\n",
              "      <td>KINDER BUENO</td>\n",
              "      <td>NaN</td>\n",
              "    </tr>\n",
              "    <tr>\n",
              "      <th>3</th>\n",
              "      <td>04/08/2021</td>\n",
              "      <td>784</td>\n",
              "      <td>CONSUMIDOR FINAL</td>\n",
              "      <td>1</td>\n",
              "      <td>BARES / LANCHONETES / CANTINAS</td>\n",
              "      <td>78169</td>\n",
              "      <td>LING REZEND CALAB GROSS 6X2,5K</td>\n",
              "      <td>LING CALAB GRANEL SEARA (MIS)</td>\n",
              "      <td>NaN</td>\n",
              "    </tr>\n",
              "    <tr>\n",
              "      <th>4</th>\n",
              "      <td>04/08/2021</td>\n",
              "      <td>784</td>\n",
              "      <td>CONSUMIDOR FINAL</td>\n",
              "      <td>1</td>\n",
              "      <td>BARES / LANCHONETES / CANTINAS</td>\n",
              "      <td>77011</td>\n",
              "      <td>KINDER BUENO WHITE T2X30 39G</td>\n",
              "      <td>KINDER BUENO</td>\n",
              "      <td>NaN</td>\n",
              "    </tr>\n",
              "    <tr>\n",
              "      <th>...</th>\n",
              "      <td>...</td>\n",
              "      <td>...</td>\n",
              "      <td>...</td>\n",
              "      <td>...</td>\n",
              "      <td>...</td>\n",
              "      <td>...</td>\n",
              "      <td>...</td>\n",
              "      <td>...</td>\n",
              "      <td>...</td>\n",
              "    </tr>\n",
              "    <tr>\n",
              "      <th>217900</th>\n",
              "      <td>04/11/2021</td>\n",
              "      <td>86531</td>\n",
              "      <td>GEORGE VIEIRA SINDRA 10790343665</td>\n",
              "      <td>25</td>\n",
              "      <td>BARES / LANCHONETES / CANTINAS</td>\n",
              "      <td>77011</td>\n",
              "      <td>KINDER BUENO WHITE T2X30 39G</td>\n",
              "      <td>KINDER BUENO</td>\n",
              "      <td>NaN</td>\n",
              "    </tr>\n",
              "    <tr>\n",
              "      <th>217901</th>\n",
              "      <td>04/11/2021</td>\n",
              "      <td>86531</td>\n",
              "      <td>GEORGE VIEIRA SINDRA 10790343665</td>\n",
              "      <td>25</td>\n",
              "      <td>BARES / LANCHONETES / CANTINAS</td>\n",
              "      <td>1012</td>\n",
              "      <td>F PEITO CG BIG MET PT 18KG</td>\n",
              "      <td>FILE DE PEITO FRANGO CG (INC)</td>\n",
              "      <td>NaN</td>\n",
              "    </tr>\n",
              "    <tr>\n",
              "      <th>217902</th>\n",
              "      <td>04/11/2021</td>\n",
              "      <td>1953</td>\n",
              "      <td>CID'S BAR LTDA</td>\n",
              "      <td>25</td>\n",
              "      <td>RESTAURANTES E CHURRASCARIAS</td>\n",
              "      <td>1012</td>\n",
              "      <td>F PEITO CG BIG MET PT 18KG</td>\n",
              "      <td>FILE DE PEITO FRANGO CG (INC)</td>\n",
              "      <td>NaN</td>\n",
              "    </tr>\n",
              "    <tr>\n",
              "      <th>217903</th>\n",
              "      <td>04/11/2021</td>\n",
              "      <td>1953</td>\n",
              "      <td>CID'S BAR LTDA</td>\n",
              "      <td>25</td>\n",
              "      <td>RESTAURANTES E CHURRASCARIAS</td>\n",
              "      <td>6459</td>\n",
              "      <td>BACON SEARA MANTA 4X4,00 16KG</td>\n",
              "      <td>BACON SEARA GRANEL (MIS)</td>\n",
              "      <td>NaN</td>\n",
              "    </tr>\n",
              "    <tr>\n",
              "      <th>217904</th>\n",
              "      <td>04/11/2021</td>\n",
              "      <td>8176</td>\n",
              "      <td>LANCHOPP E ROTISSERIA BOM COMER LTDA - ME</td>\n",
              "      <td>25</td>\n",
              "      <td>RESTAURANTES E CHURRASCARIAS</td>\n",
              "      <td>6459</td>\n",
              "      <td>BACON SEARA MANTA 4X4,00 16KG</td>\n",
              "      <td>BACON SEARA GRANEL (MIS)</td>\n",
              "      <td>NaN</td>\n",
              "    </tr>\n",
              "  </tbody>\n",
              "</table>\n",
              "<p>217905 rows × 9 columns</p>\n",
              "</div>"
            ],
            "text/plain": [
              "              DATA  COD_CLIENTE  ...               GRUPO_DE_PRODUTO  Unnamed: 8\n",
              "0       04/08/2021         3631  ...   EMPANADOS GRANEL SEARA (VLA)         NaN\n",
              "1       04/08/2021          784  ...                   KINDER BUENO         NaN\n",
              "2       04/08/2021          784  ...                   KINDER BUENO         NaN\n",
              "3       04/08/2021          784  ...  LING CALAB GRANEL SEARA (MIS)         NaN\n",
              "4       04/08/2021          784  ...                   KINDER BUENO         NaN\n",
              "...            ...          ...  ...                            ...         ...\n",
              "217900  04/11/2021        86531  ...                   KINDER BUENO         NaN\n",
              "217901  04/11/2021        86531  ...  FILE DE PEITO FRANGO CG (INC)         NaN\n",
              "217902  04/11/2021         1953  ...  FILE DE PEITO FRANGO CG (INC)         NaN\n",
              "217903  04/11/2021         1953  ...       BACON SEARA GRANEL (MIS)         NaN\n",
              "217904  04/11/2021         8176  ...       BACON SEARA GRANEL (MIS)         NaN\n",
              "\n",
              "[217905 rows x 9 columns]"
            ]
          },
          "execution_count": 4,
          "metadata": {},
          "output_type": "execute_result"
        }
      ]
    },
    {
      "cell_type": "code",
      "metadata": {
        "id": "BIukCkx4rqpg"
      },
      "source": [
        "canal_teste = canal.loc[(canal.COD_CLIENTE == 6404)]"
      ],
      "execution_count": null,
      "outputs": []
    },
    {
      "cell_type": "code",
      "metadata": {
        "colab": {
          "base_uri": "https://localhost:8080/",
          "height": 448
        },
        "id": "hnfMhcdPt6sl",
        "outputId": "963c52ae-cc89-4d7c-b645-3bc0fb241511"
      },
      "source": [
        "canal_teste"
      ],
      "execution_count": null,
      "outputs": [
        {
          "data": {
            "text/html": [
              "<div>\n",
              "<style scoped>\n",
              "    .dataframe tbody tr th:only-of-type {\n",
              "        vertical-align: middle;\n",
              "    }\n",
              "\n",
              "    .dataframe tbody tr th {\n",
              "        vertical-align: top;\n",
              "    }\n",
              "\n",
              "    .dataframe thead th {\n",
              "        text-align: right;\n",
              "    }\n",
              "</style>\n",
              "<table border=\"1\" class=\"dataframe\">\n",
              "  <thead>\n",
              "    <tr style=\"text-align: right;\">\n",
              "      <th></th>\n",
              "      <th>DATA</th>\n",
              "      <th>COD_CLIENTE</th>\n",
              "      <th>CLIENTE</th>\n",
              "      <th>COD_VENDEDOR</th>\n",
              "      <th>CANAL</th>\n",
              "      <th>COD_PRODUTO</th>\n",
              "      <th>PRODUTO</th>\n",
              "      <th>GRUPO_DE_PRODUTO</th>\n",
              "      <th>Unnamed: 8</th>\n",
              "    </tr>\n",
              "  </thead>\n",
              "  <tbody>\n",
              "    <tr>\n",
              "      <th>25399</th>\n",
              "      <td>12/08/2021</td>\n",
              "      <td>6404</td>\n",
              "      <td>SUPERMERCADO JOAO NOGUEIRA LTDA</td>\n",
              "      <td>585</td>\n",
              "      <td>BARES / LANCHONETES / CANTINAS</td>\n",
              "      <td>2800</td>\n",
              "      <td>MUSSARELA ITAOCA</td>\n",
              "      <td>MUSSARELA</td>\n",
              "      <td>NaN</td>\n",
              "    </tr>\n",
              "    <tr>\n",
              "      <th>44272</th>\n",
              "      <td>20/08/2021</td>\n",
              "      <td>6404</td>\n",
              "      <td>SUPERMERCADO JOAO NOGUEIRA LTDA</td>\n",
              "      <td>585</td>\n",
              "      <td>BARES / LANCHONETES / CANTINAS</td>\n",
              "      <td>2800</td>\n",
              "      <td>MUSSARELA ITAOCA</td>\n",
              "      <td>MUSSARELA</td>\n",
              "      <td>NaN</td>\n",
              "    </tr>\n",
              "    <tr>\n",
              "      <th>58648</th>\n",
              "      <td>26/08/2021</td>\n",
              "      <td>6404</td>\n",
              "      <td>SUPERMERCADO JOAO NOGUEIRA LTDA</td>\n",
              "      <td>585</td>\n",
              "      <td>BARES / LANCHONETES / CANTINAS</td>\n",
              "      <td>2800</td>\n",
              "      <td>MUSSARELA ITAOCA</td>\n",
              "      <td>MUSSARELA</td>\n",
              "      <td>NaN</td>\n",
              "    </tr>\n",
              "    <tr>\n",
              "      <th>82799</th>\n",
              "      <td>08/09/2021</td>\n",
              "      <td>6404</td>\n",
              "      <td>SUPERMERCADO JOAO NOGUEIRA LTDA</td>\n",
              "      <td>585</td>\n",
              "      <td>BARES / LANCHONETES / CANTINAS</td>\n",
              "      <td>2800</td>\n",
              "      <td>MUSSARELA ITAOCA</td>\n",
              "      <td>MUSSARELA</td>\n",
              "      <td>NaN</td>\n",
              "    </tr>\n",
              "    <tr>\n",
              "      <th>106750</th>\n",
              "      <td>17/09/2021</td>\n",
              "      <td>6404</td>\n",
              "      <td>SUPERMERCADO JOAO NOGUEIRA LTDA</td>\n",
              "      <td>585</td>\n",
              "      <td>BARES / LANCHONETES / CANTINAS</td>\n",
              "      <td>2800</td>\n",
              "      <td>MUSSARELA ITAOCA</td>\n",
              "      <td>MUSSARELA</td>\n",
              "      <td>NaN</td>\n",
              "    </tr>\n",
              "    <tr>\n",
              "      <th>184751</th>\n",
              "      <td>21/10/2021</td>\n",
              "      <td>6404</td>\n",
              "      <td>SUPERMERCADO JOAO NOGUEIRA LTDA</td>\n",
              "      <td>585</td>\n",
              "      <td>BARES / LANCHONETES / CANTINAS</td>\n",
              "      <td>2800</td>\n",
              "      <td>MUSSARELA ITAOCA</td>\n",
              "      <td>MUSSARELA</td>\n",
              "      <td>NaN</td>\n",
              "    </tr>\n",
              "  </tbody>\n",
              "</table>\n",
              "</div>"
            ],
            "text/plain": [
              "              DATA  COD_CLIENTE  ... GRUPO_DE_PRODUTO  Unnamed: 8\n",
              "25399   12/08/2021         6404  ...        MUSSARELA         NaN\n",
              "44272   20/08/2021         6404  ...        MUSSARELA         NaN\n",
              "58648   26/08/2021         6404  ...        MUSSARELA         NaN\n",
              "82799   08/09/2021         6404  ...        MUSSARELA         NaN\n",
              "106750  17/09/2021         6404  ...        MUSSARELA         NaN\n",
              "184751  21/10/2021         6404  ...        MUSSARELA         NaN\n",
              "\n",
              "[6 rows x 9 columns]"
            ]
          },
          "execution_count": 23,
          "metadata": {},
          "output_type": "execute_result"
        }
      ]
    },
    {
      "cell_type": "code",
      "metadata": {
        "colab": {
          "base_uri": "https://localhost:8080/",
          "height": 391
        },
        "id": "DAO_ydqqv4jx",
        "outputId": "635ed21a-808e-487b-c4ed-ecb508efb841"
      },
      "source": [
        "canal.query('COD_CLIENTE == 6404').head()"
      ],
      "execution_count": null,
      "outputs": [
        {
          "data": {
            "text/html": [
              "<div>\n",
              "<style scoped>\n",
              "    .dataframe tbody tr th:only-of-type {\n",
              "        vertical-align: middle;\n",
              "    }\n",
              "\n",
              "    .dataframe tbody tr th {\n",
              "        vertical-align: top;\n",
              "    }\n",
              "\n",
              "    .dataframe thead th {\n",
              "        text-align: right;\n",
              "    }\n",
              "</style>\n",
              "<table border=\"1\" class=\"dataframe\">\n",
              "  <thead>\n",
              "    <tr style=\"text-align: right;\">\n",
              "      <th></th>\n",
              "      <th>DATA</th>\n",
              "      <th>COD_CLIENTE</th>\n",
              "      <th>CLIENTE</th>\n",
              "      <th>COD_VENDEDOR</th>\n",
              "      <th>CANAL</th>\n",
              "      <th>COD_PRODUTO</th>\n",
              "      <th>PRODUTO</th>\n",
              "      <th>Unnamed: 7</th>\n",
              "    </tr>\n",
              "  </thead>\n",
              "  <tbody>\n",
              "    <tr>\n",
              "      <th>2</th>\n",
              "      <td>01/08/2021</td>\n",
              "      <td>6404</td>\n",
              "      <td>SUPERMERCADO JOAO NOGUEIRA LTDA</td>\n",
              "      <td>585</td>\n",
              "      <td>BARES / LANCHONETES / CANTINAS</td>\n",
              "      <td>2800</td>\n",
              "      <td>MUSSARELA ITAOCA</td>\n",
              "      <td>NaN</td>\n",
              "    </tr>\n",
              "    <tr>\n",
              "      <th>27794</th>\n",
              "      <td>12/08/2021</td>\n",
              "      <td>6404</td>\n",
              "      <td>SUPERMERCADO JOAO NOGUEIRA LTDA</td>\n",
              "      <td>585</td>\n",
              "      <td>BARES / LANCHONETES / CANTINAS</td>\n",
              "      <td>2800</td>\n",
              "      <td>MUSSARELA ITAOCA</td>\n",
              "      <td>NaN</td>\n",
              "    </tr>\n",
              "    <tr>\n",
              "      <th>46667</th>\n",
              "      <td>20/08/2021</td>\n",
              "      <td>6404</td>\n",
              "      <td>SUPERMERCADO JOAO NOGUEIRA LTDA</td>\n",
              "      <td>585</td>\n",
              "      <td>BARES / LANCHONETES / CANTINAS</td>\n",
              "      <td>2800</td>\n",
              "      <td>MUSSARELA ITAOCA</td>\n",
              "      <td>NaN</td>\n",
              "    </tr>\n",
              "    <tr>\n",
              "      <th>61043</th>\n",
              "      <td>26/08/2021</td>\n",
              "      <td>6404</td>\n",
              "      <td>SUPERMERCADO JOAO NOGUEIRA LTDA</td>\n",
              "      <td>585</td>\n",
              "      <td>BARES / LANCHONETES / CANTINAS</td>\n",
              "      <td>2800</td>\n",
              "      <td>MUSSARELA ITAOCA</td>\n",
              "      <td>NaN</td>\n",
              "    </tr>\n",
              "    <tr>\n",
              "      <th>85194</th>\n",
              "      <td>08/09/2021</td>\n",
              "      <td>6404</td>\n",
              "      <td>SUPERMERCADO JOAO NOGUEIRA LTDA</td>\n",
              "      <td>585</td>\n",
              "      <td>BARES / LANCHONETES / CANTINAS</td>\n",
              "      <td>2800</td>\n",
              "      <td>MUSSARELA ITAOCA</td>\n",
              "      <td>NaN</td>\n",
              "    </tr>\n",
              "  </tbody>\n",
              "</table>\n",
              "</div>"
            ],
            "text/plain": [
              "             DATA  COD_CLIENTE  ...           PRODUTO  Unnamed: 7\n",
              "2      01/08/2021         6404  ...  MUSSARELA ITAOCA         NaN\n",
              "27794  12/08/2021         6404  ...  MUSSARELA ITAOCA         NaN\n",
              "46667  20/08/2021         6404  ...  MUSSARELA ITAOCA         NaN\n",
              "61043  26/08/2021         6404  ...  MUSSARELA ITAOCA         NaN\n",
              "85194  08/09/2021         6404  ...  MUSSARELA ITAOCA         NaN\n",
              "\n",
              "[5 rows x 8 columns]"
            ]
          },
          "execution_count": 23,
          "metadata": {},
          "output_type": "execute_result"
        }
      ]
    },
    {
      "cell_type": "code",
      "metadata": {
        "id": "kDTbqL_QwoEw"
      },
      "source": [
        "canal_cliente = canal_teste.iloc[0]['CANAL']"
      ],
      "execution_count": null,
      "outputs": []
    },
    {
      "cell_type": "code",
      "metadata": {
        "colab": {
          "base_uri": "https://localhost:8080/",
          "height": 35
        },
        "id": "OffJJa1ww18H",
        "outputId": "9b83d48b-edac-4307-e5bb-f6abb11021f3"
      },
      "source": [
        "canal_cliente"
      ],
      "execution_count": null,
      "outputs": [
        {
          "data": {
            "application/vnd.google.colaboratory.intrinsic+json": {
              "type": "string"
            },
            "text/plain": [
              "'BARES / LANCHONETES / CANTINAS'"
            ]
          },
          "execution_count": 25,
          "metadata": {},
          "output_type": "execute_result"
        }
      ]
    },
    {
      "cell_type": "code",
      "metadata": {
        "colab": {
          "base_uri": "https://localhost:8080/",
          "height": 35
        },
        "id": "EL9qkpzcxz-Z",
        "outputId": "ec65f6e8-cc08-434a-cdce-9a1a32407a15"
      },
      "source": [
        "canal_cliente"
      ],
      "execution_count": null,
      "outputs": [
        {
          "data": {
            "application/vnd.google.colaboratory.intrinsic+json": {
              "type": "string"
            },
            "text/plain": [
              "'BARES / LANCHONETES / CANTINAS'"
            ]
          },
          "execution_count": 26,
          "metadata": {},
          "output_type": "execute_result"
        }
      ]
    },
    {
      "cell_type": "code",
      "metadata": {
        "id": "1VSDU_7IxXXg"
      },
      "source": [
        "canal_geral = canal.loc[(canal.CANAL == canal_cliente)]"
      ],
      "execution_count": null,
      "outputs": []
    },
    {
      "cell_type": "code",
      "metadata": {
        "colab": {
          "base_uri": "https://localhost:8080/",
          "height": 764
        },
        "id": "259FUSxWxowE",
        "outputId": "861123dc-a65c-40c7-ae3f-4672b6a97c41"
      },
      "source": [
        "canal_geral"
      ],
      "execution_count": null,
      "outputs": [
        {
          "data": {
            "text/html": [
              "<div>\n",
              "<style scoped>\n",
              "    .dataframe tbody tr th:only-of-type {\n",
              "        vertical-align: middle;\n",
              "    }\n",
              "\n",
              "    .dataframe tbody tr th {\n",
              "        vertical-align: top;\n",
              "    }\n",
              "\n",
              "    .dataframe thead th {\n",
              "        text-align: right;\n",
              "    }\n",
              "</style>\n",
              "<table border=\"1\" class=\"dataframe\">\n",
              "  <thead>\n",
              "    <tr style=\"text-align: right;\">\n",
              "      <th></th>\n",
              "      <th>DATA</th>\n",
              "      <th>COD_CLIENTE</th>\n",
              "      <th>CLIENTE</th>\n",
              "      <th>COD_VENDEDOR</th>\n",
              "      <th>CANAL</th>\n",
              "      <th>COD_PRODUTO</th>\n",
              "      <th>PRODUTO</th>\n",
              "      <th>GRUPO_DE_PRODUTO</th>\n",
              "      <th>Unnamed: 8</th>\n",
              "    </tr>\n",
              "  </thead>\n",
              "  <tbody>\n",
              "    <tr>\n",
              "      <th>1</th>\n",
              "      <td>04/08/2021</td>\n",
              "      <td>784</td>\n",
              "      <td>CONSUMIDOR FINAL</td>\n",
              "      <td>1</td>\n",
              "      <td>BARES / LANCHONETES / CANTINAS</td>\n",
              "      <td>77011</td>\n",
              "      <td>KINDER BUENO WHITE T2X30 39G</td>\n",
              "      <td>KINDER BUENO</td>\n",
              "      <td>NaN</td>\n",
              "    </tr>\n",
              "    <tr>\n",
              "      <th>2</th>\n",
              "      <td>04/08/2021</td>\n",
              "      <td>784</td>\n",
              "      <td>CONSUMIDOR FINAL</td>\n",
              "      <td>1</td>\n",
              "      <td>BARES / LANCHONETES / CANTINAS</td>\n",
              "      <td>77017</td>\n",
              "      <td>KINDER BUENO T2X30</td>\n",
              "      <td>KINDER BUENO</td>\n",
              "      <td>NaN</td>\n",
              "    </tr>\n",
              "    <tr>\n",
              "      <th>3</th>\n",
              "      <td>04/08/2021</td>\n",
              "      <td>784</td>\n",
              "      <td>CONSUMIDOR FINAL</td>\n",
              "      <td>1</td>\n",
              "      <td>BARES / LANCHONETES / CANTINAS</td>\n",
              "      <td>78169</td>\n",
              "      <td>LING REZEND CALAB GROSS 6X2,5K</td>\n",
              "      <td>LING CALAB GRANEL SEARA (MIS)</td>\n",
              "      <td>NaN</td>\n",
              "    </tr>\n",
              "    <tr>\n",
              "      <th>4</th>\n",
              "      <td>04/08/2021</td>\n",
              "      <td>784</td>\n",
              "      <td>CONSUMIDOR FINAL</td>\n",
              "      <td>1</td>\n",
              "      <td>BARES / LANCHONETES / CANTINAS</td>\n",
              "      <td>77011</td>\n",
              "      <td>KINDER BUENO WHITE T2X30 39G</td>\n",
              "      <td>KINDER BUENO</td>\n",
              "      <td>NaN</td>\n",
              "    </tr>\n",
              "    <tr>\n",
              "      <th>32</th>\n",
              "      <td>04/08/2021</td>\n",
              "      <td>784</td>\n",
              "      <td>CONSUMIDOR FINAL</td>\n",
              "      <td>1</td>\n",
              "      <td>BARES / LANCHONETES / CANTINAS</td>\n",
              "      <td>77011</td>\n",
              "      <td>KINDER BUENO WHITE T2X30 39G</td>\n",
              "      <td>KINDER BUENO</td>\n",
              "      <td>NaN</td>\n",
              "    </tr>\n",
              "    <tr>\n",
              "      <th>...</th>\n",
              "      <td>...</td>\n",
              "      <td>...</td>\n",
              "      <td>...</td>\n",
              "      <td>...</td>\n",
              "      <td>...</td>\n",
              "      <td>...</td>\n",
              "      <td>...</td>\n",
              "      <td>...</td>\n",
              "      <td>...</td>\n",
              "    </tr>\n",
              "    <tr>\n",
              "      <th>217897</th>\n",
              "      <td>04/11/2021</td>\n",
              "      <td>86531</td>\n",
              "      <td>GEORGE VIEIRA SINDRA 10790343665</td>\n",
              "      <td>25</td>\n",
              "      <td>BARES / LANCHONETES / CANTINAS</td>\n",
              "      <td>77520</td>\n",
              "      <td>KINDER OVO T1X12 NATOONS</td>\n",
              "      <td>KINDER OVO</td>\n",
              "      <td>NaN</td>\n",
              "    </tr>\n",
              "    <tr>\n",
              "      <th>217898</th>\n",
              "      <td>04/11/2021</td>\n",
              "      <td>86531</td>\n",
              "      <td>GEORGE VIEIRA SINDRA 10790343665</td>\n",
              "      <td>25</td>\n",
              "      <td>BARES / LANCHONETES / CANTINAS</td>\n",
              "      <td>77159</td>\n",
              "      <td>KINDER JOY T1X16</td>\n",
              "      <td>KINDER JOY</td>\n",
              "      <td>NaN</td>\n",
              "    </tr>\n",
              "    <tr>\n",
              "      <th>217899</th>\n",
              "      <td>04/11/2021</td>\n",
              "      <td>86531</td>\n",
              "      <td>GEORGE VIEIRA SINDRA 10790343665</td>\n",
              "      <td>25</td>\n",
              "      <td>BARES / LANCHONETES / CANTINAS</td>\n",
              "      <td>99328</td>\n",
              "      <td>MUSSARELA ITA</td>\n",
              "      <td>MUSSARELA</td>\n",
              "      <td>NaN</td>\n",
              "    </tr>\n",
              "    <tr>\n",
              "      <th>217900</th>\n",
              "      <td>04/11/2021</td>\n",
              "      <td>86531</td>\n",
              "      <td>GEORGE VIEIRA SINDRA 10790343665</td>\n",
              "      <td>25</td>\n",
              "      <td>BARES / LANCHONETES / CANTINAS</td>\n",
              "      <td>77011</td>\n",
              "      <td>KINDER BUENO WHITE T2X30 39G</td>\n",
              "      <td>KINDER BUENO</td>\n",
              "      <td>NaN</td>\n",
              "    </tr>\n",
              "    <tr>\n",
              "      <th>217901</th>\n",
              "      <td>04/11/2021</td>\n",
              "      <td>86531</td>\n",
              "      <td>GEORGE VIEIRA SINDRA 10790343665</td>\n",
              "      <td>25</td>\n",
              "      <td>BARES / LANCHONETES / CANTINAS</td>\n",
              "      <td>1012</td>\n",
              "      <td>F PEITO CG BIG MET PT 18KG</td>\n",
              "      <td>FILE DE PEITO FRANGO CG (INC)</td>\n",
              "      <td>NaN</td>\n",
              "    </tr>\n",
              "  </tbody>\n",
              "</table>\n",
              "<p>29426 rows × 9 columns</p>\n",
              "</div>"
            ],
            "text/plain": [
              "              DATA  COD_CLIENTE  ...               GRUPO_DE_PRODUTO  Unnamed: 8\n",
              "1       04/08/2021          784  ...                   KINDER BUENO         NaN\n",
              "2       04/08/2021          784  ...                   KINDER BUENO         NaN\n",
              "3       04/08/2021          784  ...  LING CALAB GRANEL SEARA (MIS)         NaN\n",
              "4       04/08/2021          784  ...                   KINDER BUENO         NaN\n",
              "32      04/08/2021          784  ...                   KINDER BUENO         NaN\n",
              "...            ...          ...  ...                            ...         ...\n",
              "217897  04/11/2021        86531  ...                     KINDER OVO         NaN\n",
              "217898  04/11/2021        86531  ...                     KINDER JOY         NaN\n",
              "217899  04/11/2021        86531  ...                      MUSSARELA         NaN\n",
              "217900  04/11/2021        86531  ...                   KINDER BUENO         NaN\n",
              "217901  04/11/2021        86531  ...  FILE DE PEITO FRANGO CG (INC)         NaN\n",
              "\n",
              "[29426 rows x 9 columns]"
            ]
          },
          "execution_count": 52,
          "metadata": {},
          "output_type": "execute_result"
        }
      ]
    },
    {
      "cell_type": "code",
      "metadata": {
        "colab": {
          "base_uri": "https://localhost:8080/"
        },
        "id": "-29YDNcLzPaw",
        "outputId": "c63194b1-85d4-47b4-b273-71fab9f5413f"
      },
      "source": [
        "print( type(canal_geral) )"
      ],
      "execution_count": null,
      "outputs": [
        {
          "name": "stdout",
          "output_type": "stream",
          "text": [
            "<class 'pandas.core.frame.DataFrame'>\n"
          ]
        }
      ]
    },
    {
      "cell_type": "code",
      "metadata": {
        "id": "YWpSKLqwzt2k"
      },
      "source": [
        "lista_cliente = canal_teste['PRODUTO'].tolist()"
      ],
      "execution_count": null,
      "outputs": []
    },
    {
      "cell_type": "code",
      "metadata": {
        "colab": {
          "base_uri": "https://localhost:8080/"
        },
        "id": "bODJC37f0a8D",
        "outputId": "f8083551-bf0d-4cf3-839a-9da412cdb4f5"
      },
      "source": [
        "print( type(lista_cliente) )"
      ],
      "execution_count": null,
      "outputs": [
        {
          "name": "stdout",
          "output_type": "stream",
          "text": [
            "<class 'list'>\n"
          ]
        }
      ]
    },
    {
      "cell_type": "code",
      "metadata": {
        "colab": {
          "base_uri": "https://localhost:8080/"
        },
        "id": "slgwLEfI5o9v",
        "outputId": "7b5b7a62-f0a2-423a-f226-d95fc25e48c2"
      },
      "source": [
        "lista_cliente"
      ],
      "execution_count": null,
      "outputs": [
        {
          "data": {
            "text/plain": [
              "['MUSSARELA ITAOCA',\n",
              " 'MUSSARELA ITAOCA',\n",
              " 'MUSSARELA ITAOCA',\n",
              " 'MUSSARELA ITAOCA',\n",
              " 'MUSSARELA ITAOCA',\n",
              " 'MUSSARELA ITAOCA',\n",
              " 'MUSSARELA ITAOCA']"
            ]
          },
          "execution_count": 81,
          "metadata": {},
          "output_type": "execute_result"
        }
      ]
    },
    {
      "cell_type": "code",
      "metadata": {
        "id": "h5IcxKe90e2t"
      },
      "source": [
        "lista_canal = canal_geral['PRODUTO'].tolist()"
      ],
      "execution_count": null,
      "outputs": []
    },
    {
      "cell_type": "code",
      "metadata": {
        "id": "KT-qMgt53ECE"
      },
      "source": [
        "codigo_cliente = canal_teste.iloc[0]['COD_CLIENTE']"
      ],
      "execution_count": null,
      "outputs": []
    },
    {
      "cell_type": "code",
      "metadata": {
        "colab": {
          "base_uri": "https://localhost:8080/"
        },
        "id": "1g0V045y3drC",
        "outputId": "05fc4236-97b4-45e6-e296-0cf74b67fd2c"
      },
      "source": [
        "codigo_cliente"
      ],
      "execution_count": null,
      "outputs": [
        {
          "data": {
            "text/plain": [
              "6404"
            ]
          },
          "execution_count": 84,
          "metadata": {},
          "output_type": "execute_result"
        }
      ]
    },
    {
      "cell_type": "code",
      "metadata": {
        "id": "Mu654FO436Ld"
      },
      "source": [
        "nome_cliente = canal_teste.iloc[0]['CLIENTE']"
      ],
      "execution_count": null,
      "outputs": []
    },
    {
      "cell_type": "code",
      "metadata": {
        "colab": {
          "base_uri": "https://localhost:8080/",
          "height": 35
        },
        "id": "4nyBXdsC4Bt6",
        "outputId": "aae75a9b-c7f5-4a66-d9e6-fce51ea0d3d4"
      },
      "source": [
        "nome_cliente"
      ],
      "execution_count": null,
      "outputs": [
        {
          "data": {
            "application/vnd.google.colaboratory.intrinsic+json": {
              "type": "string"
            },
            "text/plain": [
              "'SUPERMERCADO JOAO NOGUEIRA LTDA'"
            ]
          },
          "execution_count": 32,
          "metadata": {},
          "output_type": "execute_result"
        }
      ]
    },
    {
      "cell_type": "code",
      "metadata": {
        "id": "tdmQmj0Y4Equ"
      },
      "source": [
        "canal_cliente = canal_teste.iloc[0]['CANAL']"
      ],
      "execution_count": null,
      "outputs": []
    },
    {
      "cell_type": "code",
      "metadata": {
        "colab": {
          "base_uri": "https://localhost:8080/",
          "height": 35
        },
        "id": "ixzkheQj4KG5",
        "outputId": "1256f6f1-df3c-4cb1-b084-b520e0504d0c"
      },
      "source": [
        "canal_cliente"
      ],
      "execution_count": null,
      "outputs": [
        {
          "data": {
            "application/vnd.google.colaboratory.intrinsic+json": {
              "type": "string"
            },
            "text/plain": [
              "'BARES / LANCHONETES / CANTINAS'"
            ]
          },
          "execution_count": 34,
          "metadata": {},
          "output_type": "execute_result"
        }
      ]
    },
    {
      "cell_type": "code",
      "metadata": {
        "id": "StdXzNuH7RLR"
      },
      "source": [
        ""
      ],
      "execution_count": null,
      "outputs": []
    },
    {
      "cell_type": "code",
      "metadata": {
        "id": "e7Wunt2X4NZ0"
      },
      "source": [
        "lista_unica = list(set(lista_cliente))\n",
        "lista_unica_canal = list(set(lista_canal))\n",
        "lista_final = list(set(lista_unica_canal) - set(lista_unica))\n",
        "#return render_template(\"resultadolista.html\",previsao=lista_final, teste=lista_unica, codigo = codigo_cliente, nome = nome_cliente, canal= canal_cliente)"
      ],
      "execution_count": null,
      "outputs": []
    },
    {
      "cell_type": "code",
      "metadata": {
        "colab": {
          "base_uri": "https://localhost:8080/"
        },
        "id": "HGOwa_Jp9k0v",
        "outputId": "d5b47cfe-d0d7-43cc-870c-10e009d31fa0"
      },
      "source": [
        "lista_unica"
      ],
      "execution_count": null,
      "outputs": [
        {
          "data": {
            "text/plain": [
              "['MUSSARELA ITAOCA']"
            ]
          },
          "execution_count": 89,
          "metadata": {},
          "output_type": "execute_result"
        }
      ]
    },
    {
      "cell_type": "code",
      "metadata": {
        "id": "zutB9Qh-9n3h"
      },
      "source": [
        "lista_final"
      ],
      "execution_count": null,
      "outputs": []
    },
    {
      "cell_type": "code",
      "metadata": {
        "id": "GOD8zHB05b7_"
      },
      "source": [
        "lista_unica_canal"
      ],
      "execution_count": null,
      "outputs": []
    },
    {
      "cell_type": "code",
      "metadata": {
        "id": "pDpKKZwU9a9v"
      },
      "source": [
        "lista_cliente"
      ],
      "execution_count": null,
      "outputs": []
    },
    {
      "cell_type": "code",
      "metadata": {
        "colab": {
          "base_uri": "https://localhost:8080/"
        },
        "id": "5cuGQHDL-vqu",
        "outputId": "7a66dc2b-21d4-4769-97f8-c0c88cef0cbe"
      },
      "source": [
        "canal_teste1 = canal.loc[(canal.COD_CLIENTE == 475500)]\n",
        "if canal_teste1.empty:\n",
        "  print('entrou no if')\n",
        "else:\n",
        "  print('entro no else')  "
      ],
      "execution_count": null,
      "outputs": [
        {
          "name": "stdout",
          "output_type": "stream",
          "text": [
            "entrou no if\n"
          ]
        }
      ]
    },
    {
      "cell_type": "code",
      "metadata": {
        "id": "51CWsYoNJqHl"
      },
      "source": [
        "canal_geral_grupo = canal.loc[(canal.GRUPO_DE_PRODUTO == canal_cliente)]"
      ],
      "execution_count": null,
      "outputs": []
    },
    {
      "cell_type": "code",
      "metadata": {
        "colab": {
          "base_uri": "https://localhost:8080/",
          "height": 48
        },
        "id": "OBmjbKchJ-ek",
        "outputId": "19f0aca6-cb3d-4638-f1d3-f8eaa87579ae"
      },
      "source": [
        "canal_geral_grupo"
      ],
      "execution_count": null,
      "outputs": [
        {
          "data": {
            "text/html": [
              "<div>\n",
              "<style scoped>\n",
              "    .dataframe tbody tr th:only-of-type {\n",
              "        vertical-align: middle;\n",
              "    }\n",
              "\n",
              "    .dataframe tbody tr th {\n",
              "        vertical-align: top;\n",
              "    }\n",
              "\n",
              "    .dataframe thead th {\n",
              "        text-align: right;\n",
              "    }\n",
              "</style>\n",
              "<table border=\"1\" class=\"dataframe\">\n",
              "  <thead>\n",
              "    <tr style=\"text-align: right;\">\n",
              "      <th></th>\n",
              "      <th>DATA</th>\n",
              "      <th>COD_CLIENTE</th>\n",
              "      <th>CLIENTE</th>\n",
              "      <th>COD_VENDEDOR</th>\n",
              "      <th>CANAL</th>\n",
              "      <th>COD_PRODUTO</th>\n",
              "      <th>PRODUTO</th>\n",
              "      <th>GRUPO_DE_PRODUTO</th>\n",
              "      <th>Unnamed: 8</th>\n",
              "    </tr>\n",
              "  </thead>\n",
              "  <tbody>\n",
              "  </tbody>\n",
              "</table>\n",
              "</div>"
            ],
            "text/plain": [
              "Empty DataFrame\n",
              "Columns: [DATA, COD_CLIENTE, CLIENTE, COD_VENDEDOR, CANAL, COD_PRODUTO, PRODUTO, GRUPO_DE_PRODUTO, Unnamed: 8]\n",
              "Index: []"
            ]
          },
          "execution_count": 38,
          "metadata": {},
          "output_type": "execute_result"
        }
      ]
    },
    {
      "cell_type": "markdown",
      "metadata": {
        "id": "trKeK4UTNFMD"
      },
      "source": [
        "##########################  grupo começa aqui"
      ]
    },
    {
      "cell_type": "code",
      "metadata": {
        "id": "Lkr-Ypn_NLur"
      },
      "source": [
        "canal =  pd.read_csv('vendas_canal_grupo_valores.csv', sep= ';',  encoding = 'unicode_escape')"
      ],
      "execution_count": null,
      "outputs": []
    },
    {
      "cell_type": "code",
      "metadata": {
        "colab": {
          "base_uri": "https://localhost:8080/",
          "height": 881
        },
        "id": "csxYtHdGNPMs",
        "outputId": "afefb869-bc3e-490d-8a58-0e2eebfadb5c"
      },
      "source": [
        "canal"
      ],
      "execution_count": null,
      "outputs": [
        {
          "data": {
            "text/html": [
              "<div>\n",
              "<style scoped>\n",
              "    .dataframe tbody tr th:only-of-type {\n",
              "        vertical-align: middle;\n",
              "    }\n",
              "\n",
              "    .dataframe tbody tr th {\n",
              "        vertical-align: top;\n",
              "    }\n",
              "\n",
              "    .dataframe thead th {\n",
              "        text-align: right;\n",
              "    }\n",
              "</style>\n",
              "<table border=\"1\" class=\"dataframe\">\n",
              "  <thead>\n",
              "    <tr style=\"text-align: right;\">\n",
              "      <th></th>\n",
              "      <th>DATA</th>\n",
              "      <th>COD_CLIENTE</th>\n",
              "      <th>CLIENTE</th>\n",
              "      <th>COD_VENDEDOR</th>\n",
              "      <th>CANAL</th>\n",
              "      <th>COD_PRODUTO</th>\n",
              "      <th>PRODUTO</th>\n",
              "      <th>GRUPO_DE_PRODUTO</th>\n",
              "      <th>Unnamed: 8</th>\n",
              "    </tr>\n",
              "  </thead>\n",
              "  <tbody>\n",
              "    <tr>\n",
              "      <th>0</th>\n",
              "      <td>04/08/2021</td>\n",
              "      <td>3631</td>\n",
              "      <td>SUPERMERCADO FERREIRA E MATEUS LTDA</td>\n",
              "      <td>24</td>\n",
              "      <td>AUTO-SERVICO 5 A 9 CHECK-OUT</td>\n",
              "      <td>99003</td>\n",
              "      <td>EMP SEARA TEKITOS PT 5X1KG VLA</td>\n",
              "      <td>EMPANADOS GRANEL SEARA (VLA)</td>\n",
              "      <td>NaN</td>\n",
              "    </tr>\n",
              "    <tr>\n",
              "      <th>1</th>\n",
              "      <td>04/08/2021</td>\n",
              "      <td>784</td>\n",
              "      <td>CONSUMIDOR FINAL</td>\n",
              "      <td>1</td>\n",
              "      <td>BARES / LANCHONETES / CANTINAS</td>\n",
              "      <td>77011</td>\n",
              "      <td>KINDER BUENO WHITE T2X30 39G</td>\n",
              "      <td>KINDER BUENO</td>\n",
              "      <td>NaN</td>\n",
              "    </tr>\n",
              "    <tr>\n",
              "      <th>2</th>\n",
              "      <td>04/08/2021</td>\n",
              "      <td>784</td>\n",
              "      <td>CONSUMIDOR FINAL</td>\n",
              "      <td>1</td>\n",
              "      <td>BARES / LANCHONETES / CANTINAS</td>\n",
              "      <td>77017</td>\n",
              "      <td>KINDER BUENO T2X30</td>\n",
              "      <td>KINDER BUENO</td>\n",
              "      <td>NaN</td>\n",
              "    </tr>\n",
              "    <tr>\n",
              "      <th>3</th>\n",
              "      <td>04/08/2021</td>\n",
              "      <td>784</td>\n",
              "      <td>CONSUMIDOR FINAL</td>\n",
              "      <td>1</td>\n",
              "      <td>BARES / LANCHONETES / CANTINAS</td>\n",
              "      <td>78169</td>\n",
              "      <td>LING REZEND CALAB GROSS 6X2,5K</td>\n",
              "      <td>LING CALAB GRANEL SEARA (MIS)</td>\n",
              "      <td>NaN</td>\n",
              "    </tr>\n",
              "    <tr>\n",
              "      <th>4</th>\n",
              "      <td>04/08/2021</td>\n",
              "      <td>784</td>\n",
              "      <td>CONSUMIDOR FINAL</td>\n",
              "      <td>1</td>\n",
              "      <td>BARES / LANCHONETES / CANTINAS</td>\n",
              "      <td>77011</td>\n",
              "      <td>KINDER BUENO WHITE T2X30 39G</td>\n",
              "      <td>KINDER BUENO</td>\n",
              "      <td>NaN</td>\n",
              "    </tr>\n",
              "    <tr>\n",
              "      <th>...</th>\n",
              "      <td>...</td>\n",
              "      <td>...</td>\n",
              "      <td>...</td>\n",
              "      <td>...</td>\n",
              "      <td>...</td>\n",
              "      <td>...</td>\n",
              "      <td>...</td>\n",
              "      <td>...</td>\n",
              "      <td>...</td>\n",
              "    </tr>\n",
              "    <tr>\n",
              "      <th>217900</th>\n",
              "      <td>04/11/2021</td>\n",
              "      <td>86531</td>\n",
              "      <td>GEORGE VIEIRA SINDRA 10790343665</td>\n",
              "      <td>25</td>\n",
              "      <td>BARES / LANCHONETES / CANTINAS</td>\n",
              "      <td>77011</td>\n",
              "      <td>KINDER BUENO WHITE T2X30 39G</td>\n",
              "      <td>KINDER BUENO</td>\n",
              "      <td>NaN</td>\n",
              "    </tr>\n",
              "    <tr>\n",
              "      <th>217901</th>\n",
              "      <td>04/11/2021</td>\n",
              "      <td>86531</td>\n",
              "      <td>GEORGE VIEIRA SINDRA 10790343665</td>\n",
              "      <td>25</td>\n",
              "      <td>BARES / LANCHONETES / CANTINAS</td>\n",
              "      <td>1012</td>\n",
              "      <td>F PEITO CG BIG MET PT 18KG</td>\n",
              "      <td>FILE DE PEITO FRANGO CG (INC)</td>\n",
              "      <td>NaN</td>\n",
              "    </tr>\n",
              "    <tr>\n",
              "      <th>217902</th>\n",
              "      <td>04/11/2021</td>\n",
              "      <td>1953</td>\n",
              "      <td>CID'S BAR LTDA</td>\n",
              "      <td>25</td>\n",
              "      <td>RESTAURANTES E CHURRASCARIAS</td>\n",
              "      <td>1012</td>\n",
              "      <td>F PEITO CG BIG MET PT 18KG</td>\n",
              "      <td>FILE DE PEITO FRANGO CG (INC)</td>\n",
              "      <td>NaN</td>\n",
              "    </tr>\n",
              "    <tr>\n",
              "      <th>217903</th>\n",
              "      <td>04/11/2021</td>\n",
              "      <td>1953</td>\n",
              "      <td>CID'S BAR LTDA</td>\n",
              "      <td>25</td>\n",
              "      <td>RESTAURANTES E CHURRASCARIAS</td>\n",
              "      <td>6459</td>\n",
              "      <td>BACON SEARA MANTA 4X4,00 16KG</td>\n",
              "      <td>BACON SEARA GRANEL (MIS)</td>\n",
              "      <td>NaN</td>\n",
              "    </tr>\n",
              "    <tr>\n",
              "      <th>217904</th>\n",
              "      <td>04/11/2021</td>\n",
              "      <td>8176</td>\n",
              "      <td>LANCHOPP E ROTISSERIA BOM COMER LTDA - ME</td>\n",
              "      <td>25</td>\n",
              "      <td>RESTAURANTES E CHURRASCARIAS</td>\n",
              "      <td>6459</td>\n",
              "      <td>BACON SEARA MANTA 4X4,00 16KG</td>\n",
              "      <td>BACON SEARA GRANEL (MIS)</td>\n",
              "      <td>NaN</td>\n",
              "    </tr>\n",
              "  </tbody>\n",
              "</table>\n",
              "<p>217905 rows × 9 columns</p>\n",
              "</div>"
            ],
            "text/plain": [
              "              DATA  COD_CLIENTE  ...               GRUPO_DE_PRODUTO  Unnamed: 8\n",
              "0       04/08/2021         3631  ...   EMPANADOS GRANEL SEARA (VLA)         NaN\n",
              "1       04/08/2021          784  ...                   KINDER BUENO         NaN\n",
              "2       04/08/2021          784  ...                   KINDER BUENO         NaN\n",
              "3       04/08/2021          784  ...  LING CALAB GRANEL SEARA (MIS)         NaN\n",
              "4       04/08/2021          784  ...                   KINDER BUENO         NaN\n",
              "...            ...          ...  ...                            ...         ...\n",
              "217900  04/11/2021        86531  ...                   KINDER BUENO         NaN\n",
              "217901  04/11/2021        86531  ...  FILE DE PEITO FRANGO CG (INC)         NaN\n",
              "217902  04/11/2021         1953  ...  FILE DE PEITO FRANGO CG (INC)         NaN\n",
              "217903  04/11/2021         1953  ...       BACON SEARA GRANEL (MIS)         NaN\n",
              "217904  04/11/2021         8176  ...       BACON SEARA GRANEL (MIS)         NaN\n",
              "\n",
              "[217905 rows x 9 columns]"
            ]
          },
          "execution_count": 6,
          "metadata": {},
          "output_type": "execute_result"
        }
      ]
    },
    {
      "cell_type": "code",
      "metadata": {
        "id": "OJ7xjCpCNTcb"
      },
      "source": [
        "canal_geral_grupo = canal"
      ],
      "execution_count": null,
      "outputs": []
    },
    {
      "cell_type": "code",
      "metadata": {
        "id": "0IrLjM2gNXj0"
      },
      "source": [
        "canal_geral_grupo"
      ],
      "execution_count": null,
      "outputs": []
    },
    {
      "cell_type": "code",
      "metadata": {
        "id": "6cSbotV3Nbpj"
      },
      "source": [
        "canal_teste = canal.loc[(canal.COD_CLIENTE == 6404)]"
      ],
      "execution_count": null,
      "outputs": []
    },
    {
      "cell_type": "code",
      "metadata": {
        "id": "_JyYAkyFNoZM"
      },
      "source": [
        "canal_teste"
      ],
      "execution_count": null,
      "outputs": []
    },
    {
      "cell_type": "code",
      "metadata": {
        "colab": {
          "background_save": true
        },
        "id": "kT2b71HgNrYj"
      },
      "source": [
        "canal_cliente = canal_teste.iloc[0]['CANAL']"
      ],
      "execution_count": null,
      "outputs": []
    },
    {
      "cell_type": "code",
      "metadata": {
        "colab": {
          "base_uri": "https://localhost:8080/",
          "height": 35
        },
        "id": "4WSOe8DyO02U",
        "outputId": "a23de7ba-a41d-49ef-8d38-a8a4ae8a0cd0"
      },
      "source": [
        "canal_cliente"
      ],
      "execution_count": null,
      "outputs": [
        {
          "data": {
            "application/vnd.google.colaboratory.intrinsic+json": {
              "type": "string"
            },
            "text/plain": [
              "'BARES / LANCHONETES / CANTINAS'"
            ]
          },
          "execution_count": 46,
          "metadata": {},
          "output_type": "execute_result"
        }
      ]
    },
    {
      "cell_type": "code",
      "metadata": {
        "id": "k7H_xCJtO-mU"
      },
      "source": [
        "canal_geral_grupo = canal.loc[(canal.CANAL == canal_cliente)]"
      ],
      "execution_count": null,
      "outputs": []
    },
    {
      "cell_type": "code",
      "metadata": {
        "colab": {
          "base_uri": "https://localhost:8080/",
          "height": 764
        },
        "id": "I4BQrVHRPM3q",
        "outputId": "f35cc383-480a-4a60-9c9d-65d7e0d2f3e4"
      },
      "source": [
        "canal_geral_grupo"
      ],
      "execution_count": null,
      "outputs": [
        {
          "data": {
            "text/html": [
              "<div>\n",
              "<style scoped>\n",
              "    .dataframe tbody tr th:only-of-type {\n",
              "        vertical-align: middle;\n",
              "    }\n",
              "\n",
              "    .dataframe tbody tr th {\n",
              "        vertical-align: top;\n",
              "    }\n",
              "\n",
              "    .dataframe thead th {\n",
              "        text-align: right;\n",
              "    }\n",
              "</style>\n",
              "<table border=\"1\" class=\"dataframe\">\n",
              "  <thead>\n",
              "    <tr style=\"text-align: right;\">\n",
              "      <th></th>\n",
              "      <th>DATA</th>\n",
              "      <th>COD_CLIENTE</th>\n",
              "      <th>CLIENTE</th>\n",
              "      <th>COD_VENDEDOR</th>\n",
              "      <th>CANAL</th>\n",
              "      <th>COD_PRODUTO</th>\n",
              "      <th>PRODUTO</th>\n",
              "      <th>GRUPO_DE_PRODUTO</th>\n",
              "      <th>Unnamed: 8</th>\n",
              "    </tr>\n",
              "  </thead>\n",
              "  <tbody>\n",
              "    <tr>\n",
              "      <th>1</th>\n",
              "      <td>04/08/2021</td>\n",
              "      <td>784</td>\n",
              "      <td>CONSUMIDOR FINAL</td>\n",
              "      <td>1</td>\n",
              "      <td>BARES / LANCHONETES / CANTINAS</td>\n",
              "      <td>77011</td>\n",
              "      <td>KINDER BUENO WHITE T2X30 39G</td>\n",
              "      <td>KINDER BUENO</td>\n",
              "      <td>NaN</td>\n",
              "    </tr>\n",
              "    <tr>\n",
              "      <th>2</th>\n",
              "      <td>04/08/2021</td>\n",
              "      <td>784</td>\n",
              "      <td>CONSUMIDOR FINAL</td>\n",
              "      <td>1</td>\n",
              "      <td>BARES / LANCHONETES / CANTINAS</td>\n",
              "      <td>77017</td>\n",
              "      <td>KINDER BUENO T2X30</td>\n",
              "      <td>KINDER BUENO</td>\n",
              "      <td>NaN</td>\n",
              "    </tr>\n",
              "    <tr>\n",
              "      <th>3</th>\n",
              "      <td>04/08/2021</td>\n",
              "      <td>784</td>\n",
              "      <td>CONSUMIDOR FINAL</td>\n",
              "      <td>1</td>\n",
              "      <td>BARES / LANCHONETES / CANTINAS</td>\n",
              "      <td>78169</td>\n",
              "      <td>LING REZEND CALAB GROSS 6X2,5K</td>\n",
              "      <td>LING CALAB GRANEL SEARA (MIS)</td>\n",
              "      <td>NaN</td>\n",
              "    </tr>\n",
              "    <tr>\n",
              "      <th>4</th>\n",
              "      <td>04/08/2021</td>\n",
              "      <td>784</td>\n",
              "      <td>CONSUMIDOR FINAL</td>\n",
              "      <td>1</td>\n",
              "      <td>BARES / LANCHONETES / CANTINAS</td>\n",
              "      <td>77011</td>\n",
              "      <td>KINDER BUENO WHITE T2X30 39G</td>\n",
              "      <td>KINDER BUENO</td>\n",
              "      <td>NaN</td>\n",
              "    </tr>\n",
              "    <tr>\n",
              "      <th>32</th>\n",
              "      <td>04/08/2021</td>\n",
              "      <td>784</td>\n",
              "      <td>CONSUMIDOR FINAL</td>\n",
              "      <td>1</td>\n",
              "      <td>BARES / LANCHONETES / CANTINAS</td>\n",
              "      <td>77011</td>\n",
              "      <td>KINDER BUENO WHITE T2X30 39G</td>\n",
              "      <td>KINDER BUENO</td>\n",
              "      <td>NaN</td>\n",
              "    </tr>\n",
              "    <tr>\n",
              "      <th>...</th>\n",
              "      <td>...</td>\n",
              "      <td>...</td>\n",
              "      <td>...</td>\n",
              "      <td>...</td>\n",
              "      <td>...</td>\n",
              "      <td>...</td>\n",
              "      <td>...</td>\n",
              "      <td>...</td>\n",
              "      <td>...</td>\n",
              "    </tr>\n",
              "    <tr>\n",
              "      <th>217897</th>\n",
              "      <td>04/11/2021</td>\n",
              "      <td>86531</td>\n",
              "      <td>GEORGE VIEIRA SINDRA 10790343665</td>\n",
              "      <td>25</td>\n",
              "      <td>BARES / LANCHONETES / CANTINAS</td>\n",
              "      <td>77520</td>\n",
              "      <td>KINDER OVO T1X12 NATOONS</td>\n",
              "      <td>KINDER OVO</td>\n",
              "      <td>NaN</td>\n",
              "    </tr>\n",
              "    <tr>\n",
              "      <th>217898</th>\n",
              "      <td>04/11/2021</td>\n",
              "      <td>86531</td>\n",
              "      <td>GEORGE VIEIRA SINDRA 10790343665</td>\n",
              "      <td>25</td>\n",
              "      <td>BARES / LANCHONETES / CANTINAS</td>\n",
              "      <td>77159</td>\n",
              "      <td>KINDER JOY T1X16</td>\n",
              "      <td>KINDER JOY</td>\n",
              "      <td>NaN</td>\n",
              "    </tr>\n",
              "    <tr>\n",
              "      <th>217899</th>\n",
              "      <td>04/11/2021</td>\n",
              "      <td>86531</td>\n",
              "      <td>GEORGE VIEIRA SINDRA 10790343665</td>\n",
              "      <td>25</td>\n",
              "      <td>BARES / LANCHONETES / CANTINAS</td>\n",
              "      <td>99328</td>\n",
              "      <td>MUSSARELA ITA</td>\n",
              "      <td>MUSSARELA</td>\n",
              "      <td>NaN</td>\n",
              "    </tr>\n",
              "    <tr>\n",
              "      <th>217900</th>\n",
              "      <td>04/11/2021</td>\n",
              "      <td>86531</td>\n",
              "      <td>GEORGE VIEIRA SINDRA 10790343665</td>\n",
              "      <td>25</td>\n",
              "      <td>BARES / LANCHONETES / CANTINAS</td>\n",
              "      <td>77011</td>\n",
              "      <td>KINDER BUENO WHITE T2X30 39G</td>\n",
              "      <td>KINDER BUENO</td>\n",
              "      <td>NaN</td>\n",
              "    </tr>\n",
              "    <tr>\n",
              "      <th>217901</th>\n",
              "      <td>04/11/2021</td>\n",
              "      <td>86531</td>\n",
              "      <td>GEORGE VIEIRA SINDRA 10790343665</td>\n",
              "      <td>25</td>\n",
              "      <td>BARES / LANCHONETES / CANTINAS</td>\n",
              "      <td>1012</td>\n",
              "      <td>F PEITO CG BIG MET PT 18KG</td>\n",
              "      <td>FILE DE PEITO FRANGO CG (INC)</td>\n",
              "      <td>NaN</td>\n",
              "    </tr>\n",
              "  </tbody>\n",
              "</table>\n",
              "<p>29426 rows × 9 columns</p>\n",
              "</div>"
            ],
            "text/plain": [
              "              DATA  COD_CLIENTE  ...               GRUPO_DE_PRODUTO  Unnamed: 8\n",
              "1       04/08/2021          784  ...                   KINDER BUENO         NaN\n",
              "2       04/08/2021          784  ...                   KINDER BUENO         NaN\n",
              "3       04/08/2021          784  ...  LING CALAB GRANEL SEARA (MIS)         NaN\n",
              "4       04/08/2021          784  ...                   KINDER BUENO         NaN\n",
              "32      04/08/2021          784  ...                   KINDER BUENO         NaN\n",
              "...            ...          ...  ...                            ...         ...\n",
              "217897  04/11/2021        86531  ...                     KINDER OVO         NaN\n",
              "217898  04/11/2021        86531  ...                     KINDER JOY         NaN\n",
              "217899  04/11/2021        86531  ...                      MUSSARELA         NaN\n",
              "217900  04/11/2021        86531  ...                   KINDER BUENO         NaN\n",
              "217901  04/11/2021        86531  ...  FILE DE PEITO FRANGO CG (INC)         NaN\n",
              "\n",
              "[29426 rows x 9 columns]"
            ]
          },
          "execution_count": 84,
          "metadata": {},
          "output_type": "execute_result"
        }
      ]
    },
    {
      "cell_type": "code",
      "metadata": {
        "id": "gTSPVd9WT8rs"
      },
      "source": [
        "frame_limpa= canal_geral_grupo['GRUPO_DE_PRODUTO']"
      ],
      "execution_count": null,
      "outputs": []
    },
    {
      "cell_type": "code",
      "metadata": {
        "colab": {
          "base_uri": "https://localhost:8080/"
        },
        "id": "LNGINHGPUCRV",
        "outputId": "6504bb23-20c2-45a4-8b32-b213e8b71b1e"
      },
      "source": [
        "frame_limpa"
      ],
      "execution_count": null,
      "outputs": [
        {
          "data": {
            "text/plain": [
              "1                          KINDER BUENO\n",
              "2                          KINDER BUENO\n",
              "3         LING CALAB GRANEL SEARA (MIS)\n",
              "4                          KINDER BUENO\n",
              "32                         KINDER BUENO\n",
              "                      ...              \n",
              "217897                       KINDER OVO\n",
              "217898                       KINDER JOY\n",
              "217899                        MUSSARELA\n",
              "217900                     KINDER BUENO\n",
              "217901    FILE DE PEITO FRANGO CG (INC)\n",
              "Name: GRUPO_DE_PRODUTO, Length: 29426, dtype: object"
            ]
          },
          "execution_count": 63,
          "metadata": {},
          "output_type": "execute_result"
        }
      ]
    },
    {
      "cell_type": "code",
      "metadata": {
        "id": "dAzSN68oaVTt"
      },
      "source": [
        "testesrt = canal_geral_grupo['GRUPO_DE_PRODUTO'].str.replace(r\"\\(.*\\)\",\"\")"
      ],
      "execution_count": null,
      "outputs": []
    },
    {
      "cell_type": "code",
      "metadata": {
        "colab": {
          "base_uri": "https://localhost:8080/"
        },
        "id": "i35aOjloZKjH",
        "outputId": "64acd51a-06f8-4bb2-a2a9-c0f396dfe9fa"
      },
      "source": [
        "testesrt"
      ],
      "execution_count": null,
      "outputs": [
        {
          "data": {
            "text/plain": [
              "1                     KINDER BUENO\n",
              "2                     KINDER BUENO\n",
              "3         LING CALAB GRANEL SEARA \n",
              "4                     KINDER BUENO\n",
              "32                    KINDER BUENO\n",
              "                    ...           \n",
              "217897                  KINDER OVO\n",
              "217898                  KINDER JOY\n",
              "217899                   MUSSARELA\n",
              "217900                KINDER BUENO\n",
              "217901    FILE DE PEITO FRANGO CG \n",
              "Name: GRUPO_DE_PRODUTO, Length: 29426, dtype: object"
            ]
          },
          "execution_count": 14,
          "metadata": {},
          "output_type": "execute_result"
        }
      ]
    },
    {
      "cell_type": "code",
      "metadata": {
        "colab": {
          "base_uri": "https://localhost:8080/"
        },
        "id": "45XNtF6-a6RU",
        "outputId": "9f8bf829-900b-4d28-9587-b6718d67f26b"
      },
      "source": [
        "print( type(testesrt) )"
      ],
      "execution_count": null,
      "outputs": [
        {
          "name": "stdout",
          "output_type": "stream",
          "text": [
            "<class 'pandas.core.series.Series'>\n"
          ]
        }
      ]
    },
    {
      "cell_type": "code",
      "metadata": {
        "id": "fPe0032rbnhD"
      },
      "source": [
        "lista"
      ],
      "execution_count": null,
      "outputs": []
    },
    {
      "cell_type": "code",
      "metadata": {
        "colab": {
          "base_uri": "https://localhost:8080/",
          "height": 764
        },
        "id": "-CHkufVEYm6G",
        "outputId": "7e9de1aa-2ce5-47c7-aa2e-c9ed3a210d61"
      },
      "source": [
        "canal_geral_grupo"
      ],
      "execution_count": null,
      "outputs": [
        {
          "data": {
            "text/html": [
              "<div>\n",
              "<style scoped>\n",
              "    .dataframe tbody tr th:only-of-type {\n",
              "        vertical-align: middle;\n",
              "    }\n",
              "\n",
              "    .dataframe tbody tr th {\n",
              "        vertical-align: top;\n",
              "    }\n",
              "\n",
              "    .dataframe thead th {\n",
              "        text-align: right;\n",
              "    }\n",
              "</style>\n",
              "<table border=\"1\" class=\"dataframe\">\n",
              "  <thead>\n",
              "    <tr style=\"text-align: right;\">\n",
              "      <th></th>\n",
              "      <th>DATA</th>\n",
              "      <th>COD_CLIENTE</th>\n",
              "      <th>CLIENTE</th>\n",
              "      <th>COD_VENDEDOR</th>\n",
              "      <th>CANAL</th>\n",
              "      <th>COD_PRODUTO</th>\n",
              "      <th>PRODUTO</th>\n",
              "      <th>GRUPO_DE_PRODUTO</th>\n",
              "      <th>Unnamed: 8</th>\n",
              "    </tr>\n",
              "  </thead>\n",
              "  <tbody>\n",
              "    <tr>\n",
              "      <th>1</th>\n",
              "      <td>04/08/2021</td>\n",
              "      <td>784</td>\n",
              "      <td>CONSUMIDOR FINAL</td>\n",
              "      <td>1</td>\n",
              "      <td>BARES / LANCHONETES / CANTINAS</td>\n",
              "      <td>77011</td>\n",
              "      <td>KINDER BUENO WHITE T2X30 39G</td>\n",
              "      <td>KINDER BUENO</td>\n",
              "      <td>NaN</td>\n",
              "    </tr>\n",
              "    <tr>\n",
              "      <th>2</th>\n",
              "      <td>04/08/2021</td>\n",
              "      <td>784</td>\n",
              "      <td>CONSUMIDOR FINAL</td>\n",
              "      <td>1</td>\n",
              "      <td>BARES / LANCHONETES / CANTINAS</td>\n",
              "      <td>77017</td>\n",
              "      <td>KINDER BUENO T2X30</td>\n",
              "      <td>KINDER BUENO</td>\n",
              "      <td>NaN</td>\n",
              "    </tr>\n",
              "    <tr>\n",
              "      <th>3</th>\n",
              "      <td>04/08/2021</td>\n",
              "      <td>784</td>\n",
              "      <td>CONSUMIDOR FINAL</td>\n",
              "      <td>1</td>\n",
              "      <td>BARES / LANCHONETES / CANTINAS</td>\n",
              "      <td>78169</td>\n",
              "      <td>LING REZEND CALAB GROSS 6X2,5K</td>\n",
              "      <td>LING CALAB GRANEL SEARA (MIS)</td>\n",
              "      <td>NaN</td>\n",
              "    </tr>\n",
              "    <tr>\n",
              "      <th>4</th>\n",
              "      <td>04/08/2021</td>\n",
              "      <td>784</td>\n",
              "      <td>CONSUMIDOR FINAL</td>\n",
              "      <td>1</td>\n",
              "      <td>BARES / LANCHONETES / CANTINAS</td>\n",
              "      <td>77011</td>\n",
              "      <td>KINDER BUENO WHITE T2X30 39G</td>\n",
              "      <td>KINDER BUENO</td>\n",
              "      <td>NaN</td>\n",
              "    </tr>\n",
              "    <tr>\n",
              "      <th>32</th>\n",
              "      <td>04/08/2021</td>\n",
              "      <td>784</td>\n",
              "      <td>CONSUMIDOR FINAL</td>\n",
              "      <td>1</td>\n",
              "      <td>BARES / LANCHONETES / CANTINAS</td>\n",
              "      <td>77011</td>\n",
              "      <td>KINDER BUENO WHITE T2X30 39G</td>\n",
              "      <td>KINDER BUENO</td>\n",
              "      <td>NaN</td>\n",
              "    </tr>\n",
              "    <tr>\n",
              "      <th>...</th>\n",
              "      <td>...</td>\n",
              "      <td>...</td>\n",
              "      <td>...</td>\n",
              "      <td>...</td>\n",
              "      <td>...</td>\n",
              "      <td>...</td>\n",
              "      <td>...</td>\n",
              "      <td>...</td>\n",
              "      <td>...</td>\n",
              "    </tr>\n",
              "    <tr>\n",
              "      <th>217897</th>\n",
              "      <td>04/11/2021</td>\n",
              "      <td>86531</td>\n",
              "      <td>GEORGE VIEIRA SINDRA 10790343665</td>\n",
              "      <td>25</td>\n",
              "      <td>BARES / LANCHONETES / CANTINAS</td>\n",
              "      <td>77520</td>\n",
              "      <td>KINDER OVO T1X12 NATOONS</td>\n",
              "      <td>KINDER OVO</td>\n",
              "      <td>NaN</td>\n",
              "    </tr>\n",
              "    <tr>\n",
              "      <th>217898</th>\n",
              "      <td>04/11/2021</td>\n",
              "      <td>86531</td>\n",
              "      <td>GEORGE VIEIRA SINDRA 10790343665</td>\n",
              "      <td>25</td>\n",
              "      <td>BARES / LANCHONETES / CANTINAS</td>\n",
              "      <td>77159</td>\n",
              "      <td>KINDER JOY T1X16</td>\n",
              "      <td>KINDER JOY</td>\n",
              "      <td>NaN</td>\n",
              "    </tr>\n",
              "    <tr>\n",
              "      <th>217899</th>\n",
              "      <td>04/11/2021</td>\n",
              "      <td>86531</td>\n",
              "      <td>GEORGE VIEIRA SINDRA 10790343665</td>\n",
              "      <td>25</td>\n",
              "      <td>BARES / LANCHONETES / CANTINAS</td>\n",
              "      <td>99328</td>\n",
              "      <td>MUSSARELA ITA</td>\n",
              "      <td>MUSSARELA</td>\n",
              "      <td>NaN</td>\n",
              "    </tr>\n",
              "    <tr>\n",
              "      <th>217900</th>\n",
              "      <td>04/11/2021</td>\n",
              "      <td>86531</td>\n",
              "      <td>GEORGE VIEIRA SINDRA 10790343665</td>\n",
              "      <td>25</td>\n",
              "      <td>BARES / LANCHONETES / CANTINAS</td>\n",
              "      <td>77011</td>\n",
              "      <td>KINDER BUENO WHITE T2X30 39G</td>\n",
              "      <td>KINDER BUENO</td>\n",
              "      <td>NaN</td>\n",
              "    </tr>\n",
              "    <tr>\n",
              "      <th>217901</th>\n",
              "      <td>04/11/2021</td>\n",
              "      <td>86531</td>\n",
              "      <td>GEORGE VIEIRA SINDRA 10790343665</td>\n",
              "      <td>25</td>\n",
              "      <td>BARES / LANCHONETES / CANTINAS</td>\n",
              "      <td>1012</td>\n",
              "      <td>F PEITO CG BIG MET PT 18KG</td>\n",
              "      <td>FILE DE PEITO FRANGO CG (INC)</td>\n",
              "      <td>NaN</td>\n",
              "    </tr>\n",
              "  </tbody>\n",
              "</table>\n",
              "<p>29426 rows × 9 columns</p>\n",
              "</div>"
            ],
            "text/plain": [
              "              DATA  COD_CLIENTE  ...               GRUPO_DE_PRODUTO  Unnamed: 8\n",
              "1       04/08/2021          784  ...                   KINDER BUENO         NaN\n",
              "2       04/08/2021          784  ...                   KINDER BUENO         NaN\n",
              "3       04/08/2021          784  ...  LING CALAB GRANEL SEARA (MIS)         NaN\n",
              "4       04/08/2021          784  ...                   KINDER BUENO         NaN\n",
              "32      04/08/2021          784  ...                   KINDER BUENO         NaN\n",
              "...            ...          ...  ...                            ...         ...\n",
              "217897  04/11/2021        86531  ...                     KINDER OVO         NaN\n",
              "217898  04/11/2021        86531  ...                     KINDER JOY         NaN\n",
              "217899  04/11/2021        86531  ...                      MUSSARELA         NaN\n",
              "217900  04/11/2021        86531  ...                   KINDER BUENO         NaN\n",
              "217901  04/11/2021        86531  ...  FILE DE PEITO FRANGO CG (INC)         NaN\n",
              "\n",
              "[29426 rows x 9 columns]"
            ]
          },
          "execution_count": 80,
          "metadata": {},
          "output_type": "execute_result"
        }
      ]
    },
    {
      "cell_type": "code",
      "metadata": {
        "id": "yEH-nblAROfF"
      },
      "source": [
        "lista_grupo = canal_geral_grupo['GRUPO_DE_PRODUTO'].tolist()"
      ],
      "execution_count": null,
      "outputs": []
    },
    {
      "cell_type": "code",
      "metadata": {
        "id": "d_k_EoCtRY1G"
      },
      "source": [
        "lista_grupo_corrigido = testesrt.tolist()"
      ],
      "execution_count": null,
      "outputs": []
    },
    {
      "cell_type": "code",
      "metadata": {
        "id": "2ZFfF8WFcEP8"
      },
      "source": [
        "lista_grupo_corrigido"
      ],
      "execution_count": null,
      "outputs": []
    },
    {
      "cell_type": "markdown",
      "metadata": {
        "id": "3SGKYqozcPvU"
      },
      "source": [
        "organizando codigo final lista por grupos"
      ]
    },
    {
      "cell_type": "code",
      "metadata": {
        "id": "BM8-bGpgclZt"
      },
      "source": [
        "from datetime import date"
      ],
      "execution_count": null,
      "outputs": []
    },
    {
      "cell_type": "code",
      "metadata": {
        "colab": {
          "base_uri": "https://localhost:8080/"
        },
        "id": "m8y3BdpMKZid",
        "outputId": "4a2949ea-3ba7-460e-88d6-962cee05ded1"
      },
      "source": [
        "data_atual = date.today()\n",
        "print(data_atual)"
      ],
      "execution_count": null,
      "outputs": [
        {
          "name": "stdout",
          "output_type": "stream",
          "text": [
            "2021-11-04\n"
          ]
        }
      ]
    },
    {
      "cell_type": "code",
      "metadata": {
        "colab": {
          "base_uri": "https://localhost:8080/"
        },
        "id": "VePXPn4tJufW",
        "outputId": "d8cb6981-6938-4ccd-827a-6a3c14084c29"
      },
      "source": [
        "data_em_texto = data_atual.strftime('%d/%m/%Y')\n",
        "print(data_em_texto)"
      ],
      "execution_count": null,
      "outputs": [
        {
          "name": "stdout",
          "output_type": "stream",
          "text": [
            "04/11/2021\n"
          ]
        }
      ]
    },
    {
      "cell_type": "code",
      "metadata": {
        "id": "SMW5EYtjNBd0"
      },
      "source": [
        "arquivo = open('log.txt','a')\n",
        "arquivo.write(texto + \"\\n\")"
      ],
      "execution_count": null,
      "outputs": []
    },
    {
      "cell_type": "code",
      "metadata": {
        "id": "uVyhN3Ln_n0C"
      },
      "source": [
        "#########################  produtos mais comprado por canal"
      ],
      "execution_count": null,
      "outputs": []
    },
    {
      "cell_type": "code",
      "metadata": {
        "id": "rXRvdEhF_v9K"
      },
      "source": [
        "canal =  pd.read_csv('vendas_canal_grupo_valores.csv', sep= ';',  encoding = 'unicode_escape')"
      ],
      "execution_count": null,
      "outputs": []
    },
    {
      "cell_type": "code",
      "metadata": {
        "id": "ZTaUUryBAHwC"
      },
      "source": [
        "canal_teste = canal.loc[(canal.COD_CLIENTE == 6404)]"
      ],
      "execution_count": null,
      "outputs": []
    },
    {
      "cell_type": "code",
      "metadata": {
        "colab": {
          "base_uri": "https://localhost:8080/",
          "height": 151
        },
        "id": "k8FfqAixDMR7",
        "outputId": "ac253773-6d66-46b5-ec6c-b7f9ba85e0d6"
      },
      "source": [
        "canal_teste"
      ],
      "execution_count": null,
      "outputs": [
        {
          "output_type": "execute_result",
          "data": {
            "text/html": [
              "<div>\n",
              "<style scoped>\n",
              "    .dataframe tbody tr th:only-of-type {\n",
              "        vertical-align: middle;\n",
              "    }\n",
              "\n",
              "    .dataframe tbody tr th {\n",
              "        vertical-align: top;\n",
              "    }\n",
              "\n",
              "    .dataframe thead th {\n",
              "        text-align: right;\n",
              "    }\n",
              "</style>\n",
              "<table border=\"1\" class=\"dataframe\">\n",
              "  <thead>\n",
              "    <tr style=\"text-align: right;\">\n",
              "      <th></th>\n",
              "      <th>COD_CLIENTE</th>\n",
              "      <th>CLIENTE</th>\n",
              "      <th>COD_VENDEDOR</th>\n",
              "      <th>CANAL</th>\n",
              "      <th>COD_PRODUTO</th>\n",
              "      <th>PRODUTO</th>\n",
              "      <th>GRUPO_DE_PRODUTO</th>\n",
              "      <th>VALOR_VENDA</th>\n",
              "      <th>Unnamed: 8</th>\n",
              "    </tr>\n",
              "  </thead>\n",
              "  <tbody>\n",
              "    <tr>\n",
              "      <th>13615</th>\n",
              "      <td>6404</td>\n",
              "      <td>SUPERMERCADO JOAO NOGUEIRA LTDA</td>\n",
              "      <td>585</td>\n",
              "      <td>BARES / LANCHONETES / CANTINAS</td>\n",
              "      <td>2800</td>\n",
              "      <td>MUSSARELA ITAOCA</td>\n",
              "      <td>MUSSARELA</td>\n",
              "      <td>18765,15</td>\n",
              "      <td>NaN</td>\n",
              "    </tr>\n",
              "  </tbody>\n",
              "</table>\n",
              "</div>"
            ],
            "text/plain": [
              "       COD_CLIENTE                          CLIENTE  ...  VALOR_VENDA Unnamed: 8\n",
              "13615         6404  SUPERMERCADO JOAO NOGUEIRA LTDA  ...     18765,15        NaN\n",
              "\n",
              "[1 rows x 9 columns]"
            ]
          },
          "metadata": {},
          "execution_count": 64
        }
      ]
    },
    {
      "cell_type": "code",
      "metadata": {
        "id": "mqZfeRYiEM30"
      },
      "source": [
        "canal_cliente = canal_teste.iloc[0]['CANAL']"
      ],
      "execution_count": null,
      "outputs": []
    },
    {
      "cell_type": "code",
      "metadata": {
        "colab": {
          "base_uri": "https://localhost:8080/",
          "height": 35
        },
        "id": "8RAUgSs6EQLN",
        "outputId": "84d3d980-ee08-4a46-887b-3181624b8ae0"
      },
      "source": [
        "canal_cliente"
      ],
      "execution_count": null,
      "outputs": [
        {
          "output_type": "execute_result",
          "data": {
            "application/vnd.google.colaboratory.intrinsic+json": {
              "type": "string"
            },
            "text/plain": [
              "'BARES / LANCHONETES / CANTINAS'"
            ]
          },
          "metadata": {},
          "execution_count": 5
        }
      ]
    },
    {
      "cell_type": "code",
      "metadata": {
        "id": "-ICFn0aVEUd7"
      },
      "source": [
        "canal_geral_grupo = canal.loc[(canal.CANAL == canal_cliente)]"
      ],
      "execution_count": null,
      "outputs": []
    },
    {
      "cell_type": "code",
      "metadata": {
        "id": "xO7rQTWgEWzr"
      },
      "source": [
        "canal_geral_grupo.head(50)"
      ],
      "execution_count": null,
      "outputs": []
    },
    {
      "cell_type": "code",
      "metadata": {
        "colab": {
          "base_uri": "https://localhost:8080/"
        },
        "id": "SQXfBAprdyAz",
        "outputId": "daa88465-001f-4407-8dae-79a9c1223fff"
      },
      "source": [
        "print(canal_geral_grupo)"
      ],
      "execution_count": null,
      "outputs": [
        {
          "output_type": "stream",
          "name": "stdout",
          "text": [
            "        COD_CLIENTE  ... Percentual\n",
            "27                8  ...   5.198299\n",
            "28                8  ...   0.505209\n",
            "29                8  ...   0.042381\n",
            "30                8  ...   4.845069\n",
            "31                8  ...   3.888246\n",
            "...             ...  ...        ...\n",
            "121064        88434  ...   0.124837\n",
            "121065        88434  ...   0.062318\n",
            "121066        88434  ...   0.012833\n",
            "121067        88434  ...   0.013947\n",
            "121068        88434  ...   0.017576\n",
            "\n",
            "[16083 rows x 11 columns]\n"
          ]
        }
      ]
    },
    {
      "cell_type": "code",
      "metadata": {
        "id": "bMxpteMkE_La"
      },
      "source": [
        "total = sum(canal_geral_grupo.VALOR_VENDA)"
      ],
      "execution_count": null,
      "outputs": []
    },
    {
      "cell_type": "code",
      "metadata": {
        "id": "frefL9zKFODk",
        "colab": {
          "base_uri": "https://localhost:8080/"
        },
        "outputId": "9bcfd60e-eb41-4c47-89a8-44fcf4819f3c"
      },
      "source": [
        "total"
      ],
      "execution_count": null,
      "outputs": [
        {
          "output_type": "execute_result",
          "data": {
            "text/plain": [
              "8208691.74999992"
            ]
          },
          "metadata": {},
          "execution_count": 14
        }
      ]
    },
    {
      "cell_type": "code",
      "metadata": {
        "colab": {
          "base_uri": "https://localhost:8080/"
        },
        "id": "MathmGuibfPJ",
        "outputId": "250a52e2-266a-44fd-ef1f-a5081b85c01a"
      },
      "source": [
        "canal_geral_grupo.isnull().sum()"
      ],
      "execution_count": null,
      "outputs": [
        {
          "output_type": "execute_result",
          "data": {
            "text/plain": [
              "COD_CLIENTE             0\n",
              "CLIENTE                 0\n",
              "COD_VENDEDOR            0\n",
              "CANAL                   0\n",
              "COD_PRODUTO             0\n",
              "PRODUTO                 0\n",
              "GRUPO_DE_PRODUTO        0\n",
              "VALOR_VENDA             0\n",
              "Unnamed: 8          16083\n",
              "Total                   0\n",
              "dtype: int64"
            ]
          },
          "metadata": {},
          "execution_count": 19
        }
      ]
    },
    {
      "cell_type": "code",
      "metadata": {
        "colab": {
          "base_uri": "https://localhost:8080/"
        },
        "id": "OkY6P1ImdDVh",
        "outputId": "2ab94270-dd34-40c2-cd87-32c7b407ce45"
      },
      "source": [
        "canal_geral_grupo.dtypes"
      ],
      "execution_count": null,
      "outputs": [
        {
          "output_type": "execute_result",
          "data": {
            "text/plain": [
              "COD_CLIENTE           int64\n",
              "CLIENTE              object\n",
              "COD_VENDEDOR          int64\n",
              "CANAL                object\n",
              "COD_PRODUTO           int64\n",
              "PRODUTO              object\n",
              "GRUPO_DE_PRODUTO     object\n",
              "VALOR_VENDA         float64\n",
              "Unnamed: 8          float64\n",
              "Total               float64\n",
              "Percentual          float64\n",
              "dtype: object"
            ]
          },
          "metadata": {},
          "execution_count": 22
        }
      ]
    },
    {
      "cell_type": "code",
      "metadata": {
        "id": "nNcE_a_dR7Nb"
      },
      "source": [
        "canal_geral_grupo['VALOR_VENDA'] = canal_geral_grupo['VALOR_VENDA'].apply(lambda x: str(x).replace(\",\",\".\"))"
      ],
      "execution_count": null,
      "outputs": []
    },
    {
      "cell_type": "code",
      "metadata": {
        "id": "jnvYMfenSLPP"
      },
      "source": [
        "canal_geral_grupo['VALOR_VENDA'] = canal_geral_grupo['VALOR_VENDA'].astype('float64')"
      ],
      "execution_count": null,
      "outputs": []
    },
    {
      "cell_type": "code",
      "metadata": {
        "id": "O04_cqUmYSn4"
      },
      "source": [
        "canal_geral_grupo['Total'] = canal_geral_grupo.sum(axis=1)"
      ],
      "execution_count": null,
      "outputs": []
    },
    {
      "cell_type": "code",
      "metadata": {
        "id": "YwKLUar7XmCP"
      },
      "source": [
        "canal_geral_grupo['Percentual'] = canal_geral_grupo['VALOR_VENDA']/canal_geral_grupo['Total']*100"
      ],
      "execution_count": null,
      "outputs": []
    },
    {
      "cell_type": "code",
      "metadata": {
        "id": "EFisvoR8eXL7"
      },
      "source": [
        "novo.to_csv('lista_atual.csv', sep=';')"
      ],
      "execution_count": null,
      "outputs": []
    },
    {
      "cell_type": "code",
      "metadata": {
        "id": "11pa2kpNiEhn"
      },
      "source": [
        "colunas = ['PRODUTO','VALOR_VENDA']"
      ],
      "execution_count": null,
      "outputs": []
    },
    {
      "cell_type": "code",
      "metadata": {
        "id": "iAUg2f6yjqNG"
      },
      "source": [
        "frame_agrupado = canal_geral_grupo.filter(items=colunas)"
      ],
      "execution_count": null,
      "outputs": []
    },
    {
      "cell_type": "code",
      "metadata": {
        "colab": {
          "base_uri": "https://localhost:8080/",
          "height": 419
        },
        "id": "zwM7rz2QlVRr",
        "outputId": "89309c16-ac8a-478b-c4e3-d3d14e106cf8"
      },
      "source": [
        "frame_agrupado"
      ],
      "execution_count": null,
      "outputs": [
        {
          "output_type": "execute_result",
          "data": {
            "text/html": [
              "<div>\n",
              "<style scoped>\n",
              "    .dataframe tbody tr th:only-of-type {\n",
              "        vertical-align: middle;\n",
              "    }\n",
              "\n",
              "    .dataframe tbody tr th {\n",
              "        vertical-align: top;\n",
              "    }\n",
              "\n",
              "    .dataframe thead th {\n",
              "        text-align: right;\n",
              "    }\n",
              "</style>\n",
              "<table border=\"1\" class=\"dataframe\">\n",
              "  <thead>\n",
              "    <tr style=\"text-align: right;\">\n",
              "      <th></th>\n",
              "      <th>PRODUTO</th>\n",
              "      <th>VALOR_VENDA</th>\n",
              "    </tr>\n",
              "  </thead>\n",
              "  <tbody>\n",
              "    <tr>\n",
              "      <th>27</th>\n",
              "      <td>PEITO CG FREDINI PT 20KG</td>\n",
              "      <td>958.40</td>\n",
              "    </tr>\n",
              "    <tr>\n",
              "      <th>28</th>\n",
              "      <td>BANHA SEARA RF 18X1KG 18KG</td>\n",
              "      <td>210.24</td>\n",
              "    </tr>\n",
              "    <tr>\n",
              "      <th>29</th>\n",
              "      <td>KINDER OVO T1X12 MENINO</td>\n",
              "      <td>65.42</td>\n",
              "    </tr>\n",
              "    <tr>\n",
              "      <th>30</th>\n",
              "      <td>RICOTA ITA FRESCA 500G</td>\n",
              "      <td>78.65</td>\n",
              "    </tr>\n",
              "    <tr>\n",
              "      <th>31</th>\n",
              "      <td>MUSSARELA ITAOCA</td>\n",
              "      <td>240.74</td>\n",
              "    </tr>\n",
              "    <tr>\n",
              "      <th>...</th>\n",
              "      <td>...</td>\n",
              "      <td>...</td>\n",
              "    </tr>\n",
              "    <tr>\n",
              "      <th>121064</th>\n",
              "      <td>MUSSARELA ITAOCA</td>\n",
              "      <td>228.36</td>\n",
              "    </tr>\n",
              "    <tr>\n",
              "      <th>121065</th>\n",
              "      <td>BACON G CAMPEIRO EXT PALETA KG</td>\n",
              "      <td>135.36</td>\n",
              "    </tr>\n",
              "    <tr>\n",
              "      <th>121066</th>\n",
              "      <td>HAMB TEXAS AVE/BOV 36X56G</td>\n",
              "      <td>35.64</td>\n",
              "    </tr>\n",
              "    <tr>\n",
              "      <th>121067</th>\n",
              "      <td>LING REZEND PALITUS 6X2,5KG</td>\n",
              "      <td>46.45</td>\n",
              "    </tr>\n",
              "    <tr>\n",
              "      <th>121068</th>\n",
              "      <td>PRESUNTO REZENDE OVAL 2X3,4KG</td>\n",
              "      <td>58.58</td>\n",
              "    </tr>\n",
              "  </tbody>\n",
              "</table>\n",
              "<p>16083 rows × 2 columns</p>\n",
              "</div>"
            ],
            "text/plain": [
              "                               PRODUTO  VALOR_VENDA\n",
              "27            PEITO CG FREDINI PT 20KG       958.40\n",
              "28          BANHA SEARA RF 18X1KG 18KG       210.24\n",
              "29             KINDER OVO T1X12 MENINO        65.42\n",
              "30              RICOTA ITA FRESCA 500G        78.65\n",
              "31                    MUSSARELA ITAOCA       240.74\n",
              "...                                ...          ...\n",
              "121064                MUSSARELA ITAOCA       228.36\n",
              "121065  BACON G CAMPEIRO EXT PALETA KG       135.36\n",
              "121066       HAMB TEXAS AVE/BOV 36X56G        35.64\n",
              "121067     LING REZEND PALITUS 6X2,5KG        46.45\n",
              "121068   PRESUNTO REZENDE OVAL 2X3,4KG        58.58\n",
              "\n",
              "[16083 rows x 2 columns]"
            ]
          },
          "metadata": {},
          "execution_count": 60
        }
      ]
    },
    {
      "cell_type": "code",
      "metadata": {
        "id": "xi7Jsxw4lZ_Z"
      },
      "source": [
        "frame = frame_agrupado.groupby('PRODUTO').sum()"
      ],
      "execution_count": null,
      "outputs": []
    },
    {
      "cell_type": "code",
      "metadata": {
        "colab": {
          "base_uri": "https://localhost:8080/",
          "height": 1000
        },
        "id": "e-fvAngWmUjL",
        "outputId": "a3bd546c-d48e-49f0-a79c-32635abe7ffa"
      },
      "source": [
        "frame.head(60)"
      ],
      "execution_count": null,
      "outputs": [
        {
          "output_type": "execute_result",
          "data": {
            "text/html": [
              "<div>\n",
              "<style scoped>\n",
              "    .dataframe tbody tr th:only-of-type {\n",
              "        vertical-align: middle;\n",
              "    }\n",
              "\n",
              "    .dataframe tbody tr th {\n",
              "        vertical-align: top;\n",
              "    }\n",
              "\n",
              "    .dataframe thead th {\n",
              "        text-align: right;\n",
              "    }\n",
              "</style>\n",
              "<table border=\"1\" class=\"dataframe\">\n",
              "  <thead>\n",
              "    <tr style=\"text-align: right;\">\n",
              "      <th></th>\n",
              "      <th>VALOR_VENDA</th>\n",
              "    </tr>\n",
              "    <tr>\n",
              "      <th>PRODUTO</th>\n",
              "      <th></th>\n",
              "    </tr>\n",
              "  </thead>\n",
              "  <tbody>\n",
              "    <tr>\n",
              "      <th>ACEM CG CRUZ SUL KG</th>\n",
              "      <td>10047.16</td>\n",
              "    </tr>\n",
              "    <tr>\n",
              "      <th>ACEM CG F LESTE PORCIONADO KG</th>\n",
              "      <td>34240.07</td>\n",
              "    </tr>\n",
              "    <tr>\n",
              "      <th>ACEM CG FRIBOI KG</th>\n",
              "      <td>1952.11</td>\n",
              "    </tr>\n",
              "    <tr>\n",
              "      <th>ALCATR C/MAM CG COOPCARNE KG</th>\n",
              "      <td>279.43</td>\n",
              "    </tr>\n",
              "    <tr>\n",
              "      <th>ALCATR C/MAM CG FRIGODIAS KG</th>\n",
              "      <td>604.82</td>\n",
              "    </tr>\n",
              "    <tr>\n",
              "      <th>ALCATR COMP CG CRUZ SUL GRILL</th>\n",
              "      <td>21891.33</td>\n",
              "    </tr>\n",
              "    <tr>\n",
              "      <th>ALCATR COMP CG TOPCARNE KG</th>\n",
              "      <td>10682.96</td>\n",
              "    </tr>\n",
              "    <tr>\n",
              "      <th>ALCATR COMP RF CRUZ SUL GRILL</th>\n",
              "      <td>353.21</td>\n",
              "    </tr>\n",
              "    <tr>\n",
              "      <th>ALMOND BOV CG SEARA 12X500G 6K</th>\n",
              "      <td>215.76</td>\n",
              "    </tr>\n",
              "    <tr>\n",
              "      <th>ANEL CEBOLA CG MCCAIN 18X400G</th>\n",
              "      <td>170.64</td>\n",
              "    </tr>\n",
              "    <tr>\n",
              "      <th>APRES REZEND RETANG 2X3,5K 7KG</th>\n",
              "      <td>92272.07</td>\n",
              "    </tr>\n",
              "    <tr>\n",
              "      <th>APRES SEARA FATIADO 20X200G</th>\n",
              "      <td>654.60</td>\n",
              "    </tr>\n",
              "    <tr>\n",
              "      <th>APRES SEARA RET 4X3,64 14,55K</th>\n",
              "      <td>9537.18</td>\n",
              "    </tr>\n",
              "    <tr>\n",
              "      <th>ASA CG AVENOVA ENV 20G</th>\n",
              "      <td>28471.18</td>\n",
              "    </tr>\n",
              "    <tr>\n",
              "      <th>ASA CG AVENOVA ENV 20G VLA</th>\n",
              "      <td>1503.60</td>\n",
              "    </tr>\n",
              "    <tr>\n",
              "      <th>ASA CG AVENOVA INT 4X5KG 20KG</th>\n",
              "      <td>5667.45</td>\n",
              "    </tr>\n",
              "    <tr>\n",
              "      <th>ASA CG AVENOVA INT 4X5KG VLA</th>\n",
              "      <td>239.60</td>\n",
              "    </tr>\n",
              "    <tr>\n",
              "      <th>ASA CG AVENOVA PT 20KG</th>\n",
              "      <td>1481.80</td>\n",
              "    </tr>\n",
              "    <tr>\n",
              "      <th>ASA CG AVENOVA PT 20KG VLA</th>\n",
              "      <td>5274.35</td>\n",
              "    </tr>\n",
              "    <tr>\n",
              "      <th>ASA CG BIG INT 20KG</th>\n",
              "      <td>23449.69</td>\n",
              "    </tr>\n",
              "    <tr>\n",
              "      <th>ASA CG BIG INT 20KG VLA</th>\n",
              "      <td>979.20</td>\n",
              "    </tr>\n",
              "    <tr>\n",
              "      <th>ASA CG COGRAN PT 20KG</th>\n",
              "      <td>225.60</td>\n",
              "    </tr>\n",
              "    <tr>\n",
              "      <th>ASA CG FERREIRA INT 2X10KG 20K</th>\n",
              "      <td>2322.40</td>\n",
              "    </tr>\n",
              "    <tr>\n",
              "      <th>ASA CG FERREIRA PT 20KG</th>\n",
              "      <td>6654.84</td>\n",
              "    </tr>\n",
              "    <tr>\n",
              "      <th>ASA CG FERREIRA PT 20KG VLA</th>\n",
              "      <td>513.33</td>\n",
              "    </tr>\n",
              "    <tr>\n",
              "      <th>ASA CG FRANCAP ENV 20KG</th>\n",
              "      <td>5546.80</td>\n",
              "    </tr>\n",
              "    <tr>\n",
              "      <th>ASA CG FRANCAP ENV 20KG VLA</th>\n",
              "      <td>2084.01</td>\n",
              "    </tr>\n",
              "    <tr>\n",
              "      <th>ASA CG FRANCAP INT 20KG</th>\n",
              "      <td>2217.80</td>\n",
              "    </tr>\n",
              "    <tr>\n",
              "      <th>ASA CG FRANCAP PT 20KG</th>\n",
              "      <td>12953.92</td>\n",
              "    </tr>\n",
              "    <tr>\n",
              "      <th>ASA CG FRANCAP PT 20KG VLA</th>\n",
              "      <td>3309.60</td>\n",
              "    </tr>\n",
              "    <tr>\n",
              "      <th>ASA CG PIF PAF PT 20KG</th>\n",
              "      <td>4663.28</td>\n",
              "    </tr>\n",
              "    <tr>\n",
              "      <th>ASA CG RARA ENV 20KG</th>\n",
              "      <td>3388.60</td>\n",
              "    </tr>\n",
              "    <tr>\n",
              "      <th>BACON ADEEL EXTRA PALETA KG</th>\n",
              "      <td>34968.99</td>\n",
              "    </tr>\n",
              "    <tr>\n",
              "      <th>BACON ADEEL EXTRA PERNIL KG</th>\n",
              "      <td>14540.26</td>\n",
              "    </tr>\n",
              "    <tr>\n",
              "      <th>BACON ADEEL MANTA KG</th>\n",
              "      <td>2503.83</td>\n",
              "    </tr>\n",
              "    <tr>\n",
              "      <th>BACON CG IMPERATRIZ CUBO 10X1K</th>\n",
              "      <td>41671.15</td>\n",
              "    </tr>\n",
              "    <tr>\n",
              "      <th>BACON CG IMPERATRIZ CUBO 15X1K</th>\n",
              "      <td>17470.80</td>\n",
              "    </tr>\n",
              "    <tr>\n",
              "      <th>BACON F LESTE MANTA KG</th>\n",
              "      <td>27416.47</td>\n",
              "    </tr>\n",
              "    <tr>\n",
              "      <th>BACON G CAMPEIRO EXT PALETA KG</th>\n",
              "      <td>11897.55</td>\n",
              "    </tr>\n",
              "    <tr>\n",
              "      <th>BACON G CAMPEIRO MANTA KG</th>\n",
              "      <td>5293.13</td>\n",
              "    </tr>\n",
              "    <tr>\n",
              "      <th>BACON G CAMPEIRO PERNIL KG</th>\n",
              "      <td>5060.82</td>\n",
              "    </tr>\n",
              "    <tr>\n",
              "      <th>BACON REZENDE MANTA 16KG</th>\n",
              "      <td>49524.29</td>\n",
              "    </tr>\n",
              "    <tr>\n",
              "      <th>BACON REZENDE PEDACO KG</th>\n",
              "      <td>4312.99</td>\n",
              "    </tr>\n",
              "    <tr>\n",
              "      <th>BACON SEARA FAT D SMOK 20X180G</th>\n",
              "      <td>353.60</td>\n",
              "    </tr>\n",
              "    <tr>\n",
              "      <th>BACON SEARA FATIAS 20X250G</th>\n",
              "      <td>693.20</td>\n",
              "    </tr>\n",
              "    <tr>\n",
              "      <th>BACON SEARA MANTA 4X4,00 16KG</th>\n",
              "      <td>69757.27</td>\n",
              "    </tr>\n",
              "    <tr>\n",
              "      <th>BACON SEARA MANTA EXTRA KG</th>\n",
              "      <td>8782.85</td>\n",
              "    </tr>\n",
              "    <tr>\n",
              "      <th>BACON SEARA PEDACO KG</th>\n",
              "      <td>47.08</td>\n",
              "    </tr>\n",
              "    <tr>\n",
              "      <th>BANANINHA CG CRUZ SUL KG</th>\n",
              "      <td>12012.66</td>\n",
              "    </tr>\n",
              "    <tr>\n",
              "      <th>BANANINHA CG FRIGODIAS KG</th>\n",
              "      <td>610.56</td>\n",
              "    </tr>\n",
              "    <tr>\n",
              "      <th>BANHA ALIBEM  18X1KG 18KG</th>\n",
              "      <td>6667.17</td>\n",
              "    </tr>\n",
              "    <tr>\n",
              "      <th>BANHA SEARA RF 18X1KG 18KG</th>\n",
              "      <td>38182.21</td>\n",
              "    </tr>\n",
              "    <tr>\n",
              "      <th>BANHA SEARA RF 18X1KG 18KG VLA</th>\n",
              "      <td>7346.34</td>\n",
              "    </tr>\n",
              "    <tr>\n",
              "      <th>BAT CG CROQUES 10X1,01KG 10,1K</th>\n",
              "      <td>1839.36</td>\n",
              "    </tr>\n",
              "    <tr>\n",
              "      <th>BAT CG CROQUES 26X375G 9,75KG</th>\n",
              "      <td>8466.97</td>\n",
              "    </tr>\n",
              "    <tr>\n",
              "      <th>BAT CG CROQUES 5X2KG 10KG</th>\n",
              "      <td>28568.15</td>\n",
              "    </tr>\n",
              "    <tr>\n",
              "      <th>BAT CG CROQUES CRINKL 10X1,01K</th>\n",
              "      <td>925.11</td>\n",
              "    </tr>\n",
              "    <tr>\n",
              "      <th>BAT CG MCCAIN AO FORNO 16X600G</th>\n",
              "      <td>138.88</td>\n",
              "    </tr>\n",
              "    <tr>\n",
              "      <th>BAT CG MCCAIN C FINO 7M 20X400</th>\n",
              "      <td>358.80</td>\n",
              "    </tr>\n",
              "    <tr>\n",
              "      <th>BAT CG MCCAIN C TRAD 9M 10X1,5</th>\n",
              "      <td>5418.00</td>\n",
              "    </tr>\n",
              "  </tbody>\n",
              "</table>\n",
              "</div>"
            ],
            "text/plain": [
              "                                VALOR_VENDA\n",
              "PRODUTO                                    \n",
              "ACEM CG CRUZ SUL KG                10047.16\n",
              "ACEM CG F LESTE PORCIONADO KG      34240.07\n",
              "ACEM CG FRIBOI KG                   1952.11\n",
              "ALCATR C/MAM CG COOPCARNE KG         279.43\n",
              "ALCATR C/MAM CG FRIGODIAS KG         604.82\n",
              "ALCATR COMP CG CRUZ SUL GRILL      21891.33\n",
              "ALCATR COMP CG TOPCARNE KG         10682.96\n",
              "ALCATR COMP RF CRUZ SUL GRILL        353.21\n",
              "ALMOND BOV CG SEARA 12X500G 6K       215.76\n",
              "ANEL CEBOLA CG MCCAIN 18X400G        170.64\n",
              "APRES REZEND RETANG 2X3,5K 7KG     92272.07\n",
              "APRES SEARA FATIADO 20X200G          654.60\n",
              "APRES SEARA RET 4X3,64 14,55K       9537.18\n",
              "ASA CG AVENOVA ENV 20G             28471.18\n",
              "ASA CG AVENOVA ENV 20G VLA          1503.60\n",
              "ASA CG AVENOVA INT 4X5KG 20KG       5667.45\n",
              "ASA CG AVENOVA INT 4X5KG VLA         239.60\n",
              "ASA CG AVENOVA PT 20KG              1481.80\n",
              "ASA CG AVENOVA PT 20KG VLA          5274.35\n",
              "ASA CG BIG INT 20KG                23449.69\n",
              "ASA CG BIG INT 20KG VLA              979.20\n",
              "ASA CG COGRAN PT 20KG                225.60\n",
              "ASA CG FERREIRA INT 2X10KG 20K      2322.40\n",
              "ASA CG FERREIRA PT 20KG             6654.84\n",
              "ASA CG FERREIRA PT 20KG VLA          513.33\n",
              "ASA CG FRANCAP ENV 20KG             5546.80\n",
              "ASA CG FRANCAP ENV 20KG VLA         2084.01\n",
              "ASA CG FRANCAP INT 20KG             2217.80\n",
              "ASA CG FRANCAP PT 20KG             12953.92\n",
              "ASA CG FRANCAP PT 20KG VLA          3309.60\n",
              "ASA CG PIF PAF PT 20KG              4663.28\n",
              "ASA CG RARA ENV 20KG                3388.60\n",
              "BACON ADEEL EXTRA PALETA KG        34968.99\n",
              "BACON ADEEL EXTRA PERNIL KG        14540.26\n",
              "BACON ADEEL MANTA KG                2503.83\n",
              "BACON CG IMPERATRIZ CUBO 10X1K     41671.15\n",
              "BACON CG IMPERATRIZ CUBO 15X1K     17470.80\n",
              "BACON F LESTE MANTA KG             27416.47\n",
              "BACON G CAMPEIRO EXT PALETA KG     11897.55\n",
              "BACON G CAMPEIRO MANTA KG           5293.13\n",
              "BACON G CAMPEIRO PERNIL KG          5060.82\n",
              "BACON REZENDE MANTA 16KG           49524.29\n",
              "BACON REZENDE PEDACO KG             4312.99\n",
              "BACON SEARA FAT D SMOK 20X180G       353.60\n",
              "BACON SEARA FATIAS 20X250G           693.20\n",
              "BACON SEARA MANTA 4X4,00 16KG      69757.27\n",
              "BACON SEARA MANTA EXTRA KG          8782.85\n",
              "BACON SEARA PEDACO KG                 47.08\n",
              "BANANINHA CG CRUZ SUL KG           12012.66\n",
              "BANANINHA CG FRIGODIAS KG            610.56\n",
              "BANHA ALIBEM  18X1KG 18KG           6667.17\n",
              "BANHA SEARA RF 18X1KG 18KG         38182.21\n",
              "BANHA SEARA RF 18X1KG 18KG VLA      7346.34\n",
              "BAT CG CROQUES 10X1,01KG 10,1K      1839.36\n",
              "BAT CG CROQUES 26X375G 9,75KG       8466.97\n",
              "BAT CG CROQUES 5X2KG 10KG          28568.15\n",
              "BAT CG CROQUES CRINKL 10X1,01K       925.11\n",
              "BAT CG MCCAIN AO FORNO 16X600G       138.88\n",
              "BAT CG MCCAIN C FINO 7M 20X400       358.80\n",
              "BAT CG MCCAIN C TRAD 9M 10X1,5      5418.00"
            ]
          },
          "metadata": {},
          "execution_count": 62
        }
      ]
    },
    {
      "cell_type": "code",
      "metadata": {
        "colab": {
          "base_uri": "https://localhost:8080/"
        },
        "id": "vSo4Y8J3wGN7",
        "outputId": "08cdaca5-e56e-478f-9626-18a289665b57"
      },
      "source": [
        "frame.dtypes"
      ],
      "execution_count": null,
      "outputs": [
        {
          "output_type": "execute_result",
          "data": {
            "text/plain": [
              "VALOR_VENDA    float64\n",
              "dtype: object"
            ]
          },
          "metadata": {},
          "execution_count": 70
        }
      ]
    },
    {
      "cell_type": "code",
      "metadata": {
        "id": "d4WjDlm2s1s5"
      },
      "source": [
        "frame_cliente = canal_teste['PRODUTO']"
      ],
      "execution_count": null,
      "outputs": []
    },
    {
      "cell_type": "code",
      "metadata": {
        "id": "T14JllPAuY69"
      },
      "source": [
        "lista_cliente = frame_cliente.tolist()\n"
      ],
      "execution_count": null,
      "outputs": []
    },
    {
      "cell_type": "code",
      "metadata": {
        "id": "a93vHRDfu20p"
      },
      "source": [
        "lista_valor = frame.tolist()"
      ],
      "execution_count": null,
      "outputs": []
    },
    {
      "cell_type": "code",
      "metadata": {
        "id": "Z_0UpaBVioe7"
      },
      "source": [
        "############################### 10112021"
      ],
      "execution_count": null,
      "outputs": []
    },
    {
      "cell_type": "code",
      "metadata": {
        "id": "WBsEdsK7isQq"
      },
      "source": [
        "canal = pd.read_excel('/content/Relatório de venda_testes.xlsx')"
      ],
      "execution_count": null,
      "outputs": []
    },
    {
      "cell_type": "code",
      "metadata": {
        "id": "BUTQiMFMi4Gr"
      },
      "source": [
        "canal_cliente = canal.loc[(canal.COD_CLIENTE == 37361)]"
      ],
      "execution_count": null,
      "outputs": []
    },
    {
      "cell_type": "code",
      "metadata": {
        "id": "FzwSY7fVi5hJ"
      },
      "source": [
        "canal_cliente"
      ],
      "execution_count": null,
      "outputs": []
    },
    {
      "cell_type": "code",
      "metadata": {
        "id": "34sNWW_sPNqB"
      },
      "source": [
        "canal_cliente = canal_cliente.drop_duplicates(subset='PRODUTO')"
      ],
      "execution_count": null,
      "outputs": []
    },
    {
      "cell_type": "code",
      "metadata": {
        "id": "dJuSNSr7k__V",
        "colab": {
          "base_uri": "https://localhost:8080/",
          "height": 171
        },
        "outputId": "1fcb2827-b69e-4c0e-c9d5-378cbcf5b16b"
      },
      "source": [
        "canal_cliente"
      ],
      "execution_count": null,
      "outputs": [
        {
          "output_type": "execute_result",
          "data": {
            "text/html": [
              "<div>\n",
              "<style scoped>\n",
              "    .dataframe tbody tr th:only-of-type {\n",
              "        vertical-align: middle;\n",
              "    }\n",
              "\n",
              "    .dataframe tbody tr th {\n",
              "        vertical-align: top;\n",
              "    }\n",
              "\n",
              "    .dataframe thead th {\n",
              "        text-align: right;\n",
              "    }\n",
              "</style>\n",
              "<table border=\"1\" class=\"dataframe\">\n",
              "  <thead>\n",
              "    <tr style=\"text-align: right;\">\n",
              "      <th></th>\n",
              "      <th>COD_CLIENTE</th>\n",
              "      <th>CLIENTE</th>\n",
              "      <th>CANAL</th>\n",
              "      <th>COD_PRODUTO</th>\n",
              "      <th>PRODUTO</th>\n",
              "    </tr>\n",
              "  </thead>\n",
              "  <tbody>\n",
              "    <tr>\n",
              "      <th>72</th>\n",
              "      <td>37361</td>\n",
              "      <td>A &amp; A RESTAURANTE E LANCHONETE LTDA</td>\n",
              "      <td>SAPATARIA</td>\n",
              "      <td>6247</td>\n",
              "      <td>COPA LOMBO S/OSS CG COOPCARNE</td>\n",
              "    </tr>\n",
              "    <tr>\n",
              "      <th>73</th>\n",
              "      <td>37361</td>\n",
              "      <td>A &amp; A RESTAURANTE E LANCHONETE LTDA</td>\n",
              "      <td>SAPATARIA</td>\n",
              "      <td>3752</td>\n",
              "      <td>COXA/SC CG FRANCAP PT 20KG</td>\n",
              "    </tr>\n",
              "    <tr>\n",
              "      <th>76</th>\n",
              "      <td>37361</td>\n",
              "      <td>A &amp; A RESTAURANTE E LANCHONETE LTDA</td>\n",
              "      <td>SAPATARIA</td>\n",
              "      <td>32059</td>\n",
              "      <td>GALINHA CG SABORO PESADA 18KG</td>\n",
              "    </tr>\n",
              "    <tr>\n",
              "      <th>79</th>\n",
              "      <td>37361</td>\n",
              "      <td>A &amp; A RESTAURANTE E LANCHONETE LTDA</td>\n",
              "      <td>SAPATARIA</td>\n",
              "      <td>4712</td>\n",
              "      <td>PX CURIMBATA EVISC LCA  20KG</td>\n",
              "    </tr>\n",
              "  </tbody>\n",
              "</table>\n",
              "</div>"
            ],
            "text/plain": [
              "    COD_CLIENTE  ...                        PRODUTO\n",
              "72        37361  ...  COPA LOMBO S/OSS CG COOPCARNE\n",
              "73        37361  ...     COXA/SC CG FRANCAP PT 20KG\n",
              "76        37361  ...  GALINHA CG SABORO PESADA 18KG\n",
              "79        37361  ...   PX CURIMBATA EVISC LCA  20KG\n",
              "\n",
              "[4 rows x 5 columns]"
            ]
          },
          "metadata": {},
          "execution_count": 16
        }
      ]
    },
    {
      "cell_type": "code",
      "metadata": {
        "id": "A2ieWZV_i8Ji"
      },
      "source": [
        "canal_geral = canal.loc[(canal.CANAL == 'SAPATARIA')]"
      ],
      "execution_count": null,
      "outputs": []
    },
    {
      "cell_type": "code",
      "metadata": {
        "id": "0-WNKHJFQApo",
        "colab": {
          "base_uri": "https://localhost:8080/",
          "height": 477
        },
        "outputId": "23c21f5a-63cb-415d-b34c-937a046f8177"
      },
      "source": [
        "canal_geral"
      ],
      "execution_count": null,
      "outputs": [
        {
          "output_type": "execute_result",
          "data": {
            "text/html": [
              "<div>\n",
              "<style scoped>\n",
              "    .dataframe tbody tr th:only-of-type {\n",
              "        vertical-align: middle;\n",
              "    }\n",
              "\n",
              "    .dataframe tbody tr th {\n",
              "        vertical-align: top;\n",
              "    }\n",
              "\n",
              "    .dataframe thead th {\n",
              "        text-align: right;\n",
              "    }\n",
              "</style>\n",
              "<table border=\"1\" class=\"dataframe\">\n",
              "  <thead>\n",
              "    <tr style=\"text-align: right;\">\n",
              "      <th></th>\n",
              "      <th>COD_CLIENTE</th>\n",
              "      <th>CLIENTE</th>\n",
              "      <th>CANAL</th>\n",
              "      <th>COD_PRODUTO</th>\n",
              "      <th>PRODUTO</th>\n",
              "    </tr>\n",
              "  </thead>\n",
              "  <tbody>\n",
              "    <tr>\n",
              "      <th>54</th>\n",
              "      <td>12586</td>\n",
              "      <td>3GA SUPERMERCADO LTDA</td>\n",
              "      <td>SAPATARIA</td>\n",
              "      <td>61240</td>\n",
              "      <td>ASA CG AVENOVA ENV 18KG</td>\n",
              "    </tr>\n",
              "    <tr>\n",
              "      <th>55</th>\n",
              "      <td>12586</td>\n",
              "      <td>3GA SUPERMERCADO LTDA</td>\n",
              "      <td>SAPATARIA</td>\n",
              "      <td>9434</td>\n",
              "      <td>COX ASA CG BIG TEMP PT18KG</td>\n",
              "    </tr>\n",
              "    <tr>\n",
              "      <th>56</th>\n",
              "      <td>12586</td>\n",
              "      <td>3GA SUPERMERCADO LTDA</td>\n",
              "      <td>SAPATARIA</td>\n",
              "      <td>3752</td>\n",
              "      <td>COXA/SC CG FRANCAP PT 20KG</td>\n",
              "    </tr>\n",
              "    <tr>\n",
              "      <th>57</th>\n",
              "      <td>12586</td>\n",
              "      <td>3GA SUPERMERCADO LTDA</td>\n",
              "      <td>SAPATARIA</td>\n",
              "      <td>77871</td>\n",
              "      <td>EMP REZENDE STEAK FGO 72X100G</td>\n",
              "    </tr>\n",
              "    <tr>\n",
              "      <th>58</th>\n",
              "      <td>12586</td>\n",
              "      <td>3GA SUPERMERCADO LTDA</td>\n",
              "      <td>SAPATARIA</td>\n",
              "      <td>4011</td>\n",
              "      <td>FRANGO CG FERREIRA 20KG</td>\n",
              "    </tr>\n",
              "    <tr>\n",
              "      <th>59</th>\n",
              "      <td>12586</td>\n",
              "      <td>3GA SUPERMERCADO LTDA</td>\n",
              "      <td>SAPATARIA</td>\n",
              "      <td>2700</td>\n",
              "      <td>LEITE LV ITA INTEGRAL 12X1L</td>\n",
              "    </tr>\n",
              "    <tr>\n",
              "      <th>61</th>\n",
              "      <td>12586</td>\n",
              "      <td>3GA SUPERMERCADO LTDA</td>\n",
              "      <td>SAPATARIA</td>\n",
              "      <td>1322</td>\n",
              "      <td>LING SADELLE CALAB FININ 3X5KG</td>\n",
              "    </tr>\n",
              "    <tr>\n",
              "      <th>62</th>\n",
              "      <td>12586</td>\n",
              "      <td>3GA SUPERMERCADO LTDA</td>\n",
              "      <td>SAPATARIA</td>\n",
              "      <td>3385</td>\n",
              "      <td>MACA PEITO CG CRUZ SUL 25KG</td>\n",
              "    </tr>\n",
              "    <tr>\n",
              "      <th>63</th>\n",
              "      <td>12586</td>\n",
              "      <td>3GA SUPERMERCADO LTDA</td>\n",
              "      <td>SAPATARIA</td>\n",
              "      <td>35996</td>\n",
              "      <td>MANTEIGA ITAOCA C/SAL 500G</td>\n",
              "    </tr>\n",
              "    <tr>\n",
              "      <th>65</th>\n",
              "      <td>12586</td>\n",
              "      <td>3GA SUPERMERCADO LTDA</td>\n",
              "      <td>SAPATARIA</td>\n",
              "      <td>2800</td>\n",
              "      <td>MUSSARELA ITAOCA</td>\n",
              "    </tr>\n",
              "    <tr>\n",
              "      <th>70</th>\n",
              "      <td>12586</td>\n",
              "      <td>3GA SUPERMERCADO LTDA</td>\n",
              "      <td>SAPATARIA</td>\n",
              "      <td>4534</td>\n",
              "      <td>PX SURUBIM POST DIBON 15X700G</td>\n",
              "    </tr>\n",
              "    <tr>\n",
              "      <th>72</th>\n",
              "      <td>37361</td>\n",
              "      <td>A &amp; A RESTAURANTE E LANCHONETE LTDA</td>\n",
              "      <td>SAPATARIA</td>\n",
              "      <td>6247</td>\n",
              "      <td>COPA LOMBO S/OSS CG COOPCARNE</td>\n",
              "    </tr>\n",
              "    <tr>\n",
              "      <th>76</th>\n",
              "      <td>37361</td>\n",
              "      <td>A &amp; A RESTAURANTE E LANCHONETE LTDA</td>\n",
              "      <td>SAPATARIA</td>\n",
              "      <td>32059</td>\n",
              "      <td>GALINHA CG SABORO PESADA 18KG</td>\n",
              "    </tr>\n",
              "    <tr>\n",
              "      <th>79</th>\n",
              "      <td>37361</td>\n",
              "      <td>A &amp; A RESTAURANTE E LANCHONETE LTDA</td>\n",
              "      <td>SAPATARIA</td>\n",
              "      <td>4712</td>\n",
              "      <td>PX CURIMBATA EVISC LCA  20KG</td>\n",
              "    </tr>\n",
              "  </tbody>\n",
              "</table>\n",
              "</div>"
            ],
            "text/plain": [
              "    COD_CLIENTE  ...                         PRODUTO\n",
              "54        12586  ...         ASA CG AVENOVA ENV 18KG\n",
              "55        12586  ...      COX ASA CG BIG TEMP PT18KG\n",
              "56        12586  ...      COXA/SC CG FRANCAP PT 20KG\n",
              "57        12586  ...   EMP REZENDE STEAK FGO 72X100G\n",
              "58        12586  ...         FRANGO CG FERREIRA 20KG\n",
              "59        12586  ...     LEITE LV ITA INTEGRAL 12X1L\n",
              "61        12586  ...  LING SADELLE CALAB FININ 3X5KG\n",
              "62        12586  ...     MACA PEITO CG CRUZ SUL 25KG\n",
              "63        12586  ...      MANTEIGA ITAOCA C/SAL 500G\n",
              "65        12586  ...                MUSSARELA ITAOCA\n",
              "70        12586  ...   PX SURUBIM POST DIBON 15X700G\n",
              "72        37361  ...   COPA LOMBO S/OSS CG COOPCARNE\n",
              "76        37361  ...   GALINHA CG SABORO PESADA 18KG\n",
              "79        37361  ...    PX CURIMBATA EVISC LCA  20KG\n",
              "\n",
              "[14 rows x 5 columns]"
            ]
          },
          "metadata": {},
          "execution_count": 32
        }
      ]
    },
    {
      "cell_type": "code",
      "metadata": {
        "id": "7w3nSuIqQI48"
      },
      "source": [
        "canal_geral = canal_geral.drop_duplicates(subset='PRODUTO')"
      ],
      "execution_count": null,
      "outputs": []
    },
    {
      "cell_type": "code",
      "metadata": {
        "colab": {
          "base_uri": "https://localhost:8080/",
          "height": 355
        },
        "id": "5L7AvZ31QT22",
        "outputId": "0e4cd201-6410-4b5f-844c-c510dd8ff189"
      },
      "source": [
        "####  concatenar dois frames\n",
        "lista_exclusao = canal_cliente['PRODUTO'].tolist()\n",
        "#canal_geral = canal_geral.drop(['COXA/SC CG FRANCAP PT 20KG'], axis=1, inplace=True)\n",
        "#canal_geral.drop(indexNames , inplace=True)\n",
        "df_saida = canal_geral.loc[~canal_geral['PRODUTO'].isin(lista_exclusao)]\n",
        "df_saida\n",
        "\n",
        "\n"
      ],
      "execution_count": null,
      "outputs": [
        {
          "output_type": "execute_result",
          "data": {
            "text/html": [
              "<div>\n",
              "<style scoped>\n",
              "    .dataframe tbody tr th:only-of-type {\n",
              "        vertical-align: middle;\n",
              "    }\n",
              "\n",
              "    .dataframe tbody tr th {\n",
              "        vertical-align: top;\n",
              "    }\n",
              "\n",
              "    .dataframe thead th {\n",
              "        text-align: right;\n",
              "    }\n",
              "</style>\n",
              "<table border=\"1\" class=\"dataframe\">\n",
              "  <thead>\n",
              "    <tr style=\"text-align: right;\">\n",
              "      <th></th>\n",
              "      <th>COD_CLIENTE</th>\n",
              "      <th>CLIENTE</th>\n",
              "      <th>CANAL</th>\n",
              "      <th>COD_PRODUTO</th>\n",
              "      <th>PRODUTO</th>\n",
              "    </tr>\n",
              "  </thead>\n",
              "  <tbody>\n",
              "    <tr>\n",
              "      <th>54</th>\n",
              "      <td>12586</td>\n",
              "      <td>3GA SUPERMERCADO LTDA</td>\n",
              "      <td>SAPATARIA</td>\n",
              "      <td>61240</td>\n",
              "      <td>ASA CG AVENOVA ENV 18KG</td>\n",
              "    </tr>\n",
              "    <tr>\n",
              "      <th>55</th>\n",
              "      <td>12586</td>\n",
              "      <td>3GA SUPERMERCADO LTDA</td>\n",
              "      <td>SAPATARIA</td>\n",
              "      <td>9434</td>\n",
              "      <td>COX ASA CG BIG TEMP PT18KG</td>\n",
              "    </tr>\n",
              "    <tr>\n",
              "      <th>57</th>\n",
              "      <td>12586</td>\n",
              "      <td>3GA SUPERMERCADO LTDA</td>\n",
              "      <td>SAPATARIA</td>\n",
              "      <td>77871</td>\n",
              "      <td>EMP REZENDE STEAK FGO 72X100G</td>\n",
              "    </tr>\n",
              "    <tr>\n",
              "      <th>58</th>\n",
              "      <td>12586</td>\n",
              "      <td>3GA SUPERMERCADO LTDA</td>\n",
              "      <td>SAPATARIA</td>\n",
              "      <td>4011</td>\n",
              "      <td>FRANGO CG FERREIRA 20KG</td>\n",
              "    </tr>\n",
              "    <tr>\n",
              "      <th>59</th>\n",
              "      <td>12586</td>\n",
              "      <td>3GA SUPERMERCADO LTDA</td>\n",
              "      <td>SAPATARIA</td>\n",
              "      <td>2700</td>\n",
              "      <td>LEITE LV ITA INTEGRAL 12X1L</td>\n",
              "    </tr>\n",
              "    <tr>\n",
              "      <th>61</th>\n",
              "      <td>12586</td>\n",
              "      <td>3GA SUPERMERCADO LTDA</td>\n",
              "      <td>SAPATARIA</td>\n",
              "      <td>1322</td>\n",
              "      <td>LING SADELLE CALAB FININ 3X5KG</td>\n",
              "    </tr>\n",
              "    <tr>\n",
              "      <th>62</th>\n",
              "      <td>12586</td>\n",
              "      <td>3GA SUPERMERCADO LTDA</td>\n",
              "      <td>SAPATARIA</td>\n",
              "      <td>3385</td>\n",
              "      <td>MACA PEITO CG CRUZ SUL 25KG</td>\n",
              "    </tr>\n",
              "    <tr>\n",
              "      <th>63</th>\n",
              "      <td>12586</td>\n",
              "      <td>3GA SUPERMERCADO LTDA</td>\n",
              "      <td>SAPATARIA</td>\n",
              "      <td>35996</td>\n",
              "      <td>MANTEIGA ITAOCA C/SAL 500G</td>\n",
              "    </tr>\n",
              "    <tr>\n",
              "      <th>65</th>\n",
              "      <td>12586</td>\n",
              "      <td>3GA SUPERMERCADO LTDA</td>\n",
              "      <td>SAPATARIA</td>\n",
              "      <td>2800</td>\n",
              "      <td>MUSSARELA ITAOCA</td>\n",
              "    </tr>\n",
              "    <tr>\n",
              "      <th>70</th>\n",
              "      <td>12586</td>\n",
              "      <td>3GA SUPERMERCADO LTDA</td>\n",
              "      <td>SAPATARIA</td>\n",
              "      <td>4534</td>\n",
              "      <td>PX SURUBIM POST DIBON 15X700G</td>\n",
              "    </tr>\n",
              "  </tbody>\n",
              "</table>\n",
              "</div>"
            ],
            "text/plain": [
              "    COD_CLIENTE  ...                         PRODUTO\n",
              "54        12586  ...         ASA CG AVENOVA ENV 18KG\n",
              "55        12586  ...      COX ASA CG BIG TEMP PT18KG\n",
              "57        12586  ...   EMP REZENDE STEAK FGO 72X100G\n",
              "58        12586  ...         FRANGO CG FERREIRA 20KG\n",
              "59        12586  ...     LEITE LV ITA INTEGRAL 12X1L\n",
              "61        12586  ...  LING SADELLE CALAB FININ 3X5KG\n",
              "62        12586  ...     MACA PEITO CG CRUZ SUL 25KG\n",
              "63        12586  ...      MANTEIGA ITAOCA C/SAL 500G\n",
              "65        12586  ...                MUSSARELA ITAOCA\n",
              "70        12586  ...   PX SURUBIM POST DIBON 15X700G\n",
              "\n",
              "[10 rows x 5 columns]"
            ]
          },
          "metadata": {},
          "execution_count": 31
        }
      ]
    },
    {
      "cell_type": "code",
      "metadata": {
        "colab": {
          "base_uri": "https://localhost:8080/",
          "height": 414
        },
        "id": "Sn4KbxkcnHUA",
        "outputId": "d3e19ca5-5e7f-4047-866b-25f701f57970"
      },
      "source": [
        "canal_geral"
      ],
      "execution_count": null,
      "outputs": [
        {
          "output_type": "execute_result",
          "data": {
            "text/html": [
              "<div>\n",
              "<style scoped>\n",
              "    .dataframe tbody tr th:only-of-type {\n",
              "        vertical-align: middle;\n",
              "    }\n",
              "\n",
              "    .dataframe tbody tr th {\n",
              "        vertical-align: top;\n",
              "    }\n",
              "\n",
              "    .dataframe thead th {\n",
              "        text-align: right;\n",
              "    }\n",
              "</style>\n",
              "<table border=\"1\" class=\"dataframe\">\n",
              "  <thead>\n",
              "    <tr style=\"text-align: right;\">\n",
              "      <th></th>\n",
              "      <th>COD_CLIENTE</th>\n",
              "      <th>CLIENTE</th>\n",
              "      <th>CANAL</th>\n",
              "      <th>COD_PRODUTO</th>\n",
              "      <th>PRODUTO</th>\n",
              "    </tr>\n",
              "  </thead>\n",
              "  <tbody>\n",
              "    <tr>\n",
              "      <th>0</th>\n",
              "      <td>86838</td>\n",
              "      <td>ANTARES COMERCIO DE ALIMENTOS EIRELI</td>\n",
              "      <td>FARMACIA</td>\n",
              "      <td>2800</td>\n",
              "      <td>MUSSARELA ITAOCA</td>\n",
              "    </tr>\n",
              "    <tr>\n",
              "      <th>1</th>\n",
              "      <td>86838</td>\n",
              "      <td>ANTARES COMERCIO DE ALIMENTOS EIRELI</td>\n",
              "      <td>FARMACIA</td>\n",
              "      <td>2800</td>\n",
              "      <td>MUSSARELA ITAOCA</td>\n",
              "    </tr>\n",
              "    <tr>\n",
              "      <th>2</th>\n",
              "      <td>86838</td>\n",
              "      <td>ANTARES COMERCIO DE ALIMENTOS EIRELI</td>\n",
              "      <td>FARMACIA</td>\n",
              "      <td>2800</td>\n",
              "      <td>MUSSARELA ITAOCA</td>\n",
              "    </tr>\n",
              "    <tr>\n",
              "      <th>3</th>\n",
              "      <td>86810</td>\n",
              "      <td>CLAUDIO ALOISIO DE FREITAS SILVA EIRELI</td>\n",
              "      <td>BAR</td>\n",
              "      <td>3465</td>\n",
              "      <td>ALCATRA COMP CG COOPCARNE 25KG</td>\n",
              "    </tr>\n",
              "    <tr>\n",
              "      <th>4</th>\n",
              "      <td>86810</td>\n",
              "      <td>CLAUDIO ALOISIO DE FREITAS SILVA EIRELI</td>\n",
              "      <td>BAR</td>\n",
              "      <td>3465</td>\n",
              "      <td>ALCATRA COMP CG COOPCARNE 25KG</td>\n",
              "    </tr>\n",
              "    <tr>\n",
              "      <th>...</th>\n",
              "      <td>...</td>\n",
              "      <td>...</td>\n",
              "      <td>...</td>\n",
              "      <td>...</td>\n",
              "      <td>...</td>\n",
              "    </tr>\n",
              "    <tr>\n",
              "      <th>67</th>\n",
              "      <td>12586</td>\n",
              "      <td>3GA SUPERMERCADO LTDA</td>\n",
              "      <td>SAPATARIA</td>\n",
              "      <td>2800</td>\n",
              "      <td>MUSSARELA ITAOCA</td>\n",
              "    </tr>\n",
              "    <tr>\n",
              "      <th>68</th>\n",
              "      <td>12586</td>\n",
              "      <td>3GA SUPERMERCADO LTDA</td>\n",
              "      <td>SAPATARIA</td>\n",
              "      <td>2800</td>\n",
              "      <td>MUSSARELA ITAOCA</td>\n",
              "    </tr>\n",
              "    <tr>\n",
              "      <th>69</th>\n",
              "      <td>12586</td>\n",
              "      <td>3GA SUPERMERCADO LTDA</td>\n",
              "      <td>SAPATARIA</td>\n",
              "      <td>2800</td>\n",
              "      <td>MUSSARELA ITAOCA</td>\n",
              "    </tr>\n",
              "    <tr>\n",
              "      <th>70</th>\n",
              "      <td>12586</td>\n",
              "      <td>3GA SUPERMERCADO LTDA</td>\n",
              "      <td>SAPATARIA</td>\n",
              "      <td>4534</td>\n",
              "      <td>PX SURUBIM POST DIBON 15X700G</td>\n",
              "    </tr>\n",
              "    <tr>\n",
              "      <th>71</th>\n",
              "      <td>12586</td>\n",
              "      <td>3GA SUPERMERCADO LTDA</td>\n",
              "      <td>SAPATARIA</td>\n",
              "      <td>4534</td>\n",
              "      <td>PX SURUBIM POST DIBON 15X700G</td>\n",
              "    </tr>\n",
              "  </tbody>\n",
              "</table>\n",
              "<p>72 rows × 5 columns</p>\n",
              "</div>"
            ],
            "text/plain": [
              "    COD_CLIENTE  ...                         PRODUTO\n",
              "0         86838  ...                MUSSARELA ITAOCA\n",
              "1         86838  ...                MUSSARELA ITAOCA\n",
              "2         86838  ...                MUSSARELA ITAOCA\n",
              "3         86810  ...  ALCATRA COMP CG COOPCARNE 25KG\n",
              "4         86810  ...  ALCATRA COMP CG COOPCARNE 25KG\n",
              "..          ...  ...                             ...\n",
              "67        12586  ...                MUSSARELA ITAOCA\n",
              "68        12586  ...                MUSSARELA ITAOCA\n",
              "69        12586  ...                MUSSARELA ITAOCA\n",
              "70        12586  ...   PX SURUBIM POST DIBON 15X700G\n",
              "71        12586  ...   PX SURUBIM POST DIBON 15X700G\n",
              "\n",
              "[72 rows x 5 columns]"
            ]
          },
          "metadata": {},
          "execution_count": 15
        }
      ]
    },
    {
      "cell_type": "code",
      "metadata": {
        "colab": {
          "base_uri": "https://localhost:8080/",
          "height": 414
        },
        "id": "Od-LpQajnNcB",
        "outputId": "d805381e-04d0-4be7-ead4-fd7a24c0b589"
      },
      "source": [
        "canal"
      ],
      "execution_count": null,
      "outputs": [
        {
          "output_type": "execute_result",
          "data": {
            "text/html": [
              "<div>\n",
              "<style scoped>\n",
              "    .dataframe tbody tr th:only-of-type {\n",
              "        vertical-align: middle;\n",
              "    }\n",
              "\n",
              "    .dataframe tbody tr th {\n",
              "        vertical-align: top;\n",
              "    }\n",
              "\n",
              "    .dataframe thead th {\n",
              "        text-align: right;\n",
              "    }\n",
              "</style>\n",
              "<table border=\"1\" class=\"dataframe\">\n",
              "  <thead>\n",
              "    <tr style=\"text-align: right;\">\n",
              "      <th></th>\n",
              "      <th>COD_CLIENTE</th>\n",
              "      <th>CLIENTE</th>\n",
              "      <th>CANAL</th>\n",
              "      <th>COD_PRODUTO</th>\n",
              "      <th>PRODUTO</th>\n",
              "    </tr>\n",
              "  </thead>\n",
              "  <tbody>\n",
              "    <tr>\n",
              "      <th>0</th>\n",
              "      <td>86838</td>\n",
              "      <td>ANTARES COMERCIO DE ALIMENTOS EIRELI</td>\n",
              "      <td>FARMACIA</td>\n",
              "      <td>2800</td>\n",
              "      <td>MUSSARELA ITAOCA</td>\n",
              "    </tr>\n",
              "    <tr>\n",
              "      <th>1</th>\n",
              "      <td>86838</td>\n",
              "      <td>ANTARES COMERCIO DE ALIMENTOS EIRELI</td>\n",
              "      <td>FARMACIA</td>\n",
              "      <td>2800</td>\n",
              "      <td>MUSSARELA ITAOCA</td>\n",
              "    </tr>\n",
              "    <tr>\n",
              "      <th>2</th>\n",
              "      <td>86838</td>\n",
              "      <td>ANTARES COMERCIO DE ALIMENTOS EIRELI</td>\n",
              "      <td>FARMACIA</td>\n",
              "      <td>2800</td>\n",
              "      <td>MUSSARELA ITAOCA</td>\n",
              "    </tr>\n",
              "    <tr>\n",
              "      <th>3</th>\n",
              "      <td>86810</td>\n",
              "      <td>CLAUDIO ALOISIO DE FREITAS SILVA EIRELI</td>\n",
              "      <td>BAR</td>\n",
              "      <td>3465</td>\n",
              "      <td>ALCATRA COMP CG COOPCARNE 25KG</td>\n",
              "    </tr>\n",
              "    <tr>\n",
              "      <th>4</th>\n",
              "      <td>86810</td>\n",
              "      <td>CLAUDIO ALOISIO DE FREITAS SILVA EIRELI</td>\n",
              "      <td>BAR</td>\n",
              "      <td>3465</td>\n",
              "      <td>ALCATRA COMP CG COOPCARNE 25KG</td>\n",
              "    </tr>\n",
              "    <tr>\n",
              "      <th>...</th>\n",
              "      <td>...</td>\n",
              "      <td>...</td>\n",
              "      <td>...</td>\n",
              "      <td>...</td>\n",
              "      <td>...</td>\n",
              "    </tr>\n",
              "    <tr>\n",
              "      <th>80</th>\n",
              "      <td>37361</td>\n",
              "      <td>A &amp; A RESTAURANTE E LANCHONETE LTDA</td>\n",
              "      <td>SAPATARIA</td>\n",
              "      <td>4712</td>\n",
              "      <td>PX CURIMBATA EVISC LCA  20KG</td>\n",
              "    </tr>\n",
              "    <tr>\n",
              "      <th>81</th>\n",
              "      <td>37361</td>\n",
              "      <td>A &amp; A RESTAURANTE E LANCHONETE LTDA</td>\n",
              "      <td>SAPATARIA</td>\n",
              "      <td>4712</td>\n",
              "      <td>PX CURIMBATA EVISC LCA  20KG</td>\n",
              "    </tr>\n",
              "    <tr>\n",
              "      <th>82</th>\n",
              "      <td>37361</td>\n",
              "      <td>A &amp; A RESTAURANTE E LANCHONETE LTDA</td>\n",
              "      <td>SAPATARIA</td>\n",
              "      <td>4712</td>\n",
              "      <td>PX CURIMBATA EVISC LCA  20KG</td>\n",
              "    </tr>\n",
              "    <tr>\n",
              "      <th>83</th>\n",
              "      <td>37361</td>\n",
              "      <td>A &amp; A RESTAURANTE E LANCHONETE LTDA</td>\n",
              "      <td>SAPATARIA</td>\n",
              "      <td>4712</td>\n",
              "      <td>PX CURIMBATA EVISC LCA  20KG</td>\n",
              "    </tr>\n",
              "    <tr>\n",
              "      <th>84</th>\n",
              "      <td>37361</td>\n",
              "      <td>A &amp; A RESTAURANTE E LANCHONETE LTDA</td>\n",
              "      <td>SAPATARIA</td>\n",
              "      <td>4712</td>\n",
              "      <td>PX CURIMBATA EVISC LCA  20KG</td>\n",
              "    </tr>\n",
              "  </tbody>\n",
              "</table>\n",
              "<p>85 rows × 5 columns</p>\n",
              "</div>"
            ],
            "text/plain": [
              "    COD_CLIENTE  ...                         PRODUTO\n",
              "0         86838  ...                MUSSARELA ITAOCA\n",
              "1         86838  ...                MUSSARELA ITAOCA\n",
              "2         86838  ...                MUSSARELA ITAOCA\n",
              "3         86810  ...  ALCATRA COMP CG COOPCARNE 25KG\n",
              "4         86810  ...  ALCATRA COMP CG COOPCARNE 25KG\n",
              "..          ...  ...                             ...\n",
              "80        37361  ...    PX CURIMBATA EVISC LCA  20KG\n",
              "81        37361  ...    PX CURIMBATA EVISC LCA  20KG\n",
              "82        37361  ...    PX CURIMBATA EVISC LCA  20KG\n",
              "83        37361  ...    PX CURIMBATA EVISC LCA  20KG\n",
              "84        37361  ...    PX CURIMBATA EVISC LCA  20KG\n",
              "\n",
              "[85 rows x 5 columns]"
            ]
          },
          "metadata": {},
          "execution_count": 30
        }
      ]
    },
    {
      "cell_type": "code",
      "metadata": {
        "id": "dMasfDP3qF6E"
      },
      "source": [
        ""
      ],
      "execution_count": null,
      "outputs": []
    },
    {
      "cell_type": "code",
      "metadata": {
        "id": "Cxbek8T4oDcZ"
      },
      "source": [
        "canal['PRODUTO'] = canal['PRODUTO'].apply(lambda x: str(x).replace(\"KG\",\"\"))"
      ],
      "execution_count": null,
      "outputs": []
    },
    {
      "cell_type": "code",
      "metadata": {
        "colab": {
          "base_uri": "https://localhost:8080/",
          "height": 414
        },
        "id": "ip1wG63VqhKK",
        "outputId": "423ab27c-89b0-4da3-d60d-35a59dfda659"
      },
      "source": [
        "canal"
      ],
      "execution_count": null,
      "outputs": [
        {
          "output_type": "execute_result",
          "data": {
            "text/html": [
              "<div>\n",
              "<style scoped>\n",
              "    .dataframe tbody tr th:only-of-type {\n",
              "        vertical-align: middle;\n",
              "    }\n",
              "\n",
              "    .dataframe tbody tr th {\n",
              "        vertical-align: top;\n",
              "    }\n",
              "\n",
              "    .dataframe thead th {\n",
              "        text-align: right;\n",
              "    }\n",
              "</style>\n",
              "<table border=\"1\" class=\"dataframe\">\n",
              "  <thead>\n",
              "    <tr style=\"text-align: right;\">\n",
              "      <th></th>\n",
              "      <th>COD_CLIENTE</th>\n",
              "      <th>CLIENTE</th>\n",
              "      <th>CANAL</th>\n",
              "      <th>COD_PRODUTO</th>\n",
              "      <th>PRODUTO</th>\n",
              "    </tr>\n",
              "  </thead>\n",
              "  <tbody>\n",
              "    <tr>\n",
              "      <th>0</th>\n",
              "      <td>86838</td>\n",
              "      <td>ANTARES COMERCIO DE ALIMENTOS EIRELI</td>\n",
              "      <td>FARMACIA</td>\n",
              "      <td>2800</td>\n",
              "      <td>MUSSARELA ITAOCA</td>\n",
              "    </tr>\n",
              "    <tr>\n",
              "      <th>1</th>\n",
              "      <td>86838</td>\n",
              "      <td>ANTARES COMERCIO DE ALIMENTOS EIRELI</td>\n",
              "      <td>FARMACIA</td>\n",
              "      <td>2800</td>\n",
              "      <td>MUSSARELA ITAOCA</td>\n",
              "    </tr>\n",
              "    <tr>\n",
              "      <th>2</th>\n",
              "      <td>86838</td>\n",
              "      <td>ANTARES COMERCIO DE ALIMENTOS EIRELI</td>\n",
              "      <td>FARMACIA</td>\n",
              "      <td>2800</td>\n",
              "      <td>MUSSARELA ITAOCA</td>\n",
              "    </tr>\n",
              "    <tr>\n",
              "      <th>3</th>\n",
              "      <td>86810</td>\n",
              "      <td>CLAUDIO ALOISIO DE FREITAS SILVA EIRELI</td>\n",
              "      <td>BAR</td>\n",
              "      <td>3465</td>\n",
              "      <td>ALCATRA COMP CG COOPCARNE 25</td>\n",
              "    </tr>\n",
              "    <tr>\n",
              "      <th>4</th>\n",
              "      <td>86810</td>\n",
              "      <td>CLAUDIO ALOISIO DE FREITAS SILVA EIRELI</td>\n",
              "      <td>BAR</td>\n",
              "      <td>3465</td>\n",
              "      <td>ALCATRA COMP CG COOPCARNE 25</td>\n",
              "    </tr>\n",
              "    <tr>\n",
              "      <th>...</th>\n",
              "      <td>...</td>\n",
              "      <td>...</td>\n",
              "      <td>...</td>\n",
              "      <td>...</td>\n",
              "      <td>...</td>\n",
              "    </tr>\n",
              "    <tr>\n",
              "      <th>80</th>\n",
              "      <td>37361</td>\n",
              "      <td>A &amp; A RESTAURANTE E LANCHONETE LTDA</td>\n",
              "      <td>SAPATARIA</td>\n",
              "      <td>4712</td>\n",
              "      <td>PX CURIMBATA EVISC LCA  20</td>\n",
              "    </tr>\n",
              "    <tr>\n",
              "      <th>81</th>\n",
              "      <td>37361</td>\n",
              "      <td>A &amp; A RESTAURANTE E LANCHONETE LTDA</td>\n",
              "      <td>SAPATARIA</td>\n",
              "      <td>4712</td>\n",
              "      <td>PX CURIMBATA EVISC LCA  20</td>\n",
              "    </tr>\n",
              "    <tr>\n",
              "      <th>82</th>\n",
              "      <td>37361</td>\n",
              "      <td>A &amp; A RESTAURANTE E LANCHONETE LTDA</td>\n",
              "      <td>SAPATARIA</td>\n",
              "      <td>4712</td>\n",
              "      <td>PX CURIMBATA EVISC LCA  20</td>\n",
              "    </tr>\n",
              "    <tr>\n",
              "      <th>83</th>\n",
              "      <td>37361</td>\n",
              "      <td>A &amp; A RESTAURANTE E LANCHONETE LTDA</td>\n",
              "      <td>SAPATARIA</td>\n",
              "      <td>4712</td>\n",
              "      <td>PX CURIMBATA EVISC LCA  20</td>\n",
              "    </tr>\n",
              "    <tr>\n",
              "      <th>84</th>\n",
              "      <td>37361</td>\n",
              "      <td>A &amp; A RESTAURANTE E LANCHONETE LTDA</td>\n",
              "      <td>SAPATARIA</td>\n",
              "      <td>4712</td>\n",
              "      <td>PX CURIMBATA EVISC LCA  20</td>\n",
              "    </tr>\n",
              "  </tbody>\n",
              "</table>\n",
              "<p>85 rows × 5 columns</p>\n",
              "</div>"
            ],
            "text/plain": [
              "    COD_CLIENTE  ...                       PRODUTO\n",
              "0         86838  ...              MUSSARELA ITAOCA\n",
              "1         86838  ...              MUSSARELA ITAOCA\n",
              "2         86838  ...              MUSSARELA ITAOCA\n",
              "3         86810  ...  ALCATRA COMP CG COOPCARNE 25\n",
              "4         86810  ...  ALCATRA COMP CG COOPCARNE 25\n",
              "..          ...  ...                           ...\n",
              "80        37361  ...    PX CURIMBATA EVISC LCA  20\n",
              "81        37361  ...    PX CURIMBATA EVISC LCA  20\n",
              "82        37361  ...    PX CURIMBATA EVISC LCA  20\n",
              "83        37361  ...    PX CURIMBATA EVISC LCA  20\n",
              "84        37361  ...    PX CURIMBATA EVISC LCA  20\n",
              "\n",
              "[85 rows x 5 columns]"
            ]
          },
          "metadata": {},
          "execution_count": 32
        }
      ]
    },
    {
      "cell_type": "code",
      "metadata": {
        "id": "1djUtexstbMH"
      },
      "source": [
        "canal_teste =  pd.read_csv('vendas_canal_grupo_valores.csv', sep= ';',  encoding = 'unicode_escape')"
      ],
      "execution_count": null,
      "outputs": []
    },
    {
      "cell_type": "code",
      "metadata": {
        "id": "dpauf8ulSvy3"
      },
      "source": [
        "canal_teste.dtypes"
      ],
      "execution_count": null,
      "outputs": []
    },
    {
      "cell_type": "code",
      "metadata": {
        "id": "7DCt2vVVts82"
      },
      "source": [
        "canal_teste['PRODUTO'] = canal_teste['PRODUTO'].apply(lambda x: str(x).replace(\"VLA\",\"\"))"
      ],
      "execution_count": null,
      "outputs": []
    },
    {
      "cell_type": "code",
      "metadata": {
        "id": "OSWEWOP0uAVl"
      },
      "source": [
        "canal_teste['PRODUTO'] = canal_teste['PRODUTO'].apply(lambda x: str(x).replace(\"VL\",\"\"))"
      ],
      "execution_count": null,
      "outputs": []
    },
    {
      "cell_type": "code",
      "metadata": {
        "id": "K64f0CrgSgSa"
      },
      "source": [
        "canal_teste.dtypes"
      ],
      "execution_count": null,
      "outputs": []
    },
    {
      "cell_type": "code",
      "metadata": {
        "id": "4XXjTEeOTe2e"
      },
      "source": [
        "canal_teste"
      ],
      "execution_count": null,
      "outputs": []
    },
    {
      "cell_type": "code",
      "metadata": {
        "id": "3hqKkXZdiq3v"
      },
      "source": [
        "#canal_teste['PRODUTO'] =canal_teste['PRODUTO'].map(lambda x: x.lstrip('VL').rstrip('VLA'))\n",
        "canal_teste = canal_teste.apply(lambda x: x.str.strip() if x.dtype == \"object\" else x)\n",
        "lista_teste = canal_teste['PRODUTO'].tolist()\n",
        "lista_unica = list(set(lista_teste))\n",
        "lista_unica = sorted(lista_unica)\n"
      ],
      "execution_count": null,
      "outputs": []
    },
    {
      "cell_type": "code",
      "metadata": {
        "id": "akSo6RSnldmg"
      },
      "source": [
        "lista_unica"
      ],
      "execution_count": null,
      "outputs": []
    },
    {
      "cell_type": "code",
      "metadata": {
        "colab": {
          "base_uri": "https://localhost:8080/",
          "height": 797
        },
        "id": "1wGh0uU7i8R_",
        "outputId": "73303e69-d6d3-4c95-b52f-cb84acdc32c2"
      },
      "source": [
        "canal_teste"
      ],
      "execution_count": null,
      "outputs": [
        {
          "output_type": "execute_result",
          "data": {
            "text/html": [
              "<div>\n",
              "<style scoped>\n",
              "    .dataframe tbody tr th:only-of-type {\n",
              "        vertical-align: middle;\n",
              "    }\n",
              "\n",
              "    .dataframe tbody tr th {\n",
              "        vertical-align: top;\n",
              "    }\n",
              "\n",
              "    .dataframe thead th {\n",
              "        text-align: right;\n",
              "    }\n",
              "</style>\n",
              "<table border=\"1\" class=\"dataframe\">\n",
              "  <thead>\n",
              "    <tr style=\"text-align: right;\">\n",
              "      <th></th>\n",
              "      <th>COD_CLIENTE</th>\n",
              "      <th>CLIENTE</th>\n",
              "      <th>COD_VENDEDOR</th>\n",
              "      <th>CANAL</th>\n",
              "      <th>COD_PRODUTO</th>\n",
              "      <th>PRODUTO</th>\n",
              "      <th>GRUPO_DE_PRODUTO</th>\n",
              "      <th>VALOR_VENDA</th>\n",
              "      <th>Unnamed: 8</th>\n",
              "    </tr>\n",
              "  </thead>\n",
              "  <tbody>\n",
              "    <tr>\n",
              "      <th>0</th>\n",
              "      <td>4</td>\n",
              "      <td>FRANCIANE BRAGA &amp; CIA. LTDA</td>\n",
              "      <td>6</td>\n",
              "      <td>ARMAZENS E MERCEARIAS</td>\n",
              "      <td>77106</td>\n",
              "      <td>KINDER OVO T1X12 MENINO</td>\n",
              "      <td>KINDER OVO</td>\n",
              "      <td>126,27</td>\n",
              "      <td>NaN</td>\n",
              "    </tr>\n",
              "    <tr>\n",
              "      <th>1</th>\n",
              "      <td>4</td>\n",
              "      <td>FRANCIANE BRAGA &amp; CIA. LTDA</td>\n",
              "      <td>6</td>\n",
              "      <td>ARMAZENS E MERCEARIAS</td>\n",
              "      <td>77159</td>\n",
              "      <td>KINDER JOY T1X16</td>\n",
              "      <td>KINDER JOY</td>\n",
              "      <td>175,14</td>\n",
              "      <td>NaN</td>\n",
              "    </tr>\n",
              "    <tr>\n",
              "      <th>2</th>\n",
              "      <td>4</td>\n",
              "      <td>FRANCIANE BRAGA &amp; CIA. LTDA</td>\n",
              "      <td>6</td>\n",
              "      <td>ARMAZENS E MERCEARIAS</td>\n",
              "      <td>77218</td>\n",
              "      <td>KINDER OVO T1X12 MENIN</td>\n",
              "      <td>KINDER OVO</td>\n",
              "      <td>191,69</td>\n",
              "      <td>NaN</td>\n",
              "    </tr>\n",
              "    <tr>\n",
              "      <th>3</th>\n",
              "      <td>4</td>\n",
              "      <td>FRANCIANE BRAGA &amp; CIA. LTDA</td>\n",
              "      <td>6</td>\n",
              "      <td>ARMAZENS E MERCEARIAS</td>\n",
              "      <td>77435</td>\n",
              "      <td>KINDER CHOCOLATE T1X24</td>\n",
              "      <td>KINDER CHOCOLATE</td>\n",
              "      <td>32,77</td>\n",
              "      <td>NaN</td>\n",
              "    </tr>\n",
              "    <tr>\n",
              "      <th>4</th>\n",
              "      <td>4</td>\n",
              "      <td>FRANCIANE BRAGA &amp; CIA. LTDA</td>\n",
              "      <td>6</td>\n",
              "      <td>ARMAZENS E MERCEARIAS</td>\n",
              "      <td>77520</td>\n",
              "      <td>KINDER OVO T1X12 NATOONS</td>\n",
              "      <td>KINDER OVO</td>\n",
              "      <td>60,85</td>\n",
              "      <td>NaN</td>\n",
              "    </tr>\n",
              "    <tr>\n",
              "      <th>...</th>\n",
              "      <td>...</td>\n",
              "      <td>...</td>\n",
              "      <td>...</td>\n",
              "      <td>...</td>\n",
              "      <td>...</td>\n",
              "      <td>...</td>\n",
              "      <td>...</td>\n",
              "      <td>...</td>\n",
              "      <td>...</td>\n",
              "    </tr>\n",
              "    <tr>\n",
              "      <th>121126</th>\n",
              "      <td>88461</td>\n",
              "      <td>IZABELLE RODRIGUES SOUSA DOS SANTOS</td>\n",
              "      <td>884</td>\n",
              "      <td>FUNCIONARIO</td>\n",
              "      <td>78193</td>\n",
              "      <td>ING REZEND CALAB RETA 6X2.5KG</td>\n",
              "      <td>LING CALAB GRANEL SEARA (MIS)</td>\n",
              "      <td>79,9</td>\n",
              "      <td>NaN</td>\n",
              "    </tr>\n",
              "    <tr>\n",
              "      <th>121127</th>\n",
              "      <td>88461</td>\n",
              "      <td>IZABELLE RODRIGUES SOUSA DOS SANTOS</td>\n",
              "      <td>884</td>\n",
              "      <td>FUNCIONARIO</td>\n",
              "      <td>89190</td>\n",
              "      <td>EMP SEARA PRES/QJO 25X120G 3KG</td>\n",
              "      <td>EMPANADOS GRANEL SEARA (INC)</td>\n",
              "      <td>74,75</td>\n",
              "      <td>NaN</td>\n",
              "    </tr>\n",
              "    <tr>\n",
              "      <th>121128</th>\n",
              "      <td>88463</td>\n",
              "      <td>TARCISIO GERALDO GARCIA 00972421602</td>\n",
              "      <td>7</td>\n",
              "      <td>SEM CANAL</td>\n",
              "      <td>27199</td>\n",
              "      <td>ING SEARA PERNIL 24X700G</td>\n",
              "      <td>LING PAS SEARA (MIS)</td>\n",
              "      <td>2567,51</td>\n",
              "      <td>NaN</td>\n",
              "    </tr>\n",
              "    <tr>\n",
              "      <th>121129</th>\n",
              "      <td>88463</td>\n",
              "      <td>TARCISIO GERALDO GARCIA 00972421602</td>\n",
              "      <td>7</td>\n",
              "      <td>SEM CANAL</td>\n",
              "      <td>53101</td>\n",
              "      <td>COXAO DURO CG FRIBOI KG</td>\n",
              "      <td>COXAO DURO/COXAO MOLE (MIS)</td>\n",
              "      <td>435,4</td>\n",
              "      <td>NaN</td>\n",
              "    </tr>\n",
              "    <tr>\n",
              "      <th>121130</th>\n",
              "      <td>88464</td>\n",
              "      <td>JHOW CARNES E MERCADINHO LTDA</td>\n",
              "      <td>586</td>\n",
              "      <td>ACOUGUES, AVICOLAS, CASA CARNE</td>\n",
              "      <td>8241</td>\n",
              "      <td>PEITO CG FREDINI INT 20KG</td>\n",
              "      <td>PEITO DE FRANGO CG (INC)</td>\n",
              "      <td>231,6</td>\n",
              "      <td>NaN</td>\n",
              "    </tr>\n",
              "  </tbody>\n",
              "</table>\n",
              "<p>121131 rows × 9 columns</p>\n",
              "</div>"
            ],
            "text/plain": [
              "        COD_CLIENTE  ... Unnamed: 8\n",
              "0                 4  ...        NaN\n",
              "1                 4  ...        NaN\n",
              "2                 4  ...        NaN\n",
              "3                 4  ...        NaN\n",
              "4                 4  ...        NaN\n",
              "...             ...  ...        ...\n",
              "121126        88461  ...        NaN\n",
              "121127        88461  ...        NaN\n",
              "121128        88463  ...        NaN\n",
              "121129        88463  ...        NaN\n",
              "121130        88464  ...        NaN\n",
              "\n",
              "[121131 rows x 9 columns]"
            ]
          },
          "metadata": {},
          "execution_count": 9
        }
      ]
    },
    {
      "cell_type": "code",
      "metadata": {
        "colab": {
          "base_uri": "https://localhost:8080/",
          "height": 714
        },
        "id": "C5Q3VeClveXD",
        "outputId": "5596e0f8-3a73-4275-c955-e9f4663196a1"
      },
      "source": [
        "canal_teste.drop_duplicates(subset='PRODUTO')"
      ],
      "execution_count": null,
      "outputs": [
        {
          "output_type": "execute_result",
          "data": {
            "text/html": [
              "<div>\n",
              "<style scoped>\n",
              "    .dataframe tbody tr th:only-of-type {\n",
              "        vertical-align: middle;\n",
              "    }\n",
              "\n",
              "    .dataframe tbody tr th {\n",
              "        vertical-align: top;\n",
              "    }\n",
              "\n",
              "    .dataframe thead th {\n",
              "        text-align: right;\n",
              "    }\n",
              "</style>\n",
              "<table border=\"1\" class=\"dataframe\">\n",
              "  <thead>\n",
              "    <tr style=\"text-align: right;\">\n",
              "      <th></th>\n",
              "      <th>COD_CLIENTE</th>\n",
              "      <th>CLIENTE</th>\n",
              "      <th>COD_VENDEDOR</th>\n",
              "      <th>CANAL</th>\n",
              "      <th>COD_PRODUTO</th>\n",
              "      <th>PRODUTO</th>\n",
              "      <th>GRUPO_DE_PRODUTO</th>\n",
              "      <th>VALOR_VENDA</th>\n",
              "      <th>Unnamed: 8</th>\n",
              "    </tr>\n",
              "  </thead>\n",
              "  <tbody>\n",
              "    <tr>\n",
              "      <th>0</th>\n",
              "      <td>4</td>\n",
              "      <td>FRANCIANE BRAGA &amp; CIA. LTDA</td>\n",
              "      <td>6</td>\n",
              "      <td>ARMAZENS E MERCEARIAS</td>\n",
              "      <td>77106</td>\n",
              "      <td>KINDER OVO T1X12 MENINO</td>\n",
              "      <td>KINDER OVO</td>\n",
              "      <td>126,27</td>\n",
              "      <td>NaN</td>\n",
              "    </tr>\n",
              "    <tr>\n",
              "      <th>1</th>\n",
              "      <td>4</td>\n",
              "      <td>FRANCIANE BRAGA &amp; CIA. LTDA</td>\n",
              "      <td>6</td>\n",
              "      <td>ARMAZENS E MERCEARIAS</td>\n",
              "      <td>77159</td>\n",
              "      <td>KINDER JOY T1X16</td>\n",
              "      <td>KINDER JOY</td>\n",
              "      <td>175,14</td>\n",
              "      <td>NaN</td>\n",
              "    </tr>\n",
              "    <tr>\n",
              "      <th>2</th>\n",
              "      <td>4</td>\n",
              "      <td>FRANCIANE BRAGA &amp; CIA. LTDA</td>\n",
              "      <td>6</td>\n",
              "      <td>ARMAZENS E MERCEARIAS</td>\n",
              "      <td>77218</td>\n",
              "      <td>KINDER OVO T1X12 MENINA</td>\n",
              "      <td>KINDER OVO</td>\n",
              "      <td>191,69</td>\n",
              "      <td>NaN</td>\n",
              "    </tr>\n",
              "    <tr>\n",
              "      <th>3</th>\n",
              "      <td>4</td>\n",
              "      <td>FRANCIANE BRAGA &amp; CIA. LTDA</td>\n",
              "      <td>6</td>\n",
              "      <td>ARMAZENS E MERCEARIAS</td>\n",
              "      <td>77435</td>\n",
              "      <td>KINDER CHOCOLATE T1X24</td>\n",
              "      <td>KINDER CHOCOLATE</td>\n",
              "      <td>32,77</td>\n",
              "      <td>NaN</td>\n",
              "    </tr>\n",
              "    <tr>\n",
              "      <th>4</th>\n",
              "      <td>4</td>\n",
              "      <td>FRANCIANE BRAGA &amp; CIA. LTDA</td>\n",
              "      <td>6</td>\n",
              "      <td>ARMAZENS E MERCEARIAS</td>\n",
              "      <td>77520</td>\n",
              "      <td>KINDER OVO T1X12 NATOONS</td>\n",
              "      <td>KINDER OVO</td>\n",
              "      <td>60,85</td>\n",
              "      <td>NaN</td>\n",
              "    </tr>\n",
              "    <tr>\n",
              "      <th>...</th>\n",
              "      <td>...</td>\n",
              "      <td>...</td>\n",
              "      <td>...</td>\n",
              "      <td>...</td>\n",
              "      <td>...</td>\n",
              "      <td>...</td>\n",
              "      <td>...</td>\n",
              "      <td>...</td>\n",
              "      <td>...</td>\n",
              "    </tr>\n",
              "    <tr>\n",
              "      <th>120753</th>\n",
              "      <td>88367</td>\n",
              "      <td>WILLIAN JOSE BRAGA 08897531644</td>\n",
              "      <td>895</td>\n",
              "      <td>ARMAZENS E MERCEARIAS</td>\n",
              "      <td>63925</td>\n",
              "      <td>COX ASA CG BIG FRANGO PT 18KG</td>\n",
              "      <td>COXINHA DA ASA CG (INC)</td>\n",
              "      <td>215,82</td>\n",
              "      <td>NaN</td>\n",
              "    </tr>\n",
              "    <tr>\n",
              "      <th>120937</th>\n",
              "      <td>88401</td>\n",
              "      <td>UAI SUPERMERCADOS LTDA</td>\n",
              "      <td>543</td>\n",
              "      <td>ARMAZENS E MERCEARIAS</td>\n",
              "      <td>58816</td>\n",
              "      <td>AVE BIG MASTER TEMP 19,00KG</td>\n",
              "      <td>AVES COMEMORATIVAS (MISTO)</td>\n",
              "      <td>262,3</td>\n",
              "      <td>NaN</td>\n",
              "    </tr>\n",
              "    <tr>\n",
              "      <th>120950</th>\n",
              "      <td>88401</td>\n",
              "      <td>UAI SUPERMERCADOS LTDA</td>\n",
              "      <td>543</td>\n",
              "      <td>ARMAZENS E MERCEARIAS</td>\n",
              "      <td>95242</td>\n",
              "      <td>PERU CG SEARA C/4PCS 18KG</td>\n",
              "      <td>AVES COMEMORATIVAS (MISTO)</td>\n",
              "      <td>476,12</td>\n",
              "      <td>NaN</td>\n",
              "    </tr>\n",
              "    <tr>\n",
              "      <th>121128</th>\n",
              "      <td>88463</td>\n",
              "      <td>TARCISIO GERALDO GARCIA 00972421602</td>\n",
              "      <td>7</td>\n",
              "      <td>SEM CANAL</td>\n",
              "      <td>27199</td>\n",
              "      <td>LING SEARA PERNIL 24X700G</td>\n",
              "      <td>LING PAS SEARA (MIS)</td>\n",
              "      <td>2567,51</td>\n",
              "      <td>NaN</td>\n",
              "    </tr>\n",
              "    <tr>\n",
              "      <th>121129</th>\n",
              "      <td>88463</td>\n",
              "      <td>TARCISIO GERALDO GARCIA 00972421602</td>\n",
              "      <td>7</td>\n",
              "      <td>SEM CANAL</td>\n",
              "      <td>53101</td>\n",
              "      <td>COXAO DURO CG FRIBOI KG</td>\n",
              "      <td>COXAO DURO/COXAO MOLE (MIS)</td>\n",
              "      <td>435,4</td>\n",
              "      <td>NaN</td>\n",
              "    </tr>\n",
              "  </tbody>\n",
              "</table>\n",
              "<p>1023 rows × 9 columns</p>\n",
              "</div>"
            ],
            "text/plain": [
              "        COD_CLIENTE  ... Unnamed: 8\n",
              "0                 4  ...        NaN\n",
              "1                 4  ...        NaN\n",
              "2                 4  ...        NaN\n",
              "3                 4  ...        NaN\n",
              "4                 4  ...        NaN\n",
              "...             ...  ...        ...\n",
              "120753        88367  ...        NaN\n",
              "120937        88401  ...        NaN\n",
              "120950        88401  ...        NaN\n",
              "121128        88463  ...        NaN\n",
              "121129        88463  ...        NaN\n",
              "\n",
              "[1023 rows x 9 columns]"
            ]
          },
          "metadata": {},
          "execution_count": 55
        }
      ]
    },
    {
      "cell_type": "code",
      "metadata": {
        "id": "SyWCGfzwVEwH"
      },
      "source": [
        "canal_teste.to_csv('lista_atual.csv', sep=';')"
      ],
      "execution_count": null,
      "outputs": []
    },
    {
      "cell_type": "code",
      "metadata": {
        "id": "U9siKrZzrBoD"
      },
      "source": [
        "canal_teste['PRODUTO'] = canal_teste['PRODUTO'].astype('str')"
      ],
      "execution_count": null,
      "outputs": []
    },
    {
      "cell_type": "code",
      "metadata": {
        "colab": {
          "base_uri": "https://localhost:8080/"
        },
        "id": "rHKWsg3Grshd",
        "outputId": "41a84993-9b08-407b-9c64-2bd6000062c1"
      },
      "source": [
        "canal_teste['PRODUTO'].unique()"
      ],
      "execution_count": null,
      "outputs": [
        {
          "output_type": "execute_result",
          "data": {
            "text/plain": [
              "array(['KINDER OVO T1X12 MENINO', 'KINDER JOY T1X16',\n",
              "       'KINDER OVO T1X12 MENINA', ..., 'PERU CG SEARA C/4PCS 18KG',\n",
              "       'LING SEARA PERNIL 24X700G', 'COXAO DURO CG FRIBOI KG'],\n",
              "      dtype=object)"
            ]
          },
          "metadata": {},
          "execution_count": 56
        }
      ]
    },
    {
      "cell_type": "code",
      "metadata": {
        "colab": {
          "base_uri": "https://localhost:8080/",
          "height": 714
        },
        "id": "nQ7YdSfKu8Id",
        "outputId": "9ea2cc3a-4a37-4bf2-e614-755a7e9ce7eb"
      },
      "source": [
        "canal_teste"
      ],
      "execution_count": null,
      "outputs": [
        {
          "output_type": "execute_result",
          "data": {
            "text/html": [
              "<div>\n",
              "<style scoped>\n",
              "    .dataframe tbody tr th:only-of-type {\n",
              "        vertical-align: middle;\n",
              "    }\n",
              "\n",
              "    .dataframe tbody tr th {\n",
              "        vertical-align: top;\n",
              "    }\n",
              "\n",
              "    .dataframe thead th {\n",
              "        text-align: right;\n",
              "    }\n",
              "</style>\n",
              "<table border=\"1\" class=\"dataframe\">\n",
              "  <thead>\n",
              "    <tr style=\"text-align: right;\">\n",
              "      <th></th>\n",
              "      <th>COD_CLIENTE</th>\n",
              "      <th>CLIENTE</th>\n",
              "      <th>COD_VENDEDOR</th>\n",
              "      <th>CANAL</th>\n",
              "      <th>COD_PRODUTO</th>\n",
              "      <th>PRODUTO</th>\n",
              "      <th>GRUPO_DE_PRODUTO</th>\n",
              "      <th>VALOR_VENDA</th>\n",
              "      <th>Unnamed: 8</th>\n",
              "    </tr>\n",
              "  </thead>\n",
              "  <tbody>\n",
              "    <tr>\n",
              "      <th>0</th>\n",
              "      <td>4</td>\n",
              "      <td>FRANCIANE BRAGA &amp; CIA. LTDA</td>\n",
              "      <td>6</td>\n",
              "      <td>ARMAZENS E MERCEARIAS</td>\n",
              "      <td>77106</td>\n",
              "      <td>KINDER OVO T1X12 MENINO</td>\n",
              "      <td>KINDER OVO</td>\n",
              "      <td>126,27</td>\n",
              "      <td>NaN</td>\n",
              "    </tr>\n",
              "    <tr>\n",
              "      <th>1</th>\n",
              "      <td>4</td>\n",
              "      <td>FRANCIANE BRAGA &amp; CIA. LTDA</td>\n",
              "      <td>6</td>\n",
              "      <td>ARMAZENS E MERCEARIAS</td>\n",
              "      <td>77159</td>\n",
              "      <td>KINDER JOY T1X16</td>\n",
              "      <td>KINDER JOY</td>\n",
              "      <td>175,14</td>\n",
              "      <td>NaN</td>\n",
              "    </tr>\n",
              "    <tr>\n",
              "      <th>2</th>\n",
              "      <td>4</td>\n",
              "      <td>FRANCIANE BRAGA &amp; CIA. LTDA</td>\n",
              "      <td>6</td>\n",
              "      <td>ARMAZENS E MERCEARIAS</td>\n",
              "      <td>77218</td>\n",
              "      <td>KINDER OVO T1X12 MENINA</td>\n",
              "      <td>KINDER OVO</td>\n",
              "      <td>191,69</td>\n",
              "      <td>NaN</td>\n",
              "    </tr>\n",
              "    <tr>\n",
              "      <th>3</th>\n",
              "      <td>4</td>\n",
              "      <td>FRANCIANE BRAGA &amp; CIA. LTDA</td>\n",
              "      <td>6</td>\n",
              "      <td>ARMAZENS E MERCEARIAS</td>\n",
              "      <td>77435</td>\n",
              "      <td>KINDER CHOCOLATE T1X24</td>\n",
              "      <td>KINDER CHOCOLATE</td>\n",
              "      <td>32,77</td>\n",
              "      <td>NaN</td>\n",
              "    </tr>\n",
              "    <tr>\n",
              "      <th>4</th>\n",
              "      <td>4</td>\n",
              "      <td>FRANCIANE BRAGA &amp; CIA. LTDA</td>\n",
              "      <td>6</td>\n",
              "      <td>ARMAZENS E MERCEARIAS</td>\n",
              "      <td>77520</td>\n",
              "      <td>KINDER OVO T1X12 NATOONS</td>\n",
              "      <td>KINDER OVO</td>\n",
              "      <td>60,85</td>\n",
              "      <td>NaN</td>\n",
              "    </tr>\n",
              "    <tr>\n",
              "      <th>...</th>\n",
              "      <td>...</td>\n",
              "      <td>...</td>\n",
              "      <td>...</td>\n",
              "      <td>...</td>\n",
              "      <td>...</td>\n",
              "      <td>...</td>\n",
              "      <td>...</td>\n",
              "      <td>...</td>\n",
              "      <td>...</td>\n",
              "    </tr>\n",
              "    <tr>\n",
              "      <th>120753</th>\n",
              "      <td>88367</td>\n",
              "      <td>WILLIAN JOSE BRAGA 08897531644</td>\n",
              "      <td>895</td>\n",
              "      <td>ARMAZENS E MERCEARIAS</td>\n",
              "      <td>63925</td>\n",
              "      <td>COX ASA CG BIG FRANGO PT 18KG</td>\n",
              "      <td>COXINHA DA ASA CG (INC)</td>\n",
              "      <td>215,82</td>\n",
              "      <td>NaN</td>\n",
              "    </tr>\n",
              "    <tr>\n",
              "      <th>120937</th>\n",
              "      <td>88401</td>\n",
              "      <td>UAI SUPERMERCADOS LTDA</td>\n",
              "      <td>543</td>\n",
              "      <td>ARMAZENS E MERCEARIAS</td>\n",
              "      <td>58816</td>\n",
              "      <td>AVE BIG MASTER TEMP 19,00KG</td>\n",
              "      <td>AVES COMEMORATIVAS (MISTO)</td>\n",
              "      <td>262,3</td>\n",
              "      <td>NaN</td>\n",
              "    </tr>\n",
              "    <tr>\n",
              "      <th>120950</th>\n",
              "      <td>88401</td>\n",
              "      <td>UAI SUPERMERCADOS LTDA</td>\n",
              "      <td>543</td>\n",
              "      <td>ARMAZENS E MERCEARIAS</td>\n",
              "      <td>95242</td>\n",
              "      <td>PERU CG SEARA C/4PCS 18KG</td>\n",
              "      <td>AVES COMEMORATIVAS (MISTO)</td>\n",
              "      <td>476,12</td>\n",
              "      <td>NaN</td>\n",
              "    </tr>\n",
              "    <tr>\n",
              "      <th>121128</th>\n",
              "      <td>88463</td>\n",
              "      <td>TARCISIO GERALDO GARCIA 00972421602</td>\n",
              "      <td>7</td>\n",
              "      <td>SEM CANAL</td>\n",
              "      <td>27199</td>\n",
              "      <td>LING SEARA PERNIL 24X700G</td>\n",
              "      <td>LING PAS SEARA (MIS)</td>\n",
              "      <td>2567,51</td>\n",
              "      <td>NaN</td>\n",
              "    </tr>\n",
              "    <tr>\n",
              "      <th>121129</th>\n",
              "      <td>88463</td>\n",
              "      <td>TARCISIO GERALDO GARCIA 00972421602</td>\n",
              "      <td>7</td>\n",
              "      <td>SEM CANAL</td>\n",
              "      <td>53101</td>\n",
              "      <td>COXAO DURO CG FRIBOI KG</td>\n",
              "      <td>COXAO DURO/COXAO MOLE (MIS)</td>\n",
              "      <td>435,4</td>\n",
              "      <td>NaN</td>\n",
              "    </tr>\n",
              "  </tbody>\n",
              "</table>\n",
              "<p>1023 rows × 9 columns</p>\n",
              "</div>"
            ],
            "text/plain": [
              "        COD_CLIENTE  ... Unnamed: 8\n",
              "0                 4  ...        NaN\n",
              "1                 4  ...        NaN\n",
              "2                 4  ...        NaN\n",
              "3                 4  ...        NaN\n",
              "4                 4  ...        NaN\n",
              "...             ...  ...        ...\n",
              "120753        88367  ...        NaN\n",
              "120937        88401  ...        NaN\n",
              "120950        88401  ...        NaN\n",
              "121128        88463  ...        NaN\n",
              "121129        88463  ...        NaN\n",
              "\n",
              "[1023 rows x 9 columns]"
            ]
          },
          "metadata": {},
          "execution_count": 47
        }
      ]
    },
    {
      "cell_type": "code",
      "metadata": {
        "id": "2uEPb495OLEK"
      },
      "source": [
        "# 1 testar frame codigo de cliente\n",
        "# 2 testar frame codigo canal\n",
        "# 3 converter para float coluna valores\n",
        "# 4 limpar dados vla coluna produtos\n",
        "# na fase final tem que agrupar por produto e somar e depois fazer o marge"
      ],
      "execution_count": null,
      "outputs": []
    },
    {
      "cell_type": "code",
      "metadata": {
        "id": "obMS0hB98RGv"
      },
      "source": [
        "# tratamento dos dados\n",
        "# limpeza dos dados vl e vla\n",
        "# trocando virgula por ponto e alterando tipo de object para float64\n",
        "canal['PRODUTO'] = canal['PRODUTO'].apply(lambda x: str(x).replace(\"VLA\",\"\"))\n",
        "canal['PRODUTO'] = canal['PRODUTO'].apply(lambda x: str(x).replace(\"VL\",\"\"))\n",
        "canal = canal.apply(lambda x: x.str.strip() if x.dtype == \"object\" else x)\n",
        "canal['VALOR_VENDA'] = canal['VALOR_VENDA'].apply(lambda x: str(x).replace(\",\",\".\"))\n",
        "canal['VALOR_VENDA'] = canal['VALOR_VENDA'].astype('float64')\n",
        "canal.dtypes"
      ],
      "execution_count": null,
      "outputs": []
    },
    {
      "cell_type": "code",
      "metadata": {
        "id": "DMeCDHSiO9g_"
      },
      "source": [
        "# frame cliente\n",
        "canal_cliente_v = canal.loc[(canal.COD_CLIENTE == 50)]\n",
        "codigo_canal_cliente = canal_cliente_v.iloc[0]['CANAL']\n",
        "canal_cliente_v = canal_cliente_v.drop_duplicates(subset='PRODUTO')\n",
        "\n"
      ],
      "execution_count": null,
      "outputs": []
    },
    {
      "cell_type": "code",
      "metadata": {
        "id": "M2puO02L7pS2"
      },
      "source": [
        "canal_geral_v = canal.loc[(canal.CANAL == codigo_canal_cliente)] \n",
        "#canal_geral_v = canal_geral_v.drop_duplicates(subset='PRODUTO')"
      ],
      "execution_count": null,
      "outputs": []
    },
    {
      "cell_type": "code",
      "metadata": {
        "id": "Y2ShvnLk7aKY"
      },
      "source": [
        "# exclcuido produtos do cliente no frame canal\n",
        "lista_exclusao = canal_cliente_v['PRODUTO'].tolist()\n",
        "df_saida = canal_geral_v.loc[~canal_geral_v['PRODUTO'].isin(lista_exclusao)]\n",
        "#df_saida"
      ],
      "execution_count": null,
      "outputs": []
    },
    {
      "cell_type": "code",
      "metadata": {
        "id": "US8ouk56_bAR"
      },
      "source": [
        "colunas = ['PRODUTO','VALOR_VENDA']\n",
        "frame_agrupado = df_saida.filter(items=colunas)\n",
        "frame = frame_agrupado.groupby('PRODUTO').sum()\n",
        "frame_agrupado.dtypes"
      ],
      "execution_count": null,
      "outputs": []
    },
    {
      "cell_type": "code",
      "metadata": {
        "id": "FNxstSNPBVJr"
      },
      "source": [
        "# ordenando o frame\n",
        "frame_ordenado= frame.sort_values(by=['VALOR_VENDA'], ascending=False,)\n",
        "frame_ordenado\n",
        "frame_final = frame_ordenado.head(10)\n",
        "frame_teste = frame_final.reset_index\n",
        "\n"
      ],
      "execution_count": null,
      "outputs": []
    },
    {
      "cell_type": "code",
      "metadata": {
        "id": "GD8hRzWt8AHx"
      },
      "source": [
        "print(frame_teste)"
      ],
      "execution_count": null,
      "outputs": []
    },
    {
      "cell_type": "code",
      "metadata": {
        "id": "KhKcDxtPMtz6"
      },
      "source": [
        "df_saida_teste = df_saida[['PRODUTO', 'VALOR_VENDA']].groupby('PRODUTO').sum().reset_index"
      ],
      "execution_count": null,
      "outputs": []
    },
    {
      "cell_type": "code",
      "metadata": {
        "id": "YJEMFT-BAkov"
      },
      "source": [
        "df_saida_teste.dtypes"
      ],
      "execution_count": null,
      "outputs": []
    },
    {
      "cell_type": "code",
      "metadata": {
        "id": "OtDEJKSYAuu3"
      },
      "source": [
        "df_saida_teste['VALOR_VENDA'] = canal['VALOR_VENDA'].apply(lambda x: str(x).replace(\",\",\".\"))\n",
        "df_saida_teste['VALOR_VENDA'] = canal['VALOR_VENDA'].astype('float64')"
      ],
      "execution_count": null,
      "outputs": []
    },
    {
      "cell_type": "code",
      "metadata": {
        "colab": {
          "base_uri": "https://localhost:8080/"
        },
        "id": "Y27W7J_GA92A",
        "outputId": "f6ed27f2-a436-48b0-e4ce-6cdde05219a3"
      },
      "source": [
        "df_saida_teste.dtypes"
      ],
      "execution_count": null,
      "outputs": [
        {
          "output_type": "execute_result",
          "data": {
            "text/plain": [
              "VALOR_VENDA    float64\n",
              "dtype: object"
            ]
          },
          "metadata": {},
          "execution_count": 126
        }
      ]
    },
    {
      "cell_type": "code",
      "metadata": {
        "id": "eYXVd4DeBWdg"
      },
      "source": [
        "df_saida_teste"
      ],
      "execution_count": null,
      "outputs": []
    },
    {
      "cell_type": "code",
      "metadata": {
        "id": "jcq_5DxPielr"
      },
      "source": [
        "g1 = frame_agrupado.groupby([\"PRODUTO\"], as_index=False).sum()"
      ],
      "execution_count": null,
      "outputs": []
    },
    {
      "cell_type": "code",
      "metadata": {
        "id": "uvyiv3owisW8"
      },
      "source": [
        "g1"
      ],
      "execution_count": null,
      "outputs": []
    },
    {
      "cell_type": "code",
      "metadata": {
        "id": "yeWjSfySjAz0"
      },
      "source": [
        "frame_ordenado= g1.sort_values(by=['VALOR_VENDA'], ascending=False,)"
      ],
      "execution_count": null,
      "outputs": []
    },
    {
      "cell_type": "code",
      "metadata": {
        "id": "j_jZ28FWjFJT"
      },
      "source": [
        "frame_final = frame_ordenado.head(10)"
      ],
      "execution_count": null,
      "outputs": []
    },
    {
      "cell_type": "code",
      "metadata": {
        "colab": {
          "base_uri": "https://localhost:8080/",
          "height": 355
        },
        "id": "VSGbqy4NcdHD",
        "outputId": "978f253e-6d9f-4e47-87d7-b31524454cb9"
      },
      "source": [
        "frame_final"
      ],
      "execution_count": null,
      "outputs": [
        {
          "output_type": "execute_result",
          "data": {
            "text/html": [
              "<div>\n",
              "<style scoped>\n",
              "    .dataframe tbody tr th:only-of-type {\n",
              "        vertical-align: middle;\n",
              "    }\n",
              "\n",
              "    .dataframe tbody tr th {\n",
              "        vertical-align: top;\n",
              "    }\n",
              "\n",
              "    .dataframe thead th {\n",
              "        text-align: right;\n",
              "    }\n",
              "</style>\n",
              "<table border=\"1\" class=\"dataframe\">\n",
              "  <thead>\n",
              "    <tr style=\"text-align: right;\">\n",
              "      <th></th>\n",
              "      <th>PRODUTO</th>\n",
              "      <th>VALOR_VENDA</th>\n",
              "    </tr>\n",
              "  </thead>\n",
              "  <tbody>\n",
              "    <tr>\n",
              "      <th>342</th>\n",
              "      <td>MUSSARELA ITAOCA</td>\n",
              "      <td>590594.47</td>\n",
              "    </tr>\n",
              "    <tr>\n",
              "      <th>332</th>\n",
              "      <td>MORT SEARA CONF 4X3,5K 14KG</td>\n",
              "      <td>298520.85</td>\n",
              "    </tr>\n",
              "    <tr>\n",
              "      <th>340</th>\n",
              "      <td>MUSSARELA ITA</td>\n",
              "      <td>178649.88</td>\n",
              "    </tr>\n",
              "    <tr>\n",
              "      <th>287</th>\n",
              "      <td>MANTEIGA ITAOCA C/SAL 500G</td>\n",
              "      <td>124109.39</td>\n",
              "    </tr>\n",
              "    <tr>\n",
              "      <th>158</th>\n",
              "      <td>FRANGO CG SEARA 20KG</td>\n",
              "      <td>114813.19</td>\n",
              "    </tr>\n",
              "    <tr>\n",
              "      <th>140</th>\n",
              "      <td>F PEITO CG SEARA BD 12X1KG</td>\n",
              "      <td>70018.48</td>\n",
              "    </tr>\n",
              "    <tr>\n",
              "      <th>154</th>\n",
              "      <td>FRANGO CG FREDINI 20KG</td>\n",
              "      <td>51223.35</td>\n",
              "    </tr>\n",
              "    <tr>\n",
              "      <th>285</th>\n",
              "      <td>MANTEIGA ITA C/SAL POTE 500G</td>\n",
              "      <td>44318.66</td>\n",
              "    </tr>\n",
              "    <tr>\n",
              "      <th>108</th>\n",
              "      <td>EMP SEARA PRES/QJO 25X120G 3KG</td>\n",
              "      <td>43792.78</td>\n",
              "    </tr>\n",
              "    <tr>\n",
              "      <th>444</th>\n",
              "      <td>PX F TILAPIA NATUPEIXE 15X400G</td>\n",
              "      <td>43747.30</td>\n",
              "    </tr>\n",
              "  </tbody>\n",
              "</table>\n",
              "</div>"
            ],
            "text/plain": [
              "                            PRODUTO  VALOR_VENDA\n",
              "342                MUSSARELA ITAOCA    590594.47\n",
              "332     MORT SEARA CONF 4X3,5K 14KG    298520.85\n",
              "340                   MUSSARELA ITA    178649.88\n",
              "287      MANTEIGA ITAOCA C/SAL 500G    124109.39\n",
              "158            FRANGO CG SEARA 20KG    114813.19\n",
              "140      F PEITO CG SEARA BD 12X1KG     70018.48\n",
              "154          FRANGO CG FREDINI 20KG     51223.35\n",
              "285    MANTEIGA ITA C/SAL POTE 500G     44318.66\n",
              "108  EMP SEARA PRES/QJO 25X120G 3KG     43792.78\n",
              "444  PX F TILAPIA NATUPEIXE 15X400G     43747.30"
            ]
          },
          "metadata": {},
          "execution_count": 40
        }
      ]
    },
    {
      "cell_type": "code",
      "metadata": {
        "id": "pcU1A7bXjgnN"
      },
      "source": [
        "lista_final = frame_final['PRODUTO'].tolist()\n"
      ],
      "execution_count": null,
      "outputs": []
    },
    {
      "cell_type": "code",
      "metadata": {
        "colab": {
          "base_uri": "https://localhost:8080/"
        },
        "id": "XlSpAFJGlFYU",
        "outputId": "726700f6-5aa6-410f-d8fb-a6d6a450b10b"
      },
      "source": [
        "lista_final"
      ],
      "execution_count": null,
      "outputs": [
        {
          "output_type": "execute_result",
          "data": {
            "text/plain": [
              "['MUSSARELA ITAOCA',\n",
              " 'MUSSARELA ITA',\n",
              " 'MORT SEARA CONF 4X3,5K 14KG',\n",
              " 'MANTEIGA ITAOCA C/SAL 500G',\n",
              " 'FRANGO CG SEARA 20KG',\n",
              " 'KINDER OVO T1X12 MENINO',\n",
              " 'F PEITO CG SEARA BD 12X1KG',\n",
              " 'FRANGO CG FREDINI 20KG',\n",
              " 'KINDER OVO T1X12 MENINA',\n",
              " 'EMP SEARA PRES/QJO 25X120G 3KG']"
            ]
          },
          "metadata": {},
          "execution_count": 172
        }
      ]
    }
  ]
}