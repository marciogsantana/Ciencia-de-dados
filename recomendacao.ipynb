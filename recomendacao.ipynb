{
  "nbformat": 4,
  "nbformat_minor": 0,
  "metadata": {
    "name": "regressao",
    "notebookId": 4244901800397064,
    "colab": {
      "name": "recomendacao.ipynb",
      "provenance": [],
      "include_colab_link": true
    }
  },
  "cells": [
    {
      "cell_type": "markdown",
      "metadata": {
        "id": "view-in-github",
        "colab_type": "text"
      },
      "source": [
        "<a href=\"https://colab.research.google.com/github/marciogsantana/Ciencia-de-dados/blob/main/recomendacao.ipynb\" target=\"_parent\"><img src=\"https://colab.research.google.com/assets/colab-badge.svg\" alt=\"Open In Colab\"/></a>"
      ]
    },
    {
      "cell_type": "code",
      "metadata": {
        "id": "CydYEBlT2mPV",
        "outputId": "ca110578-6b49-4def-b40d-784bb922baf9"
      },
      "source": [
        "#noetbook utilizado para a aula sobre sistemas de recomendação"
      ],
      "execution_count": null,
      "outputs": [
        {
          "output_type": "display_data",
          "data": {
            "text/html": [
              "<style scoped>\n",
              "  .ansiout {\n",
              "    display: block;\n",
              "    unicode-bidi: embed;\n",
              "    white-space: pre-wrap;\n",
              "    word-wrap: break-word;\n",
              "    word-break: break-all;\n",
              "    font-family: \"Source Code Pro\", \"Menlo\", monospace;;\n",
              "    font-size: 13px;\n",
              "    color: #555;\n",
              "    margin-left: 4px;\n",
              "    line-height: 19px;\n",
              "  }\n",
              "</style>\n",
              "<div class=\"ansiout\"></div>"
            ]
          },
          "metadata": {
            "tags": []
          }
        }
      ]
    },
    {
      "cell_type": "markdown",
      "metadata": {
        "id": "kGbdLuS32mPY"
      },
      "source": [
        "#1) Carregar os dados\n",
        "#2) Pré-processamento dos dados\n",
        "#3) Divisão dos dados entre treinamento e teste\n",
        "#4) Criar o sistema de recomendação através do ALS\n",
        "#5) Realizar previsões\n",
        "#6) Testar o modelo"
      ]
    },
    {
      "cell_type": "code",
      "metadata": {
        "id": "NKX3oVIb2mPZ",
        "outputId": "ce8b0a18-3016-4f11-d317-193a31ec9c63"
      },
      "source": [
        "from pyspark.sql import SparkSession #importa a biblioteca que cria a seção do spark"
      ],
      "execution_count": null,
      "outputs": [
        {
          "output_type": "display_data",
          "data": {
            "text/html": [
              "<style scoped>\n",
              "  .ansiout {\n",
              "    display: block;\n",
              "    unicode-bidi: embed;\n",
              "    white-space: pre-wrap;\n",
              "    word-wrap: break-word;\n",
              "    word-break: break-all;\n",
              "    font-family: \"Source Code Pro\", \"Menlo\", monospace;;\n",
              "    font-size: 13px;\n",
              "    color: #555;\n",
              "    margin-left: 4px;\n",
              "    line-height: 19px;\n",
              "  }\n",
              "</style>\n",
              "<div class=\"ansiout\"></div>"
            ]
          },
          "metadata": {
            "tags": []
          }
        }
      ]
    },
    {
      "cell_type": "code",
      "metadata": {
        "id": "dRHTDsJZ2mPa",
        "outputId": "6f6ded8f-7219-40bb-b252-7cb7e470c174"
      },
      "source": [
        "#inicia a seção para a utilização do spark\n",
        "spark = SparkSession.builder.appName(\"recomendacao\").getOrCreate() #cria a seção caso não exista ou obtém a já criada"
      ],
      "execution_count": null,
      "outputs": [
        {
          "output_type": "display_data",
          "data": {
            "text/html": [
              "<style scoped>\n",
              "  .ansiout {\n",
              "    display: block;\n",
              "    unicode-bidi: embed;\n",
              "    white-space: pre-wrap;\n",
              "    word-wrap: break-word;\n",
              "    word-break: break-all;\n",
              "    font-family: \"Source Code Pro\", \"Menlo\", monospace;;\n",
              "    font-size: 13px;\n",
              "    color: #555;\n",
              "    margin-left: 4px;\n",
              "    line-height: 19px;\n",
              "  }\n",
              "</style>\n",
              "<div class=\"ansiout\"></div>"
            ]
          },
          "metadata": {
            "tags": []
          }
        }
      ]
    },
    {
      "cell_type": "code",
      "metadata": {
        "id": "7r92tsdy2mPb",
        "outputId": "da0a3d25-1fb0-4e29-abc2-0de86016dd43"
      },
      "source": [
        "%fs ls /FileStore/tables"
      ],
      "execution_count": null,
      "outputs": [
        {
          "output_type": "display_data",
          "data": {
            "text/html": [
              "<style scoped>\n",
              "  .table-result-container {\n",
              "    max-height: 300px;\n",
              "    overflow: auto;\n",
              "  }\n",
              "  table, th, td {\n",
              "    border: 1px solid black;\n",
              "    border-collapse: collapse;\n",
              "  }\n",
              "  th, td {\n",
              "    padding: 5px;\n",
              "  }\n",
              "  th {\n",
              "    text-align: left;\n",
              "  }\n",
              "</style><div class='table-result-container'><table class='table-result'><thead style='background-color: white'><tr><th>path</th><th>name</th><th>size</th></tr></thead><tbody><tr><td>dbfs:/FileStore/tables/Police_Department_Incident_Reports__Historical_2003_to_May_2018.csv</td><td>Police_Department_Incident_Reports__Historical_2003_to_May_2018.csv</td><td>463094961</td></tr><tr><td>dbfs:/FileStore/tables/d1995_07_01-24d0c.json</td><td>d1995_07_01-24d0c.json</td><td>7451741</td></tr><tr><td>dbfs:/FileStore/tables/d1995_07_02-c3f44.json</td><td>d1995_07_02-c3f44.json</td><td>9572086</td></tr><tr><td>dbfs:/FileStore/tables/d1995_07_03-f99af.json</td><td>d1995_07_03-f99af.json</td><td>14125303</td></tr><tr><td>dbfs:/FileStore/tables/d1995_07_04-c5a7f.json</td><td>d1995_07_04-c5a7f.json</td><td>12030333</td></tr><tr><td>dbfs:/FileStore/tables/d1995_07_05-0f261.json</td><td>d1995_07_05-0f261.json</td><td>14662194</td></tr><tr><td>dbfs:/FileStore/tables/d1995_07_06-20619.json</td><td>d1995_07_06-20619.json</td><td>15557682</td></tr><tr><td>dbfs:/FileStore/tables/d1995_07_07-2dd8d.json</td><td>d1995_07_07-2dd8d.json</td><td>15279295</td></tr><tr><td>dbfs:/FileStore/tables/d1995_07_08-83302.json</td><td>d1995_07_08-83302.json</td><td>7033852</td></tr><tr><td>dbfs:/FileStore/tables/d1995_07_09-f75d3.json</td><td>d1995_07_09-f75d3.json</td><td>5589076</td></tr><tr><td>dbfs:/FileStore/tables/d1995_07_10-160a3.json</td><td>d1995_07_10-160a3.json</td><td>10616482</td></tr><tr><td>dbfs:/FileStore/tables/d1995_07_11-8800f.json</td><td>d1995_07_11-8800f.json</td><td>12486245</td></tr><tr><td>dbfs:/FileStore/tables/d1995_07_12-3091c.json</td><td>d1995_07_12-3091c.json</td><td>14080494</td></tr><tr><td>dbfs:/FileStore/tables/d1995_07_13-242b2.json</td><td>d1995_07_13-242b2.json</td><td>21989188</td></tr><tr><td>dbfs:/FileStore/tables/d1995_07_14-bab67.json</td><td>d1995_07_14-bab67.json</td><td>13780636</td></tr><tr><td>dbfs:/FileStore/tables/d1995_07_15-57e08.json</td><td>d1995_07_15-57e08.json</td><td>8057272</td></tr><tr><td>dbfs:/FileStore/tables/d1995_07_16-2ca03.json</td><td>d1995_07_16-2ca03.json</td><td>7171848</td></tr><tr><td>dbfs:/FileStore/tables/d1995_07_17-905a5.json</td><td>d1995_07_17-905a5.json</td><td>11897536</td></tr><tr><td>dbfs:/FileStore/tables/d1995_07_18-13b8b.json</td><td>d1995_07_18-13b8b.json</td><td>10569098</td></tr><tr><td>dbfs:/FileStore/tables/d1995_07_19-e2537.json</td><td>d1995_07_19-e2537.json</td><td>11515206</td></tr><tr><td>dbfs:/FileStore/tables/d1995_07_20-0f6d2.json</td><td>d1995_07_20-0f6d2.json</td><td>11049142</td></tr><tr><td>dbfs:/FileStore/tables/d1995_07_21-37a88.json</td><td>d1995_07_21-37a88.json</td><td>10475868</td></tr><tr><td>dbfs:/FileStore/tables/d1995_07_22-3b894.json</td><td>d1995_07_22-3b894.json</td><td>6028420</td></tr><tr><td>dbfs:/FileStore/tables/d1995_07_23-8d606.json</td><td>d1995_07_23-8d606.json</td><td>5620028</td></tr><tr><td>dbfs:/FileStore/tables/d1995_07_24-bcae5.json</td><td>d1995_07_24-bcae5.json</td><td>10433367</td></tr><tr><td>dbfs:/FileStore/tables/d1995_07_25-22c14.json</td><td>d1995_07_25-22c14.json</td><td>9883055</td></tr><tr><td>dbfs:/FileStore/tables/d1995_07_26-8a504.json</td><td>d1995_07_26-8a504.json</td><td>9087395</td></tr><tr><td>dbfs:/FileStore/tables/d1995_07_27-32f69.json</td><td>d1995_07_27-32f69.json</td><td>10172162</td></tr><tr><td>dbfs:/FileStore/tables/d1995_07_28-8d6d2.json</td><td>d1995_07_28-8d6d2.json</td><td>6206927</td></tr><tr><td>dbfs:/FileStore/tables/designation.json</td><td>designation.json</td><td>400</td></tr><tr><td>dbfs:/FileStore/tables/digits.csv</td><td>digits.csv</td><td>338477</td></tr><tr><td>dbfs:/FileStore/tables/digitsNew.csv</td><td>digitsNew.csv</td><td>76775041</td></tr><tr><td>dbfs:/FileStore/tables/iris_bezdekIris.csv</td><td>iris_bezdekIris.csv</td><td>4551</td></tr><tr><td>dbfs:/FileStore/tables/kddcup_data_10_percent_corrected-2f6f3</td><td>kddcup_data_10_percent_corrected-2f6f3</td><td>74889749</td></tr><tr><td>dbfs:/FileStore/tables/regressaoLinear.csv</td><td>regressaoLinear.csv</td><td>564</td></tr><tr><td>dbfs:/FileStore/tables/salario_df.csv</td><td>salario_df.csv</td><td>2505</td></tr><tr><td>dbfs:/FileStore/tables/salary.json</td><td>salary.json</td><td>361</td></tr><tr><td>dbfs:/FileStore/tables/temperature.csv</td><td>temperature.csv</td><td>13971171</td></tr><tr><td>dbfs:/FileStore/tables/transport_nodes-7c826.csv</td><td>transport_nodes-7c826.csv</td><td>465</td></tr><tr><td>dbfs:/FileStore/tables/transport_relationships-c2bfc.csv</td><td>transport_relationships-c2bfc.csv</td><td>550</td></tr><tr><td>dbfs:/FileStore/tables/u.data</td><td>u.data</td><td>1979173</td></tr><tr><td>dbfs:/FileStore/tables/winequality_red-42ff5.csv</td><td>winequality_red-42ff5.csv</td><td>84199</td></tr><tr><td>dbfs:/FileStore/tables/worldcities.csv</td><td>worldcities.csv</td><td>1667065</td></tr></tbody></table></div>"
            ]
          },
          "metadata": {
            "tags": []
          }
        }
      ]
    },
    {
      "cell_type": "code",
      "metadata": {
        "id": "12EnM6yk2mPb",
        "outputId": "288f6764-02c0-404d-a12c-3c523fae22ab"
      },
      "source": [
        "diretorioRecomendacao=\"/FileStore/tables/u.data\"  #diretório que contém o arquivo a ser utilizado"
      ],
      "execution_count": null,
      "outputs": [
        {
          "output_type": "display_data",
          "data": {
            "text/html": [
              "<style scoped>\n",
              "  .ansiout {\n",
              "    display: block;\n",
              "    unicode-bidi: embed;\n",
              "    white-space: pre-wrap;\n",
              "    word-wrap: break-word;\n",
              "    word-break: break-all;\n",
              "    font-family: \"Source Code Pro\", \"Menlo\", monospace;;\n",
              "    font-size: 13px;\n",
              "    color: #555;\n",
              "    margin-left: 4px;\n",
              "    line-height: 19px;\n",
              "  }\n",
              "</style>\n",
              "<div class=\"ansiout\"></div>"
            ]
          },
          "metadata": {
            "tags": []
          }
        }
      ]
    },
    {
      "cell_type": "markdown",
      "metadata": {
        "id": "hvOFFLCK2mPc"
      },
      "source": [
        "#1) Carregando o arquivo."
      ]
    },
    {
      "cell_type": "code",
      "metadata": {
        "id": "xgb-N_dg2mPc",
        "outputId": "36420f7f-a3e9-4712-ad0f-6d65284d2e3d"
      },
      "source": [
        "#lendo arquivos armazenados através da função genérica\n",
        "rdd_movies = spark.sparkContext.textFile(diretorioRecomendacao)"
      ],
      "execution_count": null,
      "outputs": [
        {
          "output_type": "display_data",
          "data": {
            "text/html": [
              "<style scoped>\n",
              "  .ansiout {\n",
              "    display: block;\n",
              "    unicode-bidi: embed;\n",
              "    white-space: pre-wrap;\n",
              "    word-wrap: break-word;\n",
              "    word-break: break-all;\n",
              "    font-family: \"Source Code Pro\", \"Menlo\", monospace;;\n",
              "    font-size: 13px;\n",
              "    color: #555;\n",
              "    margin-left: 4px;\n",
              "    line-height: 19px;\n",
              "  }\n",
              "</style>\n",
              "<div class=\"ansiout\"></div>"
            ]
          },
          "metadata": {
            "tags": []
          }
        }
      ]
    },
    {
      "cell_type": "code",
      "metadata": {
        "id": "ergLYMPN2mPd",
        "outputId": "531db3d3-d128-4707-9977-9f97ddb65d22"
      },
      "source": [
        "rdd_movies.take(10)  #user id | item id | rating | timestamp"
      ],
      "execution_count": null,
      "outputs": [
        {
          "output_type": "display_data",
          "data": {
            "text/html": [
              "<style scoped>\n",
              "  .ansiout {\n",
              "    display: block;\n",
              "    unicode-bidi: embed;\n",
              "    white-space: pre-wrap;\n",
              "    word-wrap: break-word;\n",
              "    word-break: break-all;\n",
              "    font-family: \"Source Code Pro\", \"Menlo\", monospace;;\n",
              "    font-size: 13px;\n",
              "    color: #555;\n",
              "    margin-left: 4px;\n",
              "    line-height: 19px;\n",
              "  }\n",
              "</style>\n",
              "<div class=\"ansiout\">Out[6]: [&#39;196\\t242\\t3\\t881250949&#39;,\n",
              " &#39;186\\t302\\t3\\t891717742&#39;,\n",
              " &#39;22\\t377\\t1\\t878887116&#39;,\n",
              " &#39;244\\t51\\t2\\t880606923&#39;,\n",
              " &#39;166\\t346\\t1\\t886397596&#39;,\n",
              " &#39;298\\t474\\t4\\t884182806&#39;,\n",
              " &#39;115\\t265\\t2\\t881171488&#39;,\n",
              " &#39;253\\t465\\t5\\t891628467&#39;,\n",
              " &#39;305\\t451\\t3\\t886324817&#39;,\n",
              " &#39;6\\t86\\t3\\t883603013&#39;]</div>"
            ]
          },
          "metadata": {
            "tags": []
          }
        }
      ]
    },
    {
      "cell_type": "code",
      "metadata": {
        "id": "qcxOuAQF2mPd",
        "outputId": "804b28e4-df43-4672-da87-94ab631f9395"
      },
      "source": [
        "#definindo as bibliotecas a serem utilizadas\n",
        "from pyspark.mllib.recommendation import ALS, Rating  #MLlib utilizada para implementar os algoritmos ALS e Rating"
      ],
      "execution_count": null,
      "outputs": [
        {
          "output_type": "display_data",
          "data": {
            "text/html": [
              "<style scoped>\n",
              "  .ansiout {\n",
              "    display: block;\n",
              "    unicode-bidi: embed;\n",
              "    white-space: pre-wrap;\n",
              "    word-wrap: break-word;\n",
              "    word-break: break-all;\n",
              "    font-family: \"Source Code Pro\", \"Menlo\", monospace;;\n",
              "    font-size: 13px;\n",
              "    color: #555;\n",
              "    margin-left: 4px;\n",
              "    line-height: 19px;\n",
              "  }\n",
              "</style>\n",
              "<div class=\"ansiout\"></div>"
            ]
          },
          "metadata": {
            "tags": []
          }
        }
      ]
    },
    {
      "cell_type": "markdown",
      "metadata": {
        "id": "5PnCZvAt2mPe"
      },
      "source": [
        "#2) Pré-processamento dos dados\n",
        "#3) Separando os dados para treinamento e teste"
      ]
    },
    {
      "cell_type": "code",
      "metadata": {
        "id": "8ra_DfY92mPe",
        "outputId": "3f6560f0-bbec-4b64-a39b-b7f6a403c1ff"
      },
      "source": [
        "#dividindo os dados entre treinamento e teste\n",
        "(trainRatings, testRatings) = rdd_movies.randomSplit([0.7, 0.3])"
      ],
      "execution_count": null,
      "outputs": [
        {
          "output_type": "display_data",
          "data": {
            "text/html": [
              "<style scoped>\n",
              "  .ansiout {\n",
              "    display: block;\n",
              "    unicode-bidi: embed;\n",
              "    white-space: pre-wrap;\n",
              "    word-wrap: break-word;\n",
              "    word-break: break-all;\n",
              "    font-family: \"Source Code Pro\", \"Menlo\", monospace;;\n",
              "    font-size: 13px;\n",
              "    color: #555;\n",
              "    margin-left: 4px;\n",
              "    line-height: 19px;\n",
              "  }\n",
              "</style>\n",
              "<div class=\"ansiout\"></div>"
            ]
          },
          "metadata": {
            "tags": []
          }
        }
      ]
    },
    {
      "cell_type": "code",
      "metadata": {
        "id": "fCwz0sU02mPf",
        "outputId": "f6464312-15ed-49ab-a737-be7dae3e864c"
      },
      "source": [
        "trainRatings.take(5)"
      ],
      "execution_count": null,
      "outputs": [
        {
          "output_type": "display_data",
          "data": {
            "text/html": [
              "<style scoped>\n",
              "  .ansiout {\n",
              "    display: block;\n",
              "    unicode-bidi: embed;\n",
              "    white-space: pre-wrap;\n",
              "    word-wrap: break-word;\n",
              "    word-break: break-all;\n",
              "    font-family: \"Source Code Pro\", \"Menlo\", monospace;;\n",
              "    font-size: 13px;\n",
              "    color: #555;\n",
              "    margin-left: 4px;\n",
              "    line-height: 19px;\n",
              "  }\n",
              "</style>\n",
              "<div class=\"ansiout\">Out[9]: [&#39;196\\t242\\t3\\t881250949&#39;,\n",
              " &#39;186\\t302\\t3\\t891717742&#39;,\n",
              " &#39;22\\t377\\t1\\t878887116&#39;,\n",
              " &#39;166\\t346\\t1\\t886397596&#39;,\n",
              " &#39;115\\t265\\t2\\t881171488&#39;]</div>"
            ]
          },
          "metadata": {
            "tags": []
          }
        }
      ]
    },
    {
      "cell_type": "code",
      "metadata": {
        "id": "6GkvLKc72mPf",
        "outputId": "feb7901a-65a4-453e-fbe3-c198bc9862d1"
      },
      "source": [
        "testRatings.first()  #print da primeira linha do RDD"
      ],
      "execution_count": null,
      "outputs": [
        {
          "output_type": "display_data",
          "data": {
            "text/html": [
              "<style scoped>\n",
              "  .ansiout {\n",
              "    display: block;\n",
              "    unicode-bidi: embed;\n",
              "    white-space: pre-wrap;\n",
              "    word-wrap: break-word;\n",
              "    word-break: break-all;\n",
              "    font-family: \"Source Code Pro\", \"Menlo\", monospace;;\n",
              "    font-size: 13px;\n",
              "    color: #555;\n",
              "    margin-left: 4px;\n",
              "    line-height: 19px;\n",
              "  }\n",
              "</style>\n",
              "<div class=\"ansiout\">Out[10]: &#39;244\\t51\\t2\\t880606923&#39;</div>"
            ]
          },
          "metadata": {
            "tags": []
          }
        }
      ]
    },
    {
      "cell_type": "code",
      "metadata": {
        "id": "GLGzw7sC2mPg",
        "outputId": "c6bcb35f-3497-4f1a-ddaa-c66a47699c41"
      },
      "source": [
        "trainingData = trainRatings.map(lambda l: l.split('\\t')).map(lambda l: Rating(int(l[0]), int(l[1]), float(l[2])))  #aplicando a função Rating"
      ],
      "execution_count": null,
      "outputs": [
        {
          "output_type": "display_data",
          "data": {
            "text/html": [
              "<style scoped>\n",
              "  .ansiout {\n",
              "    display: block;\n",
              "    unicode-bidi: embed;\n",
              "    white-space: pre-wrap;\n",
              "    word-wrap: break-word;\n",
              "    word-break: break-all;\n",
              "    font-family: \"Source Code Pro\", \"Menlo\", monospace;;\n",
              "    font-size: 13px;\n",
              "    color: #555;\n",
              "    margin-left: 4px;\n",
              "    line-height: 19px;\n",
              "  }\n",
              "</style>\n",
              "<div class=\"ansiout\"></div>"
            ]
          },
          "metadata": {
            "tags": []
          }
        }
      ]
    },
    {
      "cell_type": "code",
      "metadata": {
        "id": "63a9QLGz2mPg",
        "outputId": "df48016a-8423-4272-c234-c3596687e09f"
      },
      "source": [
        "trainingData.first()  #print do RDD criado através da função Rating"
      ],
      "execution_count": null,
      "outputs": [
        {
          "output_type": "display_data",
          "data": {
            "text/html": [
              "<style scoped>\n",
              "  .ansiout {\n",
              "    display: block;\n",
              "    unicode-bidi: embed;\n",
              "    white-space: pre-wrap;\n",
              "    word-wrap: break-word;\n",
              "    word-break: break-all;\n",
              "    font-family: \"Source Code Pro\", \"Menlo\", monospace;;\n",
              "    font-size: 13px;\n",
              "    color: #555;\n",
              "    margin-left: 4px;\n",
              "    line-height: 19px;\n",
              "  }\n",
              "</style>\n",
              "<div class=\"ansiout\">Out[12]: Rating(user=196, product=242, rating=3.0)</div>"
            ]
          },
          "metadata": {
            "tags": []
          }
        }
      ]
    },
    {
      "cell_type": "code",
      "metadata": {
        "id": "FCddfwg72mPh",
        "outputId": "fbda4c42-49f6-4cda-e680-e1f5b9efb976"
      },
      "source": [
        "#mesmo procedimento para os dados de teste\n",
        "testData = testRatings.map(lambda l: l.split('\\t')).map(lambda l: (int(l[0]), int(l[1])))"
      ],
      "execution_count": null,
      "outputs": [
        {
          "output_type": "display_data",
          "data": {
            "text/html": [
              "<style scoped>\n",
              "  .ansiout {\n",
              "    display: block;\n",
              "    unicode-bidi: embed;\n",
              "    white-space: pre-wrap;\n",
              "    word-wrap: break-word;\n",
              "    word-break: break-all;\n",
              "    font-family: \"Source Code Pro\", \"Menlo\", monospace;;\n",
              "    font-size: 13px;\n",
              "    color: #555;\n",
              "    margin-left: 4px;\n",
              "    line-height: 19px;\n",
              "  }\n",
              "</style>\n",
              "<div class=\"ansiout\"></div>"
            ]
          },
          "metadata": {
            "tags": []
          }
        }
      ]
    },
    {
      "cell_type": "code",
      "metadata": {
        "id": "WZDlyGdV2mPh",
        "outputId": "48dfc981-0af1-4aee-e6e0-e1a34dd555b6"
      },
      "source": [
        "testData.first()  #id do usuário | id do filme"
      ],
      "execution_count": null,
      "outputs": [
        {
          "output_type": "display_data",
          "data": {
            "text/html": [
              "<style scoped>\n",
              "  .ansiout {\n",
              "    display: block;\n",
              "    unicode-bidi: embed;\n",
              "    white-space: pre-wrap;\n",
              "    word-wrap: break-word;\n",
              "    word-break: break-all;\n",
              "    font-family: \"Source Code Pro\", \"Menlo\", monospace;;\n",
              "    font-size: 13px;\n",
              "    color: #555;\n",
              "    margin-left: 4px;\n",
              "    line-height: 19px;\n",
              "  }\n",
              "</style>\n",
              "<div class=\"ansiout\">Out[14]: (244, 51)</div>"
            ]
          },
          "metadata": {
            "tags": []
          }
        }
      ]
    },
    {
      "cell_type": "markdown",
      "metadata": {
        "id": "7luLFYvy2mPi"
      },
      "source": [
        "#4) Construindo o modelo ALS"
      ]
    },
    {
      "cell_type": "code",
      "metadata": {
        "id": "kmcKqJtE2mPj",
        "outputId": "7b9ff885-200c-4c90-f2dd-46c9404a24bf"
      },
      "source": [
        "#definindo as variáveis do modelo\n",
        "rank = 10  # número de fatores latentes do modelo  R->P (usuários)*Q (itens) => R_mxn = P_mxrank * Q_rankxm  (em que m= numero de usuário e n= numero de itens)\n",
        "numIterations = 50 #número de iterações realizadas pelo modelo\n",
        "model = ALS.train(trainingData, rank, numIterations) # treina o modelo"
      ],
      "execution_count": null,
      "outputs": [
        {
          "output_type": "display_data",
          "data": {
            "text/html": [
              "<style scoped>\n",
              "  .ansiout {\n",
              "    display: block;\n",
              "    unicode-bidi: embed;\n",
              "    white-space: pre-wrap;\n",
              "    word-wrap: break-word;\n",
              "    word-break: break-all;\n",
              "    font-family: \"Source Code Pro\", \"Menlo\", monospace;;\n",
              "    font-size: 13px;\n",
              "    color: #555;\n",
              "    margin-left: 4px;\n",
              "    line-height: 19px;\n",
              "  }\n",
              "</style>\n",
              "<div class=\"ansiout\"></div>"
            ]
          },
          "metadata": {
            "tags": []
          }
        }
      ]
    },
    {
      "cell_type": "markdown",
      "metadata": {
        "id": "myVnCB_02mPk"
      },
      "source": [
        "#5) Previsão do modelo"
      ]
    },
    {
      "cell_type": "code",
      "metadata": {
        "id": "eiZlCU2o2mPl",
        "outputId": "4c1186dd-6ad8-4e6a-e064-7aa9ef1673b3"
      },
      "source": [
        "model.predict(253, 465)  # entrada (usuário,produto)"
      ],
      "execution_count": null,
      "outputs": [
        {
          "output_type": "display_data",
          "data": {
            "text/html": [
              "<style scoped>\n",
              "  .ansiout {\n",
              "    display: block;\n",
              "    unicode-bidi: embed;\n",
              "    white-space: pre-wrap;\n",
              "    word-wrap: break-word;\n",
              "    word-break: break-all;\n",
              "    font-family: \"Source Code Pro\", \"Menlo\", monospace;;\n",
              "    font-size: 13px;\n",
              "    color: #555;\n",
              "    margin-left: 4px;\n",
              "    line-height: 19px;\n",
              "  }\n",
              "</style>\n",
              "<div class=\"ansiout\">Out[16]: 3.9086929950865077</div>"
            ]
          },
          "metadata": {
            "tags": []
          }
        }
      ]
    },
    {
      "cell_type": "code",
      "metadata": {
        "id": "Rh3eAJp22mPm",
        "outputId": "6fbdf987-8815-4ae4-9817-adfe4bc55617"
      },
      "source": [
        "previsao = model.predictAll(testData)  #previsão para todos os dados de teste\n",
        "previsao.first()"
      ],
      "execution_count": null,
      "outputs": [
        {
          "output_type": "display_data",
          "data": {
            "text/html": [
              "<style scoped>\n",
              "  .ansiout {\n",
              "    display: block;\n",
              "    unicode-bidi: embed;\n",
              "    white-space: pre-wrap;\n",
              "    word-wrap: break-word;\n",
              "    word-break: break-all;\n",
              "    font-family: \"Source Code Pro\", \"Menlo\", monospace;;\n",
              "    font-size: 13px;\n",
              "    color: #555;\n",
              "    margin-left: 4px;\n",
              "    line-height: 19px;\n",
              "  }\n",
              "</style>\n",
              "<div class=\"ansiout\">Out[17]: Rating(user=894, product=1080, rating=2.187004642601909)</div>"
            ]
          },
          "metadata": {
            "tags": []
          }
        }
      ]
    },
    {
      "cell_type": "code",
      "metadata": {
        "id": "qnF7inCv2mPn",
        "outputId": "d80b6b30-f4a1-4b7d-849f-310194a645f1"
      },
      "source": [
        "previsao = previsao.map(lambda l: ((l[0], l[1]), l[2])) #mapea para a exibição\n",
        "previsao.take(5)"
      ],
      "execution_count": null,
      "outputs": [
        {
          "output_type": "display_data",
          "data": {
            "text/html": [
              "<style scoped>\n",
              "  .ansiout {\n",
              "    display: block;\n",
              "    unicode-bidi: embed;\n",
              "    white-space: pre-wrap;\n",
              "    word-wrap: break-word;\n",
              "    word-break: break-all;\n",
              "    font-family: \"Source Code Pro\", \"Menlo\", monospace;;\n",
              "    font-size: 13px;\n",
              "    color: #555;\n",
              "    margin-left: 4px;\n",
              "    line-height: 19px;\n",
              "  }\n",
              "</style>\n",
              "<div class=\"ansiout\">Out[18]: [((894, 1080), 2.187004642601909),\n",
              " ((264, 320), 5.565980638755637),\n",
              " ((385, 320), 6.956242876993615),\n",
              " ((49, 320), 5.81031221038799),\n",
              " ((118, 320), 3.900088577898167)]</div>"
            ]
          },
          "metadata": {
            "tags": []
          }
        }
      ]
    },
    {
      "cell_type": "code",
      "metadata": {
        "id": "ixdbuPZ92mPo",
        "outputId": "157ac0a4-1875-4a4e-f07c-69694ea9ab66"
      },
      "source": [
        "testRating2 = testRatings.map(lambda l: l.split('\\t')).map(lambda l: ((int(l[0]), int(l[1])), float(l[2]))) # mapea para exibição e utilização na análise"
      ],
      "execution_count": null,
      "outputs": [
        {
          "output_type": "display_data",
          "data": {
            "text/html": [
              "<style scoped>\n",
              "  .ansiout {\n",
              "    display: block;\n",
              "    unicode-bidi: embed;\n",
              "    white-space: pre-wrap;\n",
              "    word-wrap: break-word;\n",
              "    word-break: break-all;\n",
              "    font-family: \"Source Code Pro\", \"Menlo\", monospace;;\n",
              "    font-size: 13px;\n",
              "    color: #555;\n",
              "    margin-left: 4px;\n",
              "    line-height: 19px;\n",
              "  }\n",
              "</style>\n",
              "<div class=\"ansiout\"></div>"
            ]
          },
          "metadata": {
            "tags": []
          }
        }
      ]
    },
    {
      "cell_type": "code",
      "metadata": {
        "id": "K0dWYBwN2mPo",
        "outputId": "71e1a9b1-b619-4af5-f409-0a83ca7cdcd1"
      },
      "source": [
        "testRating2.first()"
      ],
      "execution_count": null,
      "outputs": [
        {
          "output_type": "display_data",
          "data": {
            "text/html": [
              "<style scoped>\n",
              "  .ansiout {\n",
              "    display: block;\n",
              "    unicode-bidi: embed;\n",
              "    white-space: pre-wrap;\n",
              "    word-wrap: break-word;\n",
              "    word-break: break-all;\n",
              "    font-family: \"Source Code Pro\", \"Menlo\", monospace;;\n",
              "    font-size: 13px;\n",
              "    color: #555;\n",
              "    margin-left: 4px;\n",
              "    line-height: 19px;\n",
              "  }\n",
              "</style>\n",
              "<div class=\"ansiout\">Out[21]: ((244, 51), 2.0)</div>"
            ]
          },
          "metadata": {
            "tags": []
          }
        }
      ]
    },
    {
      "cell_type": "code",
      "metadata": {
        "id": "xV6F9Icz2mPp",
        "outputId": "94d59135-2aef-479d-b629-f7914e6d6d12"
      },
      "source": [
        "ratingsAndPredictions = testRating2.join(previsao)\n",
        "ratingsAndPredictions.take(5)"
      ],
      "execution_count": null,
      "outputs": [
        {
          "output_type": "display_data",
          "data": {
            "text/html": [
              "<style scoped>\n",
              "  .ansiout {\n",
              "    display: block;\n",
              "    unicode-bidi: embed;\n",
              "    white-space: pre-wrap;\n",
              "    word-wrap: break-word;\n",
              "    word-break: break-all;\n",
              "    font-family: \"Source Code Pro\", \"Menlo\", monospace;;\n",
              "    font-size: 13px;\n",
              "    color: #555;\n",
              "    margin-left: 4px;\n",
              "    line-height: 19px;\n",
              "  }\n",
              "</style>\n",
              "<div class=\"ansiout\">Out[22]: [((234, 1184), (2.0, 3.136279929500878)),\n",
              " ((20, 288), (1.0, 3.1563148849880296)),\n",
              " ((160, 174), (5.0, 3.608742030692189)),\n",
              " ((293, 471), (3.0, 2.690341659498764)),\n",
              " ((174, 368), (1.0, 1.2317709660007763))]</div>"
            ]
          },
          "metadata": {
            "tags": []
          }
        }
      ]
    },
    {
      "cell_type": "markdown",
      "metadata": {
        "id": "FwTlNy9z2mPp"
      },
      "source": [
        "#6) Avaliação do modelo"
      ]
    },
    {
      "cell_type": "code",
      "metadata": {
        "id": "Ywt59pYH2mPp",
        "outputId": "11935182-bfce-4894-d416-da8de0023a2d"
      },
      "source": [
        "MSE = ratingsAndPredictions.map(lambda r: (r[1][0] - r[1][1])**2).mean()\n",
        "print (\"Erro médio quadrado = \" + str(MSE))"
      ],
      "execution_count": null,
      "outputs": [
        {
          "output_type": "display_data",
          "data": {
            "text/html": [
              "<style scoped>\n",
              "  .ansiout {\n",
              "    display: block;\n",
              "    unicode-bidi: embed;\n",
              "    white-space: pre-wrap;\n",
              "    word-wrap: break-word;\n",
              "    word-break: break-all;\n",
              "    font-family: \"Source Code Pro\", \"Menlo\", monospace;;\n",
              "    font-size: 13px;\n",
              "    color: #555;\n",
              "    margin-left: 4px;\n",
              "    line-height: 19px;\n",
              "  }\n",
              "</style>\n",
              "<div class=\"ansiout\">Erro médio quadrado = 1.3917179976332206\n",
              "</div>"
            ]
          },
          "metadata": {
            "tags": []
          }
        }
      ]
    },
    {
      "cell_type": "code",
      "metadata": {
        "id": "KHl8SUD22mPq",
        "outputId": "3cf3e579-c02c-4813-ea70-a868fb544f71"
      },
      "source": [
        "#dado um usuário -> recomenda os top 5 produtos\n",
        "model.recommendProducts(105, 5) "
      ],
      "execution_count": null,
      "outputs": [
        {
          "output_type": "display_data",
          "data": {
            "text/html": [
              "<style scoped>\n",
              "  .ansiout {\n",
              "    display: block;\n",
              "    unicode-bidi: embed;\n",
              "    white-space: pre-wrap;\n",
              "    word-wrap: break-word;\n",
              "    word-break: break-all;\n",
              "    font-family: \"Source Code Pro\", \"Menlo\", monospace;;\n",
              "    font-size: 13px;\n",
              "    color: #555;\n",
              "    margin-left: 4px;\n",
              "    line-height: 19px;\n",
              "  }\n",
              "</style>\n",
              "<div class=\"ansiout\">Out[24]: [Rating(user=105, product=1086, rating=10.404151472284607),\n",
              " Rating(user=105, product=1282, rating=10.059519202435673),\n",
              " Rating(user=105, product=1129, rating=8.15539879719414),\n",
              " Rating(user=105, product=916, rating=8.139311224018458),\n",
              " Rating(user=105, product=1192, rating=8.115013085806174)]</div>"
            ]
          },
          "metadata": {
            "tags": []
          }
        }
      ]
    },
    {
      "cell_type": "code",
      "metadata": {
        "id": "DvPQWB5t2mPq",
        "outputId": "59ffc4ad-4489-4cd8-cbae-22ad20c9e83d"
      },
      "source": [
        "#dado um produto -> recomenda top 5 usuários\n",
        "model.recommendUsers(1, 5)  #filme Toy Story (1995)"
      ],
      "execution_count": null,
      "outputs": [
        {
          "output_type": "display_data",
          "data": {
            "text/html": [
              "<style scoped>\n",
              "  .ansiout {\n",
              "    display: block;\n",
              "    unicode-bidi: embed;\n",
              "    white-space: pre-wrap;\n",
              "    word-wrap: break-word;\n",
              "    word-break: break-all;\n",
              "    font-family: \"Source Code Pro\", \"Menlo\", monospace;;\n",
              "    font-size: 13px;\n",
              "    color: #555;\n",
              "    margin-left: 4px;\n",
              "    line-height: 19px;\n",
              "  }\n",
              "</style>\n",
              "<div class=\"ansiout\">Out[25]: [Rating(user=791, product=1, rating=6.663269162167041),\n",
              " Rating(user=341, product=1, rating=6.59332322597731),\n",
              " Rating(user=359, product=1, rating=5.920746848976035),\n",
              " Rating(user=810, product=1, rating=5.86259872350825),\n",
              " Rating(user=337, product=1, rating=5.8396218409615575)]</div>"
            ]
          },
          "metadata": {
            "tags": []
          }
        }
      ]
    },
    {
      "cell_type": "code",
      "metadata": {
        "id": "Geqz7JPY2mPr",
        "outputId": "efcb7f30-01c7-43e5-c15e-1181717e6b98"
      },
      "source": [
        "#mostrando o vetor de características referentes usuários (coluna - P)\n",
        "model.userFeatures().take(1)[0]"
      ],
      "execution_count": null,
      "outputs": [
        {
          "output_type": "display_data",
          "data": {
            "text/html": [
              "<style scoped>\n",
              "  .ansiout {\n",
              "    display: block;\n",
              "    unicode-bidi: embed;\n",
              "    white-space: pre-wrap;\n",
              "    word-wrap: break-word;\n",
              "    word-break: break-all;\n",
              "    font-family: \"Source Code Pro\", \"Menlo\", monospace;;\n",
              "    font-size: 13px;\n",
              "    color: #555;\n",
              "    margin-left: 4px;\n",
              "    line-height: 19px;\n",
              "  }\n",
              "</style>\n",
              "<div class=\"ansiout\">Out[26]: (8,\n",
              " array(&#39;d&#39;, [-1.3223897218704224, -0.401091992855072, -0.020178183913230896, -0.654310941696167, 0.0015730439918115735, -0.7683062553405762, -0.1260661780834198, 1.0363516807556152, -1.0391936302185059, -0.14950275421142578]))</div>"
            ]
          },
          "metadata": {
            "tags": []
          }
        }
      ]
    },
    {
      "cell_type": "code",
      "metadata": {
        "id": "_MxBzYt32mPr",
        "outputId": "30f9bd3b-a851-4fdf-c107-4c051650f79d"
      },
      "source": [
        "#mostra o vetor de características referente a um produto (linha - Q)\n",
        "model.productFeatures().take(1)[0]"
      ],
      "execution_count": null,
      "outputs": [
        {
          "output_type": "display_data",
          "data": {
            "text/html": [
              "<style scoped>\n",
              "  .ansiout {\n",
              "    display: block;\n",
              "    unicode-bidi: embed;\n",
              "    white-space: pre-wrap;\n",
              "    word-wrap: break-word;\n",
              "    word-break: break-all;\n",
              "    font-family: \"Source Code Pro\", \"Menlo\", monospace;;\n",
              "    font-size: 13px;\n",
              "    color: #555;\n",
              "    margin-left: 4px;\n",
              "    line-height: 19px;\n",
              "  }\n",
              "</style>\n",
              "<div class=\"ansiout\">Out[27]: (8,\n",
              " array(&#39;d&#39;, [-1.7562367916107178, 0.6425478458404541, -0.2787933945655823, -0.23034699261188507, 0.9097221493721008, -0.7952987551689148, -0.5979781746864319, 0.8866454362869263, -0.6941563487052917, 0.6015448570251465]))</div>"
            ]
          },
          "metadata": {
            "tags": []
          }
        }
      ]
    }
  ]
}