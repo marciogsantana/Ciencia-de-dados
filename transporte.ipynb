{
  "nbformat": 4,
  "nbformat_minor": 0,
  "metadata": {
    "name": "transporte",
    "notebookId": 1709535790872034,
    "colab": {
      "name": "transporte.ipynb",
      "provenance": [],
      "include_colab_link": true
    }
  },
  "cells": [
    {
      "cell_type": "markdown",
      "metadata": {
        "id": "view-in-github",
        "colab_type": "text"
      },
      "source": [
        "<a href=\"https://colab.research.google.com/github/marciogsantana/Ciencia-de-dados/blob/main/transporte.ipynb\" target=\"_parent\"><img src=\"https://colab.research.google.com/assets/colab-badge.svg\" alt=\"Open In Colab\"/></a>"
      ]
    },
    {
      "cell_type": "code",
      "metadata": {
        "id": "E38TrL_RbWph",
        "outputId": "de8ea929-b364-4aa6-f088-59237bae189c"
      },
      "source": [
        "#programa utilizado para o exemplo de grafos em transporte"
      ],
      "execution_count": null,
      "outputs": [
        {
          "output_type": "display_data",
          "data": {
            "text/html": [
              "<style scoped>\n",
              "  .ansiout {\n",
              "    display: block;\n",
              "    unicode-bidi: embed;\n",
              "    white-space: pre-wrap;\n",
              "    word-wrap: break-word;\n",
              "    word-break: break-all;\n",
              "    font-family: \"Source Code Pro\", \"Menlo\", monospace;;\n",
              "    font-size: 13px;\n",
              "    color: #555;\n",
              "    margin-left: 4px;\n",
              "    line-height: 19px;\n",
              "  }\n",
              "</style>\n",
              "<div class=\"ansiout\"></div>"
            ]
          },
          "metadata": {
            "tags": []
          }
        }
      ]
    },
    {
      "cell_type": "code",
      "metadata": {
        "id": "d7qU9KTcbWpk",
        "outputId": "6d4b2008-94c1-4055-91d5-49ce18d49639"
      },
      "source": [
        "from pyspark.sql import SparkSession #importa a biblioteca que cria a seção do spark"
      ],
      "execution_count": null,
      "outputs": [
        {
          "output_type": "display_data",
          "data": {
            "text/html": [
              "<style scoped>\n",
              "  .ansiout {\n",
              "    display: block;\n",
              "    unicode-bidi: embed;\n",
              "    white-space: pre-wrap;\n",
              "    word-wrap: break-word;\n",
              "    word-break: break-all;\n",
              "    font-family: \"Source Code Pro\", \"Menlo\", monospace;;\n",
              "    font-size: 13px;\n",
              "    color: #555;\n",
              "    margin-left: 4px;\n",
              "    line-height: 19px;\n",
              "  }\n",
              "</style>\n",
              "<div class=\"ansiout\"></div>"
            ]
          },
          "metadata": {
            "tags": []
          }
        }
      ]
    },
    {
      "cell_type": "code",
      "metadata": {
        "id": "ieDIBcLxbWpl",
        "outputId": "c778318a-6876-40e5-c3a9-46f85e47c291"
      },
      "source": [
        "#inicia a seção para a utilização do spark\n",
        "spark = SparkSession.builder.appName(\"transporteGrafos\").getOrCreate() #cria a seção caso não exista ou obtém a já criada"
      ],
      "execution_count": null,
      "outputs": [
        {
          "output_type": "display_data",
          "data": {
            "text/html": [
              "<style scoped>\n",
              "  .ansiout {\n",
              "    display: block;\n",
              "    unicode-bidi: embed;\n",
              "    white-space: pre-wrap;\n",
              "    word-wrap: break-word;\n",
              "    word-break: break-all;\n",
              "    font-family: \"Source Code Pro\", \"Menlo\", monospace;;\n",
              "    font-size: 13px;\n",
              "    color: #555;\n",
              "    margin-left: 4px;\n",
              "    line-height: 19px;\n",
              "  }\n",
              "</style>\n",
              "<div class=\"ansiout\"></div>"
            ]
          },
          "metadata": {
            "tags": []
          }
        }
      ]
    },
    {
      "cell_type": "code",
      "metadata": {
        "id": "qw7T5u4cbWpn",
        "outputId": "9c2c3d36-8989-47d0-d814-15a30481d35a"
      },
      "source": [
        "%fs ls /FileStore/tables"
      ],
      "execution_count": null,
      "outputs": [
        {
          "output_type": "display_data",
          "data": {
            "text/html": [
              "<style scoped>\n",
              "  .table-result-container {\n",
              "    max-height: 300px;\n",
              "    overflow: auto;\n",
              "  }\n",
              "  table, th, td {\n",
              "    border: 1px solid black;\n",
              "    border-collapse: collapse;\n",
              "  }\n",
              "  th, td {\n",
              "    padding: 5px;\n",
              "  }\n",
              "  th {\n",
              "    text-align: left;\n",
              "  }\n",
              "</style><div class='table-result-container'><table class='table-result'><thead style='background-color: white'><tr><th>path</th><th>name</th><th>size</th></tr></thead><tbody><tr><td>dbfs:/FileStore/tables/Police_Department_Incident_Reports__Historical_2003_to_May_2018.csv</td><td>Police_Department_Incident_Reports__Historical_2003_to_May_2018.csv</td><td>463094961</td></tr><tr><td>dbfs:/FileStore/tables/d1995_07_01-24d0c.json</td><td>d1995_07_01-24d0c.json</td><td>7451741</td></tr><tr><td>dbfs:/FileStore/tables/d1995_07_02-c3f44.json</td><td>d1995_07_02-c3f44.json</td><td>9572086</td></tr><tr><td>dbfs:/FileStore/tables/d1995_07_03-f99af.json</td><td>d1995_07_03-f99af.json</td><td>14125303</td></tr><tr><td>dbfs:/FileStore/tables/d1995_07_04-c5a7f.json</td><td>d1995_07_04-c5a7f.json</td><td>12030333</td></tr><tr><td>dbfs:/FileStore/tables/d1995_07_05-0f261.json</td><td>d1995_07_05-0f261.json</td><td>14662194</td></tr><tr><td>dbfs:/FileStore/tables/d1995_07_06-20619.json</td><td>d1995_07_06-20619.json</td><td>15557682</td></tr><tr><td>dbfs:/FileStore/tables/d1995_07_07-2dd8d.json</td><td>d1995_07_07-2dd8d.json</td><td>15279295</td></tr><tr><td>dbfs:/FileStore/tables/d1995_07_08-83302.json</td><td>d1995_07_08-83302.json</td><td>7033852</td></tr><tr><td>dbfs:/FileStore/tables/d1995_07_09-f75d3.json</td><td>d1995_07_09-f75d3.json</td><td>5589076</td></tr><tr><td>dbfs:/FileStore/tables/d1995_07_10-160a3.json</td><td>d1995_07_10-160a3.json</td><td>10616482</td></tr><tr><td>dbfs:/FileStore/tables/d1995_07_11-8800f.json</td><td>d1995_07_11-8800f.json</td><td>12486245</td></tr><tr><td>dbfs:/FileStore/tables/d1995_07_12-3091c.json</td><td>d1995_07_12-3091c.json</td><td>14080494</td></tr><tr><td>dbfs:/FileStore/tables/d1995_07_13-242b2.json</td><td>d1995_07_13-242b2.json</td><td>21989188</td></tr><tr><td>dbfs:/FileStore/tables/d1995_07_14-bab67.json</td><td>d1995_07_14-bab67.json</td><td>13780636</td></tr><tr><td>dbfs:/FileStore/tables/d1995_07_15-57e08.json</td><td>d1995_07_15-57e08.json</td><td>8057272</td></tr><tr><td>dbfs:/FileStore/tables/d1995_07_16-2ca03.json</td><td>d1995_07_16-2ca03.json</td><td>7171848</td></tr><tr><td>dbfs:/FileStore/tables/d1995_07_17-905a5.json</td><td>d1995_07_17-905a5.json</td><td>11897536</td></tr><tr><td>dbfs:/FileStore/tables/d1995_07_18-13b8b.json</td><td>d1995_07_18-13b8b.json</td><td>10569098</td></tr><tr><td>dbfs:/FileStore/tables/d1995_07_19-e2537.json</td><td>d1995_07_19-e2537.json</td><td>11515206</td></tr><tr><td>dbfs:/FileStore/tables/d1995_07_20-0f6d2.json</td><td>d1995_07_20-0f6d2.json</td><td>11049142</td></tr><tr><td>dbfs:/FileStore/tables/d1995_07_21-37a88.json</td><td>d1995_07_21-37a88.json</td><td>10475868</td></tr><tr><td>dbfs:/FileStore/tables/d1995_07_22-3b894.json</td><td>d1995_07_22-3b894.json</td><td>6028420</td></tr><tr><td>dbfs:/FileStore/tables/d1995_07_23-8d606.json</td><td>d1995_07_23-8d606.json</td><td>5620028</td></tr><tr><td>dbfs:/FileStore/tables/d1995_07_24-bcae5.json</td><td>d1995_07_24-bcae5.json</td><td>10433367</td></tr><tr><td>dbfs:/FileStore/tables/d1995_07_25-22c14.json</td><td>d1995_07_25-22c14.json</td><td>9883055</td></tr><tr><td>dbfs:/FileStore/tables/d1995_07_26-8a504.json</td><td>d1995_07_26-8a504.json</td><td>9087395</td></tr><tr><td>dbfs:/FileStore/tables/d1995_07_27-32f69.json</td><td>d1995_07_27-32f69.json</td><td>10172162</td></tr><tr><td>dbfs:/FileStore/tables/d1995_07_28-8d6d2.json</td><td>d1995_07_28-8d6d2.json</td><td>6206927</td></tr><tr><td>dbfs:/FileStore/tables/designation.json</td><td>designation.json</td><td>400</td></tr><tr><td>dbfs:/FileStore/tables/digits.csv</td><td>digits.csv</td><td>338477</td></tr><tr><td>dbfs:/FileStore/tables/digitsNew.csv</td><td>digitsNew.csv</td><td>76775041</td></tr><tr><td>dbfs:/FileStore/tables/iris_bezdekIris.csv</td><td>iris_bezdekIris.csv</td><td>4551</td></tr><tr><td>dbfs:/FileStore/tables/kddcup_data_10_percent_corrected-2f6f3</td><td>kddcup_data_10_percent_corrected-2f6f3</td><td>74889749</td></tr><tr><td>dbfs:/FileStore/tables/regressaoLinear.csv</td><td>regressaoLinear.csv</td><td>564</td></tr><tr><td>dbfs:/FileStore/tables/salario_df.csv</td><td>salario_df.csv</td><td>2505</td></tr><tr><td>dbfs:/FileStore/tables/salary.json</td><td>salary.json</td><td>361</td></tr><tr><td>dbfs:/FileStore/tables/temperature.csv</td><td>temperature.csv</td><td>13971171</td></tr><tr><td>dbfs:/FileStore/tables/transport_nodes-7c826.csv</td><td>transport_nodes-7c826.csv</td><td>465</td></tr><tr><td>dbfs:/FileStore/tables/transport_relationships-c2bfc.csv</td><td>transport_relationships-c2bfc.csv</td><td>550</td></tr><tr><td>dbfs:/FileStore/tables/u.data</td><td>u.data</td><td>1979173</td></tr><tr><td>dbfs:/FileStore/tables/winequality_red-42ff5.csv</td><td>winequality_red-42ff5.csv</td><td>84199</td></tr><tr><td>dbfs:/FileStore/tables/worldcities.csv</td><td>worldcities.csv</td><td>1667065</td></tr></tbody></table></div>"
            ]
          },
          "metadata": {
            "tags": []
          }
        }
      ]
    },
    {
      "cell_type": "markdown",
      "metadata": {
        "id": "a5O1hMMubWpo"
      },
      "source": [
        "Carregando o arquivo"
      ]
    },
    {
      "cell_type": "code",
      "metadata": {
        "id": "tIH4jl7BbWpp",
        "outputId": "dfedc1ad-611a-48f0-ef24-0bff78bdb847"
      },
      "source": [
        "nosTransporte=\"/FileStore/tables/transport_nodes-7c826.csv\"  #diretório que contém o arquivo a ser utilizado para os nos"
      ],
      "execution_count": null,
      "outputs": [
        {
          "output_type": "display_data",
          "data": {
            "text/html": [
              "<style scoped>\n",
              "  .ansiout {\n",
              "    display: block;\n",
              "    unicode-bidi: embed;\n",
              "    white-space: pre-wrap;\n",
              "    word-wrap: break-word;\n",
              "    word-break: break-all;\n",
              "    font-family: \"Source Code Pro\", \"Menlo\", monospace;;\n",
              "    font-size: 13px;\n",
              "    color: #555;\n",
              "    margin-left: 4px;\n",
              "    line-height: 19px;\n",
              "  }\n",
              "</style>\n",
              "<div class=\"ansiout\"></div>"
            ]
          },
          "metadata": {
            "tags": []
          }
        }
      ]
    },
    {
      "cell_type": "code",
      "metadata": {
        "id": "jQr6C0ffbWpp",
        "outputId": "d2c359ec-646d-4b6d-86e5-e18d0aa4d21a"
      },
      "source": [
        "relacionamentosTransporte=\"/FileStore/tables/transport_relationships-c2bfc.csv\"  #diretório que contém o arquivo a ser utilizado"
      ],
      "execution_count": null,
      "outputs": [
        {
          "output_type": "display_data",
          "data": {
            "text/html": [
              "<style scoped>\n",
              "  .ansiout {\n",
              "    display: block;\n",
              "    unicode-bidi: embed;\n",
              "    white-space: pre-wrap;\n",
              "    word-wrap: break-word;\n",
              "    word-break: break-all;\n",
              "    font-family: \"Source Code Pro\", \"Menlo\", monospace;;\n",
              "    font-size: 13px;\n",
              "    color: #555;\n",
              "    margin-left: 4px;\n",
              "    line-height: 19px;\n",
              "  }\n",
              "</style>\n",
              "<div class=\"ansiout\"></div>"
            ]
          },
          "metadata": {
            "tags": []
          }
        }
      ]
    },
    {
      "cell_type": "code",
      "metadata": {
        "id": "zEUs7FWrbWpq",
        "outputId": "79702df2-74a1-4baa-dbfa-41d33301d5af"
      },
      "source": [
        "#importando os banco de dados\n",
        "dfNos = spark.read.format('csv').options(header='true',delimiter=',', inferSchema=True).load(nosTransporte)"
      ],
      "execution_count": null,
      "outputs": [
        {
          "output_type": "display_data",
          "data": {
            "text/html": [
              "<style scoped>\n",
              "  .ansiout {\n",
              "    display: block;\n",
              "    unicode-bidi: embed;\n",
              "    white-space: pre-wrap;\n",
              "    word-wrap: break-word;\n",
              "    word-break: break-all;\n",
              "    font-family: \"Source Code Pro\", \"Menlo\", monospace;;\n",
              "    font-size: 13px;\n",
              "    color: #555;\n",
              "    margin-left: 4px;\n",
              "    line-height: 19px;\n",
              "  }\n",
              "</style>\n",
              "<div class=\"ansiout\"></div>"
            ]
          },
          "metadata": {
            "tags": []
          }
        }
      ]
    },
    {
      "cell_type": "code",
      "metadata": {
        "id": "cLhk-pjnbWpr",
        "outputId": "e9e626bb-3498-4c62-a279-b6441038d379"
      },
      "source": [
        "dfNos.show()"
      ],
      "execution_count": null,
      "outputs": [
        {
          "output_type": "display_data",
          "data": {
            "text/html": [
              "<style scoped>\n",
              "  .ansiout {\n",
              "    display: block;\n",
              "    unicode-bidi: embed;\n",
              "    white-space: pre-wrap;\n",
              "    word-wrap: break-word;\n",
              "    word-break: break-all;\n",
              "    font-family: \"Source Code Pro\", \"Menlo\", monospace;;\n",
              "    font-size: 13px;\n",
              "    color: #555;\n",
              "    margin-left: 4px;\n",
              "    line-height: 19px;\n",
              "  }\n",
              "</style>\n",
              "<div class=\"ansiout\">+----------------+---------+---------+----------+\n",
              "              id| latitude|longitude|population|\n",
              "+----------------+---------+---------+----------+\n",
              "       Amsterdam|52.379189| 4.899431|    821752|\n",
              "         Utrecht|52.092876|  5.10448|    334176|\n",
              "        Den Haag|52.078663| 4.288788|    514861|\n",
              "       Immingham| 53.61239| -0.22219|      9642|\n",
              "       Doncaster| 53.52285| -1.13116|    302400|\n",
              "Hoek van Holland|  51.9775|  4.13333|      9382|\n",
              "      Felixstowe| 51.96375|   1.3511|     23689|\n",
              "         Ipswich| 52.05917|  1.15545|    133384|\n",
              "      Colchester| 51.88921|  0.90421|    104390|\n",
              "          London|51.509865|-0.118092|   8787892|\n",
              "       Rotterdam|  51.9225|  4.47917|    623652|\n",
              "           Gouda| 52.01667|  4.70833|     70939|\n",
              "+----------------+---------+---------+----------+\n",
              "\n",
              "</div>"
            ]
          },
          "metadata": {
            "tags": []
          }
        }
      ]
    },
    {
      "cell_type": "code",
      "metadata": {
        "id": "gJuA6CKbbWpr",
        "outputId": "6e172be6-4c10-4b50-a483-1f151c64f17a"
      },
      "source": [
        "dfRelacionamentos = spark.read.format('csv').options(header='true',delimiter=',', inferSchema=True).load(relacionamentosTransporte)"
      ],
      "execution_count": null,
      "outputs": [
        {
          "output_type": "display_data",
          "data": {
            "text/html": [
              "<style scoped>\n",
              "  .ansiout {\n",
              "    display: block;\n",
              "    unicode-bidi: embed;\n",
              "    white-space: pre-wrap;\n",
              "    word-wrap: break-word;\n",
              "    word-break: break-all;\n",
              "    font-family: \"Source Code Pro\", \"Menlo\", monospace;;\n",
              "    font-size: 13px;\n",
              "    color: #555;\n",
              "    margin-left: 4px;\n",
              "    line-height: 19px;\n",
              "  }\n",
              "</style>\n",
              "<div class=\"ansiout\"></div>"
            ]
          },
          "metadata": {
            "tags": []
          }
        }
      ]
    },
    {
      "cell_type": "code",
      "metadata": {
        "id": "cI4r_fnxbWps",
        "outputId": "266224ee-0f12-4cf7-a9f8-631771a9587c"
      },
      "source": [
        "dfRelacionamentos.show()"
      ],
      "execution_count": null,
      "outputs": [
        {
          "output_type": "display_data",
          "data": {
            "text/html": [
              "<style scoped>\n",
              "  .ansiout {\n",
              "    display: block;\n",
              "    unicode-bidi: embed;\n",
              "    white-space: pre-wrap;\n",
              "    word-wrap: break-word;\n",
              "    word-break: break-all;\n",
              "    font-family: \"Source Code Pro\", \"Menlo\", monospace;;\n",
              "    font-size: 13px;\n",
              "    color: #555;\n",
              "    margin-left: 4px;\n",
              "    line-height: 19px;\n",
              "  }\n",
              "</style>\n",
              "<div class=\"ansiout\">+----------------+----------------+------------+----+\n",
              "             src|             dst|relationship|cost|\n",
              "+----------------+----------------+------------+----+\n",
              "       Amsterdam|         Utrecht|       EROAD|  46|\n",
              "       Amsterdam|        Den Haag|       EROAD|  59|\n",
              "        Den Haag|       Rotterdam|       EROAD|  26|\n",
              "       Amsterdam|       Immingham|       EROAD| 369|\n",
              "       Immingham|       Doncaster|       EROAD|  74|\n",
              "       Doncaster|          London|       EROAD| 277|\n",
              "Hoek van Holland|        Den Haag|       EROAD|  27|\n",
              "      Felixstowe|Hoek van Holland|       EROAD| 207|\n",
              "         Ipswich|      Felixstowe|       EROAD|  22|\n",
              "      Colchester|         Ipswich|       EROAD|  32|\n",
              "          London|      Colchester|       EROAD| 106|\n",
              "           Gouda|       Rotterdam|       EROAD|  25|\n",
              "           Gouda|         Utrecht|       EROAD|  35|\n",
              "        Den Haag|           Gouda|       EROAD|  32|\n",
              "Hoek van Holland|       Rotterdam|       EROAD|  33|\n",
              "+----------------+----------------+------------+----+\n",
              "\n",
              "</div>"
            ]
          },
          "metadata": {
            "tags": []
          }
        }
      ]
    },
    {
      "cell_type": "markdown",
      "metadata": {
        "id": "KPXtjIRdbWpt"
      },
      "source": [
        "Definindo e criando o grafo"
      ]
    },
    {
      "cell_type": "code",
      "metadata": {
        "id": "yZzuvRbObWpt",
        "outputId": "51b7987c-84c5-42e4-ed0a-2943c12f1a33"
      },
      "source": [
        "#importando as funções para utilizar os grafos\n",
        "from pyspark.sql.types import *\n",
        "from graphframes import *  #contém os métodos para serem utilizados no processamento através dos grafos\n",
        "#obs: a biblioteca graphframes deve ser adicionada ao databricks, pois não é nativa. Para isso acesse New->\"Library\"-> \"Source\"-> \"Maven Coordinate\"-> pesquise por \"graphframes\" e adicione a biblioteca para cada cluster"
      ],
      "execution_count": null,
      "outputs": [
        {
          "output_type": "display_data",
          "data": {
            "text/html": [
              "<style scoped>\n",
              "  .ansiout {\n",
              "    display: block;\n",
              "    unicode-bidi: embed;\n",
              "    white-space: pre-wrap;\n",
              "    word-wrap: break-word;\n",
              "    word-break: break-all;\n",
              "    font-family: \"Source Code Pro\", \"Menlo\", monospace;;\n",
              "    font-size: 13px;\n",
              "    color: #555;\n",
              "    margin-left: 4px;\n",
              "    line-height: 19px;\n",
              "  }\n",
              "</style>\n",
              "<div class=\"ansiout\"></div>"
            ]
          },
          "metadata": {
            "tags": []
          }
        }
      ]
    },
    {
      "cell_type": "code",
      "metadata": {
        "id": "elWWvcDYbWpu",
        "outputId": "55b78d17-8a31-4cf9-9849-6ab6f34b3ecd"
      },
      "source": [
        "#definindo o \"Esquema\" para cada um dos nós\n",
        "atributosNo = [\n",
        "StructField(\"id\", StringType(), True),\\\n",
        "StructField(\"latitude\", FloatType(), True),\\\n",
        "StructField(\"longitude\", FloatType(), True),\\\n",
        "StructField(\"population\", IntegerType(), True)\\\n",
        "]"
      ],
      "execution_count": null,
      "outputs": [
        {
          "output_type": "display_data",
          "data": {
            "text/html": [
              "<style scoped>\n",
              "  .ansiout {\n",
              "    display: block;\n",
              "    unicode-bidi: embed;\n",
              "    white-space: pre-wrap;\n",
              "    word-wrap: break-word;\n",
              "    word-break: break-all;\n",
              "    font-family: \"Source Code Pro\", \"Menlo\", monospace;;\n",
              "    font-size: 13px;\n",
              "    color: #555;\n",
              "    margin-left: 4px;\n",
              "    line-height: 19px;\n",
              "  }\n",
              "</style>\n",
              "<div class=\"ansiout\"></div>"
            ]
          },
          "metadata": {
            "tags": []
          }
        }
      ]
    },
    {
      "cell_type": "code",
      "metadata": {
        "id": "SjQA0IRmbWpu",
        "outputId": "8047d63e-866d-4362-f54e-62e36df47297"
      },
      "source": [
        "#importa os dados como nós\n",
        "nos = spark.read.csv(nosTransporte, header=True,schema=StructType(atributosNo))"
      ],
      "execution_count": null,
      "outputs": [
        {
          "output_type": "display_data",
          "data": {
            "text/html": [
              "<style scoped>\n",
              "  .ansiout {\n",
              "    display: block;\n",
              "    unicode-bidi: embed;\n",
              "    white-space: pre-wrap;\n",
              "    word-wrap: break-word;\n",
              "    word-break: break-all;\n",
              "    font-family: \"Source Code Pro\", \"Menlo\", monospace;;\n",
              "    font-size: 13px;\n",
              "    color: #555;\n",
              "    margin-left: 4px;\n",
              "    line-height: 19px;\n",
              "  }\n",
              "</style>\n",
              "<div class=\"ansiout\"></div>"
            ]
          },
          "metadata": {
            "tags": []
          }
        }
      ]
    },
    {
      "cell_type": "markdown",
      "metadata": {
        "id": "dZsxBzN6bWpv"
      },
      "source": [
        "Definindo os relacionamentos diretos"
      ]
    },
    {
      "cell_type": "code",
      "metadata": {
        "id": "6s_WM7fTbWpv",
        "outputId": "211d5093-9e0b-407f-a12b-6e17737fc76a"
      },
      "source": [
        "#importa os dados como relacionamentos\n",
        "relaci_direto = spark.read.csv(relacionamentosTransporte, header=True)"
      ],
      "execution_count": null,
      "outputs": [
        {
          "output_type": "display_data",
          "data": {
            "text/html": [
              "<style scoped>\n",
              "  .ansiout {\n",
              "    display: block;\n",
              "    unicode-bidi: embed;\n",
              "    white-space: pre-wrap;\n",
              "    word-wrap: break-word;\n",
              "    word-break: break-all;\n",
              "    font-family: \"Source Code Pro\", \"Menlo\", monospace;;\n",
              "    font-size: 13px;\n",
              "    color: #555;\n",
              "    margin-left: 4px;\n",
              "    line-height: 19px;\n",
              "  }\n",
              "</style>\n",
              "<div class=\"ansiout\"></div>"
            ]
          },
          "metadata": {
            "tags": []
          }
        }
      ]
    },
    {
      "cell_type": "code",
      "metadata": {
        "id": "rH8stIwZbWpw",
        "outputId": "efcf2d2c-862a-4772-8ae6-a950821e70e7"
      },
      "source": [
        "relaci_direto.show(5)"
      ],
      "execution_count": null,
      "outputs": [
        {
          "output_type": "display_data",
          "data": {
            "text/html": [
              "<style scoped>\n",
              "  .ansiout {\n",
              "    display: block;\n",
              "    unicode-bidi: embed;\n",
              "    white-space: pre-wrap;\n",
              "    word-wrap: break-word;\n",
              "    word-break: break-all;\n",
              "    font-family: \"Source Code Pro\", \"Menlo\", monospace;;\n",
              "    font-size: 13px;\n",
              "    color: #555;\n",
              "    margin-left: 4px;\n",
              "    line-height: 19px;\n",
              "  }\n",
              "</style>\n",
              "<div class=\"ansiout\">+---------+---------+------------+----+\n",
              "      src|      dst|relationship|cost|\n",
              "+---------+---------+------------+----+\n",
              "Amsterdam|  Utrecht|       EROAD|  46|\n",
              "Amsterdam| Den Haag|       EROAD|  59|\n",
              " Den Haag|Rotterdam|       EROAD|  26|\n",
              "Amsterdam|Immingham|       EROAD| 369|\n",
              "Immingham|Doncaster|       EROAD|  74|\n",
              "+---------+---------+------------+----+\n",
              "only showing top 5 rows\n",
              "\n",
              "</div>"
            ]
          },
          "metadata": {
            "tags": []
          }
        }
      ]
    },
    {
      "cell_type": "markdown",
      "metadata": {
        "id": "4PytyybMbWpx"
      },
      "source": [
        "Definindo os relacionamentos inversos"
      ]
    },
    {
      "cell_type": "code",
      "metadata": {
        "id": "50T_nbH-bWpy",
        "outputId": "2e93290c-92da-415b-b08a-cb834d9d2ec8"
      },
      "source": [
        "#define os relacionamentos com a troca das fontes e destinos\n",
        "relaci_inverso = (relaci_direto.withColumn(\"newSrc\", relaci_direto.dst).withColumn(\"newDst\", relaci_direto.src)\\\n",
        ".drop(\"dst\", \"src\")\\\n",
        ".withColumnRenamed(\"newSrc\", \"src\")\\\n",
        ".withColumnRenamed(\"newDst\", \"dst\")\\\n",
        ".select(\"src\", \"dst\", \"relationship\", \"cost\"))\\"
      ],
      "execution_count": null,
      "outputs": [
        {
          "output_type": "display_data",
          "data": {
            "text/html": [
              "<style scoped>\n",
              "  .ansiout {\n",
              "    display: block;\n",
              "    unicode-bidi: embed;\n",
              "    white-space: pre-wrap;\n",
              "    word-wrap: break-word;\n",
              "    word-break: break-all;\n",
              "    font-family: \"Source Code Pro\", \"Menlo\", monospace;;\n",
              "    font-size: 13px;\n",
              "    color: #555;\n",
              "    margin-left: 4px;\n",
              "    line-height: 19px;\n",
              "  }\n",
              "</style>\n",
              "<div class=\"ansiout\"></div>"
            ]
          },
          "metadata": {
            "tags": []
          }
        }
      ]
    },
    {
      "cell_type": "code",
      "metadata": {
        "id": "iVhsXuCPbWpy",
        "outputId": "bca31778-555c-4977-9cce-822e26187e47"
      },
      "source": [
        "relaci_inverso.show(5)"
      ],
      "execution_count": null,
      "outputs": [
        {
          "output_type": "display_data",
          "data": {
            "text/html": [
              "<style scoped>\n",
              "  .ansiout {\n",
              "    display: block;\n",
              "    unicode-bidi: embed;\n",
              "    white-space: pre-wrap;\n",
              "    word-wrap: break-word;\n",
              "    word-break: break-all;\n",
              "    font-family: \"Source Code Pro\", \"Menlo\", monospace;;\n",
              "    font-size: 13px;\n",
              "    color: #555;\n",
              "    margin-left: 4px;\n",
              "    line-height: 19px;\n",
              "  }\n",
              "</style>\n",
              "<div class=\"ansiout\">+---------+---------+------------+----+\n",
              "      src|      dst|relationship|cost|\n",
              "+---------+---------+------------+----+\n",
              "  Utrecht|Amsterdam|       EROAD|  46|\n",
              " Den Haag|Amsterdam|       EROAD|  59|\n",
              "Rotterdam| Den Haag|       EROAD|  26|\n",
              "Immingham|Amsterdam|       EROAD| 369|\n",
              "Doncaster|Immingham|       EROAD|  74|\n",
              "+---------+---------+------------+----+\n",
              "only showing top 5 rows\n",
              "\n",
              "</div>"
            ]
          },
          "metadata": {
            "tags": []
          }
        }
      ]
    },
    {
      "cell_type": "code",
      "metadata": {
        "id": "7ej_T0ZUbWpz",
        "outputId": "e211560e-6861-4b0a-e6a0-8b5e0bc87d8c"
      },
      "source": [
        "#cria o df com os relacionamentos diretos e inverso (torna o grafo bidirecional)\n",
        "relacionamentos=relaci_direto.union(relaci_inverso)"
      ],
      "execution_count": null,
      "outputs": [
        {
          "output_type": "display_data",
          "data": {
            "text/html": [
              "<style scoped>\n",
              "  .ansiout {\n",
              "    display: block;\n",
              "    unicode-bidi: embed;\n",
              "    white-space: pre-wrap;\n",
              "    word-wrap: break-word;\n",
              "    word-break: break-all;\n",
              "    font-family: \"Source Code Pro\", \"Menlo\", monospace;;\n",
              "    font-size: 13px;\n",
              "    color: #555;\n",
              "    margin-left: 4px;\n",
              "    line-height: 19px;\n",
              "  }\n",
              "</style>\n",
              "<div class=\"ansiout\"></div>"
            ]
          },
          "metadata": {
            "tags": []
          }
        }
      ]
    },
    {
      "cell_type": "code",
      "metadata": {
        "id": "DdsGlgQPbWpz",
        "outputId": "bf18ac5d-56f0-4fab-c25a-7184df093b8b"
      },
      "source": [
        "relacionamentos.show()"
      ],
      "execution_count": null,
      "outputs": [
        {
          "output_type": "display_data",
          "data": {
            "text/html": [
              "<style scoped>\n",
              "  .ansiout {\n",
              "    display: block;\n",
              "    unicode-bidi: embed;\n",
              "    white-space: pre-wrap;\n",
              "    word-wrap: break-word;\n",
              "    word-break: break-all;\n",
              "    font-family: \"Source Code Pro\", \"Menlo\", monospace;;\n",
              "    font-size: 13px;\n",
              "    color: #555;\n",
              "    margin-left: 4px;\n",
              "    line-height: 19px;\n",
              "  }\n",
              "</style>\n",
              "<div class=\"ansiout\">+----------------+----------------+------------+----+\n",
              "             src|             dst|relationship|cost|\n",
              "+----------------+----------------+------------+----+\n",
              "       Amsterdam|         Utrecht|       EROAD|  46|\n",
              "       Amsterdam|        Den Haag|       EROAD|  59|\n",
              "        Den Haag|       Rotterdam|       EROAD|  26|\n",
              "       Amsterdam|       Immingham|       EROAD| 369|\n",
              "       Immingham|       Doncaster|       EROAD|  74|\n",
              "       Doncaster|          London|       EROAD| 277|\n",
              "Hoek van Holland|        Den Haag|       EROAD|  27|\n",
              "      Felixstowe|Hoek van Holland|       EROAD| 207|\n",
              "         Ipswich|      Felixstowe|       EROAD|  22|\n",
              "      Colchester|         Ipswich|       EROAD|  32|\n",
              "          London|      Colchester|       EROAD| 106|\n",
              "           Gouda|       Rotterdam|       EROAD|  25|\n",
              "           Gouda|         Utrecht|       EROAD|  35|\n",
              "        Den Haag|           Gouda|       EROAD|  32|\n",
              "Hoek van Holland|       Rotterdam|       EROAD|  33|\n",
              "         Utrecht|       Amsterdam|       EROAD|  46|\n",
              "        Den Haag|       Amsterdam|       EROAD|  59|\n",
              "       Rotterdam|        Den Haag|       EROAD|  26|\n",
              "       Immingham|       Amsterdam|       EROAD| 369|\n",
              "       Doncaster|       Immingham|       EROAD|  74|\n",
              "+----------------+----------------+------------+----+\n",
              "only showing top 20 rows\n",
              "\n",
              "</div>"
            ]
          },
          "metadata": {
            "tags": []
          }
        }
      ]
    },
    {
      "cell_type": "code",
      "metadata": {
        "id": "KzApGJBNbWp0",
        "outputId": "891113c4-6f64-4e7f-c495-f7c0e4d660c1"
      },
      "source": [
        "#define o grafo \n",
        "grafo=GraphFrame(nos, relacionamentos)"
      ],
      "execution_count": null,
      "outputs": [
        {
          "output_type": "display_data",
          "data": {
            "text/html": [
              "<style scoped>\n",
              "  .ansiout {\n",
              "    display: block;\n",
              "    unicode-bidi: embed;\n",
              "    white-space: pre-wrap;\n",
              "    word-wrap: break-word;\n",
              "    word-break: break-all;\n",
              "    font-family: \"Source Code Pro\", \"Menlo\", monospace;;\n",
              "    font-size: 13px;\n",
              "    color: #555;\n",
              "    margin-left: 4px;\n",
              "    line-height: 19px;\n",
              "  }\n",
              "</style>\n",
              "<div class=\"ansiout\"></div>"
            ]
          },
          "metadata": {
            "tags": []
          }
        }
      ]
    },
    {
      "cell_type": "markdown",
      "metadata": {
        "id": "Y4LlCBzObWp1"
      },
      "source": [
        "Explorando o nosso grafo"
      ]
    },
    {
      "cell_type": "code",
      "metadata": {
        "id": "xpRW87AGbWp1",
        "outputId": "143aaa91-2799-442e-dc06-40a0e5360e6b"
      },
      "source": [
        "#encontrando quais são as cidades com mais de 100000 habitantes e menos de 300000\n",
        "popMedia=grafo.vertices\\\n",
        ".filter(\"population > 100000 and population < 300000\")\\\n",
        ".sort(\"population\")\\\n",
        ".show()"
      ],
      "execution_count": null,
      "outputs": [
        {
          "output_type": "display_data",
          "data": {
            "text/html": [
              "<style scoped>\n",
              "  .ansiout {\n",
              "    display: block;\n",
              "    unicode-bidi: embed;\n",
              "    white-space: pre-wrap;\n",
              "    word-wrap: break-word;\n",
              "    word-break: break-all;\n",
              "    font-family: \"Source Code Pro\", \"Menlo\", monospace;;\n",
              "    font-size: 13px;\n",
              "    color: #555;\n",
              "    margin-left: 4px;\n",
              "    line-height: 19px;\n",
              "  }\n",
              "</style>\n",
              "<div class=\"ansiout\">+----------+--------+---------+----------+\n",
              "        id|latitude|longitude|population|\n",
              "+----------+--------+---------+----------+\n",
              "Colchester|51.88921|  0.90421|    104390|\n",
              "   Ipswich|52.05917|  1.15545|    133384|\n",
              "+----------+--------+---------+----------+\n",
              "\n",
              "</div>"
            ]
          },
          "metadata": {
            "tags": []
          }
        }
      ]
    },
    {
      "cell_type": "code",
      "metadata": {
        "id": "7agHToYubWp1",
        "outputId": "1c88a6bc-4f16-47d5-ba79-ae531f07191d"
      },
      "source": [
        "#mostrando a quantidade de caminhos diretos (chegando)\n",
        "display(grafo.inDegrees)"
      ],
      "execution_count": null,
      "outputs": [
        {
          "output_type": "display_data",
          "data": {
            "text/html": [
              "<style scoped>\n",
              "  .table-result-container {\n",
              "    max-height: 300px;\n",
              "    overflow: auto;\n",
              "  }\n",
              "  table, th, td {\n",
              "    border: 1px solid black;\n",
              "    border-collapse: collapse;\n",
              "  }\n",
              "  th, td {\n",
              "    padding: 5px;\n",
              "  }\n",
              "  th {\n",
              "    text-align: left;\n",
              "  }\n",
              "</style><div class='table-result-container'><table class='table-result'><thead style='background-color: white'><tr><th>id</th><th>inDegree</th></tr></thead><tbody><tr><td>Doncaster</td><td>2</td></tr><tr><td>Rotterdam</td><td>3</td></tr><tr><td>London</td><td>2</td></tr><tr><td>Den Haag</td><td>4</td></tr><tr><td>Immingham</td><td>2</td></tr><tr><td>Amsterdam</td><td>3</td></tr><tr><td>Colchester</td><td>2</td></tr><tr><td>Utrecht</td><td>2</td></tr><tr><td>Gouda</td><td>3</td></tr><tr><td>Ipswich</td><td>2</td></tr><tr><td>Hoek van Holland</td><td>3</td></tr><tr><td>Felixstowe</td><td>2</td></tr></tbody></table></div>"
            ]
          },
          "metadata": {
            "tags": []
          }
        }
      ]
    },
    {
      "cell_type": "code",
      "metadata": {
        "id": "cOjq0FkmbWp2",
        "outputId": "e0565ee2-334b-494b-9113-5c3d3a7ed67b"
      },
      "source": [
        "#mostrando a quantidade de caminhos inversos (saindo)\n",
        "display(grafo.outDegrees)"
      ],
      "execution_count": null,
      "outputs": [
        {
          "output_type": "display_data",
          "data": {
            "text/html": [
              "<style scoped>\n",
              "  .table-result-container {\n",
              "    max-height: 300px;\n",
              "    overflow: auto;\n",
              "  }\n",
              "  table, th, td {\n",
              "    border: 1px solid black;\n",
              "    border-collapse: collapse;\n",
              "  }\n",
              "  th, td {\n",
              "    padding: 5px;\n",
              "  }\n",
              "  th {\n",
              "    text-align: left;\n",
              "  }\n",
              "</style><div class='table-result-container'><table class='table-result'><thead style='background-color: white'><tr><th>id</th><th>outDegree</th></tr></thead><tbody><tr><td>Doncaster</td><td>2</td></tr><tr><td>Rotterdam</td><td>3</td></tr><tr><td>London</td><td>2</td></tr><tr><td>Den Haag</td><td>4</td></tr><tr><td>Immingham</td><td>2</td></tr><tr><td>Amsterdam</td><td>3</td></tr><tr><td>Colchester</td><td>2</td></tr><tr><td>Utrecht</td><td>2</td></tr><tr><td>Gouda</td><td>3</td></tr><tr><td>Ipswich</td><td>2</td></tr><tr><td>Hoek van Holland</td><td>3</td></tr><tr><td>Felixstowe</td><td>2</td></tr></tbody></table></div>"
            ]
          },
          "metadata": {
            "tags": []
          }
        }
      ]
    },
    {
      "cell_type": "code",
      "metadata": {
        "id": "UALw_E4ZbWp2",
        "outputId": "e882911a-e36e-45ec-f0d5-8f10adab3482"
      },
      "source": [
        "#qual é o nó mais \"importante\" (tem mais caminhos que levam até ele)\n",
        "total_degree = grafo.degrees\n",
        "in_degree = grafo.inDegrees\n",
        "out_degree = grafo.outDegrees\n"
      ],
      "execution_count": null,
      "outputs": [
        {
          "output_type": "display_data",
          "data": {
            "text/html": [
              "<style scoped>\n",
              "  .ansiout {\n",
              "    display: block;\n",
              "    unicode-bidi: embed;\n",
              "    white-space: pre-wrap;\n",
              "    word-wrap: break-word;\n",
              "    word-break: break-all;\n",
              "    font-family: \"Source Code Pro\", \"Menlo\", monospace;;\n",
              "    font-size: 13px;\n",
              "    color: #555;\n",
              "    margin-left: 4px;\n",
              "    line-height: 19px;\n",
              "  }\n",
              "</style>\n",
              "<div class=\"ansiout\"></div>"
            ]
          },
          "metadata": {
            "tags": []
          }
        }
      ]
    },
    {
      "cell_type": "code",
      "metadata": {
        "id": "KQeaRut6bWp3",
        "outputId": "1eac2e8a-b58d-4fae-f2b5-2779228f4e42"
      },
      "source": [
        "total_degree.show()"
      ],
      "execution_count": null,
      "outputs": [
        {
          "output_type": "display_data",
          "data": {
            "text/html": [
              "<style scoped>\n",
              "  .ansiout {\n",
              "    display: block;\n",
              "    unicode-bidi: embed;\n",
              "    white-space: pre-wrap;\n",
              "    word-wrap: break-word;\n",
              "    word-break: break-all;\n",
              "    font-family: \"Source Code Pro\", \"Menlo\", monospace;;\n",
              "    font-size: 13px;\n",
              "    color: #555;\n",
              "    margin-left: 4px;\n",
              "    line-height: 19px;\n",
              "  }\n",
              "</style>\n",
              "<div class=\"ansiout\">+----------------+------+\n",
              "              id|degree|\n",
              "+----------------+------+\n",
              "       Doncaster|     4|\n",
              "       Rotterdam|     6|\n",
              "          London|     4|\n",
              "        Den Haag|     8|\n",
              "       Immingham|     4|\n",
              "       Amsterdam|     6|\n",
              "      Colchester|     4|\n",
              "         Utrecht|     4|\n",
              "           Gouda|     6|\n",
              "         Ipswich|     4|\n",
              "Hoek van Holland|     6|\n",
              "      Felixstowe|     4|\n",
              "+----------------+------+\n",
              "\n",
              "</div>"
            ]
          },
          "metadata": {
            "tags": []
          }
        }
      ]
    },
    {
      "cell_type": "code",
      "metadata": {
        "id": "mcJARIW7bWp3",
        "outputId": "2679145e-d222-4f5f-d2a2-bec51a4256fd"
      },
      "source": [
        "total_degree.join(in_degree, \"id\", how=\"left\")\\\n",
        ".join(out_degree, \"id\", how=\"left\")\\\n",
        ".fillna(0)\\\n",
        ".sort(\"inDegree\", ascending=False)\\\n",
        ".show()"
      ],
      "execution_count": null,
      "outputs": [
        {
          "output_type": "display_data",
          "data": {
            "text/html": [
              "<style scoped>\n",
              "  .ansiout {\n",
              "    display: block;\n",
              "    unicode-bidi: embed;\n",
              "    white-space: pre-wrap;\n",
              "    word-wrap: break-word;\n",
              "    word-break: break-all;\n",
              "    font-family: \"Source Code Pro\", \"Menlo\", monospace;;\n",
              "    font-size: 13px;\n",
              "    color: #555;\n",
              "    margin-left: 4px;\n",
              "    line-height: 19px;\n",
              "  }\n",
              "</style>\n",
              "<div class=\"ansiout\">+----------------+------+--------+---------+\n",
              "              id|degree|inDegree|outDegree|\n",
              "+----------------+------+--------+---------+\n",
              "        Den Haag|     8|       4|        4|\n",
              "           Gouda|     6|       3|        3|\n",
              "       Rotterdam|     6|       3|        3|\n",
              "Hoek van Holland|     6|       3|        3|\n",
              "       Amsterdam|     6|       3|        3|\n",
              "       Doncaster|     4|       2|        2|\n",
              "       Immingham|     4|       2|        2|\n",
              "          London|     4|       2|        2|\n",
              "         Utrecht|     4|       2|        2|\n",
              "         Ipswich|     4|       2|        2|\n",
              "      Felixstowe|     4|       2|        2|\n",
              "      Colchester|     4|       2|        2|\n",
              "+----------------+------+--------+---------+\n",
              "\n",
              "</div>"
            ]
          },
          "metadata": {
            "tags": []
          }
        }
      ]
    },
    {
      "cell_type": "code",
      "metadata": {
        "id": "T5FfQlBhbWp3",
        "outputId": "6b64e5e7-6c66-4c74-b62e-6bf090391aa5"
      },
      "source": [
        "#realizando consultas\n",
        "motifs = grafo.find(\"(Amsterdam)-[e]->(Utrecht)\")\n",
        "display(motifs)"
      ],
      "execution_count": null,
      "outputs": [
        {
          "output_type": "display_data",
          "data": {
            "text/html": [
              "<style scoped>\n",
              "  .table-result-container {\n",
              "    max-height: 300px;\n",
              "    overflow: auto;\n",
              "  }\n",
              "  table, th, td {\n",
              "    border: 1px solid black;\n",
              "    border-collapse: collapse;\n",
              "  }\n",
              "  th, td {\n",
              "    padding: 5px;\n",
              "  }\n",
              "  th {\n",
              "    text-align: left;\n",
              "  }\n",
              "</style><div class='table-result-container'><table class='table-result'><thead style='background-color: white'><tr><th>Amsterdam</th><th>e</th><th>Utrecht</th></tr></thead><tbody><tr><td>List(Amsterdam, 52.37919, 4.899431, 821752)</td><td>List(Amsterdam, Utrecht, EROAD, 46)</td><td>List(Utrecht, 52.092876, 5.10448, 334176)</td></tr><tr><td>List(Amsterdam, 52.37919, 4.899431, 821752)</td><td>List(Amsterdam, Den Haag, EROAD, 59)</td><td>List(Den Haag, 52.078663, 4.288788, 514861)</td></tr><tr><td>List(Den Haag, 52.078663, 4.288788, 514861)</td><td>List(Den Haag, Rotterdam, EROAD, 26)</td><td>List(Rotterdam, 51.9225, 4.47917, 623652)</td></tr><tr><td>List(Amsterdam, 52.37919, 4.899431, 821752)</td><td>List(Amsterdam, Immingham, EROAD, 369)</td><td>List(Immingham, 53.61239, -0.22219, 9642)</td></tr><tr><td>List(Immingham, 53.61239, -0.22219, 9642)</td><td>List(Immingham, Doncaster, EROAD, 74)</td><td>List(Doncaster, 53.52285, -1.13116, 302400)</td></tr><tr><td>List(Doncaster, 53.52285, -1.13116, 302400)</td><td>List(Doncaster, London, EROAD, 277)</td><td>List(London, 51.509865, -0.118092, 8787892)</td></tr><tr><td>List(Hoek van Holland, 51.9775, 4.13333, 9382)</td><td>List(Hoek van Holland, Den Haag, EROAD, 27)</td><td>List(Den Haag, 52.078663, 4.288788, 514861)</td></tr><tr><td>List(Felixstowe, 51.96375, 1.3511, 23689)</td><td>List(Felixstowe, Hoek van Holland, EROAD, 207)</td><td>List(Hoek van Holland, 51.9775, 4.13333, 9382)</td></tr><tr><td>List(Ipswich, 52.05917, 1.15545, 133384)</td><td>List(Ipswich, Felixstowe, EROAD, 22)</td><td>List(Felixstowe, 51.96375, 1.3511, 23689)</td></tr><tr><td>List(Colchester, 51.88921, 0.90421, 104390)</td><td>List(Colchester, Ipswich, EROAD, 32)</td><td>List(Ipswich, 52.05917, 1.15545, 133384)</td></tr><tr><td>List(London, 51.509865, -0.118092, 8787892)</td><td>List(London, Colchester, EROAD, 106)</td><td>List(Colchester, 51.88921, 0.90421, 104390)</td></tr><tr><td>List(Gouda, 52.01667, 4.70833, 70939)</td><td>List(Gouda, Rotterdam, EROAD, 25)</td><td>List(Rotterdam, 51.9225, 4.47917, 623652)</td></tr><tr><td>List(Gouda, 52.01667, 4.70833, 70939)</td><td>List(Gouda, Utrecht, EROAD, 35)</td><td>List(Utrecht, 52.092876, 5.10448, 334176)</td></tr><tr><td>List(Den Haag, 52.078663, 4.288788, 514861)</td><td>List(Den Haag, Gouda, EROAD, 32)</td><td>List(Gouda, 52.01667, 4.70833, 70939)</td></tr><tr><td>List(Hoek van Holland, 51.9775, 4.13333, 9382)</td><td>List(Hoek van Holland, Rotterdam, EROAD, 33)</td><td>List(Rotterdam, 51.9225, 4.47917, 623652)</td></tr><tr><td>List(Utrecht, 52.092876, 5.10448, 334176)</td><td>List(Utrecht, Amsterdam, EROAD, 46)</td><td>List(Amsterdam, 52.37919, 4.899431, 821752)</td></tr><tr><td>List(Den Haag, 52.078663, 4.288788, 514861)</td><td>List(Den Haag, Amsterdam, EROAD, 59)</td><td>List(Amsterdam, 52.37919, 4.899431, 821752)</td></tr><tr><td>List(Rotterdam, 51.9225, 4.47917, 623652)</td><td>List(Rotterdam, Den Haag, EROAD, 26)</td><td>List(Den Haag, 52.078663, 4.288788, 514861)</td></tr><tr><td>List(Immingham, 53.61239, -0.22219, 9642)</td><td>List(Immingham, Amsterdam, EROAD, 369)</td><td>List(Amsterdam, 52.37919, 4.899431, 821752)</td></tr><tr><td>List(Doncaster, 53.52285, -1.13116, 302400)</td><td>List(Doncaster, Immingham, EROAD, 74)</td><td>List(Immingham, 53.61239, -0.22219, 9642)</td></tr><tr><td>List(London, 51.509865, -0.118092, 8787892)</td><td>List(London, Doncaster, EROAD, 277)</td><td>List(Doncaster, 53.52285, -1.13116, 302400)</td></tr><tr><td>List(Den Haag, 52.078663, 4.288788, 514861)</td><td>List(Den Haag, Hoek van Holland, EROAD, 27)</td><td>List(Hoek van Holland, 51.9775, 4.13333, 9382)</td></tr><tr><td>List(Hoek van Holland, 51.9775, 4.13333, 9382)</td><td>List(Hoek van Holland, Felixstowe, EROAD, 207)</td><td>List(Felixstowe, 51.96375, 1.3511, 23689)</td></tr><tr><td>List(Felixstowe, 51.96375, 1.3511, 23689)</td><td>List(Felixstowe, Ipswich, EROAD, 22)</td><td>List(Ipswich, 52.05917, 1.15545, 133384)</td></tr><tr><td>List(Ipswich, 52.05917, 1.15545, 133384)</td><td>List(Ipswich, Colchester, EROAD, 32)</td><td>List(Colchester, 51.88921, 0.90421, 104390)</td></tr><tr><td>List(Colchester, 51.88921, 0.90421, 104390)</td><td>List(Colchester, London, EROAD, 106)</td><td>List(London, 51.509865, -0.118092, 8787892)</td></tr><tr><td>List(Rotterdam, 51.9225, 4.47917, 623652)</td><td>List(Rotterdam, Gouda, EROAD, 25)</td><td>List(Gouda, 52.01667, 4.70833, 70939)</td></tr><tr><td>List(Utrecht, 52.092876, 5.10448, 334176)</td><td>List(Utrecht, Gouda, EROAD, 35)</td><td>List(Gouda, 52.01667, 4.70833, 70939)</td></tr><tr><td>List(Gouda, 52.01667, 4.70833, 70939)</td><td>List(Gouda, Den Haag, EROAD, 32)</td><td>List(Den Haag, 52.078663, 4.288788, 514861)</td></tr><tr><td>List(Rotterdam, 51.9225, 4.47917, 623652)</td><td>List(Rotterdam, Hoek van Holland, EROAD, 33)</td><td>List(Hoek van Holland, 51.9775, 4.13333, 9382)</td></tr></tbody></table></div>"
            ]
          },
          "metadata": {
            "tags": []
          }
        }
      ]
    },
    {
      "cell_type": "code",
      "metadata": {
        "id": "zUNcBwv-bWp4",
        "outputId": "936d9821-e961-4242-e686-a8849c3b6acd"
      },
      "source": [
        "#filtrando os resultados da consulta anterior\n",
        "filtered = motifs.filter(\"e.cost < 30\")\n",
        "display(filtered)"
      ],
      "execution_count": null,
      "outputs": [
        {
          "output_type": "display_data",
          "data": {
            "text/html": [
              "<style scoped>\n",
              "  .table-result-container {\n",
              "    max-height: 300px;\n",
              "    overflow: auto;\n",
              "  }\n",
              "  table, th, td {\n",
              "    border: 1px solid black;\n",
              "    border-collapse: collapse;\n",
              "  }\n",
              "  th, td {\n",
              "    padding: 5px;\n",
              "  }\n",
              "  th {\n",
              "    text-align: left;\n",
              "  }\n",
              "</style><div class='table-result-container'><table class='table-result'><thead style='background-color: white'><tr><th>Amsterdam</th><th>e</th><th>Utrecht</th></tr></thead><tbody><tr><td>List(Den Haag, 52.078663, 4.288788, 514861)</td><td>List(Den Haag, Rotterdam, EROAD, 26)</td><td>List(Rotterdam, 51.9225, 4.47917, 623652)</td></tr><tr><td>List(Hoek van Holland, 51.9775, 4.13333, 9382)</td><td>List(Hoek van Holland, Den Haag, EROAD, 27)</td><td>List(Den Haag, 52.078663, 4.288788, 514861)</td></tr><tr><td>List(Ipswich, 52.05917, 1.15545, 133384)</td><td>List(Ipswich, Felixstowe, EROAD, 22)</td><td>List(Felixstowe, 51.96375, 1.3511, 23689)</td></tr><tr><td>List(Gouda, 52.01667, 4.70833, 70939)</td><td>List(Gouda, Rotterdam, EROAD, 25)</td><td>List(Rotterdam, 51.9225, 4.47917, 623652)</td></tr><tr><td>List(Rotterdam, 51.9225, 4.47917, 623652)</td><td>List(Rotterdam, Den Haag, EROAD, 26)</td><td>List(Den Haag, 52.078663, 4.288788, 514861)</td></tr><tr><td>List(Den Haag, 52.078663, 4.288788, 514861)</td><td>List(Den Haag, Hoek van Holland, EROAD, 27)</td><td>List(Hoek van Holland, 51.9775, 4.13333, 9382)</td></tr><tr><td>List(Felixstowe, 51.96375, 1.3511, 23689)</td><td>List(Felixstowe, Ipswich, EROAD, 22)</td><td>List(Ipswich, 52.05917, 1.15545, 133384)</td></tr><tr><td>List(Rotterdam, 51.9225, 4.47917, 623652)</td><td>List(Rotterdam, Gouda, EROAD, 25)</td><td>List(Gouda, 52.01667, 4.70833, 70939)</td></tr></tbody></table></div>"
            ]
          },
          "metadata": {
            "tags": []
          }
        }
      ]
    },
    {
      "cell_type": "code",
      "metadata": {
        "id": "t5Bc4bqVbWp4",
        "outputId": "995ea5f4-51cb-4c90-fdef-0eea91a7cdb5"
      },
      "source": [
        "#encontrando o menor caminho entre a cidade de Den Haag e alguma das cidades com tamanho médio\n",
        "origem = \"id='Den Haag'\"\n",
        "destino = \"population > 100000 and population < 300000 and id <> 'Den Haag'\"\n",
        "resultado = grafo.bfs(origem, destino) #bfs encontra o menor caminho entre dois nós"
      ],
      "execution_count": null,
      "outputs": [
        {
          "output_type": "display_data",
          "data": {
            "text/html": [
              "<style scoped>\n",
              "  .ansiout {\n",
              "    display: block;\n",
              "    unicode-bidi: embed;\n",
              "    white-space: pre-wrap;\n",
              "    word-wrap: break-word;\n",
              "    word-break: break-all;\n",
              "    font-family: \"Source Code Pro\", \"Menlo\", monospace;;\n",
              "    font-size: 13px;\n",
              "    color: #555;\n",
              "    margin-left: 4px;\n",
              "    line-height: 19px;\n",
              "  }\n",
              "</style>\n",
              "<div class=\"ansiout\"></div>"
            ]
          },
          "metadata": {
            "tags": []
          }
        }
      ]
    },
    {
      "cell_type": "code",
      "metadata": {
        "id": "duTB6QsLbWp5",
        "outputId": "9ac9f0ef-e42e-420a-8f0a-ca98e4825e39"
      },
      "source": [
        "print(resultado.columns)  #colunas com 'e' representam as arestas (edges) e colunas com 'v' representam os nós (vértices)"
      ],
      "execution_count": null,
      "outputs": [
        {
          "output_type": "display_data",
          "data": {
            "text/html": [
              "<style scoped>\n",
              "  .ansiout {\n",
              "    display: block;\n",
              "    unicode-bidi: embed;\n",
              "    white-space: pre-wrap;\n",
              "    word-wrap: break-word;\n",
              "    word-break: break-all;\n",
              "    font-family: \"Source Code Pro\", \"Menlo\", monospace;;\n",
              "    font-size: 13px;\n",
              "    color: #555;\n",
              "    margin-left: 4px;\n",
              "    line-height: 19px;\n",
              "  }\n",
              "</style>\n",
              "<div class=\"ansiout\">[&#39;from&#39;, &#39;e0&#39;, &#39;v1&#39;, &#39;e1&#39;, &#39;v2&#39;, &#39;e2&#39;, &#39;to&#39;]\n",
              "</div>"
            ]
          },
          "metadata": {
            "tags": []
          }
        }
      ]
    },
    {
      "cell_type": "code",
      "metadata": {
        "id": "gS8iWjC9bWp6",
        "outputId": "4a3d6bf1-b79d-45ad-e685-ac2421818d76"
      },
      "source": [
        "#selecionamdo apenas os nós (selecionando quem não começa com e)\n",
        "colunas = [coluna for coluna in resultado.columns if not coluna.startswith(\"e\")]\n",
        "resultado.select(colunas).show(5,False)"
      ],
      "execution_count": null,
      "outputs": [
        {
          "output_type": "display_data",
          "data": {
            "text/html": [
              "<style scoped>\n",
              "  .ansiout {\n",
              "    display: block;\n",
              "    unicode-bidi: embed;\n",
              "    white-space: pre-wrap;\n",
              "    word-wrap: break-word;\n",
              "    word-break: break-all;\n",
              "    font-family: \"Source Code Pro\", \"Menlo\", monospace;;\n",
              "    font-size: 13px;\n",
              "    color: #555;\n",
              "    margin-left: 4px;\n",
              "    line-height: 19px;\n",
              "  }\n",
              "</style>\n",
              "<div class=\"ansiout\">+---------------------------------------+------------------------------------------+-------------------------------------+------------------------------------+\n",
              "from                                   |v1                                        |v2                                   |to                                  |\n",
              "+---------------------------------------+------------------------------------------+-------------------------------------+------------------------------------+\n",
              "[Den Haag, 52.078663, 4.288788, 514861]|[Hoek van Holland, 51.9775, 4.13333, 9382]|[Felixstowe, 51.96375, 1.3511, 23689]|[Ipswich, 52.05917, 1.15545, 133384]|\n",
              "+---------------------------------------+------------------------------------------+-------------------------------------+------------------------------------+\n",
              "\n",
              "</div>"
            ]
          },
          "metadata": {
            "tags": []
          }
        }
      ]
    },
    {
      "cell_type": "code",
      "metadata": {
        "id": "X6KjY1UbbWp6",
        "outputId": "87c0e8c7-c047-4197-d879-8e50174a1e2b"
      },
      "source": [
        "grafo.vertices\\\n",
        ".filter(\"population > 100000 and population < 300000\")\\\n",
        ".sort(\"population\")\\\n",
        ".show()"
      ],
      "execution_count": null,
      "outputs": [
        {
          "output_type": "display_data",
          "data": {
            "text/html": [
              "<style scoped>\n",
              "  .ansiout {\n",
              "    display: block;\n",
              "    unicode-bidi: embed;\n",
              "    white-space: pre-wrap;\n",
              "    word-wrap: break-word;\n",
              "    word-break: break-all;\n",
              "    font-family: \"Source Code Pro\", \"Menlo\", monospace;;\n",
              "    font-size: 13px;\n",
              "    color: #555;\n",
              "    margin-left: 4px;\n",
              "    line-height: 19px;\n",
              "  }\n",
              "</style>\n",
              "<div class=\"ansiout\">+----------+--------+---------+----------+\n",
              "        id|latitude|longitude|population|\n",
              "+----------+--------+---------+----------+\n",
              "Colchester|51.88921|  0.90421|    104390|\n",
              "   Ipswich|52.05917|  1.15545|    133384|\n",
              "+----------+--------+---------+----------+\n",
              "\n",
              "</div>"
            ]
          },
          "metadata": {
            "tags": []
          }
        }
      ]
    }
  ]
}