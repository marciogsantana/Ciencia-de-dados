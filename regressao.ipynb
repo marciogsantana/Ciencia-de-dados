{
  "nbformat": 4,
  "nbformat_minor": 0,
  "metadata": {
    "colab": {
      "name": "regressao.ipynb",
      "provenance": [],
      "collapsed_sections": [],
      "authorship_tag": "ABX9TyMhiqg4YFelhOQIXhnRlOST",
      "include_colab_link": true
    },
    "kernelspec": {
      "name": "python3",
      "display_name": "Python 3"
    }
  },
  "cells": [
    {
      "cell_type": "markdown",
      "metadata": {
        "id": "view-in-github",
        "colab_type": "text"
      },
      "source": [
        "<a href=\"https://colab.research.google.com/github/marciogsantana/Ciencia-de-dados/blob/main/regressao.ipynb\" target=\"_parent\"><img src=\"https://colab.research.google.com/assets/colab-badge.svg\" alt=\"Open In Colab\"/></a>"
      ]
    },
    {
      "cell_type": "markdown",
      "metadata": {
        "id": "8FKMhsdzjMNm"
      },
      "source": [
        "regressao"
      ]
    },
    {
      "cell_type": "code",
      "metadata": {
        "id": "r5e1d-3Jn5nO"
      },
      "source": [
        ""
      ],
      "execution_count": null,
      "outputs": []
    },
    {
      "cell_type": "code",
      "metadata": {
        "id": "PmC-fPGzjQxU"
      },
      "source": [
        "import numpy as np\n",
        "from sklearn import datasets, linear_model\n",
        "import matplotlib.pyplot as plt\n",
        "from sklearn.metrics import mean_squared_error, r2_score"
      ],
      "execution_count": null,
      "outputs": []
    },
    {
      "cell_type": "code",
      "metadata": {
        "colab": {
          "base_uri": "https://localhost:8080/",
          "height": 282
        },
        "id": "97rFMHsbmi2v",
        "outputId": "edca7015-1a11-4ae4-f215-5c667e459682"
      },
      "source": [
        "receita = np.array([2,15,25,35,45,55,65,75,80,85,32,62,2,15,25,35,45,55,65,75,80,85,32,62])\n",
        "despesa=  np.array([10,20,14,32,28,41,65,52,55,61,32,21,44,10,20,14,32,65,75,80,85,32,62,80])\n",
        "plt.scatter(receita, despesa, color = 'black')\n",
        "plt.show"
      ],
      "execution_count": null,
      "outputs": [
        {
          "output_type": "execute_result",
          "data": {
            "text/plain": [
              "<function matplotlib.pyplot.show>"
            ]
          },
          "metadata": {
            "tags": []
          },
          "execution_count": 25
        },
        {
          "output_type": "display_data",
          "data": {
            "image/png": "[encoded data removed]",
            "text/plain": [
              "<Figure size 432x288 with 1 Axes>"
            ]
          },
          "metadata": {
            "tags": [],
            "needs_background": "light"
          }
        }
      ]
    },
    {
      "cell_type": "code",
      "metadata": {
        "colab": {
          "base_uri": "https://localhost:8080/",
          "height": 316
        },
        "id": "CZ23M6sXuKta",
        "outputId": "f496546f-1bad-4ad5-a74b-87283ec49de2"
      },
      "source": [
        "receita = np.array([2,15,25,35,45,55,65,75,80,85,32,62,2,15,25,35,45,55,65,75,80,85,32,62])\n",
        "despesa=  np.array([10,20,14,32,28,41,65,52,55,61,32,21,44,10,20,14,32,65,75,80,85,32,62,80])\n",
        "regr = linear_model.LinearRegression()\n",
        "regr.fit(receita.reshape(-1,1),despesa)\n",
        "y = regr.predict(receita.reshape(-1,1))\n",
        "\n",
        "print('Coefficients: /n', regr.coef_)\n",
        "print('Intercep: /n', regr.intercept_)\n",
        "plt.scatter(receita,despesa, color ='black')\n",
        "plt.plot(receita, y, color='blue', linewidth=3)\n"
      ],
      "execution_count": null,
      "outputs": [
        {
          "output_type": "stream",
          "text": [
            "Coefficients: /n [0.60601994]\n",
            "Intercep: /n 13.827709611451937\n"
          ],
          "name": "stdout"
        },
        {
          "output_type": "execute_result",
          "data": {
            "text/plain": [
              "[<matplotlib.lines.Line2D at 0x7f4ffbe38b10>]"
            ]
          },
          "metadata": {
            "tags": []
          },
          "execution_count": 38
        },
        {
          "output_type": "display_data",
          "data": {
            "image/png": "[encoded data removed]",
            "text/plain": [
              "<Figure size 432x288 with 1 Axes>"
            ]
          },
          "metadata": {
            "tags": [],
            "needs_background": "light"
          }
        }
      ]
    }
  ]
}