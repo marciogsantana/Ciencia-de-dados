{
  "cells": [
    {
      "cell_type": "markdown",
      "metadata": {
        "id": "view-in-github",
        "colab_type": "text"
      },
      "source": [
        "<a href=\"https://colab.research.google.com/github/marciogsantana/Ciencia-de-dados/blob/main/pagerank.ipynb\" target=\"_parent\"><img src=\"https://colab.research.google.com/assets/colab-badge.svg\" alt=\"Open In Colab\"/></a>"
      ]
    },
    {
      "cell_type": "code",
      "source": [
        "#programa utilizado para o exemplo de grafos para aplicação do PageRank"
      ],
      "metadata": {
        "id": "V_NPK7uPwXsS",
        "outputId": "2fb50e6b-675d-4deb-cb5f-340c11513a61"
      },
      "outputs": [
        {
          "metadata": {},
          "output_type": "display_data",
          "data": {
            "text/html": [
              "<style scoped>\n  .ansiout {\n    display: block;\n    unicode-bidi: embed;\n    white-space: pre-wrap;\n    word-wrap: break-word;\n    word-break: break-all;\n    font-family: \"Source Code Pro\", \"Menlo\", monospace;;\n    font-size: 13px;\n    color: #555;\n    margin-left: 4px;\n    line-height: 19px;\n  }\n</style>\n<div class=\"ansiout\"></div>"
            ]
          }
        }
      ],
      "execution_count": null
    },
    {
      "cell_type": "code",
      "source": [
        "from pyspark.sql import SparkSession #importa a biblioteca que cria a seção do spark"
      ],
      "metadata": {
        "id": "DCwlsVdLwXsU",
        "outputId": "bb8edb60-dce7-4975-f246-acd2cb40aaa3"
      },
      "outputs": [
        {
          "metadata": {},
          "output_type": "display_data",
          "data": {
            "text/html": [
              "<style scoped>\n  .ansiout {\n    display: block;\n    unicode-bidi: embed;\n    white-space: pre-wrap;\n    word-wrap: break-word;\n    word-break: break-all;\n    font-family: \"Source Code Pro\", \"Menlo\", monospace;;\n    font-size: 13px;\n    color: #555;\n    margin-left: 4px;\n    line-height: 19px;\n  }\n</style>\n<div class=\"ansiout\"></div>"
            ]
          }
        }
      ],
      "execution_count": null
    },
    {
      "cell_type": "code",
      "source": [
        "#inicia a seção para a utilização do spark\n",
        "spark = SparkSession.builder.appName(\"pageRankGrafos\").getOrCreate() #cria a seção caso não exista ou obtém a já criada"
      ],
      "metadata": {
        "id": "arQa8ys9wXsV",
        "outputId": "76403bbb-5929-4430-c5f4-2cd98913f3f9"
      },
      "outputs": [
        {
          "metadata": {},
          "output_type": "display_data",
          "data": {
            "text/html": [
              "<style scoped>\n  .ansiout {\n    display: block;\n    unicode-bidi: embed;\n    white-space: pre-wrap;\n    word-wrap: break-word;\n    word-break: break-all;\n    font-family: \"Source Code Pro\", \"Menlo\", monospace;;\n    font-size: 13px;\n    color: #555;\n    margin-left: 4px;\n    line-height: 19px;\n  }\n</style>\n<div class=\"ansiout\"></div>"
            ]
          }
        }
      ],
      "execution_count": null
    },
    {
      "cell_type": "markdown",
      "source": [
        "Criando o nosso grafo"
      ],
      "metadata": {
        "id": "KNPHpYALwXsW"
      }
    },
    {
      "cell_type": "code",
      "source": [
        "#criando os nós para o nosso grafo\n",
        "nos = spark.createDataFrame([\n",
        "    (\"A\", \"ANA\"  ,350 ),\n",
        "    (\"B\", \"BERNARDO\"  ,360 ),\n",
        "    (\"C\", \"CLARA\" ,195 ),\n",
        "    (\"D\", \"DANIEL\",90),\n",
        "    (\"E\", \"ERIC\"  ,90),\n",
        "    (\"F\", \"FERNANDA\" ,215 ),\n",
        "    (\"G\", \"GUSTAVO\",30 ),\n",
        "    (\"H\", \"HENRIQUE\" ,25 ),\n",
        "    (\"I\", \"IOLANDA\"  ,25 ),\n",
        "    (\"J\", \"JENNIFER\"   ,20 )\n",
        "], [\"id\", \"nome\", \"total_segundos\"])"
      ],
      "metadata": {
        "id": "OJ23rr4zwXsX",
        "outputId": "256afeb0-914d-4d94-d0c7-4ce7e23353c2"
      },
      "outputs": [
        {
          "metadata": {},
          "output_type": "display_data",
          "data": {
            "text/html": [
              "<style scoped>\n  .ansiout {\n    display: block;\n    unicode-bidi: embed;\n    white-space: pre-wrap;\n    word-wrap: break-word;\n    word-break: break-all;\n    font-family: \"Source Code Pro\", \"Menlo\", monospace;;\n    font-size: 13px;\n    color: #555;\n    margin-left: 4px;\n    line-height: 19px;\n  }\n</style>\n<div class=\"ansiout\"></div>"
            ]
          }
        }
      ],
      "execution_count": null
    },
    {
      "cell_type": "code",
      "source": [
        "nos.show()"
      ],
      "metadata": {
        "id": "y68e_MLRwXsY",
        "outputId": "8c28142c-afc3-43de-fad9-df219e977c66"
      },
      "outputs": [
        {
          "metadata": {},
          "output_type": "display_data",
          "data": {
            "text/html": [
              "<style scoped>\n  .ansiout {\n    display: block;\n    unicode-bidi: embed;\n    white-space: pre-wrap;\n    word-wrap: break-word;\n    word-break: break-all;\n    font-family: \"Source Code Pro\", \"Menlo\", monospace;;\n    font-size: 13px;\n    color: #555;\n    margin-left: 4px;\n    line-height: 19px;\n  }\n</style>\n<div class=\"ansiout\">+---+--------+--------------+\n id|    nome|total_segundos|\n+---+--------+--------------+\n  A|     ANA|           350|\n  B|BERNARDO|           360|\n  C|   CLARA|           195|\n  D|  DANIEL|            90|\n  E|    ERIC|            90|\n  F|FERNANDA|           215|\n  G| GUSTAVO|            30|\n  H|HENRIQUE|            25|\n  I| IOLANDA|            25|\n  J|JENNIFER|            20|\n+---+--------+--------------+\n\n</div>"
            ]
          }
        }
      ],
      "execution_count": null
    },
    {
      "cell_type": "code",
      "source": [
        "relacionamentos=spark.createDataFrame([\n",
        "    (\"A\", \"B\", 60),\n",
        "    (\"B\", \"A\", 50),\n",
        "    (\"A\", \"C\", 50),\n",
        "    (\"C\", \"A\", 100),\n",
        "    (\"A\", \"D\", 90),\n",
        "    (\"C\", \"I\", 25),\n",
        "    (\"C\", \"J\", 20),\n",
        "    (\"B\", \"F\", 50),\n",
        "    (\"F\", \"B\", 110),\n",
        "    (\"F\", \"G\", 30),\n",
        "    (\"F\", \"H\", 25),\n",
        "    (\"B\", \"E\", 90)\n",
        "],[\"src\",\"dst\",\"duracao_chamada\"])"
      ],
      "metadata": {
        "id": "V6euOgXewXsZ",
        "outputId": "666bcc7e-3086-4c93-c9b4-f3351537fe54"
      },
      "outputs": [
        {
          "metadata": {},
          "output_type": "display_data",
          "data": {
            "text/html": [
              "<style scoped>\n  .ansiout {\n    display: block;\n    unicode-bidi: embed;\n    white-space: pre-wrap;\n    word-wrap: break-word;\n    word-break: break-all;\n    font-family: \"Source Code Pro\", \"Menlo\", monospace;;\n    font-size: 13px;\n    color: #555;\n    margin-left: 4px;\n    line-height: 19px;\n  }\n</style>\n<div class=\"ansiout\"></div>"
            ]
          }
        }
      ],
      "execution_count": null
    },
    {
      "cell_type": "code",
      "source": [
        "relacionamentos.show() # a fonte (src) indica quem ligou e (dst) indica quem recebeu a ligação"
      ],
      "metadata": {
        "id": "Zt_MYREqwXsa",
        "outputId": "6ffc2a81-85e7-4123-dbcd-4f23029facbb"
      },
      "outputs": [
        {
          "metadata": {},
          "output_type": "display_data",
          "data": {
            "text/html": [
              "<style scoped>\n  .ansiout {\n    display: block;\n    unicode-bidi: embed;\n    white-space: pre-wrap;\n    word-wrap: break-word;\n    word-break: break-all;\n    font-family: \"Source Code Pro\", \"Menlo\", monospace;;\n    font-size: 13px;\n    color: #555;\n    margin-left: 4px;\n    line-height: 19px;\n  }\n</style>\n<div class=\"ansiout\">+---+---+---------------+\nsrc|dst|duracao_chamada|\n+---+---+---------------+\n  A|  B|             60|\n  B|  A|             50|\n  A|  C|             50|\n  C|  A|            100|\n  A|  D|             90|\n  C|  I|             25|\n  C|  J|             20|\n  B|  F|             50|\n  F|  B|            110|\n  F|  G|             30|\n  F|  H|             25|\n  B|  E|             90|\n+---+---+---------------+\n\n</div>"
            ]
          }
        }
      ],
      "execution_count": null
    },
    {
      "cell_type": "markdown",
      "source": [
        "Definindo e criando o grafo"
      ],
      "metadata": {
        "id": "C8GlCPe1wXsa"
      }
    },
    {
      "cell_type": "code",
      "source": [
        "#importando as funções para utilizar os grafos\n",
        "from pyspark.sql.types import *\n",
        "from graphframes import *  #contém os métodos para serem utilizados no processamento através dos grafos\n",
        "#obs: a biblioteca graphframes deve ser adicionada ao databricks, pois não é nativa. Para isso acesse New->\"Library\"-> \"Source\"-> \"Maven Coordinate\"-> pesquise por \"graphframes\" e adicione a biblioteca para cada cluster"
      ],
      "metadata": {
        "id": "JdX-fpkbwXsb",
        "outputId": "fccaca3e-ee66-4831-9948-31e9a9e58efd"
      },
      "outputs": [
        {
          "metadata": {},
          "output_type": "display_data",
          "data": {
            "text/html": [
              "<style scoped>\n  .ansiout {\n    display: block;\n    unicode-bidi: embed;\n    white-space: pre-wrap;\n    word-wrap: break-word;\n    word-break: break-all;\n    font-family: \"Source Code Pro\", \"Menlo\", monospace;;\n    font-size: 13px;\n    color: #555;\n    margin-left: 4px;\n    line-height: 19px;\n  }\n</style>\n<div class=\"ansiout\"></div>"
            ]
          }
        }
      ],
      "execution_count": null
    },
    {
      "cell_type": "code",
      "source": [
        "#controi o grafo a partir dos dataframes\n",
        "grafo = GraphFrame(nos,relacionamentos)\n"
      ],
      "metadata": {
        "id": "GdHVkn7NwXsb",
        "outputId": "fc2ee6df-0a78-4d2e-b74c-c9ee5723f43d"
      },
      "outputs": [
        {
          "metadata": {},
          "output_type": "display_data",
          "data": {
            "text/html": [
              "<style scoped>\n  .ansiout {\n    display: block;\n    unicode-bidi: embed;\n    white-space: pre-wrap;\n    word-wrap: break-word;\n    word-break: break-all;\n    font-family: \"Source Code Pro\", \"Menlo\", monospace;;\n    font-size: 13px;\n    color: #555;\n    margin-left: 4px;\n    line-height: 19px;\n  }\n</style>\n<div class=\"ansiout\"></div>"
            ]
          }
        }
      ],
      "execution_count": null
    },
    {
      "cell_type": "markdown",
      "source": [
        "Explorando o nosso grafo"
      ],
      "metadata": {
        "id": "ssDSPXuAwXsb"
      }
    },
    {
      "cell_type": "code",
      "source": [
        "#encontrando chamadas com duração total maior do que 150 min\n",
        "from pyspark.sql.functions import col\n",
        "\n",
        "grafo.vertices\\\n",
        ".filter(\"total_segundos > 150\")\\\n",
        ".sort(col(\"total_segundos\").desc())\\\n",
        ".show()"
      ],
      "metadata": {
        "id": "1zejz0gBwXsc",
        "outputId": "3c3505b4-85bf-42af-840c-9ca98581c84b"
      },
      "outputs": [
        {
          "metadata": {},
          "output_type": "display_data",
          "data": {
            "text/html": [
              "<style scoped>\n  .ansiout {\n    display: block;\n    unicode-bidi: embed;\n    white-space: pre-wrap;\n    word-wrap: break-word;\n    word-break: break-all;\n    font-family: \"Source Code Pro\", \"Menlo\", monospace;;\n    font-size: 13px;\n    color: #555;\n    margin-left: 4px;\n    line-height: 19px;\n  }\n</style>\n<div class=\"ansiout\">+---+--------+--------------+\n id|    nome|total_segundos|\n+---+--------+--------------+\n  B|BERNARDO|           360|\n  A|     ANA|           350|\n  F|FERNANDA|           215|\n  C|   CLARA|           195|\n+---+--------+--------------+\n\n</div>"
            ]
          }
        }
      ],
      "execution_count": null
    },
    {
      "cell_type": "code",
      "source": [
        "#encontrando as estatísticas para o total de segundos existentes no grafo (para cada um dos nós) \n",
        "grafo.vertices\\\n",
        ".describe(['total_segundos'])\\\n",
        ".show()"
      ],
      "metadata": {
        "id": "UOgjR4T0wXsc",
        "outputId": "24386c39-b89f-4598-a09e-35a351bcf385"
      },
      "outputs": [
        {
          "metadata": {},
          "output_type": "display_data",
          "data": {
            "text/html": [
              "<style scoped>\n  .ansiout {\n    display: block;\n    unicode-bidi: embed;\n    white-space: pre-wrap;\n    word-wrap: break-word;\n    word-break: break-all;\n    font-family: \"Source Code Pro\", \"Menlo\", monospace;;\n    font-size: 13px;\n    color: #555;\n    margin-left: 4px;\n    line-height: 19px;\n  }\n</style>\n<div class=\"ansiout\">+-------+-----------------+\nsummary|   total_segundos|\n+-------+-----------------+\n  count|               10|\n   mean|            140.0|\n stddev|132.9578045011942|\n    min|               20|\n    max|              360|\n+-------+-----------------+\n\n</div>"
            ]
          }
        }
      ],
      "execution_count": null
    },
    {
      "cell_type": "code",
      "source": [
        "#encontrando as estatísticas para cada uma das ligações (relacionamentos)\n",
        "grafo.edges\\\n",
        ".describe(['duracao_chamada'])\\\n",
        ".show()"
      ],
      "metadata": {
        "id": "62xgKAKZwXsc",
        "outputId": "227d5248-eb3d-41c1-eade-d41e4520e9be"
      },
      "outputs": [
        {
          "metadata": {},
          "output_type": "display_data",
          "data": {
            "text/html": [
              "<style scoped>\n  .ansiout {\n    display: block;\n    unicode-bidi: embed;\n    white-space: pre-wrap;\n    word-wrap: break-word;\n    word-break: break-all;\n    font-family: \"Source Code Pro\", \"Menlo\", monospace;;\n    font-size: 13px;\n    color: #555;\n    margin-left: 4px;\n    line-height: 19px;\n  }\n</style>\n<div class=\"ansiout\">+-------+------------------+\nsummary|   duracao_chamada|\n+-------+------------------+\n  count|                12|\n   mean|58.333333333333336|\n stddev| 31.79003083682148|\n    min|                20|\n    max|               110|\n+-------+------------------+\n\n</div>"
            ]
          }
        }
      ],
      "execution_count": null
    },
    {
      "cell_type": "code",
      "source": [
        "#mostrando a quantidade de caminhos diretos (chegando) ->  ligações recebidas\n",
        "display(grafo.inDegrees)"
      ],
      "metadata": {
        "id": "yqdhIxTNwXsd",
        "outputId": "ac50f4ef-1967-43b1-f875-8471f84d2b55"
      },
      "outputs": [
        {
          "metadata": {},
          "output_type": "display_data",
          "data": {
            "text/html": [
              "<style scoped>\n  .table-result-container {\n    max-height: 300px;\n    overflow: auto;\n  }\n  table, th, td {\n    border: 1px solid black;\n    border-collapse: collapse;\n  }\n  th, td {\n    padding: 5px;\n  }\n  th {\n    text-align: left;\n  }\n</style><div class='table-result-container'><table class='table-result'><thead style='background-color: white'><tr><th>id</th><th>inDegree</th></tr></thead><tbody><tr><td>F</td><td>1</td></tr><tr><td>E</td><td>1</td></tr><tr><td>B</td><td>2</td></tr><tr><td>D</td><td>1</td></tr><tr><td>C</td><td>1</td></tr><tr><td>J</td><td>1</td></tr><tr><td>A</td><td>2</td></tr><tr><td>G</td><td>1</td></tr><tr><td>I</td><td>1</td></tr><tr><td>H</td><td>1</td></tr></tbody></table></div>"
            ]
          }
        }
      ],
      "execution_count": null
    },
    {
      "cell_type": "code",
      "source": [
        "#mostrando a quantidade de caminhos inversos (saindo) -> ligações efetuadas\n",
        "display(grafo.outDegrees)"
      ],
      "metadata": {
        "id": "WMcVlX0nwXsd",
        "outputId": "037d42b4-899b-4cec-c422-5ec2bf16b21f"
      },
      "outputs": [
        {
          "metadata": {},
          "output_type": "display_data",
          "data": {
            "text/html": [
              "<style scoped>\n  .table-result-container {\n    max-height: 300px;\n    overflow: auto;\n  }\n  table, th, td {\n    border: 1px solid black;\n    border-collapse: collapse;\n  }\n  th, td {\n    padding: 5px;\n  }\n  th {\n    text-align: left;\n  }\n</style><div class='table-result-container'><table class='table-result'><thead style='background-color: white'><tr><th>id</th><th>outDegree</th></tr></thead><tbody><tr><td>F</td><td>3</td></tr><tr><td>B</td><td>3</td></tr><tr><td>C</td><td>3</td></tr><tr><td>A</td><td>3</td></tr></tbody></table></div>"
            ]
          }
        }
      ],
      "execution_count": null
    },
    {
      "cell_type": "code",
      "source": [
        "#qual é o nó mais \"importante\" (tem mais caminhos que levam até ele) -> quem mais recebeu ligações\n",
        "total_degree = grafo.degrees\n",
        "in_degree = grafo.inDegrees\n",
        "out_degree = grafo.outDegrees\n"
      ],
      "metadata": {
        "id": "Zvfy-Yb5wXsd",
        "outputId": "ee5033a2-f182-4bd1-8647-0647f6705119"
      },
      "outputs": [
        {
          "metadata": {},
          "output_type": "display_data",
          "data": {
            "text/html": [
              "<style scoped>\n  .ansiout {\n    display: block;\n    unicode-bidi: embed;\n    white-space: pre-wrap;\n    word-wrap: break-word;\n    word-break: break-all;\n    font-family: \"Source Code Pro\", \"Menlo\", monospace;;\n    font-size: 13px;\n    color: #555;\n    margin-left: 4px;\n    line-height: 19px;\n  }\n</style>\n<div class=\"ansiout\"></div>"
            ]
          }
        }
      ],
      "execution_count": null
    },
    {
      "cell_type": "code",
      "source": [
        "total_degree.show()"
      ],
      "metadata": {
        "id": "pqVaT9fYwXse",
        "outputId": "ee827ccd-58c7-43ed-c459-b0f36456d5a9"
      },
      "outputs": [
        {
          "metadata": {},
          "output_type": "display_data",
          "data": {
            "text/html": [
              "<style scoped>\n  .ansiout {\n    display: block;\n    unicode-bidi: embed;\n    white-space: pre-wrap;\n    word-wrap: break-word;\n    word-break: break-all;\n    font-family: \"Source Code Pro\", \"Menlo\", monospace;;\n    font-size: 13px;\n    color: #555;\n    margin-left: 4px;\n    line-height: 19px;\n  }\n</style>\n<div class=\"ansiout\">+---+------+\n id|degree|\n+---+------+\n  F|     4|\n  E|     1|\n  B|     5|\n  D|     1|\n  C|     4|\n  J|     1|\n  A|     5|\n  G|     1|\n  I|     1|\n  H|     1|\n+---+------+\n\n</div>"
            ]
          }
        }
      ],
      "execution_count": null
    },
    {
      "cell_type": "code",
      "source": [
        "#realizando a união dos dois dataframes (in e out degree)\n",
        "#podem existir nós que não ligaram ou receberam ligação, assim é necessário preencher o Nan\n",
        "#fica mais interessante mostrar em ordem decrescente os dados\n",
        "total_degree.join(in_degree, \"id\", how=\"left\")\\\n",
        ".join(out_degree, \"id\", how=\"left\")\\\n",
        ".fillna(0)\\\n",
        ".sort(\"inDegree\", ascending=False)\\\n",
        ".show()"
      ],
      "metadata": {
        "id": "gFZlceM6wXse",
        "outputId": "5c5b1445-a16c-40ca-9b36-4bf6912cd2f9"
      },
      "outputs": [
        {
          "metadata": {},
          "output_type": "display_data",
          "data": {
            "text/html": [
              "<style scoped>\n  .ansiout {\n    display: block;\n    unicode-bidi: embed;\n    white-space: pre-wrap;\n    word-wrap: break-word;\n    word-break: break-all;\n    font-family: \"Source Code Pro\", \"Menlo\", monospace;;\n    font-size: 13px;\n    color: #555;\n    margin-left: 4px;\n    line-height: 19px;\n  }\n</style>\n<div class=\"ansiout\">+---+------+--------+---------+\n id|degree|inDegree|outDegree|\n+---+------+--------+---------+\n  B|     5|       2|        3|\n  A|     5|       2|        3|\n  F|     4|       1|        3|\n  E|     1|       1|        0|\n  J|     1|       1|        0|\n  D|     1|       1|        0|\n  C|     4|       1|        3|\n  G|     1|       1|        0|\n  I|     1|       1|        0|\n  H|     1|       1|        0|\n+---+------+--------+---------+\n\n</div>"
            ]
          }
        }
      ],
      "execution_count": null
    },
    {
      "cell_type": "markdown",
      "source": [
        "Aplicando o algoritmo PageRank"
      ],
      "metadata": {
        "id": "eeu7-HVIwXse"
      }
    },
    {
      "cell_type": "code",
      "source": [
        "pageRank = grafo.pageRank(resetProbability=0.15, tol=0.001) # resetProbability= probabilidade de sair de uma página e visitar outra sem link direto (garante que todas possam ser visitadas)-> entre 0 e 1\n",
        "#tol=tolerância->indica o critério de parada(se não melhorou o anterior em tol-valor)"
      ],
      "metadata": {
        "id": "WB8qepKDwXse",
        "outputId": "23a91078-5886-4409-e7aa-08937adddfff"
      },
      "outputs": [
        {
          "metadata": {},
          "output_type": "display_data",
          "data": {
            "text/html": [
              "<style scoped>\n  .ansiout {\n    display: block;\n    unicode-bidi: embed;\n    white-space: pre-wrap;\n    word-wrap: break-word;\n    word-break: break-all;\n    font-family: \"Source Code Pro\", \"Menlo\", monospace;;\n    font-size: 13px;\n    color: #555;\n    margin-left: 4px;\n    line-height: 19px;\n  }\n</style>\n<div class=\"ansiout\"></div>"
            ]
          }
        }
      ],
      "execution_count": null
    },
    {
      "cell_type": "code",
      "source": [
        "#page rank gera ou outro grafo \n",
        "#indicando quais são os nós mais \"importantes\" em nosso grafo \n",
        "pageRank.vertices.sort(['pagerank'],ascending=False).show()"
      ],
      "metadata": {
        "id": "zfH65TmNwXsf",
        "outputId": "6c3828d2-1d42-4d43-b1dc-1ed403617580"
      },
      "outputs": [
        {
          "metadata": {},
          "output_type": "display_data",
          "data": {
            "text/html": [
              "<style scoped>\n  .ansiout {\n    display: block;\n    unicode-bidi: embed;\n    white-space: pre-wrap;\n    word-wrap: break-word;\n    word-break: break-all;\n    font-family: \"Source Code Pro\", \"Menlo\", monospace;;\n    font-size: 13px;\n    color: #555;\n    margin-left: 4px;\n    line-height: 19px;\n  }\n</style>\n<div class=\"ansiout\">+---+--------+--------------+------------------+\n id|    nome|total_segundos|          pagerank|\n+---+--------+--------------+------------------+\n  B|BERNARDO|           360|1.2519236648772267|\n  A|     ANA|           350|1.2519236648772267|\n  F|FERNANDA|           215|0.9759477302972548|\n  D|  DANIEL|            90|0.9759477302972548|\n  C|   CLARA|           195|0.9759477302972548|\n  E|    ERIC|            90|0.9759477302972548|\n  H|HENRIQUE|            25|0.8980904372641323|\n  G| GUSTAVO|            30|0.8980904372641323|\n  I| IOLANDA|            25|0.8980904372641323|\n  J|JENNIFER|            20|0.8980904372641323|\n+---+--------+--------------+------------------+\n\n</div>"
            ]
          }
        }
      ],
      "execution_count": null
    },
    {
      "cell_type": "code",
      "source": [
        "#identificando os pesos existentes entre cada conexão\n",
        "pageRank.edges.show() #page rank não leva em consideração os pesos, apenas os tipos de relacionamentos. Assim, realiza a normalização dos pesos encontrados."
      ],
      "metadata": {
        "id": "wiLPqpGtwXsf",
        "outputId": "0467c40e-861b-4c77-8663-dfefefa5180a"
      },
      "outputs": [
        {
          "metadata": {},
          "output_type": "display_data",
          "data": {
            "text/html": [
              "<style scoped>\n  .ansiout {\n    display: block;\n    unicode-bidi: embed;\n    white-space: pre-wrap;\n    word-wrap: break-word;\n    word-break: break-all;\n    font-family: \"Source Code Pro\", \"Menlo\", monospace;;\n    font-size: 13px;\n    color: #555;\n    margin-left: 4px;\n    line-height: 19px;\n  }\n</style>\n<div class=\"ansiout\">+---+---+---------------+------------------+\nsrc|dst|duracao_chamada|            weight|\n+---+---+---------------+------------------+\n  C|  J|             20|0.3333333333333333|\n  A|  B|             60|0.3333333333333333|\n  B|  F|             50|0.3333333333333333|\n  C|  I|             25|0.3333333333333333|\n  F|  H|             25|0.3333333333333333|\n  C|  A|            100|0.3333333333333333|\n  B|  A|             50|0.3333333333333333|\n  F|  G|             30|0.3333333333333333|\n  A|  D|             90|0.3333333333333333|\n  F|  B|            110|0.3333333333333333|\n  B|  E|             90|0.3333333333333333|\n  A|  C|             50|0.3333333333333333|\n+---+---+---------------+------------------+\n\n</div>"
            ]
          }
        }
      ],
      "execution_count": null
    }
  ],
  "metadata": {
    "name": "transporte",
    "notebookId": 492954852360119,
    "colab": {
      "name": "pagerank.ipynb",
      "provenance": [],
      "include_colab_link": true
    }
  },
  "nbformat": 4,
  "nbformat_minor": 0
}