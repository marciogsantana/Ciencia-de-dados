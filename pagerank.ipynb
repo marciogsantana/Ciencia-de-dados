{
  "nbformat": 4,
  "nbformat_minor": 0,
  "metadata": {
    "name": "transporte",
    "notebookId": 492954852360119,
    "colab": {
      "name": "pagerank.ipynb",
      "provenance": [],
      "include_colab_link": true
    }
  },
  "cells": [
    {
      "cell_type": "markdown",
      "metadata": {
        "id": "view-in-github",
        "colab_type": "text"
      },
      "source": [
        "<a href=\"https://colab.research.google.com/github/marciogsantana/Ciencia-de-dados/blob/main/pagerank.ipynb\" target=\"_parent\"><img src=\"https://colab.research.google.com/assets/colab-badge.svg\" alt=\"Open In Colab\"/></a>"
      ]
    },
    {
      "cell_type": "code",
      "metadata": {
        "id": "HZaitGZvbBsS",
        "outputId": "ca1b1b72-ad10-4044-f461-073cab939813"
      },
      "source": [
        "#programa utilizado para o exemplo de grafos para aplicação do PageRank"
      ],
      "execution_count": null,
      "outputs": [
        {
          "output_type": "display_data",
          "data": {
            "text/html": [
              "<style scoped>\n",
              "  .ansiout {\n",
              "    display: block;\n",
              "    unicode-bidi: embed;\n",
              "    white-space: pre-wrap;\n",
              "    word-wrap: break-word;\n",
              "    word-break: break-all;\n",
              "    font-family: \"Source Code Pro\", \"Menlo\", monospace;;\n",
              "    font-size: 13px;\n",
              "    color: #555;\n",
              "    margin-left: 4px;\n",
              "    line-height: 19px;\n",
              "  }\n",
              "</style>\n",
              "<div class=\"ansiout\"></div>"
            ]
          },
          "metadata": {
            "tags": []
          }
        }
      ]
    },
    {
      "cell_type": "code",
      "metadata": {
        "id": "aY0D-I9QbBsr",
        "outputId": "ce486752-7e27-4d8a-c3e9-0d6e185266dd"
      },
      "source": [
        "from pyspark.sql import SparkSession #importa a biblioteca que cria a seção do spark"
      ],
      "execution_count": null,
      "outputs": [
        {
          "output_type": "display_data",
          "data": {
            "text/html": [
              "<style scoped>\n",
              "  .ansiout {\n",
              "    display: block;\n",
              "    unicode-bidi: embed;\n",
              "    white-space: pre-wrap;\n",
              "    word-wrap: break-word;\n",
              "    word-break: break-all;\n",
              "    font-family: \"Source Code Pro\", \"Menlo\", monospace;;\n",
              "    font-size: 13px;\n",
              "    color: #555;\n",
              "    margin-left: 4px;\n",
              "    line-height: 19px;\n",
              "  }\n",
              "</style>\n",
              "<div class=\"ansiout\"></div>"
            ]
          },
          "metadata": {
            "tags": []
          }
        }
      ]
    },
    {
      "cell_type": "code",
      "metadata": {
        "id": "06c7mFZXbBst",
        "outputId": "e54468e1-5e27-4dda-c413-c92949a37e81"
      },
      "source": [
        "#inicia a seção para a utilização do spark\n",
        "spark = SparkSession.builder.appName(\"pageRankGrafos\").getOrCreate() #cria a seção caso não exista ou obtém a já criada"
      ],
      "execution_count": null,
      "outputs": [
        {
          "output_type": "display_data",
          "data": {
            "text/html": [
              "<style scoped>\n",
              "  .ansiout {\n",
              "    display: block;\n",
              "    unicode-bidi: embed;\n",
              "    white-space: pre-wrap;\n",
              "    word-wrap: break-word;\n",
              "    word-break: break-all;\n",
              "    font-family: \"Source Code Pro\", \"Menlo\", monospace;;\n",
              "    font-size: 13px;\n",
              "    color: #555;\n",
              "    margin-left: 4px;\n",
              "    line-height: 19px;\n",
              "  }\n",
              "</style>\n",
              "<div class=\"ansiout\"></div>"
            ]
          },
          "metadata": {
            "tags": []
          }
        }
      ]
    },
    {
      "cell_type": "markdown",
      "metadata": {
        "id": "qK9GKZyebBsu"
      },
      "source": [
        "Criando o nosso grafo"
      ]
    },
    {
      "cell_type": "code",
      "metadata": {
        "id": "qtZTaeMzbBsu",
        "outputId": "f2645558-d57e-4166-927c-30c92feddec6"
      },
      "source": [
        "#criando os nós para o nosso grafo\n",
        "nos = spark.createDataFrame([\n",
        "    (\"A\", \"ANA\"  ,350 ),\n",
        "    (\"B\", \"BERNARDO\"  ,360 ),\n",
        "    (\"C\", \"CLARA\" ,195 ),\n",
        "    (\"D\", \"DANIEL\",90),\n",
        "    (\"E\", \"ERIC\"  ,90),\n",
        "    (\"F\", \"FERNANDA\" ,215 ),\n",
        "    (\"G\", \"GUSTAVO\",30 ),\n",
        "    (\"H\", \"HENRIQUE\" ,25 ),\n",
        "    (\"I\", \"IOLANDA\"  ,25 ),\n",
        "    (\"J\", \"JENNIFER\"   ,20 )\n",
        "], [\"id\", \"nome\", \"total_segundos\"])"
      ],
      "execution_count": null,
      "outputs": [
        {
          "output_type": "display_data",
          "data": {
            "text/html": [
              "<style scoped>\n",
              "  .ansiout {\n",
              "    display: block;\n",
              "    unicode-bidi: embed;\n",
              "    white-space: pre-wrap;\n",
              "    word-wrap: break-word;\n",
              "    word-break: break-all;\n",
              "    font-family: \"Source Code Pro\", \"Menlo\", monospace;;\n",
              "    font-size: 13px;\n",
              "    color: #555;\n",
              "    margin-left: 4px;\n",
              "    line-height: 19px;\n",
              "  }\n",
              "</style>\n",
              "<div class=\"ansiout\"></div>"
            ]
          },
          "metadata": {
            "tags": []
          }
        }
      ]
    },
    {
      "cell_type": "code",
      "metadata": {
        "id": "Y_YuoYrdbBsv",
        "outputId": "44238c7f-840b-4646-ac8d-1434f50db239"
      },
      "source": [
        "nos.show()"
      ],
      "execution_count": null,
      "outputs": [
        {
          "output_type": "display_data",
          "data": {
            "text/html": [
              "<style scoped>\n",
              "  .ansiout {\n",
              "    display: block;\n",
              "    unicode-bidi: embed;\n",
              "    white-space: pre-wrap;\n",
              "    word-wrap: break-word;\n",
              "    word-break: break-all;\n",
              "    font-family: \"Source Code Pro\", \"Menlo\", monospace;;\n",
              "    font-size: 13px;\n",
              "    color: #555;\n",
              "    margin-left: 4px;\n",
              "    line-height: 19px;\n",
              "  }\n",
              "</style>\n",
              "<div class=\"ansiout\">+---+--------+--------------+\n",
              " id|    nome|total_segundos|\n",
              "+---+--------+--------------+\n",
              "  A|     ANA|           350|\n",
              "  B|BERNARDO|           360|\n",
              "  C|   CLARA|           195|\n",
              "  D|  DANIEL|            90|\n",
              "  E|    ERIC|            90|\n",
              "  F|FERNANDA|           215|\n",
              "  G| GUSTAVO|            30|\n",
              "  H|HENRIQUE|            25|\n",
              "  I| IOLANDA|            25|\n",
              "  J|JENNIFER|            20|\n",
              "+---+--------+--------------+\n",
              "\n",
              "</div>"
            ]
          },
          "metadata": {
            "tags": []
          }
        }
      ]
    },
    {
      "cell_type": "code",
      "metadata": {
        "id": "kq_ODj04bBsy",
        "outputId": "82b554fb-43c0-4e63-b880-c76b1a0f8b46"
      },
      "source": [
        "relacionamentos=spark.createDataFrame([\n",
        "    (\"A\", \"B\", 60),\n",
        "    (\"B\", \"A\", 50),\n",
        "    (\"A\", \"C\", 50),\n",
        "    (\"C\", \"A\", 100),\n",
        "    (\"A\", \"D\", 90),\n",
        "    (\"C\", \"I\", 25),\n",
        "    (\"C\", \"J\", 20),\n",
        "    (\"B\", \"F\", 50),\n",
        "    (\"F\", \"B\", 110),\n",
        "    (\"F\", \"G\", 30),\n",
        "    (\"F\", \"H\", 25),\n",
        "    (\"B\", \"E\", 90)\n",
        "],[\"src\",\"dst\",\"duracao_chamada\"])"
      ],
      "execution_count": null,
      "outputs": [
        {
          "output_type": "display_data",
          "data": {
            "text/html": [
              "<style scoped>\n",
              "  .ansiout {\n",
              "    display: block;\n",
              "    unicode-bidi: embed;\n",
              "    white-space: pre-wrap;\n",
              "    word-wrap: break-word;\n",
              "    word-break: break-all;\n",
              "    font-family: \"Source Code Pro\", \"Menlo\", monospace;;\n",
              "    font-size: 13px;\n",
              "    color: #555;\n",
              "    margin-left: 4px;\n",
              "    line-height: 19px;\n",
              "  }\n",
              "</style>\n",
              "<div class=\"ansiout\"></div>"
            ]
          },
          "metadata": {
            "tags": []
          }
        }
      ]
    },
    {
      "cell_type": "code",
      "metadata": {
        "id": "RYBt9QpXbBsz",
        "outputId": "fabd5ef3-f1be-4d64-9edf-5a3fb0bb3f6d"
      },
      "source": [
        "relacionamentos.show() # a fonte (src) indica quem ligou e (dst) indica quem recebeu a ligação"
      ],
      "execution_count": null,
      "outputs": [
        {
          "output_type": "display_data",
          "data": {
            "text/html": [
              "<style scoped>\n",
              "  .ansiout {\n",
              "    display: block;\n",
              "    unicode-bidi: embed;\n",
              "    white-space: pre-wrap;\n",
              "    word-wrap: break-word;\n",
              "    word-break: break-all;\n",
              "    font-family: \"Source Code Pro\", \"Menlo\", monospace;;\n",
              "    font-size: 13px;\n",
              "    color: #555;\n",
              "    margin-left: 4px;\n",
              "    line-height: 19px;\n",
              "  }\n",
              "</style>\n",
              "<div class=\"ansiout\">+---+---+---------------+\n",
              "src|dst|duracao_chamada|\n",
              "+---+---+---------------+\n",
              "  A|  B|             60|\n",
              "  B|  A|             50|\n",
              "  A|  C|             50|\n",
              "  C|  A|            100|\n",
              "  A|  D|             90|\n",
              "  C|  I|             25|\n",
              "  C|  J|             20|\n",
              "  B|  F|             50|\n",
              "  F|  B|            110|\n",
              "  F|  G|             30|\n",
              "  F|  H|             25|\n",
              "  B|  E|             90|\n",
              "+---+---+---------------+\n",
              "\n",
              "</div>"
            ]
          },
          "metadata": {
            "tags": []
          }
        }
      ]
    },
    {
      "cell_type": "markdown",
      "metadata": {
        "id": "hSVUdpPzbBs2"
      },
      "source": [
        "Definindo e criando o grafo"
      ]
    },
    {
      "cell_type": "code",
      "metadata": {
        "id": "ohpnc9O-bBs6",
        "outputId": "17263f0e-2a1f-49c2-e53e-2855f68f1cb9"
      },
      "source": [
        "#importando as funções para utilizar os grafos\n",
        "from pyspark.sql.types import *\n",
        "from graphframes import *  #contém os métodos para serem utilizados no processamento através dos grafos\n",
        "#obs: a biblioteca graphframes deve ser adicionada ao databricks, pois não é nativa. Para isso acesse New->\"Library\"-> \"Source\"-> \"Maven Coordinate\"-> pesquise por \"graphframes\" e adicione a biblioteca para cada cluster"
      ],
      "execution_count": null,
      "outputs": [
        {
          "output_type": "display_data",
          "data": {
            "text/html": [
              "<style scoped>\n",
              "  .ansiout {\n",
              "    display: block;\n",
              "    unicode-bidi: embed;\n",
              "    white-space: pre-wrap;\n",
              "    word-wrap: break-word;\n",
              "    word-break: break-all;\n",
              "    font-family: \"Source Code Pro\", \"Menlo\", monospace;;\n",
              "    font-size: 13px;\n",
              "    color: #555;\n",
              "    margin-left: 4px;\n",
              "    line-height: 19px;\n",
              "  }\n",
              "</style>\n",
              "<div class=\"ansiout\"></div>"
            ]
          },
          "metadata": {
            "tags": []
          }
        }
      ]
    },
    {
      "cell_type": "code",
      "metadata": {
        "id": "8S_uqUQUbBs_",
        "outputId": "ede83f7f-075e-4aa1-dc73-dba87c74d9d4"
      },
      "source": [
        "#controi o grafo a partir dos dataframes\n",
        "grafo = GraphFrame(nos,relacionamentos)\n"
      ],
      "execution_count": null,
      "outputs": [
        {
          "output_type": "display_data",
          "data": {
            "text/html": [
              "<style scoped>\n",
              "  .ansiout {\n",
              "    display: block;\n",
              "    unicode-bidi: embed;\n",
              "    white-space: pre-wrap;\n",
              "    word-wrap: break-word;\n",
              "    word-break: break-all;\n",
              "    font-family: \"Source Code Pro\", \"Menlo\", monospace;;\n",
              "    font-size: 13px;\n",
              "    color: #555;\n",
              "    margin-left: 4px;\n",
              "    line-height: 19px;\n",
              "  }\n",
              "</style>\n",
              "<div class=\"ansiout\"></div>"
            ]
          },
          "metadata": {
            "tags": []
          }
        }
      ]
    },
    {
      "cell_type": "markdown",
      "metadata": {
        "id": "nExVcKQ1bBs_"
      },
      "source": [
        "Explorando o nosso grafo"
      ]
    },
    {
      "cell_type": "code",
      "metadata": {
        "id": "HaTfyJcrbBtA",
        "outputId": "8c332408-cd32-4966-ff63-b23d55968054"
      },
      "source": [
        "#encontrando chamadas com duração total maior do que 150 min\n",
        "from pyspark.sql.functions import col\n",
        "\n",
        "grafo.vertices\\\n",
        ".filter(\"total_segundos > 150\")\\\n",
        ".sort(col(\"total_segundos\").desc())\\\n",
        ".show()"
      ],
      "execution_count": null,
      "outputs": [
        {
          "output_type": "display_data",
          "data": {
            "text/html": [
              "<style scoped>\n",
              "  .ansiout {\n",
              "    display: block;\n",
              "    unicode-bidi: embed;\n",
              "    white-space: pre-wrap;\n",
              "    word-wrap: break-word;\n",
              "    word-break: break-all;\n",
              "    font-family: \"Source Code Pro\", \"Menlo\", monospace;;\n",
              "    font-size: 13px;\n",
              "    color: #555;\n",
              "    margin-left: 4px;\n",
              "    line-height: 19px;\n",
              "  }\n",
              "</style>\n",
              "<div class=\"ansiout\">+---+--------+--------------+\n",
              " id|    nome|total_segundos|\n",
              "+---+--------+--------------+\n",
              "  B|BERNARDO|           360|\n",
              "  A|     ANA|           350|\n",
              "  F|FERNANDA|           215|\n",
              "  C|   CLARA|           195|\n",
              "+---+--------+--------------+\n",
              "\n",
              "</div>"
            ]
          },
          "metadata": {
            "tags": []
          }
        }
      ]
    },
    {
      "cell_type": "code",
      "metadata": {
        "id": "VKgQg6yybBtA",
        "outputId": "a7abd2b2-2c0c-4506-d69d-d12de2cebf73"
      },
      "source": [
        "#encontrando as estatísticas para o total de segundos existentes no grafo (para cada um dos nós) \n",
        "grafo.vertices\\\n",
        ".describe(['total_segundos'])\\\n",
        ".show()"
      ],
      "execution_count": null,
      "outputs": [
        {
          "output_type": "display_data",
          "data": {
            "text/html": [
              "<style scoped>\n",
              "  .ansiout {\n",
              "    display: block;\n",
              "    unicode-bidi: embed;\n",
              "    white-space: pre-wrap;\n",
              "    word-wrap: break-word;\n",
              "    word-break: break-all;\n",
              "    font-family: \"Source Code Pro\", \"Menlo\", monospace;;\n",
              "    font-size: 13px;\n",
              "    color: #555;\n",
              "    margin-left: 4px;\n",
              "    line-height: 19px;\n",
              "  }\n",
              "</style>\n",
              "<div class=\"ansiout\">+-------+-----------------+\n",
              "summary|   total_segundos|\n",
              "+-------+-----------------+\n",
              "  count|               10|\n",
              "   mean|            140.0|\n",
              " stddev|132.9578045011942|\n",
              "    min|               20|\n",
              "    max|              360|\n",
              "+-------+-----------------+\n",
              "\n",
              "</div>"
            ]
          },
          "metadata": {
            "tags": []
          }
        }
      ]
    },
    {
      "cell_type": "code",
      "metadata": {
        "id": "k27o8iEfbBtB",
        "outputId": "a9202c73-e2a8-4f4d-9893-fa9c576cc90a"
      },
      "source": [
        "#encontrando as estatísticas para cada uma das ligações (relacionamentos)\n",
        "grafo.edges\\\n",
        ".describe(['duracao_chamada'])\\\n",
        ".show()"
      ],
      "execution_count": null,
      "outputs": [
        {
          "output_type": "display_data",
          "data": {
            "text/html": [
              "<style scoped>\n",
              "  .ansiout {\n",
              "    display: block;\n",
              "    unicode-bidi: embed;\n",
              "    white-space: pre-wrap;\n",
              "    word-wrap: break-word;\n",
              "    word-break: break-all;\n",
              "    font-family: \"Source Code Pro\", \"Menlo\", monospace;;\n",
              "    font-size: 13px;\n",
              "    color: #555;\n",
              "    margin-left: 4px;\n",
              "    line-height: 19px;\n",
              "  }\n",
              "</style>\n",
              "<div class=\"ansiout\">+-------+------------------+\n",
              "summary|   duracao_chamada|\n",
              "+-------+------------------+\n",
              "  count|                12|\n",
              "   mean|58.333333333333336|\n",
              " stddev| 31.79003083682148|\n",
              "    min|                20|\n",
              "    max|               110|\n",
              "+-------+------------------+\n",
              "\n",
              "</div>"
            ]
          },
          "metadata": {
            "tags": []
          }
        }
      ]
    },
    {
      "cell_type": "code",
      "metadata": {
        "id": "X8owuBVXbBtC",
        "outputId": "816790c8-5871-4836-862b-077864bd7fe2"
      },
      "source": [
        "#mostrando a quantidade de caminhos diretos (chegando) ->  ligações recebidas\n",
        "display(grafo.inDegrees)"
      ],
      "execution_count": null,
      "outputs": [
        {
          "output_type": "display_data",
          "data": {
            "text/html": [
              "<style scoped>\n",
              "  .table-result-container {\n",
              "    max-height: 300px;\n",
              "    overflow: auto;\n",
              "  }\n",
              "  table, th, td {\n",
              "    border: 1px solid black;\n",
              "    border-collapse: collapse;\n",
              "  }\n",
              "  th, td {\n",
              "    padding: 5px;\n",
              "  }\n",
              "  th {\n",
              "    text-align: left;\n",
              "  }\n",
              "</style><div class='table-result-container'><table class='table-result'><thead style='background-color: white'><tr><th>id</th><th>inDegree</th></tr></thead><tbody><tr><td>F</td><td>1</td></tr><tr><td>E</td><td>1</td></tr><tr><td>B</td><td>2</td></tr><tr><td>D</td><td>1</td></tr><tr><td>C</td><td>1</td></tr><tr><td>J</td><td>1</td></tr><tr><td>A</td><td>2</td></tr><tr><td>G</td><td>1</td></tr><tr><td>I</td><td>1</td></tr><tr><td>H</td><td>1</td></tr></tbody></table></div>"
            ]
          },
          "metadata": {
            "tags": []
          }
        }
      ]
    },
    {
      "cell_type": "code",
      "metadata": {
        "id": "fHNHK_zzbBtC",
        "outputId": "3bd0317c-f6ef-4bc8-ef6f-3fd43f7b1e9a"
      },
      "source": [
        "#mostrando a quantidade de caminhos inversos (saindo) -> ligações efetuadas\n",
        "display(grafo.outDegrees)"
      ],
      "execution_count": null,
      "outputs": [
        {
          "output_type": "display_data",
          "data": {
            "text/html": [
              "<style scoped>\n",
              "  .table-result-container {\n",
              "    max-height: 300px;\n",
              "    overflow: auto;\n",
              "  }\n",
              "  table, th, td {\n",
              "    border: 1px solid black;\n",
              "    border-collapse: collapse;\n",
              "  }\n",
              "  th, td {\n",
              "    padding: 5px;\n",
              "  }\n",
              "  th {\n",
              "    text-align: left;\n",
              "  }\n",
              "</style><div class='table-result-container'><table class='table-result'><thead style='background-color: white'><tr><th>id</th><th>outDegree</th></tr></thead><tbody><tr><td>F</td><td>3</td></tr><tr><td>B</td><td>3</td></tr><tr><td>C</td><td>3</td></tr><tr><td>A</td><td>3</td></tr></tbody></table></div>"
            ]
          },
          "metadata": {
            "tags": []
          }
        }
      ]
    },
    {
      "cell_type": "code",
      "metadata": {
        "id": "BtlcmZmgbBtD",
        "outputId": "2701c9b5-ac27-402f-da8e-6dc645c83643"
      },
      "source": [
        "#qual é o nó mais \"importante\" (tem mais caminhos que levam até ele) -> quem mais recebeu ligações\n",
        "total_degree = grafo.degrees\n",
        "in_degree = grafo.inDegrees\n",
        "out_degree = grafo.outDegrees\n"
      ],
      "execution_count": null,
      "outputs": [
        {
          "output_type": "display_data",
          "data": {
            "text/html": [
              "<style scoped>\n",
              "  .ansiout {\n",
              "    display: block;\n",
              "    unicode-bidi: embed;\n",
              "    white-space: pre-wrap;\n",
              "    word-wrap: break-word;\n",
              "    word-break: break-all;\n",
              "    font-family: \"Source Code Pro\", \"Menlo\", monospace;;\n",
              "    font-size: 13px;\n",
              "    color: #555;\n",
              "    margin-left: 4px;\n",
              "    line-height: 19px;\n",
              "  }\n",
              "</style>\n",
              "<div class=\"ansiout\"></div>"
            ]
          },
          "metadata": {
            "tags": []
          }
        }
      ]
    },
    {
      "cell_type": "code",
      "metadata": {
        "id": "vqymxMPkbBtE",
        "outputId": "bc7575eb-a90e-4c06-cb92-394215ed3aa1"
      },
      "source": [
        "total_degree.show()"
      ],
      "execution_count": null,
      "outputs": [
        {
          "output_type": "display_data",
          "data": {
            "text/html": [
              "<style scoped>\n",
              "  .ansiout {\n",
              "    display: block;\n",
              "    unicode-bidi: embed;\n",
              "    white-space: pre-wrap;\n",
              "    word-wrap: break-word;\n",
              "    word-break: break-all;\n",
              "    font-family: \"Source Code Pro\", \"Menlo\", monospace;;\n",
              "    font-size: 13px;\n",
              "    color: #555;\n",
              "    margin-left: 4px;\n",
              "    line-height: 19px;\n",
              "  }\n",
              "</style>\n",
              "<div class=\"ansiout\">+---+------+\n",
              " id|degree|\n",
              "+---+------+\n",
              "  F|     4|\n",
              "  E|     1|\n",
              "  B|     5|\n",
              "  D|     1|\n",
              "  C|     4|\n",
              "  J|     1|\n",
              "  A|     5|\n",
              "  G|     1|\n",
              "  I|     1|\n",
              "  H|     1|\n",
              "+---+------+\n",
              "\n",
              "</div>"
            ]
          },
          "metadata": {
            "tags": []
          }
        }
      ]
    },
    {
      "cell_type": "code",
      "metadata": {
        "id": "9ygHn5B1bBtF",
        "outputId": "46d18029-7abc-419d-c5f9-3776ec734262"
      },
      "source": [
        "#realizando a união dos dois dataframes (in e out degree)\n",
        "#podem existir nós que não ligaram ou receberam ligação, assim é necessário preencher o Nan\n",
        "#fica mais interessante mostrar em ordem decrescente os dados\n",
        "total_degree.join(in_degree, \"id\", how=\"left\")\\\n",
        ".join(out_degree, \"id\", how=\"left\")\\\n",
        ".fillna(0)\\\n",
        ".sort(\"inDegree\", ascending=False)\\\n",
        ".show()"
      ],
      "execution_count": null,
      "outputs": [
        {
          "output_type": "display_data",
          "data": {
            "text/html": [
              "<style scoped>\n",
              "  .ansiout {\n",
              "    display: block;\n",
              "    unicode-bidi: embed;\n",
              "    white-space: pre-wrap;\n",
              "    word-wrap: break-word;\n",
              "    word-break: break-all;\n",
              "    font-family: \"Source Code Pro\", \"Menlo\", monospace;;\n",
              "    font-size: 13px;\n",
              "    color: #555;\n",
              "    margin-left: 4px;\n",
              "    line-height: 19px;\n",
              "  }\n",
              "</style>\n",
              "<div class=\"ansiout\">+---+------+--------+---------+\n",
              " id|degree|inDegree|outDegree|\n",
              "+---+------+--------+---------+\n",
              "  B|     5|       2|        3|\n",
              "  A|     5|       2|        3|\n",
              "  F|     4|       1|        3|\n",
              "  E|     1|       1|        0|\n",
              "  J|     1|       1|        0|\n",
              "  D|     1|       1|        0|\n",
              "  C|     4|       1|        3|\n",
              "  G|     1|       1|        0|\n",
              "  I|     1|       1|        0|\n",
              "  H|     1|       1|        0|\n",
              "+---+------+--------+---------+\n",
              "\n",
              "</div>"
            ]
          },
          "metadata": {
            "tags": []
          }
        }
      ]
    },
    {
      "cell_type": "markdown",
      "metadata": {
        "id": "-KM8cQ8ybBtJ"
      },
      "source": [
        "Aplicando o algoritmo PageRank"
      ]
    },
    {
      "cell_type": "code",
      "metadata": {
        "id": "lgGolr2zbBtK",
        "outputId": "1b2962c4-fb9b-4ee7-84c1-8c2dfc76a07e"
      },
      "source": [
        "pageRank = grafo.pageRank(resetProbability=0.15, tol=0.001) # resetProbability= probabilidade de sair de uma página e visitar outra sem link direto (garante que todas possam ser visitadas)-> entre 0 e 1\n",
        "#tol=tolerância->indica o critério de parada(se não melhorou o anterior em tol-valor)"
      ],
      "execution_count": null,
      "outputs": [
        {
          "output_type": "display_data",
          "data": {
            "text/html": [
              "<style scoped>\n",
              "  .ansiout {\n",
              "    display: block;\n",
              "    unicode-bidi: embed;\n",
              "    white-space: pre-wrap;\n",
              "    word-wrap: break-word;\n",
              "    word-break: break-all;\n",
              "    font-family: \"Source Code Pro\", \"Menlo\", monospace;;\n",
              "    font-size: 13px;\n",
              "    color: #555;\n",
              "    margin-left: 4px;\n",
              "    line-height: 19px;\n",
              "  }\n",
              "</style>\n",
              "<div class=\"ansiout\"></div>"
            ]
          },
          "metadata": {
            "tags": []
          }
        }
      ]
    },
    {
      "cell_type": "code",
      "metadata": {
        "id": "t3hMFHuKbBtK",
        "outputId": "29bc3221-e391-4026-b66c-330f1efbe6fc"
      },
      "source": [
        "#page rank gera ou outro grafo \n",
        "#indicando quais são os nós mais \"importantes\" em nosso grafo \n",
        "pageRank.vertices.sort(['pagerank'],ascending=False).show()"
      ],
      "execution_count": null,
      "outputs": [
        {
          "output_type": "display_data",
          "data": {
            "text/html": [
              "<style scoped>\n",
              "  .ansiout {\n",
              "    display: block;\n",
              "    unicode-bidi: embed;\n",
              "    white-space: pre-wrap;\n",
              "    word-wrap: break-word;\n",
              "    word-break: break-all;\n",
              "    font-family: \"Source Code Pro\", \"Menlo\", monospace;;\n",
              "    font-size: 13px;\n",
              "    color: #555;\n",
              "    margin-left: 4px;\n",
              "    line-height: 19px;\n",
              "  }\n",
              "</style>\n",
              "<div class=\"ansiout\">+---+--------+--------------+------------------+\n",
              " id|    nome|total_segundos|          pagerank|\n",
              "+---+--------+--------------+------------------+\n",
              "  B|BERNARDO|           360|1.2519236648772267|\n",
              "  A|     ANA|           350|1.2519236648772267|\n",
              "  F|FERNANDA|           215|0.9759477302972548|\n",
              "  D|  DANIEL|            90|0.9759477302972548|\n",
              "  C|   CLARA|           195|0.9759477302972548|\n",
              "  E|    ERIC|            90|0.9759477302972548|\n",
              "  H|HENRIQUE|            25|0.8980904372641323|\n",
              "  G| GUSTAVO|            30|0.8980904372641323|\n",
              "  I| IOLANDA|            25|0.8980904372641323|\n",
              "  J|JENNIFER|            20|0.8980904372641323|\n",
              "+---+--------+--------------+------------------+\n",
              "\n",
              "</div>"
            ]
          },
          "metadata": {
            "tags": []
          }
        }
      ]
    },
    {
      "cell_type": "code",
      "metadata": {
        "id": "GWMN_DQbbBtL",
        "outputId": "41d9f24e-bc68-49a9-999b-b7527512fde6"
      },
      "source": [
        "#identificando os pesos existentes entre cada conexão\n",
        "pageRank.edges.show() #page rank não leva em consideração os pesos, apenas os tipos de relacionamentos. Assim, realiza a normalização dos pesos encontrados."
      ],
      "execution_count": null,
      "outputs": [
        {
          "output_type": "display_data",
          "data": {
            "text/html": [
              "<style scoped>\n",
              "  .ansiout {\n",
              "    display: block;\n",
              "    unicode-bidi: embed;\n",
              "    white-space: pre-wrap;\n",
              "    word-wrap: break-word;\n",
              "    word-break: break-all;\n",
              "    font-family: \"Source Code Pro\", \"Menlo\", monospace;;\n",
              "    font-size: 13px;\n",
              "    color: #555;\n",
              "    margin-left: 4px;\n",
              "    line-height: 19px;\n",
              "  }\n",
              "</style>\n",
              "<div class=\"ansiout\">+---+---+---------------+------------------+\n",
              "src|dst|duracao_chamada|            weight|\n",
              "+---+---+---------------+------------------+\n",
              "  C|  J|             20|0.3333333333333333|\n",
              "  A|  B|             60|0.3333333333333333|\n",
              "  B|  F|             50|0.3333333333333333|\n",
              "  C|  I|             25|0.3333333333333333|\n",
              "  F|  H|             25|0.3333333333333333|\n",
              "  C|  A|            100|0.3333333333333333|\n",
              "  B|  A|             50|0.3333333333333333|\n",
              "  F|  G|             30|0.3333333333333333|\n",
              "  A|  D|             90|0.3333333333333333|\n",
              "  F|  B|            110|0.3333333333333333|\n",
              "  B|  E|             90|0.3333333333333333|\n",
              "  A|  C|             50|0.3333333333333333|\n",
              "+---+---+---------------+------------------+\n",
              "\n",
              "</div>"
            ]
          },
          "metadata": {
            "tags": []
          }
        }
      ]
    }
  ]
}