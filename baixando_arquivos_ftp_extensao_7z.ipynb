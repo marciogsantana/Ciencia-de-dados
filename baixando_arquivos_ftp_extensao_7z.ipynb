{
  "nbformat": 4,
  "nbformat_minor": 0,
  "metadata": {
    "colab": {
      "name": "baixando_arquivos_ftp_extensao_7z.ipynb",
      "provenance": [],
      "authorship_tag": "ABX9TyNWtQpm+sPB3XdD3IprRvgO",
      "include_colab_link": true
    },
    "kernelspec": {
      "name": "python3",
      "display_name": "Python 3"
    },
    "language_info": {
      "name": "python"
    }
  },
  "cells": [
    {
      "cell_type": "markdown",
      "metadata": {
        "id": "view-in-github",
        "colab_type": "text"
      },
      "source": [
        "<a href=\"https://colab.research.google.com/github/marciogsantana/Ciencia-de-dados/blob/main/baixando_arquivos_ftp_extensao_7z.ipynb\" target=\"_parent\"><img src=\"https://colab.research.google.com/assets/colab-badge.svg\" alt=\"Open In Colab\"/></a>"
      ]
    },
    {
      "cell_type": "code",
      "metadata": {
        "id": "pCPNSkY6hleW"
      },
      "source": [
        "import filebytes\n",
        "import wget\n",
        "import zipfile\n",
        "from zipfile import ZipFile\n",
        "from pyunpack import Archive\n",
        "from py7zr import unpack_7zarchive\n",
        "import shutil\n",
        "import pandas as pd\n",
        "import os\n",
        "\n",
        "\n",
        "#def get_raw_data():\n",
        "    #url = \"ftp://ftp.mtps.gov.br/pdet/microdados/RAIS/2010/RR2010.7z\"\n",
        "    #filename = wget.download(url)\n",
        "\n",
        "    # Extrair o conteudo do zipfile\n",
        "    #myzip = zipfile.ZipFile(filebytes)\n",
        "    #myzip.extractall()\n",
        "    #path = './projetos/prefect'\n",
        "    #return path\n",
        "\n",
        "#endereco = \"ftp://ftp.mtps.gov.br/pdet/microdados/RAIS/2010/\"\n",
        "#lista = [\"RR2010.7z\",\"RO2010.7z\"]\n",
        "\n",
        "\n",
        "#url = endereco + lista[0]\n",
        "#wget.download(url, out='./teste.7z')\n",
        "#Extrair o conteudo do zipfile\n",
        "#myzip = ('filename', 'r')\n",
        "#myzip.extractall(filename)\n",
        "#myzip.close()\n",
        "# path = './projetos/prefect'\n",
        "#Archive(filename).extractall('./')\n",
        "#shutil.register_unpack_format('7zip', ['.7z'], unpack_7zarchive)\n",
        "#shutil.unpack_archive('teste.7z', './')\n",
        "\n",
        "\n",
        "#---------------------------------------------\n",
        "\n",
        "endereco = \"ftp://ftp.mtps.gov.br/pdet/microdados/RAIS/2010/\"\n",
        "lista = [\"RR2010.7z\",\"RO2010.7z\"]\n",
        "lista1 = [\"RR2010\",\"RO2010\"]\n",
        "extensao = \".txt\"\n",
        "contador = 0\n",
        "shutil.register_unpack_format('7zip', ['.7z'], unpack_7zarchive)\n",
        "\n",
        "\n",
        "for i in range(len(lista)):\n",
        "    nome_url = lista[i]\n",
        "    #print(nome_url)\n",
        "    url = endereco + nome_url\n",
        "    wget.download(url, out='./teste.7z')\n",
        "    shutil.unpack_archive('teste.7z', './')\n",
        "    nome = lista1[i] + extensao\n",
        "    nome1 = lista1[i]\n",
        "    colunas = ['Sexo Trabalhador', 'Vl Remun Média Nom', 'Escolaridade após 2005', 'CNAE 95 Classe',\n",
        "               'CBO Ocupação 2002', 'Qtd Hora Contr', 'Tipo Vínculo']\n",
        "    frame = pd.read_csv(nome, sep=\";\", decimal=\".\", encoding='latin1', usecols=colunas)\n",
        "    frame['Vl Remun Média Nom'] = frame['Vl Remun Média Nom'].apply(\n",
        "        lambda x: str(x).replace(\",\", \".\"))  # alterando de virgula para ponto\n",
        "    frame['Vl Remun Média Nom'] = frame['Vl Remun Média Nom'].astype('float64')  # alterando o tipo object para float\n",
        "    frame = frame.assign(municipio = \"nome1\")\n",
        "    frame['municipio'] = frame['municipio'].astype('string')  # alterando o tipo object para float\n",
        "    if (contador > 0):\n",
        "        frame_total = pd.concat([frame_total, frame])\n",
        "        contador = contador + 1\n",
        "        os.remove('teste.7z')\n",
        "    else:\n",
        "        frame_total = frame\n",
        "        contador = contador + 1\n",
        "        os.remove('teste.7z')\n",
        "\n",
        "frame_total.to_csv(\"teste.csv\")\n"
      ],
      "execution_count": null,
      "outputs": []
    }
  ]
}