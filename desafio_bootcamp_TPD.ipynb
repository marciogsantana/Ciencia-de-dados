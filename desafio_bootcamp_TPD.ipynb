{
  "nbformat": 4,
  "nbformat_minor": 0,
  "metadata": {
    "name": "desafio_bootcamp_tpd",
    "notebookId": 3192514136504053,
    "colab": {
      "name": "desafio_bootcamp_TPD.ipynb",
      "provenance": [],
      "include_colab_link": true
    }
  },
  "cells": [
    {
      "cell_type": "markdown",
      "metadata": {
        "id": "view-in-github",
        "colab_type": "text"
      },
      "source": [
        "<a href=\"https://colab.research.google.com/github/marciogsantana/Ciencia-de-dados/blob/main/desafio_bootcamp_TPD.ipynb\" target=\"_parent\"><img src=\"https://colab.research.google.com/assets/colab-badge.svg\" alt=\"Open In Colab\"/></a>"
      ]
    },
    {
      "cell_type": "code",
      "metadata": {
        "id": "0KQQvjtTb9wj"
      },
      "source": [
        "#código para o desafio do bootcamp de TPD"
      ],
      "execution_count": null,
      "outputs": []
    },
    {
      "cell_type": "markdown",
      "metadata": {
        "id": "hOkSLfrlb9wu"
      },
      "source": [
        "1) Primeiro passo - Seção Spark"
      ]
    },
    {
      "cell_type": "code",
      "metadata": {
        "id": "aXSa2VVVb9wv",
        "outputId": "c68ff11c-2632-40f1-a517-14f401d5a30e"
      },
      "source": [
        "from pyspark.sql import SparkSession #importa a biblioteca que cria a seção do spark"
      ],
      "execution_count": null,
      "outputs": [
        {
          "output_type": "display_data",
          "data": {
            "text/html": [
              "<style scoped>\n",
              "  .ansiout {\n",
              "    display: block;\n",
              "    unicode-bidi: embed;\n",
              "    white-space: pre-wrap;\n",
              "    word-wrap: break-word;\n",
              "    word-break: break-all;\n",
              "    font-family: \"Source Code Pro\", \"Menlo\", monospace;;\n",
              "    font-size: 13px;\n",
              "    color: #555;\n",
              "    margin-left: 4px;\n",
              "    line-height: 19px;\n",
              "  }\n",
              "</style>\n",
              "<div class=\"ansiout\"></div>"
            ]
          },
          "metadata": {
            "tags": []
          }
        }
      ]
    },
    {
      "cell_type": "code",
      "metadata": {
        "id": "JbQOElTyb9wx",
        "outputId": "13e7bbcb-160c-4b73-9576-0559243322ca"
      },
      "source": [
        "#inicia a seção para a utilização do spark\n",
        "spark = SparkSession.builder.appName(\"desafio_tpd\").getOrCreate() #cria a seção caso não exista ou obtém a já criada"
      ],
      "execution_count": null,
      "outputs": [
        {
          "output_type": "display_data",
          "data": {
            "text/html": [
              "<style scoped>\n",
              "  .ansiout {\n",
              "    display: block;\n",
              "    unicode-bidi: embed;\n",
              "    white-space: pre-wrap;\n",
              "    word-wrap: break-word;\n",
              "    word-break: break-all;\n",
              "    font-family: \"Source Code Pro\", \"Menlo\", monospace;;\n",
              "    font-size: 13px;\n",
              "    color: #555;\n",
              "    margin-left: 4px;\n",
              "    line-height: 19px;\n",
              "  }\n",
              "</style>\n",
              "<div class=\"ansiout\"></div>"
            ]
          },
          "metadata": {
            "tags": []
          }
        }
      ]
    },
    {
      "cell_type": "code",
      "metadata": {
        "id": "iYPQZdmNb9wy",
        "outputId": "4a0216e7-9d0f-407d-f1dd-f416a180ec01"
      },
      "source": [
        "%fs ls /FileStore/tables    "
      ],
      "execution_count": null,
      "outputs": [
        {
          "output_type": "display_data",
          "data": {
            "text/html": [
              "<style scoped>\n",
              "  .table-result-container {\n",
              "    max-height: 300px;\n",
              "    overflow: auto;\n",
              "  }\n",
              "  table, th, td {\n",
              "    border: 1px solid black;\n",
              "    border-collapse: collapse;\n",
              "  }\n",
              "  th, td {\n",
              "    padding: 5px;\n",
              "  }\n",
              "  th {\n",
              "    text-align: left;\n",
              "  }\n",
              "</style><div class='table-result-container'><table class='table-result'><thead style='background-color: white'><tr><th>path</th><th>name</th><th>size</th></tr></thead><tbody><tr><td>dbfs:/FileStore/tables/Mall_Customers.csv</td><td>Mall_Customers.csv</td><td>4286</td></tr><tr><td>dbfs:/FileStore/tables/Police_Department_Incident_Reports__Historical_2003_to_May_2018.csv</td><td>Police_Department_Incident_Reports__Historical_2003_to_May_2018.csv</td><td>463094961</td></tr><tr><td>dbfs:/FileStore/tables/Webinar_MLE_04_06.pptx</td><td>Webinar_MLE_04_06.pptx</td><td>5268055</td></tr><tr><td>dbfs:/FileStore/tables/adult_data.csv</td><td>adult_data.csv</td><td>5608318</td></tr><tr><td>dbfs:/FileStore/tables/d1995_07_01-24d0c.json</td><td>d1995_07_01-24d0c.json</td><td>7451741</td></tr><tr><td>dbfs:/FileStore/tables/d1995_07_02-c3f44.json</td><td>d1995_07_02-c3f44.json</td><td>9572086</td></tr><tr><td>dbfs:/FileStore/tables/d1995_07_03-f99af.json</td><td>d1995_07_03-f99af.json</td><td>14125303</td></tr><tr><td>dbfs:/FileStore/tables/d1995_07_04-c5a7f.json</td><td>d1995_07_04-c5a7f.json</td><td>12030333</td></tr><tr><td>dbfs:/FileStore/tables/d1995_07_05-0f261.json</td><td>d1995_07_05-0f261.json</td><td>14662194</td></tr><tr><td>dbfs:/FileStore/tables/d1995_07_06-20619.json</td><td>d1995_07_06-20619.json</td><td>15557682</td></tr><tr><td>dbfs:/FileStore/tables/d1995_07_07-2dd8d.json</td><td>d1995_07_07-2dd8d.json</td><td>15279295</td></tr><tr><td>dbfs:/FileStore/tables/d1995_07_08-83302.json</td><td>d1995_07_08-83302.json</td><td>7033852</td></tr><tr><td>dbfs:/FileStore/tables/d1995_07_09-f75d3.json</td><td>d1995_07_09-f75d3.json</td><td>5589076</td></tr><tr><td>dbfs:/FileStore/tables/d1995_07_10-160a3.json</td><td>d1995_07_10-160a3.json</td><td>10616482</td></tr><tr><td>dbfs:/FileStore/tables/d1995_07_11-8800f.json</td><td>d1995_07_11-8800f.json</td><td>12486245</td></tr><tr><td>dbfs:/FileStore/tables/d1995_07_12-3091c.json</td><td>d1995_07_12-3091c.json</td><td>14080494</td></tr><tr><td>dbfs:/FileStore/tables/d1995_07_13-242b2.json</td><td>d1995_07_13-242b2.json</td><td>21989188</td></tr><tr><td>dbfs:/FileStore/tables/d1995_07_14-bab67.json</td><td>d1995_07_14-bab67.json</td><td>13780636</td></tr><tr><td>dbfs:/FileStore/tables/d1995_07_15-57e08.json</td><td>d1995_07_15-57e08.json</td><td>8057272</td></tr><tr><td>dbfs:/FileStore/tables/d1995_07_16-2ca03.json</td><td>d1995_07_16-2ca03.json</td><td>7171848</td></tr><tr><td>dbfs:/FileStore/tables/d1995_07_17-905a5.json</td><td>d1995_07_17-905a5.json</td><td>11897536</td></tr><tr><td>dbfs:/FileStore/tables/d1995_07_18-13b8b.json</td><td>d1995_07_18-13b8b.json</td><td>10569098</td></tr><tr><td>dbfs:/FileStore/tables/d1995_07_19-e2537.json</td><td>d1995_07_19-e2537.json</td><td>11515206</td></tr><tr><td>dbfs:/FileStore/tables/d1995_07_20-0f6d2.json</td><td>d1995_07_20-0f6d2.json</td><td>11049142</td></tr><tr><td>dbfs:/FileStore/tables/d1995_07_21-37a88.json</td><td>d1995_07_21-37a88.json</td><td>10475868</td></tr><tr><td>dbfs:/FileStore/tables/d1995_07_22-3b894.json</td><td>d1995_07_22-3b894.json</td><td>6028420</td></tr><tr><td>dbfs:/FileStore/tables/d1995_07_23-8d606.json</td><td>d1995_07_23-8d606.json</td><td>5620028</td></tr><tr><td>dbfs:/FileStore/tables/d1995_07_24-bcae5.json</td><td>d1995_07_24-bcae5.json</td><td>10433367</td></tr><tr><td>dbfs:/FileStore/tables/d1995_07_25-22c14.json</td><td>d1995_07_25-22c14.json</td><td>9883055</td></tr><tr><td>dbfs:/FileStore/tables/d1995_07_26-8a504.json</td><td>d1995_07_26-8a504.json</td><td>9087395</td></tr><tr><td>dbfs:/FileStore/tables/d1995_07_27-32f69.json</td><td>d1995_07_27-32f69.json</td><td>10172162</td></tr><tr><td>dbfs:/FileStore/tables/d1995_07_28-8d6d2.json</td><td>d1995_07_28-8d6d2.json</td><td>6206927</td></tr><tr><td>dbfs:/FileStore/tables/datasets_228_482_diabetes.csv</td><td>datasets_228_482_diabetes.csv</td><td>23873</td></tr><tr><td>dbfs:/FileStore/tables/designation.json</td><td>designation.json</td><td>400</td></tr><tr><td>dbfs:/FileStore/tables/digits.csv</td><td>digits.csv</td><td>338477</td></tr><tr><td>dbfs:/FileStore/tables/digitsNew.csv</td><td>digitsNew.csv</td><td>76775041</td></tr><tr><td>dbfs:/FileStore/tables/iris_bezdekIris.csv</td><td>iris_bezdekIris.csv</td><td>4551</td></tr><tr><td>dbfs:/FileStore/tables/kddcup_data_10_percent_corrected-2f6f3</td><td>kddcup_data_10_percent_corrected-2f6f3</td><td>74889749</td></tr><tr><td>dbfs:/FileStore/tables/regressaoLinear.csv</td><td>regressaoLinear.csv</td><td>564</td></tr><tr><td>dbfs:/FileStore/tables/salario_df.csv</td><td>salario_df.csv</td><td>2505</td></tr><tr><td>dbfs:/FileStore/tables/salary.json</td><td>salary.json</td><td>361</td></tr><tr><td>dbfs:/FileStore/tables/temperature.csv</td><td>temperature.csv</td><td>13971171</td></tr><tr><td>dbfs:/FileStore/tables/transport_nodes-7c826.csv</td><td>transport_nodes-7c826.csv</td><td>465</td></tr><tr><td>dbfs:/FileStore/tables/transport_relationships-c2bfc.csv</td><td>transport_relationships-c2bfc.csv</td><td>550</td></tr><tr><td>dbfs:/FileStore/tables/u.data</td><td>u.data</td><td>1979173</td></tr><tr><td>dbfs:/FileStore/tables/winequality_red-42ff5.csv</td><td>winequality_red-42ff5.csv</td><td>84199</td></tr><tr><td>dbfs:/FileStore/tables/worldcities.csv</td><td>worldcities.csv</td><td>1667065</td></tr></tbody></table></div>"
            ]
          },
          "metadata": {
            "tags": []
          }
        }
      ]
    },
    {
      "cell_type": "code",
      "metadata": {
        "id": "5YSfrTqKb9wz",
        "outputId": "fe2c25d7-a4d2-45ac-ada9-0b53201ceabc"
      },
      "source": [
        "diretorioDatasetDiabets=\"/FileStore/tables/Mall_Customers.csv\"  #diretório que contém o arquivo a ser utilizado"
      ],
      "execution_count": null,
      "outputs": [
        {
          "output_type": "display_data",
          "data": {
            "text/html": [
              "<style scoped>\n",
              "  .ansiout {\n",
              "    display: block;\n",
              "    unicode-bidi: embed;\n",
              "    white-space: pre-wrap;\n",
              "    word-wrap: break-word;\n",
              "    word-break: break-all;\n",
              "    font-family: \"Source Code Pro\", \"Menlo\", monospace;;\n",
              "    font-size: 13px;\n",
              "    color: #555;\n",
              "    margin-left: 4px;\n",
              "    line-height: 19px;\n",
              "  }\n",
              "</style>\n",
              "<div class=\"ansiout\"></div>"
            ]
          },
          "metadata": {
            "tags": []
          }
        }
      ]
    },
    {
      "cell_type": "code",
      "metadata": {
        "id": "20_rIkuKb9w0",
        "outputId": "b000abfd-ac50-4b68-a01f-fb761868b944"
      },
      "source": [
        "data = spark.read.format(\"csv\").options(header=\"true\", inferschema=\"true\").load(diretorioDatasetDiabets)  #realiza a leitura do dataset"
      ],
      "execution_count": null,
      "outputs": [
        {
          "output_type": "display_data",
          "data": {
            "text/html": [
              "<style scoped>\n",
              "  .ansiout {\n",
              "    display: block;\n",
              "    unicode-bidi: embed;\n",
              "    white-space: pre-wrap;\n",
              "    word-wrap: break-word;\n",
              "    word-break: break-all;\n",
              "    font-family: \"Source Code Pro\", \"Menlo\", monospace;;\n",
              "    font-size: 13px;\n",
              "    color: #555;\n",
              "    margin-left: 4px;\n",
              "    line-height: 19px;\n",
              "  }\n",
              "</style>\n",
              "<div class=\"ansiout\"></div>"
            ]
          },
          "metadata": {
            "tags": []
          }
        }
      ]
    },
    {
      "cell_type": "code",
      "metadata": {
        "id": "sHVdij8Tb9w0",
        "outputId": "f2e140cd-9541-4d94-fc4a-f51e9fdad7c9"
      },
      "source": [
        "data.show(5,False)  #mostrando as 5 primeiras instâncias do dataset"
      ],
      "execution_count": null,
      "outputs": [
        {
          "output_type": "display_data",
          "data": {
            "text/html": [
              "<style scoped>\n",
              "  .ansiout {\n",
              "    display: block;\n",
              "    unicode-bidi: embed;\n",
              "    white-space: pre-wrap;\n",
              "    word-wrap: break-word;\n",
              "    word-break: break-all;\n",
              "    font-family: \"Source Code Pro\", \"Menlo\", monospace;;\n",
              "    font-size: 13px;\n",
              "    color: #555;\n",
              "    margin-left: 4px;\n",
              "    line-height: 19px;\n",
              "  }\n",
              "</style>\n",
              "<div class=\"ansiout\">+----------+------+---+------------------+----------------------+\n",
              "CustomerID|Genre |Age|Annual Income (k$)|Spending Score (1-100)|\n",
              "+----------+------+---+------------------+----------------------+\n",
              "1         |Male  |19 |15                |39                    |\n",
              "2         |Male  |21 |15                |81                    |\n",
              "3         |Female|20 |16                |6                     |\n",
              "4         |Female|23 |16                |77                    |\n",
              "5         |Female|31 |17                |40                    |\n",
              "+----------+------+---+------------------+----------------------+\n",
              "only showing top 5 rows\n",
              "\n",
              "</div>"
            ]
          },
          "metadata": {
            "tags": []
          }
        }
      ]
    },
    {
      "cell_type": "code",
      "metadata": {
        "id": "n_hnJ9eeb9w1",
        "outputId": "0c0eb843-9bc1-4fdb-f7a6-65dc7bb84c76"
      },
      "source": [
        "data.columns #mostra as colunas do dataset"
      ],
      "execution_count": null,
      "outputs": [
        {
          "output_type": "display_data",
          "data": {
            "text/html": [
              "<style scoped>\n",
              "  .ansiout {\n",
              "    display: block;\n",
              "    unicode-bidi: embed;\n",
              "    white-space: pre-wrap;\n",
              "    word-wrap: break-word;\n",
              "    word-break: break-all;\n",
              "    font-family: \"Source Code Pro\", \"Menlo\", monospace;;\n",
              "    font-size: 13px;\n",
              "    color: #555;\n",
              "    margin-left: 4px;\n",
              "    line-height: 19px;\n",
              "  }\n",
              "</style>\n",
              "<div class=\"ansiout\">Out[6]: [&#39;CustomerID&#39;, &#39;Genre&#39;, &#39;Age&#39;, &#39;Annual Income (k$)&#39;, &#39;Spending Score (1-100)&#39;]</div>"
            ]
          },
          "metadata": {
            "tags": []
          }
        }
      ]
    },
    {
      "cell_type": "code",
      "metadata": {
        "id": "48dASmw5b9w1",
        "outputId": "7724e5c7-9aa6-41e7-dfd3-f0fa014dfd87"
      },
      "source": [
        "data.printSchema()  #mostra o esquema inferido pelas variáveis"
      ],
      "execution_count": null,
      "outputs": [
        {
          "output_type": "display_data",
          "data": {
            "text/html": [
              "<style scoped>\n",
              "  .ansiout {\n",
              "    display: block;\n",
              "    unicode-bidi: embed;\n",
              "    white-space: pre-wrap;\n",
              "    word-wrap: break-word;\n",
              "    word-break: break-all;\n",
              "    font-family: \"Source Code Pro\", \"Menlo\", monospace;;\n",
              "    font-size: 13px;\n",
              "    color: #555;\n",
              "    margin-left: 4px;\n",
              "    line-height: 19px;\n",
              "  }\n",
              "</style>\n",
              "<div class=\"ansiout\">root\n",
              "-- CustomerID: integer (nullable = true)\n",
              "-- Genre: string (nullable = true)\n",
              "-- Age: integer (nullable = true)\n",
              "-- Annual Income (k$): integer (nullable = true)\n",
              "-- Spending Score (1-100): integer (nullable = true)\n",
              "\n",
              "</div>"
            ]
          },
          "metadata": {
            "tags": []
          }
        }
      ]
    },
    {
      "cell_type": "code",
      "metadata": {
        "id": "kOUFVqijb9w2",
        "outputId": "0dce1baa-a8d1-499c-ad95-2922bad6bc21"
      },
      "source": [
        "data.count()  #conta a quantidade de registros"
      ],
      "execution_count": null,
      "outputs": [
        {
          "output_type": "display_data",
          "data": {
            "text/html": [
              "<style scoped>\n",
              "  .ansiout {\n",
              "    display: block;\n",
              "    unicode-bidi: embed;\n",
              "    white-space: pre-wrap;\n",
              "    word-wrap: break-word;\n",
              "    word-break: break-all;\n",
              "    font-family: \"Source Code Pro\", \"Menlo\", monospace;;\n",
              "    font-size: 13px;\n",
              "    color: #555;\n",
              "    margin-left: 4px;\n",
              "    line-height: 19px;\n",
              "  }\n",
              "</style>\n",
              "<div class=\"ansiout\">Out[8]: 200</div>"
            ]
          },
          "metadata": {
            "tags": []
          }
        }
      ]
    },
    {
      "cell_type": "code",
      "metadata": {
        "id": "VERkcwS6b9w3",
        "outputId": "31fc65a1-3259-4f73-9fbc-db7de27c1370"
      },
      "source": [
        "#verificando a existência ou não de valores nulos\n",
        "from pyspark.sql.functions import isnan, when, count, col\n",
        "\n",
        "data.select([count(when(isnan(c), c)).alias(c) for c in data.columns]).show()"
      ],
      "execution_count": null,
      "outputs": [
        {
          "output_type": "display_data",
          "data": {
            "text/html": [
              "<style scoped>\n",
              "  .ansiout {\n",
              "    display: block;\n",
              "    unicode-bidi: embed;\n",
              "    white-space: pre-wrap;\n",
              "    word-wrap: break-word;\n",
              "    word-break: break-all;\n",
              "    font-family: \"Source Code Pro\", \"Menlo\", monospace;;\n",
              "    font-size: 13px;\n",
              "    color: #555;\n",
              "    margin-left: 4px;\n",
              "    line-height: 19px;\n",
              "  }\n",
              "</style>\n",
              "<div class=\"ansiout\">+----------+-----+---+------------------+----------------------+\n",
              "CustomerID|Genre|Age|Annual Income (k$)|Spending Score (1-100)|\n",
              "+----------+-----+---+------------------+----------------------+\n",
              "         0|    0|  0|                 0|                     0|\n",
              "+----------+-----+---+------------------+----------------------+\n",
              "\n",
              "</div>"
            ]
          },
          "metadata": {
            "tags": []
          }
        }
      ]
    },
    {
      "cell_type": "code",
      "metadata": {
        "id": "vUEvnvOwb9w3",
        "outputId": "aaf89a7b-7533-4ecf-f710-b1a86f2789ec"
      },
      "source": [
        "data.describe().show() #mostrando as estatísticas do dataset"
      ],
      "execution_count": null,
      "outputs": [
        {
          "output_type": "display_data",
          "data": {
            "text/html": [
              "<style scoped>\n",
              "  .ansiout {\n",
              "    display: block;\n",
              "    unicode-bidi: embed;\n",
              "    white-space: pre-wrap;\n",
              "    word-wrap: break-word;\n",
              "    word-break: break-all;\n",
              "    font-family: \"Source Code Pro\", \"Menlo\", monospace;;\n",
              "    font-size: 13px;\n",
              "    color: #555;\n",
              "    margin-left: 4px;\n",
              "    line-height: 19px;\n",
              "  }\n",
              "</style>\n",
              "<div class=\"ansiout\">+-------+------------------+------+-----------------+------------------+----------------------+\n",
              "summary|        CustomerID| Genre|              Age|Annual Income (k$)|Spending Score (1-100)|\n",
              "+-------+------------------+------+-----------------+------------------+----------------------+\n",
              "  count|               200|   200|              200|               200|                   200|\n",
              "   mean|             100.5|  null|            38.85|             60.56|                  50.2|\n",
              " stddev|57.879184513951124|  null|13.96900733155888| 26.26472116527124|    25.823521668370173|\n",
              "    min|                 1|Female|               18|                15|                     1|\n",
              "    max|               200|  Male|               70|               137|                    99|\n",
              "+-------+------------------+------+-----------------+------------------+----------------------+\n",
              "\n",
              "</div>"
            ]
          },
          "metadata": {
            "tags": []
          }
        }
      ]
    },
    {
      "cell_type": "markdown",
      "metadata": {
        "id": "F_2BvKgOb9w4"
      },
      "source": [
        "Verificando se existem outliers (anomalias) nos dados. Para isso, será utilizado o boxplot."
      ]
    },
    {
      "cell_type": "code",
      "metadata": {
        "id": "KyeMJ15_b9w5",
        "outputId": "c4f51d86-ee5a-4c2e-941e-05e4b23d5dbf"
      },
      "source": [
        "#selecionando apenas algumas colunas\n",
        "data_outliers=data.select([c for c in data.columns if c in ['Age','Annual Income (k$)','Spending Score (1-100)']])\n",
        "data_outliers.show()"
      ],
      "execution_count": null,
      "outputs": [
        {
          "output_type": "display_data",
          "data": {
            "text/html": [
              "<style scoped>\n",
              "  .ansiout {\n",
              "    display: block;\n",
              "    unicode-bidi: embed;\n",
              "    white-space: pre-wrap;\n",
              "    word-wrap: break-word;\n",
              "    word-break: break-all;\n",
              "    font-family: \"Source Code Pro\", \"Menlo\", monospace;;\n",
              "    font-size: 13px;\n",
              "    color: #555;\n",
              "    margin-left: 4px;\n",
              "    line-height: 19px;\n",
              "  }\n",
              "</style>\n",
              "<div class=\"ansiout\">+---+------------------+----------------------+\n",
              "Age|Annual Income (k$)|Spending Score (1-100)|\n",
              "+---+------------------+----------------------+\n",
              " 19|                15|                    39|\n",
              " 21|                15|                    81|\n",
              " 20|                16|                     6|\n",
              " 23|                16|                    77|\n",
              " 31|                17|                    40|\n",
              " 22|                17|                    76|\n",
              " 35|                18|                     6|\n",
              " 23|                18|                    94|\n",
              " 64|                19|                     3|\n",
              " 30|                19|                    72|\n",
              " 67|                19|                    14|\n",
              " 35|                19|                    99|\n",
              " 58|                20|                    15|\n",
              " 24|                20|                    77|\n",
              " 37|                20|                    13|\n",
              " 22|                20|                    79|\n",
              " 35|                21|                    35|\n",
              " 20|                21|                    66|\n",
              " 52|                23|                    29|\n",
              " 35|                23|                    98|\n",
              "+---+------------------+----------------------+\n",
              "only showing top 20 rows\n",
              "\n",
              "</div>"
            ]
          },
          "metadata": {
            "tags": []
          }
        }
      ]
    },
    {
      "cell_type": "code",
      "metadata": {
        "id": "18oylfwgb9w5",
        "outputId": "b95ce4b5-daed-4eb3-e55d-3ec9eb414459"
      },
      "source": [
        "#boxplot\n",
        "display(data_outliers)"
      ],
      "execution_count": null,
      "outputs": [
        {
          "output_type": "display_data",
          "data": {
            "text/html": [
              "<style scoped>\n",
              "  .table-result-container {\n",
              "    max-height: 300px;\n",
              "    overflow: auto;\n",
              "  }\n",
              "  table, th, td {\n",
              "    border: 1px solid black;\n",
              "    border-collapse: collapse;\n",
              "  }\n",
              "  th, td {\n",
              "    padding: 5px;\n",
              "  }\n",
              "  th {\n",
              "    text-align: left;\n",
              "  }\n",
              "</style><div class='table-result-container'><table class='table-result'><thead style='background-color: white'><tr><th>Age</th><th>Annual Income (k$)</th><th>Spending Score (1-100)</th></tr></thead><tbody><tr><td>19</td><td>15</td><td>39</td></tr><tr><td>21</td><td>15</td><td>81</td></tr><tr><td>20</td><td>16</td><td>6</td></tr><tr><td>23</td><td>16</td><td>77</td></tr><tr><td>31</td><td>17</td><td>40</td></tr><tr><td>22</td><td>17</td><td>76</td></tr><tr><td>35</td><td>18</td><td>6</td></tr><tr><td>23</td><td>18</td><td>94</td></tr><tr><td>64</td><td>19</td><td>3</td></tr><tr><td>30</td><td>19</td><td>72</td></tr><tr><td>67</td><td>19</td><td>14</td></tr><tr><td>35</td><td>19</td><td>99</td></tr><tr><td>58</td><td>20</td><td>15</td></tr><tr><td>24</td><td>20</td><td>77</td></tr><tr><td>37</td><td>20</td><td>13</td></tr><tr><td>22</td><td>20</td><td>79</td></tr><tr><td>35</td><td>21</td><td>35</td></tr><tr><td>20</td><td>21</td><td>66</td></tr><tr><td>52</td><td>23</td><td>29</td></tr><tr><td>35</td><td>23</td><td>98</td></tr><tr><td>35</td><td>24</td><td>35</td></tr><tr><td>25</td><td>24</td><td>73</td></tr><tr><td>46</td><td>25</td><td>5</td></tr><tr><td>31</td><td>25</td><td>73</td></tr><tr><td>54</td><td>28</td><td>14</td></tr><tr><td>29</td><td>28</td><td>82</td></tr><tr><td>45</td><td>28</td><td>32</td></tr><tr><td>35</td><td>28</td><td>61</td></tr><tr><td>40</td><td>29</td><td>31</td></tr><tr><td>23</td><td>29</td><td>87</td></tr><tr><td>60</td><td>30</td><td>4</td></tr><tr><td>21</td><td>30</td><td>73</td></tr><tr><td>53</td><td>33</td><td>4</td></tr><tr><td>18</td><td>33</td><td>92</td></tr><tr><td>49</td><td>33</td><td>14</td></tr><tr><td>21</td><td>33</td><td>81</td></tr><tr><td>42</td><td>34</td><td>17</td></tr><tr><td>30</td><td>34</td><td>73</td></tr><tr><td>36</td><td>37</td><td>26</td></tr><tr><td>20</td><td>37</td><td>75</td></tr><tr><td>65</td><td>38</td><td>35</td></tr><tr><td>24</td><td>38</td><td>92</td></tr><tr><td>48</td><td>39</td><td>36</td></tr><tr><td>31</td><td>39</td><td>61</td></tr><tr><td>49</td><td>39</td><td>28</td></tr><tr><td>24</td><td>39</td><td>65</td></tr><tr><td>50</td><td>40</td><td>55</td></tr><tr><td>27</td><td>40</td><td>47</td></tr><tr><td>29</td><td>40</td><td>42</td></tr><tr><td>31</td><td>40</td><td>42</td></tr><tr><td>49</td><td>42</td><td>52</td></tr><tr><td>33</td><td>42</td><td>60</td></tr><tr><td>31</td><td>43</td><td>54</td></tr><tr><td>59</td><td>43</td><td>60</td></tr><tr><td>50</td><td>43</td><td>45</td></tr><tr><td>47</td><td>43</td><td>41</td></tr><tr><td>51</td><td>44</td><td>50</td></tr><tr><td>69</td><td>44</td><td>46</td></tr><tr><td>27</td><td>46</td><td>51</td></tr><tr><td>53</td><td>46</td><td>46</td></tr><tr><td>70</td><td>46</td><td>56</td></tr><tr><td>19</td><td>46</td><td>55</td></tr><tr><td>67</td><td>47</td><td>52</td></tr><tr><td>54</td><td>47</td><td>59</td></tr><tr><td>63</td><td>48</td><td>51</td></tr><tr><td>18</td><td>48</td><td>59</td></tr><tr><td>43</td><td>48</td><td>50</td></tr><tr><td>68</td><td>48</td><td>48</td></tr><tr><td>19</td><td>48</td><td>59</td></tr><tr><td>32</td><td>48</td><td>47</td></tr><tr><td>70</td><td>49</td><td>55</td></tr><tr><td>47</td><td>49</td><td>42</td></tr><tr><td>60</td><td>50</td><td>49</td></tr><tr><td>60</td><td>50</td><td>56</td></tr><tr><td>59</td><td>54</td><td>47</td></tr><tr><td>26</td><td>54</td><td>54</td></tr><tr><td>45</td><td>54</td><td>53</td></tr><tr><td>40</td><td>54</td><td>48</td></tr><tr><td>23</td><td>54</td><td>52</td></tr><tr><td>49</td><td>54</td><td>42</td></tr><tr><td>57</td><td>54</td><td>51</td></tr><tr><td>38</td><td>54</td><td>55</td></tr><tr><td>67</td><td>54</td><td>41</td></tr><tr><td>46</td><td>54</td><td>44</td></tr><tr><td>21</td><td>54</td><td>57</td></tr><tr><td>48</td><td>54</td><td>46</td></tr><tr><td>55</td><td>57</td><td>58</td></tr><tr><td>22</td><td>57</td><td>55</td></tr><tr><td>34</td><td>58</td><td>60</td></tr><tr><td>50</td><td>58</td><td>46</td></tr><tr><td>68</td><td>59</td><td>55</td></tr><tr><td>18</td><td>59</td><td>41</td></tr><tr><td>48</td><td>60</td><td>49</td></tr><tr><td>40</td><td>60</td><td>40</td></tr><tr><td>32</td><td>60</td><td>42</td></tr><tr><td>24</td><td>60</td><td>52</td></tr><tr><td>47</td><td>60</td><td>47</td></tr><tr><td>27</td><td>60</td><td>50</td></tr><tr><td>48</td><td>61</td><td>42</td></tr><tr><td>20</td><td>61</td><td>49</td></tr><tr><td>23</td><td>62</td><td>41</td></tr><tr><td>49</td><td>62</td><td>48</td></tr><tr><td>67</td><td>62</td><td>59</td></tr><tr><td>26</td><td>62</td><td>55</td></tr><tr><td>49</td><td>62</td><td>56</td></tr><tr><td>21</td><td>62</td><td>42</td></tr><tr><td>66</td><td>63</td><td>50</td></tr><tr><td>54</td><td>63</td><td>46</td></tr><tr><td>68</td><td>63</td><td>43</td></tr><tr><td>66</td><td>63</td><td>48</td></tr><tr><td>65</td><td>63</td><td>52</td></tr><tr><td>19</td><td>63</td><td>54</td></tr><tr><td>38</td><td>64</td><td>42</td></tr><tr><td>19</td><td>64</td><td>46</td></tr><tr><td>18</td><td>65</td><td>48</td></tr><tr><td>19</td><td>65</td><td>50</td></tr><tr><td>63</td><td>65</td><td>43</td></tr><tr><td>49</td><td>65</td><td>59</td></tr><tr><td>51</td><td>67</td><td>43</td></tr><tr><td>50</td><td>67</td><td>57</td></tr><tr><td>27</td><td>67</td><td>56</td></tr><tr><td>38</td><td>67</td><td>40</td></tr><tr><td>40</td><td>69</td><td>58</td></tr><tr><td>39</td><td>69</td><td>91</td></tr><tr><td>23</td><td>70</td><td>29</td></tr><tr><td>31</td><td>70</td><td>77</td></tr><tr><td>43</td><td>71</td><td>35</td></tr><tr><td>40</td><td>71</td><td>95</td></tr><tr><td>59</td><td>71</td><td>11</td></tr><tr><td>38</td><td>71</td><td>75</td></tr><tr><td>47</td><td>71</td><td>9</td></tr><tr><td>39</td><td>71</td><td>75</td></tr><tr><td>25</td><td>72</td><td>34</td></tr><tr><td>31</td><td>72</td><td>71</td></tr><tr><td>20</td><td>73</td><td>5</td></tr><tr><td>29</td><td>73</td><td>88</td></tr><tr><td>44</td><td>73</td><td>7</td></tr><tr><td>32</td><td>73</td><td>73</td></tr><tr><td>19</td><td>74</td><td>10</td></tr><tr><td>35</td><td>74</td><td>72</td></tr><tr><td>57</td><td>75</td><td>5</td></tr><tr><td>32</td><td>75</td><td>93</td></tr><tr><td>28</td><td>76</td><td>40</td></tr><tr><td>32</td><td>76</td><td>87</td></tr><tr><td>25</td><td>77</td><td>12</td></tr><tr><td>28</td><td>77</td><td>97</td></tr><tr><td>48</td><td>77</td><td>36</td></tr><tr><td>32</td><td>77</td><td>74</td></tr><tr><td>34</td><td>78</td><td>22</td></tr><tr><td>34</td><td>78</td><td>90</td></tr><tr><td>43</td><td>78</td><td>17</td></tr><tr><td>39</td><td>78</td><td>88</td></tr><tr><td>44</td><td>78</td><td>20</td></tr><tr><td>38</td><td>78</td><td>76</td></tr><tr><td>47</td><td>78</td><td>16</td></tr><tr><td>27</td><td>78</td><td>89</td></tr><tr><td>37</td><td>78</td><td>1</td></tr><tr><td>30</td><td>78</td><td>78</td></tr><tr><td>34</td><td>78</td><td>1</td></tr><tr><td>30</td><td>78</td><td>73</td></tr><tr><td>56</td><td>79</td><td>35</td></tr><tr><td>29</td><td>79</td><td>83</td></tr><tr><td>19</td><td>81</td><td>5</td></tr><tr><td>31</td><td>81</td><td>93</td></tr><tr><td>50</td><td>85</td><td>26</td></tr><tr><td>36</td><td>85</td><td>75</td></tr><tr><td>42</td><td>86</td><td>20</td></tr><tr><td>33</td><td>86</td><td>95</td></tr><tr><td>36</td><td>87</td><td>27</td></tr><tr><td>32</td><td>87</td><td>63</td></tr><tr><td>40</td><td>87</td><td>13</td></tr><tr><td>28</td><td>87</td><td>75</td></tr><tr><td>36</td><td>87</td><td>10</td></tr><tr><td>36</td><td>87</td><td>92</td></tr><tr><td>52</td><td>88</td><td>13</td></tr><tr><td>30</td><td>88</td><td>86</td></tr><tr><td>58</td><td>88</td><td>15</td></tr><tr><td>27</td><td>88</td><td>69</td></tr><tr><td>59</td><td>93</td><td>14</td></tr><tr><td>35</td><td>93</td><td>90</td></tr><tr><td>37</td><td>97</td><td>32</td></tr><tr><td>32</td><td>97</td><td>86</td></tr><tr><td>46</td><td>98</td><td>15</td></tr><tr><td>29</td><td>98</td><td>88</td></tr><tr><td>41</td><td>99</td><td>39</td></tr><tr><td>30</td><td>99</td><td>97</td></tr><tr><td>54</td><td>101</td><td>24</td></tr><tr><td>28</td><td>101</td><td>68</td></tr><tr><td>41</td><td>103</td><td>17</td></tr><tr><td>36</td><td>103</td><td>85</td></tr><tr><td>34</td><td>103</td><td>23</td></tr><tr><td>32</td><td>103</td><td>69</td></tr><tr><td>33</td><td>113</td><td>8</td></tr><tr><td>38</td><td>113</td><td>91</td></tr><tr><td>47</td><td>120</td><td>16</td></tr><tr><td>35</td><td>120</td><td>79</td></tr><tr><td>45</td><td>126</td><td>28</td></tr><tr><td>32</td><td>126</td><td>74</td></tr><tr><td>32</td><td>137</td><td>18</td></tr><tr><td>30</td><td>137</td><td>83</td></tr></tbody></table></div>"
            ]
          },
          "metadata": {
            "tags": []
          }
        }
      ]
    },
    {
      "cell_type": "code",
      "metadata": {
        "id": "3GFpF9sLb9w6",
        "outputId": "91cf0ea6-d6f9-4690-bf00-dcaa37e6e16d"
      },
      "source": [
        "#histograma\n",
        "display(data_outliers)"
      ],
      "execution_count": null,
      "outputs": [
        {
          "output_type": "display_data",
          "data": {
            "text/html": [
              "<style scoped>\n",
              "  .table-result-container {\n",
              "    max-height: 300px;\n",
              "    overflow: auto;\n",
              "  }\n",
              "  table, th, td {\n",
              "    border: 1px solid black;\n",
              "    border-collapse: collapse;\n",
              "  }\n",
              "  th, td {\n",
              "    padding: 5px;\n",
              "  }\n",
              "  th {\n",
              "    text-align: left;\n",
              "  }\n",
              "</style><div class='table-result-container'><table class='table-result'><thead style='background-color: white'><tr><th>Age</th><th>Annual Income (k$)</th><th>Spending Score (1-100)</th></tr></thead><tbody><tr><td>19</td><td>15</td><td>39</td></tr><tr><td>21</td><td>15</td><td>81</td></tr><tr><td>20</td><td>16</td><td>6</td></tr><tr><td>23</td><td>16</td><td>77</td></tr><tr><td>31</td><td>17</td><td>40</td></tr><tr><td>22</td><td>17</td><td>76</td></tr><tr><td>35</td><td>18</td><td>6</td></tr><tr><td>23</td><td>18</td><td>94</td></tr><tr><td>64</td><td>19</td><td>3</td></tr><tr><td>30</td><td>19</td><td>72</td></tr><tr><td>67</td><td>19</td><td>14</td></tr><tr><td>35</td><td>19</td><td>99</td></tr><tr><td>58</td><td>20</td><td>15</td></tr><tr><td>24</td><td>20</td><td>77</td></tr><tr><td>37</td><td>20</td><td>13</td></tr><tr><td>22</td><td>20</td><td>79</td></tr><tr><td>35</td><td>21</td><td>35</td></tr><tr><td>20</td><td>21</td><td>66</td></tr><tr><td>52</td><td>23</td><td>29</td></tr><tr><td>35</td><td>23</td><td>98</td></tr><tr><td>35</td><td>24</td><td>35</td></tr><tr><td>25</td><td>24</td><td>73</td></tr><tr><td>46</td><td>25</td><td>5</td></tr><tr><td>31</td><td>25</td><td>73</td></tr><tr><td>54</td><td>28</td><td>14</td></tr><tr><td>29</td><td>28</td><td>82</td></tr><tr><td>45</td><td>28</td><td>32</td></tr><tr><td>35</td><td>28</td><td>61</td></tr><tr><td>40</td><td>29</td><td>31</td></tr><tr><td>23</td><td>29</td><td>87</td></tr><tr><td>60</td><td>30</td><td>4</td></tr><tr><td>21</td><td>30</td><td>73</td></tr><tr><td>53</td><td>33</td><td>4</td></tr><tr><td>18</td><td>33</td><td>92</td></tr><tr><td>49</td><td>33</td><td>14</td></tr><tr><td>21</td><td>33</td><td>81</td></tr><tr><td>42</td><td>34</td><td>17</td></tr><tr><td>30</td><td>34</td><td>73</td></tr><tr><td>36</td><td>37</td><td>26</td></tr><tr><td>20</td><td>37</td><td>75</td></tr><tr><td>65</td><td>38</td><td>35</td></tr><tr><td>24</td><td>38</td><td>92</td></tr><tr><td>48</td><td>39</td><td>36</td></tr><tr><td>31</td><td>39</td><td>61</td></tr><tr><td>49</td><td>39</td><td>28</td></tr><tr><td>24</td><td>39</td><td>65</td></tr><tr><td>50</td><td>40</td><td>55</td></tr><tr><td>27</td><td>40</td><td>47</td></tr><tr><td>29</td><td>40</td><td>42</td></tr><tr><td>31</td><td>40</td><td>42</td></tr><tr><td>49</td><td>42</td><td>52</td></tr><tr><td>33</td><td>42</td><td>60</td></tr><tr><td>31</td><td>43</td><td>54</td></tr><tr><td>59</td><td>43</td><td>60</td></tr><tr><td>50</td><td>43</td><td>45</td></tr><tr><td>47</td><td>43</td><td>41</td></tr><tr><td>51</td><td>44</td><td>50</td></tr><tr><td>69</td><td>44</td><td>46</td></tr><tr><td>27</td><td>46</td><td>51</td></tr><tr><td>53</td><td>46</td><td>46</td></tr><tr><td>70</td><td>46</td><td>56</td></tr><tr><td>19</td><td>46</td><td>55</td></tr><tr><td>67</td><td>47</td><td>52</td></tr><tr><td>54</td><td>47</td><td>59</td></tr><tr><td>63</td><td>48</td><td>51</td></tr><tr><td>18</td><td>48</td><td>59</td></tr><tr><td>43</td><td>48</td><td>50</td></tr><tr><td>68</td><td>48</td><td>48</td></tr><tr><td>19</td><td>48</td><td>59</td></tr><tr><td>32</td><td>48</td><td>47</td></tr><tr><td>70</td><td>49</td><td>55</td></tr><tr><td>47</td><td>49</td><td>42</td></tr><tr><td>60</td><td>50</td><td>49</td></tr><tr><td>60</td><td>50</td><td>56</td></tr><tr><td>59</td><td>54</td><td>47</td></tr><tr><td>26</td><td>54</td><td>54</td></tr><tr><td>45</td><td>54</td><td>53</td></tr><tr><td>40</td><td>54</td><td>48</td></tr><tr><td>23</td><td>54</td><td>52</td></tr><tr><td>49</td><td>54</td><td>42</td></tr><tr><td>57</td><td>54</td><td>51</td></tr><tr><td>38</td><td>54</td><td>55</td></tr><tr><td>67</td><td>54</td><td>41</td></tr><tr><td>46</td><td>54</td><td>44</td></tr><tr><td>21</td><td>54</td><td>57</td></tr><tr><td>48</td><td>54</td><td>46</td></tr><tr><td>55</td><td>57</td><td>58</td></tr><tr><td>22</td><td>57</td><td>55</td></tr><tr><td>34</td><td>58</td><td>60</td></tr><tr><td>50</td><td>58</td><td>46</td></tr><tr><td>68</td><td>59</td><td>55</td></tr><tr><td>18</td><td>59</td><td>41</td></tr><tr><td>48</td><td>60</td><td>49</td></tr><tr><td>40</td><td>60</td><td>40</td></tr><tr><td>32</td><td>60</td><td>42</td></tr><tr><td>24</td><td>60</td><td>52</td></tr><tr><td>47</td><td>60</td><td>47</td></tr><tr><td>27</td><td>60</td><td>50</td></tr><tr><td>48</td><td>61</td><td>42</td></tr><tr><td>20</td><td>61</td><td>49</td></tr><tr><td>23</td><td>62</td><td>41</td></tr><tr><td>49</td><td>62</td><td>48</td></tr><tr><td>67</td><td>62</td><td>59</td></tr><tr><td>26</td><td>62</td><td>55</td></tr><tr><td>49</td><td>62</td><td>56</td></tr><tr><td>21</td><td>62</td><td>42</td></tr><tr><td>66</td><td>63</td><td>50</td></tr><tr><td>54</td><td>63</td><td>46</td></tr><tr><td>68</td><td>63</td><td>43</td></tr><tr><td>66</td><td>63</td><td>48</td></tr><tr><td>65</td><td>63</td><td>52</td></tr><tr><td>19</td><td>63</td><td>54</td></tr><tr><td>38</td><td>64</td><td>42</td></tr><tr><td>19</td><td>64</td><td>46</td></tr><tr><td>18</td><td>65</td><td>48</td></tr><tr><td>19</td><td>65</td><td>50</td></tr><tr><td>63</td><td>65</td><td>43</td></tr><tr><td>49</td><td>65</td><td>59</td></tr><tr><td>51</td><td>67</td><td>43</td></tr><tr><td>50</td><td>67</td><td>57</td></tr><tr><td>27</td><td>67</td><td>56</td></tr><tr><td>38</td><td>67</td><td>40</td></tr><tr><td>40</td><td>69</td><td>58</td></tr><tr><td>39</td><td>69</td><td>91</td></tr><tr><td>23</td><td>70</td><td>29</td></tr><tr><td>31</td><td>70</td><td>77</td></tr><tr><td>43</td><td>71</td><td>35</td></tr><tr><td>40</td><td>71</td><td>95</td></tr><tr><td>59</td><td>71</td><td>11</td></tr><tr><td>38</td><td>71</td><td>75</td></tr><tr><td>47</td><td>71</td><td>9</td></tr><tr><td>39</td><td>71</td><td>75</td></tr><tr><td>25</td><td>72</td><td>34</td></tr><tr><td>31</td><td>72</td><td>71</td></tr><tr><td>20</td><td>73</td><td>5</td></tr><tr><td>29</td><td>73</td><td>88</td></tr><tr><td>44</td><td>73</td><td>7</td></tr><tr><td>32</td><td>73</td><td>73</td></tr><tr><td>19</td><td>74</td><td>10</td></tr><tr><td>35</td><td>74</td><td>72</td></tr><tr><td>57</td><td>75</td><td>5</td></tr><tr><td>32</td><td>75</td><td>93</td></tr><tr><td>28</td><td>76</td><td>40</td></tr><tr><td>32</td><td>76</td><td>87</td></tr><tr><td>25</td><td>77</td><td>12</td></tr><tr><td>28</td><td>77</td><td>97</td></tr><tr><td>48</td><td>77</td><td>36</td></tr><tr><td>32</td><td>77</td><td>74</td></tr><tr><td>34</td><td>78</td><td>22</td></tr><tr><td>34</td><td>78</td><td>90</td></tr><tr><td>43</td><td>78</td><td>17</td></tr><tr><td>39</td><td>78</td><td>88</td></tr><tr><td>44</td><td>78</td><td>20</td></tr><tr><td>38</td><td>78</td><td>76</td></tr><tr><td>47</td><td>78</td><td>16</td></tr><tr><td>27</td><td>78</td><td>89</td></tr><tr><td>37</td><td>78</td><td>1</td></tr><tr><td>30</td><td>78</td><td>78</td></tr><tr><td>34</td><td>78</td><td>1</td></tr><tr><td>30</td><td>78</td><td>73</td></tr><tr><td>56</td><td>79</td><td>35</td></tr><tr><td>29</td><td>79</td><td>83</td></tr><tr><td>19</td><td>81</td><td>5</td></tr><tr><td>31</td><td>81</td><td>93</td></tr><tr><td>50</td><td>85</td><td>26</td></tr><tr><td>36</td><td>85</td><td>75</td></tr><tr><td>42</td><td>86</td><td>20</td></tr><tr><td>33</td><td>86</td><td>95</td></tr><tr><td>36</td><td>87</td><td>27</td></tr><tr><td>32</td><td>87</td><td>63</td></tr><tr><td>40</td><td>87</td><td>13</td></tr><tr><td>28</td><td>87</td><td>75</td></tr><tr><td>36</td><td>87</td><td>10</td></tr><tr><td>36</td><td>87</td><td>92</td></tr><tr><td>52</td><td>88</td><td>13</td></tr><tr><td>30</td><td>88</td><td>86</td></tr><tr><td>58</td><td>88</td><td>15</td></tr><tr><td>27</td><td>88</td><td>69</td></tr><tr><td>59</td><td>93</td><td>14</td></tr><tr><td>35</td><td>93</td><td>90</td></tr><tr><td>37</td><td>97</td><td>32</td></tr><tr><td>32</td><td>97</td><td>86</td></tr><tr><td>46</td><td>98</td><td>15</td></tr><tr><td>29</td><td>98</td><td>88</td></tr><tr><td>41</td><td>99</td><td>39</td></tr><tr><td>30</td><td>99</td><td>97</td></tr><tr><td>54</td><td>101</td><td>24</td></tr><tr><td>28</td><td>101</td><td>68</td></tr><tr><td>41</td><td>103</td><td>17</td></tr><tr><td>36</td><td>103</td><td>85</td></tr><tr><td>34</td><td>103</td><td>23</td></tr><tr><td>32</td><td>103</td><td>69</td></tr><tr><td>33</td><td>113</td><td>8</td></tr><tr><td>38</td><td>113</td><td>91</td></tr><tr><td>47</td><td>120</td><td>16</td></tr><tr><td>35</td><td>120</td><td>79</td></tr><tr><td>45</td><td>126</td><td>28</td></tr><tr><td>32</td><td>126</td><td>74</td></tr><tr><td>32</td><td>137</td><td>18</td></tr><tr><td>30</td><td>137</td><td>83</td></tr></tbody></table></div>"
            ]
          },
          "metadata": {
            "tags": []
          }
        }
      ]
    },
    {
      "cell_type": "markdown",
      "metadata": {
        "id": "CTVlXyOpb9w6"
      },
      "source": [
        "Conhecendo o dataset"
      ]
    },
    {
      "cell_type": "code",
      "metadata": {
        "id": "Y5pzVV3gb9w7",
        "outputId": "d15c9fcc-506f-4668-9480-272a8d90579e"
      },
      "source": [
        "display(data.select([\"Genre\",\"Annual Income (k$)\"]))"
      ],
      "execution_count": null,
      "outputs": [
        {
          "output_type": "display_data",
          "data": {
            "text/html": [
              "<style scoped>\n",
              "  .table-result-container {\n",
              "    max-height: 300px;\n",
              "    overflow: auto;\n",
              "  }\n",
              "  table, th, td {\n",
              "    border: 1px solid black;\n",
              "    border-collapse: collapse;\n",
              "  }\n",
              "  th, td {\n",
              "    padding: 5px;\n",
              "  }\n",
              "  th {\n",
              "    text-align: left;\n",
              "  }\n",
              "</style><div class='table-result-container'><table class='table-result'><thead style='background-color: white'><tr><th>Genre</th><th>Annual Income (k$)</th></tr></thead><tbody><tr><td>Male</td><td>15</td></tr><tr><td>Male</td><td>15</td></tr><tr><td>Female</td><td>16</td></tr><tr><td>Female</td><td>16</td></tr><tr><td>Female</td><td>17</td></tr><tr><td>Female</td><td>17</td></tr><tr><td>Female</td><td>18</td></tr><tr><td>Female</td><td>18</td></tr><tr><td>Male</td><td>19</td></tr><tr><td>Female</td><td>19</td></tr><tr><td>Male</td><td>19</td></tr><tr><td>Female</td><td>19</td></tr><tr><td>Female</td><td>20</td></tr><tr><td>Female</td><td>20</td></tr><tr><td>Male</td><td>20</td></tr><tr><td>Male</td><td>20</td></tr><tr><td>Female</td><td>21</td></tr><tr><td>Male</td><td>21</td></tr><tr><td>Male</td><td>23</td></tr><tr><td>Female</td><td>23</td></tr><tr><td>Male</td><td>24</td></tr><tr><td>Male</td><td>24</td></tr><tr><td>Female</td><td>25</td></tr><tr><td>Male</td><td>25</td></tr><tr><td>Female</td><td>28</td></tr><tr><td>Male</td><td>28</td></tr><tr><td>Female</td><td>28</td></tr><tr><td>Male</td><td>28</td></tr><tr><td>Female</td><td>29</td></tr><tr><td>Female</td><td>29</td></tr><tr><td>Male</td><td>30</td></tr><tr><td>Female</td><td>30</td></tr><tr><td>Male</td><td>33</td></tr><tr><td>Male</td><td>33</td></tr><tr><td>Female</td><td>33</td></tr><tr><td>Female</td><td>33</td></tr><tr><td>Female</td><td>34</td></tr><tr><td>Female</td><td>34</td></tr><tr><td>Female</td><td>37</td></tr><tr><td>Female</td><td>37</td></tr><tr><td>Female</td><td>38</td></tr><tr><td>Male</td><td>38</td></tr><tr><td>Male</td><td>39</td></tr><tr><td>Female</td><td>39</td></tr><tr><td>Female</td><td>39</td></tr><tr><td>Female</td><td>39</td></tr><tr><td>Female</td><td>40</td></tr><tr><td>Female</td><td>40</td></tr><tr><td>Female</td><td>40</td></tr><tr><td>Female</td><td>40</td></tr><tr><td>Female</td><td>42</td></tr><tr><td>Male</td><td>42</td></tr><tr><td>Female</td><td>43</td></tr><tr><td>Male</td><td>43</td></tr><tr><td>Female</td><td>43</td></tr><tr><td>Male</td><td>43</td></tr><tr><td>Female</td><td>44</td></tr><tr><td>Male</td><td>44</td></tr><tr><td>Female</td><td>46</td></tr><tr><td>Male</td><td>46</td></tr><tr><td>Male</td><td>46</td></tr><tr><td>Male</td><td>46</td></tr><tr><td>Female</td><td>47</td></tr><tr><td>Female</td><td>47</td></tr><tr><td>Male</td><td>48</td></tr><tr><td>Male</td><td>48</td></tr><tr><td>Female</td><td>48</td></tr><tr><td>Female</td><td>48</td></tr><tr><td>Male</td><td>48</td></tr><tr><td>Female</td><td>48</td></tr><tr><td>Male</td><td>49</td></tr><tr><td>Female</td><td>49</td></tr><tr><td>Female</td><td>50</td></tr><tr><td>Female</td><td>50</td></tr><tr><td>Male</td><td>54</td></tr><tr><td>Male</td><td>54</td></tr><tr><td>Female</td><td>54</td></tr><tr><td>Male</td><td>54</td></tr><tr><td>Female</td><td>54</td></tr><tr><td>Female</td><td>54</td></tr><tr><td>Male</td><td>54</td></tr><tr><td>Male</td><td>54</td></tr><tr><td>Male</td><td>54</td></tr><tr><td>Female</td><td>54</td></tr><tr><td>Female</td><td>54</td></tr><tr><td>Male</td><td>54</td></tr><tr><td>Female</td><td>57</td></tr><tr><td>Female</td><td>57</td></tr><tr><td>Female</td><td>58</td></tr><tr><td>Female</td><td>58</td></tr><tr><td>Female</td><td>59</td></tr><tr><td>Male</td><td>59</td></tr><tr><td>Male</td><td>60</td></tr><tr><td>Female</td><td>60</td></tr><tr><td>Female</td><td>60</td></tr><tr><td>Male</td><td>60</td></tr><tr><td>Female</td><td>60</td></tr><tr><td>Female</td><td>60</td></tr><tr><td>Male</td><td>61</td></tr><tr><td>Male</td><td>61</td></tr><tr><td>Female</td><td>62</td></tr><tr><td>Female</td><td>62</td></tr><tr><td>Male</td><td>62</td></tr><tr><td>Male</td><td>62</td></tr><tr><td>Male</td><td>62</td></tr><tr><td>Female</td><td>62</td></tr><tr><td>Female</td><td>63</td></tr><tr><td>Male</td><td>63</td></tr><tr><td>Male</td><td>63</td></tr><tr><td>Male</td><td>63</td></tr><tr><td>Male</td><td>63</td></tr><tr><td>Female</td><td>63</td></tr><tr><td>Female</td><td>64</td></tr><tr><td>Male</td><td>64</td></tr><tr><td>Female</td><td>65</td></tr><tr><td>Female</td><td>65</td></tr><tr><td>Female</td><td>65</td></tr><tr><td>Female</td><td>65</td></tr><tr><td>Female</td><td>67</td></tr><tr><td>Female</td><td>67</td></tr><tr><td>Male</td><td>67</td></tr><tr><td>Female</td><td>67</td></tr><tr><td>Female</td><td>69</td></tr><tr><td>Male</td><td>69</td></tr><tr><td>Female</td><td>70</td></tr><tr><td>Female</td><td>70</td></tr><tr><td>Male</td><td>71</td></tr><tr><td>Male</td><td>71</td></tr><tr><td>Male</td><td>71</td></tr><tr><td>Male</td><td>71</td></tr><tr><td>Male</td><td>71</td></tr><tr><td>Male</td><td>71</td></tr><tr><td>Female</td><td>72</td></tr><tr><td>Female</td><td>72</td></tr><tr><td>Male</td><td>73</td></tr><tr><td>Female</td><td>73</td></tr><tr><td>Female</td><td>73</td></tr><tr><td>Male</td><td>73</td></tr><tr><td>Male</td><td>74</td></tr><tr><td>Female</td><td>74</td></tr><tr><td>Female</td><td>75</td></tr><tr><td>Male</td><td>75</td></tr><tr><td>Female</td><td>76</td></tr><tr><td>Female</td><td>76</td></tr><tr><td>Male</td><td>77</td></tr><tr><td>Male</td><td>77</td></tr><tr><td>Male</td><td>77</td></tr><tr><td>Female</td><td>77</td></tr><tr><td>Female</td><td>78</td></tr><tr><td>Male</td><td>78</td></tr><tr><td>Male</td><td>78</td></tr><tr><td>Male</td><td>78</td></tr><tr><td>Female</td><td>78</td></tr><tr><td>Female</td><td>78</td></tr><tr><td>Female</td><td>78</td></tr><tr><td>Female</td><td>78</td></tr><tr><td>Male</td><td>78</td></tr><tr><td>Female</td><td>78</td></tr><tr><td>Male</td><td>78</td></tr><tr><td>Female</td><td>78</td></tr><tr><td>Female</td><td>79</td></tr><tr><td>Female</td><td>79</td></tr><tr><td>Male</td><td>81</td></tr><tr><td>Female</td><td>81</td></tr><tr><td>Male</td><td>85</td></tr><tr><td>Female</td><td>85</td></tr><tr><td>Male</td><td>86</td></tr><tr><td>Female</td><td>86</td></tr><tr><td>Female</td><td>87</td></tr><tr><td>Male</td><td>87</td></tr><tr><td>Male</td><td>87</td></tr><tr><td>Male</td><td>87</td></tr><tr><td>Male</td><td>87</td></tr><tr><td>Male</td><td>87</td></tr><tr><td>Female</td><td>88</td></tr><tr><td>Female</td><td>88</td></tr><tr><td>Male</td><td>88</td></tr><tr><td>Male</td><td>88</td></tr><tr><td>Male</td><td>93</td></tr><tr><td>Male</td><td>93</td></tr><tr><td>Female</td><td>97</td></tr><tr><td>Female</td><td>97</td></tr><tr><td>Male</td><td>98</td></tr><tr><td>Female</td><td>98</td></tr><tr><td>Female</td><td>99</td></tr><tr><td>Male</td><td>99</td></tr><tr><td>Female</td><td>101</td></tr><tr><td>Male</td><td>101</td></tr><tr><td>Female</td><td>103</td></tr><tr><td>Female</td><td>103</td></tr><tr><td>Female</td><td>103</td></tr><tr><td>Female</td><td>103</td></tr><tr><td>Male</td><td>113</td></tr><tr><td>Female</td><td>113</td></tr><tr><td>Female</td><td>120</td></tr><tr><td>Female</td><td>120</td></tr><tr><td>Female</td><td>126</td></tr><tr><td>Male</td><td>126</td></tr><tr><td>Male</td><td>137</td></tr><tr><td>Male</td><td>137</td></tr></tbody></table></div>"
            ]
          },
          "metadata": {
            "tags": []
          }
        }
      ]
    },
    {
      "cell_type": "code",
      "metadata": {
        "id": "NRDWnFwFb9w7",
        "outputId": "7321a1fd-2d59-4f92-b8d8-78ed9da957ad"
      },
      "source": [
        "#distribuição dos consumidores pela idade\n",
        "display(data.select([\"Age\"]))"
      ],
      "execution_count": null,
      "outputs": [
        {
          "output_type": "display_data",
          "data": {
            "text/html": [
              "<style scoped>\n",
              "  .table-result-container {\n",
              "    max-height: 300px;\n",
              "    overflow: auto;\n",
              "  }\n",
              "  table, th, td {\n",
              "    border: 1px solid black;\n",
              "    border-collapse: collapse;\n",
              "  }\n",
              "  th, td {\n",
              "    padding: 5px;\n",
              "  }\n",
              "  th {\n",
              "    text-align: left;\n",
              "  }\n",
              "</style><div class='table-result-container'><table class='table-result'><thead style='background-color: white'><tr><th>Age</th></tr></thead><tbody><tr><td>19</td></tr><tr><td>21</td></tr><tr><td>20</td></tr><tr><td>23</td></tr><tr><td>31</td></tr><tr><td>22</td></tr><tr><td>35</td></tr><tr><td>23</td></tr><tr><td>64</td></tr><tr><td>30</td></tr><tr><td>67</td></tr><tr><td>35</td></tr><tr><td>58</td></tr><tr><td>24</td></tr><tr><td>37</td></tr><tr><td>22</td></tr><tr><td>35</td></tr><tr><td>20</td></tr><tr><td>52</td></tr><tr><td>35</td></tr><tr><td>35</td></tr><tr><td>25</td></tr><tr><td>46</td></tr><tr><td>31</td></tr><tr><td>54</td></tr><tr><td>29</td></tr><tr><td>45</td></tr><tr><td>35</td></tr><tr><td>40</td></tr><tr><td>23</td></tr><tr><td>60</td></tr><tr><td>21</td></tr><tr><td>53</td></tr><tr><td>18</td></tr><tr><td>49</td></tr><tr><td>21</td></tr><tr><td>42</td></tr><tr><td>30</td></tr><tr><td>36</td></tr><tr><td>20</td></tr><tr><td>65</td></tr><tr><td>24</td></tr><tr><td>48</td></tr><tr><td>31</td></tr><tr><td>49</td></tr><tr><td>24</td></tr><tr><td>50</td></tr><tr><td>27</td></tr><tr><td>29</td></tr><tr><td>31</td></tr><tr><td>49</td></tr><tr><td>33</td></tr><tr><td>31</td></tr><tr><td>59</td></tr><tr><td>50</td></tr><tr><td>47</td></tr><tr><td>51</td></tr><tr><td>69</td></tr><tr><td>27</td></tr><tr><td>53</td></tr><tr><td>70</td></tr><tr><td>19</td></tr><tr><td>67</td></tr><tr><td>54</td></tr><tr><td>63</td></tr><tr><td>18</td></tr><tr><td>43</td></tr><tr><td>68</td></tr><tr><td>19</td></tr><tr><td>32</td></tr><tr><td>70</td></tr><tr><td>47</td></tr><tr><td>60</td></tr><tr><td>60</td></tr><tr><td>59</td></tr><tr><td>26</td></tr><tr><td>45</td></tr><tr><td>40</td></tr><tr><td>23</td></tr><tr><td>49</td></tr><tr><td>57</td></tr><tr><td>38</td></tr><tr><td>67</td></tr><tr><td>46</td></tr><tr><td>21</td></tr><tr><td>48</td></tr><tr><td>55</td></tr><tr><td>22</td></tr><tr><td>34</td></tr><tr><td>50</td></tr><tr><td>68</td></tr><tr><td>18</td></tr><tr><td>48</td></tr><tr><td>40</td></tr><tr><td>32</td></tr><tr><td>24</td></tr><tr><td>47</td></tr><tr><td>27</td></tr><tr><td>48</td></tr><tr><td>20</td></tr><tr><td>23</td></tr><tr><td>49</td></tr><tr><td>67</td></tr><tr><td>26</td></tr><tr><td>49</td></tr><tr><td>21</td></tr><tr><td>66</td></tr><tr><td>54</td></tr><tr><td>68</td></tr><tr><td>66</td></tr><tr><td>65</td></tr><tr><td>19</td></tr><tr><td>38</td></tr><tr><td>19</td></tr><tr><td>18</td></tr><tr><td>19</td></tr><tr><td>63</td></tr><tr><td>49</td></tr><tr><td>51</td></tr><tr><td>50</td></tr><tr><td>27</td></tr><tr><td>38</td></tr><tr><td>40</td></tr><tr><td>39</td></tr><tr><td>23</td></tr><tr><td>31</td></tr><tr><td>43</td></tr><tr><td>40</td></tr><tr><td>59</td></tr><tr><td>38</td></tr><tr><td>47</td></tr><tr><td>39</td></tr><tr><td>25</td></tr><tr><td>31</td></tr><tr><td>20</td></tr><tr><td>29</td></tr><tr><td>44</td></tr><tr><td>32</td></tr><tr><td>19</td></tr><tr><td>35</td></tr><tr><td>57</td></tr><tr><td>32</td></tr><tr><td>28</td></tr><tr><td>32</td></tr><tr><td>25</td></tr><tr><td>28</td></tr><tr><td>48</td></tr><tr><td>32</td></tr><tr><td>34</td></tr><tr><td>34</td></tr><tr><td>43</td></tr><tr><td>39</td></tr><tr><td>44</td></tr><tr><td>38</td></tr><tr><td>47</td></tr><tr><td>27</td></tr><tr><td>37</td></tr><tr><td>30</td></tr><tr><td>34</td></tr><tr><td>30</td></tr><tr><td>56</td></tr><tr><td>29</td></tr><tr><td>19</td></tr><tr><td>31</td></tr><tr><td>50</td></tr><tr><td>36</td></tr><tr><td>42</td></tr><tr><td>33</td></tr><tr><td>36</td></tr><tr><td>32</td></tr><tr><td>40</td></tr><tr><td>28</td></tr><tr><td>36</td></tr><tr><td>36</td></tr><tr><td>52</td></tr><tr><td>30</td></tr><tr><td>58</td></tr><tr><td>27</td></tr><tr><td>59</td></tr><tr><td>35</td></tr><tr><td>37</td></tr><tr><td>32</td></tr><tr><td>46</td></tr><tr><td>29</td></tr><tr><td>41</td></tr><tr><td>30</td></tr><tr><td>54</td></tr><tr><td>28</td></tr><tr><td>41</td></tr><tr><td>36</td></tr><tr><td>34</td></tr><tr><td>32</td></tr><tr><td>33</td></tr><tr><td>38</td></tr><tr><td>47</td></tr><tr><td>35</td></tr><tr><td>45</td></tr><tr><td>32</td></tr><tr><td>32</td></tr><tr><td>30</td></tr></tbody></table></div>"
            ]
          },
          "metadata": {
            "tags": []
          }
        }
      ]
    },
    {
      "cell_type": "code",
      "metadata": {
        "id": "juFOt2jMb9w8",
        "outputId": "03f3da14-62bc-4700-f7b5-4a35a36aef01"
      },
      "source": [
        "#encontrando a distribuição da idade x sexo\n",
        "display(data.select([\"Age\",\"Genre\"]))"
      ],
      "execution_count": null,
      "outputs": [
        {
          "output_type": "display_data",
          "data": {
            "text/html": [
              "<style scoped>\n",
              "  .table-result-container {\n",
              "    max-height: 300px;\n",
              "    overflow: auto;\n",
              "  }\n",
              "  table, th, td {\n",
              "    border: 1px solid black;\n",
              "    border-collapse: collapse;\n",
              "  }\n",
              "  th, td {\n",
              "    padding: 5px;\n",
              "  }\n",
              "  th {\n",
              "    text-align: left;\n",
              "  }\n",
              "</style><div class='table-result-container'><table class='table-result'><thead style='background-color: white'><tr><th>Age</th><th>Genre</th></tr></thead><tbody><tr><td>19</td><td>Male</td></tr><tr><td>21</td><td>Male</td></tr><tr><td>20</td><td>Female</td></tr><tr><td>23</td><td>Female</td></tr><tr><td>31</td><td>Female</td></tr><tr><td>22</td><td>Female</td></tr><tr><td>35</td><td>Female</td></tr><tr><td>23</td><td>Female</td></tr><tr><td>64</td><td>Male</td></tr><tr><td>30</td><td>Female</td></tr><tr><td>67</td><td>Male</td></tr><tr><td>35</td><td>Female</td></tr><tr><td>58</td><td>Female</td></tr><tr><td>24</td><td>Female</td></tr><tr><td>37</td><td>Male</td></tr><tr><td>22</td><td>Male</td></tr><tr><td>35</td><td>Female</td></tr><tr><td>20</td><td>Male</td></tr><tr><td>52</td><td>Male</td></tr><tr><td>35</td><td>Female</td></tr><tr><td>35</td><td>Male</td></tr><tr><td>25</td><td>Male</td></tr><tr><td>46</td><td>Female</td></tr><tr><td>31</td><td>Male</td></tr><tr><td>54</td><td>Female</td></tr><tr><td>29</td><td>Male</td></tr><tr><td>45</td><td>Female</td></tr><tr><td>35</td><td>Male</td></tr><tr><td>40</td><td>Female</td></tr><tr><td>23</td><td>Female</td></tr><tr><td>60</td><td>Male</td></tr><tr><td>21</td><td>Female</td></tr><tr><td>53</td><td>Male</td></tr><tr><td>18</td><td>Male</td></tr><tr><td>49</td><td>Female</td></tr><tr><td>21</td><td>Female</td></tr><tr><td>42</td><td>Female</td></tr><tr><td>30</td><td>Female</td></tr><tr><td>36</td><td>Female</td></tr><tr><td>20</td><td>Female</td></tr><tr><td>65</td><td>Female</td></tr><tr><td>24</td><td>Male</td></tr><tr><td>48</td><td>Male</td></tr><tr><td>31</td><td>Female</td></tr><tr><td>49</td><td>Female</td></tr><tr><td>24</td><td>Female</td></tr><tr><td>50</td><td>Female</td></tr><tr><td>27</td><td>Female</td></tr><tr><td>29</td><td>Female</td></tr><tr><td>31</td><td>Female</td></tr><tr><td>49</td><td>Female</td></tr><tr><td>33</td><td>Male</td></tr><tr><td>31</td><td>Female</td></tr><tr><td>59</td><td>Male</td></tr><tr><td>50</td><td>Female</td></tr><tr><td>47</td><td>Male</td></tr><tr><td>51</td><td>Female</td></tr><tr><td>69</td><td>Male</td></tr><tr><td>27</td><td>Female</td></tr><tr><td>53</td><td>Male</td></tr><tr><td>70</td><td>Male</td></tr><tr><td>19</td><td>Male</td></tr><tr><td>67</td><td>Female</td></tr><tr><td>54</td><td>Female</td></tr><tr><td>63</td><td>Male</td></tr><tr><td>18</td><td>Male</td></tr><tr><td>43</td><td>Female</td></tr><tr><td>68</td><td>Female</td></tr><tr><td>19</td><td>Male</td></tr><tr><td>32</td><td>Female</td></tr><tr><td>70</td><td>Male</td></tr><tr><td>47</td><td>Female</td></tr><tr><td>60</td><td>Female</td></tr><tr><td>60</td><td>Female</td></tr><tr><td>59</td><td>Male</td></tr><tr><td>26</td><td>Male</td></tr><tr><td>45</td><td>Female</td></tr><tr><td>40</td><td>Male</td></tr><tr><td>23</td><td>Female</td></tr><tr><td>49</td><td>Female</td></tr><tr><td>57</td><td>Male</td></tr><tr><td>38</td><td>Male</td></tr><tr><td>67</td><td>Male</td></tr><tr><td>46</td><td>Female</td></tr><tr><td>21</td><td>Female</td></tr><tr><td>48</td><td>Male</td></tr><tr><td>55</td><td>Female</td></tr><tr><td>22</td><td>Female</td></tr><tr><td>34</td><td>Female</td></tr><tr><td>50</td><td>Female</td></tr><tr><td>68</td><td>Female</td></tr><tr><td>18</td><td>Male</td></tr><tr><td>48</td><td>Male</td></tr><tr><td>40</td><td>Female</td></tr><tr><td>32</td><td>Female</td></tr><tr><td>24</td><td>Male</td></tr><tr><td>47</td><td>Female</td></tr><tr><td>27</td><td>Female</td></tr><tr><td>48</td><td>Male</td></tr><tr><td>20</td><td>Male</td></tr><tr><td>23</td><td>Female</td></tr><tr><td>49</td><td>Female</td></tr><tr><td>67</td><td>Male</td></tr><tr><td>26</td><td>Male</td></tr><tr><td>49</td><td>Male</td></tr><tr><td>21</td><td>Female</td></tr><tr><td>66</td><td>Female</td></tr><tr><td>54</td><td>Male</td></tr><tr><td>68</td><td>Male</td></tr><tr><td>66</td><td>Male</td></tr><tr><td>65</td><td>Male</td></tr><tr><td>19</td><td>Female</td></tr><tr><td>38</td><td>Female</td></tr><tr><td>19</td><td>Male</td></tr><tr><td>18</td><td>Female</td></tr><tr><td>19</td><td>Female</td></tr><tr><td>63</td><td>Female</td></tr><tr><td>49</td><td>Female</td></tr><tr><td>51</td><td>Female</td></tr><tr><td>50</td><td>Female</td></tr><tr><td>27</td><td>Male</td></tr><tr><td>38</td><td>Female</td></tr><tr><td>40</td><td>Female</td></tr><tr><td>39</td><td>Male</td></tr><tr><td>23</td><td>Female</td></tr><tr><td>31</td><td>Female</td></tr><tr><td>43</td><td>Male</td></tr><tr><td>40</td><td>Male</td></tr><tr><td>59</td><td>Male</td></tr><tr><td>38</td><td>Male</td></tr><tr><td>47</td><td>Male</td></tr><tr><td>39</td><td>Male</td></tr><tr><td>25</td><td>Female</td></tr><tr><td>31</td><td>Female</td></tr><tr><td>20</td><td>Male</td></tr><tr><td>29</td><td>Female</td></tr><tr><td>44</td><td>Female</td></tr><tr><td>32</td><td>Male</td></tr><tr><td>19</td><td>Male</td></tr><tr><td>35</td><td>Female</td></tr><tr><td>57</td><td>Female</td></tr><tr><td>32</td><td>Male</td></tr><tr><td>28</td><td>Female</td></tr><tr><td>32</td><td>Female</td></tr><tr><td>25</td><td>Male</td></tr><tr><td>28</td><td>Male</td></tr><tr><td>48</td><td>Male</td></tr><tr><td>32</td><td>Female</td></tr><tr><td>34</td><td>Female</td></tr><tr><td>34</td><td>Male</td></tr><tr><td>43</td><td>Male</td></tr><tr><td>39</td><td>Male</td></tr><tr><td>44</td><td>Female</td></tr><tr><td>38</td><td>Female</td></tr><tr><td>47</td><td>Female</td></tr><tr><td>27</td><td>Female</td></tr><tr><td>37</td><td>Male</td></tr><tr><td>30</td><td>Female</td></tr><tr><td>34</td><td>Male</td></tr><tr><td>30</td><td>Female</td></tr><tr><td>56</td><td>Female</td></tr><tr><td>29</td><td>Female</td></tr><tr><td>19</td><td>Male</td></tr><tr><td>31</td><td>Female</td></tr><tr><td>50</td><td>Male</td></tr><tr><td>36</td><td>Female</td></tr><tr><td>42</td><td>Male</td></tr><tr><td>33</td><td>Female</td></tr><tr><td>36</td><td>Female</td></tr><tr><td>32</td><td>Male</td></tr><tr><td>40</td><td>Male</td></tr><tr><td>28</td><td>Male</td></tr><tr><td>36</td><td>Male</td></tr><tr><td>36</td><td>Male</td></tr><tr><td>52</td><td>Female</td></tr><tr><td>30</td><td>Female</td></tr><tr><td>58</td><td>Male</td></tr><tr><td>27</td><td>Male</td></tr><tr><td>59</td><td>Male</td></tr><tr><td>35</td><td>Male</td></tr><tr><td>37</td><td>Female</td></tr><tr><td>32</td><td>Female</td></tr><tr><td>46</td><td>Male</td></tr><tr><td>29</td><td>Female</td></tr><tr><td>41</td><td>Female</td></tr><tr><td>30</td><td>Male</td></tr><tr><td>54</td><td>Female</td></tr><tr><td>28</td><td>Male</td></tr><tr><td>41</td><td>Female</td></tr><tr><td>36</td><td>Female</td></tr><tr><td>34</td><td>Female</td></tr><tr><td>32</td><td>Female</td></tr><tr><td>33</td><td>Male</td></tr><tr><td>38</td><td>Female</td></tr><tr><td>47</td><td>Female</td></tr><tr><td>35</td><td>Female</td></tr><tr><td>45</td><td>Female</td></tr><tr><td>32</td><td>Male</td></tr><tr><td>32</td><td>Male</td></tr><tr><td>30</td><td>Male</td></tr></tbody></table></div>"
            ]
          },
          "metadata": {
            "tags": []
          }
        }
      ]
    },
    {
      "cell_type": "code",
      "metadata": {
        "id": "-_5zRHexb9w8",
        "outputId": "fc592dba-f7b2-480d-a142-12a73786ed96"
      },
      "source": [
        "#encontrando a distribuição da idade x sexo\n",
        "display(data.select([\"Age\",\"Genre\"]))"
      ],
      "execution_count": null,
      "outputs": [
        {
          "output_type": "display_data",
          "data": {
            "text/html": [
              "<style scoped>\n",
              "  .table-result-container {\n",
              "    max-height: 300px;\n",
              "    overflow: auto;\n",
              "  }\n",
              "  table, th, td {\n",
              "    border: 1px solid black;\n",
              "    border-collapse: collapse;\n",
              "  }\n",
              "  th, td {\n",
              "    padding: 5px;\n",
              "  }\n",
              "  th {\n",
              "    text-align: left;\n",
              "  }\n",
              "</style><div class='table-result-container'><table class='table-result'><thead style='background-color: white'><tr><th>Age</th><th>Genre</th></tr></thead><tbody><tr><td>19</td><td>Male</td></tr><tr><td>21</td><td>Male</td></tr><tr><td>20</td><td>Female</td></tr><tr><td>23</td><td>Female</td></tr><tr><td>31</td><td>Female</td></tr><tr><td>22</td><td>Female</td></tr><tr><td>35</td><td>Female</td></tr><tr><td>23</td><td>Female</td></tr><tr><td>64</td><td>Male</td></tr><tr><td>30</td><td>Female</td></tr><tr><td>67</td><td>Male</td></tr><tr><td>35</td><td>Female</td></tr><tr><td>58</td><td>Female</td></tr><tr><td>24</td><td>Female</td></tr><tr><td>37</td><td>Male</td></tr><tr><td>22</td><td>Male</td></tr><tr><td>35</td><td>Female</td></tr><tr><td>20</td><td>Male</td></tr><tr><td>52</td><td>Male</td></tr><tr><td>35</td><td>Female</td></tr><tr><td>35</td><td>Male</td></tr><tr><td>25</td><td>Male</td></tr><tr><td>46</td><td>Female</td></tr><tr><td>31</td><td>Male</td></tr><tr><td>54</td><td>Female</td></tr><tr><td>29</td><td>Male</td></tr><tr><td>45</td><td>Female</td></tr><tr><td>35</td><td>Male</td></tr><tr><td>40</td><td>Female</td></tr><tr><td>23</td><td>Female</td></tr><tr><td>60</td><td>Male</td></tr><tr><td>21</td><td>Female</td></tr><tr><td>53</td><td>Male</td></tr><tr><td>18</td><td>Male</td></tr><tr><td>49</td><td>Female</td></tr><tr><td>21</td><td>Female</td></tr><tr><td>42</td><td>Female</td></tr><tr><td>30</td><td>Female</td></tr><tr><td>36</td><td>Female</td></tr><tr><td>20</td><td>Female</td></tr><tr><td>65</td><td>Female</td></tr><tr><td>24</td><td>Male</td></tr><tr><td>48</td><td>Male</td></tr><tr><td>31</td><td>Female</td></tr><tr><td>49</td><td>Female</td></tr><tr><td>24</td><td>Female</td></tr><tr><td>50</td><td>Female</td></tr><tr><td>27</td><td>Female</td></tr><tr><td>29</td><td>Female</td></tr><tr><td>31</td><td>Female</td></tr><tr><td>49</td><td>Female</td></tr><tr><td>33</td><td>Male</td></tr><tr><td>31</td><td>Female</td></tr><tr><td>59</td><td>Male</td></tr><tr><td>50</td><td>Female</td></tr><tr><td>47</td><td>Male</td></tr><tr><td>51</td><td>Female</td></tr><tr><td>69</td><td>Male</td></tr><tr><td>27</td><td>Female</td></tr><tr><td>53</td><td>Male</td></tr><tr><td>70</td><td>Male</td></tr><tr><td>19</td><td>Male</td></tr><tr><td>67</td><td>Female</td></tr><tr><td>54</td><td>Female</td></tr><tr><td>63</td><td>Male</td></tr><tr><td>18</td><td>Male</td></tr><tr><td>43</td><td>Female</td></tr><tr><td>68</td><td>Female</td></tr><tr><td>19</td><td>Male</td></tr><tr><td>32</td><td>Female</td></tr><tr><td>70</td><td>Male</td></tr><tr><td>47</td><td>Female</td></tr><tr><td>60</td><td>Female</td></tr><tr><td>60</td><td>Female</td></tr><tr><td>59</td><td>Male</td></tr><tr><td>26</td><td>Male</td></tr><tr><td>45</td><td>Female</td></tr><tr><td>40</td><td>Male</td></tr><tr><td>23</td><td>Female</td></tr><tr><td>49</td><td>Female</td></tr><tr><td>57</td><td>Male</td></tr><tr><td>38</td><td>Male</td></tr><tr><td>67</td><td>Male</td></tr><tr><td>46</td><td>Female</td></tr><tr><td>21</td><td>Female</td></tr><tr><td>48</td><td>Male</td></tr><tr><td>55</td><td>Female</td></tr><tr><td>22</td><td>Female</td></tr><tr><td>34</td><td>Female</td></tr><tr><td>50</td><td>Female</td></tr><tr><td>68</td><td>Female</td></tr><tr><td>18</td><td>Male</td></tr><tr><td>48</td><td>Male</td></tr><tr><td>40</td><td>Female</td></tr><tr><td>32</td><td>Female</td></tr><tr><td>24</td><td>Male</td></tr><tr><td>47</td><td>Female</td></tr><tr><td>27</td><td>Female</td></tr><tr><td>48</td><td>Male</td></tr><tr><td>20</td><td>Male</td></tr><tr><td>23</td><td>Female</td></tr><tr><td>49</td><td>Female</td></tr><tr><td>67</td><td>Male</td></tr><tr><td>26</td><td>Male</td></tr><tr><td>49</td><td>Male</td></tr><tr><td>21</td><td>Female</td></tr><tr><td>66</td><td>Female</td></tr><tr><td>54</td><td>Male</td></tr><tr><td>68</td><td>Male</td></tr><tr><td>66</td><td>Male</td></tr><tr><td>65</td><td>Male</td></tr><tr><td>19</td><td>Female</td></tr><tr><td>38</td><td>Female</td></tr><tr><td>19</td><td>Male</td></tr><tr><td>18</td><td>Female</td></tr><tr><td>19</td><td>Female</td></tr><tr><td>63</td><td>Female</td></tr><tr><td>49</td><td>Female</td></tr><tr><td>51</td><td>Female</td></tr><tr><td>50</td><td>Female</td></tr><tr><td>27</td><td>Male</td></tr><tr><td>38</td><td>Female</td></tr><tr><td>40</td><td>Female</td></tr><tr><td>39</td><td>Male</td></tr><tr><td>23</td><td>Female</td></tr><tr><td>31</td><td>Female</td></tr><tr><td>43</td><td>Male</td></tr><tr><td>40</td><td>Male</td></tr><tr><td>59</td><td>Male</td></tr><tr><td>38</td><td>Male</td></tr><tr><td>47</td><td>Male</td></tr><tr><td>39</td><td>Male</td></tr><tr><td>25</td><td>Female</td></tr><tr><td>31</td><td>Female</td></tr><tr><td>20</td><td>Male</td></tr><tr><td>29</td><td>Female</td></tr><tr><td>44</td><td>Female</td></tr><tr><td>32</td><td>Male</td></tr><tr><td>19</td><td>Male</td></tr><tr><td>35</td><td>Female</td></tr><tr><td>57</td><td>Female</td></tr><tr><td>32</td><td>Male</td></tr><tr><td>28</td><td>Female</td></tr><tr><td>32</td><td>Female</td></tr><tr><td>25</td><td>Male</td></tr><tr><td>28</td><td>Male</td></tr><tr><td>48</td><td>Male</td></tr><tr><td>32</td><td>Female</td></tr><tr><td>34</td><td>Female</td></tr><tr><td>34</td><td>Male</td></tr><tr><td>43</td><td>Male</td></tr><tr><td>39</td><td>Male</td></tr><tr><td>44</td><td>Female</td></tr><tr><td>38</td><td>Female</td></tr><tr><td>47</td><td>Female</td></tr><tr><td>27</td><td>Female</td></tr><tr><td>37</td><td>Male</td></tr><tr><td>30</td><td>Female</td></tr><tr><td>34</td><td>Male</td></tr><tr><td>30</td><td>Female</td></tr><tr><td>56</td><td>Female</td></tr><tr><td>29</td><td>Female</td></tr><tr><td>19</td><td>Male</td></tr><tr><td>31</td><td>Female</td></tr><tr><td>50</td><td>Male</td></tr><tr><td>36</td><td>Female</td></tr><tr><td>42</td><td>Male</td></tr><tr><td>33</td><td>Female</td></tr><tr><td>36</td><td>Female</td></tr><tr><td>32</td><td>Male</td></tr><tr><td>40</td><td>Male</td></tr><tr><td>28</td><td>Male</td></tr><tr><td>36</td><td>Male</td></tr><tr><td>36</td><td>Male</td></tr><tr><td>52</td><td>Female</td></tr><tr><td>30</td><td>Female</td></tr><tr><td>58</td><td>Male</td></tr><tr><td>27</td><td>Male</td></tr><tr><td>59</td><td>Male</td></tr><tr><td>35</td><td>Male</td></tr><tr><td>37</td><td>Female</td></tr><tr><td>32</td><td>Female</td></tr><tr><td>46</td><td>Male</td></tr><tr><td>29</td><td>Female</td></tr><tr><td>41</td><td>Female</td></tr><tr><td>30</td><td>Male</td></tr><tr><td>54</td><td>Female</td></tr><tr><td>28</td><td>Male</td></tr><tr><td>41</td><td>Female</td></tr><tr><td>36</td><td>Female</td></tr><tr><td>34</td><td>Female</td></tr><tr><td>32</td><td>Female</td></tr><tr><td>33</td><td>Male</td></tr><tr><td>38</td><td>Female</td></tr><tr><td>47</td><td>Female</td></tr><tr><td>35</td><td>Female</td></tr><tr><td>45</td><td>Female</td></tr><tr><td>32</td><td>Male</td></tr><tr><td>32</td><td>Male</td></tr><tr><td>30</td><td>Male</td></tr></tbody></table></div>"
            ]
          },
          "metadata": {
            "tags": []
          }
        }
      ]
    },
    {
      "cell_type": "markdown",
      "metadata": {
        "id": "7MYgnpTXb9w8"
      },
      "source": [
        "A variável \"Spending Score (1-100)\" ou pontuação de consumo, corresponde à nota atribuída pelo shopping aos consumidores. Quanto mais próxima de 100 indica que o consumidor é mais \"lucrativo\" para o shopping."
      ]
    },
    {
      "cell_type": "code",
      "metadata": {
        "id": "8ek83Mdeb9w9",
        "outputId": "c94fb2b9-309e-4442-85b5-9a1c5d71bd55"
      },
      "source": [
        "#encontrando as notas atribuidas por gênero \n",
        "display(data.select([\"Spending Score (1-100)\",\"Genre\"]))"
      ],
      "execution_count": null,
      "outputs": [
        {
          "output_type": "display_data",
          "data": {
            "text/html": [
              "<style scoped>\n",
              "  .table-result-container {\n",
              "    max-height: 300px;\n",
              "    overflow: auto;\n",
              "  }\n",
              "  table, th, td {\n",
              "    border: 1px solid black;\n",
              "    border-collapse: collapse;\n",
              "  }\n",
              "  th, td {\n",
              "    padding: 5px;\n",
              "  }\n",
              "  th {\n",
              "    text-align: left;\n",
              "  }\n",
              "</style><div class='table-result-container'><table class='table-result'><thead style='background-color: white'><tr><th>Spending Score (1-100)</th><th>Genre</th></tr></thead><tbody><tr><td>39</td><td>Male</td></tr><tr><td>81</td><td>Male</td></tr><tr><td>6</td><td>Female</td></tr><tr><td>77</td><td>Female</td></tr><tr><td>40</td><td>Female</td></tr><tr><td>76</td><td>Female</td></tr><tr><td>6</td><td>Female</td></tr><tr><td>94</td><td>Female</td></tr><tr><td>3</td><td>Male</td></tr><tr><td>72</td><td>Female</td></tr><tr><td>14</td><td>Male</td></tr><tr><td>99</td><td>Female</td></tr><tr><td>15</td><td>Female</td></tr><tr><td>77</td><td>Female</td></tr><tr><td>13</td><td>Male</td></tr><tr><td>79</td><td>Male</td></tr><tr><td>35</td><td>Female</td></tr><tr><td>66</td><td>Male</td></tr><tr><td>29</td><td>Male</td></tr><tr><td>98</td><td>Female</td></tr><tr><td>35</td><td>Male</td></tr><tr><td>73</td><td>Male</td></tr><tr><td>5</td><td>Female</td></tr><tr><td>73</td><td>Male</td></tr><tr><td>14</td><td>Female</td></tr><tr><td>82</td><td>Male</td></tr><tr><td>32</td><td>Female</td></tr><tr><td>61</td><td>Male</td></tr><tr><td>31</td><td>Female</td></tr><tr><td>87</td><td>Female</td></tr><tr><td>4</td><td>Male</td></tr><tr><td>73</td><td>Female</td></tr><tr><td>4</td><td>Male</td></tr><tr><td>92</td><td>Male</td></tr><tr><td>14</td><td>Female</td></tr><tr><td>81</td><td>Female</td></tr><tr><td>17</td><td>Female</td></tr><tr><td>73</td><td>Female</td></tr><tr><td>26</td><td>Female</td></tr><tr><td>75</td><td>Female</td></tr><tr><td>35</td><td>Female</td></tr><tr><td>92</td><td>Male</td></tr><tr><td>36</td><td>Male</td></tr><tr><td>61</td><td>Female</td></tr><tr><td>28</td><td>Female</td></tr><tr><td>65</td><td>Female</td></tr><tr><td>55</td><td>Female</td></tr><tr><td>47</td><td>Female</td></tr><tr><td>42</td><td>Female</td></tr><tr><td>42</td><td>Female</td></tr><tr><td>52</td><td>Female</td></tr><tr><td>60</td><td>Male</td></tr><tr><td>54</td><td>Female</td></tr><tr><td>60</td><td>Male</td></tr><tr><td>45</td><td>Female</td></tr><tr><td>41</td><td>Male</td></tr><tr><td>50</td><td>Female</td></tr><tr><td>46</td><td>Male</td></tr><tr><td>51</td><td>Female</td></tr><tr><td>46</td><td>Male</td></tr><tr><td>56</td><td>Male</td></tr><tr><td>55</td><td>Male</td></tr><tr><td>52</td><td>Female</td></tr><tr><td>59</td><td>Female</td></tr><tr><td>51</td><td>Male</td></tr><tr><td>59</td><td>Male</td></tr><tr><td>50</td><td>Female</td></tr><tr><td>48</td><td>Female</td></tr><tr><td>59</td><td>Male</td></tr><tr><td>47</td><td>Female</td></tr><tr><td>55</td><td>Male</td></tr><tr><td>42</td><td>Female</td></tr><tr><td>49</td><td>Female</td></tr><tr><td>56</td><td>Female</td></tr><tr><td>47</td><td>Male</td></tr><tr><td>54</td><td>Male</td></tr><tr><td>53</td><td>Female</td></tr><tr><td>48</td><td>Male</td></tr><tr><td>52</td><td>Female</td></tr><tr><td>42</td><td>Female</td></tr><tr><td>51</td><td>Male</td></tr><tr><td>55</td><td>Male</td></tr><tr><td>41</td><td>Male</td></tr><tr><td>44</td><td>Female</td></tr><tr><td>57</td><td>Female</td></tr><tr><td>46</td><td>Male</td></tr><tr><td>58</td><td>Female</td></tr><tr><td>55</td><td>Female</td></tr><tr><td>60</td><td>Female</td></tr><tr><td>46</td><td>Female</td></tr><tr><td>55</td><td>Female</td></tr><tr><td>41</td><td>Male</td></tr><tr><td>49</td><td>Male</td></tr><tr><td>40</td><td>Female</td></tr><tr><td>42</td><td>Female</td></tr><tr><td>52</td><td>Male</td></tr><tr><td>47</td><td>Female</td></tr><tr><td>50</td><td>Female</td></tr><tr><td>42</td><td>Male</td></tr><tr><td>49</td><td>Male</td></tr><tr><td>41</td><td>Female</td></tr><tr><td>48</td><td>Female</td></tr><tr><td>59</td><td>Male</td></tr><tr><td>55</td><td>Male</td></tr><tr><td>56</td><td>Male</td></tr><tr><td>42</td><td>Female</td></tr><tr><td>50</td><td>Female</td></tr><tr><td>46</td><td>Male</td></tr><tr><td>43</td><td>Male</td></tr><tr><td>48</td><td>Male</td></tr><tr><td>52</td><td>Male</td></tr><tr><td>54</td><td>Female</td></tr><tr><td>42</td><td>Female</td></tr><tr><td>46</td><td>Male</td></tr><tr><td>48</td><td>Female</td></tr><tr><td>50</td><td>Female</td></tr><tr><td>43</td><td>Female</td></tr><tr><td>59</td><td>Female</td></tr><tr><td>43</td><td>Female</td></tr><tr><td>57</td><td>Female</td></tr><tr><td>56</td><td>Male</td></tr><tr><td>40</td><td>Female</td></tr><tr><td>58</td><td>Female</td></tr><tr><td>91</td><td>Male</td></tr><tr><td>29</td><td>Female</td></tr><tr><td>77</td><td>Female</td></tr><tr><td>35</td><td>Male</td></tr><tr><td>95</td><td>Male</td></tr><tr><td>11</td><td>Male</td></tr><tr><td>75</td><td>Male</td></tr><tr><td>9</td><td>Male</td></tr><tr><td>75</td><td>Male</td></tr><tr><td>34</td><td>Female</td></tr><tr><td>71</td><td>Female</td></tr><tr><td>5</td><td>Male</td></tr><tr><td>88</td><td>Female</td></tr><tr><td>7</td><td>Female</td></tr><tr><td>73</td><td>Male</td></tr><tr><td>10</td><td>Male</td></tr><tr><td>72</td><td>Female</td></tr><tr><td>5</td><td>Female</td></tr><tr><td>93</td><td>Male</td></tr><tr><td>40</td><td>Female</td></tr><tr><td>87</td><td>Female</td></tr><tr><td>12</td><td>Male</td></tr><tr><td>97</td><td>Male</td></tr><tr><td>36</td><td>Male</td></tr><tr><td>74</td><td>Female</td></tr><tr><td>22</td><td>Female</td></tr><tr><td>90</td><td>Male</td></tr><tr><td>17</td><td>Male</td></tr><tr><td>88</td><td>Male</td></tr><tr><td>20</td><td>Female</td></tr><tr><td>76</td><td>Female</td></tr><tr><td>16</td><td>Female</td></tr><tr><td>89</td><td>Female</td></tr><tr><td>1</td><td>Male</td></tr><tr><td>78</td><td>Female</td></tr><tr><td>1</td><td>Male</td></tr><tr><td>73</td><td>Female</td></tr><tr><td>35</td><td>Female</td></tr><tr><td>83</td><td>Female</td></tr><tr><td>5</td><td>Male</td></tr><tr><td>93</td><td>Female</td></tr><tr><td>26</td><td>Male</td></tr><tr><td>75</td><td>Female</td></tr><tr><td>20</td><td>Male</td></tr><tr><td>95</td><td>Female</td></tr><tr><td>27</td><td>Female</td></tr><tr><td>63</td><td>Male</td></tr><tr><td>13</td><td>Male</td></tr><tr><td>75</td><td>Male</td></tr><tr><td>10</td><td>Male</td></tr><tr><td>92</td><td>Male</td></tr><tr><td>13</td><td>Female</td></tr><tr><td>86</td><td>Female</td></tr><tr><td>15</td><td>Male</td></tr><tr><td>69</td><td>Male</td></tr><tr><td>14</td><td>Male</td></tr><tr><td>90</td><td>Male</td></tr><tr><td>32</td><td>Female</td></tr><tr><td>86</td><td>Female</td></tr><tr><td>15</td><td>Male</td></tr><tr><td>88</td><td>Female</td></tr><tr><td>39</td><td>Female</td></tr><tr><td>97</td><td>Male</td></tr><tr><td>24</td><td>Female</td></tr><tr><td>68</td><td>Male</td></tr><tr><td>17</td><td>Female</td></tr><tr><td>85</td><td>Female</td></tr><tr><td>23</td><td>Female</td></tr><tr><td>69</td><td>Female</td></tr><tr><td>8</td><td>Male</td></tr><tr><td>91</td><td>Female</td></tr><tr><td>16</td><td>Female</td></tr><tr><td>79</td><td>Female</td></tr><tr><td>28</td><td>Female</td></tr><tr><td>74</td><td>Male</td></tr><tr><td>18</td><td>Male</td></tr><tr><td>83</td><td>Male</td></tr></tbody></table></div>"
            ]
          },
          "metadata": {
            "tags": []
          }
        }
      ]
    },
    {
      "cell_type": "markdown",
      "metadata": {
        "id": "gJLuwIFxb9w9"
      },
      "source": [
        "Analisando a correlação entre Idade e Nota Atribuída"
      ]
    },
    {
      "cell_type": "code",
      "metadata": {
        "id": "PcYpWZpub9w9",
        "outputId": "614e8f28-2d50-4c81-86f5-6e7191397571"
      },
      "source": [
        "#Analisando as correlações\n",
        "from pyspark.mllib.stat import Statistics"
      ],
      "execution_count": null,
      "outputs": [
        {
          "output_type": "display_data",
          "data": {
            "text/html": [
              "<style scoped>\n",
              "  .ansiout {\n",
              "    display: block;\n",
              "    unicode-bidi: embed;\n",
              "    white-space: pre-wrap;\n",
              "    word-wrap: break-word;\n",
              "    word-break: break-all;\n",
              "    font-family: \"Source Code Pro\", \"Menlo\", monospace;;\n",
              "    font-size: 13px;\n",
              "    color: #555;\n",
              "    margin-left: 4px;\n",
              "    line-height: 19px;\n",
              "  }\n",
              "</style>\n",
              "<div class=\"ansiout\"></div>"
            ]
          },
          "metadata": {
            "tags": []
          }
        }
      ]
    },
    {
      "cell_type": "code",
      "metadata": {
        "id": "6ifz0kyfb9w-",
        "outputId": "94bf27f6-f29c-4021-a45a-70513e0f6ff1"
      },
      "source": [
        "rdd_1=data.select(\"Spending Score (1-100)\").rdd.flatMap(lambda x:x)  #utilizada para transforma das colunas do dataframe em colunas para serem empregadas na análise de correlaçoes\n",
        "rdd_2=data.select(\"Age\").rdd.flatMap(lambda x:x)"
      ],
      "execution_count": null,
      "outputs": [
        {
          "output_type": "display_data",
          "data": {
            "text/html": [
              "<style scoped>\n",
              "  .ansiout {\n",
              "    display: block;\n",
              "    unicode-bidi: embed;\n",
              "    white-space: pre-wrap;\n",
              "    word-wrap: break-word;\n",
              "    word-break: break-all;\n",
              "    font-family: \"Source Code Pro\", \"Menlo\", monospace;;\n",
              "    font-size: 13px;\n",
              "    color: #555;\n",
              "    margin-left: 4px;\n",
              "    line-height: 19px;\n",
              "  }\n",
              "</style>\n",
              "<div class=\"ansiout\"></div>"
            ]
          },
          "metadata": {
            "tags": []
          }
        }
      ]
    },
    {
      "cell_type": "code",
      "metadata": {
        "id": "gxVHjxyxb9w-",
        "outputId": "8e718d8e-6a01-4c28-f426-129bc88db9e0"
      },
      "source": [
        "Statistics.corr(rdd_1,rdd_2,method=\"pearson\")  #definindo a coeficiente de correlação de pearson "
      ],
      "execution_count": null,
      "outputs": [
        {
          "output_type": "display_data",
          "data": {
            "text/html": [
              "<style scoped>\n",
              "  .ansiout {\n",
              "    display: block;\n",
              "    unicode-bidi: embed;\n",
              "    white-space: pre-wrap;\n",
              "    word-wrap: break-word;\n",
              "    word-break: break-all;\n",
              "    font-family: \"Source Code Pro\", \"Menlo\", monospace;;\n",
              "    font-size: 13px;\n",
              "    color: #555;\n",
              "    margin-left: 4px;\n",
              "    line-height: 19px;\n",
              "  }\n",
              "</style>\n",
              "<div class=\"ansiout\">Out[22]: -0.32722684603908925</div>"
            ]
          },
          "metadata": {
            "tags": []
          }
        }
      ]
    },
    {
      "cell_type": "code",
      "metadata": {
        "id": "4HbAnwV5b9w_",
        "outputId": "00a51553-801f-4706-dd3a-5eca7db9a52b"
      },
      "source": [
        "data.stat.corr(\"Age\",\"Annual Income (k$)\",method=\"pearson\")"
      ],
      "execution_count": null,
      "outputs": [
        {
          "output_type": "display_data",
          "data": {
            "text/html": [
              "<style scoped>\n",
              "  .ansiout {\n",
              "    display: block;\n",
              "    unicode-bidi: embed;\n",
              "    white-space: pre-wrap;\n",
              "    word-wrap: break-word;\n",
              "    word-break: break-all;\n",
              "    font-family: \"Source Code Pro\", \"Menlo\", monospace;;\n",
              "    font-size: 13px;\n",
              "    color: #555;\n",
              "    margin-left: 4px;\n",
              "    line-height: 19px;\n",
              "  }\n",
              "</style>\n",
              "<div class=\"ansiout\">Out[23]: -0.01239804273606026</div>"
            ]
          },
          "metadata": {
            "tags": []
          }
        }
      ]
    },
    {
      "cell_type": "markdown",
      "metadata": {
        "id": "hj2BhVRib9w_"
      },
      "source": [
        "Analisando a correlação por gênero"
      ]
    },
    {
      "cell_type": "code",
      "metadata": {
        "id": "TrcInJpWb9w_",
        "outputId": "64d580d0-1bba-428b-d5c4-d9e39a96cca8"
      },
      "source": [
        "#Selecionando os homens\n",
        "homens=data[data.Genre=='Male']\n",
        "homens.show()"
      ],
      "execution_count": null,
      "outputs": [
        {
          "output_type": "display_data",
          "data": {
            "text/html": [
              "<style scoped>\n",
              "  .ansiout {\n",
              "    display: block;\n",
              "    unicode-bidi: embed;\n",
              "    white-space: pre-wrap;\n",
              "    word-wrap: break-word;\n",
              "    word-break: break-all;\n",
              "    font-family: \"Source Code Pro\", \"Menlo\", monospace;;\n",
              "    font-size: 13px;\n",
              "    color: #555;\n",
              "    margin-left: 4px;\n",
              "    line-height: 19px;\n",
              "  }\n",
              "</style>\n",
              "<div class=\"ansiout\">+----------+-----+---+------------------+----------------------+\n",
              "CustomerID|Genre|Age|Annual Income (k$)|Spending Score (1-100)|\n",
              "+----------+-----+---+------------------+----------------------+\n",
              "         1| Male| 19|                15|                    39|\n",
              "         2| Male| 21|                15|                    81|\n",
              "         9| Male| 64|                19|                     3|\n",
              "        11| Male| 67|                19|                    14|\n",
              "        15| Male| 37|                20|                    13|\n",
              "        16| Male| 22|                20|                    79|\n",
              "        18| Male| 20|                21|                    66|\n",
              "        19| Male| 52|                23|                    29|\n",
              "        21| Male| 35|                24|                    35|\n",
              "        22| Male| 25|                24|                    73|\n",
              "        24| Male| 31|                25|                    73|\n",
              "        26| Male| 29|                28|                    82|\n",
              "        28| Male| 35|                28|                    61|\n",
              "        31| Male| 60|                30|                     4|\n",
              "        33| Male| 53|                33|                     4|\n",
              "        34| Male| 18|                33|                    92|\n",
              "        42| Male| 24|                38|                    92|\n",
              "        43| Male| 48|                39|                    36|\n",
              "        52| Male| 33|                42|                    60|\n",
              "        54| Male| 59|                43|                    60|\n",
              "+----------+-----+---+------------------+----------------------+\n",
              "only showing top 20 rows\n",
              "\n",
              "</div>"
            ]
          },
          "metadata": {
            "tags": []
          }
        }
      ]
    },
    {
      "cell_type": "code",
      "metadata": {
        "id": "ZorK7hOJb9xA",
        "outputId": "6497b816-2151-4684-ce5f-b971886b9bbd"
      },
      "source": [
        "#selecionando mulheres\n",
        "mulheres=data[data.Genre=='Female']\n",
        "mulheres.show()"
      ],
      "execution_count": null,
      "outputs": [
        {
          "output_type": "display_data",
          "data": {
            "text/html": [
              "<style scoped>\n",
              "  .ansiout {\n",
              "    display: block;\n",
              "    unicode-bidi: embed;\n",
              "    white-space: pre-wrap;\n",
              "    word-wrap: break-word;\n",
              "    word-break: break-all;\n",
              "    font-family: \"Source Code Pro\", \"Menlo\", monospace;;\n",
              "    font-size: 13px;\n",
              "    color: #555;\n",
              "    margin-left: 4px;\n",
              "    line-height: 19px;\n",
              "  }\n",
              "</style>\n",
              "<div class=\"ansiout\">+----------+------+---+------------------+----------------------+\n",
              "CustomerID| Genre|Age|Annual Income (k$)|Spending Score (1-100)|\n",
              "+----------+------+---+------------------+----------------------+\n",
              "         3|Female| 20|                16|                     6|\n",
              "         4|Female| 23|                16|                    77|\n",
              "         5|Female| 31|                17|                    40|\n",
              "         6|Female| 22|                17|                    76|\n",
              "         7|Female| 35|                18|                     6|\n",
              "         8|Female| 23|                18|                    94|\n",
              "        10|Female| 30|                19|                    72|\n",
              "        12|Female| 35|                19|                    99|\n",
              "        13|Female| 58|                20|                    15|\n",
              "        14|Female| 24|                20|                    77|\n",
              "        17|Female| 35|                21|                    35|\n",
              "        20|Female| 35|                23|                    98|\n",
              "        23|Female| 46|                25|                     5|\n",
              "        25|Female| 54|                28|                    14|\n",
              "        27|Female| 45|                28|                    32|\n",
              "        29|Female| 40|                29|                    31|\n",
              "        30|Female| 23|                29|                    87|\n",
              "        32|Female| 21|                30|                    73|\n",
              "        35|Female| 49|                33|                    14|\n",
              "        36|Female| 21|                33|                    81|\n",
              "+----------+------+---+------------------+----------------------+\n",
              "only showing top 20 rows\n",
              "\n",
              "</div>"
            ]
          },
          "metadata": {
            "tags": []
          }
        }
      ]
    },
    {
      "cell_type": "code",
      "metadata": {
        "id": "WM7MHu8jb9xB",
        "outputId": "cae0ff9c-b7c3-4e8e-e832-12e3ec8d3e27"
      },
      "source": [
        "#correlação entre Idade e o Salário Anual - Homens\n",
        "homens.stat.corr(\"Age\",\"Spending Score (1-100)\",method=\"pearson\")"
      ],
      "execution_count": null,
      "outputs": [
        {
          "output_type": "display_data",
          "data": {
            "text/html": [
              "<style scoped>\n",
              "  .ansiout {\n",
              "    display: block;\n",
              "    unicode-bidi: embed;\n",
              "    white-space: pre-wrap;\n",
              "    word-wrap: break-word;\n",
              "    word-break: break-all;\n",
              "    font-family: \"Source Code Pro\", \"Menlo\", monospace;;\n",
              "    font-size: 13px;\n",
              "    color: #555;\n",
              "    margin-left: 4px;\n",
              "    line-height: 19px;\n",
              "  }\n",
              "</style>\n",
              "<div class=\"ansiout\">Out[26]: -0.27962764627493125</div>"
            ]
          },
          "metadata": {
            "tags": []
          }
        }
      ]
    },
    {
      "cell_type": "code",
      "metadata": {
        "id": "goiFB-GAb9xB",
        "outputId": "061bbdda-bf09-4e10-8e4e-60b04a57e810"
      },
      "source": [
        "#correlação entre Idade e o Salário Anual - Homens\n",
        "mulheres.stat.corr(\"Age\",\"Spending Score (1-100)\",method=\"pearson\")"
      ],
      "execution_count": null,
      "outputs": [
        {
          "output_type": "display_data",
          "data": {
            "text/html": [
              "<style scoped>\n",
              "  .ansiout {\n",
              "    display: block;\n",
              "    unicode-bidi: embed;\n",
              "    white-space: pre-wrap;\n",
              "    word-wrap: break-word;\n",
              "    word-break: break-all;\n",
              "    font-family: \"Source Code Pro\", \"Menlo\", monospace;;\n",
              "    font-size: 13px;\n",
              "    color: #555;\n",
              "    margin-left: 4px;\n",
              "    line-height: 19px;\n",
              "  }\n",
              "</style>\n",
              "<div class=\"ansiout\">Out[27]: -0.3754385837780473</div>"
            ]
          },
          "metadata": {
            "tags": []
          }
        }
      ]
    },
    {
      "cell_type": "markdown",
      "metadata": {
        "id": "SIoZUqw_b9xC"
      },
      "source": [
        "Aplicando o Kmeans"
      ]
    },
    {
      "cell_type": "code",
      "metadata": {
        "id": "z5rsROWDb9xD",
        "outputId": "b5523dff-6de5-4f32-b1f1-361299f4ebd4"
      },
      "source": [
        "from pyspark.ml.evaluation import ClusteringEvaluator  #biblioteca utilizada para a avaliação em cada um dos clusters\n",
        "from pyspark.ml.clustering import KMeans #biblioteca utilizada para a criação do modelo de clusterização utilizando o K-means"
      ],
      "execution_count": null,
      "outputs": [
        {
          "output_type": "display_data",
          "data": {
            "text/html": [
              "<style scoped>\n",
              "  .ansiout {\n",
              "    display: block;\n",
              "    unicode-bidi: embed;\n",
              "    white-space: pre-wrap;\n",
              "    word-wrap: break-word;\n",
              "    word-break: break-all;\n",
              "    font-family: \"Source Code Pro\", \"Menlo\", monospace;;\n",
              "    font-size: 13px;\n",
              "    color: #555;\n",
              "    margin-left: 4px;\n",
              "    line-height: 19px;\n",
              "  }\n",
              "</style>\n",
              "<div class=\"ansiout\"></div>"
            ]
          },
          "metadata": {
            "tags": []
          }
        }
      ]
    },
    {
      "cell_type": "code",
      "metadata": {
        "id": "uYmg5YGbb9xE",
        "outputId": "d37dc058-bf31-4219-8e4e-b6996b180562"
      },
      "source": [
        "from pyspark.ml.feature import VectorAssembler  #transformando os dados em vetores de características\n",
        "\n",
        "vecAssembler = VectorAssembler(inputCols=[\"Spending Score (1-100)\",\"Annual Income (k$)\"], outputCol=\"features\") #utilizada para transformar os dados em um vetor (define o objeto)\n",
        "new_df = vecAssembler.transform(data) #Aplico a transformação\n",
        "new_df.show()"
      ],
      "execution_count": null,
      "outputs": [
        {
          "output_type": "display_data",
          "data": {
            "text/html": [
              "<style scoped>\n",
              "  .ansiout {\n",
              "    display: block;\n",
              "    unicode-bidi: embed;\n",
              "    white-space: pre-wrap;\n",
              "    word-wrap: break-word;\n",
              "    word-break: break-all;\n",
              "    font-family: \"Source Code Pro\", \"Menlo\", monospace;;\n",
              "    font-size: 13px;\n",
              "    color: #555;\n",
              "    margin-left: 4px;\n",
              "    line-height: 19px;\n",
              "  }\n",
              "</style>\n",
              "<div class=\"ansiout\">+----------+------+---+------------------+----------------------+-----------+\n",
              "CustomerID| Genre|Age|Annual Income (k$)|Spending Score (1-100)|   features|\n",
              "+----------+------+---+------------------+----------------------+-----------+\n",
              "         1|  Male| 19|                15|                    39|[39.0,15.0]|\n",
              "         2|  Male| 21|                15|                    81|[81.0,15.0]|\n",
              "         3|Female| 20|                16|                     6| [6.0,16.0]|\n",
              "         4|Female| 23|                16|                    77|[77.0,16.0]|\n",
              "         5|Female| 31|                17|                    40|[40.0,17.0]|\n",
              "         6|Female| 22|                17|                    76|[76.0,17.0]|\n",
              "         7|Female| 35|                18|                     6| [6.0,18.0]|\n",
              "         8|Female| 23|                18|                    94|[94.0,18.0]|\n",
              "         9|  Male| 64|                19|                     3| [3.0,19.0]|\n",
              "        10|Female| 30|                19|                    72|[72.0,19.0]|\n",
              "        11|  Male| 67|                19|                    14|[14.0,19.0]|\n",
              "        12|Female| 35|                19|                    99|[99.0,19.0]|\n",
              "        13|Female| 58|                20|                    15|[15.0,20.0]|\n",
              "        14|Female| 24|                20|                    77|[77.0,20.0]|\n",
              "        15|  Male| 37|                20|                    13|[13.0,20.0]|\n",
              "        16|  Male| 22|                20|                    79|[79.0,20.0]|\n",
              "        17|Female| 35|                21|                    35|[35.0,21.0]|\n",
              "        18|  Male| 20|                21|                    66|[66.0,21.0]|\n",
              "        19|  Male| 52|                23|                    29|[29.0,23.0]|\n",
              "        20|Female| 35|                23|                    98|[98.0,23.0]|\n",
              "+----------+------+---+------------------+----------------------+-----------+\n",
              "only showing top 20 rows\n",
              "\n",
              "</div>"
            ]
          },
          "metadata": {
            "tags": []
          }
        }
      ]
    },
    {
      "cell_type": "code",
      "metadata": {
        "id": "83wvgN4ab9xG",
        "outputId": "718dde36-0289-4646-d899-b6dc5fe269b4"
      },
      "source": [
        "#aplica o processo de clusterização\n",
        "kmeans = KMeans(k=5, seed=1)  # declara o objeto - 3 clusters \n",
        "model = kmeans.fit(new_df.select('features')) #aplica o treinamento"
      ],
      "execution_count": null,
      "outputs": [
        {
          "output_type": "display_data",
          "data": {
            "text/html": [
              "<style scoped>\n",
              "  .ansiout {\n",
              "    display: block;\n",
              "    unicode-bidi: embed;\n",
              "    white-space: pre-wrap;\n",
              "    word-wrap: break-word;\n",
              "    word-break: break-all;\n",
              "    font-family: \"Source Code Pro\", \"Menlo\", monospace;;\n",
              "    font-size: 13px;\n",
              "    color: #555;\n",
              "    margin-left: 4px;\n",
              "    line-height: 19px;\n",
              "  }\n",
              "</style>\n",
              "<div class=\"ansiout\"></div>"
            ]
          },
          "metadata": {
            "tags": []
          }
        }
      ]
    },
    {
      "cell_type": "code",
      "metadata": {
        "id": "5mElGMnWb9xH",
        "outputId": "4d30a162-ea03-4fc6-ee9c-ad5e75e30825"
      },
      "source": [
        "#cria o dataset com a indicação sobre qual cluster cada conjunto de dados foi adicionado\n",
        "df_final = model.transform(new_df)\n",
        "df_final.show() "
      ],
      "execution_count": null,
      "outputs": [
        {
          "output_type": "display_data",
          "data": {
            "text/html": [
              "<style scoped>\n",
              "  .ansiout {\n",
              "    display: block;\n",
              "    unicode-bidi: embed;\n",
              "    white-space: pre-wrap;\n",
              "    word-wrap: break-word;\n",
              "    word-break: break-all;\n",
              "    font-family: \"Source Code Pro\", \"Menlo\", monospace;;\n",
              "    font-size: 13px;\n",
              "    color: #555;\n",
              "    margin-left: 4px;\n",
              "    line-height: 19px;\n",
              "  }\n",
              "</style>\n",
              "<div class=\"ansiout\">+----------+------+---+------------------+----------------------+-----------+----------+\n",
              "CustomerID| Genre|Age|Annual Income (k$)|Spending Score (1-100)|   features|prediction|\n",
              "+----------+------+---+------------------+----------------------+-----------+----------+\n",
              "         1|  Male| 19|                15|                    39|[39.0,15.0]|         4|\n",
              "         2|  Male| 21|                15|                    81|[81.0,15.0]|         1|\n",
              "         3|Female| 20|                16|                     6| [6.0,16.0]|         4|\n",
              "         4|Female| 23|                16|                    77|[77.0,16.0]|         1|\n",
              "         5|Female| 31|                17|                    40|[40.0,17.0]|         4|\n",
              "         6|Female| 22|                17|                    76|[76.0,17.0]|         1|\n",
              "         7|Female| 35|                18|                     6| [6.0,18.0]|         4|\n",
              "         8|Female| 23|                18|                    94|[94.0,18.0]|         1|\n",
              "         9|  Male| 64|                19|                     3| [3.0,19.0]|         4|\n",
              "        10|Female| 30|                19|                    72|[72.0,19.0]|         1|\n",
              "        11|  Male| 67|                19|                    14|[14.0,19.0]|         4|\n",
              "        12|Female| 35|                19|                    99|[99.0,19.0]|         1|\n",
              "        13|Female| 58|                20|                    15|[15.0,20.0]|         4|\n",
              "        14|Female| 24|                20|                    77|[77.0,20.0]|         1|\n",
              "        15|  Male| 37|                20|                    13|[13.0,20.0]|         4|\n",
              "        16|  Male| 22|                20|                    79|[79.0,20.0]|         1|\n",
              "        17|Female| 35|                21|                    35|[35.0,21.0]|         4|\n",
              "        18|  Male| 20|                21|                    66|[66.0,21.0]|         1|\n",
              "        19|  Male| 52|                23|                    29|[29.0,23.0]|         4|\n",
              "        20|Female| 35|                23|                    98|[98.0,23.0]|         1|\n",
              "+----------+------+---+------------------+----------------------+-----------+----------+\n",
              "only showing top 20 rows\n",
              "\n",
              "</div>"
            ]
          },
          "metadata": {
            "tags": []
          }
        }
      ]
    },
    {
      "cell_type": "code",
      "metadata": {
        "id": "4PEHiSuZb9xI",
        "outputId": "3d2c1e14-b0cb-4898-e283-bef00eeb9df5"
      },
      "source": [
        "data.describe().show()"
      ],
      "execution_count": null,
      "outputs": [
        {
          "output_type": "display_data",
          "data": {
            "text/html": [
              "<style scoped>\n",
              "  .ansiout {\n",
              "    display: block;\n",
              "    unicode-bidi: embed;\n",
              "    white-space: pre-wrap;\n",
              "    word-wrap: break-word;\n",
              "    word-break: break-all;\n",
              "    font-family: \"Source Code Pro\", \"Menlo\", monospace;;\n",
              "    font-size: 13px;\n",
              "    color: #555;\n",
              "    margin-left: 4px;\n",
              "    line-height: 19px;\n",
              "  }\n",
              "</style>\n",
              "<div class=\"ansiout\">+-------+------------------+------+-----------------+------------------+----------------------+\n",
              "summary|        CustomerID| Genre|              Age|Annual Income (k$)|Spending Score (1-100)|\n",
              "+-------+------------------+------+-----------------+------------------+----------------------+\n",
              "  count|               200|   200|              200|               200|                   200|\n",
              "   mean|             100.5|  null|            38.85|             60.56|                  50.2|\n",
              " stddev|57.879184513951124|  null|13.96900733155888| 26.26472116527124|    25.823521668370173|\n",
              "    min|                 1|Female|               18|                15|                     1|\n",
              "    max|               200|  Male|               70|               137|                    99|\n",
              "+-------+------------------+------+-----------------+------------------+----------------------+\n",
              "\n",
              "</div>"
            ]
          },
          "metadata": {
            "tags": []
          }
        }
      ]
    },
    {
      "cell_type": "code",
      "metadata": {
        "id": "zviUsFGnb9xK",
        "outputId": "d55afff2-d076-4939-d864-ab636d63712f"
      },
      "source": [
        "df_final.groupby('prediction').count().show()"
      ],
      "execution_count": null,
      "outputs": [
        {
          "output_type": "display_data",
          "data": {
            "text/html": [
              "<style scoped>\n",
              "  .ansiout {\n",
              "    display: block;\n",
              "    unicode-bidi: embed;\n",
              "    white-space: pre-wrap;\n",
              "    word-wrap: break-word;\n",
              "    word-break: break-all;\n",
              "    font-family: \"Source Code Pro\", \"Menlo\", monospace;;\n",
              "    font-size: 13px;\n",
              "    color: #555;\n",
              "    margin-left: 4px;\n",
              "    line-height: 19px;\n",
              "  }\n",
              "</style>\n",
              "<div class=\"ansiout\">+----------+-----+\n",
              "prediction|count|\n",
              "+----------+-----+\n",
              "         1|   22|\n",
              "         3|   35|\n",
              "         4|   23|\n",
              "         2|   39|\n",
              "         0|   81|\n",
              "+----------+-----+\n",
              "\n",
              "</div>"
            ]
          },
          "metadata": {
            "tags": []
          }
        }
      ]
    },
    {
      "cell_type": "code",
      "metadata": {
        "id": "oyUvRG0kb9xL",
        "outputId": "65d9fb9d-b9c3-46e8-b5eb-afc27d0fc9a1"
      },
      "source": [
        "#transformando os dados utilizando o pandas \n",
        "data_pandas = df_final.toPandas().set_index('CustomerID')\n",
        "data_pandas.head()"
      ],
      "execution_count": null,
      "outputs": [
        {
          "output_type": "display_data",
          "data": {
            "text/html": [
              "<div>\n",
              "<style scoped>\n",
              "    .dataframe tbody tr th:only-of-type {\n",
              "        vertical-align: middle;\n",
              "    }\n",
              "\n",
              "    .dataframe tbody tr th {\n",
              "        vertical-align: top;\n",
              "    }\n",
              "\n",
              "    .dataframe thead th {\n",
              "        text-align: right;\n",
              "    }\n",
              "</style>\n",
              "<table border=\"1\" class=\"dataframe\">\n",
              "  <thead>\n",
              "    <tr style=\"text-align: right;\">\n",
              "      <th></th>\n",
              "      <th>Genre</th>\n",
              "      <th>Age</th>\n",
              "      <th>Annual Income (k$)</th>\n",
              "      <th>Spending Score (1-100)</th>\n",
              "      <th>features</th>\n",
              "      <th>prediction</th>\n",
              "    </tr>\n",
              "    <tr>\n",
              "      <th>CustomerID</th>\n",
              "      <th></th>\n",
              "      <th></th>\n",
              "      <th></th>\n",
              "      <th></th>\n",
              "      <th></th>\n",
              "      <th></th>\n",
              "    </tr>\n",
              "  </thead>\n",
              "  <tbody>\n",
              "    <tr>\n",
              "      <th>1</th>\n",
              "      <td>Male</td>\n",
              "      <td>19</td>\n",
              "      <td>15</td>\n",
              "      <td>39</td>\n",
              "      <td>[39.0, 15.0]</td>\n",
              "      <td>4</td>\n",
              "    </tr>\n",
              "    <tr>\n",
              "      <th>2</th>\n",
              "      <td>Male</td>\n",
              "      <td>21</td>\n",
              "      <td>15</td>\n",
              "      <td>81</td>\n",
              "      <td>[81.0, 15.0]</td>\n",
              "      <td>1</td>\n",
              "    </tr>\n",
              "    <tr>\n",
              "      <th>3</th>\n",
              "      <td>Female</td>\n",
              "      <td>20</td>\n",
              "      <td>16</td>\n",
              "      <td>6</td>\n",
              "      <td>[6.0, 16.0]</td>\n",
              "      <td>4</td>\n",
              "    </tr>\n",
              "    <tr>\n",
              "      <th>4</th>\n",
              "      <td>Female</td>\n",
              "      <td>23</td>\n",
              "      <td>16</td>\n",
              "      <td>77</td>\n",
              "      <td>[77.0, 16.0]</td>\n",
              "      <td>1</td>\n",
              "    </tr>\n",
              "    <tr>\n",
              "      <th>5</th>\n",
              "      <td>Female</td>\n",
              "      <td>31</td>\n",
              "      <td>17</td>\n",
              "      <td>40</td>\n",
              "      <td>[40.0, 17.0]</td>\n",
              "      <td>4</td>\n",
              "    </tr>\n",
              "  </tbody>\n",
              "</table>\n",
              "</div>"
            ]
          },
          "metadata": {
            "tags": []
          }
        }
      ]
    },
    {
      "cell_type": "code",
      "metadata": {
        "id": "LhOXzwRCb9xN"
      },
      "source": [
        "import matplotlib.pyplot as plt\n",
        "\n",
        "plt.figure(figsize=(12,10))\n",
        "plt.scatter(data_pandas['Annual Income (k$)'], data_pandas['Spending Score (1-100)'], c=data_pandas.prediction)\n",
        "plt.xlabel('Annual Income (k$)')\n",
        "plt.ylabel('Spending Score (1-100)')\n",
        "plt.show()"
      ],
      "execution_count": null,
      "outputs": []
    }
  ]
}