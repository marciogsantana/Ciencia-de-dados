{
  "nbformat": 4,
  "nbformat_minor": 0,
  "metadata": {
    "name": "regressao",
    "notebookId": 2179804067390176,
    "colab": {
      "name": "svm.ipynb",
      "provenance": [],
      "include_colab_link": true
    }
  },
  "cells": [
    {
      "cell_type": "markdown",
      "metadata": {
        "id": "view-in-github",
        "colab_type": "text"
      },
      "source": [
        "<a href=\"https://colab.research.google.com/github/marciogsantana/Ciencia-de-dados/blob/main/svm.ipynb\" target=\"_parent\"><img src=\"https://colab.research.google.com/assets/colab-badge.svg\" alt=\"Open In Colab\"/></a>"
      ]
    },
    {
      "cell_type": "code",
      "metadata": {
        "id": "wD_0Jd-TB-8t",
        "outputId": "d8904269-501a-454e-877e-5a371b9a29c0"
      },
      "source": [
        "#noetbook utilizado para a aula sobre SVM"
      ],
      "execution_count": null,
      "outputs": [
        {
          "output_type": "display_data",
          "data": {
            "text/html": [
              "<style scoped>\n",
              "  .ansiout {\n",
              "    display: block;\n",
              "    unicode-bidi: embed;\n",
              "    white-space: pre-wrap;\n",
              "    word-wrap: break-word;\n",
              "    word-break: break-all;\n",
              "    font-family: \"Source Code Pro\", \"Menlo\", monospace;;\n",
              "    font-size: 13px;\n",
              "    color: #555;\n",
              "    margin-left: 4px;\n",
              "    line-height: 19px;\n",
              "  }\n",
              "</style>\n",
              "<div class=\"ansiout\"></div>"
            ]
          },
          "metadata": {
            "tags": []
          }
        }
      ]
    },
    {
      "cell_type": "code",
      "metadata": {
        "id": "o7gj4C3FB-83",
        "outputId": "3fcbfbf0-1d22-4e96-b419-dd6dff7f2182"
      },
      "source": [
        "from pyspark.sql import SparkSession #importa a biblioteca que cria a seção do spark\n"
      ],
      "execution_count": null,
      "outputs": [
        {
          "output_type": "display_data",
          "data": {
            "text/html": [
              "<style scoped>\n",
              "  .ansiout {\n",
              "    display: block;\n",
              "    unicode-bidi: embed;\n",
              "    white-space: pre-wrap;\n",
              "    word-wrap: break-word;\n",
              "    word-break: break-all;\n",
              "    font-family: \"Source Code Pro\", \"Menlo\", monospace;;\n",
              "    font-size: 13px;\n",
              "    color: #555;\n",
              "    margin-left: 4px;\n",
              "    line-height: 19px;\n",
              "  }\n",
              "</style>\n",
              "<div class=\"ansiout\"></div>"
            ]
          },
          "metadata": {
            "tags": []
          }
        }
      ]
    },
    {
      "cell_type": "code",
      "metadata": {
        "id": "jiQ0uHrfB-85",
        "outputId": "9b33b56b-2d04-4d92-e9b4-9710c46e5b61"
      },
      "source": [
        "#inicia a seção para a utilização do spark\n",
        "spark = SparkSession.builder.appName(\"SVM_MLP\").getOrCreate() #cria a seção caso não exista ou obtém a já criada"
      ],
      "execution_count": null,
      "outputs": [
        {
          "output_type": "display_data",
          "data": {
            "text/html": [
              "<style scoped>\n",
              "  .ansiout {\n",
              "    display: block;\n",
              "    unicode-bidi: embed;\n",
              "    white-space: pre-wrap;\n",
              "    word-wrap: break-word;\n",
              "    word-break: break-all;\n",
              "    font-family: \"Source Code Pro\", \"Menlo\", monospace;;\n",
              "    font-size: 13px;\n",
              "    color: #555;\n",
              "    margin-left: 4px;\n",
              "    line-height: 19px;\n",
              "  }\n",
              "</style>\n",
              "<div class=\"ansiout\"></div>"
            ]
          },
          "metadata": {
            "tags": []
          }
        }
      ]
    },
    {
      "cell_type": "code",
      "metadata": {
        "id": "yvYLE46xB-85",
        "outputId": "73d0cc7b-5181-4404-f07c-c34c005f3410"
      },
      "source": [
        "%fs ls /FileStore/tables"
      ],
      "execution_count": null,
      "outputs": [
        {
          "output_type": "display_data",
          "data": {
            "text/html": [
              "<style scoped>\n",
              "  .table-result-container {\n",
              "    max-height: 300px;\n",
              "    overflow: auto;\n",
              "  }\n",
              "  table, th, td {\n",
              "    border: 1px solid black;\n",
              "    border-collapse: collapse;\n",
              "  }\n",
              "  th, td {\n",
              "    padding: 5px;\n",
              "  }\n",
              "  th {\n",
              "    text-align: left;\n",
              "  }\n",
              "</style><div class='table-result-container'><table class='table-result'><thead style='background-color: white'><tr><th>path</th><th>name</th><th>size</th></tr></thead><tbody><tr><td>dbfs:/FileStore/tables/Police_Department_Incident_Reports__Historical_2003_to_May_2018.csv</td><td>Police_Department_Incident_Reports__Historical_2003_to_May_2018.csv</td><td>463094961</td></tr><tr><td>dbfs:/FileStore/tables/d1995_07_01-24d0c.json</td><td>d1995_07_01-24d0c.json</td><td>7451741</td></tr><tr><td>dbfs:/FileStore/tables/d1995_07_02-c3f44.json</td><td>d1995_07_02-c3f44.json</td><td>9572086</td></tr><tr><td>dbfs:/FileStore/tables/d1995_07_03-f99af.json</td><td>d1995_07_03-f99af.json</td><td>14125303</td></tr><tr><td>dbfs:/FileStore/tables/d1995_07_04-c5a7f.json</td><td>d1995_07_04-c5a7f.json</td><td>12030333</td></tr><tr><td>dbfs:/FileStore/tables/d1995_07_05-0f261.json</td><td>d1995_07_05-0f261.json</td><td>14662194</td></tr><tr><td>dbfs:/FileStore/tables/d1995_07_06-20619.json</td><td>d1995_07_06-20619.json</td><td>15557682</td></tr><tr><td>dbfs:/FileStore/tables/d1995_07_07-2dd8d.json</td><td>d1995_07_07-2dd8d.json</td><td>15279295</td></tr><tr><td>dbfs:/FileStore/tables/d1995_07_08-83302.json</td><td>d1995_07_08-83302.json</td><td>7033852</td></tr><tr><td>dbfs:/FileStore/tables/d1995_07_09-f75d3.json</td><td>d1995_07_09-f75d3.json</td><td>5589076</td></tr><tr><td>dbfs:/FileStore/tables/d1995_07_10-160a3.json</td><td>d1995_07_10-160a3.json</td><td>10616482</td></tr><tr><td>dbfs:/FileStore/tables/d1995_07_11-8800f.json</td><td>d1995_07_11-8800f.json</td><td>12486245</td></tr><tr><td>dbfs:/FileStore/tables/d1995_07_12-3091c.json</td><td>d1995_07_12-3091c.json</td><td>14080494</td></tr><tr><td>dbfs:/FileStore/tables/d1995_07_13-242b2.json</td><td>d1995_07_13-242b2.json</td><td>21989188</td></tr><tr><td>dbfs:/FileStore/tables/d1995_07_14-bab67.json</td><td>d1995_07_14-bab67.json</td><td>13780636</td></tr><tr><td>dbfs:/FileStore/tables/d1995_07_15-57e08.json</td><td>d1995_07_15-57e08.json</td><td>8057272</td></tr><tr><td>dbfs:/FileStore/tables/d1995_07_16-2ca03.json</td><td>d1995_07_16-2ca03.json</td><td>7171848</td></tr><tr><td>dbfs:/FileStore/tables/d1995_07_17-905a5.json</td><td>d1995_07_17-905a5.json</td><td>11897536</td></tr><tr><td>dbfs:/FileStore/tables/d1995_07_18-13b8b.json</td><td>d1995_07_18-13b8b.json</td><td>10569098</td></tr><tr><td>dbfs:/FileStore/tables/d1995_07_19-e2537.json</td><td>d1995_07_19-e2537.json</td><td>11515206</td></tr><tr><td>dbfs:/FileStore/tables/d1995_07_20-0f6d2.json</td><td>d1995_07_20-0f6d2.json</td><td>11049142</td></tr><tr><td>dbfs:/FileStore/tables/d1995_07_21-37a88.json</td><td>d1995_07_21-37a88.json</td><td>10475868</td></tr><tr><td>dbfs:/FileStore/tables/d1995_07_22-3b894.json</td><td>d1995_07_22-3b894.json</td><td>6028420</td></tr><tr><td>dbfs:/FileStore/tables/d1995_07_23-8d606.json</td><td>d1995_07_23-8d606.json</td><td>5620028</td></tr><tr><td>dbfs:/FileStore/tables/d1995_07_24-bcae5.json</td><td>d1995_07_24-bcae5.json</td><td>10433367</td></tr><tr><td>dbfs:/FileStore/tables/d1995_07_25-22c14.json</td><td>d1995_07_25-22c14.json</td><td>9883055</td></tr><tr><td>dbfs:/FileStore/tables/d1995_07_26-8a504.json</td><td>d1995_07_26-8a504.json</td><td>9087395</td></tr><tr><td>dbfs:/FileStore/tables/d1995_07_27-32f69.json</td><td>d1995_07_27-32f69.json</td><td>10172162</td></tr><tr><td>dbfs:/FileStore/tables/d1995_07_28-8d6d2.json</td><td>d1995_07_28-8d6d2.json</td><td>6206927</td></tr><tr><td>dbfs:/FileStore/tables/designation.json</td><td>designation.json</td><td>400</td></tr><tr><td>dbfs:/FileStore/tables/digits.csv</td><td>digits.csv</td><td>338477</td></tr><tr><td>dbfs:/FileStore/tables/digitsNew.csv</td><td>digitsNew.csv</td><td>76775041</td></tr><tr><td>dbfs:/FileStore/tables/iris_bezdekIris.csv</td><td>iris_bezdekIris.csv</td><td>4551</td></tr><tr><td>dbfs:/FileStore/tables/kddcup_data_10_percent_corrected-2f6f3</td><td>kddcup_data_10_percent_corrected-2f6f3</td><td>74889749</td></tr><tr><td>dbfs:/FileStore/tables/regressaoLinear.csv</td><td>regressaoLinear.csv</td><td>564</td></tr><tr><td>dbfs:/FileStore/tables/salario_df.csv</td><td>salario_df.csv</td><td>2505</td></tr><tr><td>dbfs:/FileStore/tables/salary.json</td><td>salary.json</td><td>361</td></tr><tr><td>dbfs:/FileStore/tables/temperature.csv</td><td>temperature.csv</td><td>13971171</td></tr><tr><td>dbfs:/FileStore/tables/transport_nodes-7c826.csv</td><td>transport_nodes-7c826.csv</td><td>465</td></tr><tr><td>dbfs:/FileStore/tables/transport_relationships-c2bfc.csv</td><td>transport_relationships-c2bfc.csv</td><td>550</td></tr><tr><td>dbfs:/FileStore/tables/u.data</td><td>u.data</td><td>1979173</td></tr><tr><td>dbfs:/FileStore/tables/winequality_red-42ff5.csv</td><td>winequality_red-42ff5.csv</td><td>84199</td></tr><tr><td>dbfs:/FileStore/tables/worldcities.csv</td><td>worldcities.csv</td><td>1667065</td></tr></tbody></table></div>"
            ]
          },
          "metadata": {
            "tags": []
          }
        }
      ]
    },
    {
      "cell_type": "code",
      "metadata": {
        "id": "0AN8i6u1B-86",
        "outputId": "0e2e3625-943f-40a2-8de4-8231335b117c"
      },
      "source": [
        "diretorioArvore=\"/FileStore/tables/iris_bezdekIris.csv\"  #diretório que contém o arquivo a ser utilizado"
      ],
      "execution_count": null,
      "outputs": [
        {
          "output_type": "display_data",
          "data": {
            "text/html": [
              "<style scoped>\n",
              "  .ansiout {\n",
              "    display: block;\n",
              "    unicode-bidi: embed;\n",
              "    white-space: pre-wrap;\n",
              "    word-wrap: break-word;\n",
              "    word-break: break-all;\n",
              "    font-family: \"Source Code Pro\", \"Menlo\", monospace;;\n",
              "    font-size: 13px;\n",
              "    color: #555;\n",
              "    margin-left: 4px;\n",
              "    line-height: 19px;\n",
              "  }\n",
              "</style>\n",
              "<div class=\"ansiout\"></div>"
            ]
          },
          "metadata": {
            "tags": []
          }
        }
      ]
    },
    {
      "cell_type": "code",
      "metadata": {
        "id": "rBJuXuQsB-87",
        "outputId": "002f5756-cff2-4de8-f6dd-c35419ec9bf7"
      },
      "source": [
        "#lendo arquivos armazenados CSV com o esquema definido\n",
        "df_iris = spark.read.format('csv').options(inferSchema=True,header='false',delimiter=',').load(diretorioArvore)"
      ],
      "execution_count": null,
      "outputs": [
        {
          "output_type": "display_data",
          "data": {
            "text/html": [
              "<style scoped>\n",
              "  .ansiout {\n",
              "    display: block;\n",
              "    unicode-bidi: embed;\n",
              "    white-space: pre-wrap;\n",
              "    word-wrap: break-word;\n",
              "    word-break: break-all;\n",
              "    font-family: \"Source Code Pro\", \"Menlo\", monospace;;\n",
              "    font-size: 13px;\n",
              "    color: #555;\n",
              "    margin-left: 4px;\n",
              "    line-height: 19px;\n",
              "  }\n",
              "</style>\n",
              "<div class=\"ansiout\"></div>"
            ]
          },
          "metadata": {
            "tags": []
          }
        }
      ]
    },
    {
      "cell_type": "code",
      "metadata": {
        "id": "YVoXlqBqB-88",
        "outputId": "bf80c98c-3647-4aa6-928e-9beb937d8638"
      },
      "source": [
        "df_iris.printSchema()"
      ],
      "execution_count": null,
      "outputs": [
        {
          "output_type": "display_data",
          "data": {
            "text/html": [
              "<style scoped>\n",
              "  .ansiout {\n",
              "    display: block;\n",
              "    unicode-bidi: embed;\n",
              "    white-space: pre-wrap;\n",
              "    word-wrap: break-word;\n",
              "    word-break: break-all;\n",
              "    font-family: \"Source Code Pro\", \"Menlo\", monospace;;\n",
              "    font-size: 13px;\n",
              "    color: #555;\n",
              "    margin-left: 4px;\n",
              "    line-height: 19px;\n",
              "  }\n",
              "</style>\n",
              "<div class=\"ansiout\">root\n",
              "-- _c0: double (nullable = true)\n",
              "-- _c1: double (nullable = true)\n",
              "-- _c2: double (nullable = true)\n",
              "-- _c3: double (nullable = true)\n",
              "-- _c4: string (nullable = true)\n",
              "\n",
              "</div>"
            ]
          },
          "metadata": {
            "tags": []
          }
        }
      ]
    },
    {
      "cell_type": "code",
      "metadata": {
        "id": "G0LzMwEIB-88",
        "outputId": "c6e97629-a36a-49ab-c07d-d5474fa7f2d7"
      },
      "source": [
        "#modificando o nome das colunas existentes no cabeçalho \n",
        "df_iris = df_iris.selectExpr(\"_c0 as sep_len\", \"_c1 as sep_wid\", \"_c2 as pet_len\", \"_c3 as pet_wid\", \"_c4 as label\")"
      ],
      "execution_count": null,
      "outputs": [
        {
          "output_type": "display_data",
          "data": {
            "text/html": [
              "<style scoped>\n",
              "  .ansiout {\n",
              "    display: block;\n",
              "    unicode-bidi: embed;\n",
              "    white-space: pre-wrap;\n",
              "    word-wrap: break-word;\n",
              "    word-break: break-all;\n",
              "    font-family: \"Source Code Pro\", \"Menlo\", monospace;;\n",
              "    font-size: 13px;\n",
              "    color: #555;\n",
              "    margin-left: 4px;\n",
              "    line-height: 19px;\n",
              "  }\n",
              "</style>\n",
              "<div class=\"ansiout\"></div>"
            ]
          },
          "metadata": {
            "tags": []
          }
        }
      ]
    },
    {
      "cell_type": "code",
      "metadata": {
        "id": "aPAvfs7tB-89",
        "outputId": "53f8dc77-9b32-4ca0-a656-6656a54dfe36"
      },
      "source": [
        "df_iris.show(5)"
      ],
      "execution_count": null,
      "outputs": [
        {
          "output_type": "display_data",
          "data": {
            "text/html": [
              "<style scoped>\n",
              "  .ansiout {\n",
              "    display: block;\n",
              "    unicode-bidi: embed;\n",
              "    white-space: pre-wrap;\n",
              "    word-wrap: break-word;\n",
              "    word-break: break-all;\n",
              "    font-family: \"Source Code Pro\", \"Menlo\", monospace;;\n",
              "    font-size: 13px;\n",
              "    color: #555;\n",
              "    margin-left: 4px;\n",
              "    line-height: 19px;\n",
              "  }\n",
              "</style>\n",
              "<div class=\"ansiout\">+-------+-------+-------+-------+-----------+\n",
              "sep_len|sep_wid|pet_len|pet_wid|      label|\n",
              "+-------+-------+-------+-------+-----------+\n",
              "    5.1|    3.5|    1.4|    0.2|Iris-setosa|\n",
              "    4.9|    3.0|    1.4|    0.2|Iris-setosa|\n",
              "    4.7|    3.2|    1.3|    0.2|Iris-setosa|\n",
              "    4.6|    3.1|    1.5|    0.2|Iris-setosa|\n",
              "    5.0|    3.6|    1.4|    0.2|Iris-setosa|\n",
              "+-------+-------+-------+-------+-----------+\n",
              "only showing top 5 rows\n",
              "\n",
              "</div>"
            ]
          },
          "metadata": {
            "tags": []
          }
        }
      ]
    },
    {
      "cell_type": "markdown",
      "metadata": {
        "id": "QaInVXeWB-89"
      },
      "source": [
        "Conhecendo o Banco de Dados"
      ]
    },
    {
      "cell_type": "code",
      "metadata": {
        "id": "IRIuPBWyB-8-",
        "outputId": "1d9335c0-3a6d-47cc-b014-3a7c133cab87"
      },
      "source": [
        "#encontrando as \"estatísticas\"\n",
        "df_iris.describe(['sep_len','sep_wid','pet_len','pet_wid']).show()"
      ],
      "execution_count": null,
      "outputs": [
        {
          "output_type": "display_data",
          "data": {
            "text/html": [
              "<style scoped>\n",
              "  .ansiout {\n",
              "    display: block;\n",
              "    unicode-bidi: embed;\n",
              "    white-space: pre-wrap;\n",
              "    word-wrap: break-word;\n",
              "    word-break: break-all;\n",
              "    font-family: \"Source Code Pro\", \"Menlo\", monospace;;\n",
              "    font-size: 13px;\n",
              "    color: #555;\n",
              "    margin-left: 4px;\n",
              "    line-height: 19px;\n",
              "  }\n",
              "</style>\n",
              "<div class=\"ansiout\">+-------+------------------+-------------------+------------------+------------------+\n",
              "summary|           sep_len|            sep_wid|           pet_len|           pet_wid|\n",
              "+-------+------------------+-------------------+------------------+------------------+\n",
              "  count|               150|                150|               150|               150|\n",
              "   mean| 5.843333333333335|  3.057333333333334|3.7580000000000027| 1.199333333333334|\n",
              " stddev|0.8280661279778637|0.43586628493669793|1.7652982332594662|0.7622376689603467|\n",
              "    min|               4.3|                2.0|               1.0|               0.1|\n",
              "    max|               7.9|                4.4|               6.9|               2.5|\n",
              "+-------+------------------+-------------------+------------------+------------------+\n",
              "\n",
              "</div>"
            ]
          },
          "metadata": {
            "tags": []
          }
        }
      ]
    },
    {
      "cell_type": "code",
      "metadata": {
        "id": "-pUBG8e_B-8-",
        "outputId": "cda0143b-018d-4d43-8e39-cda551b0e9d3"
      },
      "source": [
        "#definindo a visão do dataframe para ser utilizado como uma tabela pelo SQL\n",
        "df_iris.createOrReplaceTempView(\"irisTable\")"
      ],
      "execution_count": null,
      "outputs": [
        {
          "output_type": "display_data",
          "data": {
            "text/html": [
              "<style scoped>\n",
              "  .ansiout {\n",
              "    display: block;\n",
              "    unicode-bidi: embed;\n",
              "    white-space: pre-wrap;\n",
              "    word-wrap: break-word;\n",
              "    word-break: break-all;\n",
              "    font-family: \"Source Code Pro\", \"Menlo\", monospace;;\n",
              "    font-size: 13px;\n",
              "    color: #555;\n",
              "    margin-left: 4px;\n",
              "    line-height: 19px;\n",
              "  }\n",
              "</style>\n",
              "<div class=\"ansiout\"></div>"
            ]
          },
          "metadata": {
            "tags": []
          }
        }
      ]
    },
    {
      "cell_type": "code",
      "metadata": {
        "id": "Ub6oSGVaB-8_",
        "outputId": "b02d9878-0688-43c2-d3a1-10ca21ee94e5"
      },
      "source": [
        "display(spark.sql('select * from irisTable '))"
      ],
      "execution_count": null,
      "outputs": [
        {
          "output_type": "display_data",
          "data": {
            "text/html": [
              "<style scoped>\n",
              "  .table-result-container {\n",
              "    max-height: 300px;\n",
              "    overflow: auto;\n",
              "  }\n",
              "  table, th, td {\n",
              "    border: 1px solid black;\n",
              "    border-collapse: collapse;\n",
              "  }\n",
              "  th, td {\n",
              "    padding: 5px;\n",
              "  }\n",
              "  th {\n",
              "    text-align: left;\n",
              "  }\n",
              "</style><div class='table-result-container'><table class='table-result'><thead style='background-color: white'><tr><th>sep_len</th><th>sep_wid</th><th>pet_len</th><th>pet_wid</th><th>label</th></tr></thead><tbody><tr><td>5.1</td><td>3.5</td><td>1.4</td><td>0.2</td><td>Iris-setosa</td></tr><tr><td>4.9</td><td>3.0</td><td>1.4</td><td>0.2</td><td>Iris-setosa</td></tr><tr><td>4.7</td><td>3.2</td><td>1.3</td><td>0.2</td><td>Iris-setosa</td></tr><tr><td>4.6</td><td>3.1</td><td>1.5</td><td>0.2</td><td>Iris-setosa</td></tr><tr><td>5.0</td><td>3.6</td><td>1.4</td><td>0.2</td><td>Iris-setosa</td></tr><tr><td>5.4</td><td>3.9</td><td>1.7</td><td>0.4</td><td>Iris-setosa</td></tr><tr><td>4.6</td><td>3.4</td><td>1.4</td><td>0.3</td><td>Iris-setosa</td></tr><tr><td>5.0</td><td>3.4</td><td>1.5</td><td>0.2</td><td>Iris-setosa</td></tr><tr><td>4.4</td><td>2.9</td><td>1.4</td><td>0.2</td><td>Iris-setosa</td></tr><tr><td>4.9</td><td>3.1</td><td>1.5</td><td>0.1</td><td>Iris-setosa</td></tr><tr><td>5.4</td><td>3.7</td><td>1.5</td><td>0.2</td><td>Iris-setosa</td></tr><tr><td>4.8</td><td>3.4</td><td>1.6</td><td>0.2</td><td>Iris-setosa</td></tr><tr><td>4.8</td><td>3.0</td><td>1.4</td><td>0.1</td><td>Iris-setosa</td></tr><tr><td>4.3</td><td>3.0</td><td>1.1</td><td>0.1</td><td>Iris-setosa</td></tr><tr><td>5.8</td><td>4.0</td><td>1.2</td><td>0.2</td><td>Iris-setosa</td></tr><tr><td>5.7</td><td>4.4</td><td>1.5</td><td>0.4</td><td>Iris-setosa</td></tr><tr><td>5.4</td><td>3.9</td><td>1.3</td><td>0.4</td><td>Iris-setosa</td></tr><tr><td>5.1</td><td>3.5</td><td>1.4</td><td>0.3</td><td>Iris-setosa</td></tr><tr><td>5.7</td><td>3.8</td><td>1.7</td><td>0.3</td><td>Iris-setosa</td></tr><tr><td>5.1</td><td>3.8</td><td>1.5</td><td>0.3</td><td>Iris-setosa</td></tr><tr><td>5.4</td><td>3.4</td><td>1.7</td><td>0.2</td><td>Iris-setosa</td></tr><tr><td>5.1</td><td>3.7</td><td>1.5</td><td>0.4</td><td>Iris-setosa</td></tr><tr><td>4.6</td><td>3.6</td><td>1.0</td><td>0.2</td><td>Iris-setosa</td></tr><tr><td>5.1</td><td>3.3</td><td>1.7</td><td>0.5</td><td>Iris-setosa</td></tr><tr><td>4.8</td><td>3.4</td><td>1.9</td><td>0.2</td><td>Iris-setosa</td></tr><tr><td>5.0</td><td>3.0</td><td>1.6</td><td>0.2</td><td>Iris-setosa</td></tr><tr><td>5.0</td><td>3.4</td><td>1.6</td><td>0.4</td><td>Iris-setosa</td></tr><tr><td>5.2</td><td>3.5</td><td>1.5</td><td>0.2</td><td>Iris-setosa</td></tr><tr><td>5.2</td><td>3.4</td><td>1.4</td><td>0.2</td><td>Iris-setosa</td></tr><tr><td>4.7</td><td>3.2</td><td>1.6</td><td>0.2</td><td>Iris-setosa</td></tr><tr><td>4.8</td><td>3.1</td><td>1.6</td><td>0.2</td><td>Iris-setosa</td></tr><tr><td>5.4</td><td>3.4</td><td>1.5</td><td>0.4</td><td>Iris-setosa</td></tr><tr><td>5.2</td><td>4.1</td><td>1.5</td><td>0.1</td><td>Iris-setosa</td></tr><tr><td>5.5</td><td>4.2</td><td>1.4</td><td>0.2</td><td>Iris-setosa</td></tr><tr><td>4.9</td><td>3.1</td><td>1.5</td><td>0.2</td><td>Iris-setosa</td></tr><tr><td>5.0</td><td>3.2</td><td>1.2</td><td>0.2</td><td>Iris-setosa</td></tr><tr><td>5.5</td><td>3.5</td><td>1.3</td><td>0.2</td><td>Iris-setosa</td></tr><tr><td>4.9</td><td>3.6</td><td>1.4</td><td>0.1</td><td>Iris-setosa</td></tr><tr><td>4.4</td><td>3.0</td><td>1.3</td><td>0.2</td><td>Iris-setosa</td></tr><tr><td>5.1</td><td>3.4</td><td>1.5</td><td>0.2</td><td>Iris-setosa</td></tr><tr><td>5.0</td><td>3.5</td><td>1.3</td><td>0.3</td><td>Iris-setosa</td></tr><tr><td>4.5</td><td>2.3</td><td>1.3</td><td>0.3</td><td>Iris-setosa</td></tr><tr><td>4.4</td><td>3.2</td><td>1.3</td><td>0.2</td><td>Iris-setosa</td></tr><tr><td>5.0</td><td>3.5</td><td>1.6</td><td>0.6</td><td>Iris-setosa</td></tr><tr><td>5.1</td><td>3.8</td><td>1.9</td><td>0.4</td><td>Iris-setosa</td></tr><tr><td>4.8</td><td>3.0</td><td>1.4</td><td>0.3</td><td>Iris-setosa</td></tr><tr><td>5.1</td><td>3.8</td><td>1.6</td><td>0.2</td><td>Iris-setosa</td></tr><tr><td>4.6</td><td>3.2</td><td>1.4</td><td>0.2</td><td>Iris-setosa</td></tr><tr><td>5.3</td><td>3.7</td><td>1.5</td><td>0.2</td><td>Iris-setosa</td></tr><tr><td>5.0</td><td>3.3</td><td>1.4</td><td>0.2</td><td>Iris-setosa</td></tr><tr><td>7.0</td><td>3.2</td><td>4.7</td><td>1.4</td><td>Iris-versicolor</td></tr><tr><td>6.4</td><td>3.2</td><td>4.5</td><td>1.5</td><td>Iris-versicolor</td></tr><tr><td>6.9</td><td>3.1</td><td>4.9</td><td>1.5</td><td>Iris-versicolor</td></tr><tr><td>5.5</td><td>2.3</td><td>4.0</td><td>1.3</td><td>Iris-versicolor</td></tr><tr><td>6.5</td><td>2.8</td><td>4.6</td><td>1.5</td><td>Iris-versicolor</td></tr><tr><td>5.7</td><td>2.8</td><td>4.5</td><td>1.3</td><td>Iris-versicolor</td></tr><tr><td>6.3</td><td>3.3</td><td>4.7</td><td>1.6</td><td>Iris-versicolor</td></tr><tr><td>4.9</td><td>2.4</td><td>3.3</td><td>1.0</td><td>Iris-versicolor</td></tr><tr><td>6.6</td><td>2.9</td><td>4.6</td><td>1.3</td><td>Iris-versicolor</td></tr><tr><td>5.2</td><td>2.7</td><td>3.9</td><td>1.4</td><td>Iris-versicolor</td></tr><tr><td>5.0</td><td>2.0</td><td>3.5</td><td>1.0</td><td>Iris-versicolor</td></tr><tr><td>5.9</td><td>3.0</td><td>4.2</td><td>1.5</td><td>Iris-versicolor</td></tr><tr><td>6.0</td><td>2.2</td><td>4.0</td><td>1.0</td><td>Iris-versicolor</td></tr><tr><td>6.1</td><td>2.9</td><td>4.7</td><td>1.4</td><td>Iris-versicolor</td></tr><tr><td>5.6</td><td>2.9</td><td>3.6</td><td>1.3</td><td>Iris-versicolor</td></tr><tr><td>6.7</td><td>3.1</td><td>4.4</td><td>1.4</td><td>Iris-versicolor</td></tr><tr><td>5.6</td><td>3.0</td><td>4.5</td><td>1.5</td><td>Iris-versicolor</td></tr><tr><td>5.8</td><td>2.7</td><td>4.1</td><td>1.0</td><td>Iris-versicolor</td></tr><tr><td>6.2</td><td>2.2</td><td>4.5</td><td>1.5</td><td>Iris-versicolor</td></tr><tr><td>5.6</td><td>2.5</td><td>3.9</td><td>1.1</td><td>Iris-versicolor</td></tr><tr><td>5.9</td><td>3.2</td><td>4.8</td><td>1.8</td><td>Iris-versicolor</td></tr><tr><td>6.1</td><td>2.8</td><td>4.0</td><td>1.3</td><td>Iris-versicolor</td></tr><tr><td>6.3</td><td>2.5</td><td>4.9</td><td>1.5</td><td>Iris-versicolor</td></tr><tr><td>6.1</td><td>2.8</td><td>4.7</td><td>1.2</td><td>Iris-versicolor</td></tr><tr><td>6.4</td><td>2.9</td><td>4.3</td><td>1.3</td><td>Iris-versicolor</td></tr><tr><td>6.6</td><td>3.0</td><td>4.4</td><td>1.4</td><td>Iris-versicolor</td></tr><tr><td>6.8</td><td>2.8</td><td>4.8</td><td>1.4</td><td>Iris-versicolor</td></tr><tr><td>6.7</td><td>3.0</td><td>5.0</td><td>1.7</td><td>Iris-versicolor</td></tr><tr><td>6.0</td><td>2.9</td><td>4.5</td><td>1.5</td><td>Iris-versicolor</td></tr><tr><td>5.7</td><td>2.6</td><td>3.5</td><td>1.0</td><td>Iris-versicolor</td></tr><tr><td>5.5</td><td>2.4</td><td>3.8</td><td>1.1</td><td>Iris-versicolor</td></tr><tr><td>5.5</td><td>2.4</td><td>3.7</td><td>1.0</td><td>Iris-versicolor</td></tr><tr><td>5.8</td><td>2.7</td><td>3.9</td><td>1.2</td><td>Iris-versicolor</td></tr><tr><td>6.0</td><td>2.7</td><td>5.1</td><td>1.6</td><td>Iris-versicolor</td></tr><tr><td>5.4</td><td>3.0</td><td>4.5</td><td>1.5</td><td>Iris-versicolor</td></tr><tr><td>6.0</td><td>3.4</td><td>4.5</td><td>1.6</td><td>Iris-versicolor</td></tr><tr><td>6.7</td><td>3.1</td><td>4.7</td><td>1.5</td><td>Iris-versicolor</td></tr><tr><td>6.3</td><td>2.3</td><td>4.4</td><td>1.3</td><td>Iris-versicolor</td></tr><tr><td>5.6</td><td>3.0</td><td>4.1</td><td>1.3</td><td>Iris-versicolor</td></tr><tr><td>5.5</td><td>2.5</td><td>4.0</td><td>1.3</td><td>Iris-versicolor</td></tr><tr><td>5.5</td><td>2.6</td><td>4.4</td><td>1.2</td><td>Iris-versicolor</td></tr><tr><td>6.1</td><td>3.0</td><td>4.6</td><td>1.4</td><td>Iris-versicolor</td></tr><tr><td>5.8</td><td>2.6</td><td>4.0</td><td>1.2</td><td>Iris-versicolor</td></tr><tr><td>5.0</td><td>2.3</td><td>3.3</td><td>1.0</td><td>Iris-versicolor</td></tr><tr><td>5.6</td><td>2.7</td><td>4.2</td><td>1.3</td><td>Iris-versicolor</td></tr><tr><td>5.7</td><td>3.0</td><td>4.2</td><td>1.2</td><td>Iris-versicolor</td></tr><tr><td>5.7</td><td>2.9</td><td>4.2</td><td>1.3</td><td>Iris-versicolor</td></tr><tr><td>6.2</td><td>2.9</td><td>4.3</td><td>1.3</td><td>Iris-versicolor</td></tr><tr><td>5.1</td><td>2.5</td><td>3.0</td><td>1.1</td><td>Iris-versicolor</td></tr><tr><td>5.7</td><td>2.8</td><td>4.1</td><td>1.3</td><td>Iris-versicolor</td></tr><tr><td>6.3</td><td>3.3</td><td>6.0</td><td>2.5</td><td>Iris-virginica</td></tr><tr><td>5.8</td><td>2.7</td><td>5.1</td><td>1.9</td><td>Iris-virginica</td></tr><tr><td>7.1</td><td>3.0</td><td>5.9</td><td>2.1</td><td>Iris-virginica</td></tr><tr><td>6.3</td><td>2.9</td><td>5.6</td><td>1.8</td><td>Iris-virginica</td></tr><tr><td>6.5</td><td>3.0</td><td>5.8</td><td>2.2</td><td>Iris-virginica</td></tr><tr><td>7.6</td><td>3.0</td><td>6.6</td><td>2.1</td><td>Iris-virginica</td></tr><tr><td>4.9</td><td>2.5</td><td>4.5</td><td>1.7</td><td>Iris-virginica</td></tr><tr><td>7.3</td><td>2.9</td><td>6.3</td><td>1.8</td><td>Iris-virginica</td></tr><tr><td>6.7</td><td>2.5</td><td>5.8</td><td>1.8</td><td>Iris-virginica</td></tr><tr><td>7.2</td><td>3.6</td><td>6.1</td><td>2.5</td><td>Iris-virginica</td></tr><tr><td>6.5</td><td>3.2</td><td>5.1</td><td>2.0</td><td>Iris-virginica</td></tr><tr><td>6.4</td><td>2.7</td><td>5.3</td><td>1.9</td><td>Iris-virginica</td></tr><tr><td>6.8</td><td>3.0</td><td>5.5</td><td>2.1</td><td>Iris-virginica</td></tr><tr><td>5.7</td><td>2.5</td><td>5.0</td><td>2.0</td><td>Iris-virginica</td></tr><tr><td>5.8</td><td>2.8</td><td>5.1</td><td>2.4</td><td>Iris-virginica</td></tr><tr><td>6.4</td><td>3.2</td><td>5.3</td><td>2.3</td><td>Iris-virginica</td></tr><tr><td>6.5</td><td>3.0</td><td>5.5</td><td>1.8</td><td>Iris-virginica</td></tr><tr><td>7.7</td><td>3.8</td><td>6.7</td><td>2.2</td><td>Iris-virginica</td></tr><tr><td>7.7</td><td>2.6</td><td>6.9</td><td>2.3</td><td>Iris-virginica</td></tr><tr><td>6.0</td><td>2.2</td><td>5.0</td><td>1.5</td><td>Iris-virginica</td></tr><tr><td>6.9</td><td>3.2</td><td>5.7</td><td>2.3</td><td>Iris-virginica</td></tr><tr><td>5.6</td><td>2.8</td><td>4.9</td><td>2.0</td><td>Iris-virginica</td></tr><tr><td>7.7</td><td>2.8</td><td>6.7</td><td>2.0</td><td>Iris-virginica</td></tr><tr><td>6.3</td><td>2.7</td><td>4.9</td><td>1.8</td><td>Iris-virginica</td></tr><tr><td>6.7</td><td>3.3</td><td>5.7</td><td>2.1</td><td>Iris-virginica</td></tr><tr><td>7.2</td><td>3.2</td><td>6.0</td><td>1.8</td><td>Iris-virginica</td></tr><tr><td>6.2</td><td>2.8</td><td>4.8</td><td>1.8</td><td>Iris-virginica</td></tr><tr><td>6.1</td><td>3.0</td><td>4.9</td><td>1.8</td><td>Iris-virginica</td></tr><tr><td>6.4</td><td>2.8</td><td>5.6</td><td>2.1</td><td>Iris-virginica</td></tr><tr><td>7.2</td><td>3.0</td><td>5.8</td><td>1.6</td><td>Iris-virginica</td></tr><tr><td>7.4</td><td>2.8</td><td>6.1</td><td>1.9</td><td>Iris-virginica</td></tr><tr><td>7.9</td><td>3.8</td><td>6.4</td><td>2.0</td><td>Iris-virginica</td></tr><tr><td>6.4</td><td>2.8</td><td>5.6</td><td>2.2</td><td>Iris-virginica</td></tr><tr><td>6.3</td><td>2.8</td><td>5.1</td><td>1.5</td><td>Iris-virginica</td></tr><tr><td>6.1</td><td>2.6</td><td>5.6</td><td>1.4</td><td>Iris-virginica</td></tr><tr><td>7.7</td><td>3.0</td><td>6.1</td><td>2.3</td><td>Iris-virginica</td></tr><tr><td>6.3</td><td>3.4</td><td>5.6</td><td>2.4</td><td>Iris-virginica</td></tr><tr><td>6.4</td><td>3.1</td><td>5.5</td><td>1.8</td><td>Iris-virginica</td></tr><tr><td>6.0</td><td>3.0</td><td>4.8</td><td>1.8</td><td>Iris-virginica</td></tr><tr><td>6.9</td><td>3.1</td><td>5.4</td><td>2.1</td><td>Iris-virginica</td></tr><tr><td>6.7</td><td>3.1</td><td>5.6</td><td>2.4</td><td>Iris-virginica</td></tr><tr><td>6.9</td><td>3.1</td><td>5.1</td><td>2.3</td><td>Iris-virginica</td></tr><tr><td>5.8</td><td>2.7</td><td>5.1</td><td>1.9</td><td>Iris-virginica</td></tr><tr><td>6.8</td><td>3.2</td><td>5.9</td><td>2.3</td><td>Iris-virginica</td></tr><tr><td>6.7</td><td>3.3</td><td>5.7</td><td>2.5</td><td>Iris-virginica</td></tr><tr><td>6.7</td><td>3.0</td><td>5.2</td><td>2.3</td><td>Iris-virginica</td></tr><tr><td>6.3</td><td>2.5</td><td>5.0</td><td>1.9</td><td>Iris-virginica</td></tr><tr><td>6.5</td><td>3.0</td><td>5.2</td><td>2.0</td><td>Iris-virginica</td></tr><tr><td>6.2</td><td>3.4</td><td>5.4</td><td>2.3</td><td>Iris-virginica</td></tr><tr><td>5.9</td><td>3.0</td><td>5.1</td><td>1.8</td><td>Iris-virginica</td></tr></tbody></table></div>"
            ]
          },
          "metadata": {
            "tags": []
          }
        }
      ]
    },
    {
      "cell_type": "markdown",
      "metadata": {
        "id": "MM486k-UB-8_"
      },
      "source": [
        "Iniciando o Processo de Construção e Aplicação do SVM"
      ]
    },
    {
      "cell_type": "code",
      "metadata": {
        "id": "Ct8CzCKkB-9A",
        "outputId": "be88af0f-e163-4774-82cb-e0ececc27dd5"
      },
      "source": [
        "from pyspark.ml.linalg import Vectors  #biblioteca que contém funções de Algebra Linear\n",
        "from pyspark.ml.feature import VectorAssembler #biblioteca que contém as funções para a construção de vetores"
      ],
      "execution_count": null,
      "outputs": [
        {
          "output_type": "display_data",
          "data": {
            "text/html": [
              "<style scoped>\n",
              "  .ansiout {\n",
              "    display: block;\n",
              "    unicode-bidi: embed;\n",
              "    white-space: pre-wrap;\n",
              "    word-wrap: break-word;\n",
              "    word-break: break-all;\n",
              "    font-family: \"Source Code Pro\", \"Menlo\", monospace;;\n",
              "    font-size: 13px;\n",
              "    color: #555;\n",
              "    margin-left: 4px;\n",
              "    line-height: 19px;\n",
              "  }\n",
              "</style>\n",
              "<div class=\"ansiout\"></div>"
            ]
          },
          "metadata": {
            "tags": []
          }
        }
      ]
    },
    {
      "cell_type": "code",
      "metadata": {
        "id": "GFCii97BB-9B",
        "outputId": "807deadb-6591-45e1-f66b-865cbd014eec"
      },
      "source": [
        "#criando o vetor de características\n",
        "vector_assembler = VectorAssembler(inputCols=[\"sep_len\", \"sep_wid\", \"pet_len\", \"pet_wid\"],outputCol=\"features\")\n",
        "df_temp = vector_assembler.transform(df_iris)\n",
        "df_temp.show(5)"
      ],
      "execution_count": null,
      "outputs": [
        {
          "output_type": "display_data",
          "data": {
            "text/html": [
              "<style scoped>\n",
              "  .ansiout {\n",
              "    display: block;\n",
              "    unicode-bidi: embed;\n",
              "    white-space: pre-wrap;\n",
              "    word-wrap: break-word;\n",
              "    word-break: break-all;\n",
              "    font-family: \"Source Code Pro\", \"Menlo\", monospace;;\n",
              "    font-size: 13px;\n",
              "    color: #555;\n",
              "    margin-left: 4px;\n",
              "    line-height: 19px;\n",
              "  }\n",
              "</style>\n",
              "<div class=\"ansiout\">+-------+-------+-------+-------+-----------+-----------------+\n",
              "sep_len|sep_wid|pet_len|pet_wid|      label|         features|\n",
              "+-------+-------+-------+-------+-----------+-----------------+\n",
              "    5.1|    3.5|    1.4|    0.2|Iris-setosa|[5.1,3.5,1.4,0.2]|\n",
              "    4.9|    3.0|    1.4|    0.2|Iris-setosa|[4.9,3.0,1.4,0.2]|\n",
              "    4.7|    3.2|    1.3|    0.2|Iris-setosa|[4.7,3.2,1.3,0.2]|\n",
              "    4.6|    3.1|    1.5|    0.2|Iris-setosa|[4.6,3.1,1.5,0.2]|\n",
              "    5.0|    3.6|    1.4|    0.2|Iris-setosa|[5.0,3.6,1.4,0.2]|\n",
              "+-------+-------+-------+-------+-----------+-----------------+\n",
              "only showing top 5 rows\n",
              "\n",
              "</div>"
            ]
          },
          "metadata": {
            "tags": []
          }
        }
      ]
    },
    {
      "cell_type": "code",
      "metadata": {
        "id": "5YlJaFlbB-9C",
        "outputId": "a3d719ad-794e-4a69-ab9c-decfe0cfb4e2"
      },
      "source": [
        "df_temp.printSchema()"
      ],
      "execution_count": null,
      "outputs": [
        {
          "output_type": "display_data",
          "data": {
            "text/html": [
              "<style scoped>\n",
              "  .ansiout {\n",
              "    display: block;\n",
              "    unicode-bidi: embed;\n",
              "    white-space: pre-wrap;\n",
              "    word-wrap: break-word;\n",
              "    word-break: break-all;\n",
              "    font-family: \"Source Code Pro\", \"Menlo\", monospace;;\n",
              "    font-size: 13px;\n",
              "    color: #555;\n",
              "    margin-left: 4px;\n",
              "    line-height: 19px;\n",
              "  }\n",
              "</style>\n",
              "<div class=\"ansiout\">root\n",
              "-- sep_len: double (nullable = true)\n",
              "-- sep_wid: double (nullable = true)\n",
              "-- pet_len: double (nullable = true)\n",
              "-- pet_wid: double (nullable = true)\n",
              "-- label: string (nullable = true)\n",
              "-- features: vector (nullable = true)\n",
              "\n",
              "</div>"
            ]
          },
          "metadata": {
            "tags": []
          }
        }
      ]
    },
    {
      "cell_type": "code",
      "metadata": {
        "id": "IR2vamVxB-9C",
        "outputId": "fa23d6fb-69af-4ecb-a363-1e293aea9201"
      },
      "source": [
        "#removendo as colunas que não serão utilizadas\n",
        "df_menor = df_temp.drop('sep_len', 'sep_wid', 'pet_len', 'pet_wid')\n",
        "df_menor.show(5)"
      ],
      "execution_count": null,
      "outputs": [
        {
          "output_type": "display_data",
          "data": {
            "text/html": [
              "<style scoped>\n",
              "  .ansiout {\n",
              "    display: block;\n",
              "    unicode-bidi: embed;\n",
              "    white-space: pre-wrap;\n",
              "    word-wrap: break-word;\n",
              "    word-break: break-all;\n",
              "    font-family: \"Source Code Pro\", \"Menlo\", monospace;;\n",
              "    font-size: 13px;\n",
              "    color: #555;\n",
              "    margin-left: 4px;\n",
              "    line-height: 19px;\n",
              "  }\n",
              "</style>\n",
              "<div class=\"ansiout\">+-----------+-----------------+\n",
              "      label|         features|\n",
              "+-----------+-----------------+\n",
              "Iris-setosa|[5.1,3.5,1.4,0.2]|\n",
              "Iris-setosa|[4.9,3.0,1.4,0.2]|\n",
              "Iris-setosa|[4.7,3.2,1.3,0.2]|\n",
              "Iris-setosa|[4.6,3.1,1.5,0.2]|\n",
              "Iris-setosa|[5.0,3.6,1.4,0.2]|\n",
              "+-----------+-----------------+\n",
              "only showing top 5 rows\n",
              "\n",
              "</div>"
            ]
          },
          "metadata": {
            "tags": []
          }
        }
      ]
    },
    {
      "cell_type": "code",
      "metadata": {
        "id": "f-VGF4JnB-9D",
        "outputId": "a296f5d6-4fc5-41ab-d2fc-23f813a015f8"
      },
      "source": [
        "#aplicando as transformações para a coluna label\n",
        "from pyspark.ml.feature import StringIndexer  #cria o 'vetor' para cada uma das classes existentes na coluna label\n",
        "\n",
        "l_indexer = StringIndexer(inputCol=\"label\", outputCol=\"labelEncoder\")  #cria o objeto para a codificação\n",
        "df_final = l_indexer.fit(df_menor).transform(df_menor)  #aplica a transformação"
      ],
      "execution_count": null,
      "outputs": [
        {
          "output_type": "display_data",
          "data": {
            "text/html": [
              "<style scoped>\n",
              "  .ansiout {\n",
              "    display: block;\n",
              "    unicode-bidi: embed;\n",
              "    white-space: pre-wrap;\n",
              "    word-wrap: break-word;\n",
              "    word-break: break-all;\n",
              "    font-family: \"Source Code Pro\", \"Menlo\", monospace;;\n",
              "    font-size: 13px;\n",
              "    color: #555;\n",
              "    margin-left: 4px;\n",
              "    line-height: 19px;\n",
              "  }\n",
              "</style>\n",
              "<div class=\"ansiout\"></div>"
            ]
          },
          "metadata": {
            "tags": []
          }
        }
      ]
    },
    {
      "cell_type": "code",
      "metadata": {
        "id": "g28hPfFMB-9E",
        "outputId": "00ec2a7a-5b92-4231-8048-e5c986d9084a"
      },
      "source": [
        "df_final.show(5)"
      ],
      "execution_count": null,
      "outputs": [
        {
          "output_type": "display_data",
          "data": {
            "text/html": [
              "<style scoped>\n",
              "  .ansiout {\n",
              "    display: block;\n",
              "    unicode-bidi: embed;\n",
              "    white-space: pre-wrap;\n",
              "    word-wrap: break-word;\n",
              "    word-break: break-all;\n",
              "    font-family: \"Source Code Pro\", \"Menlo\", monospace;;\n",
              "    font-size: 13px;\n",
              "    color: #555;\n",
              "    margin-left: 4px;\n",
              "    line-height: 19px;\n",
              "  }\n",
              "</style>\n",
              "<div class=\"ansiout\">+-----------+-----------------+------------+\n",
              "      label|         features|labelEncoder|\n",
              "+-----------+-----------------+------------+\n",
              "Iris-setosa|[5.1,3.5,1.4,0.2]|         0.0|\n",
              "Iris-setosa|[4.9,3.0,1.4,0.2]|         0.0|\n",
              "Iris-setosa|[4.7,3.2,1.3,0.2]|         0.0|\n",
              "Iris-setosa|[4.6,3.1,1.5,0.2]|         0.0|\n",
              "Iris-setosa|[5.0,3.6,1.4,0.2]|         0.0|\n",
              "+-----------+-----------------+------------+\n",
              "only showing top 5 rows\n",
              "\n",
              "</div>"
            ]
          },
          "metadata": {
            "tags": []
          }
        }
      ]
    },
    {
      "cell_type": "code",
      "metadata": {
        "id": "RUnDJvz_B-9E",
        "outputId": "6f41398f-a09d-4e84-9357-bafee1382300"
      },
      "source": [
        "df_final.printSchema()"
      ],
      "execution_count": null,
      "outputs": [
        {
          "output_type": "display_data",
          "data": {
            "text/html": [
              "<style scoped>\n",
              "  .ansiout {\n",
              "    display: block;\n",
              "    unicode-bidi: embed;\n",
              "    white-space: pre-wrap;\n",
              "    word-wrap: break-word;\n",
              "    word-break: break-all;\n",
              "    font-family: \"Source Code Pro\", \"Menlo\", monospace;;\n",
              "    font-size: 13px;\n",
              "    color: #555;\n",
              "    margin-left: 4px;\n",
              "    line-height: 19px;\n",
              "  }\n",
              "</style>\n",
              "<div class=\"ansiout\">root\n",
              "-- label: string (nullable = true)\n",
              "-- features: vector (nullable = true)\n",
              "-- labelEncoder: double (nullable = false)\n",
              "\n",
              "</div>"
            ]
          },
          "metadata": {
            "tags": []
          }
        }
      ]
    },
    {
      "cell_type": "markdown",
      "metadata": {
        "id": "eTCdMyQhB-9F"
      },
      "source": [
        "Normalizando os dados"
      ]
    },
    {
      "cell_type": "code",
      "metadata": {
        "id": "5549HQ4zB-9F",
        "outputId": "4dce0274-2ae1-4c16-bf60-e66c56956815"
      },
      "source": [
        "#normalizando os dados\n",
        "from pyspark.ml.feature import MinMaxScaler  #biblioteca para colocar os valores entre 0 e 1\n",
        "scaler = MinMaxScaler( inputCol=\"features\", outputCol=\"scaledFeatures\")  #criando o objeto para a escala\n",
        "scalerModel = scaler.fit(df_final)"
      ],
      "execution_count": null,
      "outputs": [
        {
          "output_type": "display_data",
          "data": {
            "text/html": [
              "<style scoped>\n",
              "  .ansiout {\n",
              "    display: block;\n",
              "    unicode-bidi: embed;\n",
              "    white-space: pre-wrap;\n",
              "    word-wrap: break-word;\n",
              "    word-break: break-all;\n",
              "    font-family: \"Source Code Pro\", \"Menlo\", monospace;;\n",
              "    font-size: 13px;\n",
              "    color: #555;\n",
              "    margin-left: 4px;\n",
              "    line-height: 19px;\n",
              "  }\n",
              "</style>\n",
              "<div class=\"ansiout\"></div>"
            ]
          },
          "metadata": {
            "tags": []
          }
        }
      ]
    },
    {
      "cell_type": "code",
      "metadata": {
        "id": "pniufXBTB-9G",
        "outputId": "911eab53-e462-4cdb-fc67-c6476dec722b"
      },
      "source": [
        "df_final = scalerModel.transform(df_final).drop('features').withColumnRenamed('scaledFeatures', 'features')"
      ],
      "execution_count": null,
      "outputs": [
        {
          "output_type": "display_data",
          "data": {
            "text/html": [
              "<style scoped>\n",
              "  .ansiout {\n",
              "    display: block;\n",
              "    unicode-bidi: embed;\n",
              "    white-space: pre-wrap;\n",
              "    word-wrap: break-word;\n",
              "    word-break: break-all;\n",
              "    font-family: \"Source Code Pro\", \"Menlo\", monospace;;\n",
              "    font-size: 13px;\n",
              "    color: #555;\n",
              "    margin-left: 4px;\n",
              "    line-height: 19px;\n",
              "  }\n",
              "</style>\n",
              "<div class=\"ansiout\"></div>"
            ]
          },
          "metadata": {
            "tags": []
          }
        }
      ]
    },
    {
      "cell_type": "code",
      "metadata": {
        "id": "L0SOiQS2B-9G",
        "outputId": "7c51766b-3095-4f5c-9c80-349cb4b1cb3f"
      },
      "source": [
        "df_final.show()"
      ],
      "execution_count": null,
      "outputs": [
        {
          "output_type": "display_data",
          "data": {
            "text/html": [
              "<style scoped>\n",
              "  .ansiout {\n",
              "    display: block;\n",
              "    unicode-bidi: embed;\n",
              "    white-space: pre-wrap;\n",
              "    word-wrap: break-word;\n",
              "    word-break: break-all;\n",
              "    font-family: \"Source Code Pro\", \"Menlo\", monospace;;\n",
              "    font-size: 13px;\n",
              "    color: #555;\n",
              "    margin-left: 4px;\n",
              "    line-height: 19px;\n",
              "  }\n",
              "</style>\n",
              "<div class=\"ansiout\">+-----------+------------+--------------------+\n",
              "      label|labelEncoder|            features|\n",
              "+-----------+------------+--------------------+\n",
              "Iris-setosa|         0.0|[0.22222222222222...|\n",
              "Iris-setosa|         0.0|[0.16666666666666...|\n",
              "Iris-setosa|         0.0|[0.11111111111111...|\n",
              "Iris-setosa|         0.0|[0.08333333333333...|\n",
              "Iris-setosa|         0.0|[0.19444444444444...|\n",
              "Iris-setosa|         0.0|[0.30555555555555...|\n",
              "Iris-setosa|         0.0|[0.08333333333333...|\n",
              "Iris-setosa|         0.0|[0.19444444444444...|\n",
              "Iris-setosa|         0.0|[0.02777777777777...|\n",
              "Iris-setosa|         0.0|[0.16666666666666...|\n",
              "Iris-setosa|         0.0|[0.30555555555555...|\n",
              "Iris-setosa|         0.0|[0.13888888888888...|\n",
              "Iris-setosa|         0.0|[0.13888888888888...|\n",
              "Iris-setosa|         0.0|[0.0,0.4166666666...|\n",
              "Iris-setosa|         0.0|[0.41666666666666...|\n",
              "Iris-setosa|         0.0|[0.38888888888888...|\n",
              "Iris-setosa|         0.0|[0.30555555555555...|\n",
              "Iris-setosa|         0.0|[0.22222222222222...|\n",
              "Iris-setosa|         0.0|[0.38888888888888...|\n",
              "Iris-setosa|         0.0|[0.22222222222222...|\n",
              "+-----------+------------+--------------------+\n",
              "only showing top 20 rows\n",
              "\n",
              "</div>"
            ]
          },
          "metadata": {
            "tags": []
          }
        }
      ]
    },
    {
      "cell_type": "markdown",
      "metadata": {
        "id": "N80JRUOCB-9H"
      },
      "source": [
        "Modificando o Dataset Para a Classifcação Binária"
      ]
    },
    {
      "cell_type": "code",
      "metadata": {
        "id": "J_VJRQSSB-9H",
        "outputId": "ac5f682b-a27e-4c12-bc2b-eefd69c643a9"
      },
      "source": [
        "import pyspark.sql.functions as F\n",
        "df_SVM=df_final.where((F.col(\"labelEncoder\") == 0) | (F.col(\"labelEncoder\") == 1))  #Transforma o dataset em um problema de classificação binária"
      ],
      "execution_count": null,
      "outputs": [
        {
          "output_type": "display_data",
          "data": {
            "text/html": [
              "<style scoped>\n",
              "  .ansiout {\n",
              "    display: block;\n",
              "    unicode-bidi: embed;\n",
              "    white-space: pre-wrap;\n",
              "    word-wrap: break-word;\n",
              "    word-break: break-all;\n",
              "    font-family: \"Source Code Pro\", \"Menlo\", monospace;;\n",
              "    font-size: 13px;\n",
              "    color: #555;\n",
              "    margin-left: 4px;\n",
              "    line-height: 19px;\n",
              "  }\n",
              "</style>\n",
              "<div class=\"ansiout\"></div>"
            ]
          },
          "metadata": {
            "tags": []
          }
        }
      ]
    },
    {
      "cell_type": "code",
      "metadata": {
        "id": "q4fTlVKxB-9I",
        "outputId": "43f9b090-cc70-4296-d2a4-39d9ad898aae"
      },
      "source": [
        "df_SVM.show(150)"
      ],
      "execution_count": null,
      "outputs": [
        {
          "output_type": "display_data",
          "data": {
            "text/html": [
              "<style scoped>\n",
              "  .ansiout {\n",
              "    display: block;\n",
              "    unicode-bidi: embed;\n",
              "    white-space: pre-wrap;\n",
              "    word-wrap: break-word;\n",
              "    word-break: break-all;\n",
              "    font-family: \"Source Code Pro\", \"Menlo\", monospace;;\n",
              "    font-size: 13px;\n",
              "    color: #555;\n",
              "    margin-left: 4px;\n",
              "    line-height: 19px;\n",
              "  }\n",
              "</style>\n",
              "<div class=\"ansiout\">+---------------+------------+--------------------+\n",
              "          label|labelEncoder|            features|\n",
              "+---------------+------------+--------------------+\n",
              "    Iris-setosa|         0.0|[0.22222222222222...|\n",
              "    Iris-setosa|         0.0|[0.16666666666666...|\n",
              "    Iris-setosa|         0.0|[0.11111111111111...|\n",
              "    Iris-setosa|         0.0|[0.08333333333333...|\n",
              "    Iris-setosa|         0.0|[0.19444444444444...|\n",
              "    Iris-setosa|         0.0|[0.30555555555555...|\n",
              "    Iris-setosa|         0.0|[0.08333333333333...|\n",
              "    Iris-setosa|         0.0|[0.19444444444444...|\n",
              "    Iris-setosa|         0.0|[0.02777777777777...|\n",
              "    Iris-setosa|         0.0|[0.16666666666666...|\n",
              "    Iris-setosa|         0.0|[0.30555555555555...|\n",
              "    Iris-setosa|         0.0|[0.13888888888888...|\n",
              "    Iris-setosa|         0.0|[0.13888888888888...|\n",
              "    Iris-setosa|         0.0|[0.0,0.4166666666...|\n",
              "    Iris-setosa|         0.0|[0.41666666666666...|\n",
              "    Iris-setosa|         0.0|[0.38888888888888...|\n",
              "    Iris-setosa|         0.0|[0.30555555555555...|\n",
              "    Iris-setosa|         0.0|[0.22222222222222...|\n",
              "    Iris-setosa|         0.0|[0.38888888888888...|\n",
              "    Iris-setosa|         0.0|[0.22222222222222...|\n",
              "    Iris-setosa|         0.0|[0.30555555555555...|\n",
              "    Iris-setosa|         0.0|[0.22222222222222...|\n",
              "    Iris-setosa|         0.0|[0.08333333333333...|\n",
              "    Iris-setosa|         0.0|[0.22222222222222...|\n",
              "    Iris-setosa|         0.0|[0.13888888888888...|\n",
              "    Iris-setosa|         0.0|[0.19444444444444...|\n",
              "    Iris-setosa|         0.0|[0.19444444444444...|\n",
              "    Iris-setosa|         0.0|[0.25000000000000...|\n",
              "    Iris-setosa|         0.0|[0.25000000000000...|\n",
              "    Iris-setosa|         0.0|[0.11111111111111...|\n",
              "    Iris-setosa|         0.0|[0.13888888888888...|\n",
              "    Iris-setosa|         0.0|[0.30555555555555...|\n",
              "    Iris-setosa|         0.0|[0.25000000000000...|\n",
              "    Iris-setosa|         0.0|[0.33333333333333...|\n",
              "    Iris-setosa|         0.0|[0.16666666666666...|\n",
              "    Iris-setosa|         0.0|[0.19444444444444...|\n",
              "    Iris-setosa|         0.0|[0.33333333333333...|\n",
              "    Iris-setosa|         0.0|[0.16666666666666...|\n",
              "    Iris-setosa|         0.0|[0.02777777777777...|\n",
              "    Iris-setosa|         0.0|[0.22222222222222...|\n",
              "    Iris-setosa|         0.0|[0.19444444444444...|\n",
              "    Iris-setosa|         0.0|[0.05555555555555...|\n",
              "    Iris-setosa|         0.0|[0.02777777777777...|\n",
              "    Iris-setosa|         0.0|[0.19444444444444...|\n",
              "    Iris-setosa|         0.0|[0.22222222222222...|\n",
              "    Iris-setosa|         0.0|[0.13888888888888...|\n",
              "    Iris-setosa|         0.0|[0.22222222222222...|\n",
              "    Iris-setosa|         0.0|[0.08333333333333...|\n",
              "    Iris-setosa|         0.0|[0.27777777777777...|\n",
              "    Iris-setosa|         0.0|[0.19444444444444...|\n",
              "Iris-versicolor|         1.0|[0.74999999999999...|\n",
              "Iris-versicolor|         1.0|[0.58333333333333...|\n",
              "Iris-versicolor|         1.0|[0.72222222222222...|\n",
              "Iris-versicolor|         1.0|[0.33333333333333...|\n",
              "Iris-versicolor|         1.0|[0.61111111111111...|\n",
              "Iris-versicolor|         1.0|[0.38888888888888...|\n",
              "Iris-versicolor|         1.0|[0.55555555555555...|\n",
              "Iris-versicolor|         1.0|[0.16666666666666...|\n",
              "Iris-versicolor|         1.0|[0.63888888888888...|\n",
              "Iris-versicolor|         1.0|[0.25000000000000...|\n",
              "Iris-versicolor|         1.0|[0.19444444444444...|\n",
              "Iris-versicolor|         1.0|[0.44444444444444...|\n",
              "Iris-versicolor|         1.0|[0.47222222222222...|\n",
              "Iris-versicolor|         1.0|[0.49999999999999...|\n",
              "Iris-versicolor|         1.0|[0.36111111111111...|\n",
              "Iris-versicolor|         1.0|[0.66666666666666...|\n",
              "Iris-versicolor|         1.0|[0.36111111111111...|\n",
              "Iris-versicolor|         1.0|[0.41666666666666...|\n",
              "Iris-versicolor|         1.0|[0.52777777777777...|\n",
              "Iris-versicolor|         1.0|[0.36111111111111...|\n",
              "Iris-versicolor|         1.0|[0.44444444444444...|\n",
              "Iris-versicolor|         1.0|[0.49999999999999...|\n",
              "Iris-versicolor|         1.0|[0.55555555555555...|\n",
              "Iris-versicolor|         1.0|[0.49999999999999...|\n",
              "Iris-versicolor|         1.0|[0.58333333333333...|\n",
              "Iris-versicolor|         1.0|[0.63888888888888...|\n",
              "Iris-versicolor|         1.0|[0.69444444444444...|\n",
              "Iris-versicolor|         1.0|[0.66666666666666...|\n",
              "Iris-versicolor|         1.0|[0.47222222222222...|\n",
              "Iris-versicolor|         1.0|[0.38888888888888...|\n",
              "Iris-versicolor|         1.0|[0.33333333333333...|\n",
              "Iris-versicolor|         1.0|[0.33333333333333...|\n",
              "Iris-versicolor|         1.0|[0.41666666666666...|\n",
              "Iris-versicolor|         1.0|[0.47222222222222...|\n",
              "Iris-versicolor|         1.0|[0.30555555555555...|\n",
              "Iris-versicolor|         1.0|[0.47222222222222...|\n",
              "Iris-versicolor|         1.0|[0.66666666666666...|\n",
              "Iris-versicolor|         1.0|[0.55555555555555...|\n",
              "Iris-versicolor|         1.0|[0.36111111111111...|\n",
              "Iris-versicolor|         1.0|[0.33333333333333...|\n",
              "Iris-versicolor|         1.0|[0.33333333333333...|\n",
              "Iris-versicolor|         1.0|[0.49999999999999...|\n",
              "Iris-versicolor|         1.0|[0.41666666666666...|\n",
              "Iris-versicolor|         1.0|[0.19444444444444...|\n",
              "Iris-versicolor|         1.0|[0.36111111111111...|\n",
              "Iris-versicolor|         1.0|[0.38888888888888...|\n",
              "Iris-versicolor|         1.0|[0.38888888888888...|\n",
              "Iris-versicolor|         1.0|[0.52777777777777...|\n",
              "Iris-versicolor|         1.0|[0.22222222222222...|\n",
              "Iris-versicolor|         1.0|[0.38888888888888...|\n",
              "+---------------+------------+--------------------+\n",
              "\n",
              "</div>"
            ]
          },
          "metadata": {
            "tags": []
          }
        }
      ]
    },
    {
      "cell_type": "code",
      "metadata": {
        "id": "5QVfa4-hB-9I",
        "outputId": "89b92f4c-0643-429a-da0e-ae95ba7d8f6e"
      },
      "source": [
        "#removendo as colunas que não serão utilizadas\n",
        "df_SVM = df_SVM.drop('label')\n",
        "df_SVM.show(130)"
      ],
      "execution_count": null,
      "outputs": [
        {
          "output_type": "display_data",
          "data": {
            "text/html": [
              "<style scoped>\n",
              "  .ansiout {\n",
              "    display: block;\n",
              "    unicode-bidi: embed;\n",
              "    white-space: pre-wrap;\n",
              "    word-wrap: break-word;\n",
              "    word-break: break-all;\n",
              "    font-family: \"Source Code Pro\", \"Menlo\", monospace;;\n",
              "    font-size: 13px;\n",
              "    color: #555;\n",
              "    margin-left: 4px;\n",
              "    line-height: 19px;\n",
              "  }\n",
              "</style>\n",
              "<div class=\"ansiout\">+------------+--------------------+\n",
              "labelEncoder|            features|\n",
              "+------------+--------------------+\n",
              "         0.0|[0.22222222222222...|\n",
              "         0.0|[0.16666666666666...|\n",
              "         0.0|[0.11111111111111...|\n",
              "         0.0|[0.08333333333333...|\n",
              "         0.0|[0.19444444444444...|\n",
              "         0.0|[0.30555555555555...|\n",
              "         0.0|[0.08333333333333...|\n",
              "         0.0|[0.19444444444444...|\n",
              "         0.0|[0.02777777777777...|\n",
              "         0.0|[0.16666666666666...|\n",
              "         0.0|[0.30555555555555...|\n",
              "         0.0|[0.13888888888888...|\n",
              "         0.0|[0.13888888888888...|\n",
              "         0.0|[0.0,0.4166666666...|\n",
              "         0.0|[0.41666666666666...|\n",
              "         0.0|[0.38888888888888...|\n",
              "         0.0|[0.30555555555555...|\n",
              "         0.0|[0.22222222222222...|\n",
              "         0.0|[0.38888888888888...|\n",
              "         0.0|[0.22222222222222...|\n",
              "         0.0|[0.30555555555555...|\n",
              "         0.0|[0.22222222222222...|\n",
              "         0.0|[0.08333333333333...|\n",
              "         0.0|[0.22222222222222...|\n",
              "         0.0|[0.13888888888888...|\n",
              "         0.0|[0.19444444444444...|\n",
              "         0.0|[0.19444444444444...|\n",
              "         0.0|[0.25000000000000...|\n",
              "         0.0|[0.25000000000000...|\n",
              "         0.0|[0.11111111111111...|\n",
              "         0.0|[0.13888888888888...|\n",
              "         0.0|[0.30555555555555...|\n",
              "         0.0|[0.25000000000000...|\n",
              "         0.0|[0.33333333333333...|\n",
              "         0.0|[0.16666666666666...|\n",
              "         0.0|[0.19444444444444...|\n",
              "         0.0|[0.33333333333333...|\n",
              "         0.0|[0.16666666666666...|\n",
              "         0.0|[0.02777777777777...|\n",
              "         0.0|[0.22222222222222...|\n",
              "         0.0|[0.19444444444444...|\n",
              "         0.0|[0.05555555555555...|\n",
              "         0.0|[0.02777777777777...|\n",
              "         0.0|[0.19444444444444...|\n",
              "         0.0|[0.22222222222222...|\n",
              "         0.0|[0.13888888888888...|\n",
              "         0.0|[0.22222222222222...|\n",
              "         0.0|[0.08333333333333...|\n",
              "         0.0|[0.27777777777777...|\n",
              "         0.0|[0.19444444444444...|\n",
              "         1.0|[0.74999999999999...|\n",
              "         1.0|[0.58333333333333...|\n",
              "         1.0|[0.72222222222222...|\n",
              "         1.0|[0.33333333333333...|\n",
              "         1.0|[0.61111111111111...|\n",
              "         1.0|[0.38888888888888...|\n",
              "         1.0|[0.55555555555555...|\n",
              "         1.0|[0.16666666666666...|\n",
              "         1.0|[0.63888888888888...|\n",
              "         1.0|[0.25000000000000...|\n",
              "         1.0|[0.19444444444444...|\n",
              "         1.0|[0.44444444444444...|\n",
              "         1.0|[0.47222222222222...|\n",
              "         1.0|[0.49999999999999...|\n",
              "         1.0|[0.36111111111111...|\n",
              "         1.0|[0.66666666666666...|\n",
              "         1.0|[0.36111111111111...|\n",
              "         1.0|[0.41666666666666...|\n",
              "         1.0|[0.52777777777777...|\n",
              "         1.0|[0.36111111111111...|\n",
              "         1.0|[0.44444444444444...|\n",
              "         1.0|[0.49999999999999...|\n",
              "         1.0|[0.55555555555555...|\n",
              "         1.0|[0.49999999999999...|\n",
              "         1.0|[0.58333333333333...|\n",
              "         1.0|[0.63888888888888...|\n",
              "         1.0|[0.69444444444444...|\n",
              "         1.0|[0.66666666666666...|\n",
              "         1.0|[0.47222222222222...|\n",
              "         1.0|[0.38888888888888...|\n",
              "         1.0|[0.33333333333333...|\n",
              "         1.0|[0.33333333333333...|\n",
              "         1.0|[0.41666666666666...|\n",
              "         1.0|[0.47222222222222...|\n",
              "         1.0|[0.30555555555555...|\n",
              "         1.0|[0.47222222222222...|\n",
              "         1.0|[0.66666666666666...|\n",
              "         1.0|[0.55555555555555...|\n",
              "         1.0|[0.36111111111111...|\n",
              "         1.0|[0.33333333333333...|\n",
              "         1.0|[0.33333333333333...|\n",
              "         1.0|[0.49999999999999...|\n",
              "         1.0|[0.41666666666666...|\n",
              "         1.0|[0.19444444444444...|\n",
              "         1.0|[0.36111111111111...|\n",
              "         1.0|[0.38888888888888...|\n",
              "         1.0|[0.38888888888888...|\n",
              "         1.0|[0.52777777777777...|\n",
              "         1.0|[0.22222222222222...|\n",
              "         1.0|[0.38888888888888...|\n",
              "+------------+--------------------+\n",
              "\n",
              "</div>"
            ]
          },
          "metadata": {
            "tags": []
          }
        }
      ]
    },
    {
      "cell_type": "code",
      "metadata": {
        "id": "mbxj_WAuB-9I",
        "outputId": "474179bf-fb74-4316-8093-98debf61181d"
      },
      "source": [
        "df_SVM=df_SVM.selectExpr('features',\"labelEncoder as label\")"
      ],
      "execution_count": null,
      "outputs": [
        {
          "output_type": "display_data",
          "data": {
            "text/html": [
              "<style scoped>\n",
              "  .ansiout {\n",
              "    display: block;\n",
              "    unicode-bidi: embed;\n",
              "    white-space: pre-wrap;\n",
              "    word-wrap: break-word;\n",
              "    word-break: break-all;\n",
              "    font-family: \"Source Code Pro\", \"Menlo\", monospace;;\n",
              "    font-size: 13px;\n",
              "    color: #555;\n",
              "    margin-left: 4px;\n",
              "    line-height: 19px;\n",
              "  }\n",
              "</style>\n",
              "<div class=\"ansiout\"></div>"
            ]
          },
          "metadata": {
            "tags": []
          }
        }
      ]
    },
    {
      "cell_type": "code",
      "metadata": {
        "id": "Juvc6E4HB-9J",
        "outputId": "6b3fc27b-78ac-4e84-d62d-e8ef6ca96c1f"
      },
      "source": [
        "df_SVM.show(5)"
      ],
      "execution_count": null,
      "outputs": [
        {
          "output_type": "display_data",
          "data": {
            "text/html": [
              "<style scoped>\n",
              "  .ansiout {\n",
              "    display: block;\n",
              "    unicode-bidi: embed;\n",
              "    white-space: pre-wrap;\n",
              "    word-wrap: break-word;\n",
              "    word-break: break-all;\n",
              "    font-family: \"Source Code Pro\", \"Menlo\", monospace;;\n",
              "    font-size: 13px;\n",
              "    color: #555;\n",
              "    margin-left: 4px;\n",
              "    line-height: 19px;\n",
              "  }\n",
              "</style>\n",
              "<div class=\"ansiout\">+--------------------+-----+\n",
              "            features|label|\n",
              "+--------------------+-----+\n",
              "[0.22222222222222...|  0.0|\n",
              "[0.16666666666666...|  0.0|\n",
              "[0.11111111111111...|  0.0|\n",
              "[0.08333333333333...|  0.0|\n",
              "[0.19444444444444...|  0.0|\n",
              "+--------------------+-----+\n",
              "only showing top 5 rows\n",
              "\n",
              "</div>"
            ]
          },
          "metadata": {
            "tags": []
          }
        }
      ]
    },
    {
      "cell_type": "markdown",
      "metadata": {
        "id": "9IHhcUH0B-9J"
      },
      "source": [
        "Dividindo o dataset entre treinamento e teste"
      ]
    },
    {
      "cell_type": "code",
      "metadata": {
        "id": "GD_ZPpSEB-9J",
        "outputId": "d0726c05-c91f-496e-86d2-48e00d79cc0e"
      },
      "source": [
        "#dividindo entre dados de treinamento e teste\n",
        "(train, test) = df_SVM.randomSplit([0.7, 0.3])"
      ],
      "execution_count": null,
      "outputs": [
        {
          "output_type": "display_data",
          "data": {
            "text/html": [
              "<style scoped>\n",
              "  .ansiout {\n",
              "    display: block;\n",
              "    unicode-bidi: embed;\n",
              "    white-space: pre-wrap;\n",
              "    word-wrap: break-word;\n",
              "    word-break: break-all;\n",
              "    font-family: \"Source Code Pro\", \"Menlo\", monospace;;\n",
              "    font-size: 13px;\n",
              "    color: #555;\n",
              "    margin-left: 4px;\n",
              "    line-height: 19px;\n",
              "  }\n",
              "</style>\n",
              "<div class=\"ansiout\"></div>"
            ]
          },
          "metadata": {
            "tags": []
          }
        }
      ]
    },
    {
      "cell_type": "code",
      "metadata": {
        "id": "C7INUi4gB-9K",
        "outputId": "dc926c61-9aab-44a2-bdb0-ba5c4decba48"
      },
      "source": [
        "train.show(100)"
      ],
      "execution_count": null,
      "outputs": [
        {
          "output_type": "display_data",
          "data": {
            "text/html": [
              "<style scoped>\n",
              "  .ansiout {\n",
              "    display: block;\n",
              "    unicode-bidi: embed;\n",
              "    white-space: pre-wrap;\n",
              "    word-wrap: break-word;\n",
              "    word-break: break-all;\n",
              "    font-family: \"Source Code Pro\", \"Menlo\", monospace;;\n",
              "    font-size: 13px;\n",
              "    color: #555;\n",
              "    margin-left: 4px;\n",
              "    line-height: 19px;\n",
              "  }\n",
              "</style>\n",
              "<div class=\"ansiout\">+--------------------+-----+\n",
              "            features|label|\n",
              "+--------------------+-----+\n",
              "[0.02777777777777...|  0.0|\n",
              "[0.02777777777777...|  0.0|\n",
              "[0.05555555555555...|  0.0|\n",
              "[0.08333333333333...|  0.0|\n",
              "[0.08333333333333...|  0.0|\n",
              "[0.08333333333333...|  0.0|\n",
              "[0.08333333333333...|  0.0|\n",
              "[0.11111111111111...|  0.0|\n",
              "[0.11111111111111...|  0.0|\n",
              "[0.13888888888888...|  0.0|\n",
              "[0.13888888888888...|  0.0|\n",
              "[0.13888888888888...|  0.0|\n",
              "[0.13888888888888...|  0.0|\n",
              "[0.13888888888888...|  0.0|\n",
              "[0.16666666666666...|  1.0|\n",
              "[0.16666666666666...|  0.0|\n",
              "[0.19444444444444...|  1.0|\n",
              "[0.19444444444444...|  0.0|\n",
              "[0.19444444444444...|  0.0|\n",
              "[0.19444444444444...|  0.0|\n",
              "[0.19444444444444...|  0.0|\n",
              "[0.19444444444444...|  0.0|\n",
              "[0.22222222222222...|  1.0|\n",
              "[0.22222222222222...|  0.0|\n",
              "[0.22222222222222...|  0.0|\n",
              "[0.22222222222222...|  0.0|\n",
              "[0.22222222222222...|  0.0|\n",
              "[0.22222222222222...|  0.0|\n",
              "[0.25000000000000...|  1.0|\n",
              "[0.25000000000000...|  0.0|\n",
              "[0.25000000000000...|  0.0|\n",
              "[0.25000000000000...|  0.0|\n",
              "[0.27777777777777...|  0.0|\n",
              "[0.30555555555555...|  0.0|\n",
              "[0.30555555555555...|  0.0|\n",
              "[0.33333333333333...|  1.0|\n",
              "[0.33333333333333...|  1.0|\n",
              "[0.33333333333333...|  1.0|\n",
              "[0.33333333333333...|  0.0|\n",
              "[0.33333333333333...|  0.0|\n",
              "[0.36111111111111...|  1.0|\n",
              "[0.36111111111111...|  1.0|\n",
              "[0.36111111111111...|  1.0|\n",
              "[0.38888888888888...|  1.0|\n",
              "[0.38888888888888...|  1.0|\n",
              "[0.38888888888888...|  0.0|\n",
              "[0.38888888888888...|  0.0|\n",
              "[0.41666666666666...|  1.0|\n",
              "[0.41666666666666...|  1.0|\n",
              "[0.41666666666666...|  1.0|\n",
              "[0.44444444444444...|  1.0|\n",
              "[0.47222222222222...|  1.0|\n",
              "[0.47222222222222...|  1.0|\n",
              "[0.47222222222222...|  1.0|\n",
              "[0.49999999999999...|  1.0|\n",
              "[0.49999999999999...|  1.0|\n",
              "[0.49999999999999...|  1.0|\n",
              "[0.49999999999999...|  1.0|\n",
              "[0.52777777777777...|  1.0|\n",
              "[0.55555555555555...|  1.0|\n",
              "[0.55555555555555...|  1.0|\n",
              "[0.58333333333333...|  1.0|\n",
              "[0.58333333333333...|  1.0|\n",
              "[0.61111111111111...|  1.0|\n",
              "[0.63888888888888...|  1.0|\n",
              "[0.63888888888888...|  1.0|\n",
              "[0.66666666666666...|  1.0|\n",
              "[0.66666666666666...|  1.0|\n",
              "[0.66666666666666...|  1.0|\n",
              "[0.69444444444444...|  1.0|\n",
              "+--------------------+-----+\n",
              "\n",
              "</div>"
            ]
          },
          "metadata": {
            "tags": []
          }
        }
      ]
    },
    {
      "cell_type": "code",
      "metadata": {
        "id": "5CWKsbSJB-9K",
        "outputId": "544a5972-8f61-4a20-afe3-920b2d3b4f98"
      },
      "source": [
        "print(\"Dados para treinamento: \", train.count())\n",
        "print(\"Dados para teste: \", test.count())"
      ],
      "execution_count": null,
      "outputs": [
        {
          "output_type": "display_data",
          "data": {
            "text/html": [
              "<style scoped>\n",
              "  .ansiout {\n",
              "    display: block;\n",
              "    unicode-bidi: embed;\n",
              "    white-space: pre-wrap;\n",
              "    word-wrap: break-word;\n",
              "    word-break: break-all;\n",
              "    font-family: \"Source Code Pro\", \"Menlo\", monospace;;\n",
              "    font-size: 13px;\n",
              "    color: #555;\n",
              "    margin-left: 4px;\n",
              "    line-height: 19px;\n",
              "  }\n",
              "</style>\n",
              "<div class=\"ansiout\">Dados para treinamento:  70\n",
              "Dados para teste:  30\n",
              "</div>"
            ]
          },
          "metadata": {
            "tags": []
          }
        }
      ]
    },
    {
      "cell_type": "markdown",
      "metadata": {
        "id": "KSvucJJsB-9L"
      },
      "source": [
        "Definindo o Algoritmo"
      ]
    },
    {
      "cell_type": "code",
      "metadata": {
        "id": "XK-YhIonB-9L",
        "outputId": "f3406cc1-5c19-4a54-ea55-1dea5726f461"
      },
      "source": [
        "from pyspark.mllib.classification import SVMWithSGD, SVMModel  #modelo de svm\n",
        "from pyspark.ml.evaluation import MulticlassClassificationEvaluator  #utilizada para encontrar as métricas de desempenho\n",
        "from pyspark.mllib.linalg import Vectors  #vetores densos"
      ],
      "execution_count": null,
      "outputs": [
        {
          "output_type": "display_data",
          "data": {
            "text/html": [
              "<style scoped>\n",
              "  .ansiout {\n",
              "    display: block;\n",
              "    unicode-bidi: embed;\n",
              "    white-space: pre-wrap;\n",
              "    word-wrap: break-word;\n",
              "    word-break: break-all;\n",
              "    font-family: \"Source Code Pro\", \"Menlo\", monospace;;\n",
              "    font-size: 13px;\n",
              "    color: #555;\n",
              "    margin-left: 4px;\n",
              "    line-height: 19px;\n",
              "  }\n",
              "</style>\n",
              "<div class=\"ansiout\"></div>"
            ]
          },
          "metadata": {
            "tags": []
          }
        }
      ]
    },
    {
      "cell_type": "code",
      "metadata": {
        "id": "bdb97rxtB-9M",
        "outputId": "0a9d19a6-f1c7-4615-d6bf-98e580d59dda"
      },
      "source": [
        "from pyspark.mllib.util import MLUtils\n",
        "df_train = MLUtils.convertVectorColumnsFromML(train, \"features\")\n",
        "df_test = MLUtils.convertVectorColumnsFromML(test, \"features\")"
      ],
      "execution_count": null,
      "outputs": [
        {
          "output_type": "display_data",
          "data": {
            "text/html": [
              "<style scoped>\n",
              "  .ansiout {\n",
              "    display: block;\n",
              "    unicode-bidi: embed;\n",
              "    white-space: pre-wrap;\n",
              "    word-wrap: break-word;\n",
              "    word-break: break-all;\n",
              "    font-family: \"Source Code Pro\", \"Menlo\", monospace;;\n",
              "    font-size: 13px;\n",
              "    color: #555;\n",
              "    margin-left: 4px;\n",
              "    line-height: 19px;\n",
              "  }\n",
              "</style>\n",
              "<div class=\"ansiout\"></div>"
            ]
          },
          "metadata": {
            "tags": []
          }
        }
      ]
    },
    {
      "cell_type": "code",
      "metadata": {
        "id": "qShwsEF-B-9N",
        "outputId": "64875381-c175-4066-8546-c7bef7b58970"
      },
      "source": [
        "df_train.show(5,False)"
      ],
      "execution_count": null,
      "outputs": [
        {
          "output_type": "display_data",
          "data": {
            "text/html": [
              "<style scoped>\n",
              "  .ansiout {\n",
              "    display: block;\n",
              "    unicode-bidi: embed;\n",
              "    white-space: pre-wrap;\n",
              "    word-wrap: break-word;\n",
              "    word-break: break-all;\n",
              "    font-family: \"Source Code Pro\", \"Menlo\", monospace;;\n",
              "    font-size: 13px;\n",
              "    color: #555;\n",
              "    margin-left: 4px;\n",
              "    line-height: 19px;\n",
              "  }\n",
              "</style>\n",
              "<div class=\"ansiout\">+----------------------------------------------------------------------------------+-----+\n",
              "features                                                                          |label|\n",
              "+----------------------------------------------------------------------------------+-----+\n",
              "[0.027777777777777922,0.41666666666666663,0.05084745762711865,0.04166666666666667]|0.0  |\n",
              "[0.027777777777777922,0.5,0.05084745762711865,0.04166666666666667]                |0.0  |\n",
              "[0.055555555555555594,0.1249999999999999,0.05084745762711865,0.08333333333333333] |0.0  |\n",
              "[0.08333333333333327,0.4583333333333333,0.0847457627118644,0.04166666666666667]   |0.0  |\n",
              "[0.08333333333333327,0.5,0.06779661016949151,0.04166666666666667]                 |0.0  |\n",
              "+----------------------------------------------------------------------------------+-----+\n",
              "only showing top 5 rows\n",
              "\n",
              "</div>"
            ]
          },
          "metadata": {
            "tags": []
          }
        }
      ]
    },
    {
      "cell_type": "code",
      "metadata": {
        "id": "rJcuf4_LB-9N",
        "outputId": "09f18f65-e186-4c71-961b-08a22f3f59a5"
      },
      "source": [
        "from pyspark.mllib.regression import LabeledPoint  #cria a \"linha\" (características e label) a ser utilizada\n",
        "\n",
        "trainingData = df_train.rdd.map(lambda row:LabeledPoint(row.label,row.features))  #aplica o label ao treinamento\n",
        "testingData = df_test.rdd.map(lambda row:LabeledPoint(row.label,row.features))  #aplica o label ao teste"
      ],
      "execution_count": null,
      "outputs": [
        {
          "output_type": "display_data",
          "data": {
            "text/html": [
              "<style scoped>\n",
              "  .ansiout {\n",
              "    display: block;\n",
              "    unicode-bidi: embed;\n",
              "    white-space: pre-wrap;\n",
              "    word-wrap: break-word;\n",
              "    word-break: break-all;\n",
              "    font-family: \"Source Code Pro\", \"Menlo\", monospace;;\n",
              "    font-size: 13px;\n",
              "    color: #555;\n",
              "    margin-left: 4px;\n",
              "    line-height: 19px;\n",
              "  }\n",
              "</style>\n",
              "<div class=\"ansiout\"></div>"
            ]
          },
          "metadata": {
            "tags": []
          }
        }
      ]
    },
    {
      "cell_type": "code",
      "metadata": {
        "id": "tioZy_TUB-9O",
        "outputId": "1a9f8b94-f925-4b54-a3c4-49de859745b7"
      },
      "source": [
        "for xs in trainingData.take(10):\n",
        "        print(xs)"
      ],
      "execution_count": null,
      "outputs": [
        {
          "output_type": "display_data",
          "data": {
            "text/html": [
              "<style scoped>\n",
              "  .ansiout {\n",
              "    display: block;\n",
              "    unicode-bidi: embed;\n",
              "    white-space: pre-wrap;\n",
              "    word-wrap: break-word;\n",
              "    word-break: break-all;\n",
              "    font-family: \"Source Code Pro\", \"Menlo\", monospace;;\n",
              "    font-size: 13px;\n",
              "    color: #555;\n",
              "    margin-left: 4px;\n",
              "    line-height: 19px;\n",
              "  }\n",
              "</style>\n",
              "<div class=\"ansiout\">(0.0,[0.027777777777777922,0.41666666666666663,0.05084745762711865,0.04166666666666667])\n",
              "(0.0,[0.027777777777777922,0.5,0.05084745762711865,0.04166666666666667])\n",
              "(0.0,[0.055555555555555594,0.1249999999999999,0.05084745762711865,0.08333333333333333])\n",
              "(0.0,[0.08333333333333327,0.4583333333333333,0.0847457627118644,0.04166666666666667])\n",
              "(0.0,[0.08333333333333327,0.5,0.06779661016949151,0.04166666666666667])\n",
              "(0.0,[0.08333333333333327,0.5833333333333333,0.06779661016949151,0.08333333333333333])\n",
              "(0.0,[0.08333333333333327,0.6666666666666666,0.0,0.04166666666666667])\n",
              "(0.0,[0.11111111111111119,0.5,0.05084745762711865,0.04166666666666667])\n",
              "(0.0,[0.11111111111111119,0.5,0.1016949152542373,0.04166666666666667])\n",
              "(0.0,[0.13888888888888887,0.41666666666666663,0.06779661016949151,0.0])\n",
              "</div>"
            ]
          },
          "metadata": {
            "tags": []
          }
        }
      ]
    },
    {
      "cell_type": "code",
      "metadata": {
        "id": "XY78qMZFB-9O",
        "outputId": "7b7f1325-4f35-4260-8b20-408bf0170a0d"
      },
      "source": [
        "#contrução do modelo\n",
        "modelSVM = SVMWithSGD.train(trainingData, iterations=100)"
      ],
      "execution_count": null,
      "outputs": [
        {
          "output_type": "display_data",
          "data": {
            "text/html": [
              "<style scoped>\n",
              "  .ansiout {\n",
              "    display: block;\n",
              "    unicode-bidi: embed;\n",
              "    white-space: pre-wrap;\n",
              "    word-wrap: break-word;\n",
              "    word-break: break-all;\n",
              "    font-family: \"Source Code Pro\", \"Menlo\", monospace;;\n",
              "    font-size: 13px;\n",
              "    color: #555;\n",
              "    margin-left: 4px;\n",
              "    line-height: 19px;\n",
              "  }\n",
              "</style>\n",
              "<div class=\"ansiout\"></div>"
            ]
          },
          "metadata": {
            "tags": []
          }
        }
      ]
    },
    {
      "cell_type": "code",
      "metadata": {
        "id": "brl_2jqiB-9P",
        "outputId": "d33136b8-b986-4fc7-8f47-61f7451c60cc"
      },
      "source": [
        "#realizando a previsão\n",
        "labelsAndPreds = testingData.map(lambda p: (p.label, modelSVM.predict(p.features)))\n",
        "trainErr = labelsAndPreds.filter(lambda lp: lp[0] != lp[1]).count() / float(testingData.count())\n",
        "print(\"Erro na previsão: \",trainErr)"
      ],
      "execution_count": null,
      "outputs": [
        {
          "output_type": "display_data",
          "data": {
            "text/html": [
              "<style scoped>\n",
              "  .ansiout {\n",
              "    display: block;\n",
              "    unicode-bidi: embed;\n",
              "    white-space: pre-wrap;\n",
              "    word-wrap: break-word;\n",
              "    word-break: break-all;\n",
              "    font-family: \"Source Code Pro\", \"Menlo\", monospace;;\n",
              "    font-size: 13px;\n",
              "    color: #555;\n",
              "    margin-left: 4px;\n",
              "    line-height: 19px;\n",
              "  }\n",
              "</style>\n",
              "<div class=\"ansiout\">Erro na previsão:  0.0\n",
              "</div>"
            ]
          },
          "metadata": {
            "tags": []
          }
        }
      ]
    }
  ]
}