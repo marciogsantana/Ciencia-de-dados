{
  "nbformat": 4,
  "nbformat_minor": 0,
  "metadata": {
    "kernelspec": {
      "display_name": "Python 3",
      "language": "python",
      "name": "python3"
    },
    "language_info": {
      "codemirror_mode": {
        "name": "ipython",
        "version": 3
      },
      "file_extension": ".py",
      "mimetype": "text/x-python",
      "name": "python",
      "nbconvert_exporter": "python",
      "pygments_lexer": "ipython3",
      "version": "3.7.4"
    },
    "colab": {
      "name": "static_count_word.ipynb",
      "provenance": [],
      "collapsed_sections": [],
      "include_colab_link": true
    }
  },
  "cells": [
    {
      "cell_type": "markdown",
      "metadata": {
        "id": "view-in-github",
        "colab_type": "text"
      },
      "source": [
        "<a href=\"https://colab.research.google.com/github/marciogsantana/Ciencia-de-dados/blob/main/static_count_word.ipynb\" target=\"_parent\"><img src=\"https://colab.research.google.com/assets/colab-badge.svg\" alt=\"Open In Colab\"/></a>"
      ]
    },
    {
      "cell_type": "markdown",
      "metadata": {
        "id": "nN5qIARF30MH"
      },
      "source": [
        "**Contar Palavras Estatica**"
      ]
    },
    {
      "cell_type": "code",
      "metadata": {
        "id": "5pm75aK930ML",
        "outputId": "e3803c73-d9b7-42b3-fa39-1a9a43a9ef85"
      },
      "source": [
        "spark"
      ],
      "execution_count": null,
      "outputs": [
        {
          "output_type": "execute_result",
          "data": {
            "text/html": [
              "\n",
              "            <div>\n",
              "                <p><b>SparkSession - hive</b></p>\n",
              "                \n",
              "        <div>\n",
              "            <p><b>SparkContext</b></p>\n",
              "\n",
              "            <p><a href=\"http://10.0.2.15:4040\">Spark UI</a></p>\n",
              "\n",
              "            <dl>\n",
              "              <dt>Version</dt>\n",
              "                <dd><code>v2.4.4</code></dd>\n",
              "              <dt>Master</dt>\n",
              "                <dd><code>local[*]</code></dd>\n",
              "              <dt>AppName</dt>\n",
              "                <dd><code>PySparkShell</code></dd>\n",
              "            </dl>\n",
              "        </div>\n",
              "        \n",
              "            </div>\n",
              "        "
            ],
            "text/plain": [
              "<pyspark.sql.session.SparkSession at 0x7fe3945f1690>"
            ]
          },
          "metadata": {
            "tags": []
          },
          "execution_count": 2
        }
      ]
    },
    {
      "cell_type": "code",
      "metadata": {
        "id": "BlWa-DhD30MN"
      },
      "source": [
        "#cria a seção a ser utilizada pelo spark\n",
        "from pyspark.sql import SparkSession\n",
        "spark = SparkSession.builder.appName('abc').getOrCreate()\n"
      ],
      "execution_count": null,
      "outputs": []
    },
    {
      "cell_type": "code",
      "metadata": {
        "id": "Bg5k0SML30MO"
      },
      "source": [
        "#lendo o arquivo de texto\n",
        "read_file = spark\\\n",
        ".read\\\n",
        ".format(\"txt\")\\\n",
        ".option(\"inferSchema\", \"true\")\\\n",
        ".text(\"/home/marcio/Documents/Aulas_PFC/arquivoTexto.txt\")"
      ],
      "execution_count": null,
      "outputs": []
    },
    {
      "cell_type": "code",
      "metadata": {
        "id": "rVeXDTow30MP",
        "outputId": "0fe103f9-1df6-43db-c13c-1f08985c681a"
      },
      "source": [
        "#print do esquema do arquivo lido\n",
        "read_file.printSchema()"
      ],
      "execution_count": null,
      "outputs": [
        {
          "output_type": "stream",
          "text": [
            "root\n",
            " |-- value: string (nullable = true)\n",
            "\n"
          ],
          "name": "stdout"
        }
      ]
    },
    {
      "cell_type": "code",
      "metadata": {
        "id": "5I813hZK30MS",
        "outputId": "77f24aa1-5337-4352-c1b7-911d2bdba450"
      },
      "source": [
        "#verifica se é um streaming\n",
        "read_file.isStreaming"
      ],
      "execution_count": null,
      "outputs": [
        {
          "output_type": "execute_result",
          "data": {
            "text/plain": [
              "False"
            ]
          },
          "metadata": {
            "tags": []
          },
          "execution_count": 6
        }
      ]
    },
    {
      "cell_type": "code",
      "metadata": {
        "id": "BTQA04nx30MT"
      },
      "source": [
        "#Define as bibliotecas a serem utilizadas\n",
        "from pyspark.sql.functions import explode  #separa os elementos de uma linha em multiplas linhas\n",
        "from pyspark.sql.functions import split  #divide as linhas"
      ],
      "execution_count": null,
      "outputs": []
    },
    {
      "cell_type": "code",
      "metadata": {
        "id": "zCUil0nE30MU"
      },
      "source": [
        "# Divide as linhas do arquivo\n",
        "words = read_file.select(\n",
        "   explode(\n",
        "       split(read_file.value, \" \")\n",
        "   ).alias(\"word\")\n",
        ")\n",
        "\n",
        "# cria o novo dataframe a ser responsável por contar a quantidade de palavras digitadas\n",
        "wordCounts = words.groupBy(\"word\").count()"
      ],
      "execution_count": null,
      "outputs": []
    },
    {
      "cell_type": "code",
      "metadata": {
        "id": "cRtvTfut30MV",
        "outputId": "89ee260c-5547-48cb-f5d0-de03fbdb7580"
      },
      "source": [
        "#realiza o \"plot\" das palavras\n",
        "wordCounts.show()"
      ],
      "execution_count": null,
      "outputs": [
        {
          "output_type": "stream",
          "text": [
            "+----------+-----+\n",
            "|      word|count|\n",
            "+----------+-----+\n",
            "|    minhas|    1|\n",
            "|      vida|    1|\n",
            "|esquecerei|    2|\n",
            "|   caminho|    6|\n",
            "|       tão|    1|\n",
            "|      meio|    6|\n",
            "|    pedra.|    2|\n",
            "|     pedra|    5|\n",
            "|        me|    2|\n",
            "|        de|    1|\n",
            "|     tinha|    7|\n",
            "|     Nunca|    2|\n",
            "|       que|    1|\n",
            "|        No|    1|\n",
            "|   retinas|    1|\n",
            "|        do|    6|\n",
            "|       uma|    7|\n",
            "|        no|    5|\n",
            "|fatigadas.|    1|\n",
            "|          |    1|\n",
            "+----------+-----+\n",
            "only showing top 20 rows\n",
            "\n"
          ],
          "name": "stdout"
        }
      ]
    },
    {
      "cell_type": "code",
      "metadata": {
        "id": "JlWycA_S30MV"
      },
      "source": [
        ""
      ],
      "execution_count": null,
      "outputs": []
    }
  ]
}