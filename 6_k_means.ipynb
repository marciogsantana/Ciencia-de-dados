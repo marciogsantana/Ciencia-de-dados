{
  "nbformat": 4,
  "nbformat_minor": 0,
  "metadata": {
    "jupytext": {
      "cell_metadata_filter": "-all",
      "main_language": "python",
      "notebook_metadata_filter": "-all"
    },
    "kernelspec": {
      "display_name": "Python 3",
      "language": "python",
      "name": "python3"
    },
    "language_info": {
      "codemirror_mode": {
        "name": "ipython",
        "version": 3
      },
      "file_extension": ".py",
      "mimetype": "text/x-python",
      "name": "python",
      "nbconvert_exporter": "python",
      "pygments_lexer": "ipython3",
      "version": "3.7.6"
    },
    "colab": {
      "name": "6.k-means.ipynb",
      "provenance": [],
      "collapsed_sections": [],
      "include_colab_link": true
    }
  },
  "cells": [
    {
      "cell_type": "markdown",
      "metadata": {
        "id": "view-in-github",
        "colab_type": "text"
      },
      "source": [
        "<a href=\"https://colab.research.google.com/github/marciogsantana/Ciencia-de-dados/blob/main/6_k_means.ipynb\" target=\"_parent\"><img src=\"https://colab.research.google.com/assets/colab-badge.svg\" alt=\"Open In Colab\"/></a>"
      ]
    },
    {
      "cell_type": "code",
      "metadata": {
        "id": "kDLZammhXYU5"
      },
      "source": [
        "# Formação Cientista de Dados - Fernando Amaral e Jones Granatyr\n",
        "# Agrupamento com k-means"
      ],
      "execution_count": null,
      "outputs": []
    },
    {
      "cell_type": "code",
      "metadata": {
        "id": "j0VMlEbjXYVB"
      },
      "source": [
        "# Importação das bibliotecas\n",
        "from sklearn import datasets\n",
        "import numpy as np\n",
        "from sklearn.metrics import confusion_matrix\n",
        "import matplotlib.pyplot as plt\n",
        "from sklearn.cluster import KMeans"
      ],
      "execution_count": null,
      "outputs": []
    },
    {
      "cell_type": "code",
      "metadata": {
        "id": "WvdafV7cXYVC"
      },
      "source": [
        "# Carregamento da base de dados \n",
        "iris = datasets.load_iris()\n",
        "# visualização de quantos registros existem por classe\n",
        "unicos, quantidade = np.unique(iris.target, return_counts = True)\n",
        "unicos"
      ],
      "execution_count": null,
      "outputs": []
    },
    {
      "cell_type": "code",
      "metadata": {
        "id": "H-89ak6LXYVD"
      },
      "source": [
        "quantidade"
      ],
      "execution_count": null,
      "outputs": []
    },
    {
      "cell_type": "code",
      "metadata": {
        "id": "XIeQb-H7XYVD"
      },
      "source": [
        "# Agrupamento com k-means, utilizando 3 clusters (de acordo com a base de dados)\n",
        "cluster = KMeans(n_clusters = 3)\n",
        "cluster.fit(iris.data)"
      ],
      "execution_count": null,
      "outputs": []
    },
    {
      "cell_type": "code",
      "metadata": {
        "id": "sO7HpSdcXYVD"
      },
      "source": [
        "# Visualização dos três centroides\n",
        "centroides = cluster.cluster_centers_\n",
        "centroides"
      ],
      "execution_count": null,
      "outputs": []
    },
    {
      "cell_type": "code",
      "metadata": {
        "id": "MMf6upTMXYVE"
      },
      "source": [
        "# Visualização dos grupos que cada registro foi associado\n",
        "previsoes = cluster.labels_\n",
        "previsoes"
      ],
      "execution_count": null,
      "outputs": []
    },
    {
      "cell_type": "code",
      "metadata": {
        "id": "yJHu2MrZXYVE"
      },
      "source": [
        "# Contagem dos registros por classe\n",
        "unicos2, quantidade2 = np.unique(previsoes, return_counts = True)\n",
        "unicos2"
      ],
      "execution_count": null,
      "outputs": []
    },
    {
      "cell_type": "code",
      "metadata": {
        "id": "TimDwNziXYVE"
      },
      "source": [
        "quantidade2"
      ],
      "execution_count": null,
      "outputs": []
    },
    {
      "cell_type": "code",
      "metadata": {
        "id": "8Gz0etWJXYVF"
      },
      "source": [
        "# Geração da matriz de contingência para comparar os grupos com a base de dados\n",
        "resultados = confusion_matrix(iris.target, previsoes)\n",
        "resultados"
      ],
      "execution_count": null,
      "outputs": []
    },
    {
      "cell_type": "code",
      "metadata": {
        "id": "vSkM2B4ZXYVF"
      },
      "source": [
        "# Geração do gráfico com os clusters gerados, considerando para um (previsoes 0, 1 ou 2)\n",
        "# Usamos somente as colunas 0 e 1 da base de dados original para termos 2 dimensões\n",
        "plt.scatter(iris.data[previsoes == 0, 0], iris.data[previsoes == 0, 1], \n",
        "            c = 'green', label = 'Setosa')\n",
        "plt.scatter(iris.data[previsoes == 1, 0], iris.data[previsoes == 1, 1], \n",
        "            c = 'red', label = 'Versicolor')\n",
        "plt.scatter(iris.data[previsoes == 2, 0], iris.data[previsoes == 2, 1], \n",
        "            c = 'blue', label = 'Virgica')\n",
        "plt.legend()"
      ],
      "execution_count": null,
      "outputs": []
    },
    {
      "cell_type": "code",
      "metadata": {
        "id": "BliziUeBXYVF"
      },
      "source": [
        ""
      ],
      "execution_count": null,
      "outputs": []
    }
  ]
}